{
 "cells": [
  {
   "cell_type": "markdown",
   "metadata": {},
   "source": [
    "##### Q.1) Write a python program which searches all the product under a particular product vertical from www.amazon.in. The product verticals to be searched will be taken as input from user. For e.g. If user input is ‘guitar’. Then search for guitars."
   ]
  },
  {
   "cell_type": "code",
   "execution_count": 1,
   "metadata": {},
   "outputs": [],
   "source": [
    "import selenium\n",
    "import pandas as pd \n",
    "from selenium import webdriver\n",
    "import time \n",
    "from selenium.common.exceptions import NoSuchElementException"
   ]
  },
  {
   "cell_type": "code",
   "execution_count": 2,
   "metadata": {},
   "outputs": [],
   "source": [
    "driver = webdriver.Chrome('chromedriver.exe')\n",
    "url = \"https://www.amazon.in/\"\n",
    "driver.get(url)"
   ]
  },
  {
   "cell_type": "code",
   "execution_count": 3,
   "metadata": {},
   "outputs": [
    {
     "data": {
      "text/plain": [
       "<selenium.webdriver.remote.webelement.WebElement (session=\"d3171969e4d9e5152a6bf25f501c8c0a\", element=\"af91ef2e-d99a-422c-9641-f763afe0389d\")>"
      ]
     },
     "execution_count": 3,
     "metadata": {},
     "output_type": "execute_result"
    }
   ],
   "source": [
    "varsearch = driver.find_element_by_id(\"twotabsearchtextbox\")\n",
    "varsearch"
   ]
  },
  {
   "cell_type": "code",
   "execution_count": 4,
   "metadata": {},
   "outputs": [
    {
     "name": "stdout",
     "output_type": "stream",
     "text": [
      "Enter the product name:Guitars\n"
     ]
    }
   ],
   "source": [
    "bar = input(\"Enter the product name:\")\n",
    "varsearch.send_keys(bar)"
   ]
  },
  {
   "cell_type": "code",
   "execution_count": 5,
   "metadata": {},
   "outputs": [
    {
     "data": {
      "text/plain": [
       "<selenium.webdriver.remote.webelement.WebElement (session=\"d3171969e4d9e5152a6bf25f501c8c0a\", element=\"fab771c4-37ad-4936-9226-fd84a1835ef8\")>"
      ]
     },
     "execution_count": 5,
     "metadata": {},
     "output_type": "execute_result"
    }
   ],
   "source": [
    "varbutton = driver.find_element_by_xpath(\"(//input[@class='nav-input nav-progressive-attribute'])[2]\")\n",
    "varbutton"
   ]
  },
  {
   "cell_type": "code",
   "execution_count": 6,
   "metadata": {},
   "outputs": [],
   "source": [
    "varbutton.click()"
   ]
  },
  {
   "cell_type": "markdown",
   "metadata": {},
   "source": [
    "###### Q.2)In the above question, now scrape the following details of each product listed in first 3 pages of your search results and save it in a data frame and csv."
   ]
  },
  {
   "cell_type": "code",
   "execution_count": 7,
   "metadata": {},
   "outputs": [],
   "source": [
    "url0 = []\n",
    "for i in driver.find_elements_by_xpath(\"//a[@class='a-link-normal a-text-normal']\"):\n",
    "    url0.append(i.get_attribute(\"href\"))\n",
    "    "
   ]
  },
  {
   "cell_type": "code",
   "execution_count": 8,
   "metadata": {},
   "outputs": [
    {
     "data": {
      "text/plain": [
       "61"
      ]
     },
     "execution_count": 8,
     "metadata": {},
     "output_type": "execute_result"
    }
   ],
   "source": [
    "len(url0)"
   ]
  },
  {
   "cell_type": "code",
   "execution_count": 9,
   "metadata": {},
   "outputs": [],
   "source": [
    "button = driver.find_element_by_xpath(\"//a[@class='s-pagination-item s-pagination-next s-pagination-button s-pagination-separator']\")\n",
    "button.click()"
   ]
  },
  {
   "cell_type": "code",
   "execution_count": 10,
   "metadata": {},
   "outputs": [],
   "source": [
    "for a in driver.find_elements_by_xpath(\"//a[@class='a-link-normal a-text-normal']\"):\n",
    "    url0.append(a.get_attribute(\"href\"))"
   ]
  },
  {
   "cell_type": "code",
   "execution_count": 11,
   "metadata": {},
   "outputs": [
    {
     "data": {
      "text/plain": [
       "122"
      ]
     },
     "execution_count": 11,
     "metadata": {},
     "output_type": "execute_result"
    }
   ],
   "source": [
    "len(url0)"
   ]
  },
  {
   "cell_type": "code",
   "execution_count": 12,
   "metadata": {},
   "outputs": [],
   "source": [
    "button = driver.find_element_by_xpath(\"//a[@class='s-pagination-item s-pagination-next s-pagination-button s-pagination-separator']\")\n",
    "button.click()"
   ]
  },
  {
   "cell_type": "code",
   "execution_count": 13,
   "metadata": {},
   "outputs": [],
   "source": [
    "for a in driver.find_elements_by_xpath(\"//a[@class='a-link-normal a-text-normal']\"):\n",
    "    url0.append(a.get_attribute(\"href\"))"
   ]
  },
  {
   "cell_type": "code",
   "execution_count": 14,
   "metadata": {},
   "outputs": [
    {
     "data": {
      "text/plain": [
       "183"
      ]
     },
     "execution_count": 14,
     "metadata": {},
     "output_type": "execute_result"
    }
   ],
   "source": [
    "len(url0)"
   ]
  },
  {
   "cell_type": "code",
   "execution_count": 15,
   "metadata": {},
   "outputs": [],
   "source": [
    "Brand = []\n",
    "Product_name = []\n",
    "Rating = []\n",
    "Exchange = []\n",
    "Availability = []\n",
    "url_pro = []\n",
    "Excepted_Delivery = []\n",
    "Price = []\n",
    "No_ratings = []\n",
    "        \n",
    "for i in url0:\n",
    "    driver.get(i)\n",
    "    time.sleep(3)\n",
    "    \n",
    "    try:\n",
    "        brand = driver.find_element_by_xpath(\"(//td[@class='a-span9'])[1]\")\n",
    "        Brand.append(brand.text)\n",
    "    except:\n",
    "        Brand.append(\"--\")\n",
    "    try:\n",
    "        name = driver.find_element_by_xpath(\"//span[@class='a-size-large product-title-word-break']\")\n",
    "        Product_name.append(name.text)\n",
    "    except:\n",
    "        Product_name.append(\"--\")\n",
    "    try:\n",
    "        rate = driver.find_element_by_xpath(\"//span[@class='a-size-medium a-color-base']\")\n",
    "        Rating.append(rate.text)\n",
    "    except:\n",
    "         Rating.append(\"--\")\n",
    "\n",
    "    try:\n",
    "        exchange= driver.find_element_by_xpath(\"(//div[@class='a-section a-spacing-none icon-content'])[2]\")\n",
    "        Exchange.append(exchange.text)\n",
    "    except:\n",
    "        Exchange.append(\"--\")\n",
    "    try:\n",
    "        avail = driver.find_element_by_xpath(\"//span[@class='a-size-medium a-color-success']\")\n",
    "        Availability.append(avail.text)\n",
    "    except:\n",
    "        Availability.append(\"--\")\n",
    "\n"
   ]
  },
  {
   "cell_type": "code",
   "execution_count": 16,
   "metadata": {},
   "outputs": [],
   "source": [
    "for i in url0:\n",
    "    driver.get(i)\n",
    "    time.sleep(3)        \n",
    "    try:\n",
    "        price = driver.find_element_by_xpath(\"//span[@class='a-size-medium a-color-price priceBlockBuyingPriceString']\")\n",
    "        Price.append(price.text)\n",
    "    except:\n",
    "        Price.append(\"--\")\n",
    "        \n",
    "    try:\n",
    "        norating = driver.find_element_by_xpath(\"(//span[@class='a-size-base a-color-secondary'])[2]\")\n",
    "        No_ratings.append(norating.text)\n",
    "    except:\n",
    "         No_ratings.append(\"--\")\n",
    "            \n",
    "    try:\n",
    "        excepted = driver.find_element_by_xpath(\"(((//div[@class='a-section a-spacing-mini'])[1])//b)[1]\")\n",
    "        Excepted_Delivery.append(excepted.text)\n",
    "    except:\n",
    "        Excepted_Delivery.append(\"--\")"
   ]
  },
  {
   "cell_type": "code",
   "execution_count": 17,
   "metadata": {},
   "outputs": [
    {
     "name": "stdout",
     "output_type": "stream",
     "text": [
      "['Medellin', 'Kadence', 'Juârez', 'Kadence', 'Juârez', 'JUAREZ', 'Intern', 'Kadence', 'Juârez', 'JUAREZ', 'HOVNER', 'JUAREZ', 'Intern', 'JUAREZ', 'HOVNER', 'Juârez', 'Henrix', 'Kadence', 'JUAREZ', 'Intern', 'Kadence', 'Juârez', 'Blueberry', 'Kadence', 'Ibanez', 'JUAREZ', 'YAMAHA', 'YAMAHA', 'Martin Smith', 'YAMAHA', 'JUAREZ', 'Henrix', 'JUAREZ', 'Fender', 'EE', 'DEVICE OF URBAN INFOTECH', 'MUSTANG', 'MUSTANG', 'HRB MUSICALS', 'JUAREZ', 'VAULT', \"D'Addario\", 'JUAREZ', 'YAMAHA', 'SAAN Life Science', 'Kordz', 'Juârez', 'Henrix', 'Juârez', 'MILANI ENTERPRISE', 'JUAREZ', 'PRS Guitars', 'JUAREZ', 'JUAREZ', 'GIVSUN', 'JUAREZ', 'Juârez', 'JUAREZ', 'JUAREZ', 'Juârez', 'ARCTIC', 'Juârez', 'Juârez', 'JUAREZ', 'ARCTIC', 'Crizer', 'DIKUJI ENTERPRISE', 'PSB', 'PERLMAN', 'VAULT', 'Standzo', 'JUAREZ', '--', 'JUAREZ', 'Jiya', 'GIVSUN', 'Pluto', 'Cort', 'Wah Notion', 'KREEPO', 'Ibanez', 'Blueberry', 'Cort', 'ARCTIC', 'Blueberry', 'VAULT', 'JUAREZ', 'Asago', 'YAMAHA', 'YAMAHA', 'JUAREZ', 'JUAREZ', 'Kadence', 'Cort', 'PRS Guitars', 'JUAREZ', '--', 'Fender', 'Fender', 'GIVSON', 'Martin Smith', 'VAULT', 'Generic', 'Kordz', 'JUAREZ', 'Swami Enterprise', 'ARCTIC', '--', 'JUAREZ', '--', 'Belear', 'Fender', 'Belear', 'JUAREZ', 'Fender', 'Fender', 'TECHBLAZE', 'JUAREZ', 'Gator', 'JUAREZ', 'Blueberry', 'Kadence', '--', 'Guitar Bro', 'Blueberry', 'JUAREZ', 'YAMAHA', 'TECHBLAZE', 'Blueberry', 'Pluto', 'Kadence', 'Epiphone', 'Luximal', 'YAMAHA', 'Giuson', 'JUAREZ', 'YAMAHA', 'YAMAHA', 'Juârez', '--', 'Aarvi', 'SG Musical', 'Blueberry', 'Blueberry', 'Blueberry', 'Blueberry', 'Pluto', 'Hrb musicals', 'Blueberry', 'Kadence', 'Fender', '--', 'Epiphone', 'Toyvilla', 'Ibanez', 'Guitar Bro', 'Calldrishe', 'Cort', 'GIVSUN', 'Grail', 'DALUCI', 'DIKUJI ENTERPRISE', 'Ibanez', 'Fender', 'Epiphone', 'YAMAHA', 'Ibanez', 'OFKLADE', '--', 'JUAREZ', 'Decdeal', '--', 'Kramer', 'Intern', 'Intern', '--', '--', 'JUAREZ', 'JUAREZ', '--', 'JUAREZ', 'Blueberry', 'Kadence']\n"
     ]
    }
   ],
   "source": [
    "print(Brand)"
   ]
  },
  {
   "cell_type": "code",
   "execution_count": 18,
   "metadata": {},
   "outputs": [
    {
     "name": "stdout",
     "output_type": "stream",
     "text": [
      "['Medellin 38in Premium All Wood Acoustic Guitar Starter Kit (Blue, Super Combo Combo with Bag, Strap, Picks, String Set, Tuner, Stand, Capo)', 'Kadence Guitar Frontier Series, Blue Acoustic Guitar with Die Cast Keys, Set of Strings, Strap, Picks, Guitar stand, Capo and Bag, Super Combo (Blue, Acoustic)', 'Juârez Acoustic Guitar, 38 Inch Cutaway, 038C with Bag, Strings, Pick and Strap, Black', 'Kadence Frontier Jumbo Semi Acoustic Guitar With Die Cast Keys Super Combo (Bag, 1 pack Strings, Strap, Picks, Capo, Tuner (natural)', 'Juârez Acoustic Guitar, 38 Inch Cutaway, 038C with Bag, Strings, Pick and Strap, Black', 'Juarez JRZ38C Acoustic Guitar, 38 Inch Cutaway with Bag (TBS Transparent Blue Sunburst)', 'Intern INT-38C Acoustic Guitar Kit, With Bag, Strings, Pick And Strap, Black', 'Kadence Guitar Acoustica Series, Electric Acoustic Guitar, Ash Wood with Pickup and Inbuilt tuner (Ash Wood, Electro Acoustic)', 'Juârez JRZ38C/WH 6 Strings Acoustic Guitar 38 Inch Cutaway, Right Handed, White with Bag, Strings, Picks and Strap', 'JUAREZ JRZ38C Right Handed Acoustic Guitar (Sunburst, 6 Strings)', 'Hovner 215 Black F-Cut Rosewood Fretboard Acoustic Guitar With Bag,Strap,1 Set of Extra Strings and 2 Picks By K-Retail', 'Juarez Acoustic Guitar, 38 Inch Cutaway with Pick Guard, 38C/RDS with Bag, Strings, Pick and Strap, Red Sunburst', 'Intern 38C Cutaway Design Black Acoustic Guitar with Picks & Carry Bag', 'Juarez Acoustic Guitar, 38 Inch Curved Body Cutaway, 38CUR with Bag, Strings, Pick and Strap, Black', 'Hovner Carlton Special Quality Rosewood Fretboard Blue Semi Acoustic Guitar With Bag,Strap,1 Set of Extra Strings and 2 Picks By K-Retail (Blue)', 'Juârez JRZ38C/ASH 6 Strings Acoustic Guitar 38 Inch Cutaway, Right Handed, Ash with Bag, Strings, Picks and Strap', 'Henrix 38 Acoustic Guitar with Die-cast Tuners and Dual-action Truss Rod - Includes Picks, Bag, Strings, Strap, Polishing Cloth and String Winder', 'Kadence Guitar Acoustica Series, Electric Acoustic Guitar, Ash Wood with Pickup and Inbuilt tuner (Ash Wood, Electro Acoustic)', 'Juarez Acoustic Guitar, 38 Inch Cutaway with Pick Guard, 38CPG with Bag, Strings, Pick and Strap, Black', 'Intern INT-38C-RD-G Cutaway Right Handed Acoustic Guitar Kit, With Bag, Strings, Pick And Strap (Red, 6 Strings)', 'Kadence Guitar Slowhand Series Premium Electric Acoustic Mahogany body Demi Cutaway Jumbo Guitar 41” Combo with Heavy Padded Bag, Instrument cable, Pro Capo, Picks, and String Set (Mahogany SH03)', 'Juârez JRZ38C/WH 6 Strings Acoustic Guitar 38 Inch Cutaway, Right Handed, White with Bag, Strings, Picks and Strap', 'Blueberry 38C IN Acoustic Guitar Kit with Bag,Belt & Picks inbuilt Truss-rod (Blue)', 'Kadence Frontier Series, Acoustic Guitar With/Wihtout EQ Die Cast Keys Combo (Bag,strap,strings and 3 picks) (Brown, Acoustic)', 'Ibanez MD39C-NT Acoustic Guitar (Natural)', 'JUAREZ Acoustic Guitar, [LEFT HANDED] 38 Inch Cutaway, 38CL/TBLS with Bag, Strings, Pick and Strap, Blue Sunburst', 'Yamaha F310 Acoustic Guitar, Tobacco Brown Sunburst', 'Yamaha F280 Acoustic Guitar, Tobacco Brown Sunburst', 'Martin Smith W-101-N-PK Acoustic Guitar Super Kit with Stand (Natural)', 'Yamaha FS100C Acoustic Guitar, Black', 'JUAREZ JRZ38CTR/BK 38 Inch Acoustic Guitar with Dual Action Truss Rod, Bag, Picks, Allen Key, Extra String Set, Black', 'Henrix 38 Acoustic Right Handed Guitar (Natural) with Die-cast Tuners and Dual-action Truss Rod - Includes Picks, Bag, Strings, Strap, Polishing Cloth and E-Book', 'JUAREZ Fiésta 41 Inch Acoustic Guitar Cutaway with Dual Action Truss Rod, 21 Frets Rosewood Fretboard & Bridge, Padded 5mm Cotton Bag, Cotton Strap, 2 Picks, Allen Key, Extra String Set, Black', 'Fender CD 60 Dread V3 DS 6 String Acoustic Guitar - Walnut Fretboard-Black', \"Exegi Enterprise 4 String Guitar Children's Musical Instrument Educational Toy Guitar Ukulele Instruments Beginner Musical Sound Toys Best Gift for Children (Brown)\", 'DEVICE OF URBAN INFOTECH Tuning Peg Silver for Acoustic Guitar Parts Tuners Keys Semi-closed Guitar String Tuning Pegs Tuner Machine Heads Knobs Tuning Keys for Acoustic & Electric Guitar 3R+3L (6PCS)', 'Guitar Tuner Tuner Guitar Tuner Clip On for Guitar Ukulele Violin Viola Bass Chromatic Tuning Modes 360 Degree Rotating Fast & Accurate', 'Mustang 46 PCS Guitar Strings Changing Kit Guitar Tool Kit Including Guitar Strings Guitar Tuner Picks Capo Pins Guitar String Cutter and Winder for Beginner', 'HRB MUSICALS Guitar black Capo b4 + 2 Guitar Wall mount with fitting + Guitar black strap/Belt (4 Guitar Picks Free)', 'JUAREZ Fiésta 41 Inch Acoustic Guitar with Dual Action Truss Rod, 21 Frets Rosewood Fretboard & Bridge, Padded 5mm Cotton Bag, Cotton Strap, 2 Picks, Allen Key, Extra String Set, Brown', 'Vault CL-20 39 Inch Classical Guitar With Bag - Natural Gloss', \"D'Addario EZ900 Acoustic Guitar Strings, Pack of 2\", 'Juarez JRZ-ST01 6-String Electric Guitar, Right Handed, Black, with Case/Bag and Picks', 'Yamaha FS100C Acoustic Guitar, Natural', 'SAAN Life Science 4-string Small Acoustic Guitar Musical Instrument Educational Learning kids Toy for Beginners - 23Inch', 'Kordz Luana Black Matt Rosewood Fretboard Acoustic Guitar With Bag,Strap,1 Set of Extra Strings and 2 Picks', 'Juârez JRZ38C/MAH 6 Strings Acoustic Guitar 38 Inch Cutaway, Right Handed, Mahogany with Bag, Strings, Picks and Strap', 'Henrix 38C Blue Burst Cutaway acoustic guitar with bag,strap, string set,4pcs picks, string winder, polish cloth, normal box (Blueburst)', 'Juârez Acoustic Guitar, 38 Inch Cutaway, JRZ38C with Bag, Strings, Pick and Strap, Red', 'Milani Enterprise Guitar 4-String Acoustic Guitar Musical Instrument for Learning (23 Inches) Brown', 'JUAREZ 38 Inch Acoustic Guitar with Dual Action Truss Rod, Bag, Picks, Allen Key, Extra String Set, Natural', 'PRS, Electric Guitar, SE Custom 24-08, 2021 Series -Eriza Verde C844EV', 'Juârez ST38 Electric Guitar Kit/Set, Right Handed, Red Sunburst RDS, With Case/Bag & Picks', 'Juarez Acoustic Guitar, [ LEFT HANDED] 38 Inch Cutaway, 38CL/BK with Bag, Strings, Pick and Strap, Black', 'Givsun G-39 Black Matt 6-String Cut A Way Right Hand Acoustic Semi-Electric Guitar With Bag And Free 1 Set String,2 Picks', 'Juarez Acoustic Guitar, 38 Inch Cutaway with Pick Guard, 38CPG with Bag, Strings, Pick and Strap, Black', 'Juârez Acoustic Guitar, 38 Inch Cutaway, JRZ38C with Bag, Strings, Pick and Strap, Blue', 'Juarez Acoustic Guitar, 38 Inch Curved Body Cutaway, 38CUR with Bag, Strings, Pick and Strap, Black', 'Juarez JRZ38C Acoustic Guitar, 38 Inch Cutaway with Bag (TBS Transparent Blue Sunburst)', 'Juârez JRZ38C/ASH 6 Strings Acoustic Guitar 38 Inch Cutaway, Right Handed, Ash with Bag, Strings, Picks and Strap', 'ARCTIC Sky series 39\" Guitar (with Truss Rod) with Bag, 3 Picks, Strap & String Set. Standard Pack Black', 'Juârez Acoustic Guitar, 38 Inch Cutaway, JRZ38C with Bag, Strings, Pick and Strap, Red', 'Juârez JRZ38C/MAH 6 Strings Acoustic Guitar 38 Inch Cutaway, Right Handed, Mahogany with Bag, Strings, Picks and Strap', 'JUAREZ JRZ38C Right Handed Acoustic Guitar (Sunburst, 6 Strings)', 'ARCTIC Sky series 39\" Guitar (with Truss Rod) with Bag, 3 Picks, Strap & String Set. Standard Pack Red', \"Crizer 4 String Guitar Children's Musical Instrument Educational Toy Guitar Ukulele Instruments Beginner Musical Sound Toys Best Gift for Children\", \"DIKUJI ENTERPRISE 6 String Decor Guitar Children's Musical Instrument Educational Toy Guitar for Beginners Kids Childs (Color May Vary)\", 'PSB Guitar for Kids - 4 String Guitar Musical Instrument Learning Kids Toy ( 17 Inches )', 'Perlman Guitar Fretboard, Fingerboard Stickers, Decals Tool for Learner Or Beginner', 'Vault ST1 Premium Electric Guitar - Metallic Blue', 'Yamaha F280 Acoustic Guitar, Natural with Padded Carry Bag, Belt, Picks, String and Learning Book - Combo Pack', 'JUAREZ Acoustic Guitar, [LEFT HANDED] 38 Inch Cutaway, 38CL/3TS with Bag, Strings, Pick and Strap, 3TS Sunburst (JRZ38CL/3TS)', 'Kadence Acoustica 40” Acoustic Guitar A04 Natural', 'JUAREZ 41 INCH GUITAR JRZ41VG/BK, BLACK', 'chhogli 4-string acoustic guitar learning kids toy, brown 18-Multi color', 'Givsun Venus Special Black Matt 6-String Cut A Way Right Hand Acoustic Semi-Electric Guitar With Bag And Free 1 Set String,2 Picks', 'Pluto HW39C - 201- SB 6 String Acoustic Guitar', 'Cort AD810BKS Standard Dreadnought Guitar, Spruce Top, Mahogany Back & Sides, Black Satin', 'WAH NOTION® 4-String Acoustic Enthusiasm Battery Operated Rockband Guitar Walnut Guitar Learning Kids Toy,18\" Classic Model First Edition 2021', 'KREEPO Guitar Fretboard Sticker Fingerboard Frets Note Chart Decals Stickers Beginner Learner Acoustic-Electric Guitar Multicolor(9.1cm X 14.5cm)', 'Ibanez Acoustic Guitar MD39C Right Handed Cutaway Guitar - Natural With Bag, Belt, Plectrums Complete Pack.', 'Blueberry B-40 IN, Trussrod Acoustic Guitar Kit with Bag,Belt, One Pack Strings & Picks (Blue)', 'Cort AD810 Dreadnought Acoustic Guitar with Gig Bag,Tuner,Picks and Strap (Natural Bundle)', 'ARCTIC Sky Series 39\" Guitar (with Truss Rod) with Bag, 3 Picks, Strap, String Set, Guitar Stand, Tuner & Capo. Ultra pack Black', 'Blueberry 38 Inch Acoustic Guitar Kit Inbuilt Truss Rod, with Bag,Belt, One Pack Strings And Picks (Brown)', 'Vault Junior 1/2 Size Acoustic Guitar for Kids With Gigbag, Strings, Polishing Cloth, String Winder and Picks', 'Juarez JRZ-ST02 6-String Electric Guitar, Right Handed, Red, with Case/Bag and Picks', \"Asago 4 String Children's Musical Guitar Instrument For Beginner Educational Toy Guitar Musical Sound Toys Best Gift for Children\", 'YAMAHA FS80C NATURAL CONCERT CUTAWAY GUITAR', 'Yamaha F310 Acoustic Guitar, Natural', 'JUAREZ Arpeggio 39 Inch Semi-Acoustic Guitar Kit, Spruce Top, Rosewood Fretboard & Bridge, Truss Rod, 4 Band EQ, Chrome Die Cast Machine Tuners, Black', 'JUAREZ Arpeggio 41 Inch Acoustic Guitar Kit, Spruce Top, Rosewood Fretboard & Bridge, Truss Rod, Chrome Die Cast Machine Tuners, Natural', 'Kadence Slowhand Series Premium Jumbo Acoustic Guitar, Solid Wood Spruce Top, Combo with Heavy Padded Bag, Instrument cable, Pro Capo and Fiber Body Stand. SH-101', 'Cort AD810 Dreadnought Acoustic Guitar with Gig Bag,Tuner,Picks and Strap (Natural Bundle)', 'PRS Guitars Electric Guitar, SE Custom 24, 2021 Series -Charcoal Burst CU44C4A', 'JUAREZ Arpeggio 39 Inch Acoustic Guitar Kit, Spruce Top, Rosewood Fretboard & Bridge, Truss Rod, Chrome Die Cast Machine Tuners, Black', 'SHAYONA 4-String Acoustic Guitar Learning Kids Toy, Brown 18\"', 'Fender SA105CE Electric Acoustic Guitar Dreadnought With Sponge Bag, Belt & Plectrums Combo Pack (SB)', 'Fender SA 135C 39 Inch 6 String Cutaway Acoustic Guitar - Hardwood Fretboard - Natural', 'Givson VS-BLK Guitar Combo (BLACK) Acoustic Guitar With Cover/Bag, String Set, Strap and 5 Plectrums', 'Martin Smith W-101-BK-PK Acoustic Guitar Super Kit with Stand (Black)', 'Vault RG1 Soloist Electric Guitar- Transparent Green Burst', '41\"das musical acoustic venus guitar. cover, string, belt, 2plectrums.', 'Kordz Luana Blue 41 Inch Rosewood Fretboard Acoustic Guitar With Bag,Strap,1 Set of Extra Strings and 2 Picks', 'JUAREZ JRZ-ST01M- 3TS ELECTRIC GUITAR (SUN BURST) 3TS & Solid Maple wood fingerboards, sunburst', 'Swami Enterprise Guitar 4-String Acoustic Guitar Musical Instrument for Kids Learning (23 Inches)Brown', 'ARCTIC Sky series 39\" Guitar (with Truss Rod) with Bag, 3 Picks, Strap & String Set. Standard Pack Red', 'Jixing JXNG-BLK,Black Acoustic Guitar with Stand, Tuner, String Set, Strap, 3 Picks, Bag & Capo (Super Combo)', 'JUAREZ 38 Inch Acoustic Guitar with Dual Action Truss Rod, Bag, Picks, Allen Key, Extra String Set, 3TS Sunburst', 'Swan7 40C Natural Matt, Semi Acoustic Guitar Kit, With In Built Equalizer, Bag, String, Strap and Picks', 'Belear I-280 38 Inch Blue Spruce Cutaway Acoustic Guitar with Truss Rod', 'Fender 370910506 Squier MM Stratocaster Electric Guitar - Black with Maple Neck', 'Belear I370, Steel Strings Acoustic Guitar, 38 Inch Jumbo Guitar, With Trust Rod, Gig Bag and Picks', 'JUAREZ Fiésta 41 Inch Acoustic Guitar Cutaway with Dual Action Truss Rod, 21 Frets Rosewood Fretboard & Bridge, Padded 5mm Cotton Bag, Cotton Strap, 2 Picks, Allen Key, Extra String Set, 3TS Sunburst', 'Fender Squier Bullet Stratocaster with Tremolo Electric Guitar, Arctic White', 'Fender SA105CEBK Acoustic Guitar', 'TECHBLAZE Acoustic Guitar Strings, Guitar Wall Mount, Guitar Metal Capo with 5 picks Best Guitar Accessory Combo Pack', 'JUAREZ 38 Inch Acoustic Guitar with Dual Action Truss Rod, Bag, Picks, Allen Key, Extra String Set, 3TS Sunburst', 'Gator Cases GTSA-GTRDREAD TSA Series ATA Molded Polyethylene Guitar Case for Dreadnaught Acoustic Guitars', 'JUAREZ Arpeggio 41 Inch Acoustic Guitar Kit, Spruce Top, Rosewood Fretboard & Bridge, Truss Rod, Chrome Die Cast Machine Tuners, Red', 'Blueberry 38C IN Trussrod Acoustic Guitar Kit with Bag,Belt & Picks (Sunburst)', 'Kadence Guitar Acoustica Series, Electric Acoustic Guitar, Ash Wood with Pickup and Inbuilt tuner (Ash Wood, Electro Acoustic)', 'Guitar Neck, DIY Wood Guitar Neck, for Electric Guitar Parts Replacement', 'GUITAR BRO - COMBO (Black Acoustic Guitar for Beginner, Guitar Learning Kit, Song Book, Video Lectures, Accessories like Pick, Bag)', 'Blueberry B-40, 40\" Acoustic Guitar Kit with Bag,Belt, One Pack Strings & Picks (Black)', 'JUAREZ Arpeggio Guitar JRB40LN-3TS', 'Yamaha F310, 6-Strings Acoustic Guitar, Natural', 'TECHBLAZE Acoustic Guitar Keys for Guitar Chrome Tuning Pegs Keys 3 Left 3 Right Guitar Machine Heads Knobs with Strap Button Locks Guitar Keys 3R+3L – 6 Pieces', 'Blueberry B-40, 40\" Acoustic Guitar Kit with Bag,Belt, One Pack Strings & Picks (Black)', 'Pluto HW34-101 34inch Baby Acoustic Guitar (Red)', 'Kadence Frontier Series Acoustic Guitar With Equalizer and Pickup,Die Cast Keys Sunburst', 'Epiphone AJ-220S Acoustic Guitar, Vintage Sunburst', 'Luximal 4 String Musical Guitar For Kids Instrument Acoustic Learning Educational Small Toy For Child with Ability Random Brown Color Best Gift For Boys & Girls', 'Yamaha FS80C The Ultimate Concert Body Cutaway Acoustic Guitar (Black) With Bajaao Gig-Bag', 'Giuson Electra Rosewood Fretboard Acoustic Guitar With Bag,Strap,1 Set of Extra Strings and 2 Picks V3 (Blue)', 'JUAREZ Arpeggio Guitar JRA41MAH, mahogany', 'Yamaha Acoustic Guitar F280 Dreadnought With Mexa Sponge Bag Belt,Plectrums & String Set.(Natural)', 'Yamaha PACIFICA012 Electric Guitar - Black', 'Juârez Acoustic Guitar, 38 Inch Cutaway, 038C With Bag, Strings, Pick And Strap, Black + Juarez Jrz100 Guitar Wall Hanger/Mount With Fittings/Accessories, Black', 'Giuson Venus Pinewood Acoustic Guitar With Bag,Strap,1 Set of Extra Strings and 2 Picks', 'AARVI MART 4 String Musical Guitar for Kids Instrument Acoustic Learning Educational Small Toy for Child with Ability Random Brown Color Best Gift for Boys & Girls', 'SG MUSICAL 10 Pcs Guitar Strings Stainless Steel Acoustic Guitar String 1st E String/ 2nd B String BYTD', 'Blueberry 38C, 38\" Acoustic Guitar Kit with Bag, Strap, One Pack Strings And Picks (Natural)', 'Blueberry 38C, 38\" Acoustic Guitar Kit with Bag, Strap, One Pack Strings And Picks (Black)', 'Blueberry B-D38, 38\" Acoustic Guitar Kit Inbuilt Truss Rod with Bag, Strap, One Pack Strings And Picks (Black)', 'Blueberry B40-40Inches Acoustic Guitar Kit inbuilt Truss Rod, with Bag, Strap, One Pack Strings and Picks (Sunburst)', 'Pluto HW41C-201 41-inch Cutaway Acoustic Guitar (Sunburst)', 'HRB MUSICALS® 50 Pcs Guitar String Tool Kit Including 3 Guitar Strings SET, 1 Guitar Tuner, 15 Picks, 1 black Capo with Pins remover, 1 pick holder, 12 Guitar pins, 1 guitar Cutter and 1 Winder', 'Blueberry B-40 IN, Trussrod Acoustic Guitar Kit with Bag,Belt, One Pack Strings & Picks (Blue)', 'Kadence Slowhand Series Premium Acoustic Guitar, 38\" Mahagony wood SHM-03', 'Fender Squier SA-150 Dreadnought Acoustic Guitar 0961090021', 'Decdeal Unfinished DIY Electric Guitar Kit Basswood Body Rosewood Fingerboard Maple Neck Special Design', 'Epiphone DR-100 6 Strings Right handed Acoustic Guitar Natural', \"Toyvilla™ 6 String Decor Guitar Children's Musical Instrument Educational Toy Guitar for Beginners Kids Childs (Color May Vary)\", 'Ibanez GSA60 Electric Guitar - Black', 'GUITAR BRO - COMBO (Black Acoustic Guitar for Beginner, Guitar Learning Kit, Song Book, Video Lectures, Accessories like Pick, Bag)', 'calldrishe String Acoustic Guitar | Adjustable Tunning Knob | Classical Guitar Toy | Musical Instrument Learning Toy for Kids', 'Cort SFX-MEM Electro Acoustic Guitar - Open Pore', 'Givsun Lisbon Red 6-String Cut A Way Right Hand Acoustic Semi-Electric Guitar With Bag And Free 1 Set String,2 Picks', 'Grail Allure A190CE SAS Semi Acoustic Guitar All Sapele Cutaway', 'DALUCI 38C Acoustic Guitar Kit, With Bag, Strings, Pick And Strap (Black Glitter Shine)', \"DIKUJI ENTERPRISE 6 String Decor Guitar Children's Musical Instrument Educational Toy Guitar for Beginners Kids Childs (Multicolor)\", 'Ibanez Acoustic Guitar MD39C Right Handed Cutaway Guitar - Sunburst With Bag, Belt, Plectrums Complete Pack.', 'Fender SA105CE Electric Acoustic Guitar With Sponge Bag, Belt & Plectrums Combo Pack (BK)', 'Epiphone Les Paul Studio LT Electric Guitar, Heritage Cherry Sunburst (ENPTHSNH1)', 'Yamaha FS100C Acoustic Guitar, Natural', 'Ibanez GRG170DX Electric Guitar, Black', 'OFKLADE Portable 6 Frets Wood Practice Pocket Guitar Trainer Tool Finger Exerciser', 'Laxmi Musical Electronics - Acoustic Pickup for Violin,Veena,Guitar,Mandalin, Banjo and All Acoustic String Instruments', 'JUAREZ 41\" Acoustic Guitar Cutaway with Dual Action Truss Rod, Rosewood Fretboard and Bridge, Padded Cotton Bag, Cotton Strap, 2 Picks, Extra String Set, Blue Sunburst', 'Decdeal Pocket Guitar Colorful Chord Trainer Guitar Trainer Guitar Practice Tool 6-String 4-Fret Model for Beginners', 'tumtum 4-string acoustic guitar,musical instrument learning toy for kids(baby boys and girls)(brown 18inch)-Multi color', 'Kramer Baretta Special 6 strings Right Handed Electric Guitar with Termolo, Ruby Red (KPBSRUCT1)', 'Intern INT-38C-L-NT Left Hand Acoustic Guitar Kit (Natural) with Carry bag, string set, picks and strap', 'Intern INT-38C Acoustic Guitar Kit, With Bag, Strings, Pick And Strap, Natural', 'EVONTE 6-String 24\" Acoustic Guitar Kids Toy, Brown', 'Honeytecs 6 String 6 Fret Model Portable Pocket Guitar Neck Chord Trainer Guitar Practice Tool for Trainer Beginner Black', 'JUAREZ Arpéggio 41 Inch Acoustic Guitar Kit, Spruce Top, Black', 'JUAREZ Fiésta 41 Inch Acoustic Guitar Cutaway with Dual Action Truss Rod, 21 Frets Rosewood Fretboard & Bridge, Padded 5mm Cotton Bag, Cotton Strap, 2 Picks, Allen Key, Extra String Set, 3TS Sunburst', 'Pick Storage Box, Pick Storage Case Portable for Guitar Accessories for Storage Gift Box', 'JUAREZ Arpeggio Guitar JRA39SR-BK-K, black', 'Blueberry B-D38, 38 Inch Acoustic Guitar Kit Inbuilt Truss Rod with Bag, Strap, One Pack Strings And Picks (Sunburst)', 'Kadence Guitar Acoustica Series, Electric Acoustic Guitar, Ash Wood with Pickup and Inbuilt tuner (Ash Wood, Electro Acoustic)']\n"
     ]
    }
   ],
   "source": [
    "print(Product_name )"
   ]
  },
  {
   "cell_type": "code",
   "execution_count": 19,
   "metadata": {},
   "outputs": [
    {
     "name": "stdout",
     "output_type": "stream",
     "text": [
      "['3.9 out of 5', '4 out of 5', '4 out of 5', '3.9 out of 5', '4 out of 5', '4 out of 5', '4 out of 5', '3.9 out of 5', '3.9 out of 5', '4 out of 5', '4 out of 5', '4 out of 5', '3.8 out of 5', '4 out of 5', '4 out of 5', '3.6 out of 5', '3.8 out of 5', '3.9 out of 5', '3.8 out of 5', '4 out of 5', '4.2 out of 5', '3.9 out of 5', '3.9 out of 5', '4 out of 5', '4.3 out of 5', '4.1 out of 5', '4.2 out of 5', '4.4 out of 5', '4.3 out of 5', '4.3 out of 5', '3.7 out of 5', '3.5 out of 5', '3.9 out of 5', '4.3 out of 5', '2.3 out of 5', '4.4 out of 5', '4.2 out of 5', '3.9 out of 5', '4.6 out of 5', '3.8 out of 5', '3.8 out of 5', '4.4 out of 5', '3.8 out of 5', '4.3 out of 5', '3.3 out of 5', '--', '3.6 out of 5', '--', '4 out of 5', '--', '3.4 out of 5', '--', '3.9 out of 5', '3.8 out of 5', '3.4 out of 5', '3.8 out of 5', '4 out of 5', '4 out of 5', '4 out of 5', '3.6 out of 5', '3.6 out of 5', '4 out of 5', '3.6 out of 5', '4 out of 5', '3.8 out of 5', '3.7 out of 5', '5 out of 5', '3.4 out of 5', '3.6 out of 5', '3.7 out of 5', '4.4 out of 5', '4.5 out of 5', '4 out of 5', '3.4 out of 5', '--', '3.9 out of 5', '4.5 out of 5', '4.1 out of 5', '3.6 out of 5', '--', '4.6 out of 5', '3.2 out of 5', '4.3 out of 5', '3.8 out of 5', '3.1 out of 5', '4 out of 5', '4.1 out of 5', '3 out of 5', '4.1 out of 5', '4 out of 5', '4.8 out of 5', '4 out of 5', '4.5 out of 5', '4.3 out of 5', '5 out of 5', '4.4 out of 5', '3 out of 5', '5 out of 5', '4.2 out of 5', '3.7 out of 5', '3.9 out of 5', '4.4 out of 5', '3.9 out of 5', '--', '3.3 out of 5', '--', '3.8 out of 5', '3.8 out of 5', '3.6 out of 5', '--', '3 out of 5', '3.9 out of 5', '2.5 out of 5', '3.5 out of 5', '4.5 out of 5', '4.2 out of 5', '--', '3.6 out of 5', '4.7 out of 5', '4 out of 5', '3.3 out of 5', '3.9 out of 5', '--', '3.7 out of 5', '2.9 out of 5', '5 out of 5', '4.4 out of 5', '--', '2.9 out of 5', '--', '3.9 out of 5', '4.5 out of 5', '3.5 out of 5', '4.2 out of 5', '4.7 out of 5', '5 out of 5', '5 out of 5', '4.4 out of 5', '3.6 out of 5', '--', '--', '5 out of 5', '3.4 out of 5', '3.6 out of 5', '3.1 out of 5', '1 out of 5', '2.8 out of 5', '4.3 out of 5', '3.2 out of 5', '3 out of 5', '3.6 out of 5', '--', '4.5 out of 5', '2.8 out of 5', '4.2 out of 5', '3.7 out of 5', '--', '5 out of 5', '3.5 out of 5', '4.6 out of 5', '4 out of 5', '1 out of 5', '4.3 out of 5', '5 out of 5', '4.7 out of 5', '--', '4.2 out of 5', '--', '3.7 out of 5', '4.2 out of 5', '--', '3.7 out of 5', '5 out of 5', '3.1 out of 5', '3.7 out of 5', '4 out of 5', '4 out of 5', '3.4 out of 5', '3.5 out of 5', '--', '4.1 out of 5', '3.7 out of 5', '3.9 out of 5']\n"
     ]
    }
   ],
   "source": [
    "print(Rating)"
   ]
  },
  {
   "cell_type": "code",
   "execution_count": 20,
   "metadata": {},
   "outputs": [
    {
     "name": "stdout",
     "output_type": "stream",
     "text": [
      "['7 Days Replacement', '7 Days Replacement', '7 Days Replacement', '7 Days Replacement', '7 Days Replacement', '7 Days Replacement', '7 Days Replacement', '7 Days Replacement', '7 Days Replacement', '7 Days Replacement', '7 Days Replacement', '7 Days Replacement', '7 Days Replacement', '7 Days Replacement', '7 Days Replacement', '7 Days Replacement', '7 Days Replacement', '7 Days Replacement', '7 Days Replacement', '7 Days Replacement', '7 Days Replacement', '7 Days Replacement', '7 Days Replacement', '7 Days Replacement', '7 Days Replacement', '7 Days Replacement', '1 Year Warranty', '1 Year Warranty', '7 Days Replacement', '7 Days Replacement', '7 Days Replacement', '7 Days Replacement', '7 Days Replacement', '7 Days Replacement', 'Amazon Delivered', '7 Days Replacement', 'Amazon Delivered', 'Amazon Delivered', 'Amazon Delivered', '7 Days Replacement', '7 Days Replacement', '7 Days Replacement', '7 Days Replacement', '7 Days Replacement', 'Amazon Delivered', '7 Days Replacement', '7 Days Replacement', '7 Days Replacement', '7 Days Replacement', 'Amazon Delivered', '7 Days Replacement', 'Amazon Delivered', '7 Days Replacement', '7 Days Replacement', '7 Days Replacement', '7 Days Replacement', '7 Days Replacement', '7 Days Replacement', '7 Days Replacement', '7 Days Replacement', '7 Days Replacement', '7 Days Replacement', '7 Days Replacement', '7 Days Replacement', '7 Days Replacement', 'Amazon Delivered', 'Amazon Delivered', 'Amazon Delivered', 'Amazon Delivered', '7 Days Replacement', 'Amazon Delivered', '7 Days Replacement', '7 Days Replacement', '7 Days Replacement', 'Amazon Delivered', '7 Days Replacement', '7 Days Replacement', '7 Days Replacement', 'Amazon Delivered', 'Amazon Delivered', 'Amazon Delivered', '7 Days Replacement', '7 Days Replacement', '7 Days Replacement', '7 Days Replacement', '7 Days Replacement', '7 Days Replacement', 'Amazon Delivered', '1 Year Warranty', '1 Year Warranty', '7 Days Replacement', '7 Days Replacement', '7 Days Replacement', '7 Days Replacement', 'Amazon Delivered', '7 Days Replacement', 'Amazon Delivered', 'Amazon Delivered', '7 Days Replacement', 'Amazon Delivered', '7 Days Replacement', '7 Days Replacement', 'Amazon Delivered', '7 Days Replacement', '7 Days Replacement', 'Amazon Delivered', '7 Days Replacement', '7 Days Replacement', '7 Days Replacement', 'Amazon Delivered', 'Amazon Delivered', '7 Days Replacement', '7 Days Replacement', '7 Days Replacement', '7 Days Replacement', '7 Days Replacement', '7 Days Replacement', '7 Days Replacement', '7 Days Replacement', '7 Days Replacement', '7 Days Replacement', '7 Days Replacement', '--', '15 Day Warranty', '7 Days Replacement', '7 Days Replacement', '1 Year Warranty', '7 Days Replacement', '7 Days Replacement', '7 Days Replacement', '1 Year Warranty', '7 Days Replacement', '7 Days Replacement', 'Warranty Policy', '7 Days Replacement', '7 Days Replacement', '1 Year Warranty', '1 Year Warranty', '7 Days Replacement', '7 Days Replacement', 'Amazon Delivered', 'Amazon Delivered', '7 Days Replacement', '7 Days Replacement', '7 Days Replacement', '7 Days Replacement', '7 Days Replacement', 'Amazon Delivered', '7 Days Replacement', '7 Days Replacement', '7 Days Replacement', 'Warranty Policy', '7 Days Replacement', 'Amazon Delivered', '7 Days Replacement', '15 Day Warranty', 'Amazon Delivered', '7 Days Replacement', '7 Days Replacement', 'Warranty Policy', '7 Days Replacement', '--', 'Amazon Delivered', 'Amazon Delivered', '7 Days Replacement', '7 Days Replacement', '7 Days Replacement', 'Warranty Policy', '7 Days Replacement', '7 Days Replacement', 'Warranty Policy', '7 Days Returnable', '7 Days Replacement', '7 Days Replacement', '7 Days Replacement', 'Amazon Delivered', 'Warranty Policy', '7 Days Replacement', '7 Days Replacement', 'Warranty Policy', '7 Days Replacement', '7 Days Replacement', '7 Days Replacement']\n"
     ]
    }
   ],
   "source": [
    "print(Exchange)"
   ]
  },
  {
   "cell_type": "code",
   "execution_count": 21,
   "metadata": {},
   "outputs": [
    {
     "name": "stdout",
     "output_type": "stream",
     "text": [
      "['In stock.', 'In stock.', 'In stock.', 'In stock.', 'In stock.', 'In stock.', 'In stock.', 'In stock.', 'In stock.', 'In stock.', 'In stock.', 'In stock.', 'In stock.', 'In stock.', 'In stock.', 'In stock.', 'In stock.', 'In stock.', 'In stock.', 'In stock.', 'In stock.', 'In stock.', 'In stock.', 'In stock.', 'In stock.', 'In stock.', '', '', 'In stock.', 'In stock.', 'In stock.', 'In stock.', 'In stock.', 'In stock.', 'In stock.', 'In stock.', 'In stock.', 'In stock.', 'In stock.', 'In stock.', 'In stock.', 'In stock.', 'In stock.', 'In stock.', 'In stock.', 'In stock.', 'In stock.', 'In stock.', 'In stock.', 'Only 1 left in stock.', 'In stock.', 'Only 1 left in stock.', 'In stock.', 'In stock.', 'Only 2 left in stock.', 'In stock.', 'In stock.', 'In stock.', 'In stock.', 'In stock.', 'In stock.', 'In stock.', 'In stock.', 'In stock.', 'In stock.', 'In stock.', 'In stock.', 'In stock.', 'In stock.', 'In stock.', 'Only 1 left in stock.', 'In stock.', 'Only 1 left in stock.', 'Only 2 left in stock.', 'In stock.', 'Only 1 left in stock.', 'In stock.', 'In stock.', 'In stock.', 'In stock.', 'In stock.', 'In stock.', 'In stock.', 'In stock.', 'In stock.', 'In stock.', 'In stock.', 'In stock.', '', '', 'In stock.', 'In stock.', 'In stock.', 'In stock.', 'In stock.', 'In stock.', 'In stock.', 'In stock.', 'In stock.', 'In stock.', 'In stock.', 'In stock.', 'In stock.', 'In stock.', 'In stock.', 'In stock.', 'In stock.', 'In stock.', 'In stock.', 'In stock.', 'In stock.', 'In stock.', 'In stock.', 'In stock.', 'Only 2 left in stock.', 'In stock.', 'In stock.', 'In stock.', 'Only 1 left in stock.', 'In stock.', 'In stock.', 'In stock.', 'In stock.', 'In stock.', 'In stock.', 'In stock.', '', 'In stock.', 'In stock.', 'In stock.', 'In stock.', 'Only 1 left in stock.', 'In stock.', '', 'In stock.', 'Only 2 left in stock.', '', '', 'In stock.', 'In stock.', 'In stock.', 'In stock.', 'In stock.', 'In stock.', 'In stock.', 'In stock.', 'Only 1 left in stock.', 'In stock.', 'In stock.', 'In stock.', 'In stock.', 'In stock.', 'Only 1 left in stock.', 'In stock.', 'In stock.', 'In stock.', 'In stock.', 'Only 2 left in stock.', 'In stock.', 'In stock.', 'In stock.', '', 'In stock.', 'In stock.', 'In stock.', 'In stock.', 'In stock.', '--', 'In stock.', 'In stock.', 'In stock.', 'In stock.', 'Only 1 left in stock.', 'In stock.', 'In stock.', 'In stock.', 'In stock.', 'In stock.', 'In stock.', '--', 'In stock.', 'In stock.', 'In stock.']\n"
     ]
    }
   ],
   "source": [
    "print(Availability)"
   ]
  },
  {
   "cell_type": "code",
   "execution_count": 22,
   "metadata": {},
   "outputs": [
    {
     "data": {
      "text/plain": [
       "183"
      ]
     },
     "execution_count": 22,
     "metadata": {},
     "output_type": "execute_result"
    }
   ],
   "source": [
    "len(Availability)"
   ]
  },
  {
   "cell_type": "code",
   "execution_count": 23,
   "metadata": {},
   "outputs": [
    {
     "data": {
      "text/plain": [
       "183"
      ]
     },
     "execution_count": 23,
     "metadata": {},
     "output_type": "execute_result"
    }
   ],
   "source": [
    "len(Price)"
   ]
  },
  {
   "cell_type": "code",
   "execution_count": 24,
   "metadata": {},
   "outputs": [
    {
     "data": {
      "text/plain": [
       "183"
      ]
     },
     "execution_count": 24,
     "metadata": {},
     "output_type": "execute_result"
    }
   ],
   "source": [
    "len(Brand)"
   ]
  },
  {
   "cell_type": "code",
   "execution_count": 25,
   "metadata": {},
   "outputs": [
    {
     "data": {
      "text/plain": [
       "183"
      ]
     },
     "execution_count": 25,
     "metadata": {},
     "output_type": "execute_result"
    }
   ],
   "source": [
    "len(Exchange)"
   ]
  },
  {
   "cell_type": "code",
   "execution_count": 26,
   "metadata": {},
   "outputs": [
    {
     "data": {
      "text/plain": [
       "183"
      ]
     },
     "execution_count": 26,
     "metadata": {},
     "output_type": "execute_result"
    }
   ],
   "source": [
    "len(Rating)"
   ]
  },
  {
   "cell_type": "code",
   "execution_count": 27,
   "metadata": {},
   "outputs": [
    {
     "data": {
      "text/plain": [
       "183"
      ]
     },
     "execution_count": 27,
     "metadata": {},
     "output_type": "execute_result"
    }
   ],
   "source": [
    "len(Product_name)"
   ]
  },
  {
   "cell_type": "code",
   "execution_count": 28,
   "metadata": {},
   "outputs": [
    {
     "data": {
      "text/plain": [
       "183"
      ]
     },
     "execution_count": 28,
     "metadata": {},
     "output_type": "execute_result"
    }
   ],
   "source": [
    "len(Excepted_Delivery)"
   ]
  },
  {
   "cell_type": "code",
   "execution_count": 29,
   "metadata": {},
   "outputs": [
    {
     "name": "stdout",
     "output_type": "stream",
     "text": [
      "['Tuesday, Sep 28', 'Tuesday, Sep 28', 'Sunday, Sep 26', 'Tuesday, Sep 28', 'Sunday, Sep 26', 'Sunday, Sep 26', 'Sunday, Sep 26', 'Tuesday, Sep 28', 'Sunday, Sep 26', 'Sunday, Sep 26', 'Wednesday, Sep 29', 'Sunday, Sep 26', 'Sunday, Sep 26', 'Sunday, Sep 26', 'Wednesday, Sep 29', 'Sunday, Sep 26', 'Sunday, Sep 26', 'Tuesday, Sep 28', 'Sunday, Sep 26', 'Sunday, Sep 26', 'Tuesday, Sep 28', 'Sunday, Sep 26', 'Tuesday, Sep 28', 'Tuesday, Sep 28', 'Sunday, Sep 26', 'Sunday, Sep 26', '--', '--', 'Sunday, Sep 26', 'Tuesday, Sep 28', 'Sunday, Sep 26', 'Sunday, Sep 26', 'Sunday, Sep 26', 'Sunday, Sep 26', 'Tuesday, Sep 28', 'Friday, Oct 1', 'Thursday, Sep 30', 'Thursday, Sep 30', 'Wednesday, Sep 29', 'Sunday, Sep 26', 'Sunday, Sep 26', 'Sunday, Sep 26', 'Sunday, Sep 26', 'Monday, Sep 27', 'Tuesday, Sep 28', 'Wednesday, Sep 29', 'Sunday, Sep 26', 'Sunday, Sep 26', '--', 'Monday, Sep 27', 'Friday, Oct 8', 'Wednesday, Sep 29', 'Sunday, Sep 26', 'Sunday, Sep 26', 'Wednesday, Sep 29', 'Sunday, Sep 26', 'Sunday, Sep 26', 'Sunday, Sep 26', 'Sunday, Sep 26', 'Sunday, Sep 26', 'Tuesday, Sep 28', '--', 'Sunday, Sep 26', 'Sunday, Sep 26', 'Sunday, Sep 26', 'Tuesday, Sep 28', 'Tuesday, Sep 28', 'Monday, Sep 27', 'Sep 30 - Oct 1', 'Sunday, Sep 26', 'Monday, Sep 27', 'Sunday, Sep 26', 'Tuesday, Sep 28', 'Sunday, Sep 26', 'Monday, Sep 27', 'Wednesday, Sep 29', 'Sunday, Sep 26', 'Sunday, Sep 26', 'Friday, Oct 1', 'Wednesday, Sep 29', 'Sep 27 - 29', 'Tuesday, Sep 28', 'Sunday, Sep 26', 'Sunday, Sep 26', 'Tuesday, Sep 28', 'Sunday, Sep 26', 'Sunday, Sep 26', 'Tuesday, Sep 28', '--', '--', 'Sunday, Sep 26', 'Sunday, Sep 26', 'Tuesday, Sep 28', 'Sunday, Sep 26', '--', 'Sunday, Sep 26', 'Sep 28 - 29', 'Sep 27 - 29', 'Sunday, Sep 26', 'Friday, Oct 1', 'Sunday, Sep 26', 'Sunday, Sep 26', 'Oct 1 - 2', 'Wednesday, Sep 29', 'Sunday, Sep 26', 'Tuesday, Sep 28', 'Sunday, Sep 26', 'Tuesday, Sep 28', 'Sunday, Sep 26', 'Sep 28 - 30', 'Sep 28 - 30', 'Sunday, Sep 26', '--', 'Sunday, Sep 26', 'Monday, Sep 27', 'Sunday, Sep 26', 'Friday, Oct 1', 'Sunday, Sep 26', 'Wednesday, Sep 29', 'Sunday, Sep 26', 'Tuesday, Sep 28', 'Tuesday, Sep 28', 'Oct 22 - 26', 'Sep 30 - Oct 5', 'Tuesday, Sep 28', 'Sunday, Sep 26', '--', 'Friday, Oct 1', 'Tuesday, Sep 28', 'Sunday, Sep 26', 'Sep 30 - Oct 4', 'Sunday, Sep 26', 'Monday, Sep 27', '--', 'Wednesday, Sep 29', 'Sunday, Sep 26', '--', '--', 'Tomorrow', 'Wednesday, Sep 29', 'Tuesday, Sep 28', 'Thursday, Sep 30', 'Tuesday, Sep 28', 'Tuesday, Sep 28', 'Tuesday, Sep 28', 'Tuesday, Sep 28', 'Sunday, Sep 26', 'Wednesday, Sep 29', 'Tuesday, Sep 28', 'Tuesday, Sep 28', 'Wednesday, Sep 29', 'Oct 22 - 26', 'Sunday, Sep 26', 'Tuesday, Sep 28', 'Sunday, Sep 26', 'Sep 30 - Oct 5', 'Tuesday, Sep 28', 'Sunday, Sep 26', 'Wednesday, Sep 29', 'Sep 30 - Oct 5', '--', '--', 'Sep 27 - 29', 'Sep 27 - 29', '--', 'Monday, Sep 27', 'Sunday, Sep 26', 'Oct 4 - 11', 'Sunday, Sep 26', 'Sunday, Sep 26', 'Oct 22 - 26', '--', '--', 'Sunday, Sep 26', 'Sunday, Sep 26', 'Monday, Sep 27', 'Oct 22 - 26', '--', 'Sunday, Sep 26', 'Nov 9 - 16', 'Sunday, Sep 26', 'Tuesday, Sep 28', 'Tuesday, Sep 28']\n"
     ]
    }
   ],
   "source": [
    "print(Excepted_Delivery)"
   ]
  },
  {
   "cell_type": "code",
   "execution_count": 30,
   "metadata": {},
   "outputs": [
    {
     "name": "stdout",
     "output_type": "stream",
     "text": [
      "['₹3,199.00', '₹5,999.00', '₹2,649.00', '--', '₹2,649.00', '--', '₹2,290.00', '--', '₹2,649.00', '--', '--', '₹2,649.00', '₹2,390.00', '₹2,649.00', '₹4,390.00', '₹2,290.00', '₹2,749.00', '--', '₹2,649.00', '₹2,290.00', '--', '₹2,649.00', '₹2,895.00', '--', '₹6,990.00', '₹2,649.00', '--', '--', '--', '₹9,990.00', '₹3,179.00', '₹2,749.00', '₹4,009.00', '₹13,354.00', '₹999.00', '₹480.00', '₹332.00', '₹899.00', '₹395.00', '₹4,009.00', '--', '₹675.00', '₹5,759.00', '₹9,990.00', '₹1,299.00', '₹3,690.00', '₹2,799.00', '₹2,749.00', '₹2,190.00', '₹689.00', '₹3,179.00', '₹97,074.00', '₹5,759.00', '₹2,649.00', '₹4,099.00', '₹2,649.00', '₹2,290.00', '₹2,649.00', '--', '₹2,290.00', '₹5,369.00', '₹2,190.00', '₹2,799.00', '--', '₹4,711.00', '₹1,011.00', '₹1,499.00', '₹549.00', '₹399.00', '₹7,599.00', '₹9,990.00', '₹2,649.00', '₹5,248.00', '₹3,329.00', '₹754.00', '₹4,099.00', '₹5,302.00', '₹9,739.00', '--', '₹299.00', '₹7,999.00', '₹3,599.00', '₹10,250.00', '₹5,478.00', '₹2,849.00', '₹3,999.00', '₹5,759.00', '₹999.00', '--', '--', '₹5,735.00', '--', '--', '₹10,250.00', '₹91,939.00', '₹5,799.00', '₹999.00', '₹12,999.00', '--', '₹3,999.00', '--', '₹10,299.00', '--', '₹3,690.00', '₹5,759.00', '₹1,199.00', '₹4,711.00', '₹3,673.00', '₹3,179.00', '₹5,999.00', '₹2,999.00', '₹10,374.00', '₹2,999.00', '₹3,848.00', '₹11,300.00', '₹12,449.00', '--', '₹3,179.00', '₹11,853.00', '₹6,059.00', '₹2,895.00', '--', '₹7,779.00', '₹6,499.00', '₹3,595.00', '₹5,299.00', '--', '--', '₹3,595.00', '₹4,105.00', '₹5,999.00', '₹27,499.00', '₹1,099.00', '--', '--', '₹6,359.00', '--', '--', '₹2,788.00', '₹3,990.00', '₹998.00', '₹329.00', '₹2,695.00', '₹2,695.00', '₹2,795.00', '₹4,295.00', '₹6,254.00', '₹1,099.00', '₹3,599.00', '₹8,923.00', '₹8,343.00', '₹40,124.99', '₹13,999.00', '₹1,349.00', '₹18,943.00', '₹6,499.00', '₹899.00', '₹14,566.00', '₹4,199.00', '₹6,999.00', '₹3,485.00', '--', '₹7,999.00', '₹12,999.00', '₹25,004.00', '₹8,216.00', '₹22,332.00', '₹1,294.00', '₹599.00', '₹4,009.00', '₹2,090.99', '₹999.00', '₹16,399.00', '₹2,856.00', '₹2,490.00', '₹1,599.00', '₹1,629.00', '₹6,610.00', '₹3,848.00', '₹2,369.00', '₹6,739.00', '₹2,795.00', '--']\n"
     ]
    }
   ],
   "source": [
    "print(Price)"
   ]
  },
  {
   "cell_type": "code",
   "execution_count": 31,
   "metadata": {},
   "outputs": [
    {
     "data": {
      "text/plain": [
       "183"
      ]
     },
     "execution_count": 31,
     "metadata": {},
     "output_type": "execute_result"
    }
   ],
   "source": [
    "len(No_ratings)"
   ]
  },
  {
   "cell_type": "code",
   "execution_count": 32,
   "metadata": {},
   "outputs": [
    {
     "name": "stdout",
     "output_type": "stream",
     "text": [
      "['594 global ratings', '284 global ratings', '13,051 global ratings', '1,027 global ratings', '13,051 global ratings', '4,396 global ratings', '7,052 global ratings', '707 global ratings', '476 global ratings', '4,286 global ratings', '357 global ratings', '2,847 global ratings', '1,407 global ratings', '1,177 global ratings', '106 global ratings', '201 global ratings', '675 global ratings', '707 global ratings', '318 global ratings', '987 global ratings', '269 global ratings', '476 global ratings', '36 global ratings', '1,111 global ratings', '323 global ratings', '6 global ratings', '--', '--', '3,304 global ratings', '--', '177 global ratings', '85 global ratings', '57 global ratings', '743 global ratings', '3 global ratings', '3 global ratings', '14 global ratings', '107 global ratings', '3 global ratings', '28 global ratings', '3 global ratings', '2,645 global ratings', '195 global ratings', '--', '31 global ratings', '--', '201 global ratings', '--', '1,075 global ratings', '--', '55 global ratings', '--', '157 global ratings', '583 global ratings', '6 global ratings', '318 global ratings', '1,075 global ratings', '1,177 global ratings', '4,396 global ratings', '201 global ratings', '10 global ratings', '1,075 global ratings', '201 global ratings', '4,286 global ratings', '3 global ratings', '87 global ratings', '1 global rating', '70 global ratings', '3 global ratings', '--', '29 global ratings', '2 global ratings', '25 global ratings', '20 global ratings', '--', '14 global ratings', '2 global ratings', '87 global ratings', '19 global ratings', '--', '25 global ratings', '16 global ratings', '151 global ratings', '4 global ratings', '78 global ratings', '217 global ratings', '171 global ratings', '4 global ratings', '--', '--', '6 global ratings', '29 global ratings', '2 global ratings', '151 global ratings', '1 global rating', '16 global ratings', '--', '10 global ratings', '140 global ratings', '43 global ratings', '146 global ratings', '--', '60 global ratings', '--', '6 global ratings', '--', '3 global ratings', '795 global ratings', '73 global ratings', '--', '1 global rating', '88 global ratings', '2 global ratings', '16 global ratings', '18 global ratings', '--', '--', '73 global ratings', '209 global ratings', '8 global ratings', '8 global ratings', '707 global ratings', '--', '28 global ratings', '11 global ratings', '1 global rating', '--', '--', '11 global ratings', '--', '7 global ratings', '78 global ratings', '11 global ratings', '--', '4 global ratings', '1 global rating', '--', '--', '10 global ratings', '--', '--', '1 global rating', '15 global ratings', '11 global ratings', '78 global ratings', '1 global rating', '10 global ratings', '18 global ratings', '16 global ratings', '4 global ratings', '76 global ratings', '--', '1,582 global ratings', '5 global ratings', '51 global ratings', '28 global ratings', '--', '4 global ratings', '14 global ratings', '25 global ratings', '6 global ratings', '--', '19 global ratings', '2 global ratings', '43 global ratings', '--', '134 global ratings', '--', '8 global ratings', '20 global ratings', '--', '9 global ratings', '2 global ratings', '12 global ratings', '493 global ratings', '2 global ratings', '1 global rating', '8 global ratings', '16 global ratings', '--', '5 global ratings', '11 global ratings', '707 global ratings']\n"
     ]
    }
   ],
   "source": [
    "print(No_ratings)"
   ]
  },
  {
   "cell_type": "code",
   "execution_count": 33,
   "metadata": {},
   "outputs": [
    {
     "data": {
      "text/html": [
       "<div>\n",
       "<style scoped>\n",
       "    .dataframe tbody tr th:only-of-type {\n",
       "        vertical-align: middle;\n",
       "    }\n",
       "\n",
       "    .dataframe tbody tr th {\n",
       "        vertical-align: top;\n",
       "    }\n",
       "\n",
       "    .dataframe thead th {\n",
       "        text-align: right;\n",
       "    }\n",
       "</style>\n",
       "<table border=\"1\" class=\"dataframe\">\n",
       "  <thead>\n",
       "    <tr style=\"text-align: right;\">\n",
       "      <th></th>\n",
       "      <th>Brand</th>\n",
       "      <th>Product_name</th>\n",
       "      <th>Rating</th>\n",
       "      <th>No. of Ratings</th>\n",
       "      <th>Price</th>\n",
       "      <th>Return/Exchange</th>\n",
       "      <th>Excepted Deivery</th>\n",
       "      <th>Product URL</th>\n",
       "    </tr>\n",
       "  </thead>\n",
       "  <tbody>\n",
       "    <tr>\n",
       "      <th>0</th>\n",
       "      <td>Medellin</td>\n",
       "      <td>Medellin 38in Premium All Wood Acoustic Guitar...</td>\n",
       "      <td>3.9 out of 5</td>\n",
       "      <td>594 global ratings</td>\n",
       "      <td>₹3,199.00</td>\n",
       "      <td>7 Days Replacement</td>\n",
       "      <td>Tuesday, Sep 28</td>\n",
       "      <td>https://www.amazon.in/gp/slredirect/picassoRed...</td>\n",
       "    </tr>\n",
       "    <tr>\n",
       "      <th>1</th>\n",
       "      <td>Kadence</td>\n",
       "      <td>Kadence Guitar Frontier Series, Blue Acoustic ...</td>\n",
       "      <td>4 out of 5</td>\n",
       "      <td>284 global ratings</td>\n",
       "      <td>₹5,999.00</td>\n",
       "      <td>7 Days Replacement</td>\n",
       "      <td>Tuesday, Sep 28</td>\n",
       "      <td>https://www.amazon.in/gp/slredirect/picassoRed...</td>\n",
       "    </tr>\n",
       "    <tr>\n",
       "      <th>2</th>\n",
       "      <td>Juârez</td>\n",
       "      <td>Juârez Acoustic Guitar, 38 Inch Cutaway, 038C ...</td>\n",
       "      <td>4 out of 5</td>\n",
       "      <td>13,051 global ratings</td>\n",
       "      <td>₹2,649.00</td>\n",
       "      <td>7 Days Replacement</td>\n",
       "      <td>Sunday, Sep 26</td>\n",
       "      <td>https://www.amazon.in/gp/slredirect/picassoRed...</td>\n",
       "    </tr>\n",
       "    <tr>\n",
       "      <th>3</th>\n",
       "      <td>Kadence</td>\n",
       "      <td>Kadence Frontier Jumbo Semi Acoustic Guitar Wi...</td>\n",
       "      <td>3.9 out of 5</td>\n",
       "      <td>1,027 global ratings</td>\n",
       "      <td>--</td>\n",
       "      <td>7 Days Replacement</td>\n",
       "      <td>Tuesday, Sep 28</td>\n",
       "      <td>https://www.amazon.in/gp/slredirect/picassoRed...</td>\n",
       "    </tr>\n",
       "    <tr>\n",
       "      <th>4</th>\n",
       "      <td>Juârez</td>\n",
       "      <td>Juârez Acoustic Guitar, 38 Inch Cutaway, 038C ...</td>\n",
       "      <td>4 out of 5</td>\n",
       "      <td>13,051 global ratings</td>\n",
       "      <td>₹2,649.00</td>\n",
       "      <td>7 Days Replacement</td>\n",
       "      <td>Sunday, Sep 26</td>\n",
       "      <td>https://www.amazon.in/Juarez-Acoustic-Cutaway-...</td>\n",
       "    </tr>\n",
       "    <tr>\n",
       "      <th>...</th>\n",
       "      <td>...</td>\n",
       "      <td>...</td>\n",
       "      <td>...</td>\n",
       "      <td>...</td>\n",
       "      <td>...</td>\n",
       "      <td>...</td>\n",
       "      <td>...</td>\n",
       "      <td>...</td>\n",
       "    </tr>\n",
       "    <tr>\n",
       "      <th>178</th>\n",
       "      <td>JUAREZ</td>\n",
       "      <td>JUAREZ Fiésta 41 Inch Acoustic Guitar Cutaway ...</td>\n",
       "      <td>3.5 out of 5</td>\n",
       "      <td>16 global ratings</td>\n",
       "      <td>₹3,848.00</td>\n",
       "      <td>7 Days Replacement</td>\n",
       "      <td>Sunday, Sep 26</td>\n",
       "      <td>https://www.amazon.in/gp/slredirect/picassoRed...</td>\n",
       "    </tr>\n",
       "    <tr>\n",
       "      <th>179</th>\n",
       "      <td>--</td>\n",
       "      <td>Pick Storage Box, Pick Storage Case Portable f...</td>\n",
       "      <td>--</td>\n",
       "      <td>--</td>\n",
       "      <td>₹2,369.00</td>\n",
       "      <td>Warranty Policy</td>\n",
       "      <td>Nov 9 - 16</td>\n",
       "      <td>https://www.amazon.in/gp/slredirect/picassoRed...</td>\n",
       "    </tr>\n",
       "    <tr>\n",
       "      <th>180</th>\n",
       "      <td>JUAREZ</td>\n",
       "      <td>JUAREZ Arpeggio Guitar JRA39SR-BK-K, black</td>\n",
       "      <td>4.1 out of 5</td>\n",
       "      <td>5 global ratings</td>\n",
       "      <td>₹6,739.00</td>\n",
       "      <td>7 Days Replacement</td>\n",
       "      <td>Sunday, Sep 26</td>\n",
       "      <td>https://www.amazon.in/gp/slredirect/picassoRed...</td>\n",
       "    </tr>\n",
       "    <tr>\n",
       "      <th>181</th>\n",
       "      <td>Blueberry</td>\n",
       "      <td>Blueberry B-D38, 38 Inch Acoustic Guitar Kit I...</td>\n",
       "      <td>3.7 out of 5</td>\n",
       "      <td>11 global ratings</td>\n",
       "      <td>₹2,795.00</td>\n",
       "      <td>7 Days Replacement</td>\n",
       "      <td>Tuesday, Sep 28</td>\n",
       "      <td>https://www.amazon.in/gp/slredirect/picassoRed...</td>\n",
       "    </tr>\n",
       "    <tr>\n",
       "      <th>182</th>\n",
       "      <td>Kadence</td>\n",
       "      <td>Kadence Guitar Acoustica Series, Electric Acou...</td>\n",
       "      <td>3.9 out of 5</td>\n",
       "      <td>707 global ratings</td>\n",
       "      <td>--</td>\n",
       "      <td>7 Days Replacement</td>\n",
       "      <td>Tuesday, Sep 28</td>\n",
       "      <td>https://aax-eu.amazon.in/x/c/QtuWaSf3ANBq2I9_u...</td>\n",
       "    </tr>\n",
       "  </tbody>\n",
       "</table>\n",
       "<p>183 rows × 8 columns</p>\n",
       "</div>"
      ],
      "text/plain": [
       "         Brand                                       Product_name  \\\n",
       "0     Medellin  Medellin 38in Premium All Wood Acoustic Guitar...   \n",
       "1      Kadence  Kadence Guitar Frontier Series, Blue Acoustic ...   \n",
       "2       Juârez  Juârez Acoustic Guitar, 38 Inch Cutaway, 038C ...   \n",
       "3      Kadence  Kadence Frontier Jumbo Semi Acoustic Guitar Wi...   \n",
       "4       Juârez  Juârez Acoustic Guitar, 38 Inch Cutaway, 038C ...   \n",
       "..         ...                                                ...   \n",
       "178     JUAREZ  JUAREZ Fiésta 41 Inch Acoustic Guitar Cutaway ...   \n",
       "179         --  Pick Storage Box, Pick Storage Case Portable f...   \n",
       "180     JUAREZ         JUAREZ Arpeggio Guitar JRA39SR-BK-K, black   \n",
       "181  Blueberry  Blueberry B-D38, 38 Inch Acoustic Guitar Kit I...   \n",
       "182    Kadence  Kadence Guitar Acoustica Series, Electric Acou...   \n",
       "\n",
       "           Rating         No. of Ratings      Price     Return/Exchange  \\\n",
       "0    3.9 out of 5     594 global ratings  ₹3,199.00  7 Days Replacement   \n",
       "1      4 out of 5     284 global ratings  ₹5,999.00  7 Days Replacement   \n",
       "2      4 out of 5  13,051 global ratings  ₹2,649.00  7 Days Replacement   \n",
       "3    3.9 out of 5   1,027 global ratings         --  7 Days Replacement   \n",
       "4      4 out of 5  13,051 global ratings  ₹2,649.00  7 Days Replacement   \n",
       "..            ...                    ...        ...                 ...   \n",
       "178  3.5 out of 5      16 global ratings  ₹3,848.00  7 Days Replacement   \n",
       "179            --                     --  ₹2,369.00     Warranty Policy   \n",
       "180  4.1 out of 5       5 global ratings  ₹6,739.00  7 Days Replacement   \n",
       "181  3.7 out of 5      11 global ratings  ₹2,795.00  7 Days Replacement   \n",
       "182  3.9 out of 5     707 global ratings         --  7 Days Replacement   \n",
       "\n",
       "    Excepted Deivery                                        Product URL  \n",
       "0    Tuesday, Sep 28  https://www.amazon.in/gp/slredirect/picassoRed...  \n",
       "1    Tuesday, Sep 28  https://www.amazon.in/gp/slredirect/picassoRed...  \n",
       "2     Sunday, Sep 26  https://www.amazon.in/gp/slredirect/picassoRed...  \n",
       "3    Tuesday, Sep 28  https://www.amazon.in/gp/slredirect/picassoRed...  \n",
       "4     Sunday, Sep 26  https://www.amazon.in/Juarez-Acoustic-Cutaway-...  \n",
       "..               ...                                                ...  \n",
       "178   Sunday, Sep 26  https://www.amazon.in/gp/slredirect/picassoRed...  \n",
       "179       Nov 9 - 16  https://www.amazon.in/gp/slredirect/picassoRed...  \n",
       "180   Sunday, Sep 26  https://www.amazon.in/gp/slredirect/picassoRed...  \n",
       "181  Tuesday, Sep 28  https://www.amazon.in/gp/slredirect/picassoRed...  \n",
       "182  Tuesday, Sep 28  https://aax-eu.amazon.in/x/c/QtuWaSf3ANBq2I9_u...  \n",
       "\n",
       "[183 rows x 8 columns]"
      ]
     },
     "execution_count": 33,
     "metadata": {},
     "output_type": "execute_result"
    }
   ],
   "source": [
    "df_amazon = pd.DataFrame({})\n",
    "df_amazon[\"Brand\"] = Brand\n",
    "df_amazon[\"Product_name\"] = Product_name\n",
    "df_amazon[\"Rating\"] = Rating\n",
    "df_amazon[\"No. of Ratings\"] = No_ratings\n",
    "df_amazon[\"Price\"] = Price\n",
    "df_amazon[\"Return/Exchange\"] = Exchange\n",
    "df_amazon[\"Excepted Deivery\"] = Excepted_Delivery\n",
    "df_amazon[\"Product URL\"] = url0 \n",
    "df_amazon"
   ]
  },
  {
   "cell_type": "code",
   "execution_count": 34,
   "metadata": {},
   "outputs": [],
   "source": [
    "driver.close()"
   ]
  },
  {
   "cell_type": "markdown",
   "metadata": {},
   "source": [
    "### Q.3)Write a python program to access the search bar and search button on images.google.com and scrape 100 images each for keywords ‘fruits’, ‘cars’ and ‘Machine Learning’."
   ]
  },
  {
   "cell_type": "code",
   "execution_count": 117,
   "metadata": {},
   "outputs": [
    {
     "name": "stdout",
     "output_type": "stream",
     "text": [
      "Note: you may need to restart the kernel to use updated packages.\n",
      "Collecting git+https://github.com/Joeclinton1/google-images-download\n",
      "  Cloning https://github.com/Joeclinton1/google-images-download to c:\\users\\rohan\\appdata\\local\\temp\\pip-req-build-lbpt75fv\n",
      "Requirement already satisfied: selenium in c:\\users\\rohan\\anaconda3\\lib\\site-packages (from google-images-download==2.8.0) (3.141.0)\n",
      "Requirement already satisfied: urllib3 in c:\\users\\rohan\\anaconda3\\lib\\site-packages (from selenium->google-images-download==2.8.0) (1.25.11)\n",
      "Building wheels for collected packages: google-images-download\n",
      "  Building wheel for google-images-download (setup.py): started\n",
      "  Building wheel for google-images-download (setup.py): finished with status 'done'\n",
      "  Created wheel for google-images-download: filename=google_images_download-2.8.0-py2.py3-none-any.whl size=15803 sha256=41fa87cd6966ae137d6ef046ade29ea712c259f1004936a6353484170c7e4431\n",
      "  Stored in directory: C:\\Users\\rohan\\AppData\\Local\\Temp\\pip-ephem-wheel-cache-khlhvffm\\wheels\\9e\\c7\\09\\25a11dd56c8a0eb5218e33e7695b6df71efd388acba79cb0ab\n",
      "Successfully built google-images-download\n",
      "Installing collected packages: google-images-download\n",
      "Successfully installed google-images-download-2.8.0\n"
     ]
    }
   ],
   "source": [
    "pip install git+https://github.com/Joeclinton1/google-images-download"
   ]
  },
  {
   "cell_type": "code",
   "execution_count": 118,
   "metadata": {},
   "outputs": [
    {
     "name": "stdout",
     "output_type": "stream",
     "text": [
      "\n",
      "Item no.: 1 --> Item name = fruits\n",
      "Evaluating...\n",
      "Starting Download...\n",
      "Completed Image ====> 1.91wdmqafl6l.jpg\n",
      "Completed Image ====> 2.maxresdefault.jpg\n",
      "Completed Image ====> 3.2-2-2-3foodgroups_fruits_detailfeature.jpg\n",
      "Completed Image ====> 4.8a6b4439916eb8c3d52cbc2de66150d7.png\n",
      "Completed Image ====> 5.assortment-of-colorful-ripe-tropical-fruits-top-royalty-free-image-995518546-1564092355.jpg\n",
      "Completed Image ====> 6.71dcugrth4l.jpg\n",
      "Completed Image ====> 7.shutterstock-252338818.jpg\n",
      "Completed Image ====> 8.c22e324ceb7a7f5b1fc69152dd68d85b.jpg\n",
      "Completed Image ====> 9.dole-produce-fruit-medley.png\n",
      "Completed Image ====> 10.capture.png\n",
      "Completed Image ====> 11.51eb6a+nrwl._sx325_bo1,204,203,200_.jpg\n",
      "Completed Image ====> 12.fruit-og-d176ef00.jpg\n",
      "Completed Image ====> 13.how-to-store-fruit-to-keep-it-fresh-resized.jpg\n",
      "Completed Image ====> 14.fruits-and-vegetables-picture-id461936101.jpg\n",
      "Completed Image ====> 15.culinary_fruits_front_view.jpg\n",
      "Completed Image ====> 16.fruit-english-vocabulary.jpg\n",
      "Completed Image ====> 17.1601380634637_1601380630003-4.png\n",
      "Completed Image ====> 18.fruitsalad-98841227-770x533-1.jpg\n",
      "Completed Image ====> 19.ordinary-fruits-with-amazing-health-benefits-05-1440x810.jpg\n",
      "Completed Image ====> 20.maxresdefault.jpg\n",
      "Completed Image ====> 21.cut-fruits-1.jpg.webp\n",
      "Completed Image ====> 22.76992342.cms.jpg\n",
      "Completed Image ====> 23.fruit-732x549-thumbnail.jpg\n",
      "Completed Image ====> 24.bananas-5c6a36a346e0fb0001f0e4a3.jpg\n",
      "Completed Image ====> 25.attachment-gettyimages-924608710.jpg\n",
      "Completed Image ====> 26._power_fruit_pomegranate_0.jpg\n",
      "Completed Image ====> 27.fruits-for-weight-loss-370x207.jpg.webp\n",
      "Completed Image ====> 28.fruit-still-life-732x549-thumbnail.jpg\n",
      "Completed Image ====> 29.fruits.jpg\n",
      "Completed Image ====> 30.fruits-vegetables-shopping-grocery-1109.jpg\n",
      "Completed Image ====> 31.exotic-fruits-you-never-knew-existed-mangosteen-1200x900.jpg\n",
      "Completed Image ====> 32.apples-best-fruit-weight-loss.jpg\n",
      "Completed Image ====> 33.ordinary-fruits-with-amazing-health-benefits-09-1440x810.jpg\n",
      "Completed Image ====> 34.istock-636877252.jpg\n",
      "Completed Image ====> 35.thai-fruit-32-1.jpg\n",
      "Completed Image ====> 36.2kakjdo8_fruits_625x300_27_november_19.jpg.webp\n",
      "Completed Image ====> 37.collection-of-fruits-picture-id177537401.jpg\n",
      "Completed Image ====> 38.0cdd7507bbb4e81d1e389664eab5c5b5.png\n",
      "Completed Image ====> 39.colorful-fruits-tasty-fresh-ripe-juicy-white-desk_179666-169.jpg\n",
      "Completed Image ====> 40.4142229417524001.jpg\n",
      "Completed Image ====> 41.plush-design-studio-vgcdu8k5l_e-unsplash.jpg\n",
      "Completed Image ====> 42.mixed-fruits-100.jpg\n",
      "Completed Image ====> 43.84969948.cms.jpg\n",
      "Completed Image ====> 44.3b360279-8b43-40f3-9b11-604749128187.jpg\n",
      "Completed Image ====> 45.811eedrtj5l.jpg\n",
      "Completed Image ====> 46.kiwi-anti-aging.jpg\n",
      "Completed Image ====> 47.rare-fruits-tout.jpg\n",
      "Completed Image ====> 48.maxresdefault.jpg\n",
      "Completed Image ====> 49.ga.jpeg\n",
      "Completed Image ====> 50.fruits-1606296336.jpg\n",
      "Completed Image ====> 51.220px-pomegranate_fruit_-_whole_and_piece_with_arils.jpg\n",
      "Completed Image ====> 52.fruit_163436567.jpg\n",
      "URLError on an image...trying next one... Error: HTTP Error 521: \n",
      "Completed Image ====> 53.large-poster-fruits-name-poster-educational-poster-colorful-original-imaeyy4feasj2yjz.jpeg\n",
      "Completed Image ====> 54.mango-bowl-fruit-1296x728-body.jpg\n",
      "Completed Image ====> 55.fresh-fruits-image.jpg\n",
      "Completed Image ====> 56.photo-1610832958506-aa56368176cf.jpg\n",
      "Completed Image ====> 57.ga.jpeg\n",
      "Completed Image ====> 58.image.jpg\n",
      "Completed Image ====> 59.apricots.jpg\n",
      "Completed Image ====> 60.istock_000012392039_campaign.jpg\n",
      "Completed Image ====> 61.gettyimages-1084246092-5c200bfac9e77c00017365af.jpg\n",
      "Completed Image ====> 62.carousel.jpg\n",
      "Completed Image ====> 63.dragon-fruit_1624713810023_1627993091830.jpg.webp\n",
      "URLError on an image...trying next one... Error: <urlopen error [WinError 10061] No connection could be made because the target machine actively refused it>\n",
      "Completed Image ====> 64.rambutan_wikimedia_forest_and_kim_starr.jpg\n",
      "Completed Image ====> 65.image.axd.jpg\n",
      "Completed Image ====> 66.fruits-dreamstime.jpg\n",
      "Completed Image ====> 67.fruit-and-vegetables.jpg\n",
      "Completed Image ====> 68.high-protein-fruits-kiwi.jpg\n",
      "Completed Image ====> 69.84261743.jpg\n",
      "Completed Image ====> 70.fruits-to-avoid-if-you-have-diabetes-1087587-primary-recirc-3a95a09a48cb46b49d5632326f9405d3.jpg\n",
      "Completed Image ====> 71.1608735821_pjimage-1.jpg\n",
      "Completed Image ====> 72.photo-1586999528871-ded77bc9656c.jpg\n",
      "Completed Image ====> 73.324431_2200-800x1200.jpg\n",
      "Completed Image ====> 74.summer-fruits.jpg\n",
      "Completed Image ====> 75.image.jpg\n",
      "Completed Image ====> 76.37431.jpg\n",
      "Completed Image ====> 77.istock-924858812.jpg\n",
      "Completed Image ====> 78.9780128161845.jpg\n",
      "Completed Image ====> 79.fruitguys_fruitcolors_2015.jpg\n",
      "Completed Image ====> 80.low-in-sugar-fruits_crop-e7e2361ab34641b4b529df389ce88e34.jpg\n",
      "Completed Image ====> 81.fruits-in-spanish-3079956_final1-5c538f4bc9e77c000102b941.png\n",
      "Completed Image ====> 82.436ba34edc98ed65c9ed20e33456842b.jpg\n",
      "Completed Image ====> 83.infographic-about-seasonal-fruits-it-explains-what-fruits-you-c-vector-id635671794.jpg\n",
      "Completed Image ====> 84.shutterstock_1017075634-1-810x271.jpg\n",
      "Completed Image ====> 85.78607953.cms.jpg\n",
      "Completed Image ====> 86.81ivwsnm+wl._ac_sx679_.jpg\n",
      "Completed Image ====> 87.high-and-low-carb-fruits-main-1515515761.jpg\n",
      "Completed Image ====> 88.super-fruits-acai-berry.jpg\n",
      "Completed Image ====> 89.gettyimages-1247930626-500px.jpg\n",
      "Completed Image ====> 90.strawberries.jpg\n",
      "Completed Image ====> 91.fruits_getty759.jpg\n",
      "Completed Image ====> 92.fruit.jpg\n",
      "Completed Image ====> 93.nurserylive-combo-packs-plants-top-5-fruits-plants-to-grow-in-pot-16969389408396.jpg\n",
      "Completed Image ====> 94.fruit-salad.jpg\n",
      "Completed Image ====> 95.fruits-vector-collection-english-names-260nw-242929888.jpg\n",
      "Completed Image ====> 96.different-of-fruits-realistic-vector-21566878.jpg\n",
      "Completed Image ====> 97.feature_bananas.jpg\n",
      "Completed Image ====> 98.09sci-bakalar-foods-brain1-mobilemasterat3x.jpg\n",
      "\n",
      "\n",
      "Unfortunately all 100 could not be downloaded because some images were not downloadable. 98 is all we got for this search filter!\n",
      "\n",
      "Errors: 2\n",
      "\n",
      "\n",
      "Item no.: 2 --> Item name = cars\n",
      "Evaluating...\n",
      "Starting Download...\n",
      "Completed Image ====> 1.https%3a%2f%2fspecials-images.forbesimg.com%2fimageserve%2f5d35eacaf1176b0008974b54%2f2020-chevrolet-corvette-stingray%2f960x0.jpg%3fcropx1%3d790%26cropx2%3d5350%26cropy1%3d784%26cropy2%3d3349.jpg\n",
      "Completed Image ====> 2.2022-chevrolet-corvette-z06-1607016574.jpg\n",
      "Completed Image ====> 3.most-expensive-new-cars-ever.webp\n",
      "Completed Image ====> 4.business-mustange-era04140.jpg\n",
      "Completed Image ====> 5.s-presso-34.png\n",
      "Completed Image ====> 6.fastest-cars-world-2021-luxe-digital%402x.jpg\n",
      "Completed Image ====> 7.coolest-cars-feature.webp\n",
      "Completed Image ====> 8.transpo_g70_ta-518126.jpg\n",
      "Completed Image ====> 9.cars_2006.jpg\n",
      "Completed Image ====> 10.screenshot-2020-05-12-at-15.10.34.png\n",
      "Completed Image ====> 11.a4e8f394-313b-11ea-a329-0bcf87a328f2.jpg\n",
      "IOError on an image...trying next one... Error: The read operation timed out\n",
      "Completed Image ====> 12.photo-1525609004556-c46c7d6cf023.jpg\n",
      "Completed Image ====> 13.tesla-roadster-2020-1024-03.jpg\n",
      "Completed Image ====> 14.sonata-hero-option1-764a5360-edit.jpg\n",
      "Completed Image ====> 15.buy-a-kia-telluride-instead-gear-patrol-slide-1.jpg\n",
      "Completed Image ====> 16.hq720.jpg\n",
      "Completed Image ====> 17.koenigsegg-gemera-101-1583247403.jpg\n",
      "Completed Image ====> 18.98_-_fastest_accelerating_road_cars_-_ferrari_f8_tributo.jpg\n",
      "Completed Image ====> 19.front-left-side-47.jpg.webp\n",
      "Completed Image ====> 20.amg-gt-exterior-right-front-three-quarter-60800.jpeg\n",
      "Completed Image ====> 21.skysphere_2021_3371_srgb_1920x1080.jpg.webp\n",
      "Completed Image ====> 22.the-bugatti-chiron-is-shown-to-the-goodwood-festival-of-news-photo-1600106522.jpg\n",
      "Completed Image ====> 23.7670653be977daffc2379a8f74916d628b430af7e67d8b5bee7a5169e1630af1._sx1080_.jpg\n",
      "Completed Image ====> 24.covcar.jpg\n",
      "Completed Image ====> 25.front-left-side-47.jpg.webp\n",
      "Completed Image ====> 26.maxresdefault.jpg\n",
      "Completed Image ====> 27.p90418525-collective-of-three-motor-cars-celebrate-the-breadth-of-contemporary-bespoke-craftsmanship-at-auto-c-600px.jpg\n",
      "Completed Image ====> 28.file-20190514-60570-gfti2h.jpg\n",
      "Completed Image ====> 29.stagepushableelement_85526857.mq6.12.20210823091350.jpeg.webp\n",
      "Completed Image ====> 30.motortrend-most-important-cars-of-the-decade.jpg.webp\n",
      "Completed Image ====> 31.1_rangerover_tracking.jpg\n",
      "Completed Image ====> 32.3500.jpg\n",
      "Completed Image ====> 33.2020-new-models-guide-lead.jpg\n",
      "Completed Image ====> 34.2018-rolls-royce-phantom-1536152159.png\n",
      "Completed Image ====> 35.fordev-1200x800.jpeg\n",
      "Completed Image ====> 36.nissan-zproto-400z-960x540-1.png.jpg\n",
      "Completed Image ====> 37.106845268-1614203269431-applecar_yt_thumbnail_option.png.jpg\n",
      "Completed Image ====> 38.550cbf03ecad04de2c7c008a.jpg\n",
      "Completed Image ====> 39.r_carsfranchise_cars3_postbluray_mobile_10d32ee1.jpeg.webp\n",
      "Completed Image ====> 40.thumb_b33ae747-184c-4b10-8eef-4ca4d29f14ba.jpg\n",
      "Invalid image format 'text/html'. Skipping...\n",
      "Completed Image ====> 41.mv5bmzmwywzkzjctztu5ny00mdniltlkmmytnzkyodmwmguxyza2xkeyxkfqcgdeqxvynzu1nze3ntg@._v1_ql75_ux500_cr0,47,500,281_.jpg\n",
      "Completed Image ====> 42.most-expensive-cars-2021-maserati-mc20-luxe-digital%402x.jpg\n",
      "Completed Image ====> 43._118699350_gettyimages-1199242135.jpg\n",
      "Completed Image ====> 44.altroz-home.jpg\n",
      "Completed Image ====> 45.street-cars-18-asst-212053051_00.jpeg\n",
      "Completed Image ====> 46.most-expensive-cars-in-the-world-main.jpg\n",
      "Completed Image ====> 47.exterior-right-front-three-quarter-10.jpeg\n",
      "Completed Image ====> 48.91v8yl3rmzl._ri_.jpg\n",
      "IOError on an image...trying next one... Error: The read operation timed out\n",
      "Completed Image ====> 49.new-ghost-white-fr-3-4-1-1598911711.jpg\n",
      "Completed Image ====> 50.imgw.ashx.jpg\n",
      "Completed Image ====> 51.05sp-european-inyt1-mediumsquareat3x-v3.jpg\n",
      "Completed Image ====> 52.deliveryservice.jpg\n",
      "IOError on an image...trying next one... Error: The read operation timed out\n",
      "Completed Image ====> 53.se-image-85e0e9ab23134961c88e4ecea2bff53f.jpg\n",
      "Completed Image ====> 54.flying%20spur%20mulliner%201920x1080p%20windsor%20blue.jpg\n",
      "Completed Image ====> 55.photo-1492144534655-ae79c964c9d7.jpg\n",
      "Completed Image ====> 56.hydrogen-car.jpg\n",
      "Completed Image ====> 57.maxresdefault.jpg\n",
      "Completed Image ====> 58.mostbeauty-1584578506.jpg\n",
      "Completed Image ====> 59._108762211_mediaitem108762210.jpg\n",
      "Completed Image ====> 60.design-mobile.jpg\n",
      "Completed Image ====> 61.dsc03868.jpg\n",
      "Completed Image ====> 62.2020-bugatti%20centodieci-1001x565-%282%29.jpg\n",
      "Completed Image ====> 63.674540-h.jpg\n",
      "Completed Image ====> 64.18c0973-028-w768xh1536-cutout.jpg\n",
      "Completed Image ====> 65.247wallst.com-247ws-543507-ms.jpg\n",
      "Completed Image ====> 66.nt9uj8jg_top-7-cars-offered-with-maximum-discounts-this-may_625x300_23_may_21.jpg.webp\n",
      "Completed Image ====> 67.best-cars-under-rs-7-lakh-to-buy-in-2021.jpg\n",
      "Completed Image ====> 68.these-are-the-top-five-cars-with-the-highest-waiting-period-in-india.jpg\n",
      "Completed Image ====> 69.i20-n-line-right-front-three-quarter-2.jpeg\n",
      "Completed Image ====> 70.upcoming-cars-in-india-2021-rs-1-crore-and-above.jpg\n",
      "Completed Image ====> 71.cars_2_poster.jpg\n",
      "Completed Image ====> 72.lambo-lambo-svj-1.jpg\n",
      "Completed Image ====> 73.mm8010_130529_08768_2x1.jpg.webp\n",
      "Completed Image ====> 74.640x320_zig.jpg.webp\n",
      "Completed Image ====> 75.front-left-side-47.jpg.webp\n",
      "Completed Image ====> 76.tesla-on-bitcars-with-bitcoin-mob_1024x.progressive.jpg\n",
      "Completed Image ====> 77.2021cars_audietron.jpg\n",
      "Completed Image ====> 78.2021-ford-mustang-mach-e-front-16-9.jpg.webp\n",
      "Completed Image ====> 79.51dnnnrw9sl._sx425_.jpg\n",
      "IOError on an image...trying next one... Error: The read operation timed out\n",
      "Completed Image ====> 80.homepage-ownership-tile-1200x1200px:crop-1x1.webp\n",
      "Completed Image ====> 81.will-consumers-finally-be-able-to-buy-new-cars-online-rectangle.jpg\n",
      "Completed Image ====> 82.taycan_blue_turbo_025.jpg\n",
      "Completed Image ====> 83.p_cars3_19643_3ab8aca1.jpeg.webp\n",
      "Completed Image ====> 84.ca5f6426e4a1aa93d215da26f1832a5fbde5fbf05dc70776271d3a07.jpg\n",
      "Completed Image ====> 85.mobile-banner-toyota-with-india-1030x500.jpg\n",
      "Completed Image ====> 86.f8-tributo-exterior-right-front-three-quarter-2.jpeg\n",
      "Completed Image ====> 87.2020-land-rover-discovery-sport-in-action-m2.jpg\n",
      "Completed Image ====> 88.mustang-1-1577523921.jpg\n",
      "Completed Image ====> 89.se-image-e273a881495acbebe4fc6f0a150b8678.jpg\n",
      "Completed Image ====> 90.imageresizer.ashx.jpg\n",
      "Completed Image ====> 91.mercedes-benz-passenger-cars-e-class-coupe-c-238-avantgarde-obsidian-black-metallic-3400x1440.jpeg.webp\n",
      "Completed Image ====> 92.180320-flying-car-aeromobil50-se-143p.jpg\n",
      "Completed Image ====> 93.after-tesla-now-mercedes-benz-calls-for-reduced-import-duty-on-cars.jpg\n",
      "Completed Image ====> 94.buy_car.jpeg\n",
      "Completed Image ====> 95.lucid-air-exterior-09.jpg\n",
      "\n",
      "\n",
      "Unfortunately all 100 could not be downloaded because some images were not downloadable. 95 is all we got for this search filter!\n",
      "\n",
      "Errors: 5\n",
      "\n",
      "\n",
      "Item no.: 3 --> Item name =  Machine Learning\n",
      "Evaluating...\n",
      "Starting Download...\n",
      "Completed Image ====> 1.what-is-machine-learning-1200x900.jpg\n",
      "Completed Image ====> 2.machine-learning1.png\n",
      "Completed Image ====> 3.https%3a%2f%2fspecials-images.forbesimg.com%2fdam%2fimageserve%2f1129869424%2f960x0.jpg%3ffit%3dscale.jpg\n",
      "Completed Image ====> 4.70332https___specials-images.forbesimg.com_dam_imageserve_966248982_960x0.jpg\n",
      "Completed Image ====> 5.istock-962219860-2-scaled.jpg.webp\n",
      "Completed Image ====> 6.1*c_fib-ygbnml6nntygbmhq.jpeg\n",
      "URLError on an image...trying next one... Error: <urlopen error [SSL: CERTIFICATE_VERIFY_FAILED] certificate verify failed: unable to get local issuer certificate (_ssl.c:1123)>\n",
      "Completed Image ====> 7.1*cg6u1qstydijh9bpl42e-q.jpeg\n",
      "Completed Image ====> 8.how-machine-learning-is-predicting-synthetic-products.jpg\n",
      "Completed Image ====> 9.machine-learning-definition.jpeg\n",
      "Completed Image ====> 10.deep-learning-vs-machine-learning-readspeaker.jpg\n",
      "Completed Image ====> 11.machine_learning_792x214.jpg\n",
      "Completed Image ====> 12.deep-learning-vs-machine-learning.jpg\n",
      "Completed Image ====> 13.how-to-develop-machine-learning-applications-for-business-featured.jpg\n",
      "Completed Image ====> 14.33797061.jpg\n",
      "Completed Image ====> 15.blog-images-forget-machine-learning-humans-still-have-a-lot-to-learn-part-ii.jpg\n",
      "Completed Image ====> 16.winml-graphic.png\n",
      "Completed Image ====> 17.machine-learning-tools.jpg\n",
      "Completed Image ====> 18.machine-learning-wiki.jpg\n",
      "Completed Image ====> 19.02-machinelearningvsdeeplearning_mesa%20de%20trabajo%201%20copia%202_mesa%20de%20trabajo%201%20copia%202.jpg\n",
      "Completed Image ====> 20.machinelearning3.png\n",
      "Completed Image ====> 21.gettyimages-1020317514-1-scaled.jpg\n",
      "Completed Image ====> 22.machine-learning-1024x591.png\n",
      "Completed Image ====> 23.5870-article-210524-deep-neural-network-body-text.png\n",
      "Completed Image ====> 24.1*8wu0hfuy3uk_d8y7tbiyfq.png\n",
      "Completed Image ====> 25.maxresdefault.jpg\n",
      "Completed Image ====> 26.machine-learning.jpg\n",
      "Completed Image ====> 27.dl%20and%20ml1%20resized.jpg\n",
      "Completed Image ====> 28.nokia-analytics-banner.jpg.webp\n",
      "Completed Image ====> 29.220px-ai-ml-dl.svg.png\n",
      "Completed Image ====> 30.machine-learning-uses.jpg\n",
      "Completed Image ====> 31.machinelearninginmarketing-1621x1000.jpg\n",
      "Completed Image ====> 32.5-machine-learning-concepts-you-must-understand-to-clear-a-data-science-interview.jpg.png\n",
      "Completed Image ====> 33.what-is-deep-learning.ashx.jpg\n",
      "Completed Image ====> 34.how-machine-learning-is-changing-seo-how-to-adapt-5f60c25878dfc-1520x800.png\n",
      "Completed Image ====> 35.machine-learning-1024x629.jpg\n",
      "Completed Image ====> 36.machine-learning_2.jpg\n",
      "Completed Image ====> 37.applications-of-machine-learning.png\n",
      "Completed Image ====> 38.03tusrjgejmocms3y4zcxe0-7..1569484420.jpg\n",
      "Completed Image ====> 39.rankingflow.jpg\n",
      "Completed Image ====> 40.1626474997609.jpg.webp\n",
      "Completed Image ====> 41.machine-learning-and-mlops-hpe-ezmeral-softwaretg-100851051-large.jpg\n",
      "Completed Image ====> 42.88587machine-learning-concept-chart-keywords-icons-white-background-137897366.jpg\n",
      "Completed Image ====> 43.what-is-machine-learning-header.jpg\n",
      "Completed Image ====> 44.hn_machine_learning_ist.jpg\n",
      "Completed Image ====> 45.machine-learning.jpg.optimal.jpg\n",
      "Completed Image ====> 46.advantages-of-machine-learning-scaled.jpeg\n",
      "Completed Image ====> 47.01-machinelearning_mesa%20de%20trabajo%201%20copia%202_mesa%20de%20trabajo%201%20copia%202.jpg\n",
      "Completed Image ====> 48.machine-learning-infographics-2-scaled.jpg\n",
      "Invalid image format 'text/plain'. Skipping...\n",
      "Completed Image ====> 49.ai-image-deep-net-v3-690px.jpg\n",
      "Completed Image ====> 50.artificial-intelligence-brain.jpg\n",
      "Completed Image ====> 51.5fb24a974499e96f7b2431db_ai%20venn%20diagram.png\n",
      "Completed Image ====> 52.bbva-machine-learning-08112019-1920x1180.png\n",
      "Completed Image ====> 53.rc24-machine-learning.jpg.webp\n",
      "Completed Image ====> 54.business_analytics-machine_learning_process_mobile.jpg\n",
      "Completed Image ====> 55.bigstock-machine-learning-artificial-i-311340295_1024x684.png\n",
      "IOError on an image...trying next one... Error: The read operation timed out\n",
      "Completed Image ====> 56.kf_bhml_032719.jpg\n",
      "Completed Image ====> 57.untitled-1114-01-scaled.jpg\n",
      "Completed Image ====> 58.types-of-machine-learning-1.jpg\n",
      "Completed Image ====> 59.2020_blog_villalon_toolbox-1.png\n",
      "Completed Image ====> 60.screen-shot-2020-02-07-at-8.23.12-am.png\n",
      "Completed Image ====> 61.choosing-the-best-machine-learning-api-for-your-project.jpg\n",
      "Completed Image ====> 62.mlvsdl.png\n",
      "Completed Image ====> 63.winml-model-flow.png\n",
      "Completed Image ====> 64.top-machine-learning-frameworks.jpg.optimal.jpg\n",
      "Completed Image ====> 65.cover-0323-machinelearning_dan_newsletter-b21703f41d807514083e297955e1b46d.png\n",
      "Completed Image ====> 66.machine-learning-vs-deep-learning.png\n",
      "Completed Image ====> 67.deep-learning-diagram.svg\n",
      "Completed Image ====> 68.machine_learning.svg\n",
      "Completed Image ====> 69.word-cloud-on-deep-learning_sizexs-min.jpg\n",
      "Completed Image ====> 70.deploy-machine-learning-models-to-web.jpg\n",
      "Completed Image ====> 71.what-is-the-machine-learning.jpg\n",
      "Completed Image ====> 72.gettyimages-1129377942.jpg\n",
      "Completed Image ====> 73.al-vs-machine-learning-vs-deep-learning-difference.png\n",
      "Completed Image ====> 74.xantaro_ml_dl.png\n",
      "Completed Image ====> 75.https%3a%2f%2fspecials-images.forbesimg.com%2fimageserve%2f1179697528%2fai-artificial-intelligence-concept-central-computer-processors-cpu-concept%2f960x0.jpg%3ffit%3dscale.jpg\n",
      "Completed Image ====> 76.bias-in-machine-learning.jpg\n",
      "Completed Image ====> 77.machine-learning.jpg\n",
      "Completed Image ====> 78.fig-01-copy-1024x630.jpg\n",
      "Completed Image ====> 79.machine-learning-hand-robot-touching-computer-chip-binary-data.jpg\n",
      "Completed Image ====> 80.machine-learning-consulting-company.png\n",
      "Completed Image ====> 81.stockvault-information-technol_1200x768.jpeg\n",
      "Completed Image ====> 82.artificial-intelligence-2.jpg\n",
      "Completed Image ====> 83.titelbild_5-types-of-machine-learning.jpg\n",
      "Completed Image ====> 84.istock-1181216327-750x422-1.jpg\n",
      "Completed Image ====> 85.akira-ai-automated-machine-learning-platform.png\n",
      "Completed Image ====> 86.sitara-machine-learning_am57x-deep-learning-diagram-750x400.jpg\n",
      "Completed Image ====> 87.zxwju3ha.machine-learning-vs-deep-learning.jpg\n",
      "Completed Image ====> 88.is-machine-learning-viable-for-cybersecurity-hero-1.png\n",
      "Completed Image ====> 89.search-engine-machine-learning-60f984e149e45-sej-760x400.jpg\n",
      "Completed Image ====> 90._learn-machine-learning@2x.png\n",
      "Completed Image ====> 91.ai-vs-ml-vs-dl_graphics8_01.jpg\n",
      "Completed Image ====> 92.ai__machine_learning__hands_of_robot_and_human_touching_on_big_data_network_connection_background__science_and_artificial_intelligence_technology__innovation_and_futuristic._1206796363_5000x2661.60dc82e2e6254.png.jpg\n",
      "Completed Image ====> 93.deeplearning-2.jpg\n",
      "Completed Image ====> 94.cropped-2021mlbanner.png\n",
      "Completed Image ====> 95.xdp~course!~machine-learning.jpeg\n",
      "Completed Image ====> 96.what-is-machine-learning_big-793x270.jpg\n",
      "Completed Image ====> 97._hx7juug0wc4htavbzqguyulwjoe2ehcd8av0nnanxbhmmxt-keh1zo-fcswlfy-r9yjjzixcqclj5qsafsr6_hfbrtykkbxdvndahmf03mtv3vne0h5jymxgz8nwkjehs57omdk.png\n",
      "\n",
      "\n",
      "Unfortunately all 100 could not be downloaded because some images were not downloadable. 97 is all we got for this search filter!\n",
      "\n",
      "Errors: 3\n",
      "\n"
     ]
    }
   ],
   "source": [
    "from google_images_download import google_images_download\n",
    "\n",
    "#instantiate the class\n",
    "response = google_images_download.googleimagesdownload()\n",
    "arguments = {\"keywords\":\"fruits,cars, Machine Learning\",\"limit\":100,\"print_urls\":False}\n",
    "paths = response.download(arguments)"
   ]
  },
  {
   "cell_type": "markdown",
   "metadata": {},
   "source": [
    "### Q.4)Write a python program to search for a smartphone(e.g.: Oneplus Nord, pixel 4A, etc."
   ]
  },
  {
   "cell_type": "code",
   "execution_count": 1,
   "metadata": {},
   "outputs": [],
   "source": [
    "import selenium\n",
    "import pandas as pd \n",
    "from selenium import webdriver\n",
    "import time \n",
    "from selenium.common.exceptions import NoSuchElementException"
   ]
  },
  {
   "cell_type": "code",
   "execution_count": 2,
   "metadata": {},
   "outputs": [],
   "source": [
    "driver = webdriver.Chrome(\"chromedriver.exe\")\n",
    "url = \"https://www.flipkart.com/\"\n",
    "driver.get(url)"
   ]
  },
  {
   "cell_type": "code",
   "execution_count": 5,
   "metadata": {},
   "outputs": [],
   "source": [
    "popup = driver.find_element_by_xpath(\"//button[@class='_2KpZ6l _2doB4z']\")\n"
   ]
  },
  {
   "cell_type": "code",
   "execution_count": 6,
   "metadata": {},
   "outputs": [],
   "source": [
    "popup.click()"
   ]
  },
  {
   "cell_type": "code",
   "execution_count": 7,
   "metadata": {},
   "outputs": [
    {
     "data": {
      "text/plain": [
       "<selenium.webdriver.remote.webelement.WebElement (session=\"361b944942e99db1fa994df6e9451442\", element=\"cc501d37-19db-4bf7-bd54-9f7482b1aa52\")>"
      ]
     },
     "execution_count": 7,
     "metadata": {},
     "output_type": "execute_result"
    }
   ],
   "source": [
    "search2 = driver.find_element_by_xpath(\"//input[@class='_3704LK']\")\n",
    "search2"
   ]
  },
  {
   "cell_type": "code",
   "execution_count": 8,
   "metadata": {},
   "outputs": [
    {
     "data": {
      "text/plain": [
       "<selenium.webdriver.remote.webelement.WebElement (session=\"361b944942e99db1fa994df6e9451442\", element=\"cc501d37-19db-4bf7-bd54-9f7482b1aa52\")>"
      ]
     },
     "execution_count": 8,
     "metadata": {},
     "output_type": "execute_result"
    }
   ],
   "source": [
    "search2.send_keys(\"pixel 4A\")\n",
    "search2"
   ]
  },
  {
   "cell_type": "code",
   "execution_count": 9,
   "metadata": {},
   "outputs": [
    {
     "data": {
      "text/plain": [
       "<selenium.webdriver.remote.webelement.WebElement (session=\"361b944942e99db1fa994df6e9451442\", element=\"508a7b1c-95cc-4c8c-b2af-c2ffafb095d5\")>"
      ]
     },
     "execution_count": 9,
     "metadata": {},
     "output_type": "execute_result"
    }
   ],
   "source": [
    "button2 = driver.find_element_by_xpath(\"//button[@class='L0Z3Pu']\")\n",
    "button2"
   ]
  },
  {
   "cell_type": "code",
   "execution_count": 10,
   "metadata": {},
   "outputs": [],
   "source": [
    "button2.click()"
   ]
  },
  {
   "cell_type": "code",
   "execution_count": 11,
   "metadata": {},
   "outputs": [],
   "source": [
    "url2 = []\n",
    "for i in driver.find_elements_by_xpath(\"//a[@class='_1fQZEK']\"):\n",
    "    url2.append(i.get_attribute(\"href\"))"
   ]
  },
  {
   "cell_type": "code",
   "execution_count": 12,
   "metadata": {},
   "outputs": [
    {
     "data": {
      "text/plain": [
       "24"
      ]
     },
     "execution_count": 12,
     "metadata": {},
     "output_type": "execute_result"
    }
   ],
   "source": [
    "len(url2)"
   ]
  },
  {
   "cell_type": "code",
   "execution_count": 13,
   "metadata": {},
   "outputs": [],
   "source": [
    "Brand_name = []\n",
    "Smart_phone_name = []\n",
    "Colour = []\n",
    "RAM = []\n",
    "ROM = []\n",
    "P_Camera = []\n",
    "S_Camera = []\n",
    "Display_size = []\n",
    "Display_resolution = []\n",
    "Processor = []\n",
    "Processor_core = []\n",
    "Battery_capacity = []\n",
    "Product_url1 = []"
   ]
  },
  {
   "cell_type": "code",
   "execution_count": 19,
   "metadata": {},
   "outputs": [],
   "source": [
    "for a in url2:\n",
    "    driver.get(a)\n",
    "    time.sleep(2)\n",
    "    button1 = driver.find_element_by_xpath(\"//button[@class='_2KpZ6l _1FH0tX']\")\n",
    "    button1.click()\n",
    "    try:\n",
    "        brand1 = driver.find_element_by_xpath(\"//span[@class='B_NuCI']\")\n",
    "        Brand_name.append(brand1.text)\n",
    "    except:\n",
    "        Brand_name.append(\"--\")\n",
    "    try:\n",
    "        name1 = driver.find_element_by_xpath(\"((//div[@class='_3k-BhJ'])[1]//li)[3]\")\n",
    "        Smart_phone_name.append(name1.text)\n",
    "    except:\n",
    "        Smart_phone_name.append(\"--\")\n",
    "    try:\n",
    "        colour = driver.find_element_by_xpath(\"((//div[@class='_3k-BhJ'])[1]//li)[4]\")\n",
    "        Colour.append(colour.text)\n",
    "    except:\n",
    "        Colour.append(\"--\")\n"
   ]
  },
  {
   "cell_type": "code",
   "execution_count": 20,
   "metadata": {},
   "outputs": [],
   "source": [
    "for a in url2:\n",
    "    driver.get(a)\n",
    "    time.sleep(2)\n",
    "    button1 = driver.find_element_by_xpath(\"//button[@class='_2KpZ6l _1FH0tX']\")\n",
    "    button1.click()\n",
    "    try:\n",
    "        pcamera= driver.find_element_by_xpath(\"((//div[@class='_3k-BhJ'])[5]//li)[2]\")\n",
    "        P_Camera.append(pcamera.text)\n",
    "    except:\n",
    "        P_Camera.append(\"--\")\n",
    "    try:\n",
    "        scamera = driver.find_element_by_xpath(\"((//div[@class='_3k-BhJ'])[5]//li)[5]\")\n",
    "        S_Camera.append(scamera.text)\n",
    "    except:\n",
    "        S_Camera.append(\"--\")\n",
    "    try:\n",
    "        displays = driver.find_element_by_xpath(\"((//div[@class='_3k-BhJ'])[2]//li)[1]\")\n",
    "        Display_size.append(displays.text)\n",
    "    except:\n",
    "        Display_size.append(\"--\")\n",
    "    try:\n",
    "        displayr = driver.find_element_by_xpath(\"((//div[@class='_3k-BhJ'])[2]//li)[2]\")\n",
    "        Display_resolution.append(displayr.text)\n",
    "    except:\n",
    "        Display_resolution.append(\"--\")\n"
   ]
  },
  {
   "cell_type": "code",
   "execution_count": 25,
   "metadata": {},
   "outputs": [
    {
     "name": "stdout",
     "output_type": "stream",
     "text": [
      "['2340 x 1080 Pixels', '2340 x 1080$$pixel', '2340 x 1080$$pixel', '2340 x 1080$$pixel', '2340 x 1080$$pixel', '2340 x 1080$$pixel', '2340 x 1080$$pixel', '2340 x 1080$$pixel', '2340 x 1080$$pixel', '1480 x 720$$pixel', '720 x 1600$$pixel', '720 x 1600$$pixel', '720 x 1600$$pixel', '1080 x 2400$$pixel', '1080 x 2400$$pixel', '2340 x 1080$$pixel', '720 x 1600$$pixel', '1560 x 720$$pixel', '720 x 1600$$pixel', '720 x 1600$$pixel', '720 x 1600$$pixel', '960 x 480 pixel', '720 x 1600 $$Pixel', '720 x 1600 $$Pixel']\n"
     ]
    }
   ],
   "source": [
    "print(Display_resolution)"
   ]
  },
  {
   "cell_type": "code",
   "execution_count": 26,
   "metadata": {},
   "outputs": [
    {
     "data": {
      "text/plain": [
       "24"
      ]
     },
     "execution_count": 26,
     "metadata": {},
     "output_type": "execute_result"
    }
   ],
   "source": [
    "len(Display_resolution)"
   ]
  },
  {
   "cell_type": "code",
   "execution_count": 27,
   "metadata": {},
   "outputs": [
    {
     "name": "stdout",
     "output_type": "stream",
     "text": [
      "['14.76 cm (5.81 inch)', '16.59 cm (6.53 inch)', '16.59 cm (6.53 inch)', '16.59 cm (6.53 inch)', '16.59 cm (6.53 inch)', '16.59 cm (6.53 inch)', '16.59 cm (6.53 inch)', '16.59 cm (6.53 inch)', '16.59 cm (6.53 inch)', '13.46 cm (5.3 inch)', '16.59 cm (6.53 inch)', '16.59 cm (6.53 inch)', '16.59 cm (6.53 inch)', '16.51 cm (6.5 inch)', '16.51 cm (6.5 inch)', '16.26 cm (6.4 inch)', '16.56 cm (6.52 inch)', '15.46 cm (6.088 inch)', '16.59 cm (6.53 inch)', '16.59 cm (6.53 inch)', '16.59 cm (6.53 inch)', '13.84 cm (5.45 inch)', '16.64 cm (6.55 inch)', '16.64 cm (6.55 inch)']\n"
     ]
    }
   ],
   "source": [
    "print(Display_size)"
   ]
  },
  {
   "cell_type": "code",
   "execution_count": 28,
   "metadata": {},
   "outputs": [
    {
     "data": {
      "text/plain": [
       "24"
      ]
     },
     "execution_count": 28,
     "metadata": {},
     "output_type": "execute_result"
    }
   ],
   "source": [
    "len(Display_size)"
   ]
  },
  {
   "cell_type": "code",
   "execution_count": 29,
   "metadata": {},
   "outputs": [
    {
     "name": "stdout",
     "output_type": "stream",
     "text": [
      "['8MP Front Camera', '8MP Front Camera', '8MP Front Camera', '8MP Front Camera', '8MP Front Camera', '8MP Front Camera', '8MP Front Camera', '8MP Front Camera', '8MP Front Camera', 'Yes', '5MP Front Camera', 'Yes', '--', '32MP Front Camera', '--', '32MP Front Camera', '8MP Front Camera', 'Yes', '5MP Front Camera', '5MP Front Camera', '5MP Front Camera', '5MP Front Camera', 'Back', 'Back']\n"
     ]
    }
   ],
   "source": [
    "print(S_Camera)"
   ]
  },
  {
   "cell_type": "code",
   "execution_count": 30,
   "metadata": {},
   "outputs": [
    {
     "data": {
      "text/plain": [
       "24"
      ]
     },
     "execution_count": 30,
     "metadata": {},
     "output_type": "execute_result"
    }
   ],
   "source": [
    "len(S_Camera)"
   ]
  },
  {
   "cell_type": "code",
   "execution_count": 31,
   "metadata": {},
   "outputs": [
    {
     "name": "stdout",
     "output_type": "stream",
     "text": [
      "['12.2MP Rear Camera', '48MP + 8MP + 2MP + 2MP', '48MP + 8MP + 2MP + 2MP', '48MP + 8MP + 2MP + 2MP', '48MP + 8MP + 2MP + 2MP', '48MP + 8MP + 2MP + 2MP', '48MP + 8MP + 2MP + 2MP', '48MP + 8MP + 2MP + 2MP', '48MP + 8MP + 2MP + 2MP', '8MP Rear Camera', '13MP + 2MP', '13MP Rear Camera', '--', '64MP + 12MP', 'Primary Camera', '64MP + 8MP + 5MP + 5MP', '13MP + 2MP', '8MP Rear Camera', '13MP + 2MP', '13MP + 2MP', '13MP + 8MP', '8MP Rear Camera', '13MP + 2MP', '13MP + 2MP']\n"
     ]
    }
   ],
   "source": [
    "print(P_Camera)"
   ]
  },
  {
   "cell_type": "code",
   "execution_count": 32,
   "metadata": {},
   "outputs": [
    {
     "data": {
      "text/plain": [
       "24"
      ]
     },
     "execution_count": 32,
     "metadata": {},
     "output_type": "execute_result"
    }
   ],
   "source": [
    "len(P_Camera)"
   ]
  },
  {
   "cell_type": "code",
   "execution_count": 36,
   "metadata": {},
   "outputs": [],
   "source": [
    "Price = []\n",
    "for v in url2:\n",
    "    driver.get(v)\n",
    "    time.sleep(2)\n",
    "    try:\n",
    "        price = driver.find_element_by_xpath(\"//div[@class='_30jeq3 _16Jk6d']\")\n",
    "        Price.append(price.text)\n",
    "    except:\n",
    "        Price.append(\"--\")"
   ]
  },
  {
   "cell_type": "code",
   "execution_count": 37,
   "metadata": {},
   "outputs": [
    {
     "data": {
      "text/plain": [
       "24"
      ]
     },
     "execution_count": 37,
     "metadata": {},
     "output_type": "execute_result"
    }
   ],
   "source": [
    "len(Price)"
   ]
  },
  {
   "cell_type": "code",
   "execution_count": 38,
   "metadata": {},
   "outputs": [
    {
     "name": "stdout",
     "output_type": "stream",
     "text": [
      "['₹31,999', '₹11,499', '₹11,499', '₹11,499', '₹13,499', '₹13,499', '₹13,499', '₹11,499', '₹13,499', '₹6,990', '₹9,979', '₹7,530', '₹7,490', '₹20,249', '₹19,441', '₹16,767', '₹7,990', '₹6,999', '₹9,972', '₹9,842', '₹10,990', '₹5,490', '₹9,299', '₹8,280']\n"
     ]
    }
   ],
   "source": [
    "print(Price)"
   ]
  },
  {
   "cell_type": "code",
   "execution_count": 24,
   "metadata": {},
   "outputs": [],
   "source": [
    "for v in url2:\n",
    "    driver.get(v)\n",
    "    time.sleep(2)\n",
    "    button1 = driver.find_element_by_xpath(\"//button[@class='_2KpZ6l _1FH0tX']\")\n",
    "    button1.click()\n",
    "    try:\n",
    "        ram = driver.find_element_by_xpath(\"((//div[@class='_3k-BhJ'])[4]//li)[2]\")\n",
    "        RAM.append(ram.text)\n",
    "    except:\n",
    "        RAM.append(\"--\")\n",
    "    try:\n",
    "        rom = driver.find_element_by_xpath(\"((//div[@class='_3k-BhJ'])[4]//li)[1]\")\n",
    "        ROM.append(rom.text)\n",
    "    except:\n",
    "        ROM.append(\"--\")"
   ]
  },
  {
   "cell_type": "code",
   "execution_count": 39,
   "metadata": {},
   "outputs": [
    {
     "name": "stdout",
     "output_type": "stream",
     "text": [
      "['6 GB', '4 GB', '4 GB', '4 GB', '6 GB', '6 GB', '6 GB', '4 GB', '6 GB', '2 GB', '4 GB', '2 GB', '2 GB', '8 GB', '8 GB', '6 GB', '3 GB', '2 GB', '4 GB', '4 GB', '4 GB', '2 GB', '3 GB', '2 GB']\n"
     ]
    }
   ],
   "source": [
    "print(RAM)"
   ]
  },
  {
   "cell_type": "code",
   "execution_count": 42,
   "metadata": {},
   "outputs": [],
   "source": [
    "for v in url2:\n",
    "    driver.get(v)\n",
    "    time.sleep(2)\n",
    "    button1 = driver.find_element_by_xpath(\"//button[@class='_2KpZ6l _1FH0tX']\")\n",
    "    button1.click()\n",
    "    try:\n",
    "        processor = driver.find_element_by_xpath(\"((//div[@class='_3k-BhJ'])[3]//li)[2]\")\n",
    "        Processor.append(processor.text)\n",
    "    except:\n",
    "        Processor.append(\"--\")\n",
    "    try:\n",
    "        processorc = driver.find_element_by_xpath(\"((//div[@class='_3k-BhJ'])[3]//li)[3]\")\n",
    "        Processor_core.append(processorc.text)\n",
    "    except:\n",
    "        Processor_core.append(\"--\")\n",
    "    "
   ]
  },
  {
   "cell_type": "code",
   "execution_count": 15,
   "metadata": {},
   "outputs": [
    {
     "data": {
      "text/plain": [
       "24"
      ]
     },
     "execution_count": 15,
     "metadata": {},
     "output_type": "execute_result"
    }
   ],
   "source": [
    "battery = driver.find_elements_by_xpath(\"//ul[@class='_1xgFaf']//li[4]\")\n",
    "len(battery)"
   ]
  },
  {
   "cell_type": "code",
   "execution_count": 18,
   "metadata": {},
   "outputs": [],
   "source": [
    "for i in battery:\n",
    "    Battery_capacity.append(i.text)"
   ]
  },
  {
   "cell_type": "code",
   "execution_count": 40,
   "metadata": {},
   "outputs": [
    {
     "name": "stdout",
     "output_type": "stream",
     "text": [
      "['3140 mAh Battery', '6000 mAh Battery', '6000 mAh Battery', '6000 mAh Battery', '6000 mAh Battery', '6000 mAh Battery', '6000 mAh Battery', '6000 mAh Battery', '6000 mAh Battery', '3000 mAh Battery', '5000 mAh Battery', '5000 mAh Battery', '5000 mAh Battery', '6000 mAh Battery', '6000 mAh Battery', '6000 mAh Battery', '4000 mAh Battery', '4000 mAh Battery', '5000 mAh Battery', '5000 mAh Battery', '5000 mAh Battery', '3000 mAh Battery', '5000 mAh Battery', '5000 mAh Battery']\n"
     ]
    }
   ],
   "source": [
    "print(Battery_capacity)"
   ]
  },
  {
   "cell_type": "code",
   "execution_count": 43,
   "metadata": {},
   "outputs": [
    {
     "name": "stdout",
     "output_type": "stream",
     "text": [
      "['Octa Core', 'Octa Core', 'Octa Core', 'Octa Core', 'Octa Core', 'Octa Core', 'Octa Core', 'Octa Core', 'Octa Core', 'Octa Core', '2.3 GHz', '2 GHz', '2 GHz', 'Octa Core', '2.3 GHz', 'Octa Core', 'Octa Core', 'Octa Core', 'Octa Core', '2.3 GHz', '2.3 GHz', 'Quad Core', 'Quad Core', 'Quad Core']\n"
     ]
    }
   ],
   "source": [
    "print(Processor_core)"
   ]
  },
  {
   "cell_type": "code",
   "execution_count": 44,
   "metadata": {},
   "outputs": [
    {
     "name": "stdout",
     "output_type": "stream",
     "text": [
      "['Qualcomm Snapdragon 730G', 'Qualcomm Snapdragon 662', 'Qualcomm Snapdragon 662', 'Qualcomm Snapdragon 662', 'Qualcomm Snapdragon 662', 'Qualcomm Snapdragon 662', 'Qualcomm Snapdragon 662', 'Qualcomm Snapdragon 662', 'Qualcomm Snapdragon 662', 'MediaTek | MT6739WW quad core', 'MediaTek Helio G35', 'Octa Core', 'Octa Core', 'Exynos 9611 octa core processor', 'Octa Core', 'Samsung Exynos 9 Octa 9611', 'MediaTek Helio P22', 'UNISOC SC9863A OCTA CORE', 'MediaTek Helio G35', 'MediaTek Helio G35', 'MediaTek Helio G35', 'MediaTek', 'MediaTek MT6739', 'MediaTek MT6739']\n"
     ]
    }
   ],
   "source": [
    "print(Processor)"
   ]
  },
  {
   "cell_type": "code",
   "execution_count": 45,
   "metadata": {},
   "outputs": [
    {
     "name": "stdout",
     "output_type": "stream",
     "text": [
      "['2340 x 1080 Pixels', '2340 x 1080$$pixel', '2340 x 1080$$pixel', '2340 x 1080$$pixel', '2340 x 1080$$pixel', '2340 x 1080$$pixel', '2340 x 1080$$pixel', '2340 x 1080$$pixel', '2340 x 1080$$pixel', '1480 x 720$$pixel', '720 x 1600$$pixel', '720 x 1600$$pixel', '720 x 1600$$pixel', '1080 x 2400$$pixel', '1080 x 2400$$pixel', '2340 x 1080$$pixel', '720 x 1600$$pixel', '1560 x 720$$pixel', '720 x 1600$$pixel', '720 x 1600$$pixel', '720 x 1600$$pixel', '960 x 480 pixel', '720 x 1600 $$Pixel', '720 x 1600 $$Pixel']\n"
     ]
    }
   ],
   "source": [
    "print(Display_resolution)"
   ]
  },
  {
   "cell_type": "code",
   "execution_count": 46,
   "metadata": {},
   "outputs": [
    {
     "name": "stdout",
     "output_type": "stream",
     "text": [
      "['14.76 cm (5.81 inch)', '16.59 cm (6.53 inch)', '16.59 cm (6.53 inch)', '16.59 cm (6.53 inch)', '16.59 cm (6.53 inch)', '16.59 cm (6.53 inch)', '16.59 cm (6.53 inch)', '16.59 cm (6.53 inch)', '16.59 cm (6.53 inch)', '13.46 cm (5.3 inch)', '16.59 cm (6.53 inch)', '16.59 cm (6.53 inch)', '16.59 cm (6.53 inch)', '16.51 cm (6.5 inch)', '16.51 cm (6.5 inch)', '16.26 cm (6.4 inch)', '16.56 cm (6.52 inch)', '15.46 cm (6.088 inch)', '16.59 cm (6.53 inch)', '16.59 cm (6.53 inch)', '16.59 cm (6.53 inch)', '13.84 cm (5.45 inch)', '16.64 cm (6.55 inch)', '16.64 cm (6.55 inch)']\n"
     ]
    }
   ],
   "source": [
    "print(Display_size)"
   ]
  },
  {
   "cell_type": "code",
   "execution_count": 47,
   "metadata": {},
   "outputs": [
    {
     "name": "stdout",
     "output_type": "stream",
     "text": [
      "['8MP Front Camera', '8MP Front Camera', '8MP Front Camera', '8MP Front Camera', '8MP Front Camera', '8MP Front Camera', '8MP Front Camera', '8MP Front Camera', '8MP Front Camera', 'Yes', '5MP Front Camera', 'Yes', '--', '32MP Front Camera', '--', '32MP Front Camera', '8MP Front Camera', 'Yes', '5MP Front Camera', '5MP Front Camera', '5MP Front Camera', '5MP Front Camera', 'Back', 'Back']\n"
     ]
    }
   ],
   "source": [
    "print(S_Camera)"
   ]
  },
  {
   "cell_type": "code",
   "execution_count": 48,
   "metadata": {},
   "outputs": [
    {
     "name": "stdout",
     "output_type": "stream",
     "text": [
      "['12.2MP Rear Camera', '48MP + 8MP + 2MP + 2MP', '48MP + 8MP + 2MP + 2MP', '48MP + 8MP + 2MP + 2MP', '48MP + 8MP + 2MP + 2MP', '48MP + 8MP + 2MP + 2MP', '48MP + 8MP + 2MP + 2MP', '48MP + 8MP + 2MP + 2MP', '48MP + 8MP + 2MP + 2MP', '8MP Rear Camera', '13MP + 2MP', '13MP Rear Camera', '--', '64MP + 12MP', 'Primary Camera', '64MP + 8MP + 5MP + 5MP', '13MP + 2MP', '8MP Rear Camera', '13MP + 2MP', '13MP + 2MP', '13MP + 8MP', '8MP Rear Camera', '13MP + 2MP', '13MP + 2MP']\n"
     ]
    }
   ],
   "source": [
    "print(P_Camera)"
   ]
  },
  {
   "cell_type": "code",
   "execution_count": 49,
   "metadata": {},
   "outputs": [
    {
     "name": "stdout",
     "output_type": "stream",
     "text": [
      "['128 GB', '64 GB', '64 GB', '64 GB', '128 GB', '128 GB', '128 GB', '64 GB', '128 GB', '32 GB', '64 GB', '32 GB', '32 GB', '128 GB', '128 GB', '128 GB', '32 GB', '32 GB', '64 GB', '64 GB', '128 GB', '16 GB', '32 GB', '32 GB']\n"
     ]
    }
   ],
   "source": [
    "print(ROM)"
   ]
  },
  {
   "cell_type": "code",
   "execution_count": 50,
   "metadata": {},
   "outputs": [
    {
     "name": "stdout",
     "output_type": "stream",
     "text": [
      "['6 GB', '4 GB', '4 GB', '4 GB', '6 GB', '6 GB', '6 GB', '4 GB', '6 GB', '2 GB', '4 GB', '2 GB', '2 GB', '8 GB', '8 GB', '6 GB', '3 GB', '2 GB', '4 GB', '4 GB', '4 GB', '2 GB', '3 GB', '2 GB']\n"
     ]
    }
   ],
   "source": [
    "print(RAM)"
   ]
  },
  {
   "cell_type": "code",
   "execution_count": 51,
   "metadata": {},
   "outputs": [
    {
     "name": "stdout",
     "output_type": "stream",
     "text": [
      "['Just Black', 'Mighty Black', 'Blazing Blue', 'Electric Green', 'Fiery Red', 'Blazing Blue', 'Mighty Black', 'Fiery Red', 'Electric Green', 'Black', 'Sky Blue', 'Nature Green', 'SeaBlue', 'Mirage Blue', 'Mirage Black', 'Ocean Blue', 'Black', 'GRADATION GREEN', 'Carbon Black', 'Sporty Orange', 'Sky Blue', 'Black', 'Blue', 'Blue']\n"
     ]
    }
   ],
   "source": [
    "print(Colour)"
   ]
  },
  {
   "cell_type": "code",
   "execution_count": 52,
   "metadata": {},
   "outputs": [
    {
     "name": "stdout",
     "output_type": "stream",
     "text": [
      "['Pixel 4a', '9 Power', '9 Power', '9 Power', '9 Power', '9 Power', '9 Power', '9 Power', '9 Power', 'M01 core', 'Redmi 9', 'Redmi 9A', 'Redmi 9A', 'M31s', 'GALAXY M31S', 'M31', 'W11', 'VISION1', 'Redmi 9', 'Redmi 9', 'Redmi 9', 'ELUGA I6', 'Galaxy M02', 'Galaxy M02']\n"
     ]
    }
   ],
   "source": [
    "print(Smart_phone_name)"
   ]
  },
  {
   "cell_type": "code",
   "execution_count": 53,
   "metadata": {},
   "outputs": [
    {
     "name": "stdout",
     "output_type": "stream",
     "text": [
      "['Google Pixel 4a (Just Black, 128 GB)  (6 GB RAM)', 'REDMI 9 Power (Mighty Black, 64 GB)  (4 GB RAM)', 'REDMI 9 Power (Blazing Blue, 64 GB)  (4 GB RAM)', 'REDMI 9 Power (Electric Green, 64 GB)  (4 GB RAM)', 'REDMI 9 Power (Fiery Red, 128 GB)  (6 GB RAM)', 'REDMI 9 Power (Blazing Blue, 128 GB)  (6 GB RAM)', 'REDMI 9 Power (Mighty Black, 128 GB)  (6 GB RAM)', 'REDMI 9 Power (Fiery Red, 64 GB)  (4 GB RAM)', 'REDMI 9 Power (Electric Green, 128 GB)  (6 GB RAM)', 'SAMSUNG M01 core (Black, 32 GB)  (2 GB RAM)', 'Redmi 9 (Sky Blue, 64 GB)  (4 GB RAM)', 'Redmi 9A (Nature Green, 32 GB)  (2 GB RAM)', 'Redmi 9A (SeaBlue, 32 GB)  (2 GB RAM)', 'SAMSUNG M31s (Mirage Blue, 128 GB)  (8 GB RAM)', 'SAMSUNG GALAXY M31S (Mirage Black, 128 GB)  (8 GB RAM)', 'SAMSUNG M31 (Ocean Blue, 128 GB)  (6 GB RAM)', 'LG W11 (Black, 32 GB)  (3 GB RAM)', 'Itel VISION1 (GRADATION GREEN, 32 GB)  (2 GB RAM)', 'Redmi 9 (Carbon Black, 64 GB)  (4 GB RAM)', 'Redmi 9 (Sporty Orange, 64 GB)  (4 GB RAM)', 'Redmi 9 (Sky Blue, 128 GB)  (4 GB RAM)', 'Panasonic ELUGA I6 (Black, 16 GB)  (2 GB RAM)', 'SAMSUNG Galaxy M02 (Blue, 32 GB)  (3 GB RAM)', 'SAMSUNG Galaxy M02 (Blue, 32 GB)  (2 GB RAM)']\n"
     ]
    }
   ],
   "source": [
    "print(Brand_name)"
   ]
  },
  {
   "cell_type": "code",
   "execution_count": 54,
   "metadata": {},
   "outputs": [],
   "source": [
    "df_flipkart = pd.DataFrame({})\n",
    "df_flipkart[\"Brand_Name\"] = Brand_name \n",
    "df_flipkart[\"Smart_Phone_Name\"] = Smart_phone_name \n",
    "df_flipkart[\"Colour\"] = Colour \n",
    "df_flipkart[\"RAM\"] = RAM \n",
    "df_flipkart[\"ROM\"] = ROM \n",
    "df_flipkart[\"Primary_Camera\"] = P_Camera \n",
    "df_flipkart[\"Secondary_Camera\"] = S_Camera \n",
    "df_flipkart[\"Display_Size\"] = Display_size \n",
    "df_flipkart[\"Display_Resolution\"] = Display_resolution \n",
    "df_flipkart[\"Processor\"] = Processor \n",
    "df_flipkart[\"Processor_Core\"] = Processor_core \n",
    "df_flipkart[\"Battery_Capacity\"] = Battery_capacity \n",
    "df_flipkart[\"Product_URL\"] = url2"
   ]
  },
  {
   "cell_type": "code",
   "execution_count": 55,
   "metadata": {},
   "outputs": [
    {
     "data": {
      "text/html": [
       "<div>\n",
       "<style scoped>\n",
       "    .dataframe tbody tr th:only-of-type {\n",
       "        vertical-align: middle;\n",
       "    }\n",
       "\n",
       "    .dataframe tbody tr th {\n",
       "        vertical-align: top;\n",
       "    }\n",
       "\n",
       "    .dataframe thead th {\n",
       "        text-align: right;\n",
       "    }\n",
       "</style>\n",
       "<table border=\"1\" class=\"dataframe\">\n",
       "  <thead>\n",
       "    <tr style=\"text-align: right;\">\n",
       "      <th></th>\n",
       "      <th>Brand_Name</th>\n",
       "      <th>Smart_Phone_Name</th>\n",
       "      <th>Colour</th>\n",
       "      <th>RAM</th>\n",
       "      <th>ROM</th>\n",
       "      <th>Primary_Camera</th>\n",
       "      <th>Secondary_Camera</th>\n",
       "      <th>Display_Size</th>\n",
       "      <th>Display_Resolution</th>\n",
       "      <th>Processor</th>\n",
       "      <th>Processor_Core</th>\n",
       "      <th>Battery_Capacity</th>\n",
       "      <th>Product_URL</th>\n",
       "    </tr>\n",
       "  </thead>\n",
       "  <tbody>\n",
       "    <tr>\n",
       "      <th>0</th>\n",
       "      <td>Google Pixel 4a (Just Black, 128 GB)  (6 GB RAM)</td>\n",
       "      <td>Pixel 4a</td>\n",
       "      <td>Just Black</td>\n",
       "      <td>6 GB</td>\n",
       "      <td>128 GB</td>\n",
       "      <td>12.2MP Rear Camera</td>\n",
       "      <td>8MP Front Camera</td>\n",
       "      <td>14.76 cm (5.81 inch)</td>\n",
       "      <td>2340 x 1080 Pixels</td>\n",
       "      <td>Qualcomm Snapdragon 730G</td>\n",
       "      <td>Octa Core</td>\n",
       "      <td>3140 mAh Battery</td>\n",
       "      <td>https://www.flipkart.com/google-pixel-4a-just-...</td>\n",
       "    </tr>\n",
       "    <tr>\n",
       "      <th>1</th>\n",
       "      <td>REDMI 9 Power (Mighty Black, 64 GB)  (4 GB RAM)</td>\n",
       "      <td>9 Power</td>\n",
       "      <td>Mighty Black</td>\n",
       "      <td>4 GB</td>\n",
       "      <td>64 GB</td>\n",
       "      <td>48MP + 8MP + 2MP + 2MP</td>\n",
       "      <td>8MP Front Camera</td>\n",
       "      <td>16.59 cm (6.53 inch)</td>\n",
       "      <td>2340 x 1080$$pixel</td>\n",
       "      <td>Qualcomm Snapdragon 662</td>\n",
       "      <td>Octa Core</td>\n",
       "      <td>6000 mAh Battery</td>\n",
       "      <td>https://www.flipkart.com/redmi-9-power-mighty-...</td>\n",
       "    </tr>\n",
       "    <tr>\n",
       "      <th>2</th>\n",
       "      <td>REDMI 9 Power (Blazing Blue, 64 GB)  (4 GB RAM)</td>\n",
       "      <td>9 Power</td>\n",
       "      <td>Blazing Blue</td>\n",
       "      <td>4 GB</td>\n",
       "      <td>64 GB</td>\n",
       "      <td>48MP + 8MP + 2MP + 2MP</td>\n",
       "      <td>8MP Front Camera</td>\n",
       "      <td>16.59 cm (6.53 inch)</td>\n",
       "      <td>2340 x 1080$$pixel</td>\n",
       "      <td>Qualcomm Snapdragon 662</td>\n",
       "      <td>Octa Core</td>\n",
       "      <td>6000 mAh Battery</td>\n",
       "      <td>https://www.flipkart.com/redmi-9-power-blazing...</td>\n",
       "    </tr>\n",
       "    <tr>\n",
       "      <th>3</th>\n",
       "      <td>REDMI 9 Power (Electric Green, 64 GB)  (4 GB RAM)</td>\n",
       "      <td>9 Power</td>\n",
       "      <td>Electric Green</td>\n",
       "      <td>4 GB</td>\n",
       "      <td>64 GB</td>\n",
       "      <td>48MP + 8MP + 2MP + 2MP</td>\n",
       "      <td>8MP Front Camera</td>\n",
       "      <td>16.59 cm (6.53 inch)</td>\n",
       "      <td>2340 x 1080$$pixel</td>\n",
       "      <td>Qualcomm Snapdragon 662</td>\n",
       "      <td>Octa Core</td>\n",
       "      <td>6000 mAh Battery</td>\n",
       "      <td>https://www.flipkart.com/redmi-9-power-electri...</td>\n",
       "    </tr>\n",
       "    <tr>\n",
       "      <th>4</th>\n",
       "      <td>REDMI 9 Power (Fiery Red, 128 GB)  (6 GB RAM)</td>\n",
       "      <td>9 Power</td>\n",
       "      <td>Fiery Red</td>\n",
       "      <td>6 GB</td>\n",
       "      <td>128 GB</td>\n",
       "      <td>48MP + 8MP + 2MP + 2MP</td>\n",
       "      <td>8MP Front Camera</td>\n",
       "      <td>16.59 cm (6.53 inch)</td>\n",
       "      <td>2340 x 1080$$pixel</td>\n",
       "      <td>Qualcomm Snapdragon 662</td>\n",
       "      <td>Octa Core</td>\n",
       "      <td>6000 mAh Battery</td>\n",
       "      <td>https://www.flipkart.com/redmi-9-power-fiery-r...</td>\n",
       "    </tr>\n",
       "    <tr>\n",
       "      <th>5</th>\n",
       "      <td>REDMI 9 Power (Blazing Blue, 128 GB)  (6 GB RAM)</td>\n",
       "      <td>9 Power</td>\n",
       "      <td>Blazing Blue</td>\n",
       "      <td>6 GB</td>\n",
       "      <td>128 GB</td>\n",
       "      <td>48MP + 8MP + 2MP + 2MP</td>\n",
       "      <td>8MP Front Camera</td>\n",
       "      <td>16.59 cm (6.53 inch)</td>\n",
       "      <td>2340 x 1080$$pixel</td>\n",
       "      <td>Qualcomm Snapdragon 662</td>\n",
       "      <td>Octa Core</td>\n",
       "      <td>6000 mAh Battery</td>\n",
       "      <td>https://www.flipkart.com/redmi-9-power-blazing...</td>\n",
       "    </tr>\n",
       "    <tr>\n",
       "      <th>6</th>\n",
       "      <td>REDMI 9 Power (Mighty Black, 128 GB)  (6 GB RAM)</td>\n",
       "      <td>9 Power</td>\n",
       "      <td>Mighty Black</td>\n",
       "      <td>6 GB</td>\n",
       "      <td>128 GB</td>\n",
       "      <td>48MP + 8MP + 2MP + 2MP</td>\n",
       "      <td>8MP Front Camera</td>\n",
       "      <td>16.59 cm (6.53 inch)</td>\n",
       "      <td>2340 x 1080$$pixel</td>\n",
       "      <td>Qualcomm Snapdragon 662</td>\n",
       "      <td>Octa Core</td>\n",
       "      <td>6000 mAh Battery</td>\n",
       "      <td>https://www.flipkart.com/redmi-9-power-mighty-...</td>\n",
       "    </tr>\n",
       "    <tr>\n",
       "      <th>7</th>\n",
       "      <td>REDMI 9 Power (Fiery Red, 64 GB)  (4 GB RAM)</td>\n",
       "      <td>9 Power</td>\n",
       "      <td>Fiery Red</td>\n",
       "      <td>4 GB</td>\n",
       "      <td>64 GB</td>\n",
       "      <td>48MP + 8MP + 2MP + 2MP</td>\n",
       "      <td>8MP Front Camera</td>\n",
       "      <td>16.59 cm (6.53 inch)</td>\n",
       "      <td>2340 x 1080$$pixel</td>\n",
       "      <td>Qualcomm Snapdragon 662</td>\n",
       "      <td>Octa Core</td>\n",
       "      <td>6000 mAh Battery</td>\n",
       "      <td>https://www.flipkart.com/redmi-9-power-fiery-r...</td>\n",
       "    </tr>\n",
       "    <tr>\n",
       "      <th>8</th>\n",
       "      <td>REDMI 9 Power (Electric Green, 128 GB)  (6 GB ...</td>\n",
       "      <td>9 Power</td>\n",
       "      <td>Electric Green</td>\n",
       "      <td>6 GB</td>\n",
       "      <td>128 GB</td>\n",
       "      <td>48MP + 8MP + 2MP + 2MP</td>\n",
       "      <td>8MP Front Camera</td>\n",
       "      <td>16.59 cm (6.53 inch)</td>\n",
       "      <td>2340 x 1080$$pixel</td>\n",
       "      <td>Qualcomm Snapdragon 662</td>\n",
       "      <td>Octa Core</td>\n",
       "      <td>6000 mAh Battery</td>\n",
       "      <td>https://www.flipkart.com/redmi-9-power-electri...</td>\n",
       "    </tr>\n",
       "    <tr>\n",
       "      <th>9</th>\n",
       "      <td>SAMSUNG M01 core (Black, 32 GB)  (2 GB RAM)</td>\n",
       "      <td>M01 core</td>\n",
       "      <td>Black</td>\n",
       "      <td>2 GB</td>\n",
       "      <td>32 GB</td>\n",
       "      <td>8MP Rear Camera</td>\n",
       "      <td>Yes</td>\n",
       "      <td>13.46 cm (5.3 inch)</td>\n",
       "      <td>1480 x 720$$pixel</td>\n",
       "      <td>MediaTek | MT6739WW quad core</td>\n",
       "      <td>Octa Core</td>\n",
       "      <td>3000 mAh Battery</td>\n",
       "      <td>https://www.flipkart.com/samsung-m01-core-blac...</td>\n",
       "    </tr>\n",
       "    <tr>\n",
       "      <th>10</th>\n",
       "      <td>Redmi 9 (Sky Blue, 64 GB)  (4 GB RAM)</td>\n",
       "      <td>Redmi 9</td>\n",
       "      <td>Sky Blue</td>\n",
       "      <td>4 GB</td>\n",
       "      <td>64 GB</td>\n",
       "      <td>13MP + 2MP</td>\n",
       "      <td>5MP Front Camera</td>\n",
       "      <td>16.59 cm (6.53 inch)</td>\n",
       "      <td>720 x 1600$$pixel</td>\n",
       "      <td>MediaTek Helio G35</td>\n",
       "      <td>2.3 GHz</td>\n",
       "      <td>5000 mAh Battery</td>\n",
       "      <td>https://www.flipkart.com/redmi-9-sky-blue-64-g...</td>\n",
       "    </tr>\n",
       "    <tr>\n",
       "      <th>11</th>\n",
       "      <td>Redmi 9A (Nature Green, 32 GB)  (2 GB RAM)</td>\n",
       "      <td>Redmi 9A</td>\n",
       "      <td>Nature Green</td>\n",
       "      <td>2 GB</td>\n",
       "      <td>32 GB</td>\n",
       "      <td>13MP Rear Camera</td>\n",
       "      <td>Yes</td>\n",
       "      <td>16.59 cm (6.53 inch)</td>\n",
       "      <td>720 x 1600$$pixel</td>\n",
       "      <td>Octa Core</td>\n",
       "      <td>2 GHz</td>\n",
       "      <td>5000 mAh Battery</td>\n",
       "      <td>https://www.flipkart.com/redmi-9a-nature-green...</td>\n",
       "    </tr>\n",
       "    <tr>\n",
       "      <th>12</th>\n",
       "      <td>Redmi 9A (SeaBlue, 32 GB)  (2 GB RAM)</td>\n",
       "      <td>Redmi 9A</td>\n",
       "      <td>SeaBlue</td>\n",
       "      <td>2 GB</td>\n",
       "      <td>32 GB</td>\n",
       "      <td>--</td>\n",
       "      <td>--</td>\n",
       "      <td>16.59 cm (6.53 inch)</td>\n",
       "      <td>720 x 1600$$pixel</td>\n",
       "      <td>Octa Core</td>\n",
       "      <td>2 GHz</td>\n",
       "      <td>5000 mAh Battery</td>\n",
       "      <td>https://www.flipkart.com/redmi-9a-seablue-32-g...</td>\n",
       "    </tr>\n",
       "    <tr>\n",
       "      <th>13</th>\n",
       "      <td>SAMSUNG M31s (Mirage Blue, 128 GB)  (8 GB RAM)</td>\n",
       "      <td>M31s</td>\n",
       "      <td>Mirage Blue</td>\n",
       "      <td>8 GB</td>\n",
       "      <td>128 GB</td>\n",
       "      <td>64MP + 12MP</td>\n",
       "      <td>32MP Front Camera</td>\n",
       "      <td>16.51 cm (6.5 inch)</td>\n",
       "      <td>1080 x 2400$$pixel</td>\n",
       "      <td>Exynos 9611 octa core processor</td>\n",
       "      <td>Octa Core</td>\n",
       "      <td>6000 mAh Battery</td>\n",
       "      <td>https://www.flipkart.com/samsung-m31s-mirage-b...</td>\n",
       "    </tr>\n",
       "    <tr>\n",
       "      <th>14</th>\n",
       "      <td>SAMSUNG GALAXY M31S (Mirage Black, 128 GB)  (8...</td>\n",
       "      <td>GALAXY M31S</td>\n",
       "      <td>Mirage Black</td>\n",
       "      <td>8 GB</td>\n",
       "      <td>128 GB</td>\n",
       "      <td>Primary Camera</td>\n",
       "      <td>--</td>\n",
       "      <td>16.51 cm (6.5 inch)</td>\n",
       "      <td>1080 x 2400$$pixel</td>\n",
       "      <td>Octa Core</td>\n",
       "      <td>2.3 GHz</td>\n",
       "      <td>6000 mAh Battery</td>\n",
       "      <td>https://www.flipkart.com/samsung-galaxy-m31s-m...</td>\n",
       "    </tr>\n",
       "    <tr>\n",
       "      <th>15</th>\n",
       "      <td>SAMSUNG M31 (Ocean Blue, 128 GB)  (6 GB RAM)</td>\n",
       "      <td>M31</td>\n",
       "      <td>Ocean Blue</td>\n",
       "      <td>6 GB</td>\n",
       "      <td>128 GB</td>\n",
       "      <td>64MP + 8MP + 5MP + 5MP</td>\n",
       "      <td>32MP Front Camera</td>\n",
       "      <td>16.26 cm (6.4 inch)</td>\n",
       "      <td>2340 x 1080$$pixel</td>\n",
       "      <td>Samsung Exynos 9 Octa 9611</td>\n",
       "      <td>Octa Core</td>\n",
       "      <td>6000 mAh Battery</td>\n",
       "      <td>https://www.flipkart.com/samsung-m31-ocean-blu...</td>\n",
       "    </tr>\n",
       "    <tr>\n",
       "      <th>16</th>\n",
       "      <td>LG W11 (Black, 32 GB)  (3 GB RAM)</td>\n",
       "      <td>W11</td>\n",
       "      <td>Black</td>\n",
       "      <td>3 GB</td>\n",
       "      <td>32 GB</td>\n",
       "      <td>13MP + 2MP</td>\n",
       "      <td>8MP Front Camera</td>\n",
       "      <td>16.56 cm (6.52 inch)</td>\n",
       "      <td>720 x 1600$$pixel</td>\n",
       "      <td>MediaTek Helio P22</td>\n",
       "      <td>Octa Core</td>\n",
       "      <td>4000 mAh Battery</td>\n",
       "      <td>https://www.flipkart.com/lg-w11-black-32-gb/p/...</td>\n",
       "    </tr>\n",
       "    <tr>\n",
       "      <th>17</th>\n",
       "      <td>Itel VISION1 (GRADATION GREEN, 32 GB)  (2 GB RAM)</td>\n",
       "      <td>VISION1</td>\n",
       "      <td>GRADATION GREEN</td>\n",
       "      <td>2 GB</td>\n",
       "      <td>32 GB</td>\n",
       "      <td>8MP Rear Camera</td>\n",
       "      <td>Yes</td>\n",
       "      <td>15.46 cm (6.088 inch)</td>\n",
       "      <td>1560 x 720$$pixel</td>\n",
       "      <td>UNISOC SC9863A OCTA CORE</td>\n",
       "      <td>Octa Core</td>\n",
       "      <td>4000 mAh Battery</td>\n",
       "      <td>https://www.flipkart.com/itel-vision1-gradatio...</td>\n",
       "    </tr>\n",
       "    <tr>\n",
       "      <th>18</th>\n",
       "      <td>Redmi 9 (Carbon Black, 64 GB)  (4 GB RAM)</td>\n",
       "      <td>Redmi 9</td>\n",
       "      <td>Carbon Black</td>\n",
       "      <td>4 GB</td>\n",
       "      <td>64 GB</td>\n",
       "      <td>13MP + 2MP</td>\n",
       "      <td>5MP Front Camera</td>\n",
       "      <td>16.59 cm (6.53 inch)</td>\n",
       "      <td>720 x 1600$$pixel</td>\n",
       "      <td>MediaTek Helio G35</td>\n",
       "      <td>Octa Core</td>\n",
       "      <td>5000 mAh Battery</td>\n",
       "      <td>https://www.flipkart.com/redmi-9-carbon-black-...</td>\n",
       "    </tr>\n",
       "    <tr>\n",
       "      <th>19</th>\n",
       "      <td>Redmi 9 (Sporty Orange, 64 GB)  (4 GB RAM)</td>\n",
       "      <td>Redmi 9</td>\n",
       "      <td>Sporty Orange</td>\n",
       "      <td>4 GB</td>\n",
       "      <td>64 GB</td>\n",
       "      <td>13MP + 2MP</td>\n",
       "      <td>5MP Front Camera</td>\n",
       "      <td>16.59 cm (6.53 inch)</td>\n",
       "      <td>720 x 1600$$pixel</td>\n",
       "      <td>MediaTek Helio G35</td>\n",
       "      <td>2.3 GHz</td>\n",
       "      <td>5000 mAh Battery</td>\n",
       "      <td>https://www.flipkart.com/redmi-9-sporty-orange...</td>\n",
       "    </tr>\n",
       "    <tr>\n",
       "      <th>20</th>\n",
       "      <td>Redmi 9 (Sky Blue, 128 GB)  (4 GB RAM)</td>\n",
       "      <td>Redmi 9</td>\n",
       "      <td>Sky Blue</td>\n",
       "      <td>4 GB</td>\n",
       "      <td>128 GB</td>\n",
       "      <td>13MP + 8MP</td>\n",
       "      <td>5MP Front Camera</td>\n",
       "      <td>16.59 cm (6.53 inch)</td>\n",
       "      <td>720 x 1600$$pixel</td>\n",
       "      <td>MediaTek Helio G35</td>\n",
       "      <td>2.3 GHz</td>\n",
       "      <td>5000 mAh Battery</td>\n",
       "      <td>https://www.flipkart.com/redmi-9-sky-blue-128-...</td>\n",
       "    </tr>\n",
       "    <tr>\n",
       "      <th>21</th>\n",
       "      <td>Panasonic ELUGA I6 (Black, 16 GB)  (2 GB RAM)</td>\n",
       "      <td>ELUGA I6</td>\n",
       "      <td>Black</td>\n",
       "      <td>2 GB</td>\n",
       "      <td>16 GB</td>\n",
       "      <td>8MP Rear Camera</td>\n",
       "      <td>5MP Front Camera</td>\n",
       "      <td>13.84 cm (5.45 inch)</td>\n",
       "      <td>960 x 480 pixel</td>\n",
       "      <td>MediaTek</td>\n",
       "      <td>Quad Core</td>\n",
       "      <td>3000 mAh Battery</td>\n",
       "      <td>https://www.flipkart.com/panasonic-eluga-i6-bl...</td>\n",
       "    </tr>\n",
       "    <tr>\n",
       "      <th>22</th>\n",
       "      <td>SAMSUNG Galaxy M02 (Blue, 32 GB)  (3 GB RAM)</td>\n",
       "      <td>Galaxy M02</td>\n",
       "      <td>Blue</td>\n",
       "      <td>3 GB</td>\n",
       "      <td>32 GB</td>\n",
       "      <td>13MP + 2MP</td>\n",
       "      <td>Back</td>\n",
       "      <td>16.64 cm (6.55 inch)</td>\n",
       "      <td>720 x 1600 $$Pixel</td>\n",
       "      <td>MediaTek MT6739</td>\n",
       "      <td>Quad Core</td>\n",
       "      <td>5000 mAh Battery</td>\n",
       "      <td>https://www.flipkart.com/samsung-galaxy-m02-bl...</td>\n",
       "    </tr>\n",
       "    <tr>\n",
       "      <th>23</th>\n",
       "      <td>SAMSUNG Galaxy M02 (Blue, 32 GB)  (2 GB RAM)</td>\n",
       "      <td>Galaxy M02</td>\n",
       "      <td>Blue</td>\n",
       "      <td>2 GB</td>\n",
       "      <td>32 GB</td>\n",
       "      <td>13MP + 2MP</td>\n",
       "      <td>Back</td>\n",
       "      <td>16.64 cm (6.55 inch)</td>\n",
       "      <td>720 x 1600 $$Pixel</td>\n",
       "      <td>MediaTek MT6739</td>\n",
       "      <td>Quad Core</td>\n",
       "      <td>5000 mAh Battery</td>\n",
       "      <td>https://www.flipkart.com/samsung-galaxy-m02-bl...</td>\n",
       "    </tr>\n",
       "  </tbody>\n",
       "</table>\n",
       "</div>"
      ],
      "text/plain": [
       "                                           Brand_Name Smart_Phone_Name  \\\n",
       "0    Google Pixel 4a (Just Black, 128 GB)  (6 GB RAM)         Pixel 4a   \n",
       "1     REDMI 9 Power (Mighty Black, 64 GB)  (4 GB RAM)          9 Power   \n",
       "2     REDMI 9 Power (Blazing Blue, 64 GB)  (4 GB RAM)          9 Power   \n",
       "3   REDMI 9 Power (Electric Green, 64 GB)  (4 GB RAM)          9 Power   \n",
       "4       REDMI 9 Power (Fiery Red, 128 GB)  (6 GB RAM)          9 Power   \n",
       "5    REDMI 9 Power (Blazing Blue, 128 GB)  (6 GB RAM)          9 Power   \n",
       "6    REDMI 9 Power (Mighty Black, 128 GB)  (6 GB RAM)          9 Power   \n",
       "7        REDMI 9 Power (Fiery Red, 64 GB)  (4 GB RAM)          9 Power   \n",
       "8   REDMI 9 Power (Electric Green, 128 GB)  (6 GB ...          9 Power   \n",
       "9         SAMSUNG M01 core (Black, 32 GB)  (2 GB RAM)         M01 core   \n",
       "10              Redmi 9 (Sky Blue, 64 GB)  (4 GB RAM)          Redmi 9   \n",
       "11         Redmi 9A (Nature Green, 32 GB)  (2 GB RAM)         Redmi 9A   \n",
       "12              Redmi 9A (SeaBlue, 32 GB)  (2 GB RAM)         Redmi 9A   \n",
       "13     SAMSUNG M31s (Mirage Blue, 128 GB)  (8 GB RAM)             M31s   \n",
       "14  SAMSUNG GALAXY M31S (Mirage Black, 128 GB)  (8...      GALAXY M31S   \n",
       "15       SAMSUNG M31 (Ocean Blue, 128 GB)  (6 GB RAM)              M31   \n",
       "16                  LG W11 (Black, 32 GB)  (3 GB RAM)              W11   \n",
       "17  Itel VISION1 (GRADATION GREEN, 32 GB)  (2 GB RAM)          VISION1   \n",
       "18          Redmi 9 (Carbon Black, 64 GB)  (4 GB RAM)          Redmi 9   \n",
       "19         Redmi 9 (Sporty Orange, 64 GB)  (4 GB RAM)          Redmi 9   \n",
       "20             Redmi 9 (Sky Blue, 128 GB)  (4 GB RAM)          Redmi 9   \n",
       "21      Panasonic ELUGA I6 (Black, 16 GB)  (2 GB RAM)         ELUGA I6   \n",
       "22       SAMSUNG Galaxy M02 (Blue, 32 GB)  (3 GB RAM)       Galaxy M02   \n",
       "23       SAMSUNG Galaxy M02 (Blue, 32 GB)  (2 GB RAM)       Galaxy M02   \n",
       "\n",
       "             Colour   RAM     ROM          Primary_Camera   Secondary_Camera  \\\n",
       "0        Just Black  6 GB  128 GB      12.2MP Rear Camera   8MP Front Camera   \n",
       "1      Mighty Black  4 GB   64 GB  48MP + 8MP + 2MP + 2MP   8MP Front Camera   \n",
       "2      Blazing Blue  4 GB   64 GB  48MP + 8MP + 2MP + 2MP   8MP Front Camera   \n",
       "3    Electric Green  4 GB   64 GB  48MP + 8MP + 2MP + 2MP   8MP Front Camera   \n",
       "4         Fiery Red  6 GB  128 GB  48MP + 8MP + 2MP + 2MP   8MP Front Camera   \n",
       "5      Blazing Blue  6 GB  128 GB  48MP + 8MP + 2MP + 2MP   8MP Front Camera   \n",
       "6      Mighty Black  6 GB  128 GB  48MP + 8MP + 2MP + 2MP   8MP Front Camera   \n",
       "7         Fiery Red  4 GB   64 GB  48MP + 8MP + 2MP + 2MP   8MP Front Camera   \n",
       "8    Electric Green  6 GB  128 GB  48MP + 8MP + 2MP + 2MP   8MP Front Camera   \n",
       "9             Black  2 GB   32 GB         8MP Rear Camera                Yes   \n",
       "10         Sky Blue  4 GB   64 GB              13MP + 2MP   5MP Front Camera   \n",
       "11     Nature Green  2 GB   32 GB        13MP Rear Camera                Yes   \n",
       "12          SeaBlue  2 GB   32 GB                      --                 --   \n",
       "13      Mirage Blue  8 GB  128 GB             64MP + 12MP  32MP Front Camera   \n",
       "14     Mirage Black  8 GB  128 GB          Primary Camera                 --   \n",
       "15       Ocean Blue  6 GB  128 GB  64MP + 8MP + 5MP + 5MP  32MP Front Camera   \n",
       "16            Black  3 GB   32 GB              13MP + 2MP   8MP Front Camera   \n",
       "17  GRADATION GREEN  2 GB   32 GB         8MP Rear Camera                Yes   \n",
       "18     Carbon Black  4 GB   64 GB              13MP + 2MP   5MP Front Camera   \n",
       "19    Sporty Orange  4 GB   64 GB              13MP + 2MP   5MP Front Camera   \n",
       "20         Sky Blue  4 GB  128 GB              13MP + 8MP   5MP Front Camera   \n",
       "21            Black  2 GB   16 GB         8MP Rear Camera   5MP Front Camera   \n",
       "22             Blue  3 GB   32 GB              13MP + 2MP               Back   \n",
       "23             Blue  2 GB   32 GB              13MP + 2MP               Back   \n",
       "\n",
       "             Display_Size  Display_Resolution  \\\n",
       "0    14.76 cm (5.81 inch)  2340 x 1080 Pixels   \n",
       "1    16.59 cm (6.53 inch)  2340 x 1080$$pixel   \n",
       "2    16.59 cm (6.53 inch)  2340 x 1080$$pixel   \n",
       "3    16.59 cm (6.53 inch)  2340 x 1080$$pixel   \n",
       "4    16.59 cm (6.53 inch)  2340 x 1080$$pixel   \n",
       "5    16.59 cm (6.53 inch)  2340 x 1080$$pixel   \n",
       "6    16.59 cm (6.53 inch)  2340 x 1080$$pixel   \n",
       "7    16.59 cm (6.53 inch)  2340 x 1080$$pixel   \n",
       "8    16.59 cm (6.53 inch)  2340 x 1080$$pixel   \n",
       "9     13.46 cm (5.3 inch)   1480 x 720$$pixel   \n",
       "10   16.59 cm (6.53 inch)   720 x 1600$$pixel   \n",
       "11   16.59 cm (6.53 inch)   720 x 1600$$pixel   \n",
       "12   16.59 cm (6.53 inch)   720 x 1600$$pixel   \n",
       "13    16.51 cm (6.5 inch)  1080 x 2400$$pixel   \n",
       "14    16.51 cm (6.5 inch)  1080 x 2400$$pixel   \n",
       "15    16.26 cm (6.4 inch)  2340 x 1080$$pixel   \n",
       "16   16.56 cm (6.52 inch)   720 x 1600$$pixel   \n",
       "17  15.46 cm (6.088 inch)   1560 x 720$$pixel   \n",
       "18   16.59 cm (6.53 inch)   720 x 1600$$pixel   \n",
       "19   16.59 cm (6.53 inch)   720 x 1600$$pixel   \n",
       "20   16.59 cm (6.53 inch)   720 x 1600$$pixel   \n",
       "21   13.84 cm (5.45 inch)     960 x 480 pixel   \n",
       "22   16.64 cm (6.55 inch)  720 x 1600 $$Pixel   \n",
       "23   16.64 cm (6.55 inch)  720 x 1600 $$Pixel   \n",
       "\n",
       "                          Processor Processor_Core  Battery_Capacity  \\\n",
       "0          Qualcomm Snapdragon 730G      Octa Core  3140 mAh Battery   \n",
       "1           Qualcomm Snapdragon 662      Octa Core  6000 mAh Battery   \n",
       "2           Qualcomm Snapdragon 662      Octa Core  6000 mAh Battery   \n",
       "3           Qualcomm Snapdragon 662      Octa Core  6000 mAh Battery   \n",
       "4           Qualcomm Snapdragon 662      Octa Core  6000 mAh Battery   \n",
       "5           Qualcomm Snapdragon 662      Octa Core  6000 mAh Battery   \n",
       "6           Qualcomm Snapdragon 662      Octa Core  6000 mAh Battery   \n",
       "7           Qualcomm Snapdragon 662      Octa Core  6000 mAh Battery   \n",
       "8           Qualcomm Snapdragon 662      Octa Core  6000 mAh Battery   \n",
       "9     MediaTek | MT6739WW quad core      Octa Core  3000 mAh Battery   \n",
       "10               MediaTek Helio G35        2.3 GHz  5000 mAh Battery   \n",
       "11                        Octa Core          2 GHz  5000 mAh Battery   \n",
       "12                        Octa Core          2 GHz  5000 mAh Battery   \n",
       "13  Exynos 9611 octa core processor      Octa Core  6000 mAh Battery   \n",
       "14                        Octa Core        2.3 GHz  6000 mAh Battery   \n",
       "15       Samsung Exynos 9 Octa 9611      Octa Core  6000 mAh Battery   \n",
       "16               MediaTek Helio P22      Octa Core  4000 mAh Battery   \n",
       "17         UNISOC SC9863A OCTA CORE      Octa Core  4000 mAh Battery   \n",
       "18               MediaTek Helio G35      Octa Core  5000 mAh Battery   \n",
       "19               MediaTek Helio G35        2.3 GHz  5000 mAh Battery   \n",
       "20               MediaTek Helio G35        2.3 GHz  5000 mAh Battery   \n",
       "21                         MediaTek      Quad Core  3000 mAh Battery   \n",
       "22                  MediaTek MT6739      Quad Core  5000 mAh Battery   \n",
       "23                  MediaTek MT6739      Quad Core  5000 mAh Battery   \n",
       "\n",
       "                                          Product_URL  \n",
       "0   https://www.flipkart.com/google-pixel-4a-just-...  \n",
       "1   https://www.flipkart.com/redmi-9-power-mighty-...  \n",
       "2   https://www.flipkart.com/redmi-9-power-blazing...  \n",
       "3   https://www.flipkart.com/redmi-9-power-electri...  \n",
       "4   https://www.flipkart.com/redmi-9-power-fiery-r...  \n",
       "5   https://www.flipkart.com/redmi-9-power-blazing...  \n",
       "6   https://www.flipkart.com/redmi-9-power-mighty-...  \n",
       "7   https://www.flipkart.com/redmi-9-power-fiery-r...  \n",
       "8   https://www.flipkart.com/redmi-9-power-electri...  \n",
       "9   https://www.flipkart.com/samsung-m01-core-blac...  \n",
       "10  https://www.flipkart.com/redmi-9-sky-blue-64-g...  \n",
       "11  https://www.flipkart.com/redmi-9a-nature-green...  \n",
       "12  https://www.flipkart.com/redmi-9a-seablue-32-g...  \n",
       "13  https://www.flipkart.com/samsung-m31s-mirage-b...  \n",
       "14  https://www.flipkart.com/samsung-galaxy-m31s-m...  \n",
       "15  https://www.flipkart.com/samsung-m31-ocean-blu...  \n",
       "16  https://www.flipkart.com/lg-w11-black-32-gb/p/...  \n",
       "17  https://www.flipkart.com/itel-vision1-gradatio...  \n",
       "18  https://www.flipkart.com/redmi-9-carbon-black-...  \n",
       "19  https://www.flipkart.com/redmi-9-sporty-orange...  \n",
       "20  https://www.flipkart.com/redmi-9-sky-blue-128-...  \n",
       "21  https://www.flipkart.com/panasonic-eluga-i6-bl...  \n",
       "22  https://www.flipkart.com/samsung-galaxy-m02-bl...  \n",
       "23  https://www.flipkart.com/samsung-galaxy-m02-bl...  "
      ]
     },
     "execution_count": 55,
     "metadata": {},
     "output_type": "execute_result"
    }
   ],
   "source": [
    "df_flipkart"
   ]
  },
  {
   "cell_type": "code",
   "execution_count": 56,
   "metadata": {},
   "outputs": [],
   "source": [
    "df_flipkart.to_csv(\"Flipkart.csv\")"
   ]
  },
  {
   "cell_type": "code",
   "execution_count": 57,
   "metadata": {},
   "outputs": [],
   "source": [
    "driver.close()"
   ]
  },
  {
   "cell_type": "markdown",
   "metadata": {},
   "source": [
    "### Q.5)Write a program to scrap geospatial coordinates (latitude, longitude) of a city searched on google maps."
   ]
  },
  {
   "cell_type": "code",
   "execution_count": 35,
   "metadata": {},
   "outputs": [],
   "source": [
    "driver = webdriver.Chrome(\"chromedriver.exe\")\n",
    "url = (\"https://www.google.co.uk/maps/\")\n",
    "driver.get(url)"
   ]
  },
  {
   "cell_type": "code",
   "execution_count": 36,
   "metadata": {},
   "outputs": [],
   "source": [
    "def searchplace():\n",
    "    place = driver.find_element_by_xpath(\"(//input[@class='tactile-searchbox-input'])[1]\")\n",
    "    place.send_keys(\"Nashik\")\n",
    "    submit = driver.find_element_by_xpath(\"(//button[@class='searchbox-searchbutton'])[1]\")\n",
    "    submit.click()\n",
    "searchplace()"
   ]
  },
  {
   "cell_type": "code",
   "execution_count": 38,
   "metadata": {},
   "outputs": [],
   "source": [
    "def direction():\n",
    "    time.sleep(10)\n",
    "    directions = driver.find_element_by_xpath(\"(//span[@class='DVeyrd gm2-hairline-border section-action-chip-button'])[1]\")\n",
    "    directions.click()\n",
    "direction()"
   ]
  },
  {
   "cell_type": "code",
   "execution_count": 39,
   "metadata": {},
   "outputs": [],
   "source": [
    "def find():\n",
    "    time.sleep(10)\n",
    "    var = driver.find_element_by_xpath(\"(//input[@class='tactile-searchbox-input'])[4]\")\n",
    "    var.send_keys(\"Mumbai\")\n",
    "    submit = driver.find_element_by_xpath(\"(//button[@class='searchbox-searchbutton'])[2]\")\n",
    "    submit.click()\n",
    "find()"
   ]
  },
  {
   "cell_type": "code",
   "execution_count": 40,
   "metadata": {},
   "outputs": [
    {
     "data": {
      "text/plain": [
       "'https://www.google.co.uk/maps/dir//Nashik,+Maharashtra/@19.9909493,73.7334397,12z/data=!4m8!4m7!1m0!1m5!1m1!1s0x3bddd290b09914b3:0xcb07845d9d28215c!2m2!1d73.7898023!2d19.9974533'"
      ]
     },
     "execution_count": 40,
     "metadata": {},
     "output_type": "execute_result"
    }
   ],
   "source": [
    "coordinates = driver.current_url\n",
    "coordinates"
   ]
  },
  {
   "cell_type": "code",
   "execution_count": 41,
   "metadata": {},
   "outputs": [],
   "source": [
    "url_sep=[]\n",
    "\n",
    "for i in coordinates:\n",
    "\n",
    "    url_sep.append(coordinates.split('/@'))"
   ]
  },
  {
   "cell_type": "code",
   "execution_count": 42,
   "metadata": {},
   "outputs": [
    {
     "name": "stdout",
     "output_type": "stream",
     "text": [
      "[['https://www.google.co.uk/maps/dir//Nashik,+Maharashtra', '19.9909493,73.7334397,12z/data=!4m8!4m7!1m0!1m5!1m1!1s0x3bddd290b09914b3:0xcb07845d9d28215c!2m2!1d73.7898023!2d19.9974533'], ['https://www.google.co.uk/maps/dir//Nashik,+Maharashtra', '19.9909493,73.7334397,12z/data=!4m8!4m7!1m0!1m5!1m1!1s0x3bddd290b09914b3:0xcb07845d9d28215c!2m2!1d73.7898023!2d19.9974533'], ['https://www.google.co.uk/maps/dir//Nashik,+Maharashtra', '19.9909493,73.7334397,12z/data=!4m8!4m7!1m0!1m5!1m1!1s0x3bddd290b09914b3:0xcb07845d9d28215c!2m2!1d73.7898023!2d19.9974533'], ['https://www.google.co.uk/maps/dir//Nashik,+Maharashtra', '19.9909493,73.7334397,12z/data=!4m8!4m7!1m0!1m5!1m1!1s0x3bddd290b09914b3:0xcb07845d9d28215c!2m2!1d73.7898023!2d19.9974533'], ['https://www.google.co.uk/maps/dir//Nashik,+Maharashtra', '19.9909493,73.7334397,12z/data=!4m8!4m7!1m0!1m5!1m1!1s0x3bddd290b09914b3:0xcb07845d9d28215c!2m2!1d73.7898023!2d19.9974533'], ['https://www.google.co.uk/maps/dir//Nashik,+Maharashtra', '19.9909493,73.7334397,12z/data=!4m8!4m7!1m0!1m5!1m1!1s0x3bddd290b09914b3:0xcb07845d9d28215c!2m2!1d73.7898023!2d19.9974533'], ['https://www.google.co.uk/maps/dir//Nashik,+Maharashtra', '19.9909493,73.7334397,12z/data=!4m8!4m7!1m0!1m5!1m1!1s0x3bddd290b09914b3:0xcb07845d9d28215c!2m2!1d73.7898023!2d19.9974533'], ['https://www.google.co.uk/maps/dir//Nashik,+Maharashtra', '19.9909493,73.7334397,12z/data=!4m8!4m7!1m0!1m5!1m1!1s0x3bddd290b09914b3:0xcb07845d9d28215c!2m2!1d73.7898023!2d19.9974533'], ['https://www.google.co.uk/maps/dir//Nashik,+Maharashtra', '19.9909493,73.7334397,12z/data=!4m8!4m7!1m0!1m5!1m1!1s0x3bddd290b09914b3:0xcb07845d9d28215c!2m2!1d73.7898023!2d19.9974533'], ['https://www.google.co.uk/maps/dir//Nashik,+Maharashtra', '19.9909493,73.7334397,12z/data=!4m8!4m7!1m0!1m5!1m1!1s0x3bddd290b09914b3:0xcb07845d9d28215c!2m2!1d73.7898023!2d19.9974533'], ['https://www.google.co.uk/maps/dir//Nashik,+Maharashtra', '19.9909493,73.7334397,12z/data=!4m8!4m7!1m0!1m5!1m1!1s0x3bddd290b09914b3:0xcb07845d9d28215c!2m2!1d73.7898023!2d19.9974533'], ['https://www.google.co.uk/maps/dir//Nashik,+Maharashtra', '19.9909493,73.7334397,12z/data=!4m8!4m7!1m0!1m5!1m1!1s0x3bddd290b09914b3:0xcb07845d9d28215c!2m2!1d73.7898023!2d19.9974533'], ['https://www.google.co.uk/maps/dir//Nashik,+Maharashtra', '19.9909493,73.7334397,12z/data=!4m8!4m7!1m0!1m5!1m1!1s0x3bddd290b09914b3:0xcb07845d9d28215c!2m2!1d73.7898023!2d19.9974533'], ['https://www.google.co.uk/maps/dir//Nashik,+Maharashtra', '19.9909493,73.7334397,12z/data=!4m8!4m7!1m0!1m5!1m1!1s0x3bddd290b09914b3:0xcb07845d9d28215c!2m2!1d73.7898023!2d19.9974533'], ['https://www.google.co.uk/maps/dir//Nashik,+Maharashtra', '19.9909493,73.7334397,12z/data=!4m8!4m7!1m0!1m5!1m1!1s0x3bddd290b09914b3:0xcb07845d9d28215c!2m2!1d73.7898023!2d19.9974533'], ['https://www.google.co.uk/maps/dir//Nashik,+Maharashtra', '19.9909493,73.7334397,12z/data=!4m8!4m7!1m0!1m5!1m1!1s0x3bddd290b09914b3:0xcb07845d9d28215c!2m2!1d73.7898023!2d19.9974533'], ['https://www.google.co.uk/maps/dir//Nashik,+Maharashtra', '19.9909493,73.7334397,12z/data=!4m8!4m7!1m0!1m5!1m1!1s0x3bddd290b09914b3:0xcb07845d9d28215c!2m2!1d73.7898023!2d19.9974533'], ['https://www.google.co.uk/maps/dir//Nashik,+Maharashtra', '19.9909493,73.7334397,12z/data=!4m8!4m7!1m0!1m5!1m1!1s0x3bddd290b09914b3:0xcb07845d9d28215c!2m2!1d73.7898023!2d19.9974533'], ['https://www.google.co.uk/maps/dir//Nashik,+Maharashtra', '19.9909493,73.7334397,12z/data=!4m8!4m7!1m0!1m5!1m1!1s0x3bddd290b09914b3:0xcb07845d9d28215c!2m2!1d73.7898023!2d19.9974533'], ['https://www.google.co.uk/maps/dir//Nashik,+Maharashtra', '19.9909493,73.7334397,12z/data=!4m8!4m7!1m0!1m5!1m1!1s0x3bddd290b09914b3:0xcb07845d9d28215c!2m2!1d73.7898023!2d19.9974533'], ['https://www.google.co.uk/maps/dir//Nashik,+Maharashtra', '19.9909493,73.7334397,12z/data=!4m8!4m7!1m0!1m5!1m1!1s0x3bddd290b09914b3:0xcb07845d9d28215c!2m2!1d73.7898023!2d19.9974533'], ['https://www.google.co.uk/maps/dir//Nashik,+Maharashtra', '19.9909493,73.7334397,12z/data=!4m8!4m7!1m0!1m5!1m1!1s0x3bddd290b09914b3:0xcb07845d9d28215c!2m2!1d73.7898023!2d19.9974533'], ['https://www.google.co.uk/maps/dir//Nashik,+Maharashtra', '19.9909493,73.7334397,12z/data=!4m8!4m7!1m0!1m5!1m1!1s0x3bddd290b09914b3:0xcb07845d9d28215c!2m2!1d73.7898023!2d19.9974533'], ['https://www.google.co.uk/maps/dir//Nashik,+Maharashtra', '19.9909493,73.7334397,12z/data=!4m8!4m7!1m0!1m5!1m1!1s0x3bddd290b09914b3:0xcb07845d9d28215c!2m2!1d73.7898023!2d19.9974533'], ['https://www.google.co.uk/maps/dir//Nashik,+Maharashtra', '19.9909493,73.7334397,12z/data=!4m8!4m7!1m0!1m5!1m1!1s0x3bddd290b09914b3:0xcb07845d9d28215c!2m2!1d73.7898023!2d19.9974533'], ['https://www.google.co.uk/maps/dir//Nashik,+Maharashtra', '19.9909493,73.7334397,12z/data=!4m8!4m7!1m0!1m5!1m1!1s0x3bddd290b09914b3:0xcb07845d9d28215c!2m2!1d73.7898023!2d19.9974533'], ['https://www.google.co.uk/maps/dir//Nashik,+Maharashtra', '19.9909493,73.7334397,12z/data=!4m8!4m7!1m0!1m5!1m1!1s0x3bddd290b09914b3:0xcb07845d9d28215c!2m2!1d73.7898023!2d19.9974533'], ['https://www.google.co.uk/maps/dir//Nashik,+Maharashtra', '19.9909493,73.7334397,12z/data=!4m8!4m7!1m0!1m5!1m1!1s0x3bddd290b09914b3:0xcb07845d9d28215c!2m2!1d73.7898023!2d19.9974533'], ['https://www.google.co.uk/maps/dir//Nashik,+Maharashtra', '19.9909493,73.7334397,12z/data=!4m8!4m7!1m0!1m5!1m1!1s0x3bddd290b09914b3:0xcb07845d9d28215c!2m2!1d73.7898023!2d19.9974533'], ['https://www.google.co.uk/maps/dir//Nashik,+Maharashtra', '19.9909493,73.7334397,12z/data=!4m8!4m7!1m0!1m5!1m1!1s0x3bddd290b09914b3:0xcb07845d9d28215c!2m2!1d73.7898023!2d19.9974533'], ['https://www.google.co.uk/maps/dir//Nashik,+Maharashtra', '19.9909493,73.7334397,12z/data=!4m8!4m7!1m0!1m5!1m1!1s0x3bddd290b09914b3:0xcb07845d9d28215c!2m2!1d73.7898023!2d19.9974533'], ['https://www.google.co.uk/maps/dir//Nashik,+Maharashtra', '19.9909493,73.7334397,12z/data=!4m8!4m7!1m0!1m5!1m1!1s0x3bddd290b09914b3:0xcb07845d9d28215c!2m2!1d73.7898023!2d19.9974533'], ['https://www.google.co.uk/maps/dir//Nashik,+Maharashtra', '19.9909493,73.7334397,12z/data=!4m8!4m7!1m0!1m5!1m1!1s0x3bddd290b09914b3:0xcb07845d9d28215c!2m2!1d73.7898023!2d19.9974533'], ['https://www.google.co.uk/maps/dir//Nashik,+Maharashtra', '19.9909493,73.7334397,12z/data=!4m8!4m7!1m0!1m5!1m1!1s0x3bddd290b09914b3:0xcb07845d9d28215c!2m2!1d73.7898023!2d19.9974533'], ['https://www.google.co.uk/maps/dir//Nashik,+Maharashtra', '19.9909493,73.7334397,12z/data=!4m8!4m7!1m0!1m5!1m1!1s0x3bddd290b09914b3:0xcb07845d9d28215c!2m2!1d73.7898023!2d19.9974533'], ['https://www.google.co.uk/maps/dir//Nashik,+Maharashtra', '19.9909493,73.7334397,12z/data=!4m8!4m7!1m0!1m5!1m1!1s0x3bddd290b09914b3:0xcb07845d9d28215c!2m2!1d73.7898023!2d19.9974533'], ['https://www.google.co.uk/maps/dir//Nashik,+Maharashtra', '19.9909493,73.7334397,12z/data=!4m8!4m7!1m0!1m5!1m1!1s0x3bddd290b09914b3:0xcb07845d9d28215c!2m2!1d73.7898023!2d19.9974533'], ['https://www.google.co.uk/maps/dir//Nashik,+Maharashtra', '19.9909493,73.7334397,12z/data=!4m8!4m7!1m0!1m5!1m1!1s0x3bddd290b09914b3:0xcb07845d9d28215c!2m2!1d73.7898023!2d19.9974533'], ['https://www.google.co.uk/maps/dir//Nashik,+Maharashtra', '19.9909493,73.7334397,12z/data=!4m8!4m7!1m0!1m5!1m1!1s0x3bddd290b09914b3:0xcb07845d9d28215c!2m2!1d73.7898023!2d19.9974533'], ['https://www.google.co.uk/maps/dir//Nashik,+Maharashtra', '19.9909493,73.7334397,12z/data=!4m8!4m7!1m0!1m5!1m1!1s0x3bddd290b09914b3:0xcb07845d9d28215c!2m2!1d73.7898023!2d19.9974533'], ['https://www.google.co.uk/maps/dir//Nashik,+Maharashtra', '19.9909493,73.7334397,12z/data=!4m8!4m7!1m0!1m5!1m1!1s0x3bddd290b09914b3:0xcb07845d9d28215c!2m2!1d73.7898023!2d19.9974533'], ['https://www.google.co.uk/maps/dir//Nashik,+Maharashtra', '19.9909493,73.7334397,12z/data=!4m8!4m7!1m0!1m5!1m1!1s0x3bddd290b09914b3:0xcb07845d9d28215c!2m2!1d73.7898023!2d19.9974533'], ['https://www.google.co.uk/maps/dir//Nashik,+Maharashtra', '19.9909493,73.7334397,12z/data=!4m8!4m7!1m0!1m5!1m1!1s0x3bddd290b09914b3:0xcb07845d9d28215c!2m2!1d73.7898023!2d19.9974533'], ['https://www.google.co.uk/maps/dir//Nashik,+Maharashtra', '19.9909493,73.7334397,12z/data=!4m8!4m7!1m0!1m5!1m1!1s0x3bddd290b09914b3:0xcb07845d9d28215c!2m2!1d73.7898023!2d19.9974533'], ['https://www.google.co.uk/maps/dir//Nashik,+Maharashtra', '19.9909493,73.7334397,12z/data=!4m8!4m7!1m0!1m5!1m1!1s0x3bddd290b09914b3:0xcb07845d9d28215c!2m2!1d73.7898023!2d19.9974533'], ['https://www.google.co.uk/maps/dir//Nashik,+Maharashtra', '19.9909493,73.7334397,12z/data=!4m8!4m7!1m0!1m5!1m1!1s0x3bddd290b09914b3:0xcb07845d9d28215c!2m2!1d73.7898023!2d19.9974533'], ['https://www.google.co.uk/maps/dir//Nashik,+Maharashtra', '19.9909493,73.7334397,12z/data=!4m8!4m7!1m0!1m5!1m1!1s0x3bddd290b09914b3:0xcb07845d9d28215c!2m2!1d73.7898023!2d19.9974533'], ['https://www.google.co.uk/maps/dir//Nashik,+Maharashtra', '19.9909493,73.7334397,12z/data=!4m8!4m7!1m0!1m5!1m1!1s0x3bddd290b09914b3:0xcb07845d9d28215c!2m2!1d73.7898023!2d19.9974533'], ['https://www.google.co.uk/maps/dir//Nashik,+Maharashtra', '19.9909493,73.7334397,12z/data=!4m8!4m7!1m0!1m5!1m1!1s0x3bddd290b09914b3:0xcb07845d9d28215c!2m2!1d73.7898023!2d19.9974533'], ['https://www.google.co.uk/maps/dir//Nashik,+Maharashtra', '19.9909493,73.7334397,12z/data=!4m8!4m7!1m0!1m5!1m1!1s0x3bddd290b09914b3:0xcb07845d9d28215c!2m2!1d73.7898023!2d19.9974533'], ['https://www.google.co.uk/maps/dir//Nashik,+Maharashtra', '19.9909493,73.7334397,12z/data=!4m8!4m7!1m0!1m5!1m1!1s0x3bddd290b09914b3:0xcb07845d9d28215c!2m2!1d73.7898023!2d19.9974533'], ['https://www.google.co.uk/maps/dir//Nashik,+Maharashtra', '19.9909493,73.7334397,12z/data=!4m8!4m7!1m0!1m5!1m1!1s0x3bddd290b09914b3:0xcb07845d9d28215c!2m2!1d73.7898023!2d19.9974533'], ['https://www.google.co.uk/maps/dir//Nashik,+Maharashtra', '19.9909493,73.7334397,12z/data=!4m8!4m7!1m0!1m5!1m1!1s0x3bddd290b09914b3:0xcb07845d9d28215c!2m2!1d73.7898023!2d19.9974533'], ['https://www.google.co.uk/maps/dir//Nashik,+Maharashtra', '19.9909493,73.7334397,12z/data=!4m8!4m7!1m0!1m5!1m1!1s0x3bddd290b09914b3:0xcb07845d9d28215c!2m2!1d73.7898023!2d19.9974533'], ['https://www.google.co.uk/maps/dir//Nashik,+Maharashtra', '19.9909493,73.7334397,12z/data=!4m8!4m7!1m0!1m5!1m1!1s0x3bddd290b09914b3:0xcb07845d9d28215c!2m2!1d73.7898023!2d19.9974533'], ['https://www.google.co.uk/maps/dir//Nashik,+Maharashtra', '19.9909493,73.7334397,12z/data=!4m8!4m7!1m0!1m5!1m1!1s0x3bddd290b09914b3:0xcb07845d9d28215c!2m2!1d73.7898023!2d19.9974533'], ['https://www.google.co.uk/maps/dir//Nashik,+Maharashtra', '19.9909493,73.7334397,12z/data=!4m8!4m7!1m0!1m5!1m1!1s0x3bddd290b09914b3:0xcb07845d9d28215c!2m2!1d73.7898023!2d19.9974533'], ['https://www.google.co.uk/maps/dir//Nashik,+Maharashtra', '19.9909493,73.7334397,12z/data=!4m8!4m7!1m0!1m5!1m1!1s0x3bddd290b09914b3:0xcb07845d9d28215c!2m2!1d73.7898023!2d19.9974533'], ['https://www.google.co.uk/maps/dir//Nashik,+Maharashtra', '19.9909493,73.7334397,12z/data=!4m8!4m7!1m0!1m5!1m1!1s0x3bddd290b09914b3:0xcb07845d9d28215c!2m2!1d73.7898023!2d19.9974533'], ['https://www.google.co.uk/maps/dir//Nashik,+Maharashtra', '19.9909493,73.7334397,12z/data=!4m8!4m7!1m0!1m5!1m1!1s0x3bddd290b09914b3:0xcb07845d9d28215c!2m2!1d73.7898023!2d19.9974533'], ['https://www.google.co.uk/maps/dir//Nashik,+Maharashtra', '19.9909493,73.7334397,12z/data=!4m8!4m7!1m0!1m5!1m1!1s0x3bddd290b09914b3:0xcb07845d9d28215c!2m2!1d73.7898023!2d19.9974533'], ['https://www.google.co.uk/maps/dir//Nashik,+Maharashtra', '19.9909493,73.7334397,12z/data=!4m8!4m7!1m0!1m5!1m1!1s0x3bddd290b09914b3:0xcb07845d9d28215c!2m2!1d73.7898023!2d19.9974533'], ['https://www.google.co.uk/maps/dir//Nashik,+Maharashtra', '19.9909493,73.7334397,12z/data=!4m8!4m7!1m0!1m5!1m1!1s0x3bddd290b09914b3:0xcb07845d9d28215c!2m2!1d73.7898023!2d19.9974533'], ['https://www.google.co.uk/maps/dir//Nashik,+Maharashtra', '19.9909493,73.7334397,12z/data=!4m8!4m7!1m0!1m5!1m1!1s0x3bddd290b09914b3:0xcb07845d9d28215c!2m2!1d73.7898023!2d19.9974533'], ['https://www.google.co.uk/maps/dir//Nashik,+Maharashtra', '19.9909493,73.7334397,12z/data=!4m8!4m7!1m0!1m5!1m1!1s0x3bddd290b09914b3:0xcb07845d9d28215c!2m2!1d73.7898023!2d19.9974533'], ['https://www.google.co.uk/maps/dir//Nashik,+Maharashtra', '19.9909493,73.7334397,12z/data=!4m8!4m7!1m0!1m5!1m1!1s0x3bddd290b09914b3:0xcb07845d9d28215c!2m2!1d73.7898023!2d19.9974533'], ['https://www.google.co.uk/maps/dir//Nashik,+Maharashtra', '19.9909493,73.7334397,12z/data=!4m8!4m7!1m0!1m5!1m1!1s0x3bddd290b09914b3:0xcb07845d9d28215c!2m2!1d73.7898023!2d19.9974533'], ['https://www.google.co.uk/maps/dir//Nashik,+Maharashtra', '19.9909493,73.7334397,12z/data=!4m8!4m7!1m0!1m5!1m1!1s0x3bddd290b09914b3:0xcb07845d9d28215c!2m2!1d73.7898023!2d19.9974533'], ['https://www.google.co.uk/maps/dir//Nashik,+Maharashtra', '19.9909493,73.7334397,12z/data=!4m8!4m7!1m0!1m5!1m1!1s0x3bddd290b09914b3:0xcb07845d9d28215c!2m2!1d73.7898023!2d19.9974533'], ['https://www.google.co.uk/maps/dir//Nashik,+Maharashtra', '19.9909493,73.7334397,12z/data=!4m8!4m7!1m0!1m5!1m1!1s0x3bddd290b09914b3:0xcb07845d9d28215c!2m2!1d73.7898023!2d19.9974533'], ['https://www.google.co.uk/maps/dir//Nashik,+Maharashtra', '19.9909493,73.7334397,12z/data=!4m8!4m7!1m0!1m5!1m1!1s0x3bddd290b09914b3:0xcb07845d9d28215c!2m2!1d73.7898023!2d19.9974533'], ['https://www.google.co.uk/maps/dir//Nashik,+Maharashtra', '19.9909493,73.7334397,12z/data=!4m8!4m7!1m0!1m5!1m1!1s0x3bddd290b09914b3:0xcb07845d9d28215c!2m2!1d73.7898023!2d19.9974533'], ['https://www.google.co.uk/maps/dir//Nashik,+Maharashtra', '19.9909493,73.7334397,12z/data=!4m8!4m7!1m0!1m5!1m1!1s0x3bddd290b09914b3:0xcb07845d9d28215c!2m2!1d73.7898023!2d19.9974533'], ['https://www.google.co.uk/maps/dir//Nashik,+Maharashtra', '19.9909493,73.7334397,12z/data=!4m8!4m7!1m0!1m5!1m1!1s0x3bddd290b09914b3:0xcb07845d9d28215c!2m2!1d73.7898023!2d19.9974533'], ['https://www.google.co.uk/maps/dir//Nashik,+Maharashtra', '19.9909493,73.7334397,12z/data=!4m8!4m7!1m0!1m5!1m1!1s0x3bddd290b09914b3:0xcb07845d9d28215c!2m2!1d73.7898023!2d19.9974533'], ['https://www.google.co.uk/maps/dir//Nashik,+Maharashtra', '19.9909493,73.7334397,12z/data=!4m8!4m7!1m0!1m5!1m1!1s0x3bddd290b09914b3:0xcb07845d9d28215c!2m2!1d73.7898023!2d19.9974533'], ['https://www.google.co.uk/maps/dir//Nashik,+Maharashtra', '19.9909493,73.7334397,12z/data=!4m8!4m7!1m0!1m5!1m1!1s0x3bddd290b09914b3:0xcb07845d9d28215c!2m2!1d73.7898023!2d19.9974533'], ['https://www.google.co.uk/maps/dir//Nashik,+Maharashtra', '19.9909493,73.7334397,12z/data=!4m8!4m7!1m0!1m5!1m1!1s0x3bddd290b09914b3:0xcb07845d9d28215c!2m2!1d73.7898023!2d19.9974533'], ['https://www.google.co.uk/maps/dir//Nashik,+Maharashtra', '19.9909493,73.7334397,12z/data=!4m8!4m7!1m0!1m5!1m1!1s0x3bddd290b09914b3:0xcb07845d9d28215c!2m2!1d73.7898023!2d19.9974533'], ['https://www.google.co.uk/maps/dir//Nashik,+Maharashtra', '19.9909493,73.7334397,12z/data=!4m8!4m7!1m0!1m5!1m1!1s0x3bddd290b09914b3:0xcb07845d9d28215c!2m2!1d73.7898023!2d19.9974533'], ['https://www.google.co.uk/maps/dir//Nashik,+Maharashtra', '19.9909493,73.7334397,12z/data=!4m8!4m7!1m0!1m5!1m1!1s0x3bddd290b09914b3:0xcb07845d9d28215c!2m2!1d73.7898023!2d19.9974533'], ['https://www.google.co.uk/maps/dir//Nashik,+Maharashtra', '19.9909493,73.7334397,12z/data=!4m8!4m7!1m0!1m5!1m1!1s0x3bddd290b09914b3:0xcb07845d9d28215c!2m2!1d73.7898023!2d19.9974533'], ['https://www.google.co.uk/maps/dir//Nashik,+Maharashtra', '19.9909493,73.7334397,12z/data=!4m8!4m7!1m0!1m5!1m1!1s0x3bddd290b09914b3:0xcb07845d9d28215c!2m2!1d73.7898023!2d19.9974533'], ['https://www.google.co.uk/maps/dir//Nashik,+Maharashtra', '19.9909493,73.7334397,12z/data=!4m8!4m7!1m0!1m5!1m1!1s0x3bddd290b09914b3:0xcb07845d9d28215c!2m2!1d73.7898023!2d19.9974533'], ['https://www.google.co.uk/maps/dir//Nashik,+Maharashtra', '19.9909493,73.7334397,12z/data=!4m8!4m7!1m0!1m5!1m1!1s0x3bddd290b09914b3:0xcb07845d9d28215c!2m2!1d73.7898023!2d19.9974533'], ['https://www.google.co.uk/maps/dir//Nashik,+Maharashtra', '19.9909493,73.7334397,12z/data=!4m8!4m7!1m0!1m5!1m1!1s0x3bddd290b09914b3:0xcb07845d9d28215c!2m2!1d73.7898023!2d19.9974533'], ['https://www.google.co.uk/maps/dir//Nashik,+Maharashtra', '19.9909493,73.7334397,12z/data=!4m8!4m7!1m0!1m5!1m1!1s0x3bddd290b09914b3:0xcb07845d9d28215c!2m2!1d73.7898023!2d19.9974533'], ['https://www.google.co.uk/maps/dir//Nashik,+Maharashtra', '19.9909493,73.7334397,12z/data=!4m8!4m7!1m0!1m5!1m1!1s0x3bddd290b09914b3:0xcb07845d9d28215c!2m2!1d73.7898023!2d19.9974533'], ['https://www.google.co.uk/maps/dir//Nashik,+Maharashtra', '19.9909493,73.7334397,12z/data=!4m8!4m7!1m0!1m5!1m1!1s0x3bddd290b09914b3:0xcb07845d9d28215c!2m2!1d73.7898023!2d19.9974533'], ['https://www.google.co.uk/maps/dir//Nashik,+Maharashtra', '19.9909493,73.7334397,12z/data=!4m8!4m7!1m0!1m5!1m1!1s0x3bddd290b09914b3:0xcb07845d9d28215c!2m2!1d73.7898023!2d19.9974533'], ['https://www.google.co.uk/maps/dir//Nashik,+Maharashtra', '19.9909493,73.7334397,12z/data=!4m8!4m7!1m0!1m5!1m1!1s0x3bddd290b09914b3:0xcb07845d9d28215c!2m2!1d73.7898023!2d19.9974533'], ['https://www.google.co.uk/maps/dir//Nashik,+Maharashtra', '19.9909493,73.7334397,12z/data=!4m8!4m7!1m0!1m5!1m1!1s0x3bddd290b09914b3:0xcb07845d9d28215c!2m2!1d73.7898023!2d19.9974533'], ['https://www.google.co.uk/maps/dir//Nashik,+Maharashtra', '19.9909493,73.7334397,12z/data=!4m8!4m7!1m0!1m5!1m1!1s0x3bddd290b09914b3:0xcb07845d9d28215c!2m2!1d73.7898023!2d19.9974533'], ['https://www.google.co.uk/maps/dir//Nashik,+Maharashtra', '19.9909493,73.7334397,12z/data=!4m8!4m7!1m0!1m5!1m1!1s0x3bddd290b09914b3:0xcb07845d9d28215c!2m2!1d73.7898023!2d19.9974533'], ['https://www.google.co.uk/maps/dir//Nashik,+Maharashtra', '19.9909493,73.7334397,12z/data=!4m8!4m7!1m0!1m5!1m1!1s0x3bddd290b09914b3:0xcb07845d9d28215c!2m2!1d73.7898023!2d19.9974533'], ['https://www.google.co.uk/maps/dir//Nashik,+Maharashtra', '19.9909493,73.7334397,12z/data=!4m8!4m7!1m0!1m5!1m1!1s0x3bddd290b09914b3:0xcb07845d9d28215c!2m2!1d73.7898023!2d19.9974533'], ['https://www.google.co.uk/maps/dir//Nashik,+Maharashtra', '19.9909493,73.7334397,12z/data=!4m8!4m7!1m0!1m5!1m1!1s0x3bddd290b09914b3:0xcb07845d9d28215c!2m2!1d73.7898023!2d19.9974533'], ['https://www.google.co.uk/maps/dir//Nashik,+Maharashtra', '19.9909493,73.7334397,12z/data=!4m8!4m7!1m0!1m5!1m1!1s0x3bddd290b09914b3:0xcb07845d9d28215c!2m2!1d73.7898023!2d19.9974533'], ['https://www.google.co.uk/maps/dir//Nashik,+Maharashtra', '19.9909493,73.7334397,12z/data=!4m8!4m7!1m0!1m5!1m1!1s0x3bddd290b09914b3:0xcb07845d9d28215c!2m2!1d73.7898023!2d19.9974533'], ['https://www.google.co.uk/maps/dir//Nashik,+Maharashtra', '19.9909493,73.7334397,12z/data=!4m8!4m7!1m0!1m5!1m1!1s0x3bddd290b09914b3:0xcb07845d9d28215c!2m2!1d73.7898023!2d19.9974533'], ['https://www.google.co.uk/maps/dir//Nashik,+Maharashtra', '19.9909493,73.7334397,12z/data=!4m8!4m7!1m0!1m5!1m1!1s0x3bddd290b09914b3:0xcb07845d9d28215c!2m2!1d73.7898023!2d19.9974533'], ['https://www.google.co.uk/maps/dir//Nashik,+Maharashtra', '19.9909493,73.7334397,12z/data=!4m8!4m7!1m0!1m5!1m1!1s0x3bddd290b09914b3:0xcb07845d9d28215c!2m2!1d73.7898023!2d19.9974533'], ['https://www.google.co.uk/maps/dir//Nashik,+Maharashtra', '19.9909493,73.7334397,12z/data=!4m8!4m7!1m0!1m5!1m1!1s0x3bddd290b09914b3:0xcb07845d9d28215c!2m2!1d73.7898023!2d19.9974533'], ['https://www.google.co.uk/maps/dir//Nashik,+Maharashtra', '19.9909493,73.7334397,12z/data=!4m8!4m7!1m0!1m5!1m1!1s0x3bddd290b09914b3:0xcb07845d9d28215c!2m2!1d73.7898023!2d19.9974533'], ['https://www.google.co.uk/maps/dir//Nashik,+Maharashtra', '19.9909493,73.7334397,12z/data=!4m8!4m7!1m0!1m5!1m1!1s0x3bddd290b09914b3:0xcb07845d9d28215c!2m2!1d73.7898023!2d19.9974533'], ['https://www.google.co.uk/maps/dir//Nashik,+Maharashtra', '19.9909493,73.7334397,12z/data=!4m8!4m7!1m0!1m5!1m1!1s0x3bddd290b09914b3:0xcb07845d9d28215c!2m2!1d73.7898023!2d19.9974533'], ['https://www.google.co.uk/maps/dir//Nashik,+Maharashtra', '19.9909493,73.7334397,12z/data=!4m8!4m7!1m0!1m5!1m1!1s0x3bddd290b09914b3:0xcb07845d9d28215c!2m2!1d73.7898023!2d19.9974533'], ['https://www.google.co.uk/maps/dir//Nashik,+Maharashtra', '19.9909493,73.7334397,12z/data=!4m8!4m7!1m0!1m5!1m1!1s0x3bddd290b09914b3:0xcb07845d9d28215c!2m2!1d73.7898023!2d19.9974533'], ['https://www.google.co.uk/maps/dir//Nashik,+Maharashtra', '19.9909493,73.7334397,12z/data=!4m8!4m7!1m0!1m5!1m1!1s0x3bddd290b09914b3:0xcb07845d9d28215c!2m2!1d73.7898023!2d19.9974533'], ['https://www.google.co.uk/maps/dir//Nashik,+Maharashtra', '19.9909493,73.7334397,12z/data=!4m8!4m7!1m0!1m5!1m1!1s0x3bddd290b09914b3:0xcb07845d9d28215c!2m2!1d73.7898023!2d19.9974533'], ['https://www.google.co.uk/maps/dir//Nashik,+Maharashtra', '19.9909493,73.7334397,12z/data=!4m8!4m7!1m0!1m5!1m1!1s0x3bddd290b09914b3:0xcb07845d9d28215c!2m2!1d73.7898023!2d19.9974533'], ['https://www.google.co.uk/maps/dir//Nashik,+Maharashtra', '19.9909493,73.7334397,12z/data=!4m8!4m7!1m0!1m5!1m1!1s0x3bddd290b09914b3:0xcb07845d9d28215c!2m2!1d73.7898023!2d19.9974533'], ['https://www.google.co.uk/maps/dir//Nashik,+Maharashtra', '19.9909493,73.7334397,12z/data=!4m8!4m7!1m0!1m5!1m1!1s0x3bddd290b09914b3:0xcb07845d9d28215c!2m2!1d73.7898023!2d19.9974533'], ['https://www.google.co.uk/maps/dir//Nashik,+Maharashtra', '19.9909493,73.7334397,12z/data=!4m8!4m7!1m0!1m5!1m1!1s0x3bddd290b09914b3:0xcb07845d9d28215c!2m2!1d73.7898023!2d19.9974533'], ['https://www.google.co.uk/maps/dir//Nashik,+Maharashtra', '19.9909493,73.7334397,12z/data=!4m8!4m7!1m0!1m5!1m1!1s0x3bddd290b09914b3:0xcb07845d9d28215c!2m2!1d73.7898023!2d19.9974533'], ['https://www.google.co.uk/maps/dir//Nashik,+Maharashtra', '19.9909493,73.7334397,12z/data=!4m8!4m7!1m0!1m5!1m1!1s0x3bddd290b09914b3:0xcb07845d9d28215c!2m2!1d73.7898023!2d19.9974533'], ['https://www.google.co.uk/maps/dir//Nashik,+Maharashtra', '19.9909493,73.7334397,12z/data=!4m8!4m7!1m0!1m5!1m1!1s0x3bddd290b09914b3:0xcb07845d9d28215c!2m2!1d73.7898023!2d19.9974533'], ['https://www.google.co.uk/maps/dir//Nashik,+Maharashtra', '19.9909493,73.7334397,12z/data=!4m8!4m7!1m0!1m5!1m1!1s0x3bddd290b09914b3:0xcb07845d9d28215c!2m2!1d73.7898023!2d19.9974533'], ['https://www.google.co.uk/maps/dir//Nashik,+Maharashtra', '19.9909493,73.7334397,12z/data=!4m8!4m7!1m0!1m5!1m1!1s0x3bddd290b09914b3:0xcb07845d9d28215c!2m2!1d73.7898023!2d19.9974533'], ['https://www.google.co.uk/maps/dir//Nashik,+Maharashtra', '19.9909493,73.7334397,12z/data=!4m8!4m7!1m0!1m5!1m1!1s0x3bddd290b09914b3:0xcb07845d9d28215c!2m2!1d73.7898023!2d19.9974533'], ['https://www.google.co.uk/maps/dir//Nashik,+Maharashtra', '19.9909493,73.7334397,12z/data=!4m8!4m7!1m0!1m5!1m1!1s0x3bddd290b09914b3:0xcb07845d9d28215c!2m2!1d73.7898023!2d19.9974533'], ['https://www.google.co.uk/maps/dir//Nashik,+Maharashtra', '19.9909493,73.7334397,12z/data=!4m8!4m7!1m0!1m5!1m1!1s0x3bddd290b09914b3:0xcb07845d9d28215c!2m2!1d73.7898023!2d19.9974533'], ['https://www.google.co.uk/maps/dir//Nashik,+Maharashtra', '19.9909493,73.7334397,12z/data=!4m8!4m7!1m0!1m5!1m1!1s0x3bddd290b09914b3:0xcb07845d9d28215c!2m2!1d73.7898023!2d19.9974533'], ['https://www.google.co.uk/maps/dir//Nashik,+Maharashtra', '19.9909493,73.7334397,12z/data=!4m8!4m7!1m0!1m5!1m1!1s0x3bddd290b09914b3:0xcb07845d9d28215c!2m2!1d73.7898023!2d19.9974533'], ['https://www.google.co.uk/maps/dir//Nashik,+Maharashtra', '19.9909493,73.7334397,12z/data=!4m8!4m7!1m0!1m5!1m1!1s0x3bddd290b09914b3:0xcb07845d9d28215c!2m2!1d73.7898023!2d19.9974533'], ['https://www.google.co.uk/maps/dir//Nashik,+Maharashtra', '19.9909493,73.7334397,12z/data=!4m8!4m7!1m0!1m5!1m1!1s0x3bddd290b09914b3:0xcb07845d9d28215c!2m2!1d73.7898023!2d19.9974533'], ['https://www.google.co.uk/maps/dir//Nashik,+Maharashtra', '19.9909493,73.7334397,12z/data=!4m8!4m7!1m0!1m5!1m1!1s0x3bddd290b09914b3:0xcb07845d9d28215c!2m2!1d73.7898023!2d19.9974533'], ['https://www.google.co.uk/maps/dir//Nashik,+Maharashtra', '19.9909493,73.7334397,12z/data=!4m8!4m7!1m0!1m5!1m1!1s0x3bddd290b09914b3:0xcb07845d9d28215c!2m2!1d73.7898023!2d19.9974533'], ['https://www.google.co.uk/maps/dir//Nashik,+Maharashtra', '19.9909493,73.7334397,12z/data=!4m8!4m7!1m0!1m5!1m1!1s0x3bddd290b09914b3:0xcb07845d9d28215c!2m2!1d73.7898023!2d19.9974533'], ['https://www.google.co.uk/maps/dir//Nashik,+Maharashtra', '19.9909493,73.7334397,12z/data=!4m8!4m7!1m0!1m5!1m1!1s0x3bddd290b09914b3:0xcb07845d9d28215c!2m2!1d73.7898023!2d19.9974533'], ['https://www.google.co.uk/maps/dir//Nashik,+Maharashtra', '19.9909493,73.7334397,12z/data=!4m8!4m7!1m0!1m5!1m1!1s0x3bddd290b09914b3:0xcb07845d9d28215c!2m2!1d73.7898023!2d19.9974533'], ['https://www.google.co.uk/maps/dir//Nashik,+Maharashtra', '19.9909493,73.7334397,12z/data=!4m8!4m7!1m0!1m5!1m1!1s0x3bddd290b09914b3:0xcb07845d9d28215c!2m2!1d73.7898023!2d19.9974533'], ['https://www.google.co.uk/maps/dir//Nashik,+Maharashtra', '19.9909493,73.7334397,12z/data=!4m8!4m7!1m0!1m5!1m1!1s0x3bddd290b09914b3:0xcb07845d9d28215c!2m2!1d73.7898023!2d19.9974533'], ['https://www.google.co.uk/maps/dir//Nashik,+Maharashtra', '19.9909493,73.7334397,12z/data=!4m8!4m7!1m0!1m5!1m1!1s0x3bddd290b09914b3:0xcb07845d9d28215c!2m2!1d73.7898023!2d19.9974533'], ['https://www.google.co.uk/maps/dir//Nashik,+Maharashtra', '19.9909493,73.7334397,12z/data=!4m8!4m7!1m0!1m5!1m1!1s0x3bddd290b09914b3:0xcb07845d9d28215c!2m2!1d73.7898023!2d19.9974533'], ['https://www.google.co.uk/maps/dir//Nashik,+Maharashtra', '19.9909493,73.7334397,12z/data=!4m8!4m7!1m0!1m5!1m1!1s0x3bddd290b09914b3:0xcb07845d9d28215c!2m2!1d73.7898023!2d19.9974533'], ['https://www.google.co.uk/maps/dir//Nashik,+Maharashtra', '19.9909493,73.7334397,12z/data=!4m8!4m7!1m0!1m5!1m1!1s0x3bddd290b09914b3:0xcb07845d9d28215c!2m2!1d73.7898023!2d19.9974533'], ['https://www.google.co.uk/maps/dir//Nashik,+Maharashtra', '19.9909493,73.7334397,12z/data=!4m8!4m7!1m0!1m5!1m1!1s0x3bddd290b09914b3:0xcb07845d9d28215c!2m2!1d73.7898023!2d19.9974533'], ['https://www.google.co.uk/maps/dir//Nashik,+Maharashtra', '19.9909493,73.7334397,12z/data=!4m8!4m7!1m0!1m5!1m1!1s0x3bddd290b09914b3:0xcb07845d9d28215c!2m2!1d73.7898023!2d19.9974533'], ['https://www.google.co.uk/maps/dir//Nashik,+Maharashtra', '19.9909493,73.7334397,12z/data=!4m8!4m7!1m0!1m5!1m1!1s0x3bddd290b09914b3:0xcb07845d9d28215c!2m2!1d73.7898023!2d19.9974533'], ['https://www.google.co.uk/maps/dir//Nashik,+Maharashtra', '19.9909493,73.7334397,12z/data=!4m8!4m7!1m0!1m5!1m1!1s0x3bddd290b09914b3:0xcb07845d9d28215c!2m2!1d73.7898023!2d19.9974533'], ['https://www.google.co.uk/maps/dir//Nashik,+Maharashtra', '19.9909493,73.7334397,12z/data=!4m8!4m7!1m0!1m5!1m1!1s0x3bddd290b09914b3:0xcb07845d9d28215c!2m2!1d73.7898023!2d19.9974533'], ['https://www.google.co.uk/maps/dir//Nashik,+Maharashtra', '19.9909493,73.7334397,12z/data=!4m8!4m7!1m0!1m5!1m1!1s0x3bddd290b09914b3:0xcb07845d9d28215c!2m2!1d73.7898023!2d19.9974533'], ['https://www.google.co.uk/maps/dir//Nashik,+Maharashtra', '19.9909493,73.7334397,12z/data=!4m8!4m7!1m0!1m5!1m1!1s0x3bddd290b09914b3:0xcb07845d9d28215c!2m2!1d73.7898023!2d19.9974533'], ['https://www.google.co.uk/maps/dir//Nashik,+Maharashtra', '19.9909493,73.7334397,12z/data=!4m8!4m7!1m0!1m5!1m1!1s0x3bddd290b09914b3:0xcb07845d9d28215c!2m2!1d73.7898023!2d19.9974533'], ['https://www.google.co.uk/maps/dir//Nashik,+Maharashtra', '19.9909493,73.7334397,12z/data=!4m8!4m7!1m0!1m5!1m1!1s0x3bddd290b09914b3:0xcb07845d9d28215c!2m2!1d73.7898023!2d19.9974533'], ['https://www.google.co.uk/maps/dir//Nashik,+Maharashtra', '19.9909493,73.7334397,12z/data=!4m8!4m7!1m0!1m5!1m1!1s0x3bddd290b09914b3:0xcb07845d9d28215c!2m2!1d73.7898023!2d19.9974533'], ['https://www.google.co.uk/maps/dir//Nashik,+Maharashtra', '19.9909493,73.7334397,12z/data=!4m8!4m7!1m0!1m5!1m1!1s0x3bddd290b09914b3:0xcb07845d9d28215c!2m2!1d73.7898023!2d19.9974533'], ['https://www.google.co.uk/maps/dir//Nashik,+Maharashtra', '19.9909493,73.7334397,12z/data=!4m8!4m7!1m0!1m5!1m1!1s0x3bddd290b09914b3:0xcb07845d9d28215c!2m2!1d73.7898023!2d19.9974533'], ['https://www.google.co.uk/maps/dir//Nashik,+Maharashtra', '19.9909493,73.7334397,12z/data=!4m8!4m7!1m0!1m5!1m1!1s0x3bddd290b09914b3:0xcb07845d9d28215c!2m2!1d73.7898023!2d19.9974533'], ['https://www.google.co.uk/maps/dir//Nashik,+Maharashtra', '19.9909493,73.7334397,12z/data=!4m8!4m7!1m0!1m5!1m1!1s0x3bddd290b09914b3:0xcb07845d9d28215c!2m2!1d73.7898023!2d19.9974533'], ['https://www.google.co.uk/maps/dir//Nashik,+Maharashtra', '19.9909493,73.7334397,12z/data=!4m8!4m7!1m0!1m5!1m1!1s0x3bddd290b09914b3:0xcb07845d9d28215c!2m2!1d73.7898023!2d19.9974533'], ['https://www.google.co.uk/maps/dir//Nashik,+Maharashtra', '19.9909493,73.7334397,12z/data=!4m8!4m7!1m0!1m5!1m1!1s0x3bddd290b09914b3:0xcb07845d9d28215c!2m2!1d73.7898023!2d19.9974533'], ['https://www.google.co.uk/maps/dir//Nashik,+Maharashtra', '19.9909493,73.7334397,12z/data=!4m8!4m7!1m0!1m5!1m1!1s0x3bddd290b09914b3:0xcb07845d9d28215c!2m2!1d73.7898023!2d19.9974533'], ['https://www.google.co.uk/maps/dir//Nashik,+Maharashtra', '19.9909493,73.7334397,12z/data=!4m8!4m7!1m0!1m5!1m1!1s0x3bddd290b09914b3:0xcb07845d9d28215c!2m2!1d73.7898023!2d19.9974533'], ['https://www.google.co.uk/maps/dir//Nashik,+Maharashtra', '19.9909493,73.7334397,12z/data=!4m8!4m7!1m0!1m5!1m1!1s0x3bddd290b09914b3:0xcb07845d9d28215c!2m2!1d73.7898023!2d19.9974533'], ['https://www.google.co.uk/maps/dir//Nashik,+Maharashtra', '19.9909493,73.7334397,12z/data=!4m8!4m7!1m0!1m5!1m1!1s0x3bddd290b09914b3:0xcb07845d9d28215c!2m2!1d73.7898023!2d19.9974533'], ['https://www.google.co.uk/maps/dir//Nashik,+Maharashtra', '19.9909493,73.7334397,12z/data=!4m8!4m7!1m0!1m5!1m1!1s0x3bddd290b09914b3:0xcb07845d9d28215c!2m2!1d73.7898023!2d19.9974533'], ['https://www.google.co.uk/maps/dir//Nashik,+Maharashtra', '19.9909493,73.7334397,12z/data=!4m8!4m7!1m0!1m5!1m1!1s0x3bddd290b09914b3:0xcb07845d9d28215c!2m2!1d73.7898023!2d19.9974533'], ['https://www.google.co.uk/maps/dir//Nashik,+Maharashtra', '19.9909493,73.7334397,12z/data=!4m8!4m7!1m0!1m5!1m1!1s0x3bddd290b09914b3:0xcb07845d9d28215c!2m2!1d73.7898023!2d19.9974533'], ['https://www.google.co.uk/maps/dir//Nashik,+Maharashtra', '19.9909493,73.7334397,12z/data=!4m8!4m7!1m0!1m5!1m1!1s0x3bddd290b09914b3:0xcb07845d9d28215c!2m2!1d73.7898023!2d19.9974533'], ['https://www.google.co.uk/maps/dir//Nashik,+Maharashtra', '19.9909493,73.7334397,12z/data=!4m8!4m7!1m0!1m5!1m1!1s0x3bddd290b09914b3:0xcb07845d9d28215c!2m2!1d73.7898023!2d19.9974533'], ['https://www.google.co.uk/maps/dir//Nashik,+Maharashtra', '19.9909493,73.7334397,12z/data=!4m8!4m7!1m0!1m5!1m1!1s0x3bddd290b09914b3:0xcb07845d9d28215c!2m2!1d73.7898023!2d19.9974533'], ['https://www.google.co.uk/maps/dir//Nashik,+Maharashtra', '19.9909493,73.7334397,12z/data=!4m8!4m7!1m0!1m5!1m1!1s0x3bddd290b09914b3:0xcb07845d9d28215c!2m2!1d73.7898023!2d19.9974533'], ['https://www.google.co.uk/maps/dir//Nashik,+Maharashtra', '19.9909493,73.7334397,12z/data=!4m8!4m7!1m0!1m5!1m1!1s0x3bddd290b09914b3:0xcb07845d9d28215c!2m2!1d73.7898023!2d19.9974533'], ['https://www.google.co.uk/maps/dir//Nashik,+Maharashtra', '19.9909493,73.7334397,12z/data=!4m8!4m7!1m0!1m5!1m1!1s0x3bddd290b09914b3:0xcb07845d9d28215c!2m2!1d73.7898023!2d19.9974533'], ['https://www.google.co.uk/maps/dir//Nashik,+Maharashtra', '19.9909493,73.7334397,12z/data=!4m8!4m7!1m0!1m5!1m1!1s0x3bddd290b09914b3:0xcb07845d9d28215c!2m2!1d73.7898023!2d19.9974533'], ['https://www.google.co.uk/maps/dir//Nashik,+Maharashtra', '19.9909493,73.7334397,12z/data=!4m8!4m7!1m0!1m5!1m1!1s0x3bddd290b09914b3:0xcb07845d9d28215c!2m2!1d73.7898023!2d19.9974533'], ['https://www.google.co.uk/maps/dir//Nashik,+Maharashtra', '19.9909493,73.7334397,12z/data=!4m8!4m7!1m0!1m5!1m1!1s0x3bddd290b09914b3:0xcb07845d9d28215c!2m2!1d73.7898023!2d19.9974533'], ['https://www.google.co.uk/maps/dir//Nashik,+Maharashtra', '19.9909493,73.7334397,12z/data=!4m8!4m7!1m0!1m5!1m1!1s0x3bddd290b09914b3:0xcb07845d9d28215c!2m2!1d73.7898023!2d19.9974533'], ['https://www.google.co.uk/maps/dir//Nashik,+Maharashtra', '19.9909493,73.7334397,12z/data=!4m8!4m7!1m0!1m5!1m1!1s0x3bddd290b09914b3:0xcb07845d9d28215c!2m2!1d73.7898023!2d19.9974533'], ['https://www.google.co.uk/maps/dir//Nashik,+Maharashtra', '19.9909493,73.7334397,12z/data=!4m8!4m7!1m0!1m5!1m1!1s0x3bddd290b09914b3:0xcb07845d9d28215c!2m2!1d73.7898023!2d19.9974533'], ['https://www.google.co.uk/maps/dir//Nashik,+Maharashtra', '19.9909493,73.7334397,12z/data=!4m8!4m7!1m0!1m5!1m1!1s0x3bddd290b09914b3:0xcb07845d9d28215c!2m2!1d73.7898023!2d19.9974533'], ['https://www.google.co.uk/maps/dir//Nashik,+Maharashtra', '19.9909493,73.7334397,12z/data=!4m8!4m7!1m0!1m5!1m1!1s0x3bddd290b09914b3:0xcb07845d9d28215c!2m2!1d73.7898023!2d19.9974533'], ['https://www.google.co.uk/maps/dir//Nashik,+Maharashtra', '19.9909493,73.7334397,12z/data=!4m8!4m7!1m0!1m5!1m1!1s0x3bddd290b09914b3:0xcb07845d9d28215c!2m2!1d73.7898023!2d19.9974533'], ['https://www.google.co.uk/maps/dir//Nashik,+Maharashtra', '19.9909493,73.7334397,12z/data=!4m8!4m7!1m0!1m5!1m1!1s0x3bddd290b09914b3:0xcb07845d9d28215c!2m2!1d73.7898023!2d19.9974533'], ['https://www.google.co.uk/maps/dir//Nashik,+Maharashtra', '19.9909493,73.7334397,12z/data=!4m8!4m7!1m0!1m5!1m1!1s0x3bddd290b09914b3:0xcb07845d9d28215c!2m2!1d73.7898023!2d19.9974533']]\n"
     ]
    }
   ],
   "source": [
    "print(url_sep)"
   ]
  },
  {
   "cell_type": "code",
   "execution_count": 43,
   "metadata": {},
   "outputs": [
    {
     "data": {
      "text/plain": [
       "'19.9909493,73.7334397,12z/data=!4m8!4m7!1m0!1m5!1m1!1s0x3bddd290b09914b3:0xcb07845d9d28215c!2m2!1d73.7898023!2d19.9974533'"
      ]
     },
     "execution_count": 43,
     "metadata": {},
     "output_type": "execute_result"
    }
   ],
   "source": [
    "url_sep[0][1]"
   ]
  },
  {
   "cell_type": "code",
   "execution_count": 44,
   "metadata": {},
   "outputs": [],
   "source": [
    "lat_lon = url_sep[0][1].split(',')"
   ]
  },
  {
   "cell_type": "code",
   "execution_count": 45,
   "metadata": {},
   "outputs": [
    {
     "data": {
      "text/plain": [
       "['19.9909493', '73.7334397']"
      ]
     },
     "execution_count": 45,
     "metadata": {},
     "output_type": "execute_result"
    }
   ],
   "source": [
    "lat_lon[0:2]"
   ]
  },
  {
   "cell_type": "code",
   "execution_count": 46,
   "metadata": {},
   "outputs": [],
   "source": [
    "latitude=lat_lon[0]\n",
    "longitude=lat_lon[1]"
   ]
  },
  {
   "cell_type": "code",
   "execution_count": 47,
   "metadata": {},
   "outputs": [
    {
     "data": {
      "text/plain": [
       "'19.9909493'"
      ]
     },
     "execution_count": 47,
     "metadata": {},
     "output_type": "execute_result"
    }
   ],
   "source": [
    "latitude"
   ]
  },
  {
   "cell_type": "code",
   "execution_count": 48,
   "metadata": {},
   "outputs": [
    {
     "data": {
      "text/plain": [
       "'73.7334397'"
      ]
     },
     "execution_count": 48,
     "metadata": {},
     "output_type": "execute_result"
    }
   ],
   "source": [
    "longitude"
   ]
  },
  {
   "cell_type": "code",
   "execution_count": 51,
   "metadata": {},
   "outputs": [],
   "source": [
    "driver.close()"
   ]
  },
  {
   "cell_type": "markdown",
   "metadata": {},
   "source": [
    "###  Q.6)Write a program to scrap details of all the funding deals for second quarter (i.e. July 20 – September 20) from trak.in."
   ]
  },
  {
   "cell_type": "code",
   "execution_count": 119,
   "metadata": {},
   "outputs": [],
   "source": [
    "import selenium\n",
    "import pandas as pd \n",
    "from selenium import webdriver\n",
    "import time \n",
    "from selenium.common.exceptions import NoSuchElementException"
   ]
  },
  {
   "cell_type": "code",
   "execution_count": 64,
   "metadata": {},
   "outputs": [],
   "source": [
    "driver = webdriver.Chrome(\"chromedriver.exe\")\n",
    "url = (\"https://trak.in/\")\n",
    "driver.get(url)"
   ]
  },
  {
   "cell_type": "code",
   "execution_count": 65,
   "metadata": {},
   "outputs": [
    {
     "data": {
      "text/plain": [
       "<selenium.webdriver.remote.webelement.WebElement (session=\"8df8de598ab1732a1d103e8f0f84b85d\", element=\"ea86ce24-3541-4c47-8537-a2177bb4327d\")>"
      ]
     },
     "execution_count": 65,
     "metadata": {},
     "output_type": "execute_result"
    }
   ],
   "source": [
    "button6 = driver.find_element_by_xpath(\"(//li[@class='menu-have-icon menu-icon-type-fontawesome menu-item menu-item-type-post_type menu-item-object-page better-anim-fade menu-item-51510'])[1]\")\n",
    "button6"
   ]
  },
  {
   "cell_type": "code",
   "execution_count": 66,
   "metadata": {},
   "outputs": [],
   "source": [
    "button6.click()"
   ]
  },
  {
   "cell_type": "code",
   "execution_count": 103,
   "metadata": {},
   "outputs": [],
   "source": [
    "var6 = []\n",
    "for i in driver.find_elements_by_xpath(\"(//td[@class='column-3'])\"):\n",
    "    var6.append(i.text)\n",
    "    "
   ]
  },
  {
   "cell_type": "code",
   "execution_count": 104,
   "metadata": {},
   "outputs": [
    {
     "data": {
      "text/plain": [
       "392"
      ]
     },
     "execution_count": 104,
     "metadata": {},
     "output_type": "execute_result"
    }
   ],
   "source": [
    "len(var6)"
   ]
  },
  {
   "cell_type": "code",
   "execution_count": 109,
   "metadata": {},
   "outputs": [],
   "source": [
    "startup = []\n",
    "startup = var6[55:85]\n"
   ]
  },
  {
   "cell_type": "code",
   "execution_count": 108,
   "metadata": {},
   "outputs": [
    {
     "name": "stdout",
     "output_type": "stream",
     "text": [
      "['Byju’s', 'mCaffeine', 'Qshala', 'Winzo', 'Hippo Video', 'Melorra', '1mg', 'mfine', 'Apna', 'Railofy', 'Practo', 'Medlife', 'HungerBox', 'Dunzo', 'Terra.do', 'Classplus', 'Niyo', 'ZestMoney', 'FreshToHome', 'Eduvanz', 'Flipkart', 'Vedantu', 'Crio', 'goDutch', 'Mystifly', 'JetSynthesys', 'gigIndia', 'PumPumPum', 'FLYX', 'Open Appliances Pvt. Ltd.']\n"
     ]
    }
   ],
   "source": [
    "print(startup)"
   ]
  },
  {
   "cell_type": "code",
   "execution_count": 110,
   "metadata": {},
   "outputs": [],
   "source": [
    "var2 = []\n",
    "for i in driver.find_elements_by_xpath(\"(//td[@class='column-4'])\"):\n",
    "    var2.append(i.text)"
   ]
  },
  {
   "cell_type": "code",
   "execution_count": 111,
   "metadata": {},
   "outputs": [],
   "source": [
    "industry6 = []\n",
    "industry6 = var2[55:85]"
   ]
  },
  {
   "cell_type": "code",
   "execution_count": 112,
   "metadata": {},
   "outputs": [
    {
     "name": "stdout",
     "output_type": "stream",
     "text": [
      "['EduTech', 'Personal Care', 'EduTech', 'Online Gaming', 'Video Customer Experience(CX) Platform', 'E-commerce', 'E-commerce', 'HealthTech', 'Human Resources', 'Transportation', 'HealthTech', 'E-commerce', 'FoodTech', 'Hyper-local Logistics', 'EduTech', 'EduTech', 'FinTech', 'FinTech', 'E-commerce', 'FinTech', 'E-commerce', 'EduTech', 'EduTech', 'FinTech', 'Airfare Marketplace', 'Gaming and Entertainment', 'Marketplace', 'Automotive Rental', 'OTT Player', 'Information Technology']\n"
     ]
    }
   ],
   "source": [
    "print(industry6)"
   ]
  },
  {
   "cell_type": "code",
   "execution_count": 113,
   "metadata": {},
   "outputs": [],
   "source": [
    "column3 = []\n",
    "for i in driver.find_elements_by_xpath(\"//td[@class='column-5']\"):\n",
    "    column3.append(i.text)"
   ]
  },
  {
   "cell_type": "code",
   "execution_count": 115,
   "metadata": {},
   "outputs": [],
   "source": [
    "subvertical = []\n",
    "subvertical = column3[55:85]"
   ]
  },
  {
   "cell_type": "code",
   "execution_count": 116,
   "metadata": {},
   "outputs": [
    {
     "name": "stdout",
     "output_type": "stream",
     "text": [
      "['Online Tutoring', 'Skincare & Haircare', 'Online Curiosity Platform for Kids', 'Online Gaming', 'Video Customer Experience(CX) Platform', 'Online Jewelry Store', 'Online Pharmacy', 'On-Demand Healthcare Services', 'Recruitment Platform', 'WL & RAC protection platform', 'Health care and Wellness', 'Online Pharmacy', 'Online Food Delivery Service', 'Online Delivery Services', 'Online Climate School, E-learning', 'E-learning, Online Tutoring', 'Financial Services', 'Financial Services', 'Food Delivery', 'Financial Services', 'E-commerce', 'Online Tutoring', 'Learning Platform for Developers', 'Group Payments', 'Ticketing, Airline Retailing, and Post-Ticketing Services', 'Gaming and Entertainment', 'Crowd Sourcing, Freelance', 'Used Car-leasing platform', 'Streaming Social Network', 'Internet-of-Things Security Solutions']\n"
     ]
    }
   ],
   "source": [
    "print(subvertical)"
   ]
  },
  {
   "cell_type": "code",
   "execution_count": 117,
   "metadata": {},
   "outputs": [],
   "source": [
    "loc = []\n",
    "for i in driver.find_elements_by_xpath(\"//td[@class='column-6']\"):\n",
    "    loc.append(i.text)"
   ]
  },
  {
   "cell_type": "code",
   "execution_count": 118,
   "metadata": {},
   "outputs": [],
   "source": [
    "city = []\n",
    "city = loc[55:85]"
   ]
  },
  {
   "cell_type": "code",
   "execution_count": 119,
   "metadata": {},
   "outputs": [
    {
     "name": "stdout",
     "output_type": "stream",
     "text": [
      "['Bangalore', 'Mumbai', 'Bangalore', 'New Delhi', 'Newark, Delaware, United States of Amercia', 'Bangalore', 'Gurgaon', 'Bangalore', 'Bangalore', 'Mumbai', 'Bangalore', 'Bangalore', 'Bangalore', 'Bangalore', 'Stanford, California,', 'Noida', 'Bangalore', 'Bangalore', 'Bangalore', 'Mumbai', 'Bangalore', 'Bangalore', 'Bangalore', 'Mumbai', 'Singapore and Bangalore', 'Pune', 'Pune', 'Gurgaon', 'New York and Delhi', 'Bangalore']\n"
     ]
    }
   ],
   "source": [
    "print(city)"
   ]
  },
  {
   "cell_type": "code",
   "execution_count": 121,
   "metadata": {},
   "outputs": [],
   "source": [
    "inv = []\n",
    "for i in driver.find_elements_by_xpath(\"//td[@class='column-7']\"):\n",
    "    inv.append(i.text)"
   ]
  },
  {
   "cell_type": "code",
   "execution_count": 122,
   "metadata": {},
   "outputs": [],
   "source": [
    "invest = []\n",
    "invest = inv[55:85]"
   ]
  },
  {
   "cell_type": "code",
   "execution_count": 123,
   "metadata": {},
   "outputs": [
    {
     "name": "stdout",
     "output_type": "stream",
     "text": [
      "['Silver Lake, Tiger Global, General Atlantic and Owl Ventures', 'Amicus Capital Private Equity I LLP, Amicus Capital Partners India Fund I and RP-SG Venture Fund 1', 'Rainmatter Capital', 'Kalaari Capital Partners, IndigoEdge Management Consultancy', 'Alpha Wave Incubation, Exfinity Venture Partners and existing backers.', 'Shadow Holdings, Lightbox.', 'Gaja Capital, Tata Capital, Partners Group', 'Caretech Pte Inc', 'Lightspeed India and Sequoia Capital India', 'Chiratae Ventures', 'A1A Company', 'Prasid Uno Family Trust and SC Credit Fund', 'One97, Sabre Partners Trust, Pratithi Investment Trust, and Srihari Kumar', 'Existing Backers', 'Stanford Angels and Entrepreneurs (India), BEENEXT Emerging Asia, Rainmatter Capital', 'Falcon Edge', 'Niyo Solutions Inc.', 'Primrose Hills Ventures', 'Ascent Capital', 'Sequoia India, Unitus', 'Walmart Inc', 'Coatue Management', '021 Capital', 'Matrix India,Y Combinator, Global Founders Capital, Soma Capital, and VentureSouq.', 'Recruit Co. Ltd.', 'Adar Poonawalla and Kris Gopalakrishnan.', 'Incubate Fund India and Beyond Next Ventures', 'Early Adapters Syndicate', 'Raj Mishra, founder of AIT Global Inc', 'Unicorn India Ventures']\n"
     ]
    }
   ],
   "source": [
    "print(invest)"
   ]
  },
  {
   "cell_type": "code",
   "execution_count": 140,
   "metadata": {},
   "outputs": [],
   "source": [
    "invtype = []\n",
    "for i in driver.find_elements_by_xpath(\"//td[@class='column-8']\"):\n",
    "    try:\n",
    "        invtype.append(i.text)\n",
    "    except:\n",
    "        invtype.append(\"--\")"
   ]
  },
  {
   "cell_type": "code",
   "execution_count": 142,
   "metadata": {},
   "outputs": [],
   "source": [
    "invest_type = []\n",
    "invest_type = invtype[55:85]"
   ]
  },
  {
   "cell_type": "code",
   "execution_count": 143,
   "metadata": {},
   "outputs": [
    {
     "name": "stdout",
     "output_type": "stream",
     "text": [
      "['Private Equity', 'Series B', 'Angel', 'Series B', 'Series A', 'Debt Financing', 'In Progress', 'Series B', 'Series A', 'Seed', 'Series F', '', 'Series D1', 'In Progress', 'Seed', 'In Progress', '', '', 'Venture', 'Series A', 'M&A', 'Series D', 'pre-Series A', 'Seed', 'pre-Series B', 'Venture-Series Unknown', 'pre-Series A', 'Seed', 'pre-Seed', 'Venture-Series Unknown']\n"
     ]
    }
   ],
   "source": [
    "print(invest_type)"
   ]
  },
  {
   "cell_type": "code",
   "execution_count": 145,
   "metadata": {},
   "outputs": [],
   "source": [
    "amt = []\n",
    "for i in driver.find_elements_by_xpath(\"//td[@class='column-9']\"):\n",
    "    try:\n",
    "        amt.append(i.text)\n",
    "    except:\n",
    "        amt.append(\"--\")"
   ]
  },
  {
   "cell_type": "code",
   "execution_count": 146,
   "metadata": {},
   "outputs": [],
   "source": [
    "Amount = []\n",
    "Amount = amt[55:85]"
   ]
  },
  {
   "cell_type": "code",
   "execution_count": 147,
   "metadata": {},
   "outputs": [
    {
     "name": "stdout",
     "output_type": "stream",
     "text": [
      "['500,000,000', '3,000,000', '370,000', '15,500,000', '4,500,000', 'upto 8,900,000', '100,000,000', '5,400,000', '8,000,000', '950,000', '32,000,000', '23,000,000', '1,560,000', '30,000,000', '1,400,000', 'upto 15,000,000', '6,000,000', '10,670,000', '16,200,000', '5,000,000', '1,200,000,000', '100,000,000', '934,160', '1,700,000', '3,300,000', '400,000', '974,200', '292,800', '200,000', '500,000']\n"
     ]
    }
   ],
   "source": [
    "print(Amount)"
   ]
  },
  {
   "cell_type": "code",
   "execution_count": 148,
   "metadata": {},
   "outputs": [
    {
     "data": {
      "text/html": [
       "<div>\n",
       "<style scoped>\n",
       "    .dataframe tbody tr th:only-of-type {\n",
       "        vertical-align: middle;\n",
       "    }\n",
       "\n",
       "    .dataframe tbody tr th {\n",
       "        vertical-align: top;\n",
       "    }\n",
       "\n",
       "    .dataframe thead th {\n",
       "        text-align: right;\n",
       "    }\n",
       "</style>\n",
       "<table border=\"1\" class=\"dataframe\">\n",
       "  <thead>\n",
       "    <tr style=\"text-align: right;\">\n",
       "      <th></th>\n",
       "      <th>Start up</th>\n",
       "      <th>Industry</th>\n",
       "      <th>Sub vertical</th>\n",
       "      <th>City</th>\n",
       "      <th>Investor Names</th>\n",
       "      <th>Investment Type</th>\n",
       "      <th>Amount</th>\n",
       "    </tr>\n",
       "  </thead>\n",
       "  <tbody>\n",
       "    <tr>\n",
       "      <th>0</th>\n",
       "      <td>Byju’s</td>\n",
       "      <td>EduTech</td>\n",
       "      <td>Online Tutoring</td>\n",
       "      <td>Bangalore</td>\n",
       "      <td>Silver Lake, Tiger Global, General Atlantic an...</td>\n",
       "      <td>Private Equity</td>\n",
       "      <td>500,000,000</td>\n",
       "    </tr>\n",
       "    <tr>\n",
       "      <th>1</th>\n",
       "      <td>mCaffeine</td>\n",
       "      <td>Personal Care</td>\n",
       "      <td>Skincare &amp; Haircare</td>\n",
       "      <td>Mumbai</td>\n",
       "      <td>Amicus Capital Private Equity I LLP, Amicus Ca...</td>\n",
       "      <td>Series B</td>\n",
       "      <td>3,000,000</td>\n",
       "    </tr>\n",
       "    <tr>\n",
       "      <th>2</th>\n",
       "      <td>Qshala</td>\n",
       "      <td>EduTech</td>\n",
       "      <td>Online Curiosity Platform for Kids</td>\n",
       "      <td>Bangalore</td>\n",
       "      <td>Rainmatter Capital</td>\n",
       "      <td>Angel</td>\n",
       "      <td>370,000</td>\n",
       "    </tr>\n",
       "    <tr>\n",
       "      <th>3</th>\n",
       "      <td>Winzo</td>\n",
       "      <td>Online Gaming</td>\n",
       "      <td>Online Gaming</td>\n",
       "      <td>New Delhi</td>\n",
       "      <td>Kalaari Capital Partners, IndigoEdge Managemen...</td>\n",
       "      <td>Series B</td>\n",
       "      <td>15,500,000</td>\n",
       "    </tr>\n",
       "    <tr>\n",
       "      <th>4</th>\n",
       "      <td>Hippo Video</td>\n",
       "      <td>Video Customer Experience(CX) Platform</td>\n",
       "      <td>Video Customer Experience(CX) Platform</td>\n",
       "      <td>Newark, Delaware, United States of Amercia</td>\n",
       "      <td>Alpha Wave Incubation, Exfinity Venture Partne...</td>\n",
       "      <td>Series A</td>\n",
       "      <td>4,500,000</td>\n",
       "    </tr>\n",
       "    <tr>\n",
       "      <th>5</th>\n",
       "      <td>Melorra</td>\n",
       "      <td>E-commerce</td>\n",
       "      <td>Online Jewelry Store</td>\n",
       "      <td>Bangalore</td>\n",
       "      <td>Shadow Holdings, Lightbox.</td>\n",
       "      <td>Debt Financing</td>\n",
       "      <td>upto 8,900,000</td>\n",
       "    </tr>\n",
       "    <tr>\n",
       "      <th>6</th>\n",
       "      <td>1mg</td>\n",
       "      <td>E-commerce</td>\n",
       "      <td>Online Pharmacy</td>\n",
       "      <td>Gurgaon</td>\n",
       "      <td>Gaja Capital, Tata Capital, Partners Group</td>\n",
       "      <td>In Progress</td>\n",
       "      <td>100,000,000</td>\n",
       "    </tr>\n",
       "    <tr>\n",
       "      <th>7</th>\n",
       "      <td>mfine</td>\n",
       "      <td>HealthTech</td>\n",
       "      <td>On-Demand Healthcare Services</td>\n",
       "      <td>Bangalore</td>\n",
       "      <td>Caretech Pte Inc</td>\n",
       "      <td>Series B</td>\n",
       "      <td>5,400,000</td>\n",
       "    </tr>\n",
       "    <tr>\n",
       "      <th>8</th>\n",
       "      <td>Apna</td>\n",
       "      <td>Human Resources</td>\n",
       "      <td>Recruitment Platform</td>\n",
       "      <td>Bangalore</td>\n",
       "      <td>Lightspeed India and Sequoia Capital India</td>\n",
       "      <td>Series A</td>\n",
       "      <td>8,000,000</td>\n",
       "    </tr>\n",
       "    <tr>\n",
       "      <th>9</th>\n",
       "      <td>Railofy</td>\n",
       "      <td>Transportation</td>\n",
       "      <td>WL &amp; RAC protection platform</td>\n",
       "      <td>Mumbai</td>\n",
       "      <td>Chiratae Ventures</td>\n",
       "      <td>Seed</td>\n",
       "      <td>950,000</td>\n",
       "    </tr>\n",
       "    <tr>\n",
       "      <th>10</th>\n",
       "      <td>Practo</td>\n",
       "      <td>HealthTech</td>\n",
       "      <td>Health care and Wellness</td>\n",
       "      <td>Bangalore</td>\n",
       "      <td>A1A Company</td>\n",
       "      <td>Series F</td>\n",
       "      <td>32,000,000</td>\n",
       "    </tr>\n",
       "    <tr>\n",
       "      <th>11</th>\n",
       "      <td>Medlife</td>\n",
       "      <td>E-commerce</td>\n",
       "      <td>Online Pharmacy</td>\n",
       "      <td>Bangalore</td>\n",
       "      <td>Prasid Uno Family Trust and SC Credit Fund</td>\n",
       "      <td></td>\n",
       "      <td>23,000,000</td>\n",
       "    </tr>\n",
       "    <tr>\n",
       "      <th>12</th>\n",
       "      <td>HungerBox</td>\n",
       "      <td>FoodTech</td>\n",
       "      <td>Online Food Delivery Service</td>\n",
       "      <td>Bangalore</td>\n",
       "      <td>One97, Sabre Partners Trust, Pratithi Investme...</td>\n",
       "      <td>Series D1</td>\n",
       "      <td>1,560,000</td>\n",
       "    </tr>\n",
       "    <tr>\n",
       "      <th>13</th>\n",
       "      <td>Dunzo</td>\n",
       "      <td>Hyper-local Logistics</td>\n",
       "      <td>Online Delivery Services</td>\n",
       "      <td>Bangalore</td>\n",
       "      <td>Existing Backers</td>\n",
       "      <td>In Progress</td>\n",
       "      <td>30,000,000</td>\n",
       "    </tr>\n",
       "    <tr>\n",
       "      <th>14</th>\n",
       "      <td>Terra.do</td>\n",
       "      <td>EduTech</td>\n",
       "      <td>Online Climate School, E-learning</td>\n",
       "      <td>Stanford, California,</td>\n",
       "      <td>Stanford Angels and Entrepreneurs (India), BEE...</td>\n",
       "      <td>Seed</td>\n",
       "      <td>1,400,000</td>\n",
       "    </tr>\n",
       "    <tr>\n",
       "      <th>15</th>\n",
       "      <td>Classplus</td>\n",
       "      <td>EduTech</td>\n",
       "      <td>E-learning, Online Tutoring</td>\n",
       "      <td>Noida</td>\n",
       "      <td>Falcon Edge</td>\n",
       "      <td>In Progress</td>\n",
       "      <td>upto 15,000,000</td>\n",
       "    </tr>\n",
       "    <tr>\n",
       "      <th>16</th>\n",
       "      <td>Niyo</td>\n",
       "      <td>FinTech</td>\n",
       "      <td>Financial Services</td>\n",
       "      <td>Bangalore</td>\n",
       "      <td>Niyo Solutions Inc.</td>\n",
       "      <td></td>\n",
       "      <td>6,000,000</td>\n",
       "    </tr>\n",
       "    <tr>\n",
       "      <th>17</th>\n",
       "      <td>ZestMoney</td>\n",
       "      <td>FinTech</td>\n",
       "      <td>Financial Services</td>\n",
       "      <td>Bangalore</td>\n",
       "      <td>Primrose Hills Ventures</td>\n",
       "      <td></td>\n",
       "      <td>10,670,000</td>\n",
       "    </tr>\n",
       "    <tr>\n",
       "      <th>18</th>\n",
       "      <td>FreshToHome</td>\n",
       "      <td>E-commerce</td>\n",
       "      <td>Food Delivery</td>\n",
       "      <td>Bangalore</td>\n",
       "      <td>Ascent Capital</td>\n",
       "      <td>Venture</td>\n",
       "      <td>16,200,000</td>\n",
       "    </tr>\n",
       "    <tr>\n",
       "      <th>19</th>\n",
       "      <td>Eduvanz</td>\n",
       "      <td>FinTech</td>\n",
       "      <td>Financial Services</td>\n",
       "      <td>Mumbai</td>\n",
       "      <td>Sequoia India, Unitus</td>\n",
       "      <td>Series A</td>\n",
       "      <td>5,000,000</td>\n",
       "    </tr>\n",
       "    <tr>\n",
       "      <th>20</th>\n",
       "      <td>Flipkart</td>\n",
       "      <td>E-commerce</td>\n",
       "      <td>E-commerce</td>\n",
       "      <td>Bangalore</td>\n",
       "      <td>Walmart Inc</td>\n",
       "      <td>M&amp;A</td>\n",
       "      <td>1,200,000,000</td>\n",
       "    </tr>\n",
       "    <tr>\n",
       "      <th>21</th>\n",
       "      <td>Vedantu</td>\n",
       "      <td>EduTech</td>\n",
       "      <td>Online Tutoring</td>\n",
       "      <td>Bangalore</td>\n",
       "      <td>Coatue Management</td>\n",
       "      <td>Series D</td>\n",
       "      <td>100,000,000</td>\n",
       "    </tr>\n",
       "    <tr>\n",
       "      <th>22</th>\n",
       "      <td>Crio</td>\n",
       "      <td>EduTech</td>\n",
       "      <td>Learning Platform for Developers</td>\n",
       "      <td>Bangalore</td>\n",
       "      <td>021 Capital</td>\n",
       "      <td>pre-Series A</td>\n",
       "      <td>934,160</td>\n",
       "    </tr>\n",
       "    <tr>\n",
       "      <th>23</th>\n",
       "      <td>goDutch</td>\n",
       "      <td>FinTech</td>\n",
       "      <td>Group Payments</td>\n",
       "      <td>Mumbai</td>\n",
       "      <td>Matrix India,Y Combinator, Global Founders Cap...</td>\n",
       "      <td>Seed</td>\n",
       "      <td>1,700,000</td>\n",
       "    </tr>\n",
       "    <tr>\n",
       "      <th>24</th>\n",
       "      <td>Mystifly</td>\n",
       "      <td>Airfare Marketplace</td>\n",
       "      <td>Ticketing, Airline Retailing, and Post-Ticketi...</td>\n",
       "      <td>Singapore and Bangalore</td>\n",
       "      <td>Recruit Co. Ltd.</td>\n",
       "      <td>pre-Series B</td>\n",
       "      <td>3,300,000</td>\n",
       "    </tr>\n",
       "    <tr>\n",
       "      <th>25</th>\n",
       "      <td>JetSynthesys</td>\n",
       "      <td>Gaming and Entertainment</td>\n",
       "      <td>Gaming and Entertainment</td>\n",
       "      <td>Pune</td>\n",
       "      <td>Adar Poonawalla and Kris Gopalakrishnan.</td>\n",
       "      <td>Venture-Series Unknown</td>\n",
       "      <td>400,000</td>\n",
       "    </tr>\n",
       "    <tr>\n",
       "      <th>26</th>\n",
       "      <td>gigIndia</td>\n",
       "      <td>Marketplace</td>\n",
       "      <td>Crowd Sourcing, Freelance</td>\n",
       "      <td>Pune</td>\n",
       "      <td>Incubate Fund India and Beyond Next Ventures</td>\n",
       "      <td>pre-Series A</td>\n",
       "      <td>974,200</td>\n",
       "    </tr>\n",
       "    <tr>\n",
       "      <th>27</th>\n",
       "      <td>PumPumPum</td>\n",
       "      <td>Automotive Rental</td>\n",
       "      <td>Used Car-leasing platform</td>\n",
       "      <td>Gurgaon</td>\n",
       "      <td>Early Adapters Syndicate</td>\n",
       "      <td>Seed</td>\n",
       "      <td>292,800</td>\n",
       "    </tr>\n",
       "    <tr>\n",
       "      <th>28</th>\n",
       "      <td>FLYX</td>\n",
       "      <td>OTT Player</td>\n",
       "      <td>Streaming Social Network</td>\n",
       "      <td>New York and Delhi</td>\n",
       "      <td>Raj Mishra, founder of AIT Global Inc</td>\n",
       "      <td>pre-Seed</td>\n",
       "      <td>200,000</td>\n",
       "    </tr>\n",
       "    <tr>\n",
       "      <th>29</th>\n",
       "      <td>Open Appliances Pvt. Ltd.</td>\n",
       "      <td>Information Technology</td>\n",
       "      <td>Internet-of-Things Security Solutions</td>\n",
       "      <td>Bangalore</td>\n",
       "      <td>Unicorn India Ventures</td>\n",
       "      <td>Venture-Series Unknown</td>\n",
       "      <td>500,000</td>\n",
       "    </tr>\n",
       "  </tbody>\n",
       "</table>\n",
       "</div>"
      ],
      "text/plain": [
       "                     Start up                                Industry  \\\n",
       "0                      Byju’s                                 EduTech   \n",
       "1                   mCaffeine                           Personal Care   \n",
       "2                      Qshala                                 EduTech   \n",
       "3                       Winzo                           Online Gaming   \n",
       "4                 Hippo Video  Video Customer Experience(CX) Platform   \n",
       "5                     Melorra                              E-commerce   \n",
       "6                         1mg                              E-commerce   \n",
       "7                       mfine                              HealthTech   \n",
       "8                        Apna                         Human Resources   \n",
       "9                     Railofy                          Transportation   \n",
       "10                     Practo                              HealthTech   \n",
       "11                    Medlife                              E-commerce   \n",
       "12                  HungerBox                                FoodTech   \n",
       "13                      Dunzo                   Hyper-local Logistics   \n",
       "14                   Terra.do                                 EduTech   \n",
       "15                  Classplus                                 EduTech   \n",
       "16                       Niyo                                 FinTech   \n",
       "17                  ZestMoney                                 FinTech   \n",
       "18                FreshToHome                              E-commerce   \n",
       "19                    Eduvanz                                 FinTech   \n",
       "20                   Flipkart                              E-commerce   \n",
       "21                    Vedantu                                 EduTech   \n",
       "22                       Crio                                 EduTech   \n",
       "23                    goDutch                                 FinTech   \n",
       "24                   Mystifly                     Airfare Marketplace   \n",
       "25               JetSynthesys                Gaming and Entertainment   \n",
       "26                   gigIndia                             Marketplace   \n",
       "27                  PumPumPum                       Automotive Rental   \n",
       "28                       FLYX                              OTT Player   \n",
       "29  Open Appliances Pvt. Ltd.                  Information Technology   \n",
       "\n",
       "                                         Sub vertical  \\\n",
       "0                                     Online Tutoring   \n",
       "1                                 Skincare & Haircare   \n",
       "2                  Online Curiosity Platform for Kids   \n",
       "3                                       Online Gaming   \n",
       "4              Video Customer Experience(CX) Platform   \n",
       "5                                Online Jewelry Store   \n",
       "6                                     Online Pharmacy   \n",
       "7                       On-Demand Healthcare Services   \n",
       "8                                Recruitment Platform   \n",
       "9                        WL & RAC protection platform   \n",
       "10                           Health care and Wellness   \n",
       "11                                    Online Pharmacy   \n",
       "12                       Online Food Delivery Service   \n",
       "13                           Online Delivery Services   \n",
       "14                  Online Climate School, E-learning   \n",
       "15                        E-learning, Online Tutoring   \n",
       "16                                 Financial Services   \n",
       "17                                 Financial Services   \n",
       "18                                      Food Delivery   \n",
       "19                                 Financial Services   \n",
       "20                                         E-commerce   \n",
       "21                                    Online Tutoring   \n",
       "22                   Learning Platform for Developers   \n",
       "23                                     Group Payments   \n",
       "24  Ticketing, Airline Retailing, and Post-Ticketi...   \n",
       "25                           Gaming and Entertainment   \n",
       "26                          Crowd Sourcing, Freelance   \n",
       "27                          Used Car-leasing platform   \n",
       "28                           Streaming Social Network   \n",
       "29              Internet-of-Things Security Solutions   \n",
       "\n",
       "                                          City  \\\n",
       "0                                    Bangalore   \n",
       "1                                       Mumbai   \n",
       "2                                    Bangalore   \n",
       "3                                    New Delhi   \n",
       "4   Newark, Delaware, United States of Amercia   \n",
       "5                                    Bangalore   \n",
       "6                                      Gurgaon   \n",
       "7                                    Bangalore   \n",
       "8                                    Bangalore   \n",
       "9                                       Mumbai   \n",
       "10                                   Bangalore   \n",
       "11                                   Bangalore   \n",
       "12                                   Bangalore   \n",
       "13                                   Bangalore   \n",
       "14                       Stanford, California,   \n",
       "15                                       Noida   \n",
       "16                                   Bangalore   \n",
       "17                                   Bangalore   \n",
       "18                                   Bangalore   \n",
       "19                                      Mumbai   \n",
       "20                                   Bangalore   \n",
       "21                                   Bangalore   \n",
       "22                                   Bangalore   \n",
       "23                                      Mumbai   \n",
       "24                     Singapore and Bangalore   \n",
       "25                                        Pune   \n",
       "26                                        Pune   \n",
       "27                                     Gurgaon   \n",
       "28                          New York and Delhi   \n",
       "29                                   Bangalore   \n",
       "\n",
       "                                       Investor Names         Investment Type  \\\n",
       "0   Silver Lake, Tiger Global, General Atlantic an...          Private Equity   \n",
       "1   Amicus Capital Private Equity I LLP, Amicus Ca...                Series B   \n",
       "2                                  Rainmatter Capital                   Angel   \n",
       "3   Kalaari Capital Partners, IndigoEdge Managemen...                Series B   \n",
       "4   Alpha Wave Incubation, Exfinity Venture Partne...                Series A   \n",
       "5                          Shadow Holdings, Lightbox.          Debt Financing   \n",
       "6          Gaja Capital, Tata Capital, Partners Group             In Progress   \n",
       "7                                    Caretech Pte Inc                Series B   \n",
       "8          Lightspeed India and Sequoia Capital India                Series A   \n",
       "9                                   Chiratae Ventures                    Seed   \n",
       "10                                        A1A Company                Series F   \n",
       "11         Prasid Uno Family Trust and SC Credit Fund                           \n",
       "12  One97, Sabre Partners Trust, Pratithi Investme...               Series D1   \n",
       "13                                   Existing Backers             In Progress   \n",
       "14  Stanford Angels and Entrepreneurs (India), BEE...                    Seed   \n",
       "15                                        Falcon Edge             In Progress   \n",
       "16                                Niyo Solutions Inc.                           \n",
       "17                            Primrose Hills Ventures                           \n",
       "18                                     Ascent Capital                 Venture   \n",
       "19                              Sequoia India, Unitus                Series A   \n",
       "20                                        Walmart Inc                     M&A   \n",
       "21                                  Coatue Management                Series D   \n",
       "22                                        021 Capital            pre-Series A   \n",
       "23  Matrix India,Y Combinator, Global Founders Cap...                    Seed   \n",
       "24                                   Recruit Co. Ltd.            pre-Series B   \n",
       "25           Adar Poonawalla and Kris Gopalakrishnan.  Venture-Series Unknown   \n",
       "26       Incubate Fund India and Beyond Next Ventures            pre-Series A   \n",
       "27                           Early Adapters Syndicate                    Seed   \n",
       "28              Raj Mishra, founder of AIT Global Inc                pre-Seed   \n",
       "29                             Unicorn India Ventures  Venture-Series Unknown   \n",
       "\n",
       "             Amount  \n",
       "0       500,000,000  \n",
       "1         3,000,000  \n",
       "2           370,000  \n",
       "3        15,500,000  \n",
       "4         4,500,000  \n",
       "5    upto 8,900,000  \n",
       "6       100,000,000  \n",
       "7         5,400,000  \n",
       "8         8,000,000  \n",
       "9           950,000  \n",
       "10       32,000,000  \n",
       "11       23,000,000  \n",
       "12        1,560,000  \n",
       "13       30,000,000  \n",
       "14        1,400,000  \n",
       "15  upto 15,000,000  \n",
       "16        6,000,000  \n",
       "17       10,670,000  \n",
       "18       16,200,000  \n",
       "19        5,000,000  \n",
       "20    1,200,000,000  \n",
       "21      100,000,000  \n",
       "22          934,160  \n",
       "23        1,700,000  \n",
       "24        3,300,000  \n",
       "25          400,000  \n",
       "26          974,200  \n",
       "27          292,800  \n",
       "28          200,000  \n",
       "29          500,000  "
      ]
     },
     "execution_count": 148,
     "metadata": {},
     "output_type": "execute_result"
    }
   ],
   "source": [
    "df_Funds = pd.DataFrame({})\n",
    "df_Funds[\"Start up\"] = startup\n",
    "df_Funds[\"Industry\"] = industry6\n",
    "df_Funds[\"Sub vertical\"] = subvertical\n",
    "df_Funds[\"City\"] = city\n",
    "df_Funds[\"Investor Names\"] = invest\n",
    "df_Funds[\"Investment Type\"] = invest_type\n",
    "df_Funds[\"Amount\"] = Amount\n",
    "df_Funds"
   ]
  },
  {
   "cell_type": "code",
   "execution_count": 149,
   "metadata": {},
   "outputs": [],
   "source": [
    "driver.close()"
   ]
  },
  {
   "cell_type": "markdown",
   "metadata": {},
   "source": [
    "### Q.7)Write a program to scrap all the available details of best gaming laptops from digit.in."
   ]
  },
  {
   "cell_type": "code",
   "execution_count": 1,
   "metadata": {},
   "outputs": [],
   "source": [
    "import selenium\n",
    "import pandas as pd \n",
    "from selenium import webdriver\n",
    "import time \n",
    "from selenium.common.exceptions import NoSuchElementException"
   ]
  },
  {
   "cell_type": "code",
   "execution_count": 2,
   "metadata": {},
   "outputs": [],
   "source": [
    "driver = webdriver.Chrome(\"chromedriver.exe\")\n",
    "url = \"https://www.digit.in/\"\n",
    "driver.get(url)"
   ]
  },
  {
   "cell_type": "code",
   "execution_count": 3,
   "metadata": {},
   "outputs": [
    {
     "data": {
      "text/plain": [
       "<selenium.webdriver.remote.webelement.WebElement (session=\"7ca43a57a2d1afaf5287924c49c0c6a2\", element=\"7487cb32-7024-4e6f-85d4-26f601ae0ee3\")>"
      ]
     },
     "execution_count": 3,
     "metadata": {},
     "output_type": "execute_result"
    }
   ],
   "source": [
    "button7 = driver.find_element_by_xpath(\"(//div[@class='menu']//li)[3]\")\n",
    "button7"
   ]
  },
  {
   "cell_type": "code",
   "execution_count": 4,
   "metadata": {},
   "outputs": [],
   "source": [
    "button7.click()"
   ]
  },
  {
   "cell_type": "code",
   "execution_count": 5,
   "metadata": {},
   "outputs": [
    {
     "data": {
      "text/plain": [
       "<selenium.webdriver.remote.webelement.WebElement (session=\"7ca43a57a2d1afaf5287924c49c0c6a2\", element=\"79dad530-2a46-4804-a09b-05e186102d36\")>"
      ]
     },
     "execution_count": 5,
     "metadata": {},
     "output_type": "execute_result"
    }
   ],
   "source": [
    "best = driver.find_element_by_xpath(\"(//div[@class='Listbrand']//li)[10]\")\n",
    "best"
   ]
  },
  {
   "cell_type": "code",
   "execution_count": 6,
   "metadata": {},
   "outputs": [],
   "source": [
    "best.click()"
   ]
  },
  {
   "cell_type": "code",
   "execution_count": 7,
   "metadata": {},
   "outputs": [],
   "source": [
    "url7 = []\n",
    "for a in driver.find_elements_by_xpath(\"//span[@class='datahreflink spec']\"):\n",
    "    url7.append(a.get_attribute(\"data-href\"))"
   ]
  },
  {
   "cell_type": "code",
   "execution_count": 8,
   "metadata": {},
   "outputs": [
    {
     "data": {
      "text/plain": [
       "7"
      ]
     },
     "execution_count": 8,
     "metadata": {},
     "output_type": "execute_result"
    }
   ],
   "source": [
    "len(url7)"
   ]
  },
  {
   "cell_type": "code",
   "execution_count": 9,
   "metadata": {},
   "outputs": [],
   "source": [
    "Brand7=[]\n",
    "Model_Name= []\n",
    "RAM7 = []\n",
    "ROM7 = []\n",
    "Processor7 = []"
   ]
  },
  {
   "cell_type": "code",
   "execution_count": 10,
   "metadata": {},
   "outputs": [],
   "source": [
    "specs1 = driver.find_element_by_xpath(\"(//span[@class='datahreflink spec'])[1]\")"
   ]
  },
  {
   "cell_type": "code",
   "execution_count": 11,
   "metadata": {},
   "outputs": [
    {
     "data": {
      "text/plain": [
       "<selenium.webdriver.remote.webelement.WebElement (session=\"7ca43a57a2d1afaf5287924c49c0c6a2\", element=\"6c0d2a11-fc79-45ac-bdfc-256bc7b2e937\")>"
      ]
     },
     "execution_count": 11,
     "metadata": {},
     "output_type": "execute_result"
    }
   ],
   "source": [
    "specs1"
   ]
  },
  {
   "cell_type": "code",
   "execution_count": 12,
   "metadata": {},
   "outputs": [],
   "source": [
    "for i in url7:\n",
    "    driver.get(i)\n",
    "    time.sleep(3)\n",
    "    \n",
    "    if specs1 == \"(//span[@class='datahreflink spec'])[1]\":\n",
    "        specs\n",
    "    \n",
    "    try:\n",
    "        brand7 = driver.find_element_by_xpath(\"(//div[@class='heading-wraper'])//h1\")\n",
    "        Brand7.append(brand7.text)\n",
    "    except:\n",
    "        Brand7.append(\"--\")\n",
    "    try:\n",
    "        model = driver.find_element_by_xpath(\"(//div[@class='tabcontent']//td)[3]\")\n",
    "        Model_Name.append(model.text)\n",
    "    except:\n",
    "        Model_Name.append(\"--\")\n",
    "    try:\n",
    "        ram = driver.find_element_by_xpath(\"(//div[@class='tabcontent']//td)[18]\")\n",
    "        RAM7.append(ram.text)\n",
    "    except:\n",
    "        RAM7.append(\"--\")\n",
    "    try:\n",
    "        rom = driver.find_element_by_xpath(\"(//div[@class='tabcontent']//td)[51]\")\n",
    "        ROM7.append(rom.text)\n",
    "    except:\n",
    "        ROM7.append(\"--\")\n",
    "    try:\n",
    "        processor = driver.find_element_by_xpath(\"(//div[@class='tabcontent']//td)[30]\")\n",
    "        Processor7.append(processor.text)\n",
    "    except:\n",
    "        Processor7.append(\"--\")\n",
    "    \n",
    "    "
   ]
  },
  {
   "cell_type": "code",
   "execution_count": 19,
   "metadata": {},
   "outputs": [],
   "source": [
    "Price = []\n",
    "for i in url7:\n",
    "    driver.get(i)\n",
    "    time.sleep(3)\n",
    "    try:\n",
    "        price7 = driver.find_element_by_xpath(\"(//div[@class='price'])[1]//strong\")\n",
    "        Price.append(price7.text)\n",
    "    except:\n",
    "        Price.append(\"--\")"
   ]
  },
  {
   "cell_type": "code",
   "execution_count": 20,
   "metadata": {},
   "outputs": [
    {
     "name": "stdout",
     "output_type": "stream",
     "text": [
      "['--', '₹ 341,990', '--', '₹ 164,990', '₹ 76,988', '₹ 185,000', '₹ 64,370']\n"
     ]
    }
   ],
   "source": [
    "print(Price)"
   ]
  },
  {
   "cell_type": "code",
   "execution_count": 13,
   "metadata": {},
   "outputs": [
    {
     "name": "stdout",
     "output_type": "stream",
     "text": [
      "['10th Generation Intel® Core™ i7-10700', '5.3GHz', 'AMD Ryzen™ 9 5900HX', '1.65', '2.50 GHz', 'Intel Core i7 10th Gen 10875H', '2.29 x 36.3 x 25.4']\n"
     ]
    }
   ],
   "source": [
    "print(Processor7)"
   ]
  },
  {
   "cell_type": "code",
   "execution_count": 14,
   "metadata": {},
   "outputs": [
    {
     "name": "stdout",
     "output_type": "stream",
     "text": [
      "['1 TB', '--', 'Li-ion', 'SSD', '7.7 hours', '--', '135 W']\n"
     ]
    }
   ],
   "source": [
    "print(ROM7)"
   ]
  },
  {
   "cell_type": "code",
   "execution_count": 15,
   "metadata": {},
   "outputs": [
    {
     "name": "stdout",
     "output_type": "stream",
     "text": [
      "['16 GB', 'DDR4', '16 GB', '14', 'DDR4', '4 GB', 'Yes']\n"
     ]
    }
   ],
   "source": [
    "print(RAM7)"
   ]
  },
  {
   "cell_type": "code",
   "execution_count": 16,
   "metadata": {},
   "outputs": [
    {
     "name": "stdout",
     "output_type": "stream",
     "text": [
      "['Area 51M R2', 'm15 R3', 'ASUS', 'ROG Zephyrus G14', 'Legion 5i', 'ROG Zephyrus Duo 15', 'Aspire 7 Gaming']\n"
     ]
    }
   ],
   "source": [
    "print(Model_Name)"
   ]
  },
  {
   "cell_type": "code",
   "execution_count": 17,
   "metadata": {},
   "outputs": [
    {
     "name": "stdout",
     "output_type": "stream",
     "text": [
      "['Alienware Area 51M R2', 'Alienware m15 R3', 'ASUS ROG Strix Scar 15', 'Asus ROG Zephyrus G14', 'Lenovo Legion 5i', 'Asus ROG Zephyrus Duo 15', 'Acer Aspire 7 Gaming']\n"
     ]
    }
   ],
   "source": [
    "print(Brand7)"
   ]
  },
  {
   "cell_type": "code",
   "execution_count": 21,
   "metadata": {},
   "outputs": [],
   "source": [
    "df_digit = pd.DataFrame({})\n",
    "df_digit[\"Brand\"] = Brand7\n",
    "df_digit[\"Model Name\"] = Model_Name\n",
    "df_digit[\"ROM\"] = ROM7\n",
    "df_digit[\"RAM\"] = RAM7\n",
    "df_digit[\"Processor\"] = Processor7\n",
    "df_digit[\"Price\"] = Price\n",
    "df_digit[\"url\"] = url7"
   ]
  },
  {
   "cell_type": "code",
   "execution_count": 22,
   "metadata": {},
   "outputs": [
    {
     "data": {
      "text/html": [
       "<div>\n",
       "<style scoped>\n",
       "    .dataframe tbody tr th:only-of-type {\n",
       "        vertical-align: middle;\n",
       "    }\n",
       "\n",
       "    .dataframe tbody tr th {\n",
       "        vertical-align: top;\n",
       "    }\n",
       "\n",
       "    .dataframe thead th {\n",
       "        text-align: right;\n",
       "    }\n",
       "</style>\n",
       "<table border=\"1\" class=\"dataframe\">\n",
       "  <thead>\n",
       "    <tr style=\"text-align: right;\">\n",
       "      <th></th>\n",
       "      <th>Brand</th>\n",
       "      <th>Model Name</th>\n",
       "      <th>ROM</th>\n",
       "      <th>RAM</th>\n",
       "      <th>Processor</th>\n",
       "      <th>Price</th>\n",
       "      <th>url</th>\n",
       "    </tr>\n",
       "  </thead>\n",
       "  <tbody>\n",
       "    <tr>\n",
       "      <th>0</th>\n",
       "      <td>Alienware Area 51M R2</td>\n",
       "      <td>Area 51M R2</td>\n",
       "      <td>1 TB</td>\n",
       "      <td>16 GB</td>\n",
       "      <td>10th Generation Intel® Core™ i7-10700</td>\n",
       "      <td>--</td>\n",
       "      <td>https://www.digit.in/laptops/alienware-area-51...</td>\n",
       "    </tr>\n",
       "    <tr>\n",
       "      <th>1</th>\n",
       "      <td>Alienware m15 R3</td>\n",
       "      <td>m15 R3</td>\n",
       "      <td>--</td>\n",
       "      <td>DDR4</td>\n",
       "      <td>5.3GHz</td>\n",
       "      <td>₹ 341,990</td>\n",
       "      <td>https://www.digit.in/laptops/alienware-m15-r3-...</td>\n",
       "    </tr>\n",
       "    <tr>\n",
       "      <th>2</th>\n",
       "      <td>ASUS ROG Strix Scar 15</td>\n",
       "      <td>ASUS</td>\n",
       "      <td>Li-ion</td>\n",
       "      <td>16 GB</td>\n",
       "      <td>AMD Ryzen™ 9 5900HX</td>\n",
       "      <td>--</td>\n",
       "      <td>https://www.digit.in/laptops/asus-rog-strix-sc...</td>\n",
       "    </tr>\n",
       "    <tr>\n",
       "      <th>3</th>\n",
       "      <td>Asus ROG Zephyrus G14</td>\n",
       "      <td>ROG Zephyrus G14</td>\n",
       "      <td>SSD</td>\n",
       "      <td>14</td>\n",
       "      <td>1.65</td>\n",
       "      <td>₹ 164,990</td>\n",
       "      <td>https://www.digit.in/laptops/asus-rog-zephyrus...</td>\n",
       "    </tr>\n",
       "    <tr>\n",
       "      <th>4</th>\n",
       "      <td>Lenovo Legion 5i</td>\n",
       "      <td>Legion 5i</td>\n",
       "      <td>7.7 hours</td>\n",
       "      <td>DDR4</td>\n",
       "      <td>2.50 GHz</td>\n",
       "      <td>₹ 76,988</td>\n",
       "      <td>https://www.digit.in/laptops/lenovo-legion-5i-...</td>\n",
       "    </tr>\n",
       "    <tr>\n",
       "      <th>5</th>\n",
       "      <td>Asus ROG Zephyrus Duo 15</td>\n",
       "      <td>ROG Zephyrus Duo 15</td>\n",
       "      <td>--</td>\n",
       "      <td>4 GB</td>\n",
       "      <td>Intel Core i7 10th Gen 10875H</td>\n",
       "      <td>₹ 185,000</td>\n",
       "      <td>https://www.digit.in/laptops/asus-rog-zephyrus...</td>\n",
       "    </tr>\n",
       "    <tr>\n",
       "      <th>6</th>\n",
       "      <td>Acer Aspire 7 Gaming</td>\n",
       "      <td>Aspire 7 Gaming</td>\n",
       "      <td>135 W</td>\n",
       "      <td>Yes</td>\n",
       "      <td>2.29 x 36.3 x 25.4</td>\n",
       "      <td>₹ 64,370</td>\n",
       "      <td>https://www.digit.in/laptops/acer-aspire-7-gam...</td>\n",
       "    </tr>\n",
       "  </tbody>\n",
       "</table>\n",
       "</div>"
      ],
      "text/plain": [
       "                      Brand           Model Name        ROM    RAM  \\\n",
       "0     Alienware Area 51M R2          Area 51M R2       1 TB  16 GB   \n",
       "1          Alienware m15 R3               m15 R3         --   DDR4   \n",
       "2    ASUS ROG Strix Scar 15                 ASUS     Li-ion  16 GB   \n",
       "3     Asus ROG Zephyrus G14     ROG Zephyrus G14        SSD     14   \n",
       "4          Lenovo Legion 5i            Legion 5i  7.7 hours   DDR4   \n",
       "5  Asus ROG Zephyrus Duo 15  ROG Zephyrus Duo 15         --   4 GB   \n",
       "6      Acer Aspire 7 Gaming      Aspire 7 Gaming      135 W    Yes   \n",
       "\n",
       "                               Processor      Price  \\\n",
       "0  10th Generation Intel® Core™ i7-10700         --   \n",
       "1                                 5.3GHz  ₹ 341,990   \n",
       "2                    AMD Ryzen™ 9 5900HX         --   \n",
       "3                                   1.65  ₹ 164,990   \n",
       "4                               2.50 GHz   ₹ 76,988   \n",
       "5          Intel Core i7 10th Gen 10875H  ₹ 185,000   \n",
       "6                     2.29 x 36.3 x 25.4   ₹ 64,370   \n",
       "\n",
       "                                                 url  \n",
       "0  https://www.digit.in/laptops/alienware-area-51...  \n",
       "1  https://www.digit.in/laptops/alienware-m15-r3-...  \n",
       "2  https://www.digit.in/laptops/asus-rog-strix-sc...  \n",
       "3  https://www.digit.in/laptops/asus-rog-zephyrus...  \n",
       "4  https://www.digit.in/laptops/lenovo-legion-5i-...  \n",
       "5  https://www.digit.in/laptops/asus-rog-zephyrus...  \n",
       "6  https://www.digit.in/laptops/acer-aspire-7-gam...  "
      ]
     },
     "execution_count": 22,
     "metadata": {},
     "output_type": "execute_result"
    }
   ],
   "source": [
    "df_digit"
   ]
  },
  {
   "cell_type": "code",
   "execution_count": 23,
   "metadata": {},
   "outputs": [],
   "source": [
    "driver.close()"
   ]
  },
  {
   "cell_type": "markdown",
   "metadata": {},
   "source": [
    "### Q.8)Write a python program to scrape the details for all billionaires from www.forbes.com. Details to be scrapped: “Rank”, “Name”, “Net worth”, “Age”, “Citizenship”, “Source”, “Industry”"
   ]
  },
  {
   "cell_type": "code",
   "execution_count": 2,
   "metadata": {},
   "outputs": [],
   "source": [
    "import selenium\n",
    "import pandas as pd \n",
    "from selenium import webdriver\n",
    "import time \n",
    "from selenium.common.exceptions import NoSuchElementException"
   ]
  },
  {
   "cell_type": "code",
   "execution_count": 3,
   "metadata": {},
   "outputs": [],
   "source": [
    "driver = webdriver.Chrome(\"chromedriver.exe\")\n",
    "url = (\"https://www.forbes.com/?sh=4d93082d2254\")\n",
    "driver.get(url)"
   ]
  },
  {
   "cell_type": "code",
   "execution_count": 4,
   "metadata": {},
   "outputs": [],
   "source": [
    "button8 = driver.find_element_by_xpath(\"//button[@class='icon--hamburger']\")\n",
    "button8.click()"
   ]
  },
  {
   "cell_type": "code",
   "execution_count": 5,
   "metadata": {},
   "outputs": [],
   "source": [
    "bill = driver.find_element_by_xpath(\"//li[@class='header__channel header__color--centennial-silver header__hoverable']\")\n",
    "bill.click()"
   ]
  },
  {
   "cell_type": "code",
   "execution_count": 6,
   "metadata": {},
   "outputs": [],
   "source": [
    "varlist = driver.find_element_by_xpath(\"(//li[@class='header__section']//a)[1]\")\n",
    "varlist.click()"
   ]
  },
  {
   "cell_type": "code",
   "execution_count": 7,
   "metadata": {},
   "outputs": [],
   "source": [
    "Ranks = []\n",
    "for i in driver.find_elements_by_xpath(\"//div[@class='rank']\"):\n",
    "    \n",
    "    try:\n",
    "        Ranks.append(i.text)\n",
    "    except:\n",
    "        Ranks.append(\"--\")\n",
    "\n",
    "nxt_8 = driver.find_element_by_xpath(\"//div[@class='next-page']\")\n",
    "nxt_8.click()\n"
   ]
  },
  {
   "cell_type": "code",
   "execution_count": 8,
   "metadata": {},
   "outputs": [],
   "source": [
    "for i in driver.find_elements_by_xpath(\"//div[@class='rank']\"):\n",
    "    \n",
    "    try:\n",
    "        Ranks.append(i.text)\n",
    "    except:\n",
    "        Ranks.append(\"--\")\n",
    "\n",
    "nxt_8 = driver.find_element_by_xpath(\"//div[@class='next-page']\")\n",
    "nxt_8.click()"
   ]
  },
  {
   "cell_type": "code",
   "execution_count": 9,
   "metadata": {},
   "outputs": [],
   "source": [
    "for i in driver.find_elements_by_xpath(\"//div[@class='rank']\"):\n",
    "    \n",
    "    try:\n",
    "        Ranks.append(i.text)\n",
    "    except:\n",
    "        Ranks.append(\"--\")\n",
    "\n",
    "nxt_8 = driver.find_element_by_xpath(\"//div[@class='next-page']\")\n",
    "nxt_8.click()"
   ]
  },
  {
   "cell_type": "code",
   "execution_count": 10,
   "metadata": {},
   "outputs": [],
   "source": [
    "for i in driver.find_elements_by_xpath(\"//div[@class='rank']\"):\n",
    "    \n",
    "    try:\n",
    "        Ranks.append(i.text)\n",
    "    except:\n",
    "        Ranks.append(\"--\")\n",
    "\n",
    "nxt_8 = driver.find_element_by_xpath(\"//div[@class='next-page']\")\n",
    "nxt_8.click()"
   ]
  },
  {
   "cell_type": "code",
   "execution_count": 11,
   "metadata": {},
   "outputs": [],
   "source": [
    "for i in driver.find_elements_by_xpath(\"//div[@class='rank']\"):\n",
    "    \n",
    "    try:\n",
    "        Ranks.append(i.text)\n",
    "    except:\n",
    "        Ranks.append(\"--\")\n",
    "\n",
    "nxt_8 = driver.find_element_by_xpath(\"//div[@class='next-page']\")\n",
    "nxt_8.click()"
   ]
  },
  {
   "cell_type": "code",
   "execution_count": 12,
   "metadata": {},
   "outputs": [
    {
     "data": {
      "text/plain": [
       "1000"
      ]
     },
     "execution_count": 12,
     "metadata": {},
     "output_type": "execute_result"
    }
   ],
   "source": [
    "len(Ranks)"
   ]
  },
  {
   "cell_type": "code",
   "execution_count": 19,
   "metadata": {
    "scrolled": true
   },
   "outputs": [
    {
     "name": "stdout",
     "output_type": "stream",
     "text": [
      "['1.', '2.', '3.', '4.', '5.', '6.', '7.', '8.', '9.', '10.', '11.', '12.', '13.', '14.', '15.', '16.', '17.', '18.', '19.', '20.', '21.', '22.', '23.', '24.', '25.', '26.', '27.', '27.', '29.', '30.', '31.', '32.', '33.', '34.', '35.', '36.', '37.', '38.', '39.', '40.', '41.', '41.', '43.', '44.', '45.', '46.', '47.', '48.', '48.', '50.', '51.', '52.', '53.', '53.', '55.', '56.', '57.', '58.', '59.', '60.', '61.', '62.', '62.', '64.', '65.', '66.', '66.', '68.', '69.', '70.', '71.', '71.', '73.', '74.', '75.', '75.', '77.', '78.', '79.', '80.', '81.', '82.', '83.', '84.', '85.', '86.', '87.', '88.', '89.', '89.', '89.', '92.', '93.', '94.', '95.', '96.', '96.', '98.', '99.', '100.', '100.', '102.', '103.', '104.', '105.', '105.', '107.', '107.', '109.', '110.', '111.', '112.', '113.', '114.', '115.', '116.', '117.', '118.', '119.', '119.', '121.', '121.', '121.', '124.', '124.', '126.', '127.', '128.', '128.', '128.', '131.', '132.', '133.', '133.', '133.', '133.', '137.', '138.', '138.', '140.', '140.', '142.', '142.', '144.', '145.', '145.', '145.', '148.', '148.', '150.', '151.', '151.', '151.', '154.', '155.', '156.', '156.', '158.', '158.', '158.', '161.', '161.', '163.', '164.', '164.', '166.', '166.', '168.', '169.', '169.', '171.', '171.', '173.', '173.', '173.', '173.', '177.', '177.', '177.', '177.', '181.', '182.', '182.', '184.', '185.', '186.', '186.', '186.', '189.', '189.', '191.', '191.', '193.', '194.', '195.', '195.', '197.', '197.', '197.', '200.', '200.', '200.', '203.', '203.', '205.', '205.', '205.', '208.', '208.', '210.', '210.', '210.', '213.', '213.', '213.', '216.', '216.', '216.', '219.', '219.', '219.', '219.', '223.', '224.', '224.', '224.', '224.', '228.', '228.', '230.', '230.', '232.', '232.', '234.', '234.', '234.', '234.', '234.', '234.', '234.', '241.', '241.', '241.', '241.', '245.', '245.', '247.', '247.', '247.', '247.', '251.', '251.', '251.', '251.', '255.', '256.', '256.', '256.', '256.', '256.', '256.', '262.', '262.', '264.', '264.', '264.', '264.', '264.', '269.', '269.', '269.', '269.', '269.', '274.', '274.', '274.', '274.', '274.', '274.', '274.', '274.', '274.', '274.', '274.', '274.', '274.', '274.', '288.', '288.', '288.', '288.', '288.', '288.', '294.', '294.', '294.', '297.', '297.', '297.', '297.', '297.', '297.', '297.', '304.', '304.', '304.', '304.', '308.', '308.', '308.', '311.', '311.', '311.', '311.', '311.', '316.', '316.', '316.', '316.', '316.', '316.', '316.', '323.', '323.', '323.', '323.', '327.', '327.', '327.', '327.', '327.', '327.', '327.', '334.', '334.', '334.', '334.', '334.', '339.', '339.', '339.', '339.', '339.', '344.', '344.', '344.', '344.', '344.', '344.', '344.', '344.', '352.', '352.', '352.', '352.', '352.', '352.', '358.', '358.', '358.', '358.', '358.', '358.', '358.', '358.', '358.', '358.', '358.', '369.', '369.', '369.', '369.', '369.', '369.', '369.', '369.', '369.', '369.', '369.', '380.', '380.', '380.', '380.', '384.', '384.', '384.', '384.', '384.', '384.', '384.', '391.', '391.', '391.', '391.', '391.', '391.', '391.', '391.', '391.', '400.', '400.', '400.', '400.', '404.', '404.', '404.', '404.', '404.', '404.', '404.', '404.', '404.', '404.', '404.', '404.', '404.', '404.', '418.', '418.', '418.', '421.', '421.', '421.', '421.', '421.', '421.', '421.', '421.', '421.', '421.', '421.', '432.', '432.', '432.', '432.', '432.', '432.', '432.', '432.', '440.', '440.', '440.', '440.', '440.', '440.', '440.', '440.', '440.', '440.', '440.', '451.', '451.', '451.', '451.', '451.', '451.', '451.', '451.', '451.', '451.', '451.', '451.', '451.', '451.', '451.', '451.', '451.', '451.', '451.', '451.', '451.', '472.', '472.', '472.', '472.', '476.', '476.', '476.', '476.', '476.', '476.', '476.', '476.', '476.', '476.', '486.', '486.', '486.', '486.', '486.', '486.', '486.', '486.', '486.', '486.', '496.', '496.', '496.', '496.', '496.', '496.', '502.', '502.', '502.', '502.', '502.', '502.', '502.', '502.', '502.', '502.', '502.', '502.', '502.', '502.', '502.', '502.', '502.', '502.', '520.', '520.', '520.', '520.', '520.', '520.', '520.', '520.', '520.', '529.', '529.', '529.', '529.', '529.', '529.', '529.', '529.', '529.', '529.', '539.', '539.', '539.', '539.', '539.', '539.', '539.', '539.', '539.', '539.', '539.', '550.', '550.', '550.', '550.', '550.', '550.', '550.', '550.', '550.', '550.', '550.', '561.', '561.', '561.', '561.', '561.', '561.', '561.', '561.', '561.', '561.', '561.', '561.', '561.', '574.', '574.', '574.', '574.', '574.', '574.', '574.', '574.', '574.', '574.', '574.', '574.', '574.', '574.', '574.', '589.', '589.', '589.', '589.', '589.', '589.', '589.', '589.', '589.', '589.', '589.', '589.', '589.', '589.', '589.', '589.', '589.', '589.', '589.', '608.', '608.', '608.', '608.', '608.', '608.', '608.', '608.', '608.', '608.', '608.', '608.', '608.', '608.', '622.', '622.', '622.', '622.', '622.', '622.', '622.', '622.', '622.', '622.', '622.', '622.', '622.', '622.', '622.', '622.', '638.', '638.', '638.', '638.', '638.', '638.', '638.', '638.', '638.', '638.', '638.', '638.', '638.', '638.', '638.', '638.', '638.', '655.', '655.', '655.', '655.', '655.', '655.', '655.', '655.', '655.', '655.', '665.', '665.', '665.', '665.', '665.', '665.', '665.', '665.', '665.', '665.', '665.', '665.', '665.', '665.', '665.', '680.', '680.', '680.', '680.', '680.', '680.', '680.', '680.', '680.', '680.', '680.', '680.', '680.', '680.', '680.', '680.', '680.', '680.', '680.', '680.', '680.', '680.', '680.', '680.', '680.', '705.', '705.', '705.', '705.', '705.', '705.', '705.', '705.', '705.', '705.', '705.', '705.', '705.', '705.', '705.', '705.', '705.', '705.', '705.', '705.', '705.', '705.', '727.', '727.', '727.', '727.', '727.', '727.', '727.', '727.', '727.', '727.', '727.', '727.', '727.', '727.', '727.', '727.', '727.', '727.', '727.', '727.', '727.', '727.', '727.', '727.', '727.', '752.', '752.', '752.', '752.', '752.', '752.', '752.', '752.', '752.', '752.', '752.', '752.', '752.', '752.', '752.', '752.', '752.', '752.', '752.', '752.', '752.', '752.', '752.', '775.', '775.', '775.', '775.', '775.', '775.', '775.', '775.', '775.', '775.', '775.', '775.', '775.', '775.', '775.', '775.', '775.', '775.', '775.', '775.', '775.', '775.', '775.', '775.', '775.', '775.', '775.', '775.', '775.', '775.', '775.', '775.', '807.', '807.', '807.', '807.', '807.', '807.', '807.', '807.', '807.', '807.', '807.', '807.', '807.', '807.', '807.', '807.', '807.', '807.', '807.', '807.', '807.', '807.', '807.', '807.', '831.', '831.', '831.', '831.', '831.', '831.', '831.', '831.', '831.', '831.', '831.', '831.', '831.', '831.', '831.', '831.', '831.', '831.', '831.', '831.', '831.', '831.', '831.', '831.', '831.', '831.', '831.', '831.', '859.', '859.', '859.', '859.', '859.', '859.', '859.', '859.', '859.', '859.', '859.', '859.', '859.', '859.', '859.', '859.', '859.', '859.', '859.', '859.', '859.', '859.', '859.', '859.', '859.', '859.', '859.', '859.', '859.', '859.', '859.', '859.', '891.', '891.', '891.', '891.', '891.', '891.', '891.', '891.', '891.', '891.', '891.', '891.', '891.', '891.', '891.', '891.', '891.', '891.', '891.', '891.', '891.', '891.', '891.', '891.', '891.', '891.', '891.', '891.', '891.', '891.', '891.', '891.', '891.', '891.', '925.', '925.', '925.', '925.', '925.', '925.', '925.', '925.', '925.', '925.', '925.', '925.', '925.', '925.', '925.', '925.', '925.', '925.', '925.', '925.', '925.', '925.', '925.', '925.', '925.', '925.', '925.', '925.', '925.', '925.', '925.', '956.', '956.', '956.', '956.', '956.', '956.', '956.', '956.', '956.', '956.', '956.', '956.', '956.', '956.', '956.', '956.', '956.', '956.', '956.', '956.', '956.', '956.', '956.', '956.', '956.', '956.', '956.', '956.', '956.', '956.', '986.', '986.', '986.', '986.', '986.', '986.', '986.', '986.', '986.', '986.', '986.', '986.', '986.', '986.', '986.']\n"
     ]
    }
   ],
   "source": [
    "print(Ranks)"
   ]
  },
  {
   "cell_type": "code",
   "execution_count": 14,
   "metadata": {},
   "outputs": [
    {
     "data": {
      "text/plain": [
       "200"
      ]
     },
     "execution_count": 14,
     "metadata": {},
     "output_type": "execute_result"
    }
   ],
   "source": [
    "Name  = []\n",
    "for i in driver.find_elements_by_xpath(\"//div[@class='personName']\"):\n",
    "    try:\n",
    "        Name.append(i.text)\n",
    "    except:\n",
    "        Name.append(\"--\")\n",
    "\n",
    "nxt_8 = driver.find_element_by_xpath(\"//div[@class='next-page']\")\n",
    "nxt_8.click()\n",
    "len(Name)"
   ]
  },
  {
   "cell_type": "code",
   "execution_count": 15,
   "metadata": {},
   "outputs": [],
   "source": [
    "for i in driver.find_elements_by_xpath(\"//div[@class='personName']\"):\n",
    "    try:\n",
    "        Name.append(i.text)\n",
    "    except:\n",
    "        Name.append(\"--\")\n",
    "\n",
    "nxt_8 = driver.find_element_by_xpath(\"//div[@class='next-page']\")\n",
    "nxt_8.click()"
   ]
  },
  {
   "cell_type": "code",
   "execution_count": 16,
   "metadata": {},
   "outputs": [],
   "source": [
    "for i in driver.find_elements_by_xpath(\"//div[@class='personName']\"):\n",
    "    try:\n",
    "        Name.append(i.text)\n",
    "    except:\n",
    "        Name.append(\"--\")\n",
    "\n",
    "nxt_8 = driver.find_element_by_xpath(\"//div[@class='next-page']\")\n",
    "nxt_8.click()"
   ]
  },
  {
   "cell_type": "code",
   "execution_count": 17,
   "metadata": {},
   "outputs": [],
   "source": [
    "for i in driver.find_elements_by_xpath(\"//div[@class='personName']\"):\n",
    "    try:\n",
    "        Name.append(i.text)\n",
    "    except:\n",
    "        Name.append(\"--\")\n",
    "\n",
    "nxt_8 = driver.find_element_by_xpath(\"//div[@class='next-page']\")\n",
    "nxt_8.click()"
   ]
  },
  {
   "cell_type": "code",
   "execution_count": 18,
   "metadata": {},
   "outputs": [
    {
     "data": {
      "text/plain": [
       "1000"
      ]
     },
     "execution_count": 18,
     "metadata": {},
     "output_type": "execute_result"
    }
   ],
   "source": [
    "for i in driver.find_elements_by_xpath(\"//div[@class='personName']\"):\n",
    "    try:\n",
    "        Name.append(i.text)\n",
    "    except:\n",
    "        Name.append(\"--\")\n",
    "len(Name)"
   ]
  },
  {
   "cell_type": "code",
   "execution_count": 20,
   "metadata": {},
   "outputs": [
    {
     "name": "stdout",
     "output_type": "stream",
     "text": [
      "['Jeff Bezos', 'Elon Musk', 'Bernard Arnault & family', 'Bill Gates', 'Mark Zuckerberg', 'Warren Buffett', 'Larry Ellison', 'Larry Page', 'Sergey Brin', 'Mukesh Ambani', 'Amancio Ortega', 'Francoise Bettencourt Meyers & family', 'Zhong Shanshan', 'Steve Ballmer', 'Ma Huateng', 'Carlos Slim Helu & family', 'Alice Walton', 'Jim Walton', 'Rob Walton', 'Michael Bloomberg', 'Colin Zheng Huang', 'MacKenzie Scott', 'Daniel Gilbert', 'Gautam Adani & family', 'Phil Knight & family', 'Jack Ma', 'Charles Koch', 'Julia Koch & family', 'Masayoshi Son', 'Michael Dell', 'Tadashi Yanai & family', 'François Pinault & family', 'David Thomson & family', 'Beate Heister & Karl Albrecht Jr.', 'Wang Wei', 'Miriam Adelson', 'He Xiangjian', 'Dieter Schwarz', 'Zhang Yiming', 'Giovanni Ferrero', 'Alain Wertheimer', 'Gerard Wertheimer', 'Li Ka-shing', 'Qin Yinglin & family', 'William Lei Ding', 'Len Blavatnik', 'Lee Shau Kee', 'Jacqueline Mars', 'John Mars', 'Yang Huiyan & family', 'Alexey Mordashov & family', 'Robin Zeng', 'Hui Ka Yan', 'Susanne Klatten', 'Vladimir Potanin', 'Dietrich Mateschitz', 'Pang Kang', 'Klaus-Michael Kuehne', 'Vladimir Lisin', 'Wang Xing', 'German Larrea Mota Velasco & family', 'Leonardo Del Vecchio & family', 'Takemitsu Takizaki', 'Leonard Lauder', 'Thomas Peterffy', 'Vagit Alekperov', 'Leonid Mikhelson', 'Jim Simons', 'Jiang Rensheng & family', 'Gina Rinehart', 'Rupert Murdoch & family', 'Shiv Nadar', 'Zhang Zhidong', 'Iris Fontbona & family', 'Lei Jun', 'Zhang Yong', 'Richard Qiangdong Liu', 'Gennady Timchenko', 'Stephen Schwarzman', 'Goh Cheng Liang', 'Stefan Quandt', 'Li Xiting', 'Pierre Omidyar', 'Stefan Persson', 'Abigail Johnson', 'R. Budi Hartono', 'Andrew Forrest', 'Ray Dalio', 'Michael Hartono', 'Li Shufu', 'Zhong Huijuan', 'Xu Hang', 'Lui Che Woo & family', 'Emmanuel Besnier', 'Laurene Powell Jobs & family', 'Eric Schmidt', 'Sun Piaoyang', 'Theo Albrecht, Jr. & family', 'Alisher Usmanov', 'Robert Pera', 'Wu Yajun', 'Fan Hongwei & family', 'Dhanin Chearavanont', 'Peter Woo', 'Chen Bang', 'Andrey Melnichenko', 'Dustin Moskovitz', 'Su Hua', 'Donald Newhouse', 'Petr Kellner', 'Lee Man Tat', 'Pavel Durov', 'James Ratcliffe', 'Jorge Paulo Lemann & family', 'Reinhold Wuerth & family', 'Charlene de Carvalho-Heineken & family', 'Radhakishan Damani', 'Wang Chuanfu', 'Steve Cohen', 'Ken Griffin', 'Chen Zhiping', 'Ernest Garcia, II.', 'Uday Kotak', 'Carl Icahn', 'Suleiman Kerimov & family', 'Thomas Frist, Jr. & family', 'Lukas Walton', 'Mikhail Fridman', 'Wei Jianjun & family', 'Zuo Hui', 'Zhou Qunfei & family', 'Donald Bren', 'Hinduja brothers', 'Lakshmi Mittal', 'Georg Schaeffler', 'Eric Yuan & family', 'Wang Jianlin', 'Kwong Siu-hing', 'Robin Li', 'Pallonji Mistry', 'Eduardo Saverin', 'Roman Abramovich', 'David Tepper', 'Gong Hongjia & family', 'Mike Cannon-Brookes', 'John Menard, Jr.', 'Seo Jung-jin', 'Cheng Yixiao', 'Liang Wengen', 'Scott Farquhar', 'Finn Rausing', 'Jorn Rausing', 'Kirsten Rausing', 'Brian Chesky', 'Joseph Lau', 'David Duffield', 'Charoen Sirivadhanabhakdi', 'Kim Jung-ju', 'Robert & Philip Ng', 'Zhang Bangxin', 'Anders Holch Povlsen', 'Wang Wenyin', 'Wang Liping & family', 'Tatyana Bakalchuk', 'Michael Platt', 'Huang Shilin', 'Ricardo Salinas Pliego & family', 'Kumar Birla', 'Dang Yanbao', 'Cyrus Poonawalla', 'Robert Kuok', 'Hank & Doug Meijer', 'Jack Dorsey', 'Lu Zhongfang', 'Ma Jianrong & family', 'Zhang Tao', 'Nathan Blecharczyk', 'John Doerr', 'Joe Gebbia', 'Forrest Li', 'Yu Renrong', 'Liu Yonghao & family', 'Gordon Moore', 'Jeff Yass', 'Bobby Murphy', 'Patrick Drahi', 'Jensen Huang', 'Alexander Otto', 'Cen Junda', 'Joseph Tsai', 'Aliko Dangote', 'Marcel Herrmann Telles', 'Mikhail Prokhorov', 'Jorge Moll Filho & family', 'Viktor Rashnikov', 'Harry Triguboff', 'Leonid Fedun & family', 'Eyal Ofer', 'Evan Spiegel', 'Luis Carlos Sarmiento', 'Andreas Struengmann & family', 'Thomas Struengmann & family', 'Rodolphe Saadé & family', 'Dilip Shanghvi', 'Tom & Judy Love', 'Anthony Pratt', 'Wang Laisheng', 'Gianluigi & Rafaela Aponte', 'Wang Laichun', 'Chen Jianhua', 'Leng Youbin', 'Charles Schwab', 'Li Zhenguo & family', 'Sunil Mittal & family', 'Melker Schorling & family', 'Cai Kui', 'John Fredriksen', 'Qi Shi & family', 'Chase Coleman, III.', 'Hui Wing Mau', 'Edward Johnson, III.', 'Liu Hanyuan', 'Larry Xiangdong Chen', 'Philip Anschutz', 'Dietmar Hopp & family', 'German Khan', 'Li Ge', 'Jay Chaudhry', 'Eric Wittouck', 'Carl Cook', 'Jan Koum', 'Herbert Kohler, Jr. & family', 'Tobi Lutke', 'James Dyson', 'Mat Ishbia', 'Savitri Jindal & family', 'Friedhelm Loh', 'Iskander Makhmudov', 'Stefano Pessina', 'Quek Leng Chan', 'Israel Englander', 'Charles Ergen', 'Jim Pattison', 'Yao Liangsong', 'David Geffen', 'Yeung Kin-man', 'Ding Shizhong & family', 'Harold Hamm & family', 'Jim Kennedy', 'Blair Parry-Okeden', 'Ding Shijia', 'Kim Beom-su', 'Ian & Richard Livingstone', 'Sun Hongbin', 'Alberto Bailleres Gonzalez & family', 'Lam Wai-ying', 'Massimiliana Landini Aleotti & family', 'Lu Xiangyang', 'Wolfgang Marguerre & family', 'David Sun', 'John Tu', 'Guillaume Pousaz', 'Viktor Vekselberg', 'Jerry Jones', 'Michael Otto', 'Steven Rales', 'Sarath Ratanavadi', 'Tse Ping', 'Chan Tan Ching-fen', 'David Cheriton', 'Xavier Niel', 'August von Finck', 'Zong Qinghou', 'Benu Gopal Bangur', 'Sam Bankman-Fried', 'Cheng Xue', 'Graeme Hart', 'Kjeld Kirk Kristiansen', 'Sofie Kirk Kristiansen', 'Thomas Kirk Kristiansen', 'Lin Bin', 'Liu Jincheng & family', 'Shigenobu Nagamori', 'Carlos Alberto Sicupira & family', 'Agnete Kirk Thinggaard', 'Anthony von Mandl', 'Xu Shihui', 'Ernesto Bertarelli', 'Leon Black', 'Azim Premji', 'Andrei Skoch & family', 'George Soros', 'Zheng Shuliang & family', 'Marc Benioff', 'Kuldip Singh & Gurbachan Singh Dhingra', 'Ann Walton Kroenke', 'Bubba Cathy', 'Dan Cathy', 'Jay Y. Lee', 'Pan Dong', 'Hasso Plattner & family', 'Nassef Sawiris', 'Kushal Pal Singh', 'Stanley Kroenke', 'Niels Peter Louis-Hansen', 'Alain Merieux & family', 'Andreas von Bechtolsheim & family', 'Diane Hendricks', 'Shahid Khan', 'Nicky Oppenheimer & family', 'Anthony Bamford & family', 'Andrew Beal', 'Dmitry Bukhman', 'Igor Bukhman', 'Takahisa Takahara', 'Kei Hoi Pang', 'Alexei Kuzmichev', 'John Malone', 'Marijke Mars', 'Pamela Mars', 'Valerie Mars', 'Victoria Mars', 'Giorgio Armani', 'Frederik Paulsen', 'David Reuben', 'Simon Reuben', 'Alexander Abramov', 'Rinat Akhmetov', 'Silvio Berlusconi & family', 'John Grayken', 'David Green & family', 'George Roberts', 'Zhao Yan', 'Nancy Walton Laurie', 'Pei Zhenhua', 'Ruan Liping', 'Ruan Xueping', 'Patrick Soon-Shiong', 'Antonia Ax:son Johnson & family', 'Ernest Garcia, III.', 'George Lucas', 'Vicky Safra', 'Zhang Jindong', 'Laurent Dassault', 'Thierry Dassault', 'Marie-Hélène Habert', 'Henry Kravis', 'Lai Meisong', 'Sandra Ortega Mera', 'Pham Nhat Vuong', 'David Shaw', 'Rocco Commisso', 'Michael Kadoorie', 'Bernard Marcus', 'Manuel Villar', 'Christy Walton', 'Wang Zhenhua', 'Carl Bennet', 'Rahel Blocher', 'Johann Graf', 'Ralph Lauren', 'Li Hua', 'Magdalena Martullo-Blocher', 'Stewart and Lynda Resnick', 'Johann Rupert & family', 'Safra siblings', 'Anthony Wood', 'Gang Ye', 'Igor Altushkin', 'Bajaj brothers', 'Juan Francisco Beckmann Vidal & family', 'Alexandre Behring', 'Vincent Bolloré & family', 'Gustaf Douglas', 'Terry Gou', 'Paul Tudor Jones, II.', 'Richard Kinder', 'Ludwig Merckle', 'Stephen Ross', 'Eli Broad', 'Jim Davis & family', 'Guo Guangchang', 'Robert Kraft', 'Murali Divi & family', 'Huang Chulong', 'Li Jianquan & family', 'Shi Yonghong & family', 'Wee Cho Yaw', 'Erich Wesjohann & family', 'Aloys Wobben', 'Micky Arison', 'Jean-Michel Besnier', 'Marie Besnier Beauvalot', 'Kwon Hyuk-bin', 'Li Haiyan', 'Fredrik Lundberg', 'Hiroshi Mikitani', 'Dmitry Rybolovlev', 'Reinhold Schmieding', 'Francis Choi', 'Bruce Kovner', 'Wang Wenjing', 'Zeng Fangqin', 'Brian Armstrong', 'Chu Mang Yee & family', 'Denise Coates', 'Gopikishan Damani', 'James Goodnight', 'Antti Herlin', 'Liu Yongxing', 'Sri Prakash Lohia', 'John Overdeck', 'Prajogo Pangestu', 'Horst Julius Pudwill', 'David Siegel', 'Ronda Stryker', 'Georg Stumpf', 'Pauline MacMillan Keinath', 'Wang Yusuo & family', 'Dennis Washington', 'Rahul Bajaj', 'Ashwin Dani & family', 'Andreas Halvorsen', 'Andrei Kozitsyn', 'Axel Oberwelland', 'Shi Yuzhu', 'Tsai Eng-meng', 'Murat Ulker', 'Wang Junlin', 'Wang Ning & family', 'You Xiaoping', 'Arthur Blank', 'James Chambers', 'Jiang Bin', 'Jason Jiang', 'Mitchell Rales', 'Katharine Rayner', 'Margaretta Taylor', 'Stef Wertheimer & family', 'Mike Adenuga', 'Charles Dolan & family', 'Marcos Galperin', 'Huang Li', 'Law Kar Po', 'Li Wa', 'Idan Ofer', 'Qian Dongqi & family', 'Odd Reitan & family', 'Henry Samueli', 'Les Wexner & family', 'Dannine Avara', 'Juergen Blickle', 'Robert Brockman', 'Mong-Koo Chung', 'Dulce Pugliese de Godoy Bueno', 'Daniel Dines', 'Scott Duncan', 'Judy Faulkner', 'Guenther Fielmann & family', 'Milane Frantz', 'Frits Goldschmeding', 'Andrei Guriev & family', 'Jane Lauder', 'Martin Lorentzon', 'Isaac Perlmutter', 'Jeff Skoll', 'Robert F. Smith', 'John A. Sobrato & family', 'Ronald Wanek', 'Randa Duncan Williams', 'Hansjoerg Wyss', 'Chen Fashu', 'Chen Rui', 'Christopher Hohn', 'Lin Jianhua & family', 'Maria Asuncion Aramburuzabala & family', 'Chan Laiwa & family', 'George Kaiser', 'Ananda Krishnan', 'Douglas Leone', 'Li Chunan', 'Li Ping', 'William Li', 'Augusto & Giorgio Perfetti', 'Meg Whitman', 'Neil Bluhm', 'Andrew Currie', 'Tom Gores', 'Michel Leclercq & family', 'Michael Moritz', 'Nicolas Puech', 'John Reece', 'Emanuele (Lino) Saputo & family', 'Fred Smith', 'Teh Hong Piow', 'Rene Benko', 'Jack Dangermond', 'Stanley Druckenmiller', 'Tamara Gustavson', 'Jian Jun', 'Kwee brothers', 'Clive Calder', 'Hasmukh Chudgar & family', 'Dagmar Dolby & family', 'Dong Wei', 'Ken Fisher', 'Ivan Glasenberg', 'He Xiaopeng', 'Sumet Jiaravanon', 'Karel Komarek', 'Ronald Lauder', 'Mu Rongjun', 'J. Christopher Reyes', 'Jude Reyes', 'Kjell Inge Rokke', 'Edward Roski, Jr.', 'Alexandra Schoerghuber', 'Shu Ping', 'Christoph Zeller', 'An Kang', 'Rainer Blickle', 'Jaran Chiaravanont', 'Alceu Elias Feldmann', 'Montri Jiaravanont', 'Henry Nicholas, III.', 'Terrence Pegula', 'Carrie Perrodo & family', 'Harry Stine', 'Pyotr Aven', 'Kapil & Rahul Bhatia', 'Cao Renxian', 'Barry Lam', 'Carlos Rodriguez-Pastor', 'Shen Guojun', 'Luiza Helena Trajano', 'Yao Zhenhua & family', 'Yu Yong', 'Sam Zell', 'John Brown', \"Giuseppe De'Longhi & family\", 'Frank Lowy', 'Joe Mansueto', 'Akio Nitori', 'Gary Rollins', 'Ruan Hongliang & family', 'Teddy Sagi', 'Neil Shen', 'David Velez', 'Wong Man Li', 'Robert Bass', 'Pierre Chen', 'Mahendra Choksi & family', 'Gustavo Denegri', 'Reed Hastings', 'Michael Herz', 'Wolfgang Herz', 'Patrick Lee', 'Lee Yeow Chor & Yeow Seng', 'Theo Mueller', 'Wu Guanjiang & family', 'Bernard Broermann', 'Jason Chang', 'Joshua Harris', 'Vikram Lal & family', 'Lin Xiucheng & family', 'Pankaj Patel', 'Enrique Razon Jr.', 'Walter Scott, Jr. & family', 'Charles Simonyi', 'Kate Wang', 'Daniel Ziff', 'Dirk Ziff', 'Robert Ziff', 'Stephen Bisciotti', 'Chen Dongsheng', 'Charles B. Johnson', 'Marc Ladreit de Lacharriere', 'Joe Lewis', 'Lin Li', 'Karen Pritzker', 'Abdulsamad Rabiu', 'Mark Scheinberg', 'Howard Schultz', 'Yasumitsu Shigeta', 'Thomas Siebel', 'Peter Thiel', 'Chip Wilson', 'Zhang Fan', 'Pierre Bellon & family', 'Richard Branson', 'Huang Yi', 'Bidzina Ivanishvili', 'Edward Johnson, IV.', 'Elizabeth Johnson', 'Ted Lerner & family', 'Lin Shu-hong', 'Yuri Milner', 'Issad Rebrab & family', 'Thomas Schmidheiny', 'Chairul Tanjung', 'Alan Trefler', 'Radovan Vitek', 'Frank Wang', 'Wang Xicheng & family', 'Wang Zhendong', 'John, Alan & Bruce Wilson', 'M.A. Yusuff Ali', 'Maria Fernanda Amorim & family', 'Dona Bertarelli', 'Hong Jie', 'Nathan Kirsh', 'Ken Langone', 'Michael Pieper', 'Richard Schulze', 'Eric Smidt', 'Tim Sweeney', 'Tang Shing-bor', 'Oleg Tinkov', 'Mark Walter', 'Wong Luen Hei', 'Zhou Bajin', 'Patrizio Bertelli', 'Bert Beveridge', 'Martin & Olivier Bouygues', 'Chen Lip Keong', 'Dong Fan', 'Daniel Ek', 'Tilman Fertitta', 'Luis Frias', 'Peter Gassner', 'Vladimir Kim', 'Li Weiguo', \"Denis O'Brien\", 'Miuccia Prada', 'Robert Rich, Jr.', 'Abhay Vakil & family', 'Paul-Heinz Wesjohann & family', 'Ron Baron', 'Andre Esteves', 'Jonathan Gray', 'Hu Baifan', 'Viatcheslav Kantor', 'Min Kao & family', 'Friedrich Knapp', 'Richard Li', 'Rudolf Maag', 'Miao Hangen', 'Sami Mnaymneh', 'Igor Olenicoff', 'Sergei Popov', 'Thomas Pritzker', 'Julian Robertson, Jr.', 'Tony Tamer', 'Zhu Baoguo & family', 'Shari Arison', 'Orlando Bravo', 'Garrett Camp', 'Nick Caporella', 'Mark Cuban', 'Yakir Gabay', 'Erman Ilicak', 'Gustav Magnar Witzoe', 'Michael Minhong Yu', 'Zhang Daocai', 'Stéphane Bancel', 'Ralph Dommermuth', 'Thomas Hagen', 'Pansy Ho', 'Rakesh Jhunjhunwala', 'Lee Yin Yee', 'Eric Lefkofsky', 'Edwin Leong', 'Pawan Munjal & family', 'Antony Ressler', 'Paul Singer', 'Kerry Stokes', 'Steven Udvar-Hazy', 'Takao Yasuda', 'Ye Chenghai & family', 'Alain Bouchard', 'Rick Caruso', 'Scott Cook', 'Barry Diller', 'Traudl Engelhorn & family', 'Fang Wei', 'Fu Liquan & family', 'Luca Garavoglia', 'Tom Golisano', 'Peter Hargreaves', 'Bertil Hult', 'Ray Lee Hunt', 'James Irving', 'Martin Lau', 'Li Li', 'Liu Fangyi', 'Luo Liguo & family', 'Pan Laican', 'Juan Roig', 'Leonard Stern', 'Thomas Straumann', 'Wang Yanqing & family', 'Ken Xie', 'Xue Hua', 'Steven Meng Yang & family', 'Margot Birmingham Perot', 'David Bonderman', 'Matthew Calkins', 'Cho Tak Wong', 'Piero Ferrari', 'Dan Friedkin', 'Laurence Graff & family', 'Martin Haefner', 'Hong Ra-hee', 'Ji Qi', 'Rupert Johnson, Jr.', 'Daniel Kretinsky', 'William Lauder', 'Janice McNair', 'John Morris', 'Gabe Newell', 'Katharina Otto-Bernstein', 'Julio Ponce Lerou', 'Jon Stryker', 'Suh Kyung-bae', 'Xu Jingren', 'Samuel Yin', 'Walter P.J. Droege', 'Du Jiangtao & family', 'Vinod & Anil Rai Gupta', 'Masatoshi Ito', 'Igor Kesaev', 'Koon Poh Keong', 'Paul Xiaoming Lee & family', 'Li Xiang', 'Melissa Ma', 'Kiran Mazumdar-Shaw', 'Gwendolyn Sontheim Meyer', 'Akira Mori & family', 'Georg Nemetschek & family', 'Masahiro Noda', 'Ajay Piramal', 'Qiu Guanghe & family', 'Trevor Rees-Jones', 'Ira Rennert', 'Marc Rowan', 'Ugur Sahin', 'Michal Solowow', 'Udo & Harald Tschira', 'Wu Jianshu', 'Ye Xiaoping', 'Zhou Hongyi', 'Che Jianxing', 'Beatriz Davila de Santo Domingo', 'Rafael Del Pino', 'Du Weimin', 'Rakesh Gangwal', 'Paul Gauselmann & family', 'Jeff Greene', 'Johnelle Hunt', 'Jin Baofang', 'Kuan Kam Hon & family', 'Stephen Mandel, Jr.', 'Gilles Martin', 'Masahiro Miki', 'Dan Olsson', 'Robert Rowling', 'Erik Selin', 'Mark Shoen', 'Ben Silbermann', 'Maximilian Viessmann', 'Wang Linpeng', 'Wu Zhigang & family', 'Yi Zheng', 'Zhang Wenzhong', 'Euisun Chung', \"Daniel D'Aniello\", 'Oleg Deripaska', 'Sergey Dmitriev', 'Feng Hailiang', 'John Gandel', 'Gao Dekang & family', 'Jaime Gilinski Bacal', 'Sergei Gordeev', 'Jeff Green', 'Amos Hostetter, Jr.', 'Kuok Khoon Hong', 'Lai Jianping', 'Aerin Lauder', 'Hans Georg Naeder', 'Maren Otto', 'Clive Palmer', 'Karsanbhai Patel', 'Qiu Jianping & family', 'Wolfgang Reimann', 'Matthias Reimann-Andersen', 'Stefan Reimann-Andersen', 'Renate Reimann-Haas', 'Dirk Rossmann & family', 'Shaul Shani', 'Song Fei', 'Donald Sterling', 'Ivar Tollefsen', 'Don Vultaggio & family', 'Nusli Wadia', 'Zhang Jin', 'Zhu Gongshan', 'Peter Gilgan', 'Marian Ilitch', 'Kong Jian Min', 'Li Liangbin', 'Li Yongxin & family', 'Mary Alice Dorrance Malone', 'Michael Milken', 'Ronald Perelman', 'Candido Pinheiro Koren de Lima', 'J. Joe Ricketts & family', 'Paolo & Gianfelice Mario Rocca', 'Jeff Rothschild', 'David Rubenstein', 'Maria-Elisabeth Schaeffler-Thumann', 'Steven Spielberg', 'Barry Sternlicht', 'Mark Stevens', 'David Steward', 'Vincent Viola', 'Todd Wanek', 'Wang Roger', 'Russ Weiner', 'Herbert Wertheim', 'Xu Shugen', 'Anil Agarwal & family', 'Majid Al Futtaim & family', 'Leonid Boguslavsky', 'Austen Cargill, II.', 'James Cargill, II.', 'Chu Lam Yiu', 'Steve Conine', 'Hu Kaijun', 'S. Curtis Johnson', 'Helen Johnson-Leipold', 'Daryl Katz', 'Peter Kellogg', 'Samuel Tak Lee', 'Li Hongxin & family', 'Marianne Liebmann', 'Winifred J. Marquart', 'Daniel Och', 'Anthony Pritzker', 'Rodger Riney & family', 'Niraj Shah', 'Lynsi Snyder', 'Jerzy Starak', 'Michael Tojner', 'Richard Tsai', 'Ty Warner', 'Yang Shaopeng', 'Yuan Liping', 'Zhang Hongwei', 'Andrej Babis', 'Shyam & Hari Bhartia', 'Hubert Burda', 'Chuchat Petaumpai & Daonapa Petampai', 'Charles Cohen', 'David Filo', 'Sergei Galitsky', 'Alessandra Garavoglia', 'Franco Bittar Garcia', 'Martha Ingram & family', 'H. Fisk Johnson', 'Li Guoqiang', 'Lim Wee Chai', 'Liu Xiaodong', 'Daniel Loeb', 'Jim McKelvey', 'Apoorva Mehta', 'N.R. Narayana Murthy', 'John Paulson', 'J.B. Pritzker', 'Michael Rubin', 'Arnout Schuijff', 'Thomas Secunda', 'Vivek Chaand Sehgal', 'E. Joe Shoen', 'Leena Tewari', 'Julia Thiele-Schuerhoff', 'Romesh T. Wadhwani', 'Wu Shaoxun', 'Ye Guofu', 'Denise York & family', 'Zhou Jianping', 'Mohed Altrad', 'Gayle Benson', 'Francesco Gaetano Caltagirone', 'William Conway, Jr.', 'Jim Davis', 'Deng Wen', 'Ennio Doris & family', 'Bernard Ecclestone & family', 'Alexander Frolov', 'Fiona Geminder', 'Zarakh Iliev', 'Viktor Kharitonin', 'Steven Klinsky', 'Chris Larsen', 'Angela Leong', 'Margarita Louis-Dreyfus & family', 'John Middleton', 'Arnon Milchan', 'Arturo Moreno', 'God Nisanov', 'Benjamin Zhengmin Pan & family', 'Jay Paul', 'Remo Ruffini', 'Patrick Ryan', 'RJ Scaringe', 'Lynn Schusterman', 'Eric Ya Shen', 'Daniel Tsai', 'Tung Chee Chen', 'Bulat Utemuratov', 'Frank VanderSloot', 'Kelcy Warren', 'Xu Yi', 'Vladimir Yevtushenkov', 'Somphote Ahunai', 'John Arnold', 'Neal Blue & family', 'Alejandro Bulgheroni', 'Dong Jinggui', 'Joseph Edelman', 'Charles Edelstenne', 'Senapathy Gopalakrishnan', 'B. Wayne Hughes', 'Ravi Jaipuria', 'Samvel Karapetyan', 'Vyacheslav Kim', 'Jim Koch', 'Andre Koo, Sr.', 'Yuri Kovalchuk', 'Richard LeFrak & family', 'Kevin David Lehmann', 'Horst Paulmann & family', 'Jean (Gigi) Pritzker', 'Qi Xiangdong', 'Renzo Rosso & family', 'Stephen Rubin', 'Bernard Saul, II.', 'Klaus-Peter Schulenberg', 'Tahir & family', 'Lucio Tan', 'Lottie Tham & family', 'Wang Wenxue', 'Hans Peter Wild', 'William Wrigley, Jr.', 'Zhang Xin & Pan Shiyi', 'Giuliana Benetton', 'Luciano Benetton', 'Tomasz Biernacki', 'Chey Tae-won', 'John Collison', 'Patrick Collison', 'Jack Cowin', 'Archie Aldis Emmerson & family', 'Yoichi & Keiko Erikawa', 'Juan Carlos Escotet', 'Carlo Fidani', 'Don Hankey', 'Otto Happel', 'He Zhaoxi', 'Heidi Horten', 'Ke Zunhong & family', 'Thai Lee', 'Mikhail Lomtadze', 'Ronald McAulay', 'Maja Oeri', 'James Packer', 'John Sall', 'Naguib Sawiris', 'Zygmunt Solorz-Zak', 'Lawrence Stroll', 'Rita Tong Liu', 'Tsai Cheng-ta', 'Tsai Hong-tu', 'Steve Wynn', 'Zhang Li', 'Otto Philipp Braun', 'John Caudwell', 'Chi Yufeng', 'Camilla de Godoy Bueno Grossi', 'Antonio Del Valle Ruiz & family', 'Martin Ebner', 'John Fisher', 'Jane Goldman', 'Gu Yuhua & family', 'Hao Hong', 'Hoi Kin Hong', 'Jin Lei', 'Artem Khachatryan', 'Li Gaiteng', 'Li Zhongchu']\n"
     ]
    }
   ],
   "source": [
    "print(Name)"
   ]
  },
  {
   "cell_type": "code",
   "execution_count": 22,
   "metadata": {},
   "outputs": [
    {
     "data": {
      "text/plain": [
       "200"
      ]
     },
     "execution_count": 22,
     "metadata": {},
     "output_type": "execute_result"
    }
   ],
   "source": [
    "Net = []\n",
    "for i in driver.find_elements_by_xpath(\"//div[@class='netWorth']\"):\n",
    "    try:\n",
    "        Net.append(i.text)\n",
    "    except:\n",
    "        Net.append(\"--\")\n",
    "nxt_8 = driver.find_element_by_xpath(\"//div[@class='next-page']\")\n",
    "nxt_8.click()\n",
    "len(Net)"
   ]
  },
  {
   "cell_type": "code",
   "execution_count": 23,
   "metadata": {},
   "outputs": [],
   "source": [
    "for i in driver.find_elements_by_xpath(\"//div[@class='netWorth']\"):\n",
    "    try:\n",
    "        Net.append(i.text)\n",
    "    except:\n",
    "        Net.append(\"--\")\n",
    "nxt_8 = driver.find_element_by_xpath(\"//div[@class='next-page']\")\n",
    "nxt_8.click()"
   ]
  },
  {
   "cell_type": "code",
   "execution_count": 24,
   "metadata": {},
   "outputs": [],
   "source": [
    "for i in driver.find_elements_by_xpath(\"//div[@class='netWorth']\"):\n",
    "    try:\n",
    "        Net.append(i.text)\n",
    "    except:\n",
    "        Net.append(\"--\")\n",
    "nxt_8 = driver.find_element_by_xpath(\"//div[@class='next-page']\")\n",
    "nxt_8.click()"
   ]
  },
  {
   "cell_type": "code",
   "execution_count": 25,
   "metadata": {},
   "outputs": [],
   "source": [
    "for i in driver.find_elements_by_xpath(\"//div[@class='netWorth']\"):\n",
    "    try:\n",
    "        Net.append(i.text)\n",
    "    except:\n",
    "        Net.append(\"--\")\n",
    "nxt_8 = driver.find_element_by_xpath(\"//div[@class='next-page']\")\n",
    "nxt_8.click()"
   ]
  },
  {
   "cell_type": "code",
   "execution_count": 26,
   "metadata": {},
   "outputs": [
    {
     "data": {
      "text/plain": [
       "1000"
      ]
     },
     "execution_count": 26,
     "metadata": {},
     "output_type": "execute_result"
    }
   ],
   "source": [
    "for i in driver.find_elements_by_xpath(\"//div[@class='netWorth']\"):\n",
    "    try:\n",
    "        Net.append(i.text)\n",
    "    except:\n",
    "        Net.append(\"--\")\n",
    "\n",
    "len(Net)"
   ]
  },
  {
   "cell_type": "code",
   "execution_count": 27,
   "metadata": {},
   "outputs": [
    {
     "name": "stdout",
     "output_type": "stream",
     "text": [
      "['$177 B', '$151 B', '$150 B', '$124 B', '$97 B', '$96 B', '$93 B', '$91.5 B', '$89 B', '$84.5 B', '$77 B', '$73.6 B', '$68.9 B', '$68.7 B', '$65.8 B', '$62.8 B', '$61.8 B', '$60.2 B', '$59.5 B', '$59 B', '$55.3 B', '$53 B', '$51.9 B', '$50.5 B', '$49.9 B', '$48.4 B', '$46.4 B', '$46.4 B', '$45.4 B', '$45.1 B', '$44.1 B', '$42.3 B', '$41.8 B', '$39.2 B', '$39 B', '$38.2 B', '$37.7 B', '$36.9 B', '$35.6 B', '$35.1 B', '$34.5 B', '$34.5 B', '$33.7 B', '$33.5 B', '$33 B', '$32 B', '$31.7 B', '$31.3 B', '$31.3 B', '$29.6 B', '$29.1 B', '$28.4 B', '$27.7 B', '$27.7 B', '$27 B', '$26.9 B', '$26.4 B', '$26.3 B', '$26.2 B', '$26.1 B', '$25.9 B', '$25.8 B', '$25.8 B', '$25.5 B', '$25 B', '$24.9 B', '$24.9 B', '$24.6 B', '$24.4 B', '$23.6 B', '$23.5 B', '$23.5 B', '$23.4 B', '$23.3 B', '$23 B', '$23 B', '$22.4 B', '$22 B', '$21.9 B', '$21.7 B', '$21.6 B', '$21.5 B', '$21.4 B', '$21.3 B', '$20.9 B', '$20.5 B', '$20.4 B', '$20.3 B', '$19.7 B', '$19.7 B', '$19.7 B', '$19.5 B', '$19.4 B', '$19.1 B', '$19 B', '$18.9 B', '$18.9 B', '$18.8 B', '$18.4 B', '$18.3 B', '$18.3 B', '$18.2 B', '$18.1 B', '$18 B', '$17.9 B', '$17.9 B', '$17.8 B', '$17.8 B', '$17.6 B', '$17.5 B', '$17.4 B', '$17.2 B', '$17 B', '$16.9 B', '$16.8 B', '$16.7 B', '$16.5 B', '$16.3 B', '$16 B', '$16 B', '$15.9 B', '$15.9 B', '$15.9 B', '$15.8 B', '$15.8 B', '$15.7 B', '$15.6 B', '$15.5 B', '$15.5 B', '$15.5 B', '$15.4 B', '$15.3 B', '$14.9 B', '$14.9 B', '$14.9 B', '$14.9 B', '$14.8 B', '$14.7 B', '$14.7 B', '$14.6 B', '$14.6 B', '$14.5 B', '$14.5 B', '$14.4 B', '$14.2 B', '$14.2 B', '$14.2 B', '$14.1 B', '$14.1 B', '$14 B', '$13.9 B', '$13.9 B', '$13.9 B', '$13.7 B', '$13.6 B', '$13.5 B', '$13.5 B', '$13.3 B', '$13.3 B', '$13.3 B', '$13.2 B', '$13.2 B', '$13.1 B', '$13 B', '$13 B', '$12.9 B', '$12.9 B', '$12.8 B', '$12.7 B', '$12.7 B', '$12.6 B', '$12.6 B', '$12.5 B', '$12.5 B', '$12.5 B', '$12.5 B', '$12.4 B', '$12.4 B', '$12.4 B', '$12.4 B', '$12.3 B', '$12.1 B', '$12.1 B', '$12 B', '$11.9 B', '$11.8 B', '$11.8 B', '$11.8 B', '$11.6 B', '$11.6 B', '$11.5 B', '$11.5 B', '$11.4 B', '$11.3 B', '$11.2 B', '$11.2 B', '$11.1 B', '$11.1 B', '$11.1 B', '$11 B', '$11 B', '$11 B', '$10.9 B', '$10.9 B', '$10.8 B', '$10.8 B', '$10.8 B', '$10.7 B', '$10.7 B', '$10.6 B', '$10.6 B', '$10.6 B', '$10.5 B', '$10.5 B', '$10.5 B', '$10.4 B', '$10.4 B', '$10.4 B', '$10.3 B', '$10.3 B', '$10.3 B', '$10.3 B', '$10.2 B', '$10.1 B', '$10.1 B', '$10.1 B', '$10.1 B', '$10 B', '$10 B', '$9.9 B', '$9.9 B', '$9.8 B', '$9.8 B', '$9.7 B', '$9.7 B', '$9.7 B', '$9.7 B', '$9.7 B', '$9.7 B', '$9.7 B', '$9.6 B', '$9.6 B', '$9.6 B', '$9.6 B', '$9.5 B', '$9.5 B', '$9.4 B', '$9.4 B', '$9.4 B', '$9.4 B', '$9.3 B', '$9.3 B', '$9.3 B', '$9.3 B', '$9.2 B', '$9.1 B', '$9.1 B', '$9.1 B', '$9.1 B', '$9.1 B', '$9.1 B', '$9 B', '$9 B', '$8.9 B', '$8.9 B', '$8.9 B', '$8.9 B', '$8.9 B', '$8.8 B', '$8.8 B', '$8.8 B', '$8.8 B', '$8.8 B', '$8.7 B', '$8.7 B', '$8.7 B', '$8.7 B', '$8.7 B', '$8.7 B', '$8.7 B', '$8.7 B', '$8.7 B', '$8.7 B', '$8.7 B', '$8.7 B', '$8.7 B', '$8.7 B', '$8.6 B', '$8.6 B', '$8.6 B', '$8.6 B', '$8.6 B', '$8.6 B', '$8.4 B', '$8.4 B', '$8.4 B', '$8.3 B', '$8.3 B', '$8.3 B', '$8.3 B', '$8.3 B', '$8.3 B', '$8.3 B', '$8.2 B', '$8.2 B', '$8.2 B', '$8.2 B', '$8 B', '$8 B', '$8 B', '$7.9 B', '$7.9 B', '$7.9 B', '$7.9 B', '$7.9 B', '$7.8 B', '$7.8 B', '$7.8 B', '$7.8 B', '$7.8 B', '$7.8 B', '$7.8 B', '$7.7 B', '$7.7 B', '$7.7 B', '$7.7 B', '$7.6 B', '$7.6 B', '$7.6 B', '$7.6 B', '$7.6 B', '$7.6 B', '$7.6 B', '$7.5 B', '$7.5 B', '$7.5 B', '$7.5 B', '$7.5 B', '$7.4 B', '$7.4 B', '$7.4 B', '$7.4 B', '$7.4 B', '$7.3 B', '$7.3 B', '$7.3 B', '$7.3 B', '$7.3 B', '$7.3 B', '$7.3 B', '$7.3 B', '$7.2 B', '$7.2 B', '$7.2 B', '$7.2 B', '$7.2 B', '$7.2 B', '$7.1 B', '$7.1 B', '$7.1 B', '$7.1 B', '$7.1 B', '$7.1 B', '$7.1 B', '$7.1 B', '$7.1 B', '$7.1 B', '$7.1 B', '$7 B', '$7 B', '$7 B', '$7 B', '$7 B', '$7 B', '$7 B', '$7 B', '$7 B', '$7 B', '$7 B', '$6.9 B', '$6.9 B', '$6.9 B', '$6.9 B', '$6.8 B', '$6.8 B', '$6.8 B', '$6.8 B', '$6.8 B', '$6.8 B', '$6.8 B', '$6.7 B', '$6.7 B', '$6.7 B', '$6.7 B', '$6.7 B', '$6.7 B', '$6.7 B', '$6.7 B', '$6.7 B', '$6.6 B', '$6.6 B', '$6.6 B', '$6.6 B', '$6.5 B', '$6.5 B', '$6.5 B', '$6.5 B', '$6.5 B', '$6.5 B', '$6.5 B', '$6.5 B', '$6.5 B', '$6.5 B', '$6.5 B', '$6.5 B', '$6.5 B', '$6.5 B', '$6.4 B', '$6.4 B', '$6.4 B', '$6.3 B', '$6.3 B', '$6.3 B', '$6.3 B', '$6.3 B', '$6.3 B', '$6.3 B', '$6.3 B', '$6.3 B', '$6.3 B', '$6.3 B', '$6.2 B', '$6.2 B', '$6.2 B', '$6.2 B', '$6.2 B', '$6.2 B', '$6.2 B', '$6.2 B', '$6.1 B', '$6.1 B', '$6.1 B', '$6.1 B', '$6.1 B', '$6.1 B', '$6.1 B', '$6.1 B', '$6.1 B', '$6.1 B', '$6.1 B', '$6 B', '$6 B', '$6 B', '$6 B', '$6 B', '$6 B', '$6 B', '$6 B', '$6 B', '$6 B', '$6 B', '$6 B', '$6 B', '$6 B', '$6 B', '$6 B', '$6 B', '$6 B', '$6 B', '$6 B', '$6 B', '$5.9 B', '$5.9 B', '$5.9 B', '$5.9 B', '$5.8 B', '$5.8 B', '$5.8 B', '$5.8 B', '$5.8 B', '$5.8 B', '$5.8 B', '$5.8 B', '$5.8 B', '$5.8 B', '$5.7 B', '$5.7 B', '$5.7 B', '$5.7 B', '$5.7 B', '$5.7 B', '$5.7 B', '$5.7 B', '$5.7 B', '$5.7 B', '$5.6 B', '$5.6 B', '$5.6 B', '$5.6 B', '$5.6 B', '$5.6 B', '$5.5 B', '$5.5 B', '$5.5 B', '$5.5 B', '$5.5 B', '$5.5 B', '$5.5 B', '$5.5 B', '$5.5 B', '$5.5 B', '$5.5 B', '$5.5 B', '$5.5 B', '$5.5 B', '$5.5 B', '$5.5 B', '$5.5 B', '$5.5 B', '$5.4 B', '$5.4 B', '$5.4 B', '$5.4 B', '$5.4 B', '$5.4 B', '$5.4 B', '$5.4 B', '$5.4 B', '$5.3 B', '$5.3 B', '$5.3 B', '$5.3 B', '$5.3 B', '$5.3 B', '$5.3 B', '$5.3 B', '$5.3 B', '$5.3 B', '$5.2 B', '$5.2 B', '$5.2 B', '$5.2 B', '$5.2 B', '$5.2 B', '$5.2 B', '$5.2 B', '$5.2 B', '$5.2 B', '$5.2 B', '$5.1 B', '$5.1 B', '$5.1 B', '$5.1 B', '$5.1 B', '$5.1 B', '$5.1 B', '$5.1 B', '$5.1 B', '$5.1 B', '$5.1 B', '$5 B', '$5 B', '$5 B', '$5 B', '$5 B', '$5 B', '$5 B', '$5 B', '$5 B', '$5 B', '$5 B', '$5 B', '$5 B', '$4.9 B', '$4.9 B', '$4.9 B', '$4.9 B', '$4.9 B', '$4.9 B', '$4.9 B', '$4.9 B', '$4.9 B', '$4.9 B', '$4.9 B', '$4.9 B', '$4.9 B', '$4.9 B', '$4.9 B', '$4.8 B', '$4.8 B', '$4.8 B', '$4.8 B', '$4.8 B', '$4.8 B', '$4.8 B', '$4.8 B', '$4.8 B', '$4.8 B', '$4.8 B', '$4.8 B', '$4.8 B', '$4.8 B', '$4.8 B', '$4.8 B', '$4.8 B', '$4.8 B', '$4.8 B', '$4.7 B', '$4.7 B', '$4.7 B', '$4.7 B', '$4.7 B', '$4.7 B', '$4.7 B', '$4.7 B', '$4.7 B', '$4.7 B', '$4.7 B', '$4.7 B', '$4.7 B', '$4.7 B', '$4.6 B', '$4.6 B', '$4.6 B', '$4.6 B', '$4.6 B', '$4.6 B', '$4.6 B', '$4.6 B', '$4.6 B', '$4.6 B', '$4.6 B', '$4.6 B', '$4.6 B', '$4.6 B', '$4.6 B', '$4.6 B', '$4.5 B', '$4.5 B', '$4.5 B', '$4.5 B', '$4.5 B', '$4.5 B', '$4.5 B', '$4.5 B', '$4.5 B', '$4.5 B', '$4.5 B', '$4.5 B', '$4.5 B', '$4.5 B', '$4.5 B', '$4.5 B', '$4.5 B', '$4.4 B', '$4.4 B', '$4.4 B', '$4.4 B', '$4.4 B', '$4.4 B', '$4.4 B', '$4.4 B', '$4.4 B', '$4.4 B', '$4.3 B', '$4.3 B', '$4.3 B', '$4.3 B', '$4.3 B', '$4.3 B', '$4.3 B', '$4.3 B', '$4.3 B', '$4.3 B', '$4.3 B', '$4.3 B', '$4.3 B', '$4.3 B', '$4.3 B', '$4.2 B', '$4.2 B', '$4.2 B', '$4.2 B', '$4.2 B', '$4.2 B', '$4.2 B', '$4.2 B', '$4.2 B', '$4.2 B', '$4.2 B', '$4.2 B', '$4.2 B', '$4.2 B', '$4.2 B', '$4.2 B', '$4.2 B', '$4.2 B', '$4.2 B', '$4.2 B', '$4.2 B', '$4.2 B', '$4.2 B', '$4.2 B', '$4.2 B', '$4.1 B', '$4.1 B', '$4.1 B', '$4.1 B', '$4.1 B', '$4.1 B', '$4.1 B', '$4.1 B', '$4.1 B', '$4.1 B', '$4.1 B', '$4.1 B', '$4.1 B', '$4.1 B', '$4.1 B', '$4.1 B', '$4.1 B', '$4.1 B', '$4.1 B', '$4.1 B', '$4.1 B', '$4.1 B', '$4 B', '$4 B', '$4 B', '$4 B', '$4 B', '$4 B', '$4 B', '$4 B', '$4 B', '$4 B', '$4 B', '$4 B', '$4 B', '$4 B', '$4 B', '$4 B', '$4 B', '$4 B', '$4 B', '$4 B', '$4 B', '$4 B', '$4 B', '$4 B', '$4 B', '$3.9 B', '$3.9 B', '$3.9 B', '$3.9 B', '$3.9 B', '$3.9 B', '$3.9 B', '$3.9 B', '$3.9 B', '$3.9 B', '$3.9 B', '$3.9 B', '$3.9 B', '$3.9 B', '$3.9 B', '$3.9 B', '$3.9 B', '$3.9 B', '$3.9 B', '$3.9 B', '$3.9 B', '$3.9 B', '$3.9 B', '$3.8 B', '$3.8 B', '$3.8 B', '$3.8 B', '$3.8 B', '$3.8 B', '$3.8 B', '$3.8 B', '$3.8 B', '$3.8 B', '$3.8 B', '$3.8 B', '$3.8 B', '$3.8 B', '$3.8 B', '$3.8 B', '$3.8 B', '$3.8 B', '$3.8 B', '$3.8 B', '$3.8 B', '$3.8 B', '$3.8 B', '$3.8 B', '$3.8 B', '$3.8 B', '$3.8 B', '$3.8 B', '$3.8 B', '$3.8 B', '$3.8 B', '$3.8 B', '$3.7 B', '$3.7 B', '$3.7 B', '$3.7 B', '$3.7 B', '$3.7 B', '$3.7 B', '$3.7 B', '$3.7 B', '$3.7 B', '$3.7 B', '$3.7 B', '$3.7 B', '$3.7 B', '$3.7 B', '$3.7 B', '$3.7 B', '$3.7 B', '$3.7 B', '$3.7 B', '$3.7 B', '$3.7 B', '$3.7 B', '$3.7 B', '$3.6 B', '$3.6 B', '$3.6 B', '$3.6 B', '$3.6 B', '$3.6 B', '$3.6 B', '$3.6 B', '$3.6 B', '$3.6 B', '$3.6 B', '$3.6 B', '$3.6 B', '$3.6 B', '$3.6 B', '$3.6 B', '$3.6 B', '$3.6 B', '$3.6 B', '$3.6 B', '$3.6 B', '$3.6 B', '$3.6 B', '$3.6 B', '$3.6 B', '$3.6 B', '$3.6 B', '$3.6 B', '$3.5 B', '$3.5 B', '$3.5 B', '$3.5 B', '$3.5 B', '$3.5 B', '$3.5 B', '$3.5 B', '$3.5 B', '$3.5 B', '$3.5 B', '$3.5 B', '$3.5 B', '$3.5 B', '$3.5 B', '$3.5 B', '$3.5 B', '$3.5 B', '$3.5 B', '$3.5 B', '$3.5 B', '$3.5 B', '$3.5 B', '$3.5 B', '$3.5 B', '$3.5 B', '$3.5 B', '$3.5 B', '$3.5 B', '$3.5 B', '$3.5 B', '$3.5 B', '$3.4 B', '$3.4 B', '$3.4 B', '$3.4 B', '$3.4 B', '$3.4 B', '$3.4 B', '$3.4 B', '$3.4 B', '$3.4 B', '$3.4 B', '$3.4 B', '$3.4 B', '$3.4 B', '$3.4 B', '$3.4 B', '$3.4 B', '$3.4 B', '$3.4 B', '$3.4 B', '$3.4 B', '$3.4 B', '$3.4 B', '$3.4 B', '$3.4 B', '$3.4 B', '$3.4 B', '$3.4 B', '$3.4 B', '$3.4 B', '$3.4 B', '$3.4 B', '$3.4 B', '$3.4 B', '$3.3 B', '$3.3 B', '$3.3 B', '$3.3 B', '$3.3 B', '$3.3 B', '$3.3 B', '$3.3 B', '$3.3 B', '$3.3 B', '$3.3 B', '$3.3 B', '$3.3 B', '$3.3 B', '$3.3 B', '$3.3 B', '$3.3 B', '$3.3 B', '$3.3 B', '$3.3 B', '$3.3 B', '$3.3 B', '$3.3 B', '$3.3 B', '$3.3 B', '$3.3 B', '$3.3 B', '$3.3 B', '$3.3 B', '$3.3 B', '$3.3 B', '$3.2 B', '$3.2 B', '$3.2 B', '$3.2 B', '$3.2 B', '$3.2 B', '$3.2 B', '$3.2 B', '$3.2 B', '$3.2 B', '$3.2 B', '$3.2 B', '$3.2 B', '$3.2 B', '$3.2 B', '$3.2 B', '$3.2 B', '$3.2 B', '$3.2 B', '$3.2 B', '$3.2 B', '$3.2 B', '$3.2 B', '$3.2 B', '$3.2 B', '$3.2 B', '$3.2 B', '$3.2 B', '$3.2 B', '$3.2 B', '$3.1 B', '$3.1 B', '$3.1 B', '$3.1 B', '$3.1 B', '$3.1 B', '$3.1 B', '$3.1 B', '$3.1 B', '$3.1 B', '$3.1 B', '$3.1 B', '$3.1 B', '$3.1 B', '$3.1 B']\n"
     ]
    }
   ],
   "source": [
    "print(Net)"
   ]
  },
  {
   "cell_type": "code",
   "execution_count": 32,
   "metadata": {},
   "outputs": [
    {
     "data": {
      "text/plain": [
       "200"
      ]
     },
     "execution_count": 32,
     "metadata": {},
     "output_type": "execute_result"
    }
   ],
   "source": [
    "Age = []\n",
    "for i in driver.find_elements_by_xpath(\"//div[@class='age']\"):\n",
    "    try:\n",
    "        Age.append(i.text)\n",
    "    except:\n",
    "        Age.append(\"--\")\n",
    "nxt_8 = driver.find_element_by_xpath(\"//div[@class='next-page']\")\n",
    "nxt_8.click()\n",
    "len(Age)"
   ]
  },
  {
   "cell_type": "code",
   "execution_count": 33,
   "metadata": {},
   "outputs": [
    {
     "data": {
      "text/plain": [
       "400"
      ]
     },
     "execution_count": 33,
     "metadata": {},
     "output_type": "execute_result"
    }
   ],
   "source": [
    "for i in driver.find_elements_by_xpath(\"//div[@class='age']\"):\n",
    "    try:\n",
    "        Age.append(i.text)\n",
    "    except:\n",
    "        Age.append(\"--\")\n",
    "nxt_8 = driver.find_element_by_xpath(\"//div[@class='next-page']\")\n",
    "nxt_8.click()\n",
    "len(Age)"
   ]
  },
  {
   "cell_type": "code",
   "execution_count": 34,
   "metadata": {},
   "outputs": [
    {
     "data": {
      "text/plain": [
       "600"
      ]
     },
     "execution_count": 34,
     "metadata": {},
     "output_type": "execute_result"
    }
   ],
   "source": [
    "for i in driver.find_elements_by_xpath(\"//div[@class='age']\"):\n",
    "    try:\n",
    "        Age.append(i.text)\n",
    "    except:\n",
    "        Age.append(\"--\")\n",
    "nxt_8 = driver.find_element_by_xpath(\"//div[@class='next-page']\")\n",
    "nxt_8.click()\n",
    "len(Age)"
   ]
  },
  {
   "cell_type": "code",
   "execution_count": 35,
   "metadata": {},
   "outputs": [
    {
     "data": {
      "text/plain": [
       "800"
      ]
     },
     "execution_count": 35,
     "metadata": {},
     "output_type": "execute_result"
    }
   ],
   "source": [
    "for i in driver.find_elements_by_xpath(\"//div[@class='age']\"):\n",
    "    try:\n",
    "        Age.append(i.text)\n",
    "    except:\n",
    "        Age.append(\"--\")\n",
    "nxt_8 = driver.find_element_by_xpath(\"//div[@class='next-page']\")\n",
    "nxt_8.click()\n",
    "len(Age)"
   ]
  },
  {
   "cell_type": "code",
   "execution_count": 36,
   "metadata": {},
   "outputs": [
    {
     "data": {
      "text/plain": [
       "1000"
      ]
     },
     "execution_count": 36,
     "metadata": {},
     "output_type": "execute_result"
    }
   ],
   "source": [
    "for i in driver.find_elements_by_xpath(\"//div[@class='age']\"):\n",
    "    try:\n",
    "        Age.append(i.text)\n",
    "    except:\n",
    "        Age.append(\"--\")\n",
    "\n",
    "len(Age)"
   ]
  },
  {
   "cell_type": "code",
   "execution_count": 37,
   "metadata": {},
   "outputs": [
    {
     "name": "stdout",
     "output_type": "stream",
     "text": [
      "['57', '49', '72', '65', '36', '90', '76', '48', '47', '63', '85', '67', '66', '65', '49', '81', '71', '72', '76', '79', '41', '50', '59', '58', '83', '56', '85', '58', '63', '56', '72', '84', '63', 'N/A', '50', '75', '78', '81', '37', '56', '72', '70', '92', '55', '49', '63', '93', '81', '85', '39', '55', '52', '62', '58', '60', '76', '65', '83', '64', '42', '67', '85', '75', '88', '76', '70', '65', '82', '67', '67', '90', '75', '49', '78', '51', '50', '47', '68', '74', '93', '54', '70', '53', '73', '59', '80', '59', '71', '81', '57', '60', '54', '92', '50', '57', '65', '62', '70', '67', '43', '57', '54', '81', '74', '55', '49', '36', '39', '91', '56', '91', '36', '68', '81', '85', '66', '66', '55', '64', '52', '45', '63', '62', '85', '55', '82', '34', '56', '57', '50', '51', '88', 'N/A', '70', '56', '51', '66', '91', '52', '91', '39', '54', '63', '56', '41', '81', '63', '37', '64', '41', '66', '61', '68', '39', '69', '80', '76', '53', 'N/A', '41', '48', '53', '55', '45', '53', '54', '65', '53', '48', '79', '97', 'N/A', '44', '78', '57', '48', '37', '69', '39', '43', '55', '69', '92', '62', '32', '57', '58', '53', '56', '57', '63', '71', '55', '76', '72', '88', '65', '70', '30', '88', '71', '71', '51', '65', 'N/A', '60', '56', '80', '53', '50', '52', '83', '53', '63', '73', '58', '76', '51', '45', '70', '90', '57', '49', '81', '80', '59', '54', '61', '74', '58', '45', '82', '40', '73', '41', '71', '74', '57', '79', '79', '72', '68', '92', '56', '78', '57', '50', '75', '73', '70', '57', '55', 'N/A', '58', '89', 'N/A', '78', '58', '79', '69', '79', '39', '63', '78', '77', '70', '55', '69', 'N/A', '70', '53', '91', '75', '89', '29', '51', '65', '73', '45', '42', '53', '56', '76', '73', '37', 'N/A', '63', '55', '69', '75', '55', '90', '75', '56', 'N/A', '72', '66', '68', '52', '56', '77', '60', '89', '73', '73', '83', '65', '74', '70', '75', '75', '68', '35', '39', '59', '55', '58', '80', '56', '60', '62', '64', '86', '70', '82', '79', '62', '54', '84', '64', '79', '77', '54', '69', '62', '57', '49', '68', '77', '38', '76', '68', '58', '67', '64', '56', '77', '50', '52', '52', '70', '71', '79', '91', '71', '72', '59', '69', '45', '74', '81', '43', '52', 'N/A', '70', 'N/A', '55', '40', '50', 'N/A', '81', '54', '69', '83', '70', '66', '76', '56', '80', '87', '77', '54', '79', '70', '62', '64', '52', '92', '75', '69', '71', '53', '40', '47', 'N/A', '69', '56', '54', '66', '73', '76', '56', '55', '38', '61', '53', '63', '78', '64', '72', '68', '51', '76', '76', '59', '66', '48', '87', '57', '86', '82', '78', '59', '60', '54', '58', '64', '62', '58', '34', '63', '78', '63', '54', '48', '64', '76', '78', '94', '67', '94', 'N/A', '57', '72', '55', '65', '63', '69', '66', '83', '57', '74', '79', '83', '73', '49', '38', '77', '81', '51', '87', '61', '48', '52', '78', '56', '58', '81', '79', '59', '86', '60', '43', '54', '58', '57', '80', '78', '83', '63', '52', '53', '46', 'N/A', '64', '83', '65', '56', '81', '66', '78', '64', '84', '76', '91', '44', '75', '67', '59', '57', 'N/A', '74', '87', '79', '50', '70', '64', '43', '86', '52', '77', '41', '67', '65', '62', '82', '62', '51', '63', '72', '73', '91', '71', '90', '61', '70', '70', '79', '66', 'N/A', '52', '71', '61', '58', '69', '51', '60', '79', '86', '81', '90', '64', '77', '76', '60', '49', '53', '39', '56', '73', '64', '79', '84', '60', '77', '70', '79', 'N/A', '81', '52', '77', '76', '56', '79', '65', '68', '61', '89', '72', '39', '49', '57', '54', '60', '63', '88', '80', '84', '57', '63', '60', '47', '67', '56', '68', '53', '64', '55', '91', '70', '59', '65', '56', '57', '95', '92', '59', '77', '75', '58', '65', '49', '40', '72', '44', 'N/A', '65', '86', '53', '53', '89', '85', '75', '80', '61', '50', '87', '53', '60', '59', '85', '75', '59', 'N/A', '73', '51', '38', '63', '58', '56', '60', '56', '62', '71', '80', '70', '77', '77', '52', '51', '58', '67', '72', '69', '54', '75', '56', '59', '78', '49', '70', '88', '63', '58', '63', '50', '42', '85', '62', '54', '53', '27', '59', '71', '48', '57', '85', '58', '60', '69', '51', '69', '67', '59', '76', '80', '75', '71', '77', '72', '62', '68', '79', '94', '47', '53', '52', '79', '74', '80', '78', '93', '48', '55', '51', '65', 'N/A', '71', '83', '57', '54', '58', '51', '38', '87', '78', '48', '74', '75', '56', '82', '67', '75', '54', '80', '45', '60', '84', '73', '58', '57', '75', '62', '58', '76', '70', '68', '51', 'N/A', '96', '54', '59', '63', '39', '51', '68', '59', '84', '87', '82', '65', '69', '69', '86', '58', '55', '58', 'N/A', '57', '58', '50', '54', '82', '62', '57', '67', '86', '66', '89', '68', '73', '65', '57', '65', '74', '67', '53', '70', '38', 'N/A', '52', '86', '50', '59', '50', '74', '53', '55', '60', '86', '69', '63', '48', '44', '84', '71', 'N/A', '50', '59', 'N/A', '67', '77', '59', '68', '56', '57', '69', '74', '66', '54', '86', '59', '69', '77', '49', '63', '70', '88', '53', '53', '45', '71', '74', '78', '74', '79', 'N/A', '66', '71', '79', '74', '60', '61', '69', '65', '57', '72', '50', '81', '55', '67', 'N/A', '69', '70', '71', '51', '48', '59', '65', '64', '59', '78', '81', '68', '67', '62', '60', '60', '75', '47', '38', '73', '55', '63', '76', '63', '50', '66', '66', '68', '81', '67', '69', '54', '53', '61', '37', '85', '62', '57', '63', '53', '59', '55', '34', '74', '65', '56', '48', '53', '66', '64', '71', '63', 'N/A', '73', '65', '43', '70', '60', '73', '74', '78', '71', '61', '53', '80', '90', '56', '56', '54', '48', '64', '60', '60', '58', '66', '76', '74', '48', '51', '73', '59', '83', '38', '82', '50', '64', '78', '63', '72', '65', '31', '72', '53', '47', '86', '76', '51', '65', '83', '66', '87', '66', '55', '51', '71', '53', '69', '75', '18', '86', '58', '50', '65', '84', '88', 'N/A', '69', '86', '71', '53', '79', '57', '55', '83', '85', '48', '60', '30', '32', '78', '91', 'N/A', '61', '66', '77', '73', '47', '80', '66', '62', '45', '85', '66', '53', '73', '66', '64', '61', '72', '71', '68', '79', '68', '43', '68', '50', '42', '82', '75', '59', '65', '71', '65', '68', '55', '46', '48', '57']\n"
     ]
    }
   ],
   "source": [
    "print(Age)"
   ]
  },
  {
   "cell_type": "code",
   "execution_count": 39,
   "metadata": {},
   "outputs": [
    {
     "data": {
      "text/plain": [
       "200"
      ]
     },
     "execution_count": 39,
     "metadata": {},
     "output_type": "execute_result"
    }
   ],
   "source": [
    "Citizen = []\n",
    "for i in driver.find_elements_by_xpath(\"//div[@class='countryOfCitizenship']\"):\n",
    "    try:\n",
    "        Citizen.append(i.text)\n",
    "    except:\n",
    "        Citizen.append(\"--\")\n",
    "\n",
    "nxt_8 = driver.find_element_by_xpath(\"//div[@class='next-page']\")\n",
    "nxt_8.click()\n",
    "len(Citizen)"
   ]
  },
  {
   "cell_type": "code",
   "execution_count": 40,
   "metadata": {},
   "outputs": [
    {
     "data": {
      "text/plain": [
       "400"
      ]
     },
     "execution_count": 40,
     "metadata": {},
     "output_type": "execute_result"
    }
   ],
   "source": [
    "for i in driver.find_elements_by_xpath(\"//div[@class='countryOfCitizenship']\"):\n",
    "    try:\n",
    "        Citizen.append(i.text)\n",
    "    except:\n",
    "        Citizen.append(\"--\")\n",
    "\n",
    "nxt_8 = driver.find_element_by_xpath(\"//div[@class='next-page']\")\n",
    "nxt_8.click()\n",
    "len(Citizen)"
   ]
  },
  {
   "cell_type": "code",
   "execution_count": 41,
   "metadata": {},
   "outputs": [
    {
     "data": {
      "text/plain": [
       "600"
      ]
     },
     "execution_count": 41,
     "metadata": {},
     "output_type": "execute_result"
    }
   ],
   "source": [
    "for i in driver.find_elements_by_xpath(\"//div[@class='countryOfCitizenship']\"):\n",
    "    try:\n",
    "        Citizen.append(i.text)\n",
    "    except:\n",
    "        Citizen.append(\"--\")\n",
    "\n",
    "nxt_8 = driver.find_element_by_xpath(\"//div[@class='next-page']\")\n",
    "nxt_8.click()\n",
    "len(Citizen)"
   ]
  },
  {
   "cell_type": "code",
   "execution_count": 42,
   "metadata": {},
   "outputs": [
    {
     "data": {
      "text/plain": [
       "800"
      ]
     },
     "execution_count": 42,
     "metadata": {},
     "output_type": "execute_result"
    }
   ],
   "source": [
    "for i in driver.find_elements_by_xpath(\"//div[@class='countryOfCitizenship']\"):\n",
    "    try:\n",
    "        Citizen.append(i.text)\n",
    "    except:\n",
    "        Citizen.append(\"--\")\n",
    "\n",
    "nxt_8 = driver.find_element_by_xpath(\"//div[@class='next-page']\")\n",
    "nxt_8.click()\n",
    "len(Citizen)"
   ]
  },
  {
   "cell_type": "code",
   "execution_count": 43,
   "metadata": {},
   "outputs": [
    {
     "data": {
      "text/plain": [
       "1000"
      ]
     },
     "execution_count": 43,
     "metadata": {},
     "output_type": "execute_result"
    }
   ],
   "source": [
    "for i in driver.find_elements_by_xpath(\"//div[@class='countryOfCitizenship']\"):\n",
    "    try:\n",
    "        Citizen.append(i.text)\n",
    "    except:\n",
    "        Citizen.append(\"--\")\n",
    "\n",
    "len(Citizen)"
   ]
  },
  {
   "cell_type": "code",
   "execution_count": 44,
   "metadata": {},
   "outputs": [
    {
     "name": "stdout",
     "output_type": "stream",
     "text": [
      "['United States', 'United States', 'France', 'United States', 'United States', 'United States', 'United States', 'United States', 'United States', 'India', 'Spain', 'France', 'China', 'United States', 'China', 'Mexico', 'United States', 'United States', 'United States', 'United States', 'China', 'United States', 'United States', 'India', 'United States', 'China', 'United States', 'United States', 'Japan', 'United States', 'Japan', 'France', 'Canada', 'Germany', 'China', 'United States', 'China', 'Germany', 'China', 'Italy', 'France', 'France', 'Hong Kong', 'China', 'China', 'United States', 'Hong Kong', 'United States', 'United States', 'China', 'Russia', 'Hong Kong', 'China', 'Germany', 'Russia', 'Austria', 'China', 'Germany', 'Russia', 'China', 'Mexico', 'Italy', 'Japan', 'United States', 'United States', 'Russia', 'Russia', 'United States', 'China', 'Australia', 'United States', 'India', 'China', 'Chile', 'China', 'Singapore', 'China', 'Russia', 'United States', 'Singapore', 'Germany', 'Singapore', 'United States', 'Sweden', 'United States', 'Indonesia', 'Australia', 'United States', 'Indonesia', 'China', 'China', 'Hong Kong', 'Hong Kong', 'France', 'United States', 'United States', 'China', 'Germany', 'Russia', 'United States', 'China', 'China', 'Thailand', 'Hong Kong', 'China', 'Russia', 'United States', 'China', 'United States', 'Czechia', 'Hong Kong', 'Russia', 'United Kingdom', 'Brazil', 'Germany', 'Netherlands', 'India', 'China', 'United States', 'United States', 'China', 'United States', 'India', 'United States', 'Russia', 'United States', 'United States', 'Russia', 'China', 'China', 'Hong Kong', 'United States', 'United Kingdom', 'India', 'Germany', 'United States', 'China', 'Hong Kong', 'China', 'Ireland', 'Brazil', 'Russia', 'United States', 'Hong Kong', 'Australia', 'United States', 'South Korea', 'China', 'China', 'Australia', 'Sweden', 'Sweden', 'Sweden', 'United States', 'Hong Kong', 'United States', 'Thailand', 'South Korea', 'Singapore', 'China', 'Denmark', 'China', 'China', 'Russia', 'United Kingdom', 'China', 'Mexico', 'India', 'China', 'India', 'Malaysia', 'United States', 'United States', 'China', 'China', 'China', 'United States', 'United States', 'United States', 'Singapore', 'China', 'China', 'United States', 'United States', 'United States', 'France', 'United States', 'Germany', 'China', 'Canada', 'Nigeria', 'Brazil', 'Russia', 'Brazil', 'Russia', 'Australia', 'Russia', 'Israel', 'United States', 'Colombia', 'Germany', 'Germany', 'France', 'India', 'United States', 'Australia', 'China', 'Switzerland', 'China', 'China', 'China', 'United States', 'China', 'India', 'Sweden', 'China', 'Cyprus', 'China', 'United States', 'Hong Kong', 'United States', 'China', 'China', 'United States', 'Germany', 'Russia', 'United States', 'United States', 'Belgium', 'United States', 'United States', 'United States', 'Canada', 'United Kingdom', 'United States', 'India', 'Germany', 'Russia', 'Italy', 'Malaysia', 'United States', 'United States', 'Canada', 'China', 'United States', 'Hong Kong', 'China', 'United States', 'United States', 'United States', 'China', 'South Korea', 'United Kingdom', 'United States', 'Mexico', 'Hong Kong', 'Italy', 'China', 'Germany', 'United States', 'United States', 'Switzerland', 'Russia', 'United States', 'Germany', 'United States', 'Thailand', 'China', 'Hong Kong', 'Canada', 'France', 'Germany', 'China', 'India', 'United States', 'China', 'New Zealand', 'Denmark', 'Denmark', 'Denmark', 'United States', 'China', 'Japan', 'Brazil', 'Denmark', 'Canada', 'China', 'Switzerland', 'United States', 'India', 'Russia', 'United States', 'China', 'United States', 'India', 'United States', 'United States', 'United States', 'South Korea', 'Canada', 'Germany', 'Egypt', 'India', 'United States', 'Denmark', 'France', 'Germany', 'United States', 'United States', 'South Africa', 'United Kingdom', 'United States', 'Russia', 'Russia', 'Japan', 'China', 'Russia', 'United States', 'United States', 'United States', 'United States', 'United States', 'Italy', 'Sweden', 'United Kingdom', 'United Kingdom', 'Russia', 'Ukraine', 'Italy', 'Ireland', 'United States', 'United States', 'China', 'United States', 'China', 'Hong Kong', 'Hong Kong', 'United States', 'Sweden', 'United States', 'United States', 'Greece', 'China', 'France', 'France', 'France', 'United States', 'China', 'Spain', 'Vietnam', 'United States', 'United States', 'Hong Kong', 'United States', 'Philippines', 'United States', 'China', 'Sweden', 'Switzerland', 'Austria', 'United States', 'China', 'Switzerland', 'United States', 'South Africa', 'Brazil', 'United States', 'Singapore', 'Russia', 'India', 'Mexico', 'Brazil', 'France', 'Sweden', 'Taiwan', 'United States', 'United States', 'Germany', 'United States', 'United States', 'United States', 'China', 'United States', 'India', 'Canada', 'Hong Kong', 'China', 'Singapore', 'Germany', 'Germany', 'United States', 'France', 'France', 'South Korea', 'China', 'Sweden', 'Japan', 'Russia', 'United States', 'Hong Kong', 'United States', 'China', 'China', 'United States', 'China', 'United Kingdom', 'India', 'United States', 'Finland', 'China', 'Indonesia', 'United States', 'Indonesia', 'Germany', 'United States', 'United States', 'Austria', 'United States', 'China', 'United States', 'India', 'India', 'Norway', 'Russia', 'Germany', 'China', 'Taiwan', 'Turkey', 'China', 'China', 'China', 'United States', 'United States', 'China', 'China', 'United States', 'United States', 'United States', 'Israel', 'Nigeria', 'United States', 'Argentina', 'China', 'Hong Kong', 'Hong Kong', 'Israel', 'China', 'Norway', 'United States', 'United States', 'United States', 'Germany', 'United States', 'South Korea', 'Brazil', 'Romania', 'United States', 'United States', 'Germany', 'United States', 'Netherlands', 'Russia', 'United States', 'Sweden', 'United States', 'United States', 'United States', 'United States', 'United States', 'United States', 'Switzerland', 'China', 'China', 'United Kingdom', 'China', 'Mexico', 'China', 'United States', 'Malaysia', 'United States', 'China', 'Hong Kong', 'China', 'Italy', 'United States', 'United States', 'United Kingdom', 'United States', 'France', 'United States', 'France', 'United Kingdom', 'Canada', 'United States', 'Malaysia', 'Austria', 'United States', 'United States', 'United States', 'China', 'Singapore', 'United Kingdom', 'India', 'United States', 'China', 'United States', 'Switzerland', 'China', 'Thailand', 'Czechia', 'United States', 'China', 'United States', 'United States', 'Norway', 'United States', 'Germany', 'Singapore', 'Liechtenstein', 'China', 'Germany', 'Thailand', 'Brazil', 'Thailand', 'United States', 'United States', 'France', 'United States', 'Russia', 'India', 'China', 'Taiwan', 'Peru', 'China', 'Brazil', 'China', 'China', 'United States', 'United States', 'Italy', 'Australia', 'United States', 'Japan', 'United States', 'China', 'Israel', 'China', 'Colombia', 'Hong Kong', 'United States', 'Taiwan', 'India', 'Italy', 'United States', 'Germany', 'Germany', 'Hong Kong', 'Malaysia', 'Germany', 'China', 'Germany', 'Singapore', 'United States', 'India', 'China', 'India', 'Philippines', 'United States', 'United States', 'China', 'United States', 'United States', 'United States', 'United States', 'China', 'United States', 'France', 'United Kingdom', 'China', 'United States', 'Nigeria', 'Canada', 'United States', 'Japan', 'United States', 'United States', 'Canada', 'China', 'France', 'United Kingdom', 'Hong Kong', 'Georgia', 'United States', 'United States', 'United States', 'Taiwan', 'Israel', 'Algeria', 'Switzerland', 'Indonesia', 'United States', 'Czechia', 'China', 'China', 'China', 'Australia', 'India', 'Portugal', 'Switzerland', 'China', 'Eswatini (Swaziland)', 'United States', 'Switzerland', 'United States', 'United States', 'United States', 'Hong Kong', 'Russia', 'United States', 'China', 'China', 'Italy', 'United States', 'France', 'Malaysia', 'China', 'Sweden', 'United States', 'Brazil', 'United States', 'Kazakhstan', 'China', 'Ireland', 'Italy', 'United States', 'India', 'Germany', 'United States', 'Brazil', 'United States', 'China', 'Russia', 'United States', 'Germany', 'Hong Kong', 'Switzerland', 'China', 'United States', 'United States', 'Russia', 'United States', 'United States', 'United States', 'China', 'Israel', 'United States', 'Canada', 'United States', 'United States', 'Cyprus', 'Turkey', 'Norway', 'China', 'China', 'France', 'Germany', 'United States', 'Hong Kong', 'India', 'China', 'United States', 'Hong Kong', 'India', 'United States', 'United States', 'Australia', 'United States', 'Japan', 'Hong Kong', 'Canada', 'United States', 'United States', 'United States', 'Germany', 'China', 'China', 'Italy', 'United States', 'United Kingdom', 'Sweden', 'United States', 'Canada', 'Hong Kong', 'China', 'China', 'China', 'China', 'Spain', 'United States', 'Switzerland', 'China', 'United States', 'China', 'China', 'United States', 'United States', 'United States', 'Hong Kong', 'Italy', 'United States', 'United Kingdom', 'Switzerland', 'South Korea', 'China', 'United States', 'Czechia', 'United States', 'United States', 'United States', 'United States', 'Germany', 'Chile', 'United States', 'South Korea', 'China', 'Taiwan', 'Germany', 'China', 'India', 'Japan', 'Russia', 'Malaysia', 'United States', 'China', 'China', 'India', 'United States', 'Japan', 'Germany', 'Japan', 'India', 'China', 'United States', 'United States', 'United States', 'Germany', 'Poland', 'Germany', 'Hong Kong', 'China', 'China', 'China', 'Colombia', 'Spain', 'China', 'United States', 'Germany', 'United States', 'United States', 'China', 'Malaysia', 'United States', 'France', 'Japan', 'Sweden', 'United States', 'Sweden', 'United States', 'United States', 'Germany', 'China', 'China', 'China', 'China', 'South Korea', 'United States', 'Russia', 'Russia', 'China', 'Australia', 'China', 'Colombia', 'Russia', 'United States', 'United States', 'Singapore', 'China', 'United States', 'Germany', 'Germany', 'Australia', 'India', 'China', 'Germany', 'Germany', 'Germany', 'Germany', 'Germany', 'Israel', 'China', 'United States', 'Norway', 'United States', 'India', 'China', 'China', 'Canada', 'United States', 'China', 'China', 'China', 'United States', 'United States', 'United States', 'Brazil', 'United States', 'Italy', 'United States', 'United States', 'Germany', 'United States', 'United States', 'United States', 'United States', 'United States', 'United States', 'United States', 'United States', 'United States', 'China', 'India', 'United Arab Emirates', 'Russia', 'United States', 'United States', 'Hong Kong', 'United States', 'China', 'United States', 'United States', 'Canada', 'United States', 'Hong Kong', 'China', 'United States', 'United States', 'United States', 'United States', 'United States', 'United States', 'United States', 'Poland', 'Austria', 'Taiwan', 'United States', 'China', 'Canada', 'China', 'Czechia', 'India', 'Germany', 'Thailand', 'United States', 'United States', 'Russia', 'Italy', 'Brazil', 'United States', 'United States', 'China', 'Malaysia', 'China', 'United States', 'United States', 'Canada', 'India', 'United States', 'United States', 'United States', 'Netherlands', 'United States', 'Australia', 'United States', 'India', 'Germany', 'United States', 'China', 'China', 'United States', 'China', 'France', 'United States', 'Italy', 'United States', 'United States', 'China', 'Italy', 'United Kingdom', 'Russia', 'Australia', 'Russia', 'Russia', 'United States', 'United States', 'Hong Kong', 'Switzerland', 'United States', 'Israel', 'United States', 'Russia', 'China', 'United States', 'Italy', 'United States', 'United States', 'United States', 'China', 'Taiwan', 'Hong Kong', 'Kazakhstan', 'United States', 'United States', 'China', 'Russia', 'Thailand', 'United States', 'United States', 'Argentina', 'China', 'United States', 'France', 'India', 'United States', 'India', 'Russia', 'Kazakhstan', 'United States', 'Taiwan', 'Russia', 'United States', 'Germany', 'Chile', 'United States', 'China', 'Italy', 'United Kingdom', 'United States', 'Germany', 'Indonesia', 'Philippines', 'Sweden', 'China', 'Switzerland', 'United States', 'China', 'Italy', 'Italy', 'Poland', 'South Korea', 'Ireland', 'Ireland', 'Australia', 'United States', 'Japan', 'Venezuela', 'Canada', 'United States', 'Germany', 'China', 'Austria', 'China', 'United States', 'Georgia', 'Hong Kong', 'Switzerland', 'Australia', 'United States', 'Egypt', 'Poland', 'Canada', 'Hong Kong', 'Taiwan', 'Taiwan', 'United States', 'China', 'Germany', 'United Kingdom', 'China', 'Brazil', 'Mexico', 'Switzerland', 'United States', 'United States', 'China', 'United States', 'Macao', 'China', 'Russia', 'China', 'China']\n"
     ]
    }
   ],
   "source": [
    "print(Citizen)"
   ]
  },
  {
   "cell_type": "code",
   "execution_count": 45,
   "metadata": {},
   "outputs": [
    {
     "data": {
      "text/plain": [
       "200"
      ]
     },
     "execution_count": 45,
     "metadata": {},
     "output_type": "execute_result"
    }
   ],
   "source": [
    "source = []\n",
    "for i in driver.find_elements_by_xpath(\"//div[@class='source']\"):\n",
    "    try:\n",
    "        source.append(i.text)\n",
    "    except:\n",
    "        source.append(\"--\")\n",
    "\n",
    "nxt_8 = driver.find_element_by_xpath(\"//div[@class='next-page']\")\n",
    "nxt_8.click()\n",
    "len(source)"
   ]
  },
  {
   "cell_type": "code",
   "execution_count": 46,
   "metadata": {},
   "outputs": [
    {
     "data": {
      "text/plain": [
       "400"
      ]
     },
     "execution_count": 46,
     "metadata": {},
     "output_type": "execute_result"
    }
   ],
   "source": [
    "for i in driver.find_elements_by_xpath(\"//div[@class='source']\"):\n",
    "    try:\n",
    "        source.append(i.text)\n",
    "    except:\n",
    "        source.append(\"--\")\n",
    "\n",
    "nxt_8 = driver.find_element_by_xpath(\"//div[@class='next-page']\")\n",
    "nxt_8.click()\n",
    "len(source)"
   ]
  },
  {
   "cell_type": "code",
   "execution_count": 47,
   "metadata": {},
   "outputs": [
    {
     "data": {
      "text/plain": [
       "600"
      ]
     },
     "execution_count": 47,
     "metadata": {},
     "output_type": "execute_result"
    }
   ],
   "source": [
    "for i in driver.find_elements_by_xpath(\"//div[@class='source']\"):\n",
    "    try:\n",
    "        source.append(i.text)\n",
    "    except:\n",
    "        source.append(\"--\")\n",
    "\n",
    "nxt_8 = driver.find_element_by_xpath(\"//div[@class='next-page']\")\n",
    "nxt_8.click()\n",
    "len(source)"
   ]
  },
  {
   "cell_type": "code",
   "execution_count": 48,
   "metadata": {},
   "outputs": [
    {
     "data": {
      "text/plain": [
       "800"
      ]
     },
     "execution_count": 48,
     "metadata": {},
     "output_type": "execute_result"
    }
   ],
   "source": [
    "for i in driver.find_elements_by_xpath(\"//div[@class='source']\"):\n",
    "    try:\n",
    "        source.append(i.text)\n",
    "    except:\n",
    "        source.append(\"--\")\n",
    "\n",
    "nxt_8 = driver.find_element_by_xpath(\"//div[@class='next-page']\")\n",
    "nxt_8.click()\n",
    "len(source)"
   ]
  },
  {
   "cell_type": "code",
   "execution_count": 49,
   "metadata": {},
   "outputs": [
    {
     "data": {
      "text/plain": [
       "1000"
      ]
     },
     "execution_count": 49,
     "metadata": {},
     "output_type": "execute_result"
    }
   ],
   "source": [
    "for i in driver.find_elements_by_xpath(\"//div[@class='source']\"):\n",
    "    try:\n",
    "        source.append(i.text)\n",
    "    except:\n",
    "        source.append(\"--\")\n",
    "\n",
    "\n",
    "len(source)"
   ]
  },
  {
   "cell_type": "code",
   "execution_count": 50,
   "metadata": {},
   "outputs": [
    {
     "name": "stdout",
     "output_type": "stream",
     "text": [
      "['Amazon', 'Tesla, SpaceX', 'LVMH', 'Microsoft', 'Facebook', 'Berkshire Hathaway', 'software', 'Google', 'Google', 'diversified', 'Zara', \"L'Oréal\", 'beverages, pharmaceuticals', 'Microsoft', 'internet media', 'telecom', 'Walmart', 'Walmart', 'Walmart', 'Bloomberg LP', 'e-commerce', 'Amazon', 'Quicken Loans', 'infrastructure, commodities', 'Nike', 'e-commerce', 'Koch Industries', 'Koch Industries', 'internet, telecom', 'Dell computers', 'fashion retail', 'luxury goods', 'media', 'supermarkets', 'package delivery', 'casinos', 'home appliances', 'retail', 'TikTok', 'Nutella, chocolates', 'Chanel', 'Chanel', 'diversified', 'pig breeding', 'online games', 'music, chemicals', 'real estate', 'candy, pet food', 'candy, pet food', 'real estate', 'steel, investments', 'batteries', 'real estate', 'BMW, pharmaceuticals', 'metals', 'Red Bull', 'soy sauce', 'shipping', 'steel, transport', 'e-commerce', 'mining', 'eyeglasses', 'sensors', 'Estee Lauder', 'discount brokerage', 'oil', 'gas, chemicals', 'hedge funds', 'vaccines', 'mining', 'newspapers, TV network', 'software services', 'internet media', 'mining', 'smartphones', 'restaurants', 'e-commerce', 'oil, gas', 'investments', 'paints', 'BMW', 'medical devices', 'eBay, PayPal', 'H&M', 'money management', 'banking, tobacco', 'mining', 'hedge funds', 'banking, tobacco', 'automobiles', 'pharmaceuticals', 'medical devices', 'casinos/hotels', 'cheese', 'Apple, Disney', 'Google', 'pharmaceuticals', \"Aldi, Trader Joe's\", 'steel, telecom, investments', 'wireless networking gear', 'real estate', 'petrochemicals', 'diversified', 'real estate', 'hospitals', 'coal, fertilizers', 'Facebook', 'video streaming', 'media', 'finance, telecommunications', 'food', 'messaging app', 'chemicals', 'beer', 'fasteners', 'Heineken', 'retail, investments', 'batteries, automobiles', 'hedge funds', 'hedge funds', 'e-cigarettes', 'used cars', 'banking', 'investments', 'investments', 'hospitals', 'Walmart', 'oil, banking, telecom', 'automobiles', 'real estate services', 'smartphone screens', 'real estate', 'diversified', 'steel', 'auto parts', 'video conferencing', 'real estate', 'real estate', 'internet search', 'construction', 'Facebook', 'steel, investments', 'hedge funds', 'video surveillance', 'software', 'home improvement stores', 'biotech', 'video streaming app', 'construction equipment', 'software', 'packaging', 'packaging', 'packaging', 'Airbnb', 'real estate', 'business software', 'alcohol, real estate', 'online games', 'real estate', 'education', 'fashion retail', 'mining, copper products', 'hydraulic machinery', 'ecommerce', 'hedge funds', 'batteries', 'retail, media', 'commodities', 'coal', 'vaccines', 'palm oil, shipping, property', 'supermarkets', 'Twitter, Square', 'education', 'textiles, apparel', 'e-commerce', 'Airbnb', 'venture capital', 'Airbnb', 'gaming', 'semiconductors', 'agribusiness', 'Intel', 'trading, investments', 'Snapchat', 'telecom', 'semiconductors', 'real estate', 'pharmaceuticals', 'e-commerce', 'cement, sugar', 'beer', 'investments', 'hospitals', 'steel', 'real estate', 'oil', 'real estate, shipping', 'Snapchat', 'banking', 'pharmaceuticals', 'pharmaceuticals', 'shipping', 'pharmaceuticals', 'retail & gas stations', 'manufacturing', 'electronics components', 'Shipping', 'electronics components', 'chemicals', 'infant formula', 'discount brokerage', 'solar wafers and modules', 'telecom', 'investments', 'real estate', 'shipping', 'financial information', 'investments', 'real estate', 'money management', 'agribusiness', 'education', 'investments', 'software', 'oil, banking, telecom', 'pharmaceutical ingredients', 'security software', 'investments', 'medical devices', 'WhatsApp', 'plumbing fixtures', 'e-commerce', 'vacuums', 'mortgage lender\\n★', 'steel', 'manufacturing', 'mining, metals, machinery', 'drugstores', 'banking, property', 'hedge funds', 'satellite TV', 'diversified', 'furniture', 'movies, record labels', 'electronics', 'sports apparel', 'oil & gas', 'media, automotive', 'media, automotive', 'sports apparel', 'online services', 'real estate', 'real estate', 'mining', 'smartphone screens', 'pharmaceuticals', 'automobiles, batteries', 'pharmaceuticals', 'computer hardware', 'computer hardware', 'fintech', 'metals, energy', 'Dallas Cowboys', 'retail, real estate', 'manufacturing', 'energy', 'pharmaceuticals', 'real estate', 'Google', 'internet, telecom', 'investments', 'beverages', 'cement', 'cryptocurrency', 'soy sauce', 'investments', 'Lego', 'Lego', 'Lego', 'smartphones', 'lithium batteries', 'motors', 'beer', 'Lego', 'alcoholic beverages', 'snacks, beverages', 'biotech, investments', 'private equity', 'software services', 'steel', 'hedge funds', 'aluminum products', 'business software', 'paints', 'Walmart', 'Chick-fil-A', 'Chick-fil-A', 'Samsung', 'consumer goods', 'software', 'construction, investments', 'real estate', 'sports, real estate', 'medical devices', 'pharmaceuticals', 'Google', 'roofing', 'auto parts', 'diamonds', 'construction equipment', 'banks, real estate', 'online games', 'online games', 'personal care goods', 'real estate', 'oil, banking, telecom', 'cable television', 'candy, pet food', 'candy, pet food', 'candy, pet food', 'candy, pet food', 'luxury goods', 'health care', 'investments, real estate', 'real estate, investments', 'steel, mining', 'steel, coal', 'media', 'private equity', 'retail', 'private equity', 'biotech', 'Walmart', 'batteries', 'power strips', 'power strip', 'pharmaceuticals', 'diversified', 'used cars', 'Star Wars', 'banking', 'appliance retailer', 'diversified', 'diversified', 'diversified', 'private equity', 'package delivery', 'Zara', 'diversified', 'hedge funds', 'telecom', 'hotels, energy', 'Home Depot', 'real estate', 'Walmart', 'real estate', 'investments', 'chemicals', 'gambling', 'apparel', 'financial services', 'chemicals', 'agriculture, water', 'luxury goods', 'banking', 'Roku', 'gaming', 'metals', 'diversified', 'tequila', 'investments', 'investments', 'investments', 'electronics', 'hedge funds', 'pipelines', 'pharmaceuticals', 'real estate', 'investments', 'New Balance', 'conglomerate', 'New England Patriots', 'pharmaceuticals', 'real estate', 'consumer products', 'restaurants', 'banking', 'poultry genetics', 'wind turbines', 'Carnival Cruises', 'cheese', 'cheese', 'online games', 'restaurants', 'real estate, investments', 'online retail', 'fertilizer', 'medical devices', 'real estate', 'hedge funds', 'business software', 'smartphone components', 'cryptocurrency', 'real estate', 'online gambling', 'retail, investments', 'software', 'elevators, escalators', 'diversified', 'petrochemicals', 'hedge funds', 'petrochemicals', 'manufacturing', 'hedge funds', 'medical equipment', 'real estate, construction', 'Cargill', 'natural gas distribution', 'construction, mining', 'diversified', 'paints', 'hedge funds', 'metals', 'candy', 'online games, investments', 'food, beverages', 'food', 'liquor', 'toys', 'chemicals, spandex', 'Home Depot', 'media, automotive', 'acoustic components', 'advertising', 'manufacturing, investments', 'media, automotive', 'media, automotive', 'metalworking tools', 'telecom, oil', 'cable television', 'e-commerce', 'imaging systems', 'real estate', 'real estate', 'drilling, shipping', 'home-cleaning robots', 'retail, real estate', 'semiconductors', 'retail', 'pipelines', 'auto parts', 'Software', 'Hyundai', 'hospitals, health care', 'software', 'pipelines', 'health IT', 'optometry', 'pipelines', 'temp agency', 'fertilizers', 'Estée Lauder', 'Spotify', 'Marvel comics', 'eBay', 'private equity', 'real estate', 'furniture', 'pipelines', 'medical devices', 'investments', 'online entertainment', 'hedge funds', 'solar panel components', 'beer, investments', 'real estate', 'oil & gas, banking', 'telecoms, media, oil-services', 'venture capital', 'renewable energy', 'batteries', 'electric vehicles', 'candy', 'eBay', 'real estate', 'chemicals', 'private equity', 'sporting goods', 'venture capital', 'Hermes', 'chemicals', 'cheese', 'FedEx', 'banking', 'real estate, retail', 'mapping software', 'hedge funds', 'self storage', 'biomedical products', 'Real Estate', 'record label', 'pharmaceuticals', 'Dolby Laboratories', 'pharmaceuticals', 'money management', 'mining', 'electric vehicles', 'diversified', 'oil and gas, IT, lotteries', 'Estee Lauder', 'e-commerce', 'food distribution', 'food distribution', 'shipping, seafood', 'real estate', 'real estate', 'restaurants', 'dental implants', 'pharmaceuticals', 'auto parts', 'diversified', 'fertilizer', 'diversified', 'semiconductors', 'natural gas', 'oil', 'agriculture', 'oil, banking, telecom', 'airlines', 'photovoltaic equipment', 'electronics', 'finance', 'retail', 'retail chain', 'conglomerate', 'mining', 'real estate, private equity', 'medical equipment', 'coffee makers', 'shopping malls', 'investment research', 'home furnishings', 'pest control', 'glass', 'gambling software', 'venture capital', 'fintech', 'furniture', 'oil, investments', 'electronics', 'paints', 'biotech', 'Netflix', 'coffee', 'coffee', 'paper', 'palm oil, property', 'dairy', 'pharmaceuticals', 'hospitals', 'electronics', 'private equity', 'motorcycles', 'electronics', 'pharmaceuticals', 'ports', 'utilities, telecom', 'Microsoft', 'e-cigarettes', 'investments', 'investments', 'investments', 'staffing, Baltimore Ravens', 'insurance', 'money management', 'finance', 'investments', 'investments', 'hotels, investments', 'cement, sugar', 'online gambling', 'Starbucks', 'mobile phone retailer', 'business software', 'Facebook', 'Lululemon', 'touch screens', 'food services', 'Virgin', 'car dealerships', 'investments', 'money management', 'money management', 'real estate', 'petrochemicals', 'tech investments', 'food', 'cement', 'diversified', 'software', 'real estate', 'drones', 'tires', 'education', 'retailing', 'retail', 'energy, investments', 'biotech', 'paint', 'retail, real estate', 'investments', 'kitchen appliances', 'Best Buy', 'hardware stores', 'video games', 'real estate', 'banking', 'finance', 'building materials', 'auto parts', 'luxury goods', 'vodka', 'construction, media', 'casinos, property, energy', 'medical devices', 'Spotify', 'Houston Rockets, entertainment', 'mobile payments', 'software', 'mining', 'construction materials', 'telecom', 'luxury goods', 'frozen foods', 'paints', 'chicken processing', 'money management', 'banking', 'investments', 'pharmaceuticals', 'fertilizer, real estate', 'navigation equipment', 'fashion retail', 'telecom', 'medical devices', 'textiles, petrochemicals', 'private equity', 'real estate', 'banking', 'hotels, investments', 'hedge funds', 'private equity', 'pharmaceuticals', 'Carnival Cruises', 'private equity', 'Uber', 'beverages', 'online media, Dallas Mavericks', 'real estate', 'construction', 'fish farming', 'education', 'valves', 'biotech', 'internet service provider', 'insurance', 'casinos', 'investments', 'glass', 'Groupon', 'real estate', 'motorcycles', 'finance', 'hedge funds', 'construction equipment, media', 'aircraft leasing', 'retail', 'pharmaceuticals', 'retail', 'real estate', 'software', 'online media', 'pharmaceuticals, medical equipment', 'steel', 'surveillance equipment', 'spirits', 'payroll services', 'financial services', 'education', 'oil, real estate', 'diversified', 'e-commerce', 'healthcare', 'medical equipment', 'chemicals', 'soy sauce', 'supermarkets', 'real estate', 'dental implants', 'electrical equipment', 'cybersecurity', 'agribusiness', 'electronics', 'computer services, real estate', 'private equity', 'software', 'auto parts', 'automobiles', 'Toyota dealerships', 'diamond jewelry', 'software, investments', 'Samsung', 'hotels, motels', 'money management', 'energy, investments', 'Estee Lauder', 'energy, sports', 'sporting goods retail', 'videogames', 'real estate', 'fertilizer', 'medical equipment', 'cosmetics', 'pharmaceuticals', 'retail', 'investing', 'chemicals', 'electrical equipment', 'retail', 'tobacco distribution, retail', 'aluminum', 'packaging', 'electric vehicles', 'internet search', 'biopharmaceuticals', 'Cargill', 'real estate', 'software', 'software', 'pharmaceuticals', 'fashion retail', 'oil & gas', 'investments', 'private equity', 'biotechnology', 'investments', 'software', 'auto parts', 'pharmaceuticals', 'security software', 'furniture retailing', 'beer', 'construction', 'vaccines', 'airline', 'gambling', 'real estate, investments', 'trucking', 'solar energy', 'synthetic gloves', 'hedge funds', 'laboratory services', 'shoes', 'diversified', 'hotels, investments', 'real estate', 'U-Haul', 'Pinterest', 'heating and cooling equipment', 'furniture retailing', 'bakery chain', 'software', 'supermarkets', 'Hyundai', 'private equity', 'aluminum, utilities', 'computer software', 'copper, education', 'shopping malls', 'apparel', 'banking', 'real estate', 'online advertising', 'cable television', 'palm oil', 'soy sauce', 'cosmetics', 'prosthetics', 'retail, real estate', 'mining', 'consumer goods', 'hand tools', 'consumer goods', 'consumer goods', 'consumer goods', 'consumer goods', 'drugstores', 'telecom', 'machinery', 'real estate', 'real estate', 'beverages', 'consumer goods', 'commodities', 'solar panel materials', 'homebuilding', 'Little Caesars', 'real estate', 'lithium', 'education', 'Campbell Soup', 'investments', 'leveraged buyouts', 'hospitals, health insurance', 'TD Ameritrade', 'pipe manufacturing', 'Facebook', 'private equity', 'auto parts', 'movies', 'private equity', 'venture capital', 'IT provider', 'electronic trading', 'furniture', 'retail', 'energy drinks', 'investments', 'construction, mining machinery', 'mining, metals', 'real estate, retail', 'venture capital', 'Cargill', 'Cargill', 'flavorings', 'online retail', 'pharmaceuticals', 'cleaning products', 'cleaning products', 'pharmacies', 'investments', 'real estate', 'paper & related products', 'Cargill', 'cleaning products', 'hedge funds', 'hotels, investments', 'discount brokerage', 'online retail', 'In-N-Out Burger', 'pharmaceuticals', 'batteries, investments', 'finance', 'real estate, plush toys', 'shipping', 'pharmaceuticals', 'oil, banking', 'agriculture', 'diversified', 'publishing', 'motorcycle loans', 'real estate', 'Yahoo', 'retail', 'spirits', 'retailing', 'book distribution, transportation', 'cleaning products', 'auto dealerships', 'rubber gloves', 'flavorings', 'hedge funds', 'mobile payments', 'grocery delivery service', 'software services', 'hedge funds', 'hotels, investments', 'online retail', 'payments software', 'Bloomberg LP', 'auto parts', 'U-Haul', 'pharmaceuticals', 'brakes', 'software', 'wine', 'retail', 'San Francisco 49ers', 'fashion retail', 'scaffolding, cement mixers', 'pro sports teams', 'cement, diversified', 'private equity', 'staffing & recruiting', 'flavorings', 'financial services', 'Formula One', 'mining, steel', 'manufacturing', 'real estate', 'pharmaceuticals', 'investments', 'cryptocurrency', 'casinos', 'commodities', 'tobacco', 'movie making', 'billboards, Anaheim Angels', 'real estate', 'electronics', 'real estate', 'winter jackets', 'insurance', 'electric vehicles', 'oil & gas, investments', 'online apparel retail', 'finance', 'shipping', 'mining, banking, hotels', 'nutrition, wellness products', 'pipelines', 'Internet', 'telecom, investments', 'renewable energy', 'hedge funds', 'defense', 'oil & gas', 'electric scooters', 'hedge funds', 'aviation', 'software services', 'self storage', 'soft drinks, fast food', 'real estate', 'fintech', 'beer', 'financial services', 'banking, insurance, media', 'real estate', 'drugstores', 'retail', 'hotels, investments', 'software', 'fashion', 'sports apparel', 'banking, real estate', 'ticketing service', 'diversified', 'diversified', 'H&M', 'real estate', 'flavorings', 'chewing gum', 'real estate', 'fashion retail, investments', 'fashion retail, investments', 'supermarkets', 'oil, semiconductor', 'payments software', 'payment software', 'fast food', 'timberland, lumber mills', 'videogames', 'banking', 'real estate', 'auto loans', 'engineering', 'software', 'retail', 'pharmaceuticals', 'IT provider', 'fintech', 'energy', 'Pharmaceuticals', 'casinos', 'software', 'telecom', 'TV broadcasting', 'fashion investments', 'real estate', 'finance', 'finance', 'casinos, hotels', 'real estate', 'medical technology', 'mobile phones', 'software', 'medical labs', 'chemicals', 'investments', 'Gap', 'real estate', 'furniture', 'pharmaceuticals', 'real estate', 'pharmaceuticals', 'retail', 'hair dryers', 'software']\n"
     ]
    }
   ],
   "source": [
    "print(source)"
   ]
  },
  {
   "cell_type": "code",
   "execution_count": 55,
   "metadata": {},
   "outputs": [
    {
     "data": {
      "text/plain": [
       "200"
      ]
     },
     "execution_count": 55,
     "metadata": {},
     "output_type": "execute_result"
    }
   ],
   "source": [
    "industry = []\n",
    "for i in driver.find_elements_by_xpath(\"//div[@class='category']\"):\n",
    "    try:\n",
    "        industry.append(i.text)\n",
    "    except:\n",
    "        industry.append(\"--\")\n",
    "\n",
    "nxt_8 = driver.find_element_by_xpath(\"//div[@class='next-page']\")\n",
    "nxt_8.click()\n",
    "len(industry)"
   ]
  },
  {
   "cell_type": "code",
   "execution_count": 56,
   "metadata": {},
   "outputs": [
    {
     "data": {
      "text/plain": [
       "400"
      ]
     },
     "execution_count": 56,
     "metadata": {},
     "output_type": "execute_result"
    }
   ],
   "source": [
    "for i in driver.find_elements_by_xpath(\"//div[@class='category']\"):\n",
    "    try:\n",
    "        industry.append(i.text)\n",
    "    except:\n",
    "        industry.append(\"--\")\n",
    "\n",
    "nxt_8 = driver.find_element_by_xpath(\"//div[@class='next-page']\")\n",
    "nxt_8.click()\n",
    "len(industry)"
   ]
  },
  {
   "cell_type": "code",
   "execution_count": 57,
   "metadata": {},
   "outputs": [
    {
     "data": {
      "text/plain": [
       "600"
      ]
     },
     "execution_count": 57,
     "metadata": {},
     "output_type": "execute_result"
    }
   ],
   "source": [
    "for i in driver.find_elements_by_xpath(\"//div[@class='category']\"):\n",
    "    try:\n",
    "        industry.append(i.text)\n",
    "    except:\n",
    "        industry.append(\"--\")\n",
    "\n",
    "nxt_8 = driver.find_element_by_xpath(\"//div[@class='next-page']\")\n",
    "nxt_8.click()\n",
    "len(industry)"
   ]
  },
  {
   "cell_type": "code",
   "execution_count": 58,
   "metadata": {},
   "outputs": [
    {
     "data": {
      "text/plain": [
       "800"
      ]
     },
     "execution_count": 58,
     "metadata": {},
     "output_type": "execute_result"
    }
   ],
   "source": [
    "for i in driver.find_elements_by_xpath(\"//div[@class='category']\"):\n",
    "    try:\n",
    "        industry.append(i.text)\n",
    "    except:\n",
    "        industry.append(\"--\")\n",
    "\n",
    "nxt_8 = driver.find_element_by_xpath(\"//div[@class='next-page']\")\n",
    "nxt_8.click()\n",
    "len(industry)"
   ]
  },
  {
   "cell_type": "code",
   "execution_count": 59,
   "metadata": {},
   "outputs": [
    {
     "data": {
      "text/plain": [
       "1000"
      ]
     },
     "execution_count": 59,
     "metadata": {},
     "output_type": "execute_result"
    }
   ],
   "source": [
    "for i in driver.find_elements_by_xpath(\"//div[@class='category']\"):\n",
    "    try:\n",
    "        industry.append(i.text)\n",
    "    except:\n",
    "        industry.append(\"--\")\n",
    "\n",
    "len(industry)"
   ]
  },
  {
   "cell_type": "code",
   "execution_count": 60,
   "metadata": {},
   "outputs": [
    {
     "name": "stdout",
     "output_type": "stream",
     "text": [
      "['Technology', 'Automotive', 'Fashion & Retail', 'Technology', 'Technology', 'Finance & Investments', 'Technology', 'Technology', 'Technology', 'Diversified', 'Fashion & Retail', 'Fashion & Retail', 'Food & Beverage', 'Technology', 'Technology', 'Telecom', 'Fashion & Retail', 'Fashion & Retail', 'Fashion & Retail', 'Media & Entertainment', 'Technology', 'Technology', 'Finance & Investments', 'Diversified', 'Fashion & Retail', 'Technology', 'Diversified', 'Diversified', 'Telecom', 'Technology', 'Fashion & Retail', 'Fashion & Retail', 'Media & Entertainment', 'Fashion & Retail', 'Service', 'Gambling & Casinos', 'Manufacturing', 'Fashion & Retail', 'Technology', 'Food & Beverage', 'Fashion & Retail', 'Fashion & Retail', 'Diversified', 'Food & Beverage', 'Technology', 'Diversified', 'Real Estate', 'Food & Beverage', 'Food & Beverage', 'Real Estate', 'Metals & Mining', 'Energy', 'Real Estate', 'Automotive', 'Metals & Mining', 'Food & Beverage', 'Food & Beverage', 'Logistics', 'Metals & Mining', 'Technology', 'Metals & Mining', 'Fashion & Retail', 'Manufacturing', 'Fashion & Retail', 'Finance & Investments', 'Energy', 'Energy', 'Finance & Investments', 'Healthcare', 'Metals & Mining', 'Media & Entertainment', 'Technology', 'Technology', 'Metals & Mining', 'Technology', 'Food & Beverage', 'Technology', 'Energy', 'Finance & Investments', 'Manufacturing', 'Automotive', 'Healthcare', 'Technology', 'Fashion & Retail', 'Finance & Investments', 'Finance & Investments', 'Metals & Mining', 'Finance & Investments', 'Manufacturing', 'Automotive', 'Healthcare', 'Healthcare', 'Gambling & Casinos', 'Food & Beverage', 'Technology', 'Technology', 'Healthcare', 'Fashion & Retail', 'Metals & Mining', 'Technology', 'Real Estate', 'Energy', 'Diversified', 'Real Estate', 'Healthcare', 'Energy', 'Technology', 'Media & Entertainment', 'Media & Entertainment', 'Finance & Investments', 'Food & Beverage', 'Technology', 'Manufacturing', 'Food & Beverage', 'Manufacturing', 'Food & Beverage', 'Fashion & Retail', 'Automotive', 'Finance & Investments', 'Finance & Investments', 'Manufacturing', 'Automotive', 'Finance & Investments', 'Finance & Investments', 'Finance & Investments', 'Healthcare', 'Fashion & Retail', 'Energy', 'Automotive', 'Real Estate', 'Technology', 'Real Estate', 'Diversified', 'Metals & Mining', 'Automotive', 'Technology', 'Real Estate', 'Real Estate', 'Technology', 'Construction & Engineering', 'Technology', 'Diversified', 'Finance & Investments', 'Finance & Investments', 'Technology', 'Fashion & Retail', 'Healthcare', 'Media & Entertainment', 'Manufacturing', 'Technology', 'Food & Beverage', 'Food & Beverage', 'Food & Beverage', 'Technology', 'Real Estate', 'Technology', 'Food & Beverage', 'Technology', 'Real Estate', 'Service', 'Fashion & Retail', 'Metals & Mining', 'Manufacturing', 'Fashion & Retail', 'Finance & Investments', 'Energy', 'Fashion & Retail', 'Diversified', 'Metals & Mining', 'Healthcare', 'Diversified', 'Fashion & Retail', 'Technology', 'Automotive', 'Fashion & Retail', 'Fashion & Retail', 'Technology', 'Technology', 'Technology', 'Media & Entertainment', 'Manufacturing', 'Service', 'Technology', 'Finance & Investments', 'Technology', 'Telecom', 'Technology', 'Real Estate', 'Healthcare', 'Technology', 'Manufacturing', 'Food & Beverage', 'Finance & Investments', 'Healthcare', 'Manufacturing', 'Real Estate', 'Energy', 'Diversified', 'Technology', 'Finance & Investments', 'Healthcare', 'Healthcare', 'Logistics', 'Healthcare', 'Fashion & Retail', 'Manufacturing', 'Technology', 'Logistics', 'Technology', 'Manufacturing', 'Food & Beverage', 'Finance & Investments', 'Manufacturing', 'Telecom', 'Finance & Investments', 'Real Estate', 'Logistics', 'Technology', 'Finance & Investments', 'Real Estate', 'Finance & Investments', 'Food & Beverage', 'Service', 'Finance & Investments', 'Technology', 'Energy', 'Healthcare', 'Technology', 'Finance & Investments', 'Healthcare', 'Technology', 'Manufacturing', 'Technology', 'Manufacturing', 'Finance & Investments', 'Metals & Mining', 'Manufacturing', 'Metals & Mining', 'Fashion & Retail', 'Diversified', 'Finance & Investments', 'Media & Entertainment', 'Diversified', 'Manufacturing', 'Media & Entertainment', 'Manufacturing', 'Fashion & Retail', 'Energy', 'Media & Entertainment', 'Media & Entertainment', 'Fashion & Retail', 'Technology', 'Real Estate', 'Real Estate', 'Metals & Mining', 'Manufacturing', 'Healthcare', 'Automotive', 'Healthcare', 'Technology', 'Technology', 'Finance & Investments', 'Energy', 'Sports', 'Fashion & Retail', 'Manufacturing', 'Energy', 'Healthcare', 'Real Estate', 'Technology', 'Telecom', 'Finance & Investments', 'Food & Beverage', 'Manufacturing', 'Finance & Investments', 'Food & Beverage', 'Finance & Investments', 'Manufacturing', 'Manufacturing', 'Manufacturing', 'Technology', 'Technology', 'Manufacturing', 'Food & Beverage', 'Manufacturing', 'Food & Beverage', 'Food & Beverage', 'Healthcare', 'Finance & Investments', 'Technology', 'Metals & Mining', 'Finance & Investments', 'Metals & Mining', 'Technology', 'Manufacturing', 'Fashion & Retail', 'Food & Beverage', 'Food & Beverage', 'Diversified', 'Fashion & Retail', 'Technology', 'Construction & Engineering', 'Real Estate', 'Sports', 'Healthcare', 'Healthcare', 'Technology', 'Construction & Engineering', 'Automotive', 'Metals & Mining', 'Construction & Engineering', 'Finance & Investments', 'Media & Entertainment', 'Media & Entertainment', 'Fashion & Retail', 'Real Estate', 'Energy', 'Media & Entertainment', 'Food & Beverage', 'Food & Beverage', 'Food & Beverage', 'Food & Beverage', 'Fashion & Retail', 'Healthcare', 'Real Estate', 'Diversified', 'Metals & Mining', 'Metals & Mining', 'Diversified', 'Finance & Investments', 'Fashion & Retail', 'Finance & Investments', 'Diversified', 'Fashion & Retail', 'Energy', 'Manufacturing', 'Manufacturing', 'Healthcare', 'Diversified', 'Automotive', 'Media & Entertainment', 'Finance & Investments', 'Fashion & Retail', 'Diversified', 'Diversified', 'Diversified', 'Finance & Investments', 'Logistics', 'Fashion & Retail', 'Diversified', 'Finance & Investments', 'Telecom', 'Energy', 'Fashion & Retail', 'Real Estate', 'Fashion & Retail', 'Real Estate', 'Finance & Investments', 'Manufacturing', 'Gambling & Casinos', 'Fashion & Retail', 'Finance & Investments', 'Manufacturing', 'Food & Beverage', 'Fashion & Retail', 'Finance & Investments', 'Technology', 'Media & Entertainment', 'Metals & Mining', 'Diversified', 'Food & Beverage', 'Finance & Investments', 'Finance & Investments', 'Diversified', 'Technology', 'Finance & Investments', 'Energy', 'Finance & Investments', 'Real Estate', 'Finance & Investments', 'Manufacturing', 'Diversified', 'Sports', 'Healthcare', 'Real Estate', 'Healthcare', 'Food & Beverage', 'Finance & Investments', 'Food & Beverage', 'Energy', 'Service', 'Food & Beverage', 'Food & Beverage', 'Technology', 'Food & Beverage', 'Real Estate', 'Fashion & Retail', 'Manufacturing', 'Healthcare', 'Real Estate', 'Finance & Investments', 'Technology', 'Technology', 'Finance & Investments', 'Real Estate', 'Gambling & Casinos', 'Fashion & Retail', 'Technology', 'Manufacturing', 'Service', 'Manufacturing', 'Finance & Investments', 'Diversified', 'Manufacturing', 'Finance & Investments', 'Healthcare', 'Diversified', 'Food & Beverage', 'Energy', 'Logistics', 'Diversified', 'Manufacturing', 'Finance & Investments', 'Metals & Mining', 'Food & Beverage', 'Diversified', 'Food & Beverage', 'Food & Beverage', 'Food & Beverage', 'Media & Entertainment', 'Manufacturing', 'Sports', 'Media & Entertainment', 'Technology', 'Media & Entertainment', 'Manufacturing', 'Media & Entertainment', 'Media & Entertainment', 'Manufacturing', 'Diversified', 'Media & Entertainment', 'Technology', 'Technology', 'Real Estate', 'Real Estate', 'Diversified', 'Manufacturing', 'Fashion & Retail', 'Technology', 'Fashion & Retail', 'Energy', 'Manufacturing', 'Technology', 'Automotive', 'Healthcare', 'Technology', 'Energy', 'Technology', 'Healthcare', 'Energy', 'Service', 'Manufacturing', 'Fashion & Retail', 'Technology', 'Media & Entertainment', 'Technology', 'Finance & Investments', 'Real Estate', 'Manufacturing', 'Energy', 'Healthcare', 'Finance & Investments', 'Media & Entertainment', 'Finance & Investments', 'Manufacturing', 'Food & Beverage', 'Real Estate', 'Energy', 'Telecom', 'Finance & Investments', 'Manufacturing', 'Automotive', 'Automotive', 'Food & Beverage', 'Technology', 'Real Estate', 'Manufacturing', 'Finance & Investments', 'Fashion & Retail', 'Technology', 'Fashion & Retail', 'Manufacturing', 'Food & Beverage', 'Logistics', 'Finance & Investments', 'Real Estate', 'Technology', 'Finance & Investments', 'Service', 'Healthcare', 'Real Estate', 'Media & Entertainment', 'Healthcare', 'Technology', 'Healthcare', 'Finance & Investments', 'Metals & Mining', 'Automotive', 'Diversified', 'Gambling & Casinos', 'Fashion & Retail', 'Technology', 'Food & Beverage', 'Food & Beverage', 'Logistics', 'Real Estate', 'Real Estate', 'Food & Beverage', 'Healthcare', 'Healthcare', 'Manufacturing', 'Diversified', 'Energy', 'Diversified', 'Technology', 'Energy', 'Energy', 'Food & Beverage', 'Finance & Investments', 'Service', 'Energy', 'Technology', 'Finance & Investments', 'Fashion & Retail', 'Fashion & Retail', 'Diversified', 'Finance & Investments', 'Real Estate', 'Healthcare', 'Fashion & Retail', 'Real Estate', 'Finance & Investments', 'Fashion & Retail', 'Service', 'Manufacturing', 'Gambling & Casinos', 'Finance & Investments', 'Finance & Investments', 'Manufacturing', 'Energy', 'Technology', 'Manufacturing', 'Healthcare', 'Media & Entertainment', 'Fashion & Retail', 'Fashion & Retail', 'Manufacturing', 'Food & Beverage', 'Food & Beverage', 'Healthcare', 'Healthcare', 'Technology', 'Finance & Investments', 'Automotive', 'Technology', 'Healthcare', 'Logistics', 'Energy', 'Technology', 'Manufacturing', 'Finance & Investments', 'Finance & Investments', 'Finance & Investments', 'Sports', 'Finance & Investments', 'Finance & Investments', 'Finance & Investments', 'Finance & Investments', 'Finance & Investments', 'Finance & Investments', 'Diversified', 'Gambling & Casinos', 'Food & Beverage', 'Telecom', 'Technology', 'Finance & Investments', 'Fashion & Retail', 'Technology', 'Service', 'Diversified', 'Automotive', 'Finance & Investments', 'Finance & Investments', 'Finance & Investments', 'Real Estate', 'Manufacturing', 'Finance & Investments', 'Food & Beverage', 'Construction & Engineering', 'Diversified', 'Technology', 'Real Estate', 'Technology', 'Manufacturing', 'Service', 'Fashion & Retail', 'Fashion & Retail', 'Diversified', 'Diversified', 'Manufacturing', 'Fashion & Retail', 'Finance & Investments', 'Manufacturing', 'Fashion & Retail', 'Fashion & Retail', 'Media & Entertainment', 'Real Estate', 'Finance & Investments', 'Finance & Investments', 'Manufacturing', 'Manufacturing', 'Fashion & Retail', 'Food & Beverage', 'Construction & Engineering', 'Gambling & Casinos', 'Healthcare', 'Technology', 'Food & Beverage', 'Technology', 'Technology', 'Metals & Mining', 'Manufacturing', 'Telecom', 'Fashion & Retail', 'Food & Beverage', 'Manufacturing', 'Food & Beverage', 'Finance & Investments', 'Finance & Investments', 'Finance & Investments', 'Healthcare', 'Manufacturing', 'Technology', 'Fashion & Retail', 'Telecom', 'Healthcare', 'Diversified', 'Finance & Investments', 'Real Estate', 'Finance & Investments', 'Finance & Investments', 'Finance & Investments', 'Finance & Investments', 'Healthcare', 'Service', 'Finance & Investments', 'Technology', 'Food & Beverage', 'Media & Entertainment', 'Real Estate', 'Construction & Engineering', 'Food & Beverage', 'Service', 'Diversified', 'Healthcare', 'Technology', 'Finance & Investments', 'Gambling & Casinos', 'Finance & Investments', 'Manufacturing', 'Technology', 'Real Estate', 'Automotive', 'Finance & Investments', 'Finance & Investments', 'Diversified', 'Service', 'Fashion & Retail', 'Healthcare', 'Fashion & Retail', 'Real Estate', 'Technology', 'Media & Entertainment', 'Healthcare', 'Manufacturing', 'Technology', 'Food & Beverage', 'Service', 'Finance & Investments', 'Service', 'Energy', 'Diversified', 'Technology', 'Healthcare', 'Healthcare', 'Manufacturing', 'Food & Beverage', 'Fashion & Retail', 'Real Estate', 'Healthcare', 'Manufacturing', 'Technology', 'Manufacturing', 'Technology', 'Technology', 'Finance & Investments', 'Technology', 'Manufacturing', 'Automotive', 'Automotive', 'Fashion & Retail', 'Technology', 'Technology', 'Real Estate', 'Finance & Investments', 'Energy', 'Fashion & Retail', 'Sports', 'Fashion & Retail', 'Gambling & Casinos', 'Real Estate', 'Metals & Mining', 'Healthcare', 'Fashion & Retail', 'Healthcare', 'Diversified', 'Finance & Investments', 'Manufacturing', 'Manufacturing', 'Fashion & Retail', 'Fashion & Retail', 'Manufacturing', 'Manufacturing', 'Automotive', 'Technology', 'Healthcare', 'Food & Beverage', 'Real Estate', 'Technology', 'Technology', 'Healthcare', 'Fashion & Retail', 'Energy', 'Finance & Investments', 'Finance & Investments', 'Healthcare', 'Finance & Investments', 'Technology', 'Automotive', 'Healthcare', 'Technology', 'Fashion & Retail', 'Food & Beverage', 'Construction & Engineering', 'Healthcare', 'Service', 'Gambling & Casinos', 'Real Estate', 'Logistics', 'Energy', 'Manufacturing', 'Finance & Investments', 'Healthcare', 'Fashion & Retail', 'Diversified', 'Service', 'Real Estate', 'Automotive', 'Technology', 'Manufacturing', 'Construction & Engineering', 'Food & Beverage', 'Technology', 'Fashion & Retail', 'Logistics', 'Finance & Investments', 'Metals & Mining', 'Technology', 'Metals & Mining', 'Real Estate', 'Fashion & Retail', 'Finance & Investments', 'Real Estate', 'Media & Entertainment', 'Media & Entertainment', 'Manufacturing', 'Food & Beverage', 'Fashion & Retail', 'Manufacturing', 'Diversified', 'Metals & Mining', 'Diversified', 'Manufacturing', 'Fashion & Retail', 'Fashion & Retail', 'Fashion & Retail', 'Fashion & Retail', 'Fashion & Retail', 'Telecom', 'Manufacturing', 'Real Estate', 'Real Estate', 'Food & Beverage', 'Food & Beverage', 'Diversified', 'Manufacturing', 'Construction & Engineering', 'Food & Beverage', 'Real Estate', 'Manufacturing', 'Service', 'Food & Beverage', 'Finance & Investments', 'Finance & Investments', 'Healthcare', 'Finance & Investments', 'Metals & Mining', 'Technology', 'Finance & Investments', 'Automotive', 'Media & Entertainment', 'Finance & Investments', 'Finance & Investments', 'Technology', 'Finance & Investments', 'Manufacturing', 'Fashion & Retail', 'Food & Beverage', 'Finance & Investments', 'Manufacturing', 'Metals & Mining', 'Real Estate', 'Finance & Investments', 'Food & Beverage', 'Food & Beverage', 'Manufacturing', 'Technology', 'Healthcare', 'Manufacturing', 'Manufacturing', 'Diversified', 'Finance & Investments', 'Real Estate', 'Manufacturing', 'Food & Beverage', 'Manufacturing', 'Finance & Investments', 'Service', 'Finance & Investments', 'Technology', 'Food & Beverage', 'Healthcare', 'Manufacturing', 'Finance & Investments', 'Real Estate', 'Logistics', 'Healthcare', 'Diversified', 'Food & Beverage', 'Diversified', 'Media & Entertainment', 'Finance & Investments', 'Real Estate', 'Technology', 'Fashion & Retail', 'Food & Beverage', 'Fashion & Retail', 'Media & Entertainment', 'Manufacturing', 'Automotive', 'Manufacturing', 'Manufacturing', 'Finance & Investments', 'Technology', 'Technology', 'Technology', 'Finance & Investments', 'Finance & Investments', 'Fashion & Retail', 'Technology', 'Media & Entertainment', 'Automotive', 'Automotive', 'Healthcare', 'Manufacturing', 'Technology', 'Food & Beverage', 'Fashion & Retail', 'Sports', 'Fashion & Retail', 'Construction & Engineering', 'Sports', 'Construction & Engineering', 'Finance & Investments', 'Service', 'Food & Beverage', 'Finance & Investments', 'Sports', 'Metals & Mining', 'Manufacturing', 'Real Estate', 'Healthcare', 'Finance & Investments', 'Finance & Investments', 'Real Estate', 'Food & Beverage', 'Food & Beverage', 'Media & Entertainment', 'Sports', 'Real Estate', 'Technology', 'Real Estate', 'Fashion & Retail', 'Finance & Investments', 'Automotive', 'Energy', 'Technology', 'Finance & Investments', 'Logistics', 'Metals & Mining', 'Fashion & Retail', 'Energy', 'Media & Entertainment', 'Telecom', 'Energy', 'Finance & Investments', 'Manufacturing', 'Energy', 'Automotive', 'Finance & Investments', 'Manufacturing', 'Technology', 'Service', 'Food & Beverage', 'Construction & Engineering', 'Finance & Investments', 'Food & Beverage', 'Finance & Investments', 'Finance & Investments', 'Real Estate', 'Fashion & Retail', 'Fashion & Retail', 'Service', 'Technology', 'Fashion & Retail', 'Fashion & Retail', 'Finance & Investments', 'Service', 'Diversified', 'Diversified', 'Fashion & Retail', 'Real Estate', 'Food & Beverage', 'Food & Beverage', 'Real Estate', 'Fashion & Retail', 'Fashion & Retail', 'Fashion & Retail', 'Telecom', 'Technology', 'Technology', 'Food & Beverage', 'Manufacturing', 'Media & Entertainment', 'Finance & Investments', 'Real Estate', 'Finance & Investments', 'Construction & Engineering', 'Technology', 'Fashion & Retail', 'Healthcare', 'Technology', 'Finance & Investments', 'Energy', 'Healthcare', 'Gambling & Casinos', 'Technology', 'Telecom', 'Media & Entertainment', 'Fashion & Retail', 'Real Estate', 'Finance & Investments', 'Finance & Investments', 'Gambling & Casinos', 'Real Estate', 'Healthcare', 'Telecom', 'Technology', 'Healthcare', 'Manufacturing', 'Finance & Investments', 'Fashion & Retail', 'Real Estate', 'Manufacturing', 'Healthcare', 'Real Estate', 'Healthcare', 'Fashion & Retail', 'Manufacturing', 'Technology']\n"
     ]
    }
   ],
   "source": [
    "print(industry)"
   ]
  },
  {
   "cell_type": "code",
   "execution_count": 62,
   "metadata": {},
   "outputs": [
    {
     "data": {
      "text/html": [
       "<div>\n",
       "<style scoped>\n",
       "    .dataframe tbody tr th:only-of-type {\n",
       "        vertical-align: middle;\n",
       "    }\n",
       "\n",
       "    .dataframe tbody tr th {\n",
       "        vertical-align: top;\n",
       "    }\n",
       "\n",
       "    .dataframe thead th {\n",
       "        text-align: right;\n",
       "    }\n",
       "</style>\n",
       "<table border=\"1\" class=\"dataframe\">\n",
       "  <thead>\n",
       "    <tr style=\"text-align: right;\">\n",
       "      <th></th>\n",
       "      <th>Ranks</th>\n",
       "      <th>Name</th>\n",
       "      <th>Net worth</th>\n",
       "      <th>Age</th>\n",
       "      <th>Citizenship</th>\n",
       "      <th>Source</th>\n",
       "      <th>Industry</th>\n",
       "    </tr>\n",
       "  </thead>\n",
       "  <tbody>\n",
       "    <tr>\n",
       "      <th>0</th>\n",
       "      <td>1.</td>\n",
       "      <td>Jeff Bezos</td>\n",
       "      <td>$177 B</td>\n",
       "      <td>57</td>\n",
       "      <td>United States</td>\n",
       "      <td>Amazon</td>\n",
       "      <td>Technology</td>\n",
       "    </tr>\n",
       "    <tr>\n",
       "      <th>1</th>\n",
       "      <td>2.</td>\n",
       "      <td>Elon Musk</td>\n",
       "      <td>$151 B</td>\n",
       "      <td>49</td>\n",
       "      <td>United States</td>\n",
       "      <td>Tesla, SpaceX</td>\n",
       "      <td>Automotive</td>\n",
       "    </tr>\n",
       "    <tr>\n",
       "      <th>2</th>\n",
       "      <td>3.</td>\n",
       "      <td>Bernard Arnault &amp; family</td>\n",
       "      <td>$150 B</td>\n",
       "      <td>72</td>\n",
       "      <td>France</td>\n",
       "      <td>LVMH</td>\n",
       "      <td>Fashion &amp; Retail</td>\n",
       "    </tr>\n",
       "    <tr>\n",
       "      <th>3</th>\n",
       "      <td>4.</td>\n",
       "      <td>Bill Gates</td>\n",
       "      <td>$124 B</td>\n",
       "      <td>65</td>\n",
       "      <td>United States</td>\n",
       "      <td>Microsoft</td>\n",
       "      <td>Technology</td>\n",
       "    </tr>\n",
       "    <tr>\n",
       "      <th>4</th>\n",
       "      <td>5.</td>\n",
       "      <td>Mark Zuckerberg</td>\n",
       "      <td>$97 B</td>\n",
       "      <td>36</td>\n",
       "      <td>United States</td>\n",
       "      <td>Facebook</td>\n",
       "      <td>Technology</td>\n",
       "    </tr>\n",
       "    <tr>\n",
       "      <th>...</th>\n",
       "      <td>...</td>\n",
       "      <td>...</td>\n",
       "      <td>...</td>\n",
       "      <td>...</td>\n",
       "      <td>...</td>\n",
       "      <td>...</td>\n",
       "      <td>...</td>\n",
       "    </tr>\n",
       "    <tr>\n",
       "      <th>995</th>\n",
       "      <td>986.</td>\n",
       "      <td>Hoi Kin Hong</td>\n",
       "      <td>$3.1 B</td>\n",
       "      <td>68</td>\n",
       "      <td>Macao</td>\n",
       "      <td>real estate</td>\n",
       "      <td>Real Estate</td>\n",
       "    </tr>\n",
       "    <tr>\n",
       "      <th>996</th>\n",
       "      <td>986.</td>\n",
       "      <td>Jin Lei</td>\n",
       "      <td>$3.1 B</td>\n",
       "      <td>55</td>\n",
       "      <td>China</td>\n",
       "      <td>pharmaceuticals</td>\n",
       "      <td>Healthcare</td>\n",
       "    </tr>\n",
       "    <tr>\n",
       "      <th>997</th>\n",
       "      <td>986.</td>\n",
       "      <td>Artem Khachatryan</td>\n",
       "      <td>$3.1 B</td>\n",
       "      <td>46</td>\n",
       "      <td>Russia</td>\n",
       "      <td>retail</td>\n",
       "      <td>Fashion &amp; Retail</td>\n",
       "    </tr>\n",
       "    <tr>\n",
       "      <th>998</th>\n",
       "      <td>986.</td>\n",
       "      <td>Li Gaiteng</td>\n",
       "      <td>$3.1 B</td>\n",
       "      <td>48</td>\n",
       "      <td>China</td>\n",
       "      <td>hair dryers</td>\n",
       "      <td>Manufacturing</td>\n",
       "    </tr>\n",
       "    <tr>\n",
       "      <th>999</th>\n",
       "      <td>986.</td>\n",
       "      <td>Li Zhongchu</td>\n",
       "      <td>$3.1 B</td>\n",
       "      <td>57</td>\n",
       "      <td>China</td>\n",
       "      <td>software</td>\n",
       "      <td>Technology</td>\n",
       "    </tr>\n",
       "  </tbody>\n",
       "</table>\n",
       "<p>1000 rows × 7 columns</p>\n",
       "</div>"
      ],
      "text/plain": [
       "    Ranks                      Name Net worth Age    Citizenship  \\\n",
       "0      1.                Jeff Bezos    $177 B  57  United States   \n",
       "1      2.                 Elon Musk    $151 B  49  United States   \n",
       "2      3.  Bernard Arnault & family    $150 B  72         France   \n",
       "3      4.                Bill Gates    $124 B  65  United States   \n",
       "4      5.           Mark Zuckerberg     $97 B  36  United States   \n",
       "..    ...                       ...       ...  ..            ...   \n",
       "995  986.              Hoi Kin Hong    $3.1 B  68          Macao   \n",
       "996  986.                   Jin Lei    $3.1 B  55          China   \n",
       "997  986.         Artem Khachatryan    $3.1 B  46         Russia   \n",
       "998  986.                Li Gaiteng    $3.1 B  48          China   \n",
       "999  986.               Li Zhongchu    $3.1 B  57          China   \n",
       "\n",
       "              Source          Industry  \n",
       "0             Amazon        Technology  \n",
       "1      Tesla, SpaceX        Automotive  \n",
       "2               LVMH  Fashion & Retail  \n",
       "3          Microsoft        Technology  \n",
       "4           Facebook        Technology  \n",
       "..               ...               ...  \n",
       "995      real estate       Real Estate  \n",
       "996  pharmaceuticals        Healthcare  \n",
       "997           retail  Fashion & Retail  \n",
       "998      hair dryers     Manufacturing  \n",
       "999         software        Technology  \n",
       "\n",
       "[1000 rows x 7 columns]"
      ]
     },
     "execution_count": 62,
     "metadata": {},
     "output_type": "execute_result"
    }
   ],
   "source": [
    "df_forbes = pd.DataFrame({})\n",
    "df_forbes[\"Ranks\"] = Ranks\n",
    "df_forbes[\"Name\"] = Name\n",
    "df_forbes[\"Net worth\"] = Net\n",
    "df_forbes[\"Age\"] = Age\n",
    "df_forbes[\"Citizenship\"] = Citizen\n",
    "df_forbes[\"Source\"] = source\n",
    "df_forbes[\"Industry\"] = industry\n",
    "df_forbes"
   ]
  },
  {
   "cell_type": "code",
   "execution_count": 63,
   "metadata": {},
   "outputs": [],
   "source": [
    "driver.close()"
   ]
  },
  {
   "cell_type": "markdown",
   "metadata": {},
   "source": [
    "### Q.9)Write a program to extract at least 500 Comments, Comment upvote and time when comment was posted from any YouTube Video."
   ]
  },
  {
   "cell_type": "code",
   "execution_count": 1,
   "metadata": {},
   "outputs": [],
   "source": [
    "import selenium\n",
    "import pandas as pd \n",
    "from selenium import webdriver\n",
    "import time \n",
    "from selenium.common.exceptions import NoSuchElementException"
   ]
  },
  {
   "cell_type": "code",
   "execution_count": 2,
   "metadata": {},
   "outputs": [],
   "source": [
    "driver = webdriver.Chrome(\"chromedriver.exe\")\n",
    "url = \"https://www.youtube.com/\"\n",
    "driver.get(url)"
   ]
  },
  {
   "cell_type": "code",
   "execution_count": 6,
   "metadata": {},
   "outputs": [],
   "source": [
    "video = driver.find_element_by_xpath(\"(//a[@class='yt-simple-endpoint style-scope ytd-rich-grid-media'])[70]\")"
   ]
  },
  {
   "cell_type": "code",
   "execution_count": 7,
   "metadata": {},
   "outputs": [],
   "source": [
    "video.click()"
   ]
  },
  {
   "cell_type": "code",
   "execution_count": 8,
   "metadata": {},
   "outputs": [],
   "source": [
    "menu = driver.find_element_by_xpath(\"//div[@class='style-scope tp-yt-paper-menu-button']\")\n",
    "menu.click()"
   ]
  },
  {
   "cell_type": "code",
   "execution_count": 10,
   "metadata": {},
   "outputs": [],
   "source": [
    "new = driver.find_element_by_xpath(\"(//div[@class='item style-scope yt-dropdown-menu'])[2]\")\n",
    "new.click()"
   ]
  },
  {
   "cell_type": "code",
   "execution_count": 11,
   "metadata": {},
   "outputs": [
    {
     "data": {
      "text/plain": [
       "502"
      ]
     },
     "execution_count": 11,
     "metadata": {},
     "output_type": "execute_result"
    }
   ],
   "source": [
    "comments = []\n",
    "for i in driver.find_elements_by_xpath(\"//div[@class='style-scope ytd-expander']\"):\n",
    "    \n",
    "    comments.append(i.text.replace(\"\\n\",\"  \"))\n",
    "len(comments)"
   ]
  },
  {
   "cell_type": "code",
   "execution_count": 12,
   "metadata": {},
   "outputs": [
    {
     "name": "stdout",
     "output_type": "stream",
     "text": [
      "['', 'Ghar toh chhudvaya, Ab kya chhudayegi naukri?     The hottest dance track for the year is here! Kriti Sanon sizzles the floor with an unforgettable performance as Param Sundari. The song is composed by the legendary A R Rahman and sung by Shreya Ghoshal. Once you have a listen, we promise you won’t be able to get our Bikaneri chhokri out of your mind anytime soon!    👉 Subscribe To Sony Music India - ', 'Shreya Ghoshal singing for ARR is a gift to our ears that keeps on giving. 🥺', 'Starting music looks like one of tamil music / song', 'Queen of expressions. Expert dancer. Unless you are tall enough however a great dancer you are it would never look that great. 30th visit!', 'Jo00', 'https://www.youtube.com/channel/UCVYMdq9PkqMNK3EvVCti4CA', '😘😘😘😘', 'The best of the 🌎', 'Our nimishathekkine ഈ പാട്ട് മലയാള പട്ടനെ vicharichitundo', 'Param sundari song very good song', 'AR Rahman ❤️ Shreya Ghoshal', 'Rahman sir..... ❤❤❤🔥🔥😘😘', 'Rahman wow moj kar di', 'Super song😍😍', '2:14 That Laugh 😘😘', 'Op', 'Beauty queen..Kriti sanon..!!!!!😍', \"I'm your biggest fan\", \"Tamilnadu's storm ar rahman ❤️\", 'https://youtube.com/channel/UC9pEYZnZ5-Xt93XMbO1ZUig', 'Rkkjkpmclldkdkodkdkofofofoofkdkjfjfjfuoelidkdofkofkfkfkfoorofikfkfoofkfkririkfkrkfkrklororlo4orkrkfkkftoktirotootkrkrkfifkfkjfkkfktkkfofllrlrotltkltl', 'Tyfyhxxt', 'aryan', 'Ol', 'Nice songs', 'Yeah i heard 100 tym a day(￣3￣)♥♡', 'Have any one noticed this shot ?  1:20   Focusing the Thavil and at the next second the camera focusing SANON !!!!!kudos to the team ❤❤', '♡♥Recently addicted♥ ♡', 'Music n lirics so catchy', 'Param Param Param super', \"This song is so addictive 🤒🤒. 🥳🥳🔥🔥🔥🔥🔥🔥🔥🔥. Even the single one's is enjoying more than the couple's😅. Attendance of single please 😎......\", 'O meri pram sundary', 'My favourite songs 🤗🤗', 'I like it 😊🙂', 'Hari meri param sundae😅😅', 'Sweet sound🥰🥰', 'ഹോ പേര് കേട്ട പരമസുന്ദരി 😜', 'AR Rahman is the best.....  ❤️❤️❤️', 'Nice song', 'Super song', 'I am hera about 10 times more', 'Very nice song😎😍', 'ശ്രയ ഗോശാൽ ഫാൻസ് ഉണ്ടോ ❤️❤️❤️🔥', 'Here for the 30th time already    3⃣0⃣', 'Here again for A. R. Rahman', 'Male singer voice is the heart soul of song....❤️❤️❤️', 'Daily attendance ❤️❤️🤘🏻', 'Nice song', 'I like this song because it is original', '👌👌', 'മലയാളീസ് come on.....', 'Oh god🤦\\u200d♀️🤷\\u200d♀️🙆\\u200d♀️!! I started dancing whenever I heard this masterpiece.💃💃 💙🧡', '😍😍😍😍😍😄😄😄😃😃🐕🐕🐕🐕🌹🌹🌹☺️☺️☺️☺️😃😃🌸🌸🎆🎆🎆🍓🍓🍓🌻🌻🍒🍒', 'She got wasted hunter was best role to her', '👌👌👌', 'Jab lyricist aur singer dono hi Bengali originated ho ,to phir gaane ke andar bahot sare Bengali vocabulary ghus hi jaate hain', 'AR RAHMAN IS ALWAYS LIT👑', 'Enna meaning purila ana pattu nalla irukku', 'AR👍', 'Nice song 👌👌👌👌', 'Hi', 'Going to hit 200 Million in Few Days! Yassss, Bravo', 'Hii', 'Bhade ke premiyon 😂😂😂😂😂😂😂', 'Hi 😘😘', 'Shreya Ghoshal fans oru like ah podunga✌️', 'Fire Hot song', 'Varae va semma', 'Music is life itself. Yes?    Ek like Shreya Ghoshal ke liye', 'Watch more time other language song what a voice da', 'Shreya ghoshal madam always', 'https://youtu.be/wICMDTmLsHw', 'All the men in the whole song were only shaking their heads and their lights, first they were shaking lanterns, then they were shaking their heads, then torch light then doing nothing but just gather around Kriti and jumping back, LIKE WHAT THE HELL WAS THE CHOREOGRAPHY????', 'My 6 month old baby loves this..the only way to stop her crying these days😁', 'Who all watched more than 10 Times ❤️❤️❤️❤️❤️?', 'Shreya goshal is an angel for her voice 😍😍😍', 'Kriti dance ko feel aur enjoy karti h. I like her face expression, dance and smile.', 'AR Rahman 💪🏼💪🏼💪🏼', 'Ye song download kiu ni Hora song app sae or app  Mae show hi ni ra ?', 'This song deserve more 💜', 'I want Xbox nd logitech g29 as my bddy gift from God 🎉🎊🔥💥🤑', 'Which language this song tell me please', 'Love from Telugu ❤️', '#hustice4ssr #justice4disha', 'Bkwss lyrics', '🔥🔥🔥', 'dp special song', 'Love you lot Shreya Ghoshal mam❤️❤️🔥🔥', 'We bengali only rule Bollywood, proud to be bengali', 'Rocking shreya ghosal & ar rahman', 'Choooooooooooooooperrrrrrrrrrrrrrrrrrrrrrrrrrrrrrrrrrrrrrrrrrrr👌', 'Choreographer is the real hero here', '3 Decades A.R Rahman Still Ruling our hearts & Music industry', 'Me....hardcore fan of ARR....and you ?', '🔥🖤', 'Roses are red  Violets are blue  I came here for Shreya Goshal  And so did you......😍😍😍', 'Shreya Ghoshal😍❤ On Repeat Mode Everyday.. 🎶 🎵', '👌👌👌👌👌👌👌🤣🤣🤣😅😂😂😂😂🤟🤟🤘🤘🎊🎊😍😘😘🥰🥰😚😚😚🤗🤗🤗', 'Oh god 😊  Here again for Shreya 😍', 'noone can take place Of Her  The Queen of Music \"Shreya Ghoshal\"', 'Nice', 'Advance congratulations 200 million views..', 'All those people who like Trains or Indian Railways are requested to visit this channel once @UCmoSd_90EzLwPTYd9_hwy6A . This channel is purely dedicated to Indian Railways , Railfanning, train journeys , Train updates and informative video on Indian Railways', '00:08 music is literally lit 🔥', '0.16 I like that tunr', '100 times palyed in this week', 'Here For The  \"\" th Time Already ⚡', 'https://youtu.be/EJygLYM2mqI', 'മലയാളികൾ ഇവിടെ കമ്മോൻ', '❤️❤️', 'Shreya is my favourite singer I love her voice 😍😍😍😍', 'Malyali ella', 'I love kriti 🤗🤗🤗', 'Yaha par nora fatehi hota bohat zayada  shundr hota  Bt kyrti ki acting acchi nahi thi', 'Wow I like so much', 'My favourite song 😍😍', '❤️❤️🥰🥰', '1:04 .....what a voice OMG❤️❤️❤️', 'Super song', 'This is my favorite song 😘🤕👻💗💖💝💓💞💕❣❣❤🧡💛💚💙💜🤎🖤🤍👍👍👍👍😊😊😊😊', 'Amazing Voice ❤️  Love From Bangladesh', 'Mereko is gaana ka full dance already cover ho cuki🥰🥰...', '0:37 😍 lamps are so nice', 'Most beaty kriti sanon', '🥰', 'Ajab chuttya song hai', 'I am a singer  to me khaho gi Ki ❤❤❤❤❤❤❤❤❤❤❤❤', 'Param Sundari Lyrics  Param Sundari Lyrics  Mimi (Original Motion Picture Soundtrack)2021  A. R. Rahman,', 'മലയാളീസ് കമോൺ 🥰', '👌🏻👌🏻👌🏻👌🏻❤❤❤', 'Shreya mam evergreen singer no one can replace her', 'Sai tamhankar appearance 👌👌', 'This song is wonderful 😍😍😍😍 super mass marananm vara level', 'I m only here for Shreya Ghoshal ... 😄☺', 'He baga marathi chi top actress sai ekde kai role karat ahe ani bolat marathi film na screen nahi Betat.marathi chi top actress ekde kai role kai kartat ahe shame', 'Shreya mam song I love I love that my name is too shreya I just love her voice', 'The work is completed and the kids will xjrdjrs and the other one and the one and only true love for me to come by', 'Kaseho', 'Hello', 'Hi', 'பாடல் இந்தி ஆக இருந்தாலும் அங்கேயும் தமிழன் இருப்பான் டா ❤', 'Gotha ARR Vera level da ....  Gommala.....', 'first i thought it was bikhari chokri😂😂😂', 'Super dance steps', 'Last na nnn na nnn nn n na is crazy 😍', 'From Sri Lanka ❤️🇱🇰', 'She is dancing like patient', 'Kriti sanon❤️', 'Vera mari vera mari 🔥🔥🔥', '10  pasand you pass', 'Steps to listen this song  On ur BT speaker  Stay with ur frds  Rise ur volume', '18-এর নামতা  https://youtu.be/peydGevWjQY', 'song is bad', 'Kritisanon ❤️', 'നല്ല പാട്ട് എവിടെ ഉണ്ടോ.. അവിടെ ഉണ്ടല്ലോ മലയാളീസ് 💥', 'Kitna Baar Sunna hu me ilove it song 💘', 'This song is very beautiful', 'Why ghosts in my room at dancing @0:56', 'Lol the captions', 'Le to gyi kaleja hume bhi leja😂😂😂😂 line maarne ka naya tareeka', 'Very nice Deance', '🎈', 'I am love this song 🎵😍❤💕💜♥🎵', 'Kriti ❤️', 'Watching 4 time in half day', 'Kriti sanon https://youtube.com/shorts/EdP_Tgx7oHs?feature=share', 'U just need not see who the music composer is...Music is the answer...#ARR', \"I'm waiting for 1billion\", 'Vishay Hard🔥🔥', 'Param Sundari Movie Making Video  https://youtu.be/NXSigiaZ0W0', 'My favorite song', 'Nice song', 'Op', 'Super', 'Good evening of the year old boy and', 'Sooper', 'Kriti Is the Real Param Sundari in Bollywood Now', 'Super ❤😍', 'https://youtube.com/channel/UCeqgDIV1Y5XEkhGYVNTXdUg', 'Finally here in the original song vedio🥳🤣 because abhi tak sirf reels,shorts pe he suna tha🤣🤣🤣🤣🤣🤣🤣', 'IloveShreyaGoshal', 'Super😊 mm♥♥', 'Dooohhhhhhh', 'I wish I could receive even one subscribe today', 'Only ARR', \"It's so beautiful song   I love it\", 'East or West Shreya Ghoshal is the best ❤️', \"I'm here for sai...\", 'Sirf 3 min ke song ke liye background  ne kitna kharch hua hai can someone guess?😯', 'ಈ ಹಾಡನ್ನು ಕನ್ನಡಿಗರು ಯಾರ್ಯಾರು ಕೇಳಿದ್ದೀರಿ ಒಂದು ಲೈಕ್ ಕೋಡಿ', '😗😗😗', 'Wow', 'Bohot parayi song', 'Big8 uv7gu ig6v wftv', 'Ihuftbiggucu hvivivb', 'This song is 100 times better than neha song doo gooth😎', 'What a songs good songs 👍🥰😘🤩😍👌', 'Male voice ❤️', 'Nice', 'Sound Box bursting', 'Shreya Ghosal is awesome 😎👍🏻❤️🥰😘', 'My favorite song', '🥰😍🥰 WOW', 'So nice song', '0.00 to 1.12', 'I love this song 💖❤❤', 'Maindboling song', \"I can't understand this lyrics but heard for this song 🎵 amazing very well... 🥰😍😘 I watching this song more than 15 above ⬆ within one day\", 'Kriti n shreya goshal fans❤❤🤩🤩🤩😘😘😘', 'Recent addicted param sundari and ani bro vin 22222222 I love u 2', 'Stunning kriti 💖😍✨', 'அருமை ♥️♥️♥️♥️', 'Eternal beauty is here welcome her', 'Very very tangy song...🤑', 'Nice song... Came here after a short video... Love from Sri Lanka to parama sundaree 😀😀🇱🇰🇱🇰🇮🇳🇮🇳', 'Any sherya fans', 'For AR Rahmaan only/————', 'I am hare for AR rahman sir', 'Love from Sri Lanka 🇱🇰 ❤️😍💪', 'Param sundari 😍😍', 'Ohhh,,,,,kia bat hay param sondari', 'பரம சுந்தரி.....', 'Fav song of this year❤️', 'Wow', 'Ygugfhvigig', 'O s m', '13 different language subtitles for a song.  Real definition for world wide famous song🔥', 'Sir se pair talak husn se bhari this line touch heart yr what a soothing voice love u Shreya mam😍😍', '😘😘😘😘😘😘😘😘😘😘😘😘😘😘😘', \"Both composing and singing are marvelous those who like music. Both of them done it's utmost. Besides the choreography also touches it peaks. Simply creativity has no boundaries ... Each of them done it their best ... Big salute to all of you from the bottom of my heart 💓💓💓💓\", 'Who is the great cherographer great dance salute you sir ❤❤❤❤❤❤❤❤❤❤❤❤❤❤❤❤❤❤❤❤❤❤❤❤❤❤❤❤❤❤❤❤❤❤❤❤❤❤❤❤❤❤❤❤❤❤❤❤❤❤❤❤❤❤❤❤❤❤❤❤❤❤❤❤Love you🙏', 'Nice', '😠😠😠🤫🤫🧟\\u200d♀🧟\\u200d♀', 'My favorite song', 'Here For ARRahmannnnn', '❤️❤️', '😉😉😉😀😀', 'Whaat a song... It has everything... Music, lyrics, entertainment, glamour, respect...   ARR❤️❤️❤️❤️  SREYA G❤️❤️❤️❤️  AMITHABH❤️❤️❤️❤️', 'Raudy baby type laga', 'Very good', '😃😃😃😃😃😃😃😍😍😍😍😍🥰🥰🥰', 'Everything in this song is perfect except cinematography', '❤❤❤', '0:42😜😜Kaisa 😜😜laga🤭🤭🤭🤭', '❤️❤️❤️❤️❤️🤩🤩🤩🥰🥰🥰', '2021 trending song', '👍👍👍👍😍😍', 'Men should be taught about periods, parturition, financial costs of marriage and children in laborious detail so masses in the millions are not brain washed into a false image of women made of sugar spice and everything nice. The reality is quite opposite.', 'Magical voice of sreya.love u a lot', 'Wow... ❤️❤️', 'Telugu vallu avaru vintunaru', 'Malayalis undoo', 'Hi shreya ghoshal singing for star maker', 'My favourite song very nice🥰😘❤❤💜💜', 'Hear For The 10 th Time Already 🎸🎶🎸', 'This is our legend ARR, a TAMILAN at his peak u northies!!!', 'My nephew listen this everytime', 'Darun❤❤', '💡💡💡💡💡💡', '1:13 tune is super👍', \"I don't get why I see so many comments in tamil.\", 'Super songs', 'Ak dam Baker gana', '🥰🥰', 'Samma song🥰🥰🥰🥰🥰🥰🥰🥰🥰🥰', '@ARR  and @shreya ghosal', 'Shreya goshal never go out of style', 'Hi', 'So nice ❤❤❤❤❤❤❤', '❤️❤️❤️❤️❤️❤️❤️❤️❤️', 'Super singer shreya Ghoshal', 'Sohail. Bhai', 'A rahman is a bigg must gift in song and shreya ghoshal voice  unbeleveble superb bgm wonderfull', 'Song bahut achcha h  sunne mai magar  Kritii kinner lag rahi h', 'Nice song', 'Wht a dance by kriti n expression wow ...', \"I don't know or understand the language , but this song is very good. ARR on fire\", '🦚🦩🐥😇😇😇😄😄👍👍', 'Rifa vbjgjcfjfjfgjcdhobdjbf8h', 'My love song ❤️❤️', 'U1 FANS ERUKINGALA', 'Eya gan me sanny leone or nura fateyi hota to bohot acha lagta hai', 'Hi mam me aapki bahut badi fan hu', 'No one talking about my favorite  Kriti Sanon', 'Someone please tell me why this song is so addicting???', 'now thats what call a real pop & party song🔥🔥....not such song like kanta laga neither pani pani😪', 'Know thats what call a real pop & party song🔥🔥....not such song like kanta laga neither pani pani😪', 'മലയാളീസ് ഇവിടെ വരൂ ❤️❤️😄😄', 'Super 💃🏻💃🏻', '😇💖', 'My daily dose  Addicted to this  One of the ARR magicals ❤', '😘😘😘😘😘😘😘😘😘😘😘😘😘😘 super', 'Best', 'My favorite song', 'Yaarellam entha song tamil caption la vachi paakuringa😍❤️✌🏻', 'Darun', 'Kriti sanon 😍', 'https://youtube.com/channel/UCmF0_EltjybRE7R6LgSF-5g', 'Regular customer hu😀', 'ഹായ് മേരാ പരം പരം പരം പരം .. പരമ സുന്ദരി..', 'This happens when legends work together.  Thank god this time no Mika, no Neha, no cheap raps.  This is called voice.  Others sound like honk.', 'હદ કરદી ભોંસડી વાલે રોમિયો', 'Song is good but kriti is bad', 'Km. Mkkkk', 'பரம சுந்தரி❤️🌟', 'Truely Eternal feeling...', 'Kriti ❤🤩😎', 'Samma song🥰🥰🥰🥰🥰🥰🥰🥰🥰🥰🥰😍🥰😍🥰🥰🥰🥰🥰', '❤️👍', 'Param sundrie 😝😝🤩', 'Hhegh', '😂😂😂😂🤣😂😂😂😂🤣😂😂🤣', 'Malayalam song', 'Nice', 'my fabarighte song you', 'ye song English lyrics mai kitna jyada bura hai😁   but ye song bohot jyada hit ho kyuki i love this song so much ❤❤', \"Background music is same as 'pass nahi toh fail nahi' song shkuntala devi.\", 'ക്', 'Sherya ghoshl is best🌹🌹🌹🌹🌹🌹💖💖💖💖💖💖', '❤️❤️🔥🔥', 'J', 'Dr', 'Balar gan', 'Shreya Ghoshal is marathi😎😎😎😎', '🙏', 'Kisne kisne is song ko suna hai 🤭', 'Amazing', '7th time i have listening this song. Superb 😌💖💖💖', 'WHO SUDDENLY REMEMBERED THIS SONG AND CAME HERE TO LISTEN 😅', 'Hii', 'https://youtu.be/AeVTHhdbICg', 'https://youtu.be/AeVTHhdbICg', 'https://youtu.be/AeVTHhdbICg', 'https://youtu.be/AeVTHhdbICg', '👌', 'This is amazing song ❤', 'Decenttana dress potutu than dance adakudatha video song chi...', 'Nice 💞💞💞💞💞💞💖💖💖💖💖🖤🖤🖤🖤', 'Here for the 2nd time already ❤️', 'Asinggama adurathu paramasundariya chi... Mairu pattu 😡hindi karanungalukku konjam kuda vetkam manam sudu soranai athumay ketaiyathu athum intha pattu tamil la vanthathu komailum kodumai 😔 intha song ketta paravala videosongga patha alla ilainggargalum keduppovanka 🤦🤦🤦', 'Shreya ghosal ❤️', 'Ai bl ar video ka daka', 'Meeru songs teyyadam insta lo bitches dances cheyyadam mammalni saavabengadam...kottha song osthe chaalu reels chesi videos chesi saavabengutharu lan..lu', '❣️❣️❣️❣️', 'Nice dance aunty', 'Nashe  shreya voase😀😀😀😀😀😀', 'Love from bangladesh tum asal mehi param sundari ho😍', 'Tamil fans like here 😍😍😍😍😍✌️✌️✌️✌️🎥🥰😍🎥😎', '2.5Millon.💯', 'Wow supper song & voice 💚💚', 'Shreya Ghoshal love uuuuuu', 'എവിടെ മലയാളീസ് എവിടെ 💥💃😂  നമ്മൾ ഇല്ലാത്ത comment box ഇല്ല😎😌', 'தலைவன் முசிக் காக வந்தேன் 🔥', 'https://youtu.be/njyflDTXYzE', \"Get peaceful 'coz this beautiful composition is not poisoned by Neha Kakkar 😴 We are SGian Forever 💖\", 'छानsong', 'Nice songs', 'Hi😘', 'സൂപ്പർ 💕💕💕💕💕', 'I like this song very much. What a nice song from A R Rahman.  See this also:   https://www.youtube.com/watch?v=2iySBXku5Sw&list=RD2iySBXku5Sw&index=1', 'ARR അണ്ണ നിങ്ങൾ പൊളിച്ചു', 'Checked out this song very recently.. wow it is actually really addictive', 'AR RAHMAAN  power of indian music 🔥', 'Nice song', 'One and only arr💓💓', 'I thought ki koi south ki actress hogi isme,very dissapointed.', '😘😘😘😘❤️❤️❤️❤️', 'Bolne se sab hoga 😂', 'Lai to gayi sari paisa ,  Maine kaha hume bhi leja..  Wo boli kaun hoon me jaaanti nehi 😭😭😭..  Hay meri param.. param.. param.. param.. param sundari 🥺🥺', \"Original song...... Not recreation, no adoption, no Neha Kakkar's shitty remix...\", 'Param param sundari!, what the meaning?', 'Hi', 'That folk aspect in subtle Western instrument is what Maestro is instead of sounds (not music) for folklore', 'Any ARR Fans❤️👍', 'https://youtu.be/MSgBuvLDscM Bazzi Release This Durga Puja Only In Theatre', 'Best item song in bollywood..', 'Gan ta onk valo laga', 'Superbbbbb!!! Choregraphed, sung and music...!!!', 'Which movie is this pls?', 'മലയാളികൾ 😁😁 ഇവിടെ കമോൺ', 'https://youtu.be/wICMDTmLsHw', 'What a man is ARR  ! The 50 most liked songs for me is composed by him  ❤️❤️', 'Love from  🇱🇰 ❤️', 'Kirti sanon 💖💖💖💖💖', 'only for ar rahman', 'Semma Song 😍', 'AR Rahman average in this song', 'Only for my shreya jeeeeeeeee....Love you alot', 'ganakokila..!! 😘 Sherya Ghoshal..!! ❤️ & Music director  best in the World Ar Rehman ❤️ deadly combination..!! 🔥🔥👌👌', 'Arr ❤️❤️❤️❤️', 'Only for coming on AR.rahman', 'Anyone hear iphone tune in this song??', '🇧🇩🇧🇩🇧🇩🇧🇩', '💪', 'Ar. r vera level', 'Nice', 'a.r.r. still on fire .. With great voice of shreya ghoshal.. and stunning picturisation', 'Who came after hearing this in Instagram 🤭😃', 'coming 9th time', 'Faadu dance steps', '💥', 'മലയാളികൾ കമോൺ 😍👍🏼', 'Anyone\\'s addicted to the lines \"nan na na naa na na naa naa naa ....\" 😍😍', 'Param Sundori 🤞💘', '200m view very soon', 'AR BACK TO RULE BOLLYWOOD', 'AR🔥🔥🔥', 'Param sundari', 'Green lehenga vali madam ki aaha bhut achha lga.... BTW shreya mam is superbbbb..', '\"Sir se per talak betahasha husan se bhari\" with her actions and expressions, she just nailed it🥰', '❤️❤️❤️', 'Who come daily this song', 'THALA FANS ERUKINGALA', '😍😍😍', 'good performance', '#banravanleela_bhavai', 'Shreyaaaa ❤', 'https://youtu.be/vNWD6lx7heE', 'Only For Shreya Ghoshal Not kriti sanon', 'First line everyone know shreya ji voice 🙏 what a loveable voiceeee...', ',x ;', 'https://youtu.be/NyBYrKI7hFw', 'Vera leavel song', 'Jai kriti sanon', 'Here who is 8 time here 💕', 'പരം... പരം.. പരം... പരം.... പരമ  സുന്ദരി', 'Kinda seems like south mixed with north', 'hmm', 'क्या music है waah', 'Soo long time koe accha gana bna.', 'ഒന്നും പറയാനില്ല 👌🏻👌🏻❤️  All Kerala allu arjun fans and welfare association kollam DC ❤️', 'Arrahman🌹🌹🌹😘😘😘', \"My son's fav songs..NB ...he is only 3 😝🤪🤪\", 'So nice song', 'Superb song👍🏻👍🏻👍🏻', 'ഞാൻ ശ്രേയ മാമിന്റെയും റഹ്മാൻ സാറിന്റെയും വലിയ ആരാധകനാണ്റഹ്മാൻ സാറിന്റെ ലാളിത്യവും ശ്രേയ മാം നിശബ്ദവുമാണ്എനിക്ക് ആ ഭാഷ മനസ്സിലാകുന്നില്ല. ബിടി ഗാനം മനോഹരം. കാരണം ശ്രേയ മാം ഈ ഗാനം ആലപിച്ചു, രഹ്മിൻ സാർ സംഗീതം നൽകുന്നു. പിന്നെ എനിക്ക് എങ്ങനെ അത് നഷ്ടമാകും', 'Singer:- Bengali  Music:-tamilian  Song:- Hindi  😘❤️😍🤗', 'Any Shreya Goshal and Kriti Sanon fans here', 'Fun fact  - 1:04 lyrics  \"sar se pair talak betahasha husn se bhari\" but she was actually doing pair se sar..🧐😝', 'Kriti❣️❣️❣️', 'Shreya ghosal ji ki voice ka liya Aya baas 🥺', 'Hi', 'ipl destroyed this song', 'Watching the song again and again in full screen and enjoying the choreography too😊', 'Who is watching this song only for parama sundari line', 'Super', 'Bahut achha', 'Kumily guest like here', '👌👌', 'hii', 'I ❤️this song really Super', '💲💲💲💲💲💲💲🤗🌷🌷🌷🌷💲💲💲💲💲💲💲💲💲💲💲💲💲💲💲', 'cuet song', 'I love💗💖💖💕💕this song param sundari🌹🌹🌹💖💗💖', '😍😍😍😍😍', 'Wow nice 👍👌👏🤩😍😊☺️😍', 'gkhgvbm', 'Hi', 'Beautiful song...... from 🇱🇰', 'I seen this song more than 50times but its very nice song....love u shreya💓', \"1.35 it's exactly like beautiful butterfly 😍\", 'I am proud of Shreya Ghoshal,, she is born in West Bengal.... Bengal Zindabad....', 'shreya ghoshal voice fit in any type of song', 'நிச்சயம் 200 மில்லியன் லட்சியம் 500 மில்லியன்! IA', \"Sorry khirti khator says Pagal zone and it's real\", 'തൂണിലും തുരുമ്പിലും മലയാളി 🥴🥴🤘🏻🤘🏻🤘🏻', '👌👌👌', '🥰...Rahman sir...😘😘😘🤷🏻\\u200d♂️', 'The favourite song of mine always', 'Bangali 🖤🤞', 'crap', 'Watch mungru male songs. Super songs.mungaru male songs💖💓💘💔💋❤💘', \"Aree malayaly's..😁\", \"I noticed her back in time when she was doing an ad for parachute jasmine... Now she's a sensation in all sense... Huge respect for Kriti...\", 'Super hit song❤️❤️🔥🔥', '😍', 'Akbaat to Kehna parega gaana bohot badiya hai but ek tension v hai . Aaj se sayad 2 - 3 saalo k baad main sayad Neha kakkar gayegi Tanishq bagchi k music main . Bhagwan bachaye iss ganeko', '❤️', 'Beautiful song👏👏👏👏', 'You are really Param sundari ❤️', '☺️☺️☺️', 'King of music our A. R. Rahman...ஆஸ்கார் நாயகன்', 'On repeat mode  Excellent singing with visual feast👌👌', 'Poll\\\\\\\\', 'i am confussed that i came here for dance or music 😆😆✌️', 'Shreya Goshal', 'Videos  ,,😍🎻', '😍😍', '😂😂😂😂😂😂😡😡😡', 'Ey', 'Aasa athigam vachu. Manasa adaki vaikalama song oda bgm', 'Only for shreyaghosal  🙌', '\"n\" th time🙂', 'Yeah yeah yeah bahut kathin hai', 'Just found this song, really enjoy the rhythm and dance of this song. Impressive llyric and all..  Warm love from Indonesia 🇮🇩 for Indians 🇮🇳🥰🥰🥰', '🥰🥰🥰🥰സൂപ്പർ ഡാൻസ് പൊളിച്ചു', '164,,4,03', 'ARR Rock music.... ❤✨️', 'Shreya ghoshal is here❤️', 'Nice song ❤️❤️❤️', '👍🏻👍🏻👍🏻😻😻😻']\n"
     ]
    }
   ],
   "source": [
    "print(comments)"
   ]
  },
  {
   "cell_type": "code",
   "execution_count": 23,
   "metadata": {},
   "outputs": [
    {
     "data": {
      "text/plain": [
       "1080"
      ]
     },
     "execution_count": 23,
     "metadata": {},
     "output_type": "execute_result"
    }
   ],
   "source": [
    "comments_upvote = []\n",
    "likes = driver.find_elements_by_xpath(\"//span[@class='style-scope ytd-comment-action-buttons-renderer']\")\n",
    "for i in likes:\n",
    "    \n",
    "    comments_upvote.append(i.text)\n",
    "    \n",
    "len(comments_upvote)"
   ]
  },
  {
   "cell_type": "code",
   "execution_count": 22,
   "metadata": {},
   "outputs": [],
   "source": [
    "comments_upvote.clear()"
   ]
  },
  {
   "cell_type": "code",
   "execution_count": 24,
   "metadata": {
    "scrolled": true
   },
   "outputs": [
    {
     "name": "stdout",
     "output_type": "stream",
     "text": [
      "['', '110K', '', '', '', '', '', '', '', '', '', '', '', '', '', '', '', '', '', '1', '', '1', '', '', '', '1', '', '', '', '', '', '1', '', '', '', '2', '', '', '', '1', '', '1', '', '', '', '', '', '1', '', '1', '', '', '', '2', '', '1', '', '', '', '1', '', '', '', '1', '', '', '', '1', '', '', '', '', '', '1', '', '', '', '1', '', '1', '', '', '', '1', '', '3', '', '2', '', '2', '', '2', '', '2', '', '4', '', '1', '', '1', '', '2', '', '', '', '', '', '', '', '', '', '2', '', '2', '', '1', '', '1', '', '', '', '3', '', '1', '', '', '', '1', '', '4', '', '1', '', '2', '', '2', '', '1', '', '2', '', '', '', '', '', '5', '', '3', '', '4', '', '2', '', '2', '', '', '', '1', '', '', '', '', '', '', '', '', '', '', '', '', '', '', '', '1', '', '', '', '', '', '', '', '', '', '2', '', '2', '', '', '', '2', '', '1', '', '', '', '2', '', '2', '', '', '', '2', '', '', '', '5', '', '2', '', '', '', '', '', '', '', '1', '', '', '', '1', '', '', '', '1', '', '', '', '', '', '', '', '', '', '2', '', '', '', '', '', '', '', '1', '', '2', '', '', '', '', '', '', '', '', '', '', '', '1', '', '', '', '', '', '', '', '1', '', '', '', '', '', '1', '', '', '', '', '', '', '', '', '', '7', '', '', '', '', '', '', '', '', '', '', '', '', '', '', '', '', '', '', '', '', '', '', '', '', '', '', '', '', '', '', '', '1', '', '', '', '1', '', '', '', '', '', '', '', '1', '', '', '', '', '', '1', '', '', '', '1', '', '63', '', '', '', '2', '', '', '', '1', '', '1', '', '', '', '', '', '1', '', '1', '', '', '', '', '', '1', '', '', '', '', '', '', '', '2', '', '', '', '1', '', '', '', '', '', '2', '', '1', '', '', '', '', '', '', '', '', '', '1', '', '1', '', '1', '', '', '', '', '', '3', '', '', '', '', '', '', '', '1', '', '', '', '', '', '', '', '1', '', '', '', '', '', '1', '', '', '', '', '', '4', '', '1', '', '', '', '1', '', '2', '', '1', '', '', '', '1', '', '1', '', '', '', '', '', '', '', '3', '', '2', '', '1', '', '19', '', '', '', '', '', '1', '', '2', '', '1', '', '1', '', '1', '', '8', '', '', '', '1', '', '', '', '1', '', '', '', '', '', '', '', '1', '', '', '', '', '', '1', '', '', '', '', '', '1', '', '1', '', '1', '', '', '', '1', '', '', '', '', '', '', '', '', '', '1', '', '1', '', '', '', '', '', '1', '', '', '', '', '', '', '', '', '', '', '', '', '', '', '', '6', '', '', '', '3', '', '2', '', '36', '', '', '', '', '', '1', '', '1', '', '', '', '', '', '', '', '', '', '7', '', '3', '', '2', '', '1', '', '', '', '1', '', '', '', '1', '', '', '', '', '', '', '', '1', '', '', '', '1', '', '1', '', '5', '', '', '', '', '', '', '', '', '', '', '', '', '', '', '', '', '', '', '', '', '', '1', '', '', '', '', '', '', '', '1', '', '', '', '', '', '', '', '', '', '1', '', '1', '', '1', '', '', '', '', '', '', '', '', '', '1', '', '', '', '', '', '', '', '', '', '', '', '', '', '', '', '', '', '', '', '1', '', '', '', '', '', '', '', '', '', '', '', '1', '', '', '', '', '', '', '', '', '', '1', '', '', '', '1', '', '2', '', '1', '', '', '', '4', '', '', '', '', '', '', '', '', '', '1', '', '3', '', '1', '', '2', '', '', '', '1', '', '', '', '', '', '', '', '', '', '1', '', '', '', '', '', '28', '', '3', '', '', '', '1', '', '', '', '', '', '', '', '1', '', '', '', '33', '', '', '', '', '', '', '', '2', '', '', '', '2', '', '4', '', '1', '', '2', '', '1', '', '', '', '', '', '1', '', '', '', '12', '', '1', '', '1', '', '1', '', '', '', '1', '', '6', '', '', '', '1', '', '', '', '1', '', '', '', '1', '', '25', '', '', '', '', '', '1', '', '', '', '1', '', '', '', '2', '', '', '', '2', '', '3', '', '', '', '', '', '', '', '1', '', '1', '', '1', '', '1', '', '', '', '', '', '', '', '7', '', '1', '', '1', '', '', '', '', '', '6', '', '220', '', '', '', '3', '', '', '', '1', '', '', '', '1', '', '2', '', '', '', '1', '', '1', '', '', '', '1', '', '', '', '', '', '1', '', '1', '', '', '', '1', '', '1', '', '', '', '', '', '4', '', '1', '', '', '', '1', '', '2', '', '1', '', '', '', '1', '', '1', '', '1', '', '', '', '', '', '', '', '', '', '1', '', '49', '', '', '', '1', '', '', '', '', '', '1', '', '', '', '', '', '44', '', '12', '', '1', '', '', '', '2', '', '', '', '', '', '', '', '', '', '', '', '', '', '', '', '', '', '2', '', '1', '', '1', '', '2', '', '', '', '1', '', '', '', '1', '', '1', '', '1', '', '1', '', '3', '', '17', '', '', '', '', '', '', '', '', '', '', '', '', '', '21', '', '', '', '79', '', '2', '', '', '', '', '', '1', '', '1', '', '1', '', '', '', '1', '', '1', '', '', '', '', '', '1', '', '1', '', '', '', '1', '', '', '', '4', '', '', '', '', '', '', '', '1', '', '1', '', '1', '', '', '', '']\n"
     ]
    }
   ],
   "source": [
    "print(comments_upvote)"
   ]
  },
  {
   "cell_type": "code",
   "execution_count": 26,
   "metadata": {},
   "outputs": [
    {
     "data": {
      "text/plain": [
       "1204"
      ]
     },
     "execution_count": 26,
     "metadata": {},
     "output_type": "execute_result"
    }
   ],
   "source": [
    "Time = []\n",
    "date = driver.find_elements_by_xpath(\"//a[@class='yt-simple-endpoint style-scope yt-formatted-string']\")\n",
    "for i in date:\n",
    "    try:\n",
    "        Time.append(i.text)\n",
    "    except:\n",
    "        Time.apped(\"--\")\n",
    "len(Time)"
   ]
  },
  {
   "cell_type": "code",
   "execution_count": 27,
   "metadata": {
    "scrolled": true
   },
   "outputs": [
    {
     "name": "stdout",
     "output_type": "stream",
     "text": [
      "['', '', '', '', '', '', '', '', '', '', '', '', '', '', '', '', '', '', '', '', '', '', '', '', '', '', '', '', '', '', '', '', '', '', '', '', '', '', '', '', '', '', '', '', '', '', '', '', '', '', '', '', '', '', '', '', '', '', '', '', '', '', '', '', '', '', '', '', '#ParamSundari', '#Mimi', '#ARRahman', '@A. R. Rahman', 'Sony Music India', '', '', '', '', '', '', '', '', '', '', '', '', '', '', '', '', '', '2 months ago', '', '2 minutes ago', '', '3 minutes ago', '', '8 minutes ago', '', '12 minutes ago', 'https://www.youtube.com/channel/UCVYMdq9PkqMNK3EvVCti4CA', '', '14 minutes ago', '', '14 minutes ago', '', '21 minutes ago', '', '24 minutes ago', '', '24 minutes ago', '', '25 minutes ago', '', '34 minutes ago', '', '36 minutes ago', '', '44 minutes ago', '2:14', '', '51 minutes ago', '', '51 minutes ago', '', '53 minutes ago', '', '53 minutes ago', '', '54 minutes ago', 'https://youtube.com/channel/UC9pEYZnZ5-Xt93XMbO1ZUig', '', '1 hour ago', '', '1 hour ago', '', '1 hour ago', '', '1 hour ago', '', '1 hour ago', '', '1 hour ago', '', '1 hour ago', '1:20', '', '1 hour ago', '', '1 hour ago', '', '1 hour ago', '', '1 hour ago', '', '1 hour ago', '', '1 hour ago', '', '1 hour ago', '', '1 hour ago', '', '1 hour ago', '', '1 hour ago', '', '1 hour ago', '', '1 hour ago', '', '1 hour ago', '', '2 hours ago', '', '2 hours ago', '', '2 hours ago', '', '2 hours ago', '', '2 hours ago', '', '2 hours ago', '', '2 hours ago', '', '2 hours ago', '', '2 hours ago', '', '2 hours ago', '', '2 hours ago', '', '2 hours ago', '', '2 hours ago', '', '2 hours ago', '', '2 hours ago', '', '3 hours ago', '', '3 hours ago', '', '3 hours ago', '', '3 hours ago', '', '3 hours ago', '', '3 hours ago', '', '3 hours ago', '', '3 hours ago', '', '3 hours ago', '', '4 hours ago', '', '4 hours ago', '', '4 hours ago', '', '4 hours ago', '', '5 hours ago', '', '6 hours ago', '', '6 hours ago', '', '7 hours ago', 'https://youtu.be/wICMDTmLsHw', '', '7 hours ago', '', '7 hours ago', '', '7 hours ago', '', '8 hours ago', '', '9 hours ago', '', '10 hours ago', '', '10 hours ago', '', '10 hours ago', '', '10 hours ago', '', '11 hours ago', '', '11 hours ago', '', '11 hours ago', '#hustice4ssr', '#justice4disha', '', '11 hours ago', '', '11 hours ago', '', '11 hours ago', '', '11 hours ago', '', '11 hours ago', '', '12 hours ago', '', '12 hours ago', '', '12 hours ago', '', '12 hours ago', '', '12 hours ago', '', '12 hours ago', '', '12 hours ago (edited)', '', '12 hours ago (edited)', '', '12 hours ago', '', '12 hours ago', '', '12 hours ago (edited)', '', '12 hours ago', '', '12 hours ago', '', '12 hours ago', '', '12 hours ago', '00:08', '', '12 hours ago', '', '13 hours ago', '', '13 hours ago', '', '13 hours ago', 'https://youtu.be/EJygLYM2mqI', '', '13 hours ago', '', '13 hours ago', '', '13 hours ago', '', '13 hours ago', '', '13 hours ago', '', '13 hours ago', '', '13 hours ago', '', '13 hours ago', '', '13 hours ago', '', '13 hours ago (edited)', '1:04', '', '13 hours ago', '', '13 hours ago', '', '13 hours ago', '', '13 hours ago', '', '13 hours ago (edited)', '0:37', '', '13 hours ago', '', '13 hours ago', '', '13 hours ago', '', '13 hours ago', '', '13 hours ago', '', '14 hours ago', '', '14 hours ago', '', '14 hours ago', '', '14 hours ago', '', '14 hours ago', '', '14 hours ago', '', '14 hours ago', '', '14 hours ago', '', '14 hours ago', '', '14 hours ago', '', '14 hours ago', '', '14 hours ago', '', '14 hours ago', '', '14 hours ago', '', '14 hours ago', '', '14 hours ago', '', '14 hours ago', '', '14 hours ago', '', '14 hours ago', '', '14 hours ago', '', '14 hours ago', '', '14 hours ago', '', '14 hours ago', '', '14 hours ago', 'https://youtu.be/peydGevWjQY', '', '15 hours ago', '', '15 hours ago', '', '15 hours ago', '', '15 hours ago', '', '15 hours ago', '', '15 hours ago', '0:56', '', '15 hours ago (edited)', '', '15 hours ago', '', '15 hours ago', '', '15 hours ago', '', '15 hours ago', '', '15 hours ago', '', '15 hours ago', '', '15 hours ago', 'https://youtube.com/shorts/EdP_Tgx7oHs?feature=share', '', '15 hours ago', '#ARR', '', '15 hours ago', '', '15 hours ago', '', '16 hours ago', 'https://youtu.be/NXSigiaZ0W0', '', '16 hours ago', '', '16 hours ago', '', '16 hours ago', '', '16 hours ago', '', '16 hours ago', '', '16 hours ago', '', '16 hours ago', '', '16 hours ago', '', '16 hours ago', 'https://youtube.com/channel/UCeqgDIV1Y5XEkhGYVNTXdUg', '', '16 hours ago', '', '16 hours ago', '', '16 hours ago', '', '16 hours ago', '', '16 hours ago', '', '16 hours ago', '', '17 hours ago', '', '17 hours ago', '', '17 hours ago', '', '17 hours ago', '', '17 hours ago', '', '17 hours ago', '', '17 hours ago', '', '17 hours ago', '', '17 hours ago', '', '17 hours ago', '', '17 hours ago', '', '17 hours ago', '', '17 hours ago', '', '17 hours ago', '', '17 hours ago', '', '17 hours ago', '', '18 hours ago', '', '18 hours ago', '', '18 hours ago', '', '18 hours ago', '', '18 hours ago', '', '18 hours ago', '', '18 hours ago', '', '18 hours ago', '', '18 hours ago', '', '18 hours ago', '', '18 hours ago', '', '18 hours ago', '', '18 hours ago', '', '18 hours ago (edited)', '', '18 hours ago', '', '19 hours ago', '', '19 hours ago', '', '19 hours ago', '', '19 hours ago', '', '19 hours ago', '', '19 hours ago', '', '19 hours ago', '', '19 hours ago', '', '19 hours ago', '', '19 hours ago', '', '19 hours ago', '', '19 hours ago', '', '19 hours ago', '', '19 hours ago', '', '19 hours ago', '', '19 hours ago', '', '19 hours ago', '', '19 hours ago', '', '20 hours ago', '', '20 hours ago', '', '20 hours ago', '', '20 hours ago', '', '20 hours ago', '', '20 hours ago', '', '20 hours ago', '', '20 hours ago', '', '20 hours ago', '', '20 hours ago (edited)', '0:42', '', '20 hours ago', '', '20 hours ago', '', '20 hours ago', '', '20 hours ago', '', '20 hours ago', 'sreya.love', '', '21 hours ago', '', '21 hours ago', '', '21 hours ago', '', '21 hours ago', '', '21 hours ago', '', '21 hours ago', '', '21 hours ago', '', '21 hours ago', '', '21 hours ago', '', '21 hours ago', '', '21 hours ago', '1:13', '', '21 hours ago', '', '21 hours ago', '', '21 hours ago', '', '21 hours ago', '', '21 hours ago', '', '21 hours ago', '', '21 hours ago', '', '22 hours ago', '', '22 hours ago', '', '22 hours ago', '', '22 hours ago', '', '22 hours ago', '', '22 hours ago', '', '22 hours ago', '', '22 hours ago (edited)', '', '22 hours ago', '', '22 hours ago', '', '22 hours ago', '', '22 hours ago', '', '22 hours ago', '', '22 hours ago', '', '22 hours ago', '', '22 hours ago', '', '22 hours ago', '', '23 hours ago', '', '23 hours ago', '', '23 hours ago', '', '23 hours ago', '', '23 hours ago', '', '23 hours ago', '', '23 hours ago', '', '23 hours ago', '', '23 hours ago', '', '23 hours ago', '', '23 hours ago', '', '23 hours ago', '', '23 hours ago', '', '23 hours ago', 'https://youtube.com/channel/UCmF0_EltjybRE7R6LgSF-5g', '', '23 hours ago', '', '23 hours ago', '', '1 day ago', '', '1 day ago', '', '1 day ago', '', '1 day ago', '', '1 day ago (edited)', '', '1 day ago', '', '1 day ago', '', '1 day ago', '', '1 day ago', '', '1 day ago', '', '1 day ago', '', '1 day ago', '', '1 day ago', '', '1 day ago', '', '1 day ago', '', '1 day ago', '', '1 day ago (edited)', '', '1 day ago', '', '1 day ago', '', '1 day ago', '', '1 day ago', '', '1 day ago', '', '1 day ago', '', '1 day ago', '', '1 day ago', '', '1 day ago', '', '1 day ago', '', '1 day ago', '', '1 day ago', '', '1 day ago', '', '1 day ago', 'https://youtu.be/AeVTHhdbICg', '', '1 day ago', 'https://youtu.be/AeVTHhdbICg', '', '1 day ago', 'https://youtu.be/AeVTHhdbICg', '', '1 day ago', 'https://youtu.be/AeVTHhdbICg', '', '1 day ago', '', '1 day ago', '', '1 day ago', '', '1 day ago', '', '1 day ago', '', '1 day ago (edited)', '', '1 day ago', '', '1 day ago', '', '1 day ago', '', '1 day ago', '', '1 day ago', '', '1 day ago', '', '1 day ago', '', '1 day ago', '', '1 day ago', '', '1 day ago', '', '1 day ago', '', '1 day ago', '', '1 day ago', '', '1 day ago', 'https://youtu.be/njyflDTXYzE', '', '1 day ago', '', '1 day ago', '', '1 day ago', '', '1 day ago', '', '1 day ago', '', '1 day ago', 'https://www.youtube.com/watch?v=2iySBXku5Sw&list=RD2iySBXku5Sw&index=1', '', '1 day ago', '', '1 day ago', '', '1 day ago', '', '1 day ago', '', '1 day ago', '', '1 day ago', '', '1 day ago', '', '1 day ago', '', '1 day ago', '', '1 day ago', '', '1 day ago', '', '1 day ago', '', '1 day ago', '', '1 day ago', '', '1 day ago', 'https://youtu.be/MSgBuvLDscM', '', '1 day ago', '', '1 day ago', '', '1 day ago', '', '1 day ago', '', '1 day ago', '', '1 day ago', 'https://youtu.be/wICMDTmLsHw', '', '1 day ago', '', '1 day ago', '', '1 day ago', '', '1 day ago', '', '1 day ago', '', '1 day ago', '', '1 day ago', '', '1 day ago (edited)', '', '1 day ago', '', '1 day ago', '', '1 day ago (edited)', '', '1 day ago', '', '1 day ago', '', '1 day ago', '', '1 day ago', '', '1 day ago', '', '1 day ago', '', '1 day ago', '', '1 day ago', '', '1 day ago', '', '1 day ago', '', '1 day ago', '', '1 day ago', '', '1 day ago', '', '1 day ago', '', '1 day ago', '', '1 day ago', '', '1 day ago', '', '1 day ago', '', '1 day ago', '', '1 day ago', '', '1 day ago', '', '1 day ago', '', '1 day ago', '', '1 day ago', '#banravanleela_bhavai', '', '1 day ago', '', '1 day ago', 'https://youtu.be/vNWD6lx7heE', '', '1 day ago', '', '1 day ago', '', '1 day ago', '', '1 day ago', 'https://youtu.be/NyBYrKI7hFw', '', '1 day ago', '', '1 day ago', '', '1 day ago', '', '1 day ago', '', '1 day ago', '', '1 day ago', '', '1 day ago', '', '1 day ago', '', '1 day ago', '', '1 day ago', '', '1 day ago', '', '1 day ago', '', '1 day ago', '', '1 day ago', '', '1 day ago', '', '1 day ago', '', '1 day ago (edited)', '1:04', '', '1 day ago', '', '1 day ago', '', '1 day ago', '', '1 day ago', '', '1 day ago', '', '1 day ago', '', '1 day ago', '', '1 day ago', '', '1 day ago', '', '1 day ago', '', '1 day ago', '', '1 day ago', '', '1 day ago', '', '1 day ago', '', '1 day ago', '', '1 day ago', '', '1 day ago', '', '1 day ago', '', '1 day ago', '', '1 day ago', '', '1 day ago', '', '1 day ago', '', '1 day ago', '', '1 day ago', '', '1 day ago', '', '1 day ago', '', '1 day ago', '', '1 day ago', '', '1 day ago', '', '1 day ago', '', '1 day ago', '', '1 day ago', '', '1 day ago', '', '1 day ago', '', '1 day ago', '', '1 day ago', '', '1 day ago', '', '1 day ago', '', '1 day ago', '', '1 day ago', '', '1 day ago', '', '1 day ago', '', '1 day ago', '', '1 day ago', '', '1 day ago', '', '1 day ago', '', '1 day ago', '', '1 day ago', '', '1 day ago', '', '1 day ago', '', '1 day ago', '', '1 day ago', '', '1 day ago', '', '1 day ago', '', '1 day ago', '', '1 day ago', '', '1 day ago', '', '1 day ago', '', '1 day ago', '', '1 day ago', '', '1 day ago', '', '1 day ago', '', '1 day ago', '', '1 day ago', '', '1 day ago', '', '1 day ago', '', '1 day ago', '', '1 day ago', '', '1 day ago', '', '1 day ago', '', '1 day ago', '', '1 day ago', '', '1 day ago', '', '1 day ago', '', '1 day ago', '', '1 day ago', '', '1 day ago', '', '1 day ago', '', '1 day ago', '', '1 day ago', '', '1 day ago', '', '1 day ago', '', '1 day ago', '', '1 day ago', '', '1 day ago', '', '1 day ago', '', '1 day ago', '', '1 day ago', '', '1 day ago', '', '1 day ago', '', '1 day ago', '', '1 day ago (edited)', 'https://youtu.be/d1Tvg5ybYVw', '', '1 day ago', '', '1 day ago', '', '1 day ago', '', '1 day ago', '', '1 day ago', '', '1 day ago', '', '1 day ago', '', '1 day ago', '', '1 day ago', '', '1 day ago', '']\n"
     ]
    }
   ],
   "source": [
    "print(Time)"
   ]
  },
  {
   "cell_type": "code",
   "execution_count": 30,
   "metadata": {},
   "outputs": [
    {
     "data": {
      "text/html": [
       "<div>\n",
       "<style scoped>\n",
       "    .dataframe tbody tr th:only-of-type {\n",
       "        vertical-align: middle;\n",
       "    }\n",
       "\n",
       "    .dataframe tbody tr th {\n",
       "        vertical-align: top;\n",
       "    }\n",
       "\n",
       "    .dataframe thead th {\n",
       "        text-align: right;\n",
       "    }\n",
       "</style>\n",
       "<table border=\"1\" class=\"dataframe\">\n",
       "  <thead>\n",
       "    <tr style=\"text-align: right;\">\n",
       "      <th></th>\n",
       "      <th>Comments</th>\n",
       "      <th>Comment upvotes</th>\n",
       "      <th>Date</th>\n",
       "    </tr>\n",
       "  </thead>\n",
       "  <tbody>\n",
       "    <tr>\n",
       "      <th>0</th>\n",
       "      <td></td>\n",
       "      <td></td>\n",
       "      <td></td>\n",
       "    </tr>\n",
       "    <tr>\n",
       "      <th>1</th>\n",
       "      <td>Ghar toh chhudvaya, Ab kya chhudayegi naukri? ...</td>\n",
       "      <td>110K</td>\n",
       "      <td></td>\n",
       "    </tr>\n",
       "    <tr>\n",
       "      <th>2</th>\n",
       "      <td>Shreya Ghoshal singing for ARR is a gift to ou...</td>\n",
       "      <td></td>\n",
       "      <td></td>\n",
       "    </tr>\n",
       "    <tr>\n",
       "      <th>3</th>\n",
       "      <td>Starting music looks like one of tamil music /...</td>\n",
       "      <td></td>\n",
       "      <td></td>\n",
       "    </tr>\n",
       "    <tr>\n",
       "      <th>4</th>\n",
       "      <td>Queen of expressions. Expert dancer. Unless yo...</td>\n",
       "      <td></td>\n",
       "      <td></td>\n",
       "    </tr>\n",
       "    <tr>\n",
       "      <th>...</th>\n",
       "      <td>...</td>\n",
       "      <td>...</td>\n",
       "      <td>...</td>\n",
       "    </tr>\n",
       "    <tr>\n",
       "      <th>497</th>\n",
       "      <td>164,,4,03</td>\n",
       "      <td></td>\n",
       "      <td>17 hours ago</td>\n",
       "    </tr>\n",
       "    <tr>\n",
       "      <th>498</th>\n",
       "      <td>ARR Rock music.... ❤✨️</td>\n",
       "      <td></td>\n",
       "      <td></td>\n",
       "    </tr>\n",
       "    <tr>\n",
       "      <th>499</th>\n",
       "      <td>Shreya ghoshal is here❤️</td>\n",
       "      <td></td>\n",
       "      <td>17 hours ago</td>\n",
       "    </tr>\n",
       "    <tr>\n",
       "      <th>500</th>\n",
       "      <td>Nice song ❤️❤️❤️</td>\n",
       "      <td></td>\n",
       "      <td></td>\n",
       "    </tr>\n",
       "    <tr>\n",
       "      <th>501</th>\n",
       "      <td>👍🏻👍🏻👍🏻😻😻😻</td>\n",
       "      <td>1</td>\n",
       "      <td>17 hours ago</td>\n",
       "    </tr>\n",
       "  </tbody>\n",
       "</table>\n",
       "<p>502 rows × 3 columns</p>\n",
       "</div>"
      ],
      "text/plain": [
       "                                              Comments Comment upvotes  \\\n",
       "0                                                                        \n",
       "1    Ghar toh chhudvaya, Ab kya chhudayegi naukri? ...            110K   \n",
       "2    Shreya Ghoshal singing for ARR is a gift to ou...                   \n",
       "3    Starting music looks like one of tamil music /...                   \n",
       "4    Queen of expressions. Expert dancer. Unless yo...                   \n",
       "..                                                 ...             ...   \n",
       "497                                          164,,4,03                   \n",
       "498                             ARR Rock music.... ❤✨️                   \n",
       "499                           Shreya ghoshal is here❤️                   \n",
       "500                                   Nice song ❤️❤️❤️                   \n",
       "501                                          👍🏻👍🏻👍🏻😻😻😻               1   \n",
       "\n",
       "             Date  \n",
       "0                  \n",
       "1                  \n",
       "2                  \n",
       "3                  \n",
       "4                  \n",
       "..            ...  \n",
       "497  17 hours ago  \n",
       "498                \n",
       "499  17 hours ago  \n",
       "500                \n",
       "501  17 hours ago  \n",
       "\n",
       "[502 rows x 3 columns]"
      ]
     },
     "execution_count": 30,
     "metadata": {},
     "output_type": "execute_result"
    }
   ],
   "source": [
    "df_youtube = pd.DataFrame({})\n",
    "df_youtube[\"Comments\"] = comments\n",
    "df_youtube[\"Comment upvotes\"] = comments_upvote[:502]\n",
    "df_youtube[\"Date\"] = Time[:502]\n",
    "df_youtube"
   ]
  },
  {
   "cell_type": "code",
   "execution_count": 32,
   "metadata": {},
   "outputs": [],
   "source": [
    "driver.close()"
   ]
  },
  {
   "cell_type": "markdown",
   "metadata": {},
   "source": [
    "### Q.10)Write a python program to scrape a data for all available Hostels from https://www.hostelworld.com/ in “London” location. You have to scrape hostel name, distance from city centre, ratings, total reviews, overall reviews, privates from price, dorms from price, facilities and property description."
   ]
  },
  {
   "cell_type": "code",
   "execution_count": 1,
   "metadata": {},
   "outputs": [],
   "source": [
    "import selenium\n",
    "import pandas as pd \n",
    "from selenium import webdriver\n",
    "import time \n",
    "from selenium.common.exceptions import NoSuchElementException"
   ]
  },
  {
   "cell_type": "code",
   "execution_count": 2,
   "metadata": {},
   "outputs": [],
   "source": [
    "driver = webdriver.Chrome(\"chromedriver.exe\")\n",
    "url= (\"https://www.hostelworld.com/\")\n",
    "driver.get(url)"
   ]
  },
  {
   "cell_type": "code",
   "execution_count": 3,
   "metadata": {},
   "outputs": [
    {
     "data": {
      "text/plain": [
       "<selenium.webdriver.remote.webelement.WebElement (session=\"0e4e625cdf887188326316a4163b5b20\", element=\"d8c61a2b-8f52-4e7d-bd7d-e513e1fc2b30\")>"
      ]
     },
     "execution_count": 3,
     "metadata": {},
     "output_type": "execute_result"
    }
   ],
   "source": [
    "search10 = driver.find_element_by_xpath(\"//input[@class='location-text']\")\n",
    "search10"
   ]
  },
  {
   "cell_type": "code",
   "execution_count": 5,
   "metadata": {},
   "outputs": [],
   "source": [
    "search10.send_keys(\"London\")"
   ]
  },
  {
   "cell_type": "code",
   "execution_count": 7,
   "metadata": {},
   "outputs": [],
   "source": [
    "city10 = driver.find_element_by_xpath(\"(//div[@class='label'])[1]\")\n",
    "city10.click()"
   ]
  },
  {
   "cell_type": "code",
   "execution_count": 8,
   "metadata": {},
   "outputs": [],
   "source": [
    "btn10 = driver.find_element_by_xpath(\"//button[@class='button primary large']\")\n",
    "btn10.click()"
   ]
  },
  {
   "cell_type": "code",
   "execution_count": 9,
   "metadata": {},
   "outputs": [
    {
     "data": {
      "text/plain": [
       "82"
      ]
     },
     "execution_count": 9,
     "metadata": {},
     "output_type": "execute_result"
    }
   ],
   "source": [
    "Hostel_name = []\n",
    "for i in range(1,4):\n",
    "    pg = \"https://www.hostelworld.com/s?q=London,%20England&country=England&city=London&type=city&id=3&from=2021-09-28&to=2021-10-01&guests=2&page=\"+str(i)\n",
    "    driver.get(pg)\n",
    "    time.sleep(3)\n",
    "    hostel_name = driver.find_elements_by_xpath(\"//h2[@class='title title-6']\")\n",
    "    for j in hostel_name:\n",
    "        try:\n",
    "            Hostel_name.append(j.text)\n",
    "        except:\n",
    "            Hostel_name.append(\"--\")\n",
    "    \n",
    "len(Hostel_name)\n"
   ]
  },
  {
   "cell_type": "code",
   "execution_count": 10,
   "metadata": {},
   "outputs": [
    {
     "name": "stdout",
     "output_type": "stream",
     "text": [
      "['London Waterloo Hostel', \"St Christopher's Inn - London Bridge\", 'Barmy Badger Backpackers', \"Wombat's The City Hostel London\", 'Prime Backpackers Angel', \"St Christopher's Village\", 'PubLove @ The Steam Engine, Waterloo', 'Smart Camden Inn Hostel', 'PubLove @ The Crown, Battersea', 'Safestay London Elephant & Castle', 'Urbany Hostel London', 'PubLove @ The Green Man, Paddington', 'Mornington Camden', \"St Christopher's Inn - Liverpool Street\", 'PubLove @ The Rose & Crown', 'New Cross Inn Hostel', 'Strand Continental', \"St Christopher's Oasis-Female Only\", \"St Christopher's Camden\", 'Astor Museum Inn', 'Astor Kensington', 'Mapesbury Hostel', 'Hootananny Hostel', 'Astor Hyde Park', 'Phoenix Hostel', '247london Hostel and Private Rooms', 'Burlington Residence', 'SoHostel', 'Clink261', 'Generator London', 'PubLove @ The White Ferry, Victoria', 'Smart Russell Square Hostel', 'Keystone House Kings Cross', 'Smart Hyde Park View Hostel', 'Saint James Backpackers', 'YHA London Central', 'The Finnish Church in London', 'Queen Elizabeth Chelsea', 'Smart Hyde Park Inn Hostel', 'Pickwick Hall', 'No.8 Willesden Hostel London', 'Abercorn House', 'Best London Hostels', 'Le Junction Hostel - Pub & Garden', 'No.8 Seven Sisters', 'Safestay London Kensington Holland Park', 'Park Villa', 'Selina Camden', 'The Dictionary Hostel', 'Venture Hostel', 'PubLove @ The Exmouth Arms, Euston', 'Kensal Green Backpackers', 'London Backpackers', 'Belgrave Hotel London', 'Marble Arch Inn', 'City Hotel Carlton', 'Hyde Park Court Hotel', 'All Star Private Studios', 'Britannia Inn Hotel', 'Fairway Hotel', 'London House Hotel', 'Park Hotel', 'Golders Park Hotel', 'Wellesley Hotel', \"Tony's House Hotel\", 'London Town Hotel', 'The Crystal Lodge Hotel', 'Belgravia Hotel', 'TLK Apartments & Hotel', 'Beaconsfield', 'Airways Hotel Victoria London', 'London Wembley International Hotel', 'Elmwood Hotel', 'The W14 Hotel & Bar', 'Victor Hotel', 'Best Western Boltons London Kensington', 'Kip Hotel', 'The Dover', 'Park Hotel Essex', 'Cranbrook Hotel', 'St. Athans', 'Aron Guest House']\n"
     ]
    }
   ],
   "source": [
    "print(Hostel_name)"
   ]
  },
  {
   "cell_type": "code",
   "execution_count": 11,
   "metadata": {},
   "outputs": [],
   "source": [
    "first_bnt = driver.find_element_by_xpath(\"//div[@class='pagination-item pagination-first']\")\n",
    "first_bnt.click()"
   ]
  },
  {
   "cell_type": "code",
   "execution_count": 12,
   "metadata": {},
   "outputs": [],
   "source": [
    "Distance = []\n",
    "for i in range(1,4):-\n",
    "    pg = \"https://www.hostelworld.com/s?q=London,%20England&country=England&city=London&type=city&id=3&from=2021-09-28&to=2021-10-01&guests=2&page=\"+str(i)\n",
    "    driver.get(pg)\n",
    "    time.sleep(3)\n",
    "    kms = driver.find_elements_by_xpath(\"//span[@class='description']\")\n",
    "    for a in kms:\n",
    "        try:\n",
    "            \n",
    "            Distance.append(a.text)\n",
    "        except:\n",
    "            Distance.append(\"--\")\n",
    "            \n",
    "len(Distance)\n",
    "first_bnt = driver.find_element_by_xpath(\"//div[@class='pagination-item pagination-first']\")\n",
    "first_bnt.click()"
   ]
  },
  {
   "cell_type": "code",
   "execution_count": 13,
   "metadata": {},
   "outputs": [
    {
     "name": "stdout",
     "output_type": "stream",
     "text": [
      "['Hostel - 5.5km from city centre', 'Hostel - 3.2km from city centre', 'Hostel - 3.6km from city centre', 'Hostel - 5km from city centre', 'Hostel - 5km from city centre', 'Hostel - 4.9km from city centre', 'Hostel - 4.3km from city centre', 'Hostel - 4.1km from city centre', 'Hostel - 2.4km from city centre', 'Hostel - 3.6km from city centre', 'Hostel - 6.3km from city centre', 'Hostel - 8.2km from city centre', 'Hostel - 1.8km from city centre', 'Hostel - 5.9km from city centre', 'Hostel - 7.1km from city centre', 'Hostel - 4.7km from city centre', 'Hostel - 2.3km from city centre', 'Hostel - 5.4km from city centre', 'Hostel - 4.5km from city centre', 'Hostel - 6.9km from city centre', 'Hostel - 6.1km from city centre', 'Hostel - 4.2km from city centre', 'Hostel - 4.3km from city centre', 'Hostel - 2.2km from city centre', 'Hostel - 5.5km from city centre', 'Hostel - 1.6km from city centre', 'Hostel - 9.8km from city centre', 'Hostel - 10km from city centre', 'Hostel - 8.2km from city centre', 'Hostel - 1.7km from city centre', 'Hostel - 1.3km from city centre', 'Hostel - 1.8km from city centre', 'Hostel - 1.8km from city centre', 'Hostel - 4.4km from city centre', 'Hostel - 8.2km from city centre', 'Hostel - 4.3km from city centre', 'Hostel - 8.2km from city centre', 'Hostel - 5km from city centre', 'Hostel - 3km from city centre', 'Hostel - 2km from city centre', 'Hostel - 0.7km from city centre', 'Hostel - 9km from city centre', 'Hostel - 5.7km from city centre', 'Hostel - 2.6km from city centre', 'Hostel - 2.9km from city centre', 'Hostel - 3.5km from city centre', 'Hostel - 7.3km from city centre', 'Hostel - 3.2km from city centre', 'Hostel - 5.5km from city centre', 'Hostel - 4.1km from city centre', 'Hostel - 0.5km from city centre', 'Hostel - 3.4km from city centre', 'Hostel - 11.9km from city centre', 'Hotel - 4.3km from city centre', 'Hotel - 14.5km from city centre', 'Hotel - 2.2km from city centre', 'Hotel - 6.5km from city centre', 'Hotel - 3.5km from city centre', 'Hotel - 4.3km from city centre', 'Hotel - 1.8km from city centre', 'Hotel - 5.3km from city centre', 'Hotel - 4.9km from city centre', 'Hotel - 10.4km from city centre', 'Hotel - 14.7km from city centre', 'Hotel - 4.3km from city centre', 'Hotel - 5.4km from city centre', 'Hotel - 11.4km from city centre', 'Hotel - 2.4km from city centre', 'Hotel - 19.9km from city centre', 'Hotel - 8.6km from city centre', 'Hotel - 2.1km from city centre', 'Hotel - 13.3km from city centre', 'Hotel - 3.2km from city centre', 'Hotel - 6.5km from city centre', 'Hotel - 1.8km from city centre', 'Hotel - 5.4km from city centre', 'Hotel - 6.8km from city centre', 'Hotel - 1.9km from city centre', 'Hotel - 24.1km from city centre', 'Hotel - 14.8km from city centre', 'Bed and Breakfast - 2.9km from city centre', 'Bed and Breakfast - 13.1km from city centre']\n"
     ]
    }
   ],
   "source": [
    "print(Distance)"
   ]
  },
  {
   "cell_type": "code",
   "execution_count": 14,
   "metadata": {},
   "outputs": [
    {
     "data": {
      "text/plain": [
       "67"
      ]
     },
     "execution_count": 14,
     "metadata": {},
     "output_type": "execute_result"
    }
   ],
   "source": [
    "Ratings = []\n",
    "for i in range(1,4):\n",
    "    pg = \"https://www.hostelworld.com/s?q=London,%20England&country=England&city=London&type=city&id=3&from=2021-09-28&to=2021-10-01&guests=2&page=\"+str(i)\n",
    "    driver.get(pg)\n",
    "    time.sleep(3)\n",
    "    rate = driver.find_elements_by_xpath(\"//div[@class='score orange big']\")\n",
    "    for a in rate:\n",
    "        try:\n",
    "            Ratings.append(a.text)\n",
    "        except:\n",
    "            Ratings.append(\"--\")\n",
    "            \n",
    "first_bnt = driver.find_element_by_xpath(\"//div[@class='pagination-item pagination-first']\")\n",
    "first_bnt.click()\n",
    "len(Ratings)"
   ]
  },
  {
   "cell_type": "code",
   "execution_count": 15,
   "metadata": {},
   "outputs": [
    {
     "name": "stdout",
     "output_type": "stream",
     "text": [
      "['7.9', '10', '7.4', '6.2', '10', '8.6', '9.4', '8.9', '8.8', '8.3', '7.8', '7.0', '7.8', '9.8', '8.1', '10', '7.0', '8.6', '6.9', '8.1', '7.6', '7.3', '7.6', '9.0', '6.3', '9.1', '7.9', '6.6', '10', '8.1', '7.8', '7.0', '8.1', '7.6', '6.6', '6.2', '7.0', '7.3', '7.6', '8.4', '7.2', '7.3', '8.2', '7.0', '8.2', '8.1', '7.1', '7.6', '7.4', '7.8', '8.5', '7.7', '8.5', '8.1', '9.7', '9.4', '9.4', '8.4', '6.0', '9.7', '8.1', '6.9', '6.6', '7.1', '7.1', '9.4', '7.6']\n"
     ]
    }
   ],
   "source": [
    "print(Ratings)"
   ]
  },
  {
   "cell_type": "code",
   "execution_count": 16,
   "metadata": {},
   "outputs": [
    {
     "data": {
      "text/plain": [
       "82"
      ]
     },
     "execution_count": 16,
     "metadata": {},
     "output_type": "execute_result"
    }
   ],
   "source": [
    "url10 = []\n",
    "for i in range(1,4):\n",
    "    pg = \"https://www.hostelworld.com/s?q=London,%20England&country=England&city=London&type=city&id=3&from=2021-09-28&to=2021-10-01&guests=2&page=\"+str(i)\n",
    "    driver.get(pg)\n",
    "    time.sleep(3)\n",
    "    link = driver.find_elements_by_xpath(\"(//h2[@class='title title-6'])//a\")\n",
    "    for j in link:\n",
    "        url10.append(j.get_attribute(\"href\"))\n",
    "len(url10)"
   ]
  },
  {
   "cell_type": "code",
   "execution_count": 17,
   "metadata": {},
   "outputs": [
    {
     "name": "stdout",
     "output_type": "stream",
     "text": [
      "['https://www.hostelworld.com/pwa/hosteldetails.php/PubLove-The-Rose-Crown/London/297123?from=2021-09-28&to=2021-10-01&guests=2', 'https://www.hostelworld.com/pwa/hosteldetails.php/The-Finnish-Church-in-London/London/80791?from=2021-09-28&to=2021-10-01&guests=2', 'https://www.hostelworld.com/pwa/hosteldetails.php/Saint-James-Backpackers/London/70909?from=2021-09-28&to=2021-10-01&guests=2', 'https://www.hostelworld.com/pwa/hosteldetails.php/PubLove-The-Green-Man-Paddington/London/21953?from=2021-09-28&to=2021-10-01&guests=2', 'https://www.hostelworld.com/pwa/hosteldetails.php/Mornington-Camden/London/285882?from=2021-09-28&to=2021-10-01&guests=2', 'https://www.hostelworld.com/pwa/hosteldetails.php/St-Christopher-s-Village/London/502?from=2021-09-28&to=2021-10-01&guests=2', 'https://www.hostelworld.com/pwa/hosteldetails.php/Astor-Museum-Inn/London/520?from=2021-09-28&to=2021-10-01&guests=2', 'https://www.hostelworld.com/pwa/hosteldetails.php/PubLove-The-White-Ferry-Victoria/London/39761?from=2021-09-28&to=2021-10-01&guests=2', 'https://www.hostelworld.com/pwa/hosteldetails.php/Wombat-s-The-City-Hostel-London/London/88047?from=2021-09-28&to=2021-10-01&guests=2', 'https://www.hostelworld.com/pwa/hosteldetails.php/Hootananny-Hostel/London/24068?from=2021-09-28&to=2021-10-01&guests=2', 'https://www.hostelworld.com/pwa/hosteldetails.php/Strand-Continental/London/51118?from=2021-09-28&to=2021-10-01&guests=2', 'https://www.hostelworld.com/pwa/hosteldetails.php/Smart-Russell-Square-Hostel/London/29412?from=2021-09-28&to=2021-10-01&guests=2', 'https://www.hostelworld.com/pwa/hosteldetails.php/Astor-Kensington/London/523?from=2021-09-28&to=2021-10-01&guests=2', 'https://www.hostelworld.com/pwa/hosteldetails.php/Urbany-Hostel-London/London/303427?from=2021-09-28&to=2021-10-01&guests=2', 'https://www.hostelworld.com/pwa/hosteldetails.php/St-Christopher-s-Oasis-Female-Only/London/504?from=2021-09-28&to=2021-10-01&guests=2', 'https://www.hostelworld.com/pwa/hosteldetails.php/Prime-Backpackers-Angel/London/93902?from=2021-09-28&to=2021-10-01&guests=2', 'https://www.hostelworld.com/pwa/hosteldetails.php/St-Christopher-s-Inn-London-Bridge/London/503?from=2021-09-28&to=2021-10-01&guests=2', 'https://www.hostelworld.com/pwa/hosteldetails.php/No-8-Willesden-Hostel-London/London/18420?from=2021-09-28&to=2021-10-01&guests=2', 'https://www.hostelworld.com/pwa/hosteldetails.php/New-Cross-Inn-Hostel/London/15204?from=2021-09-28&to=2021-10-01&guests=2', 'https://www.hostelworld.com/pwa/hosteldetails.php/Smart-Hyde-Park-View-Hostel/London/8069?from=2021-09-28&to=2021-10-01&guests=2', 'https://www.hostelworld.com/pwa/hosteldetails.php/Generator-London/London/510?from=2021-09-28&to=2021-10-01&guests=2', 'https://www.hostelworld.com/pwa/hosteldetails.php/Smart-Hyde-Park-Inn-Hostel/London/517?from=2021-09-28&to=2021-10-01&guests=2', 'https://www.hostelworld.com/pwa/hosteldetails.php/Smart-Camden-Inn-Hostel/London/596?from=2021-09-28&to=2021-10-01&guests=2', 'https://www.hostelworld.com/pwa/hosteldetails.php/St-Christopher-s-Camden/London/505?from=2021-09-28&to=2021-10-01&guests=2', 'https://www.hostelworld.com/pwa/hosteldetails.php/Mapesbury-Hostel/London/19667?from=2021-09-28&to=2021-10-01&guests=2', 'https://www.hostelworld.com/pwa/hosteldetails.php/Astor-Hyde-Park/London/25678?from=2021-09-28&to=2021-10-01&guests=2', 'https://www.hostelworld.com/pwa/hosteldetails.php/Phoenix-Hostel/London/48221?from=2021-09-28&to=2021-10-01&guests=2', 'https://www.hostelworld.com/pwa/hosteldetails.php/247london-Hostel-and-Private-Rooms/London/64523?from=2021-09-28&to=2021-10-01&guests=2', 'https://www.hostelworld.com/pwa/hosteldetails.php/St-Christopher-s-Inn-Liverpool-Street/London/271698?from=2021-09-28&to=2021-10-01&guests=2', 'https://www.hostelworld.com/pwa/hosteldetails.php/Keystone-House-Kings-Cross/London/43465?from=2021-09-28&to=2021-10-01&guests=2', 'https://www.hostelworld.com/pwa/hosteldetails.php/PubLove-The-White-Ferry-Victoria/London/39761?from=2021-09-28&to=2021-10-01&guests=2', 'https://www.hostelworld.com/pwa/hosteldetails.php/Smart-Russell-Square-Hostel/London/29412?from=2021-09-28&to=2021-10-01&guests=2', 'https://www.hostelworld.com/pwa/hosteldetails.php/Keystone-House-Kings-Cross/London/43465?from=2021-09-28&to=2021-10-01&guests=2', 'https://www.hostelworld.com/pwa/hosteldetails.php/Smart-Hyde-Park-View-Hostel/London/8069?from=2021-09-28&to=2021-10-01&guests=2', 'https://www.hostelworld.com/pwa/hosteldetails.php/Saint-James-Backpackers/London/70909?from=2021-09-28&to=2021-10-01&guests=2', 'https://www.hostelworld.com/pwa/hosteldetails.php/YHA-London-Central/London/23598?from=2021-09-28&to=2021-10-01&guests=2', 'https://www.hostelworld.com/pwa/hosteldetails.php/The-Finnish-Church-in-London/London/80791?from=2021-09-28&to=2021-10-01&guests=2', 'https://www.hostelworld.com/pwa/hosteldetails.php/Queen-Elizabeth-Chelsea/London/50443?from=2021-09-28&to=2021-10-01&guests=2', 'https://www.hostelworld.com/pwa/hosteldetails.php/Smart-Hyde-Park-Inn-Hostel/London/517?from=2021-09-28&to=2021-10-01&guests=2', 'https://www.hostelworld.com/pwa/hosteldetails.php/Pickwick-Hall/London/7502?from=2021-09-28&to=2021-10-01&guests=2', 'https://www.hostelworld.com/pwa/hosteldetails.php/No-8-Willesden-Hostel-London/London/18420?from=2021-09-28&to=2021-10-01&guests=2', 'https://www.hostelworld.com/pwa/hosteldetails.php/Abercorn-House/London/34216?from=2021-09-28&to=2021-10-01&guests=2', 'https://www.hostelworld.com/pwa/hosteldetails.php/Best-London-Hostels/London/72053?from=2021-09-28&to=2021-10-01&guests=2', 'https://www.hostelworld.com/pwa/hosteldetails.php/Le-Junction-Hostel-Pub-Garden/London/90013?from=2021-09-28&to=2021-10-01&guests=2', 'https://www.hostelworld.com/pwa/hosteldetails.php/No-8-Seven-Sisters/London/91108?from=2021-09-28&to=2021-10-01&guests=2', 'https://www.hostelworld.com/pwa/hosteldetails.php/Safestay-London-Kensington-Holland-Park/London/93920?from=2021-09-28&to=2021-10-01&guests=2', 'https://www.hostelworld.com/pwa/hosteldetails.php/Park-Villa/London/98066?from=2021-09-28&to=2021-10-01&guests=2', 'https://www.hostelworld.com/pwa/hosteldetails.php/Selina-Camden/London/310274?from=2021-09-28&to=2021-10-01&guests=2', 'https://www.hostelworld.com/pwa/hosteldetails.php/The-Dictionary-Hostel/London/310273?from=2021-09-28&to=2021-10-01&guests=2', 'https://www.hostelworld.com/pwa/hosteldetails.php/Venture-Hostel/London/14746?from=2021-09-28&to=2021-10-01&guests=2', 'https://www.hostelworld.com/pwa/hosteldetails.php/PubLove-The-Exmouth-Arms-Euston/London/93796?from=2021-09-28&to=2021-10-01&guests=2', 'https://www.hostelworld.com/pwa/hosteldetails.php/Kensal-Green-Backpackers/London/4483?from=2021-09-28&to=2021-10-01&guests=2', 'https://www.hostelworld.com/pwa/hosteldetails.php/London-Backpackers/London/527?from=2021-09-28&to=2021-10-01&guests=2', 'https://www.hostelworld.com/pwa/hosteldetails.php/Belgrave-Hotel-London/London/268771?from=2021-09-28&to=2021-10-01&guests=2', 'https://www.hostelworld.com/pwa/hosteldetails.php/Marble-Arch-Inn/London/13337?from=2021-09-28&to=2021-10-01&guests=2', 'https://www.hostelworld.com/pwa/hosteldetails.php/City-Hotel-Carlton/London/27551?from=2021-09-28&to=2021-10-01&guests=2', 'https://www.hostelworld.com/pwa/hosteldetails.php/Hyde-Park-Court-Hotel/London/5107?from=2021-09-28&to=2021-10-01&guests=2', 'https://www.hostelworld.com/pwa/hosteldetails.php/All-Star-Private-Studios/London/24709?from=2021-09-28&to=2021-10-01&guests=2', 'https://www.hostelworld.com/pwa/hosteldetails.php/Britannia-Inn-Hotel/London/47955?from=2021-09-28&to=2021-10-01&guests=2', 'https://www.hostelworld.com/pwa/hosteldetails.php/Fairway-Hotel/London/81121?from=2021-09-28&to=2021-10-01&guests=2', 'https://www.hostelworld.com/pwa/hosteldetails.php/All-Star-Private-Studios/London/24709?from=2021-09-28&to=2021-10-01&guests=2', 'https://www.hostelworld.com/pwa/hosteldetails.php/Britannia-Inn-Hotel/London/47955?from=2021-09-28&to=2021-10-01&guests=2', 'https://www.hostelworld.com/pwa/hosteldetails.php/Hyde-Park-Court-Hotel/London/5107?from=2021-09-28&to=2021-10-01&guests=2', 'https://www.hostelworld.com/pwa/hosteldetails.php/London-House-Hotel/London/529?from=2021-09-28&to=2021-10-01&guests=2', 'https://www.hostelworld.com/pwa/hosteldetails.php/Park-Hotel/London/295852?from=2021-09-28&to=2021-10-01&guests=2', 'https://www.hostelworld.com/pwa/hosteldetails.php/Golders-Park-Hotel/London/305286?from=2021-09-28&to=2021-10-01&guests=2', 'https://www.hostelworld.com/pwa/hosteldetails.php/Wellesley-Hotel/London/305734?from=2021-09-28&to=2021-10-01&guests=2', 'https://www.hostelworld.com/pwa/hosteldetails.php/The-Dover/London/267341?from=2021-09-28&to=2021-10-01&guests=2', 'https://www.hostelworld.com/pwa/hosteldetails.php/Tony-s-House-Hotel/London/8503?from=2021-09-28&to=2021-10-01&guests=2', 'https://www.hostelworld.com/pwa/hosteldetails.php/Airways-Hotel-Victoria-London/London/16289?from=2021-09-28&to=2021-10-01&guests=2', 'https://www.hostelworld.com/pwa/hosteldetails.php/The-Crystal-Lodge-Hotel/London/96148?from=2021-09-28&to=2021-10-01&guests=2', 'https://www.hostelworld.com/pwa/hosteldetails.php/Beaconsfield/London/11708?from=2021-09-28&to=2021-10-01&guests=2', 'https://www.hostelworld.com/pwa/hosteldetails.php/TLK-Apartments-Hotel/London/304817?from=2021-09-28&to=2021-10-01&guests=2', 'https://www.hostelworld.com/pwa/hosteldetails.php/London-Wembley-International-Hotel/London/26351?from=2021-09-28&to=2021-10-01&guests=2', 'https://www.hostelworld.com/pwa/hosteldetails.php/Elmwood-Hotel/London/34338?from=2021-09-28&to=2021-10-01&guests=2', 'https://www.hostelworld.com/pwa/hosteldetails.php/The-W14-Hotel-Bar/London/50220?from=2021-09-28&to=2021-10-01&guests=2', 'https://www.hostelworld.com/pwa/hosteldetails.php/Victor-Hotel/London/76699?from=2021-09-28&to=2021-10-01&guests=2', 'https://www.hostelworld.com/pwa/hosteldetails.php/Best-Western-Boltons-London-Kensington/London/266666?from=2021-09-28&to=2021-10-01&guests=2', 'https://www.hostelworld.com/pwa/hosteldetails.php/Park-Hotel-Essex/London/10143?from=2021-09-28&to=2021-10-01&guests=2', 'https://www.hostelworld.com/pwa/hosteldetails.php/Cranbrook-Hotel/London/10144?from=2021-09-28&to=2021-10-01&guests=2', 'https://www.hostelworld.com/pwa/hosteldetails.php/St-Athans/London/16231?from=2021-09-28&to=2021-10-01&guests=2', 'https://www.hostelworld.com/pwa/hosteldetails.php/Aron-Guest-House/London/64748?from=2021-09-28&to=2021-10-01&guests=2']\n"
     ]
    }
   ],
   "source": [
    "print(url10)"
   ]
  },
  {
   "cell_type": "code",
   "execution_count": 18,
   "metadata": {},
   "outputs": [
    {
     "data": {
      "text/plain": [
       "82"
      ]
     },
     "execution_count": 18,
     "metadata": {},
     "output_type": "execute_result"
    }
   ],
   "source": [
    "Total_review = []\n",
    "over_all = []\n",
    "for i in url10:\n",
    "    driver.get(i)\n",
    "    time.sleep(3)\n",
    "    try:\n",
    "        tr = driver.find_element_by_xpath(\"(//div[@class='reviews'])[1]\")\n",
    "        Total_review.append(tr.text)\n",
    "    except:\n",
    "        Total_review.append(\"--\")\n",
    "        \n",
    "len(Total_review)\n"
   ]
  },
  {
   "cell_type": "code",
   "execution_count": 19,
   "metadata": {},
   "outputs": [
    {
     "name": "stdout",
     "output_type": "stream",
     "text": [
      "['101 Total Reviews', '190 Total Reviews', '1763 Total Reviews', '394 Total Reviews', '41 Total Reviews', '10855 Total Reviews', '8731 Total Reviews', '145 Total Reviews', '13191 Total Reviews', '1410 Total Reviews', '781 Total Reviews', '9511 Total Reviews', '6330 Total Reviews', '124 Total Reviews', '598 Total Reviews', '514 Total Reviews', '3237 Total Reviews', '4583 Total Reviews', '1015 Total Reviews', '4481 Total Reviews', '6746 Total Reviews', '6245 Total Reviews', '2687 Total Reviews', '3709 Total Reviews', '357 Total Reviews', '11341 Total Reviews', '3434 Total Reviews', '443 Total Reviews', '357 Total Reviews', '8113 Total Reviews', '145 Total Reviews', '9511 Total Reviews', '8113 Total Reviews', '4481 Total Reviews', '1763 Total Reviews', '4699 Total Reviews', '190 Total Reviews', '3158 Total Reviews', '6245 Total Reviews', '2231 Total Reviews', '4583 Total Reviews', '3661 Total Reviews', '222 Total Reviews', '385 Total Reviews', '3624 Total Reviews', '1088 Total Reviews', '846 Total Reviews', '8 Total Reviews', '13 Total Reviews', '1170 Total Reviews', '982 Total Reviews', '3601 Total Reviews', '4124 Total Reviews', '2 Total Reviews', '214 Total Reviews', '39 Total Reviews', '0 Total Reviews', '150 Total Reviews', '17 Total Reviews', '0 Total Reviews', '150 Total Reviews', '17 Total Reviews', '0 Total Reviews', '0 Total Reviews', '0 Total Reviews', '0 Total Reviews', '0 Total Reviews', '0 Total Reviews', '406 Total Reviews', '46 Total Reviews', '0 Total Reviews', '28 Total Reviews', '0 Total Reviews', '14 Total Reviews', '112 Total Reviews', '276 Total Reviews', '0 Total Reviews', '2 Total Reviews', '0 Total Reviews', '0 Total Reviews', '236 Total Reviews', '0 Total Reviews']\n"
     ]
    }
   ],
   "source": [
    "print(Total_review)"
   ]
  },
  {
   "cell_type": "code",
   "execution_count": 24,
   "metadata": {},
   "outputs": [
    {
     "data": {
      "text/plain": [
       "85"
      ]
     },
     "execution_count": 24,
     "metadata": {},
     "output_type": "execute_result"
    }
   ],
   "source": [
    "Review = []\n",
    "for i in range(1,4):\n",
    "    pg = \"https://www.hostelworld.com/s?q=London,%20England&country=England&city=London&type=city&id=3&from=2021-09-28&to=2021-10-01&guests=2&page=\"+str(i)\n",
    "    driver.get(pg)\n",
    "    time.sleep(3)\n",
    "    re = driver.find_elements_by_xpath(\"((//div[@class='keyword'])//span)\")\n",
    "    for a  in re:\n",
    "        try:\n",
    "            Review.append(a.text)\n",
    "        except:\n",
    "            Review.append(\"--\")\n",
    "\n",
    "len(Review)\n",
    "            "
   ]
  },
  {
   "cell_type": "code",
   "execution_count": 25,
   "metadata": {},
   "outputs": [
    {
     "name": "stdout",
     "output_type": "stream",
     "text": [
      "['Fabulous', 'Superb', 'Fabulous', 'Very Good', 'Very Good', 'Superb', 'Fabulous', 'Superb', 'Fabulous', 'Fabulous', 'Very Good', 'Good', 'Fabulous', 'Superb', 'Good', 'Superb', 'Superb', 'Very Good', 'Good', 'Very Good', 'Fabulous', 'Superb', 'Superb', 'Very Good', 'Good', 'Fabulous', 'Superb', 'Very Good', 'Good', 'Superb', 'Fabulous', 'Very Good', 'Very Good', 'Fabulous', 'Very Good', 'Fabulous', 'Fabulous', 'Very Good', 'Fabulous', 'Superb', 'Fabulous', 'Very Good', 'Superb', 'Fabulous', 'Very Good', 'Rating', 'Good', 'Very Good', 'Fabulous', 'Superb', 'Superb', 'Very Good', 'Rating', 'Very Good', 'Very Good', 'Fabulous', 'Superb', 'Fabulous', 'Rating', 'No Rating', 'Good', 'Superb', 'No Rating', 'Good', 'Superb', 'No Rating', 'No Rating', 'No Rating', 'No Rating', 'No Rating', 'No Rating', 'Fabulous', 'Good', 'No Rating', 'Good', 'No Rating', 'Very Good', 'Very Good', 'Superb', 'No Rating', 'Rating', 'No Rating', 'No Rating', 'Very Good', 'No Rating']\n"
     ]
    }
   ],
   "source": [
    "print(Review)"
   ]
  },
  {
   "cell_type": "code",
   "execution_count": 42,
   "metadata": {},
   "outputs": [
    {
     "data": {
      "text/plain": [
       "60"
      ]
     },
     "execution_count": 42,
     "metadata": {},
     "output_type": "execute_result"
    }
   ],
   "source": [
    "Price = []\n",
    "for i  in range(1,4):\n",
    "    pg =\"https://www.hostelworld.com/s?q=London,%20England&country=England&city=London&type=city&id=3&from=2021-09-28&to=2021-10-01&guests=2&page=\"+str(i)\n",
    "    driver.get(pg)\n",
    "    time.sleep(3)\n",
    "    pr = driver.find_elements_by_xpath(\"//div[@class='price-col']\")\n",
    "    for a in pr:\n",
    "        try:\n",
    "            Price.append(a.text.replace(\"From\\n\",\"  \"))\n",
    "        except:\n",
    "            Price.append(\"--\")\n",
    "            \n",
    "            \n",
    "Price\n",
    "Private = Price[::2]       \n",
    "len(Private)"
   ]
  },
  {
   "cell_type": "code",
   "execution_count": 43,
   "metadata": {},
   "outputs": [
    {
     "name": "stdout",
     "output_type": "stream",
     "text": [
      "['No Privates Available', 'No Privates Available', 'Privates   Rs7457', 'Privates   Rs14562', 'No Privates Available', 'Privates   Rs5865', 'No Privates Available', 'No Privates Available', 'Privates   Rs8894', 'No Privates Available', 'Privates   Rs7281', 'No Privates Available', 'No Privates Available', 'No Privates Available', 'No Privates Available', 'Privates   Rs7408', 'No Privates Available', 'No Privates Available', 'Privates   Rs3113', 'Privates   Rs6345', 'Privates   Rs9000', 'Privates   Rs7859', 'No Privates Available', 'Privates   Rs13753', 'Privates   Rs4551', 'No Privates Available', 'No Privates Available', 'Privates   Rs5157', 'No Privates Available', 'Privates   Rs12394', 'Privates   Rs7117', 'Privates   Rs3015', 'Privates   Rs3767', 'No Privates Available', 'No Privates Available', 'No Privates Available', 'Privates   Rs5964', 'Privates   Rs6135', 'No Privates Available', 'Privates   Rs6371', 'Privates   Rs13652', 'Privates   Rs6984', 'Privates   Rs6674', 'Privates   Rs3539', 'Privates   Rs3539', 'No Privates Available', 'No Privates Available', 'Privates   Rs7281', 'No Privates Available', 'Privates   Rs17191', 'Privates   Rs18202', 'No Privates Available', 'Privates   Rs4950', 'Privates   Rs6978', 'Privates   Rs13045', 'Privates   Rs9270', 'Privates   Rs6978', 'Privates   Rs7416', 'Privates   Rs7112', 'Privates   Rs4520']\n"
     ]
    }
   ],
   "source": [
    "print(Private)"
   ]
  },
  {
   "cell_type": "code",
   "execution_count": 59,
   "metadata": {},
   "outputs": [
    {
     "data": {
      "text/plain": [
       "60"
      ]
     },
     "execution_count": 59,
     "metadata": {},
     "output_type": "execute_result"
    }
   ],
   "source": [
    "Dorms = Price[1::2]\n",
    "len(Dorms)"
   ]
  },
  {
   "cell_type": "code",
   "execution_count": 60,
   "metadata": {},
   "outputs": [
    {
     "name": "stdout",
     "output_type": "stream",
     "text": [
      "['Dorms   Rs1618', 'Dorms   Rs2639', 'Dorms   Rs2402', 'Dorms   Rs1685', 'Dorms   Rs3170', 'Dorms   Rs1254', 'Dorms   Rs1652', 'Dorms   Rs1685', 'Dorms   Rs1873', 'Dorms   Rs1633', 'Dorms   Rs2275', 'Dorms   Rs1461', 'Dorms   Rs1517', 'Dorms   Rs1820', 'Dorms   Rs1422', 'Dorms   Rs2393', 'Dorms   Rs1254', 'Dorms   Rs753', 'Dorms   Rs1210', 'Dorms   Rs1461', 'Dorms   Rs2855', 'Dorms   Rs1259', 'Dorms   Rs1340', 'Dorms   Rs1534', 'No Dorms Available', 'Dorms   Rs1517', 'Dorms   Rs1206', 'No Dorms Available', 'Dorms   Rs1540', 'No Dorms Available', 'Dorms   Rs2063', 'Dorms   Rs1381', 'Dorms   Rs1092', 'Dorms   Rs1551', 'Dorms   Rs3775', 'Dorms   Rs2022', 'No Dorms Available', 'Dorms   Rs2225', 'Dorms   Rs1426', 'Dorms   Rs1820', 'Dorms   Rs1517', 'Dorms   Rs1289', 'No Dorms Available', 'Dorms   Rs2528', 'Dorms   Rs1618', 'Dorms   Rs1011', 'Dorms   Rs753', 'Dorms   Rs2002', 'Dorms   Rs1854', 'Dorms   Rs2708', 'Dorms   Rs1719', 'Dorms   Rs1247', 'Dorms   Rs1112', 'No Dorms Available', 'No Dorms Available', 'No Dorms Available', 'No Dorms Available', 'No Dorms Available', 'No Dorms Available', 'No Dorms Available']\n"
     ]
    }
   ],
   "source": [
    "print(Dorms)"
   ]
  },
  {
   "cell_type": "code",
   "execution_count": 54,
   "metadata": {},
   "outputs": [
    {
     "data": {
      "text/plain": [
       "82"
      ]
     },
     "execution_count": 54,
     "metadata": {},
     "output_type": "execute_result"
    }
   ],
   "source": [
    "Facilities = []\n",
    "for i in url10:\n",
    "    driver.get(i)\n",
    "    time.sleep(3)\n",
    "    try:\n",
    "        fac = driver.find_element_by_xpath(\"(//div[@class='page-inner'])[10]//ul[@class='facility-sections']//li\")\n",
    "        Facilities.append(fac.text.replace(\"Free\\n\",\"  \"))\n",
    "    except:\n",
    "        Facilities.append(\"--\")\n",
    "        \n",
    "len(Facilities)"
   ]
  },
  {
   "cell_type": "code",
   "execution_count": 53,
   "metadata": {},
   "outputs": [],
   "source": [
    "Facilities.clear()"
   ]
  },
  {
   "cell_type": "code",
   "execution_count": 55,
   "metadata": {},
   "outputs": [
    {
     "name": "stdout",
     "output_type": "stream",
     "text": [
      "['  Linen Included Free City Maps Free WiFi', '  Linen Included Free City Maps Towels Included Free WiFi', '  Free Breakfast Linen Included Free City Maps Free WiFi Free Internet Access', '  Linen Included Free City Maps Free WiFi', '  Linen Included Free City Maps Towels Included Free WiFi Free Internet Access', '  Linen Included Free City Maps Free WiFi Free Internet Access Free City Tour', '  Linen Included Free City Maps Free WiFi', '  Linen Included Free City Maps Free WiFi', '  Linen Included Free City Maps Towels Included Free WiFi Free Internet Access Free City Tour', '  Free Breakfast Linen Included Free City Maps Free WiFi Free Internet Access', '  Free Breakfast', '  Linen Included Free City Maps Free WiFi Free Internet Access', '  Linen Included Free City Maps Free WiFi', '  Linen Included Free WiFi', '  Linen Included Free City Maps Towels Included Free WiFi Free Internet Access Free City Tour', '  Linen Included Free City Maps Towels Included Free WiFi Free Internet Access Free City Tour', '  Linen Included Free City Maps Free WiFi Free Internet Access', '  Linen Included Free WiFi', '  Free Breakfast Linen Included Free Parking Free City Maps Towels Included Free WiFi', '  Linen Included Free City Maps Free WiFi', '  Linen Included Free City Maps Free WiFi Free Internet Access', '  Linen Included Free City Maps Free WiFi', '  Linen Included Free City Maps Free WiFi', '  Linen Included Free City Maps Free WiFi Free Internet Access', '  Linen Included Free WiFi Free Internet Access', '  Linen Included Free City Maps Free WiFi Free Internet Access', '  Linen Included Free City Maps Free WiFi Free Internet Access', '  Linen Included Free WiFi Free Internet Access', '  Linen Included Free City Maps Free WiFi', '  Linen Included Free City Maps Free WiFi', '  Linen Included Free City Maps Free WiFi', '  Linen Included Free City Maps Free WiFi Free Internet Access', '  Linen Included Free City Maps Free WiFi', '  Linen Included Free City Maps Free WiFi', '  Free Breakfast Linen Included Free City Maps Free WiFi Free Internet Access', '  Linen Included Free City Maps Free WiFi', '  Linen Included Free City Maps Towels Included Free WiFi', '  Linen Included Free City Maps Free WiFi Free Internet Access', '  Linen Included Free City Maps Free WiFi', '  Free Breakfast Linen Included Free Internet Access', '  Linen Included Free WiFi', '  Linen Included Free City Maps Towels Included', '  Linen Included Free WiFi Free Internet Access', '  Linen Included Free City Maps Free WiFi Free Internet Access', '  Linen Included Free WiFi', '  Linen Included Free WiFi', '  Linen Included Free WiFi Free Internet Access', '  Linen Included Towels Included Free WiFi', '  Linen Included Free City Maps Free WiFi Free Internet Access', '  Linen Included Free City Maps Free WiFi Free Internet Access', '  Linen Included Free City Maps Free WiFi', '  Linen Included Free City Maps', '  Free Breakfast Linen Included Free City Maps Free WiFi Free Internet Access', '  Free Breakfast Free City Maps Towels Included Free WiFi Free Internet Access', 'Services\\nLuggage Storage 24 Hour Reception', '  Free Internet Access', '  Free Breakfast Free City Maps Free WiFi Free Internet Access', '  Linen Included Free WiFi Free Internet Access', '  Free Breakfast Free Parking Free Internet Access', '--', '  Linen Included Free WiFi Free Internet Access', '  Free Breakfast Free Parking Free Internet Access', '  Free Breakfast Free City Maps Free WiFi Free Internet Access', '--', '--', '--', '--', '--', '  Free Breakfast Free Internet Access', '  Free Breakfast Free City Maps Free WiFi Free Internet Access', '  Linen Included Free Parking Towels Included Free WiFi Free Internet Access', '  Free WiFi', '--', '  Free Parking Free WiFi', '  Free Internet Access', '  Free Breakfast Linen Included Free City Maps Towels Included Free WiFi Free Internet Access', '--', '  Towels Included Free WiFi', '--', '--', '  Linen Included Free City Maps Towels Included Free WiFi Free Internet Access', '--']\n"
     ]
    }
   ],
   "source": [
    "print(Facilities)"
   ]
  },
  {
   "cell_type": "code",
   "execution_count": 61,
   "metadata": {},
   "outputs": [
    {
     "data": {
      "text/plain": [
       "82"
      ]
     },
     "execution_count": 61,
     "metadata": {},
     "output_type": "execute_result"
    }
   ],
   "source": [
    "Property_des = []\n",
    "for i in url10:\n",
    "    driver.get(i)\n",
    "    time.sleep(3)\n",
    "    try:\n",
    "        des = driver.find_element_by_xpath(\"//div[@class='content collapse-content']\")\n",
    "        Property_des.append(des.text.replace(\"\\n\",\"  \"))\n",
    "    except:\n",
    "        Property_des.append(\"--\")\n",
    "        \n",
    "len(Property_des)"
   ]
  },
  {
   "cell_type": "code",
   "execution_count": 62,
   "metadata": {},
   "outputs": [
    {
     "name": "stdout",
     "output_type": "stream",
     "text": [
      "['Food & culture lovers, assemble!  The Rose & Crown is the perfect base to wander the incredible streets of London’s effortlessly cool Southbank. Walk the Thames path to see the majestic sights or head off on a self-guided exploration to discover unseen London. The surrounding area is bursting with vibrancy and culture making it the city’s current food & drink hotspot. The world-famous Borough Market is just around the corner and Flat Iron street food market is opposite our lovely little Hostel-Pub.   Perfect for discovering the beating heart of London’s food & drink and creative scene.    Legendary London adventures start at PubLove.  All our Hostel-Pubs are welcoming, small and social - the perfect places to get to know your fellow travellers. The best thing about staying with us? Your common room is the great British pub! We have 24hr bars specialising in craft beer & gin. Get social with the locals or swap stories over a drink with your fellow backpackers.    Our dorms are modern, cool and spotlessly clean. Our bunks have hygiene/privacy screens, dedicated power sockets, great free Wi-Fi and crisp white linen. Our top-class washrooms are private and offer shampoo, shower gel and plenty of hot water.    Every Hostel-Pub has an award-winning Burger Craft kitchen serving up burgers, loaded fries and brunch, with vegetarian and vegan options. They open daily from 9am until 10pm.    BOOK NOW to start your own London adventure.', \"At the The Finnish Church in London, we offer two accommodation options in the hostel category - 6 persons mixed gender dorms and 4 person en suite dorms. One of the 4-person dorms is for women only. Everybody is welcome to stay with us - you do not have to be Finnish or a member of our church. Due to Covid-19 regulations, only limited number of beds are currently released on Hostelworld. If travelling with family or larger group, please contact reception for special arrangements: kitchen@merimieskirkko.fi .  We have a cafeteria with WiFi serving Finnish food and pastries, Finnish shop, large communal areas and an outdoor terrace.  The accommodation includes sheets, and towels.  The Church hosts various events including Church services, Toddler groups, concerts and Fairs. All events end by 9pm. You are free to take part in activities, but do not have to.   Please note:  Reception open Tue-Fri 9am-18pm, Sat&Sun 9am-18pm, Mondays reception closed. Arrivals outside reception opening hours can be arranged by request in advance, but this will incur extra costs: Tue-Thu after closure door opening fee £20. Fridays to Sundays, and Mondays after closure opening fee is £50.   Check-in from 13pm, Check-out by 11am. Contact reception if you prefer earlier check-in, sometimes this can be arranged.  Cancellation policy is 2 days in advance.  We accept payment by cash & credit card  Key deposit £20.00, to be paid in cash, returned on return of the room key.  Taxes are included   Under 18's must be accompanied by responsible adult.\", \"We are located in central London - just 5 minutes walk from the station. Rated one of the best hostels in London 2017 by the Telegraph newspaper, we offer free dinner & free breakfast everyday. Come stay with us and make new friends for life.    Free high speed WiFi throughout, a huge garden patio with free gym, communal lounge with a 85-inch Ultra HD TV with cable, Netflix & PS4. Guests can also use the modern shared kitchen to cook their own meals.    All dorms have contemporary designs and feature free storage lockers. We also have many private rooms.     The hostel is 15 minutes walk from Natural History & Science Museums and Hyde Park. Madame Tussauds, Harrods and Buckingham Palace are also a 15-minute train ride away.    Staying COVID-19 Safe at Saint James:    The dorms have been halved in size therefore each guest has a double bunk bed to herself  Plexiglass protection screens installed as barriers against Covid-19  The showers sanitised before every use  Dedicated staircase for going up and separate one for going down    The Reception is open 24/7 and the international staff will be there, happy to help you.     More reasons to stay at Saint James Backpackers?   - A 24-hour reception to make sure to be available for our guests at any time   - Massive living rooms with a large television, with options such as Sky TV, Netflix and a PlayStation 4   - USB Charging Points in every room   - An exclusive ladies-only dorm room and showers   - Massive patio garden including BBQ   - Outdoor gym  - Hostel activities: movie and popcorn nights, sangria nights, board game competitions, screening sports events, holiday parties…    Note:     - There is a 24-hour cancellation policy on all reservations. Any night that isn't cancelled with at least 24 hours notice will not be refunded.   - A £10 key deposit is payable at check-in, which is returned on return of the key at check-out.   - Check-in: 14.00/ Check out: 10.00   - Credit cards accepted   - Taxes included   - No smoking anywhere inside the building (but we do have a large patio garden where you can indulge)   - On the property lives one cat and one dog.  - Card Payments must be authorised by chip and pin   - Minimum age to stay in a dorm is 5.   - Please note that there are limited spaces for dinner; you must sign up at reception each day before 16:00, signup is done on a first come first serve bases. If you cannot make it here in time please just call us and request to be put on the list.\", 'Where it all began - PubLove was born here in 2007.   Loved by backpackers for well over a decade, The Green Man is the original Hostel-Pub and the ideal base for your London adventure. Visit the legendary Wembley Stadium & Lords Cricket ground, hit the shops on the world-famous Oxford Street, then dive into the warm glow of the West End & Theatre-Land. Head back to the bar to check your photos over a pint & a burger. London baby!  Perfect for the travellers looking to experience the London that the whole world loves.    Legendary London adventures start at PubLove.  All our Hostel-Pubs are welcoming, small and social - the perfect places to get to know your fellow travellers. The best thing about staying with us? Your common room is the great British pub! We have 24hr bars specialising in craft beer & gin. Get social with the locals or swap stories over a drink with your fellow backpackers.    Our dorms are modern, cool and spotlessly clean. Our bunks have hygiene/privacy screens, dedicated power sockets, great free Wi-Fi and crisp white linen. Our top-class washrooms are private and offer shampoo, shower gel and plenty of hot water.    Every Hostel-Pub has an award-winning Burger Craft kitchen serving up burgers, loaded fries and brunch, with vegetarian and vegan options. They open daily from 12pm until 10pm.    BOOK NOW to start your own London adventure.', 'Mornington Camden Hostel is a high class spacious town house with a lovely warm atmosphere. Everything is new.   The staff are very friendly and helpful. We have a nice lounge with a TV, and a Bar, and restaurant with cheap high quality food.     Many restaurants, traditional pubs and bars are nearby and breakfast and snacks can be purchased next door in our sister building, the Crescent Cafe, at a discount. The renowned Camden market, Regents Park, London Zoo and Fitzrovia are within walking distance. Kings Cross, Euston and St Pancras (Eurostar) are within easy reach.     All beds have  USB charging points on the electrical sockets.   Free Linen and Towels.   Free Lockers  Full Privacy  Personal Lamp  Full use of a private garden  Free Coffee and Tea  Free Washing Machine use  Free bag storage  24 hour access if arranged with us beforehand      The Hurdwick policies & conditions;    Cancellation policy: 24h before arrival 6 PM    Check in from 13:00 to 23:00 .  Check out before 12:00 .  Payment upon arrival by cash, credit cards, debit cards. This property may pre-authorise your card before arrival.  Please let us know your arrival time in advance  Taxes included.  Breakfast not included.    General;  No curfew.  Minimum age = You must be 16 or over to stay in a dormitory / group room.  We operate a no-smoking policy throughout the building.  The maximum period of stay is of 30 days.', 'COVID 19 Policy Update.  In response to Coronavirus (COVID-19), additional safety and sanitation measures are currently in effect at this property, including social distancing and in-house disinfection.     St Christopher’s Inns at The Village in London Bridge is the UK’s first capsule hostel. Its brand new rooms have been specially designed for our guests to get the best night sleep possible before they wake up in amongst one of London’s most vibrant areas.     Voted as one of the best party hostels in the world, our multi-award winning hostel offers guests Japanese-style capsule beds with USB ports, cool mood lighting and curtains for privacy. We even have new private rooms with one having an awesome view of the Shard right outside!    Step out the door and you’ll be just a short walk away from the London Eye, Tower Bridge and the oldest food market in the city, Borough Market. We’re also only a two minute walk from TWO tube stations so getting anywhere in London couldn’t be easier.     Party into the night in our hostel party bar Belushi’s, head down to the Dugout to watch live sports and indulge in our legendary burgers with a discount for all our guests.    *Please note that we require an in date government approved - drivers license, passport or national ID card at check-in.    **Guests under the age of 18 must stay in a private room with guardians. They cannot share in general dormitory rooms with people who are not part of their own group or family. Under-18s are not allowed in the bars or pubs.    ***The maximum stay policy is 14 days', 'With the British Museum literally on its doorstep, it is impossible to beat this hostel’s location! Located in the very heart of Central London you are a short walk from iconic attractions like Piccadilly Circus, Trafalgar Square and Covent Garden.   It doesn’t matter if you are shopping down the legendary Oxford Street, watching a play in Leicester Square’s world-famous theatre district, having dinner in China Town, drinks in Soho, or partying in the West End you are always a short walk home to a nice and quiet street in an amazing neighbourhood!    The moment you walk through our doors you become part of our family and we want you to have an incredible experience! We want every detail - from our super clean bathrooms and comfortable pillows to our unforgettable social events - to be perfect, giving you a London adventure that is 10 out of 10!    VALID government issued ID required to stay with us, and ALL guests must be between 18-40 YEARS     At our amazing hostel you will have full access to:    • Free Fast Wi-Fi throughout the building as well as Free PC Access  • 24-hour reception for anything you may need (including late check-in/early check-out)  • CCTV in operation 24 hours a day  • Storage Lockers available for your valuables £1 per locker, per day (max 14 days).  • Luggage room is free to use on day of arrival! You can leave your items from £2 per bag on day of departure (£7.50 per bag for everyday thereafter).   • Laundry facilities available 24-hours. Hairdryers and ironing facilities free to use  • Dining room and common area to enjoy a meal or meet fellow travellers  • Beautiful lounge area with comfy sofas and enormous projector screen for movies and sports!     Although the government has removed many restrictions, we will continue to do everything we can to keep you safe while you stay with us!     Here is a little info on stuff that will be a little bit different than normal -     Reception hours  • Check-out is between 8am and 10am.   • Check-in is available between 2pm and 10pm (please let us know your arrival time to ensure someone is there to greet you with a masked smile!)    (A staff member is available 24 hours a day for emergencies, a number will be provided if you have any issues, or you can call the hostel number directly).??     Charity Breakfast  • Breakfast will not be available until fully safe to do so, we will have a special London map for you to scan, so you can find a delicious feast and other top tips around the city!     Common Areas  • Kitchen and common areas are all back open! Whoop Whoop! (Kitchen and lounges will be shut at midnight and reopening at 8am).    Self-Isolation - Guests who wish to self-isolate in the hostel must do so in a private room, guests must not perform the self-isolation period if coming from abroad in shared dorms.      Please Note - For the safety of others, anyone exhibiting symptoms of Covid-19 will be unable to stay at the hostel. We recommend you return home if traveling domestically, or to use specialist self-isolation accommodation.      Helpful Extras (Hidden costs are a pain! If we can give it to you for free, we will, if we cannot do it as cheap possible!).     • Free City Maps   • Tourist Information, walking tours and advice on local attractions and transport (24hrs)  • Daily events organized for our guests  • Room key is a £5 cash deposit  • Padlocks and Adaptors available for £5 cash deposit  • Discounts at local restaurants and coffee shops  • Towels are available for hire at £2.50  • Free printing facilities (boarding passes, tickets etc)  • Clean, crisp linen on your bed ready to sleep on!  • Late Check-Out available to sleep in a little more until Midday (book in advance at reception)!  • ATM (Cash Machine)    Please note our “Basic” room types allow you access to all our amazing facilities! However, the building is located a short walk (1 minute) away from the main building, but if you need anything there is a direct telephone which will connect you with our reception.    Winner of No.1 Small Hostel Group Worldwide, and a Lifetime Achievement Award for excellence in the Hostel Industry. We thrive on ensuring every guest comes satisfied and if you have any problems along the way we are always there ready to help! For this and many other reasons staying at Astor Hostels is the top choice for anyone exploring London on a budget!     Reservations must be made for guests over the age of 18. Any reservations made for those under the minimum age will be cancelled and you will not receive a refund. The hostel organises daily events aimed at backpackers between the ages of 18-30, it is therefore suggested that guests under the age of 40 would enjoy the hostel the most.     Proof of identification must be shown on arrival and can include a passport, driving license and national identity cards. We cannot accept paper driving licences, student, or employee IDs as proof of identity and failure to show proof or a copy upon arrival will result in the cancellation of a reservation without a refund. Get in touch with us for further clarification.     When booking for 10 persons or more, different policies and additional supplements will apply.', 'Walk to the river, turn left, and just keep walking…  Stay at The White Ferry House and ﬁnd yourself in an oasis of calm in a beautiful London backstreet. Located minutes from Victoria coach & train stations, our stunning ﬂat iron building is full of warmth, charm and history. Start your own river walk 5 minutes from our front door, or walk to Buckingham palace before you’ve ﬁnished your morning coffee!   Perfect for travellers who love to discover their own adventures.    Legendary London adventures start at PubLove.  All our Hostel-Pubs are welcoming, small and social - the perfect places to get to know your fellow travellers. The best thing about staying with us? Your common room is the great British pub! We have 24hr bars specialising in craft beer & gin. Get social with the locals or swap stories over a drink with your fellow backpackers.    Our dorms are modern, cool and spotlessly clean. Our bunks have hygiene/privacy screens, dedicated power sockets, great free Wi-Fi and crisp white linen. Our top-class washrooms are private and offer shampoo, shower gel and plenty of hot water.    Every Hostel-Pub has an award-winning Burger Craft kitchen serving up burgers, loaded fries and brunch, with vegetarian and vegan options. They open daily from 12pm until 10pm.    BOOK NOW to start your own London adventure.', \"Wombat's The City Hostel London is definitely the place to stay if you want to experience all that London has to offer. Only minutes away from sights such as the Tower Bridge, the Tower of London, and the City Hall, it's next to Wilton’s Music Hall and an easy walk from the buzzing nightlife of Shoreditch. The location is ideal for young travellers. Not only is the location awesome, the building itself is breath-taking. Formerly a seamen's hostel, the building was converted to an amazing travellers' oasis featuring a huge bar, a courtyard, a cosy hangout area in the lobby, and all the amenities a backpacker could wish for.    Wombat's The City Hostel is proud to be one of the most experienced hostel chains (over 20 years of hostel expertise!) with a history of award-winning properties all over Europe: Budapest, London, Munich, and Vienna.    Wombat’s The City Hostel offers safe, clean, quality accommodation in either (1) a spacious dorm room with an ensuite bathroom and individual lockers for personal belongings or (2) a private room with two twin beds/one queen bed and private bathroom.    Included    + bedding  + fast WIFI in the entire building  + our own Wombat’s city maps   + fully-equipped guest kitchen (plus: free food section, including free noodles and rice)  + luggage room  + welcome drink    Additional features    + our lively womBar serves affordable drinks/cocktails/snacks and offers happy hours and regular events  + coin-operated laundry facilities (washing and crying – oops, sorry about the typo, of course we mean drying), so you can re-vitalize your clothes ;)  + bike rental    Cleanliness is something not to be taken for granted, and we take it very seriously. We’ve even won the 'cleanest hostel worldwide' award multiple times.      By travellers for travellers    We have travelled the world ourselves - so we know firsthand what travelling is like and what you expect from us. We care about you and listen to your feedback.    We provide an inviting, safe atmosphere for you to retreat to at the end of the day. After you've been on the road, seeing sights and walking until your feet ache, it's good to know you've got a comfy place waiting for you at our hostel, where you can chill, drink beer, exchange travel wisdom, and make new friends.    Among all these extras and details, there’s one thing that makes Wombat’s truly stand out. It’s the hostel atmosphere that we all love: travellers sharing not only a space, but an experience.    Your stay is bound to be a memorable one!       (Minimum age: 18.)\", \"Hootananny is a lively hostel with spacious rooms in a traditional Edwardian public house dating back to the early 1850s. We offer large, airy, comfortable rooms and have a great reputation for a warm atmosphere and helpful staff. We're located in the heart of Brixton with excellent transport links - a great location to stay and explore the city of London.    With just a ten-minute walk to Brixton underground station, you are straight into Central London on the tube in less than 15 minutes. As one of Londonâ€™s most diverse and vibrant areas, Brixton has world famous covered and street markets, is a hub for music venues, is full of atmospheric pubs and has the pick of the worldâ€™s best cuisine with a great selection of restaurants. Hootananny is located right next to two bus stops with 24-hour connections to the city centre.    Hostellers are treated to a 20% discount on drinks at the award-winning bar downstairs that was recently crowned Best Live Music venue in London. Festival headliner Manu Chao chose Hootananny bar to give a secret show after his festival performance, and Hootananny star gigs include big gypsy bands, hip hop, dubstep, afrobeat, live reggae acts from Jamaica, ska, world music and indie rock.    Important  - Staff reductions in recent times have affected the check-in window on weekends. Staff will no be on site until after 2pm  - Please be aware that you must present photo I.D. when you arrive. We only accept passports or a driving license as valid I.D. This is a hostel for over 18s only, there are no family rooms and we do not cater for young children.  - The hostel is located above a live music venue, and music can be heard throughout the hostel until fairly late on Friday and Saturday nights. This does not prove to be a problem for many of our guests, but we can provide you with earplugs if you would like to ensure a good night's sleep.  - Reception is open from 9am - 12 midnight. Check-in time is after midday, but if you arrive early you can always relax in our lounge room or use the amenities.  - Check-out time is between 9am and 11am.  - We take a Â£10 deposit for the key. This is refunded at check-out when the key is returned.  - Bookings for groups of 4 or more require full payment in advance.  - We are a backpackers hostel and do not check in local residents of London into our hostel.    Happy travels!\", \"Welcome to one of London's cheapest, friendliest and well-located hostels! Situated in the heart of the West End, opposite Covent Garden, and 10 minutes walk from Trafalgar Square and the London Eye. There are theatres, restaurants and nightlife all on your doorstep!    Offering both mixed dormitories and single, double and family rooms. All rooms are equipped with washbasins, and have shared bathroom facilities. There is also a 1940s bar and restaurant which are great for meeting other travellers.     Guests can enjoy:  No curfew  Free Continental Breakfast   Free WI-FI in the lounge  24 hour reception  Linen included   Towels included in private rooms (not in dorms). You can bring your own or rent them for £2 each towel  Tea/Coffee making facilities (in private rooms)  Safe luggage storage free of charge  Multilingual staff: English, Spanish, French, Hindi, Polish  Sorry, no lift!    Check in time: 2:00 pm  Check out: 10:00 am  Cash or credit/debit cards accepted.    Cancellation policy:  Guests can cancel their bookings free of charge uptil 24 hours prior to arrival. Failure to give a 24 hour cancellation notice will result in a charge of first night's rate.    Please note that a £10 key deposit will be charged on arrival, and returned to guests when they return their room key on departure.    In order to confirm the booking, you need to provide us with the CVC/CVV/Security number on the back of the card used to book on this site. Please send this to our email address. Failure to comply with this can result in your booking being cancelled.    For guest staying over 31st December the following applies: 2 nights minimum stay. Payment is taken at the time of booking. Bookings are non-refundable.\", 'Nestled in the heart of London, walking distance to iconic British Museum and Europe’s most popular shopping area, Oxford Street, Smart Russel Square is the perfect destination for budget-conscious travelers who want to experience amazing London adventure.    Every room is key card locked as is entry to the main part of the building, security lockers are present in every room.    Our transport links are fantastic; we are located only a few minutes walking distance from Russell Square Tube or Metro Station which is directly linked to both Heathrow Airport and Kings Cross St. Pancras for the Eurostar trains. We are directly linked either by bus or the tube to every major train and bus station in London. There are 24 hour buses running next to the hostel, making us accessible at day or night.  The Continental Breakfast costs £2.00 per person per day and it will be served from 07:30 AM until 10:00 AM in our common area.', 'Located a short walk from Notting Hill, Hyde Park and Kensington Palace (home of William, Kate, and the Royal Babies!) it is easy to see why so many people fall in love with this neighbourhood. With three Underground Lines and countless 24hr buses, Astor Kensington is the perfect hub from which to explore London. A short walk around the neighbourhood will take you through the world-famous Portobello Market, Kensington Gardens and London’s most charming streets! Hop on the tube or bus and within 10 minutes you will be in the heart of Oxford Street, Piccadilly Circus and Leicester Square!    The moment you walk through our doors you become part of our family and we want you to have an incredible experience! We want every detail - from our super clean bathrooms and comfortable pillows to our unforgettable social events - to be perfect, giving you a London adventure that is 10 out of 10!    VALID government issued ID required to stay with us, and ALL guests must be between 18-40 YEARS     At our amazing hostel you will have full access to:    • Free Fast Wi-Fi throughout the building as well as Free PC Access  • 24-hour reception for anything you may need (including late check-in/early check-out)  • CCTV in operation 24 hours a day  • Storage Lockers available for your valuables £1 per locker, per day (max 14 days).  • Luggage room is free to use on day of arrival! You can leave your items from £2 per bag on day of departure (£7.50 per bag for everyday thereafter).   • Laundry facilities available 24-hours. Hairdryers and ironing facilities free to use  • Dining room and common area to enjoy a meal or meet fellow travellers  • Beautiful lounge area with comfy sofas and enormous projector screen for movies and sports!     Although the government has removed many restrictions, we will continue to do everything we can to keep you safe while you stay with us!     Here is a little info on stuff that will be a little bit different than normal -     Reception hours  • Check-out is between 8am and 10am.   • Check-in is available between 2pm and 10pm (please let us know your arrival time to ensure someone is there to greet you with a masked smile!)    (A staff member is available 24 hours a day for emergencies, a number will be provided if you have any issues, or you can call the hostel number directly).??     Charity Breakfast  • Breakfast will not be available until fully safe to do so, we will have a special London map for you to scan, so you can find a delicious feast and other top tips around the city!     Common Areas  • Kitchen and common areas are all back open! Whoop Whoop! (Kitchen and lounges will be shut at midnight and reopening at 8am).    Self-Isolation - Guests who wish to self-isolate in the hostel must do so in a private room, guests must not perform the self-isolation period if coming from abroad in shared dorms.      Please Note - For the safety of others, anyone exhibiting symptoms of Covid-19 will be unable to stay at the hostel. We recommend you return home if traveling domestically, or to use specialist self-isolation accommodation.      Helpful Extras (Hidden costs are a pain! If we can give it to you for free, we will, if we cannot do it as cheap possible!).     • Free City Maps   • Tourist Information, walking tours and advice on local attractions and transport (24hrs)  • Daily events organized for our guests  • Room key is a £5 cash deposit  • Padlocks and Adaptors available for £5 cash deposit  • Discounts at local restaurants and coffee shops  • Towels are available for hire at £2.50  • Free printing facilities (boarding passes, tickets etc)  • Clean, crisp linen on your bed ready to sleep on!  • Late Check-Out available to sleep in a little more until Midday (book in advance at reception)!    Winner of No.1 Small Hostel Group Worldwide, and a Lifetime Achievement Award for excellence in the Hostel Industry. We thrive on ensuring every guest comes satisfied and if you have any problems along the way we are always there ready to help! For this and many other reasons staying at Astor Hostels is the top choice for anyone exploring London on a budget!     Reservations must be made for guests over the age of 18. Any reservations made for those under the minimum age will be cancelled and you will not receive a refund. The hostel organises daily events aimed at backpackers between the ages of 18-30, it is therefore suggested that guests under the age of 40 would enjoy the hostel the most.     Proof of identification must be shown on arrival and can include a passport, driving license and national identity cards. We cannot accept paper driving licences, student, or employee IDs as proof of identity and failure to show proof or a copy upon arrival will result in the cancellation of a reservation without a refund. Get in touch with us for further clarification.     When booking for 10 persons or more, different policies and additional supplements will apply.', \"Welcome to Urbany Hostel London, our first international adventure! We offer you a perfect spot to explore the city, we are a social backpacker hostel, a place where you can make friends & feel at home.    We are located in Notting Hill, a cosmopolitan and multicultural neighbourhood, in a typical Victorian terraced house built in the 1800s. From Urbany Hostel, you can easily walk to Portobello Market and Hyde Park, two of the most popular sites in London.    Our staff members are just like our guests, friendly, sociable, international and incredibly helpful - They will make sure you know your way around the city.    -Before booking with us, please ensure you are travelling from countries, territories or regions on the UK Government travel quarantine exempt list. For the safety and comfort of current guests and staff, reservations of those travelling from areas requiring self isolation/quarantine will be cancelled.    -Temporarily our reception hours have varied; to ensure someone will be here to welcome you, please ensure your arrival time is between 8 AM - 11 PM. Alternatively please let us know if you will be arriving outside these hours.    -Check in to rooms is from 15:00 to 23:00  -Check out before 11 AM    FEEL THE URBANY VIBE:    We have a variety of shared mixed dormitories, whilst also offering private rooms for those who prefer not to share.    Free high-speed Wi-Fi is available everywhere, even in your room.    Luggage storage is also available for free if you arrive before check-in or are leaving after check-out (only for the day).    We offer: towel rental (2 GBP) and basic laundry service wash/dry (5 GBP).    24/7 CCTV throughout the whole building for added security.    We do require a £10 cash key deposit (which you will receive back upon return). Ours key's have 24/7 access so there is no curfew - you can get in and out as much as you like.    A physical VALID government issued ID is required to stay with us and ALL guests must be between 18 - 40 years.    It's also important to note that there are 4 floors in our hostel and there is no elevator.    We can't wait to welcome you to our wonderful home and enjoy this amazing city!\", 'COVID 19 Policy Update.  In response to Coronavirus (COVID-19), additional safety and sanitation measures are currently in effect at this property, including social distancing and in-house disinfection.     Find comfort and tranquility in our female-only hostel rooms and bathrooms in the heart of London at The Oasis. Head to the second floor of the newly transformed St Christopher’s At The Village in London Bridge where only special key cards will allow you ladies access.   London Bridge really is a fantastic place to base yourself with the London Eye, Tower Bridge and the oldest food market in London, Borough Market being just minutes away from the hostel. We’re also just a 2 minute walk from not one but TWO tube stations.     By staying at the Oasis you’ll benefit from a few little luxuries to make you feel at home. Included in every room or bathroom are cosy pillows, hair-dryers, towels, fresh bed linen and long mirrors. A lovely place of peace for our female travellers.     *Please note that we require an in date government approved - drivers license, passport or national ID card at check-in.    **Guests under the age of 18 must stay in a private room with guardians. They cannot share in general dormitory rooms with people who are not part of their own group or family. Under-18s are not allowed in the bars or pubs.', \"The hostel is housed in a historic building in beautiful Angel (borough of Islington).     Our goal is to create a space for travellers to explore the exciting fast paced life of London, and, at the same time, have a safe environment to relax and recharge, meet likeminded people and share unique experiences.    We are just moments from the bars, restaurants and nightlife of Upper Street and Shoreditch, and 150 metres (5 minute walk) from Angel tube station which gets you to all of the best parts of London in minutes.   Angel is a vibrant part of London. On the edge of the City centre, and yet still a traditional local community.   Islington has been the home to reformists for centuries, so behind that elegant facade lies the beating heart of change. Islington is home to many local attractions that will let you see a different side of London than the normal tourist haunts.    You can enjoy free unlimited high speed WiFi in all areas, a massive fully equipped kitchen for you to cook (we know how expensive London is to eat out), and a chill-out lounge to while away the hours and make new friends.     We don’t have a bar on site, so you can either sample the many local pubs or bring your own drinks back. We host lots of fun events, movie nights, games evenings and delicious dinners which all can enjoy - to name a few.    There’s free tea and coffee all day, a free computer, TV, board games, book exchange, hairdryers, towels, travel advice, and more for you to enjoy.   Feel safe at Prime Angel with 24 hour security and CCTV. We have lockers (bring your own padlock) and luggage storage on the day of arrival and departure.    Also, please note that since the building is almost 200 years old there is no elevator (free work out).    Prime Backpackers Angel Policies & Conditions:    Strictly no Hen or Stag parties, or group bookings for more than 8 people.   If we suspect that you are a Hen or Stag party when you arrive then we reserve the right to cancel your booking and not refund any monies paid.   Same goes for groups bigger than 8 that come in two (or more) separate reservations but actually are one group (we really don't want to do that).    Check in from 15:00 to 21:00 .   Check out before 11:00    Cancellation policy:   Standard reservation = 48hours before arrival    Payment upon arrival by credit cards and/or debit cards. We do not accept cash payments.   This property may pre-authorise your card before arrival.    Non-refundable reservations may be charged in full at any point after the reservation has been made. (Please have the credit card you used for the reservation at check in).    Taxes included.   Breakfast not included.    General:   No curfew.   Our reception is open from 9am to 9pm, seven days a week. If you plan on arriving outside of these times, please let us know.    Guests under the age of 18 can only be accommodated in the private rooms. Please remember that we do not accommodate groups of 8 people or more. Any reservations made for more than 8 people will be cancelled. We have maximum stay of 14 nights per guest (not reservation but person). Any reservations exceeding these 14 nights will be cancelled.    Mandatory Requirements:    Guest must arrive from within the UK or after 2 weeks of quarantine elsewhere before their arrival here during COVID-19 pandemic.  The card owner to be present with their id during check in.  Have the guest pay using the PDQ machine (with a pin).  Pay via bank transfer\", 'COVID 19 Policy Update.  In response to Coronavirus (COVID-19), additional safety and sanitation measures are currently in effect at this property, including social distancing and in-house disinfection.     Base yourself in the electric area of London Bridge at our flagship hostel St Christopher’s at The Inn. Here, you’ll get the best of both worlds with modern bath and bedrooms whilst having a traditional but lively 16th century English pub right downstairs with live music every day. Enjoy your morning breakfast in amongst the charm of The Inn.     Within just a short walk of our hostel you can reach the London Eye, Tower Bridge and London’s oldest and most famous food market, Borough Market. Getting about by tube couldn’t be easier as we’re located 2 minutes walk from both London Bridge AND Borough tube stations.     *Please note that we require an in date government approved - drivers license, passport or national ID card at check-in.    **Guests under the age of 18 must stay in a private room with guardians. They cannot share in general dormitory rooms with people who are not part of their own group or family. Under-18s are not allowed in the bars or pubs.', 'UNFORTUNATELY WE DO NOT HAVE THE FACILITIES TO APPROPRIATELY ACCOMMODATE GUESTS WHO NEED TO SELF ISOLATE FOR 14 DAYS.     At No.8 we take pride in our Customer Service and ensure that all of our Guests get everything they want from their time in London. We cater for the Young & Young at Heart Backpacker 18-48 only, Photo IDs will be required on Check In. We have Live Entertainment on Weekends within our Traditional English Pub, along with the usual range of pub entertainment and banter!    - Free High-Speed WiFi  - Full Facility Kitchen, Dining Space & Outdoor Deck  - Secure Storage Facilities & 24 Hr Key Card Access  - Large Lounge - Pool Table, Chess Table, Couches, Satellite TV & Darts Board etc.   - Traditional English Pub & Beer Garden  - Young & Young at Heart Backpackers 18-48 only. ID on Check-In Required.  - Payment by Cash only on Check in (Cards not accepted)  - ATM on site (Does not accept Credit Cards)  - 20 Key Deposit (Fully Refunded On Check-Out)  - No refunds are made following Check-In  - Reception is open from 10:00am-10:00pm Sun-Thurs and 10:00am-11:00pm Fri-Sat. PLEASE NOTE that Check In will NOT be possible outside these hours. If you are running late or will be arriving slightly outside our reception hours, please contact us to see if there is a possibility of us accommodating your arrival outside of opening hours.    Whether it is your first time in London or you are a seasoned traveller, No.8 has everything you need (and a few extras) to ensure that your stay in London is definitely Enjoyable & Comfortable!', 'Welcome to New Cross Inn Hostel!    A Friendly backpackers hostel offering budget style rooms  Situated in SE London, close to New Cross Gate or New Cross Tube/ Train lines with easy access to London Bridge or connection to the Jubilee Line. We are also a short bus ride (15 minutes) away to the O2, if you are coming to London for a concert or event.    We offer a variety of rooms, including small dormitory rooms and private rooms suitable for Individuals, small groups and families.    FACILITIES Inc. :-  Self Catering Kitchens.  Common Room with DigitalT V.  Free Wi-Fi throughout the hostel.  Secure Lockers (Chargeable)  Free ear plugs (For light sleepers)  24 hour reception  Complimentary continental breakfast    The Bar next door to the hostel also offers discounts and free shots for our guests and often have live music / DJs. The bar has a pool table and shows all major sports events live. (Please let us know if you need a quiet room).    Whether you are coming to London to visit the sights, study or work, we look forward to welcoming you to the New Cross Inn Hostel.     ADDITIONAL INFORMATION  *We do not accept customers under 18 years old and over 40 years old unless they are part of a group staying in a private room. We reserve the right to refuse your accommodation at any stage according to the manager discretion. *    *We require 72 hours notice for a cancellation, if you do not give us 72 hours notice you will be charged in full.    *Groups of 8 guests or more will be charged 50% deposit on the day of booking. The remaining 50% is due 14 prior arrival.     * Non-refundable reservations will be charged anytime after booking, standard bookings will be pre-authorized any time after reserving and shall be treated as non refundable reservations at the end of their free cancelation period (72 hours prior to arrival). UNPAID NON REFUNDABLE RESERVATIONS WILL BE SUBJECT TO AVAILABILITY AND MIGHT INCUR A 20% SURCHARGE IF PAID UPON ARRIVAL.    *The check-in time is from 2pm-11pm. Guests arriving after 11:00pm need to email at least 24hrs in advance to confirm their reservation, process payment and fill up check in form online to receive code, otherwise will be considered a no show and subject to availability and no show fees.    We DO require a valid ID for all arrivals including UK/EU residents. Expired ones or without a clear or damaged photo are not valid to check-in.', 'We stayed in one of the private rooms and we loved it! Everything was clean and convenient. The staff was great, helpful and kind. The location was superb.', \"Generator London is a design hotel-hostel located in Russell Square in the heart of central London, a short stroll to Covent Garden, Regents Park and trendy King's Cross. Guests can choose from shared dorms to private rooms, offering something for everyone. Complete with 24-hour reception, free wifi, cafe and bar Generator is a fun and affordable choice in London.    Generator London was the very first Generator and you'll find it in the area of Russell Square in the heart of the West End.     It's the ideal spot to enjoy London from, everything you need to see is minutes away by tube. You'll never run out of things to do in the UK's capital. You just have to decide where to start and we can help you with that. When you have seen and done it all for the day head back to Generator and unwind.     It's a destination in its own right and a great place to socialise and reflect on your experiences of the day. Head to the bar and chill out areas to get yourself a well deserved drink or two. It's lively, friendly and un-missable. We've also got great beds for sleepy heads and of course you'll be enjoying London life in the most authentic surroundings.     Choose from a great selection of rooms, from Dorms, to Quads, to Private rooms with innovative mod cons. Fast and free Wi-Fi is all yours too. To get the most out of your stay visit the travel shop and our city experts will help you devise an itinerary that will take you to all the hidden treasures this dynamic city has to offer. You'll have to stay longer to fit it all in but you'll not need convincing of that. We'll see you there soon.    Important points:     Central location Situated close to Russell Square   Complimentary Wi-Fi in public areas & guest bedrooms   Travel Desk   Luggage Store   Laundry Room   Games Room   Bar & Chill Out Areas   Nightly Events & Entertainment   Dining facilities for breakfast, lunch, dinner and all day snacks   Female Dormitories   Dormitories for 4, 6 & 8   Group bookings    FREE WI-FI  Stay connected. Free for all!    THE BAR  Order a classic cocktail. Open from 5pm-2am with fun and games every night.    THE LOUNGE & CAFE   Open everyday    BREAKFAST    Breakfast not included.  International breakfast available upon request: £8.50 if booked online.  Daily from 7 am to 11 am    DINNER.   Delicious meals available between 5-9pm every evening. A dish of the day will also be available together with the bar snack menu.    SNACKS  Vending machines available for night owls to satisfy the midnight munchies.    ROOMS TO AMAZE  A wide selection of contemporary Privates, Twins, Triples & Dorms, with crisp white linen all available at great rates. Towels included complimentary in Twin rooms only.    BATHROOMS  Shared showers on every floor.     LAUNDRY  Open 24 hours a day where you can wash, dry and iron for a small fee.    24 HOUR RECEPTION  No need to worry about arriving late or early. The Generator Reception is open 24 hours a day with a duty manager who's always around to help.    LUGGAGE STORE  Secure luggage room is available so you can sightsee without dragging your bag with you.    GREAT STAFF  All our staff are multi lingual and on hand to help you with whatever info you need.    TRAVEL SHOP  Purchase tickets, tours and a whole lot more including phone and postal service. We will help you make the most of your stay. Undecided? Take advantage of our complimentary guided walking tour available daily.    Unfortunately guests under the age of 18 are not allowed to stay in the dorms .    We look forward to giving you a warm welcome to The Generator in the near future.\", '--', 'Located in the middle of Camden Town, we’re the closest hostel to Camden Markets and if you’re angling for access to all the partying and good times you could want, without compromising on security, comfort, and cleanliness, then we’re where you want to be! Smart Camden Inn’s superb location makes for the perfect home base while you explore London.    The hostel is a five-minute walk from Camden Town underground station, making it a convenient location for getting to any attraction. A short walk brings you to Regent’s Park, home of Primrose Hill and offering beautiful views of downtown London from its highest natural point. A ten-minute train ride to Oxford Street will bring you to the heart of the city and modern London’s centre for shopping and nightlife. Another short trip will bring you to the heart of ancient London, with the Tower of London and Tower Bridge, London’s most famous river crossing. Everything you need is at your fingertips when you stay with us!    Bedding and Linen are included with all bookings', 'COVID 19 Policy Update.  In response to Coronavirus (COVID-19), additional safety and sanitation measures are currently in effect at this property, including social distancing and in-house disinfection.     Find our Camden hostel in London’s north, smack bang in the middle of one of the city’s coolest neighbourhoods. Camden is covered with some of the world’s best street art plus its live music scene is iconic. Just a short walk from St Christopher’s is the famous Camden Market serving up some of the best street food in London as well as vintage clothes, antiques and loads more. Once you’re done exploring the local attractions, head to Belushi’s where you’ll meet other travellers while rockin’ out to live bands or taking part in a daily pub crawl!     Some of London’s most famous live music venues are just a couple of minutes walk from our hostel. We also have Regents Park and Primrose Hill just a stone’s throw away so you can benefit from seeing two different sides of the city within a few minutes.     *Please note that we require an in date government approved - drivers license, passport or national ID card at check-in.    **Guests under the age of 18 must stay in a private room with guardians. They cannot share in general dormitory rooms with people who are not part of their own group or family. Under-18s are not allowed in the bars or pubs.', \"The Mapesbury Hostel offers budget accommodation in North West London Zone 2 (Kilburn underground station, Jubilee Line.)      large Dorm Rooms and Private Rooms     If you are looking to meet and socialise with other friendly travellers, you can choose from mixed dorm rooms, female only dorm rooms, private rooms and studio apartments.     We are not a party hostel, but we offer friendly, relaxed 'homely' accommodation. The hostel has a great atmosphere where you can socialise with other travellers to give you that feel for London life. There's no curfew, so you can discover our beautiful city on your own terms!    All bedding is provided. Large, fully equipped shared kitchen, comfortable lounge room with plasma T.V, garden area, night caretaker, daily cleaners, no curfew, FREE WIFI, convenient quiet location mins walk from the tube only 15 mins from central london.      Please note our youth hostel has an age restriction of 18-45 years old.     PRIVATE ACCOMMODATION    Choose from single, double/twin, triple and quad rooms and studios.     All rooms and studios have :   - Fresh linen  - Colour TV  - Wardrobes  - Towels   - Welcome pack  - Wooden floorboards   - Bar fridge  - Heaters  - FREE WIFI   - Access to coin operated washer and dryer on site     Private rooms are completely private, and you have access to our fully equipped kitchens, and communal bathrooms.   Studio apartments are fully equipped with your own private ensuite, and kitchenette, no shared facilities.     CHECKING IN/PAYMENT     We offer a FREE PICK UP SHUTTLE from the Willesden Green tube station.   Monday - Saturday : 11am - 5:30pm  Sunday : 11am - 3:30pm   If you are delayed, or plan to arrive outside of these hours, please advise, and we will email details on how to do a 'self check in'    We have a minimum spend of £250 to make payment by credit/debit card.   Any payments made by card incur a £25 access fee    Payments by cash/bankers draft are accepted with no charge.\", 'Located in the most beautiful and charming neighbourhood in London, Astor Hyde Park is one minute from Hyde Park and surrounded by some of London’s greatest museums including the Natural History Museum, Victoria & Albert, and Science Museum. The hostel is a short walk from London’s best transport connections, including direct trains to Heathrow Airport and all of London’s attractions. If this wasn’t enough, the iconic pubs, excellent shopping, amazing restaurants, and occasional celebrity sighting make it the perfect place to live while in London!    The moment you walk through our doors you become part of our family and we want you to have an incredible experience! We want every detail - from our super clean bathrooms and comfortable pillows to our unforgettable social events - to be perfect, giving you a London adventure that is 10 out of 10!    VALID government issued ID required to stay with us, and ALL guests must be between 18-40 YEARS     At our amazing hostel you will have full access to:    • Free Fast Wi-Fi throughout the building as well as Free PC Access  • 24-hour reception for anything you may need (including late check-in/early check-out)  • CCTV in operation 24 hours a day  • Storage Lockers available for your valuables £1 per locker, per day (max 14 days).  • Luggage room is free to use on day of arrival! You can leave your items from £2 per bag on day of departure (£7.50 per bag for everyday thereafter).   • Laundry facilities available 24-hours. Hairdryers and ironing facilities free to use  • Dining room and common area to enjoy a meal or meet fellow travellers  • Beautiful lounge area with comfy sofas and enormous projector screen for movies and sports!     Although the government has removed many restrictions, we will continue to do everything we can to keep you safe while you stay with us!     Here is a little info on stuff that will be a little bit different than normal -     Reception hours  • Check-out is between 8am and 10am.   • Check-in is available between 2pm and 10pm (please let us know your arrival time to ensure someone is there to greet you with a masked smile!)    (A staff member is available 24 hours a day for emergencies, a number will be provided if you have any issues, or you can call the hostel number directly).??     Charity Breakfast  • Breakfast will not be available until fully safe to do so, we will have a special London map for you to scan, so you can find a delicious feast and other top tips around the city!     Common Areas  • Kitchen and common areas are all back open! Whoop Whoop! (Kitchen and lounges will be shut at midnight and reopening at 8am).    Self-Isolation - Guests who wish to self-isolate in the hostel must do so in a private room, guests must not perform the self-isolation period if coming from abroad in shared dorms.      Please Note - For the safety of others, anyone exhibiting symptoms of Covid-19 will be unable to stay at the hostel. We recommend you return home if traveling domestically, or to use specialist self-isolation accommodation.      Helpful Extras (Hidden costs are a pain! If we can give it to you for free, we will, if we cannot do it as cheap possible!).     • Free City Maps   • Tourist Information, walking tours and advice on local attractions and transport (24hrs)  • Daily events organized for our guests  • Room key is a £5 cash deposit  • Padlocks and Adaptors available for £5 cash deposit  • Discounts at local restaurants and coffee shops  • Towels are available for hire at £2.50  • Free printing facilities (boarding passes, tickets etc)  • Clean, crisp linen on your bed ready to sleep on!  • Late Check-Out available to sleep in a little more until Midday (book in advance at reception)!  • ATM (Cash Machine)    Winner of No.1 Small Hostel Group Worldwide, and a Lifetime Achievement Award for excellence in the Hostel Industry. We thrive on ensuring every guest comes satisfied and if you have any problems along the way we are always there ready to help! For this and many other reasons staying at Astor Hostels is the top choice for anyone exploring London on a budget!     Reservations must be made for guests over the age of 18. Any reservations made for those under the minimum age will be cancelled and you will not receive a refund. The hostel organises daily events aimed at backpackers between the ages of 18-30, it is therefore suggested that guests under the age of 40 would enjoy the hostel the most.     Proof of identification must be shown on arrival and can include a passport, driving license and national identity cards. We cannot accept paper driving licences, student, or employee IDs as proof of identity and failure to show proof or a copy upon arrival will result in the cancellation of a reservation without a refund. Get in touch with us for further clarification.     When booking for 10 persons or more, different policies and additional supplements will apply.', '*Please note we are operating on LIMITED reception working hours*    The Phoenix, housed in a homely English-style pub, is an award winning backpackers hostel.   Operating for 11 years we take all of our guests safety and security seriously but we also know how to party!  - so come and join us on your next trip to London!     At the Phoenix Hostel we understand the health and safety concerns of travellers and can assure all guests we are doing everything possible to make your experience safe and enjoyable.      The health and safety of our guests and staff are our number one priority, therefore we have updated our current standards and conditions to reflect this.    Â £10 key refundable key deposit required upon check-in. cash.    Hostel reception open hours:  Monday- Sunday 12:00 - 00:00    Guests can check-in from 2pm on day of arrival (If arriving earlier, guests may leave their luggage in our holding room until check-in)  If arriving very late ie, after midnight, a fee of £3 will be charged  Check-out of rooms by 12noon    Forms of ID accepted:  UK/ROI Driving Licence  EU/EEA Identity Card   International Passport  If you do not have these forms of ID, and wish to stay here, please contact us.     Guests can cancel their reservation up to 2 days before Check in date. After this date the full amount will be charged.   Payment is taken in full upon arrival, and is non-refundable should the guest wish to alter their booking after check in.', \"247london Hostel and Private Rooms is a home away from home Accommodation for backpackers, travellers or someone who just wants to have a chilled and cosy place stay with all the comforts you would have at your own home... All this for a great price....Look forward to having you stay...    If you are looking to meet and socialise with other friendly travellers, you can choose from 6, 8 or 10 bed dorm rooms, mixed or female only!  We are not a party hostel, but we offer friendly, relaxed 'homely' accommodation. The hostel has a great atmosphere where you can socialise with other travellers to give you that feel for London life. There's no curfew, so you can discover our beautiful city on your own terms!  All bedding is provided. Large, fully equipped shared kitchen, comfortable lounge room with plasma T.V, garden area, night caretaker, daily cleaners, no curfew, FREE INTERNET (basic WiFi connection and shared computers provided), coin operated washer and dryer on site.      - Please note our youth hostel unfortunately has an age restriction of 18-45 years old. We offer private accommodation for guests outside of this age bracket.    PRIVATE ACCOMMODATION    Choose from single, double/twin, triple and quad rooms and studios.    All rooms and studios have :  - Fresh linen  - plasma TV  - Wardrobes  - Towels  - Welcome pack  - Wooden floorboards  - Bar fridge  - Heaters  - FREE WIFI (basic connection)  - Access to coin operated washer and dryer on site    Private rooms are completely private, and you have access to our fully equipped kitchens, and communal bathrooms.  Studio apartments are fully equipped with your own private ensuite, and kitchenette, no shared facilities.    - Please note that studio apartments incur an additional £2 per day, on top of the total rent owed.  - Please note that private accommodation is not serviced. We can service rooms/studios upon request at an additional charge. Please contact reception.    Please note:    Check-in from Monday - Sunday : 11am - 5:45pm. Sunday 11am - 3:45pm  Check-out by 11:00   Cancellation policy is 24h in advance    We have a minimum spend of £250 to make payment by credit/debit card.  Any payments made by card incur a 5% surcharge.  Payments by cash/bankers draft are accepted.\", 'COVID 19 Policy Update.  In response to Coronavirus (COVID-19), additional safety and sanitation measures are currently in effect at this property, including social distancing and in-house disinfection.     Our Liverpool Street hostel is the newest of our London hostels, built only in 2017. Just a stroll away from London’s coolest neighbourhood Shoreditch, we’re perfectly located if you’re looking for a fun mix of young locals, businessmen and partying travellers. Wake up surrounded by skyscrapers with The Gherkin on your doorstep, plus you’ll only be a 5 minute walk from Moorgate AND Liverpool Street tube stations. We’re set right above a traditional and charming British pub, where our guests can enjoy breakfast in the morning for just £4.     You won’t have to wander far before you reach Shoreditch and its abundance of amazing rooftop bars, the famous street art of Brick Lane and the awesome Old Spitalfields Market street food stalls. There’s no place better to base yourself than in London’s most bustling neighbourhood.    *Please note that we require an in date government approved - drivers license, passport or national ID card at check-in.    **Guests under the age of 18 must stay in a private room with guardians. They cannot share in general dormitory rooms with people who are not part of their own group or family. Under-18s are not allowed in the bars or pubs.', \"Keystone House is located in the heart of London, within two minutes' walk from Kings Cross and St Pancras station. Its location is perfect for exploring all the sites and attractions of London including Big Ben, Covent Garden, The British Museum, Madame Tussauds, Buckingham Palace, the Tower of London, St Paul's Cathedral, Tate modern and many more.    Kings Cross and St. Pancras stations provide excellent transport links including the tube, bus, overground trains and of course, the Eurostar which operates out of St Pancras.  Included in your stay:    FREE Wi-Fi access  FREE Maps  FREE Bed Linen    Our friendly staff are onsite and available 24/7 and security is taken seriously with 24 Hr CCTV in place.    Before booking, please note that our two-bed basic twin private (or LU (London underground)) rooms are inner cabin rooms without windows but are said to be more peaceful.     We have recently undertaken extensive renovation of our communal shower blocks.    Parents or guardians and family members with children under 18 must book the whole room with ensuite bathroom. Minors under the age of 18 must be accompanied by an adult guardian or parent and are not permitted in shared rooms.    A valid passport or picture id is required for check-in along with a debit or credit card for all guests.\", 'Walk to the river, turn left, and just keep walking…  Stay at The White Ferry House and ﬁnd yourself in an oasis of calm in a beautiful London backstreet. Located minutes from Victoria coach & train stations, our stunning ﬂat iron building is full of warmth, charm and history. Start your own river walk 5 minutes from our front door, or walk to Buckingham palace before you’ve ﬁnished your morning coffee!   Perfect for travellers who love to discover their own adventures.    Legendary London adventures start at PubLove.  All our Hostel-Pubs are welcoming, small and social - the perfect places to get to know your fellow travellers. The best thing about staying with us? Your common room is the great British pub! We have 24hr bars specialising in craft beer & gin. Get social with the locals or swap stories over a drink with your fellow backpackers.    Our dorms are modern, cool and spotlessly clean. Our bunks have hygiene/privacy screens, dedicated power sockets, great free Wi-Fi and crisp white linen. Our top-class washrooms are private and offer shampoo, shower gel and plenty of hot water.    Every Hostel-Pub has an award-winning Burger Craft kitchen serving up burgers, loaded fries and brunch, with vegetarian and vegan options. They open daily from 12pm until 10pm.    BOOK NOW to start your own London adventure.', 'Nestled in the heart of London, walking distance to iconic British Museum and Europe’s most popular shopping area, Oxford Street, Smart Russel Square is the perfect destination for budget-conscious travelers who want to experience amazing London adventure.    Every room is key card locked as is entry to the main part of the building, security lockers are present in every room.    Our transport links are fantastic; we are located only a few minutes walking distance from Russell Square Tube or Metro Station which is directly linked to both Heathrow Airport and Kings Cross St. Pancras for the Eurostar trains. We are directly linked either by bus or the tube to every major train and bus station in London. There are 24 hour buses running next to the hostel, making us accessible at day or night.  The Continental Breakfast costs £2.00 per person per day and it will be served from 07:30 AM until 10:00 AM in our common area.', \"Keystone House is located in the heart of London, within two minutes' walk from Kings Cross and St Pancras station. Its location is perfect for exploring all the sites and attractions of London including Big Ben, Covent Garden, The British Museum, Madame Tussauds, Buckingham Palace, the Tower of London, St Paul's Cathedral, Tate modern and many more.    Kings Cross and St. Pancras stations provide excellent transport links including the tube, bus, overground trains and of course, the Eurostar which operates out of St Pancras.  Included in your stay:    FREE Wi-Fi access  FREE Maps  FREE Bed Linen    Our friendly staff are onsite and available 24/7 and security is taken seriously with 24 Hr CCTV in place.    Before booking, please note that our two-bed basic twin private (or LU (London underground)) rooms are inner cabin rooms without windows but are said to be more peaceful.     We have recently undertaken extensive renovation of our communal shower blocks.    Parents or guardians and family members with children under 18 must book the whole room with ensuite bathroom. Minors under the age of 18 must be accompanied by an adult guardian or parent and are not permitted in shared rooms.    A valid passport or picture id is required for check-in along with a debit or credit card for all guests.\", 'We stayed in one of the private rooms and we loved it! Everything was clean and convenient. The staff was great, helpful and kind. The location was superb.', \"We are located in central London - just 5 minutes walk from the station. Rated one of the best hostels in London 2017 by the Telegraph newspaper, we offer free dinner & free breakfast everyday. Come stay with us and make new friends for life.    Free high speed WiFi throughout, a huge garden patio with free gym, communal lounge with a 85-inch Ultra HD TV with cable, Netflix & PS4. Guests can also use the modern shared kitchen to cook their own meals.    All dorms have contemporary designs and feature free storage lockers. We also have many private rooms.     The hostel is 15 minutes walk from Natural History & Science Museums and Hyde Park. Madame Tussauds, Harrods and Buckingham Palace are also a 15-minute train ride away.    Staying COVID-19 Safe at Saint James:    The dorms have been halved in size therefore each guest has a double bunk bed to herself  Plexiglass protection screens installed as barriers against Covid-19  The showers sanitised before every use  Dedicated staircase for going up and separate one for going down    The Reception is open 24/7 and the international staff will be there, happy to help you.     More reasons to stay at Saint James Backpackers?   - A 24-hour reception to make sure to be available for our guests at any time   - Massive living rooms with a large television, with options such as Sky TV, Netflix and a PlayStation 4   - USB Charging Points in every room   - An exclusive ladies-only dorm room and showers   - Massive patio garden including BBQ   - Outdoor gym  - Hostel activities: movie and popcorn nights, sangria nights, board game competitions, screening sports events, holiday parties…    Note:     - There is a 24-hour cancellation policy on all reservations. Any night that isn't cancelled with at least 24 hours notice will not be refunded.   - A £10 key deposit is payable at check-in, which is returned on return of the key at check-out.   - Check-in: 14.00/ Check out: 10.00   - Credit cards accepted   - Taxes included   - No smoking anywhere inside the building (but we do have a large patio garden where you can indulge)   - On the property lives one cat and one dog.  - Card Payments must be authorised by chip and pin   - Minimum age to stay in a dorm is 5.   - Please note that there are limited spaces for dinner; you must sign up at reception each day before 16:00, signup is done on a first come first serve bases. If you cannot make it here in time please just call us and request to be put on the list.\", \"Temporary changes at YHA London Central    This hostel offers private rooms with en-suite or shared toilet and shower facilities on corridors. For stays before 7th September 2020, private rooms using shared toilets and showers will be allocated a specific toilet/shower for sole-use. From the 7th September shared toilets and showers will be in operation with extra Covid-secure cleaning regimes.    For the foreseeable future, the following facilities will not likely be in operation at YHA London Central, although we’re working hard to open these safely as soon as we can:    Self-catering kitchen  Lounge  Dining room  Luggage room/stores  Dorm rooms  Bar    Dorms are not currently available but we’re working hard to re-introduce them.    We will be serving a limited food and drinks menu for guests to take away.      YHA London Central boasts seven floors of modern, budget accommodation, just five minutes' walk from Oxford Street. This is the perfect place for young backpackers wanting to experience the heart of the capital.     Great news! Modern, stylish and affordable accommodation in London is possible. Our on-site cafe/bar is perfect for a relaxing drink or snack and to swap stories with fellow travellers. We have 24hr reception facilities and access.     We're within very easy reach of Oxford Circus, Soho and the West End, so great shopping opportunities, restaurants and entertainment await you.     YHA London Central is not equipped for groups - for group bookings please contact YHA London Thameside or YHA London Holland Park, both found here on Hostelworld.    Please note that we do not charge an additional temporary membership fee. Discounts are not available for members of YHA (England & Wales) or IYHF as part of this booking.    London Attractions: We sell discounted and fast track entrance tickets to some of London’s most famous sights and best kept secrets. Including the London Eye, Madame Tussauds, The Tower of London, Walking tours, Bike tours, boat trips and many, many more. Plus, every penny we make at YHA goes directly back in to our charity ‘Breaks for Kids’ which makes it possible for children from financially disadvantaged backgrounds to take part in school or community group breaks away! Ask us for a full activity list on check in.    Hostel Activities: We organise fun stuff for you to do nearly every day of the week! Such as Free Walking tours, top rated Pub Crawls, Group trips to famous West End Shows, Jet boating on the Thames, Burger nights, Sunday Roasts, movie nights…..well, you get the drift! It’s a fantastic way to meet other travellers and really make the most of your time in London! Find out what’s happening in Your YHA London Hostel while you’re staying with us - ask for the itinerary when you check in.\", \"At the The Finnish Church in London, we offer two accommodation options in the hostel category - 6 persons mixed gender dorms and 4 person en suite dorms. One of the 4-person dorms is for women only. Everybody is welcome to stay with us - you do not have to be Finnish or a member of our church. Due to Covid-19 regulations, only limited number of beds are currently released on Hostelworld. If travelling with family or larger group, please contact reception for special arrangements: kitchen@merimieskirkko.fi .  We have a cafeteria with WiFi serving Finnish food and pastries, Finnish shop, large communal areas and an outdoor terrace.  The accommodation includes sheets, and towels.  The Church hosts various events including Church services, Toddler groups, concerts and Fairs. All events end by 9pm. You are free to take part in activities, but do not have to.   Please note:  Reception open Tue-Fri 9am-18pm, Sat&Sun 9am-18pm, Mondays reception closed. Arrivals outside reception opening hours can be arranged by request in advance, but this will incur extra costs: Tue-Thu after closure door opening fee £20. Fridays to Sundays, and Mondays after closure opening fee is £50.   Check-in from 13pm, Check-out by 11am. Contact reception if you prefer earlier check-in, sometimes this can be arranged.  Cancellation policy is 2 days in advance.  We accept payment by cash & credit card  Key deposit £20.00, to be paid in cash, returned on return of the room key.  Taxes are included   Under 18's must be accompanied by responsible adult.\", \"PLEASE NOTE WE ONLY ACCEPT GUESTS FROM THE AGE OF 18-40 with GOVERNMENT ISSUED PHOTO ID, such as driving licence, passport, national ID card.   Student cards and proof of age cards are not accepted.     The Queen Elizabeth Youth Hostel is located above a historic pub in the posh borough of Hammersmith and Fulham. Located conveniently between the Imperial Wharf Overground and the Fulham Broadway Tube Station, we are just a quick train ride away from London's hottest tourist attractions.    Located less than 5 minutes from the River Thames and 10 minutes to Chelsea FC's home stadium, Stamford Bridge. This is a prime location for those looking for a peaceful and enjoyable stay. Not far you will find green spaces, great shopping and easy transport connections to Central London. We are also located just off King's Road, one of the most fashionable streets in the world.    Facilities:  Cheap, vegan-friendly breakfast buffet  Linen Included   Free WiFi Internet  No Lock Out  No Curfew   Bar with cheap drinks for guests  24/Hour Check-in/Check-out  Secure Locker Storage  Two-Week Maximum Stay    -------------------------------------------------------------------------        Check-in is from 15:00 to 00:00 -- if you arrive before 15:00 you can store your bag for FREE in our secure luggage room.  Any check-in between 00:00 to 10:00 will be charged a £3 fee.    Check-out is at 11:00 -- Luggage storage is available upon departure for a nominal fee.    Due to UK alcohol licensing laws, you are not allowed to bring or consume outside alcohol on the premises.     Wi-Fi is available in nearly all of our rooms, depending on your Wi-Fi device. It is specifically not available in our 17-bed dorm. All of our rooms do have electrical points, enabling you to charge your electronic devices.     We can't wait to see you here at Queen Elizabeth!\", '--', \"Pickwick Hall provides accommodation for tourists, students and other people who require cheap, clean and attractive short or long-term lodging. We are situated in central London, in the famous area of Bloomsbury, where writers and artists have lived for centuries. Pickwick Hall is in the perfect location, about a four-minute walk from the British Museum and the University of London and about 10 minutes from the entertainment and shopping districts of the West End, Covent Garden, Soho, and China Town, but in a quiet street of Georgian town houses.     There is easy and direct access from Heathrow Airport by tube (straight to Holborn Station on the Piccadilly line) and train and coach connections to the other London airports and Eurostar train terminal. Choose either 'en-suite rooms' (with their own private bathroom) or the less expensive 'standard rooms' (with showers and toilets on the same floor shared with a limited number of other guests).     Whichever you choose, the room will be furnished with hotel-quality beds (no bunk beds), clothes storage, a table and chair, and a wash-hand basin. Bed linen and towels provided; continental breakfast and kitchen available to prepare your own meals. There is a sitting room with cable television and high-speed WiFi is available throughout Pickwick Hall.     Our staff is on hand to answer your queries and a high standard is maintained to ensure your stay with us is comfortable.     Pickwick Hall is a small hostel where you can expect personal attention and good accommodation at a reasonable price.\", 'UNFORTUNATELY WE DO NOT HAVE THE FACILITIES TO APPROPRIATELY ACCOMMODATE GUESTS WHO NEED TO SELF ISOLATE FOR 14 DAYS.     At No.8 we take pride in our Customer Service and ensure that all of our Guests get everything they want from their time in London. We cater for the Young & Young at Heart Backpacker 18-48 only, Photo IDs will be required on Check In. We have Live Entertainment on Weekends within our Traditional English Pub, along with the usual range of pub entertainment and banter!    - Free High-Speed WiFi  - Full Facility Kitchen, Dining Space & Outdoor Deck  - Secure Storage Facilities & 24 Hr Key Card Access  - Large Lounge - Pool Table, Chess Table, Couches, Satellite TV & Darts Board etc.   - Traditional English Pub & Beer Garden  - Young & Young at Heart Backpackers 18-48 only. ID on Check-In Required.  - Payment by Cash only on Check in (Cards not accepted)  - ATM on site (Does not accept Credit Cards)  - 20 Key Deposit (Fully Refunded On Check-Out)  - No refunds are made following Check-In  - Reception is open from 10:00am-10:00pm Sun-Thurs and 10:00am-11:00pm Fri-Sat. PLEASE NOTE that Check In will NOT be possible outside these hours. If you are running late or will be arriving slightly outside our reception hours, please contact us to see if there is a possibility of us accommodating your arrival outside of opening hours.    Whether it is your first time in London or you are a seasoned traveller, No.8 has everything you need (and a few extras) to ensure that your stay in London is definitely Enjoyable & Comfortable!', 'Fantastic location few minutes from Hammersmith Broadway and tube and bus hub for Heathrow Victoria Paddington etc etc lift to all floors big TV room they have invested a lot of money have used many times and will continue to do so', \"If you are looking to meet and socialise with other friendly travellers, at Best London Hostels you can choose from 4, 6, 8 or 10 bed dorm rooms, mixed or female only!  We are not a party hostel, but we offer friendly, relaxed 'homely' accommodation. The hostel has a great atmosphere where you can socialise with other travellers to give you that feel for London life. There's no curfew, so you can discover our beautiful city on your own terms!    All bedding is provided. Large, fully equipped shared kitchen, comfortable lounge room with plasma T.V, garden area, night caretaker, daily cleaners, no curfew, FREE INTERNET (basic wifi connection and shared computers provided), coin operated washer and dryer on site.    you can start your day exploring this great city full of energy!      Cancellation policy : 24h  Check in : 11.00  Check out : 10.00  24 hours notice to cancel your booking and in case of a late cancellation or no show there would be a cancellation fee of one nights rent.   Please note our youth hostel unfortunately has an age restriction of 18-45 years old. We offer private accommodation for guests outside of this age bracket.    We have a minimum spend of £250 to make payment by credit/debit card  Any payments made by card incur a 5% surcharge.\", \"Set over a pub and restaurant in Willesden Junction, Le Junction Hostel - Pub & Garden is a purpose built hostel offers stylish and affordable guest rooms and dorms, plus a wonderful roof terrace, and is handily located just 20 minutes from central London by train.     Le Junction has 14 rooms available, which include private twin and double guest rooms, and dorms with bunks for 4, 6, or 8 guests. All come with en suite bathrooms, free Wi-Fi and free bed linen is provided (towels are available for rent). Guests can use communal kitchen, and the friendly staff at the 24-hour reception can provide storage for your luggage and valuables if required (free while u stay). Downstairs you'll find a lively pub and restaurant with a beer garden and big screen TVs for watching sports events.    The guest house is just a 2-minute walk from Willesden Junction station, which has overground and underground trains around the city. The shops of Oxford Street and the bright lights of Soho and Covent Garden can be reached in 20 minutes.    Le Junction Hostel - Pub & Garden policies & conditions;    Cancellation policy: 24h before arrival. In case of a late cancellation or No Show, you will be charged the first night of your stay.    Check in from 14:00 to 23:00 .   Check out before 10:00 .  Reception is open 24hrs.    Payment upon arrival by cash.   Taxes included.  Breakfast not included.    General;  No curfew.  We do not accept customers younger than 12 years of age.  Non smoking.    ID required to check in, Maximum stay 28 days,  No groups of males larger than 8 pax,\", \"UNFORTUNATELY WE DO NOT HAVE THE FACILITIES TO APPROPRIATELY ACCOMMODATE GUESTS WHO NEED TO SELF ISOLATE FOR 14 DAYS.    ALL GUESTS ARE REQUIRED TO WEAR A FACE COVERING AS PER UK GOVERNMENT GUIDELINES UNLESS THEY CAN DEMONSTRATE THEY ARE EXEMPT.    For Great Facilities, Comfort & Affordability you can't go past No.8 Seven Sisters! We provide Excellent Service and ensure that all of our Guests get Everything they want from their time in London. We cater exclusively for the Young & Young at Heart Backpacker 18-48, Photo IDs are required on Check In, as we have Entertainment on Weekends and operate a Very 'Bustling' and Social Hostel.    - Free WiFi  - Full Facility Kitchen  - Secure Storage Facilities & 24Hr Key Card Access  - Pool Table & Darts Board  - Satellite TV  - Traditional English Pub & Beer Garden  - Entertainment on Weekends!  - Young & Young at Heart Backpackers 18-48 Years Old Only.  - Payment by Cash only on Check in. (Credit cards not accepted)  - £20 Key Deposit (Fully Refunded On Check-Out)  - No refunds are made following Check-In.     Reception is open from 10am-11pm. PLEASE NOTE that Check In will NOT be possible outside these hours. If you are running late or will be arriving slightly outside our reception hours, please contact us to see if there is a possibility of us accommodating your arrival outside of opening hours.    As guests arrive and depart at varying times and numbers, it is impossible for us to guarantee that all group bookings can be allocated in one room together. Nevertheless we always try to keep groups together.    Whether it is your first time in London or you are a seasoned traveller, No.8 has everything you need (and a few extras) and will ensure that your stay in London is definitely Enjoyable & Comfortable!    We look forward to Welcoming you at No.8 Seven Sisters!\", \"Safestay Holland Park    Safestay Holland Park is ideally located in the heart of London, nestled within one of the capital's most prestigious parks. This stunning hostel consists of 3 buildings, including the East Wing of the park's original Jacobean building, and surrounds our private courtyard garden.    The property has been fully refurbished to the high standards for which Safestay is renowned.     The Grade 1 listed building is located on the edge of London's famous Holland Park(search for Holland walk and duchess of Bedford Walk on your maps) and will provide Safestay guests with the opportunity to stay in the heart of one of the capital's desirable neighborhoods. The property dates back to 1605 along with a 1950's extension and is situated in a huge garden within the middle of one of London's most beautiful parks.    Historic, Jacobean splendor, in a great city location. Who says you can't have it all? This mansion in the middle of Holland Park was visited by Sir Walter Scott, Lord Byron, and Dickens. Today it offers large, comfortable rooms to you.     Three different houses with a range of standard & ensuite rooms as well as family rooms & private rooms for everyone!  Pool room, breakfast room & restaurant as well as the garden, & the whole Park itself with its famous beautiful woodland trails, manicured lawns, the Kyoto Japanese Garden with its resident Coi, and a fantastic ice cream stand in the middle.  Opened in 1952, Holland Park used to be a private estate belonging to the Earl of Holland. During the 19th century, the Holland House attracted high-profile visitors from various walks of life, from the politician, Lord Palmerston, to the poet, Lord Byron.    Safestay Holland Park has excellent transport links and is within easy reach of The Natural History Museum, Holland Park Avenue, Notting Hill Gate, Portobello Market, Harrods, The Science Museum, Hyde Park, Westfield Shopping Centre, and Kensington Palace Gardens.    Dormitory style and range in size from 2 beds upwards. They offer mixed accommodation. Clean fresh sheets are included in the price. Lockers are available in rooms. Padlocks available for sale    Safestay Holland Park's Policies & Conditions:    Cancellation policy: 24 hours before arrival.   Payment upon arrival by credit cards, debit cards.   This property may pre-authorize your card before arrival.    Check-in from 14:00 to 23:00.  Check out before 10:00.    Taxes included.  Breakfast not included - 6.00 GBP per person per day.  Please note there is no guest kitchen facility to cook and corkage is applied at only £1 per guest for outside food and soft drinks. No outside alcohol is allowed at all.    General:  24-hour Reception.  No curfew.    Bookings cannot be accepted from any person age 16 years or under unless they are accompanied by an adult (over 18) who is staying in the same dorm/room. Families with children aged 16 years and under are welcome, however, they must book and pay for all beds in order to make the room private (i.e. in the case of 4 bedded dorms or larger).     Alternatively, we have 2 Bedded and 3 Bedded Private rooms available, subject to availability.     Look out for the Peacocks!  Show more\", \"Park Villa is a new boutique hostel in the heart of the old East End of London. The hostel is a Georgian Regency villa with attached coach house and has been lovingly restored to reflect its original character and charm.    Superfast WiFi is included in the price and all guests have access to a kitchenette (including kettles, toasters, fridge and combination microwave/grill/oven) and an inviting lounge / TV room. All rooms and showers are cleaned daily and the electronic entry systems, cameras and reception ensure the hostel is safe at all times.     We also offer a continental breakfast (Â£3 per night), fresh towels (Â£1 on check-in), a coin operated laundry and a car park (Â£10 per night). Cards and cash are accepted for payment.    Our dorms at Park Villa feature oak wood floors, customised bunk bed pods, luxurious cotton bedding, grand plantation shutters and are mainly en suites. The family rooms offer the same luxury, with shared bathrooms and full size baths. All rooms offer warmth, comfort and lots of space to stretch out and make your own.    Park Villa's Policies & Conditions:-  Photo ID is required for all guests including UK nationals. Acceptable photo ID includes passport, national ID or drivers licence and for UK nationals, even a student ID is acceptable  Cancellation policy: 48 hours before arrival.  Check in from 12:00 to 24:00 .  Check out before 10:00 .  Taxes included.  Breakfast not included. Breakfast is available from 8am - 12 noon and costs Â£3 per night, payable on check-in.  Payment upon arrival by cash, credit cards, debit cards. This property may pre-authorise your card before arrival.    For Non-Refundable bookings, the full amount amount of the stay will be charged at the time of the booking. In case of a failed charge, we will contact you and we reserve the right to cancel your booking if no answer is given within 24 hours.    General:-  Car parking available for Â£10 per night (limited space - please check with us before)  No curfew  Non smoking\", 'Among underground music venues, innovative museums, and hidden foodie hotspots, Selina Camden suits its edgy North London backdrop. Aside from offering beautifully-designed accommodation and a comfortable space to hang out, the Selina Camden hotel is an authentic cultural hub, consistent with great guest experience, an ever-changing calendar of exciting diverse programming, and unique wellness experiences. Reflecting Selina’s unique global reach, our Camden destination is here to explore and tie together the shape-shifting diversity of global music. On-site features include a fully-equipped communal kitchen, a loft complete with a stunning balcony, and a trendy vegan/vegetarian neighbourhood-style eatery.    Wake up early and head downstairs for some yoga before experiencing the best of Camden’s vegan gastronomy scene at our hotel restaurant. Take to the streets and explore the many attractions on your doorstep- from Camden Market to London Zoo, The Electric Ballroom, and multiple nearby eateries, we’ve got you! Back at Selina, unwind in the basement accompanied by vinyl tunes, catch a performance by local young talent, or order a pre-gig cocktail at the bar. As the sun sets, catch a show in one of England’s most iconic venues or head to the streets to experience London’s eclectic nightlife till the early hours.    Selina Camden - Terms & Conditions     24-hours front desk.    Cancellation policy: 24h before arrival. In case of a late cancellation or No Show, you will be charged the first night of your stay.    Check in from 15:00 to 23:00 .  Check out before 11:00 .    Payment upon arrival by cash, credit cards, debit cards.   Taxes included.    Breakfast not included.  No curfew.', \"A friendly hostel situated in the heart of Shoreditch (London). A great location for some of the cities best clubs, bars and restaurants.   Only a short walk from our nearest tube station (old street)     Hire a Bicycle from outside the hostel and cycle down the famous River Thames, where you can see some of the most famous attractions of London, only a 10 minute cycle away and you'll find yourself at the famous London bridge, another 5 mins cycle down the thames and you will be at the Tower of London, cycle further and you will find many more attractions of London.    Choose from either your own private room with your private shower room, to a single bed in a dormitory from only £15 per night.    The Dictionary Hostel - Terms & Conditions     Reception working hours - 9:00 to 23:00    Cancellation policy: 72h before arrival. In case of a late cancellation or No Show, you will be charged the first night of your stay.    Check in from 15:00 to 23:00 .  Check out before 11:00 .    Payment upon arrival by cash, credit cards.   This property may pre-authorise your card before arrival.   Taxes included.    Breakfast not included.  No curfew.\", \"Welcome to Venture Hostel.Venture Hostel is a vibrant young hostel, the perfect base to discover the real multi-cultural London. Surrounded by street markets and lively music venues, the exciting atmosphere will make your London stay a memorable experience.  Nearby Goldsmiths University was home to the 1990's Britpop movement and Young British Artists movement, with famous alumni including artist Damien Hirst and Blur/Gorillaz frontman Damon Albarn.    Situated in West Greenwich, Venture Hostels has excellent transport links to central London and all the major attractions, like the Royal Greenwich observatory, Cutty Sark, the Emirates Air Line and the O2 Arena, a stage for the most exciting and famous concerts in London.    Our hostel is close to three main stations, Deptford Bridge on the DLR, Deptford station on the railway and New Cross station on the overground. The hostel is also one stop on the train away from the city centre of London, London Bridge, 20 minutes from the famous Olympic Stadium, Stratford, and within a walking distance from Greenwich Mean Time and Meridian Line.   Our bright, fun and recently refurbished hostel is the place to find visitors from all over the world, the hostel is housed above The Royal Standard bar and restaurant. The restaurant offers a selected gourmet menu on European cuisine including seafood, steaks, burgers and roasts. along with choice craft beers and a vibrant atmosphere. The bar and restaurant boasts a large reception area and bar, incorporating a mixture of lounge and dining style.  All the hostels customers have a 15% discount on the Royal Standard Bar & Restaurant Menu.    All dormitories include free Wi-Fi, in-room lockers and fresh linen. The hostel also benefits from a 24-hours reception operated by our friendly and attentive staff.    Regardless of the length of your stay in our hostel, we will ensure you have a great time in the clean, comfortable and safe environment. Venture Hostels is known for its bursting with character atmosphere that is so necessary for an authentic, unique an unforgettable London experience.\", 'Do Camden by day and curb side beers by night.   The Exmouth Arms is an iconic Hostel-Pub situated in the Camden corner of London. Explore the punk mecca from PubLove’s base in the heart of Kings Cross & Camden Town. On a sunny day the street outside is ﬁlled with the best afternoon drinkers in the city. We have plenty of shelter, so we never stop for the great British weather. This place is a backpacking institution.  Perfect for travellers wanting to experience the alternative side of London    Legendary London adventures start at PubLove.  All our Hostel-Pubs are welcoming, small and social - the perfect places to get to know your fellow travellers. The best thing about staying with us? Your common room is the great British pub! We have 24hr bars specialising in craft beer & gin. Get social with the locals or swap stories over a drink with your fellow backpackers.    Our dorms are modern, cool and spotlessly clean. Our bunks have hygiene/privacy screens, dedicated power sockets, great free Wi-Fi and crisp white linen. Our top-class washrooms are private and offer shampoo, shower gel and plenty of hot water.    Every Hostel-Pub has an award-winning Burger Craft kitchen serving up burgers, loaded fries and brunch, with vegetarian and vegan options. They open daily from 9am until 10pm.    BOOK NOW to start your own London adventure.', 'Kensal Green Backpackers is a legendary hostel full of character, aiming to provide a stay in a fun, affordable and safe enviroment.    We are located right across the road from Kensal Green tube and overground station (Bakerloo line) and bus no: 18 will take you to the heart of London 24 hours a day.  Our friendly team of multi-lingual staff are happy to assist you 24/7.    Fresh linen, Wi-Fi, comfortable beds, hot showers are all included in your stay. All our rooms have showers and water basins.    At our amazing hostel you will have free access to:    -Full facility kitchens  -Dining space  -Large lounge with pool table and Sky-TV  -Free weekly entertainment    Affordable extras    -Laundry service (wash&dry)  -Bar  -Coffee shop  -Restaurant  -Breakfast available at reasonable cost  -Storage room  -Adaptors  -Towels for hire  -Tourist information and advice on local attractions and transport    Please note that valid photo ID is mandatory for check-in. We ask for a £10 key deposit which would be returned to you upon check out.  Kensal Green Backpackers only caters for travellers aged between 18-40 yrs old.', 'IMPORTANT NOTICE: This hostel is for 18 - 35-year-olds ONLY.   Check In is from 2 pm and Checkout is Before 10 am. Passport, Identity Card or Driver License is Required from all Guests. We accept cash in British Pounds and most cards. Please, note the reception is opened between 8am and 10pm only.     \"Your home away from home\"     Looking for a great central London Hostel? Your search can come to rest to at London Backpackers Youth Hostel in Hendon.   We are moment from Hendon Central Underground station, minutes from the heart of London and easy access to nearby airports (detailed instructions of how to find the Hostel will be emailed to you once your Booking is made).    We take pride of providing excellent hostel facilities for your stay, whether for a single night or several.  For Group Bookings please contact the Hostel Directly.  If you are looking for long term accommodation, email us for rooms and prices available for quarantining and long stay.     Our rates are truly inexpensive, but our hostel is jam-packed with amenities tailored for young, and young at heart, people looking for a comfort at a modest price with a friendly atmosphere.    Bookings made on this or any website are Not Valid for Existing Guests. If you are and Existing Guest and make an Online Booking, your Booking will be honored but you will be charged the Full Nightly Rate.  In the event of a NO SHOW or LATE CANCELLATION, Guests will be charged a Cancellation Fee Equal to the First Night of the Booking.    WHAT YOU CAN EXPECT:    Our facilities supply free linen, blankets, private rooms with towels, internet access, TV, literature, City Maps and UK Sim Cards, and a fully fitted kitchen for cooking (with Fridge/Freezers, Oven, Stoves, Microwave, Toaster and Kettle). You will not find another cheap London Youth Hostel that provide clean showers and toilets, plus hot water guaranteed 24h a day. For your convenience we also provide a laundry room with washer and dryer. Bunk Beds with Privacy Curtain, USB Charging Ports, Power Sockets, Reading Light and Locker. (Bring a Padlock or purchase from Reception). Sports Equipment for the nearby Hendon Park, just up the road with a large football field, tennis courts, basketball courts and it is a great place to get active during the day or to chill out with friends in the evening.    You can also enjoy a Pool game in our brand-new basement, equipped with seats and TV for more comfort!    We want your stay to be carefree and we ensure that by offering lockers and luggage room for your use in securing your property during your stay. The Hostel is covered by CCTV and there is 24hr Key Card Access with No Curfew.    Moreover, you can find plenty of coffee shops and restaurants around the hostel and for every taste!     For your convenience you will find Tesco, Sainsburyâ€™s, and other international shops 2 min walk from the hostel. They are all opened until late at night, even on the Sunday.     We are a 10-minute walk away from Middlesex University as well as Brent Cross shopping centre. The Royal Air Force museum is right by the next underground station!    DESINFECTING AND CLEANING:  Since COVID-19 started, face coverings must be worn when arrival at the hostel, in corridors and all public areas. We have implementing a vast number of procedures and training with the team to ensure your safety. The hostel is disinfecting every 4 hours and hand sanitizer stations are available all around the building.     CONTIENTAL BREAKFAST AND HOMEMADE DINNERS TWICE A WEEK:  We are offering every day a breakfast served by our team, contactless due to the current situation. We wanted to keep this morning routine for our customers to ensure a better comfort. Home sweet Home!     Twice a week out team is cooking a homemade dinner, using herbs and spices from our indoor hostel garden! Every guest is invited to join us and get a a plate at our table! We have set this up for reducing the number of people using the kitchen and share a great time together, with social distance of course!     Our team is giving the best of them to make your stay comfortable as much as we can during this special time. SAFETY AND HAPPINESS are our first priorities, and we are delighted to welcome you at London Backpackers Youth Hostel!     SPREAD LOVE NOT GERMS!', 'This bright, clean and friendly Belgrave Hotel is just a few minutes’ walk from the “Oval”Cricket Ground and Tube Station. While many other hotels near Victoria Station, Waterloo Station, and hotels in Vauxhall expect you to pay a premium for Wi-Fi, we offer this service free because we want you to be comfortable, able to relax and enjoy your London break. At our hotel we also provide breakfast, tea, and coffee when you stay in our modern rooms. There is on-site parking.    The tourist attractions surrounding Westminster and Buckingham Palace are just a few stops on the Tube away. Waterloo Train Station and the South Bank can be reached in 10 minutes’ Tube journey. Very close to Brixton Academy, the largest music venue in London.    Modern rooms at the Belgrave Hotel each feature satellite TV, a telephone, radio and tea/coffee facilities. Each room has a private bathroom. While other hotels offer steep prices, we tend to offer value rates because we know you may be on a budget.    Belgrave Hotel London Policies & Conditions:    Cancellation policy: 48 hours before arrival.     Check in from 13:30 to 23:00 .  Check out before 10:30 .    Payment upon arrival by cash, credit cards, debit cards.   All guest cards would be Pre-authorised 7 days prior to guest check in date.    Taxes included.  We will be serving continental breakfast inclusive in the room price. Breakfast from Monday to Friday would be served from 7.30 am to 9.30 am and Saturday/Sunday breakfast will be served from 7.30am to 10.00 am.    General:  24 hour Reception.  No curfew.  Child friendly.  Non smoking.  Parking spaces on request with additional £15.00 per day from check in to check out time.', \"PLEASE NOTE: The Triple room has one double bed and one single bed and sleeps 3 people.    Modern, newly refurbished hotel with a warm, friendly hospitality which is second to none, matching the stylish facilities and quality service to the perfect location.      We offer clean and comfortable rooms with all the facilities at very competitive prices. We assure you that your stay will be relaxing and enjoyable.    Marble Arch Inn has a twenty four hour Reception. From the moment you arrive, at any time, our friendly and well trained staff will ensure you are looked after with only the highest level of service.     We can accommodate you and your guests comfortably in our well equipped and appointed rooms. All rooms with Remote Control Colour Satellite Television, Direct Dial Telephone, Clock/Radio, Central Heating, Hairdryer, Tea/Coffee Bar, Travel Electrical Adaptor, Wash Basin and Fridge/Freezer.     Most rooms with Shower, Toilet and Secondary Air Conditioning.    From 15 June 2001 the Marble Arch Inn will be rooms only and details regarding the breakfast can be obtained from the Reception'     Please be advised that the property will pre-authorize the card before arrival. If the credit card is not valid, you will be contacted to provide the details of another valid credit card in order to guarantee your reservation. Failure to do this, might result in the cancellation of the booking.\", 'I regret booking this property. The location was falsely advertised (an hour walk away from where it is listed), facilities are not good (no outlets anywhere near the beds, shower has no separation from rest of bathroom and soaks entire tiny room), and it was grimy. The man at the front desk was nice, but I cannot recommend staying here. It’s also incredibly overpriced for what you get.', \"The Hyde Park Court Hotel is a centrally located, family run hotel in a quiet and pleasant square.     All rooms have an ensuite shower and toilet, tea/coffee making facilities, satellite television, hairdryer and direct dial telephones. Our reception is open 24 hours and a continental breakfast is included in the rates.    Our location allows easy accessibility to all major parts of London whether the purpose of your stay is business or pleasure. Edgware Road tube station offers easy access to London's major tourist attractions. Hyde Park and Oxford St., the heart of London's shopping area are both only a few minutes walking distance away.    Paddington Station is only 2 minutes away. From here, the Heathrow Express takes 15 minutes to get to Heathrow Airport. The underground takes 10 to 20 minutes to get to the West End and most other attractions.     The local Paddington area offers many restaurants, pubs, clubs and cinemas.      Please note this hotel has a 48-hour cancellation policy and your card may be pre-authorised before arrival.     Please be advised that the property requires the CVV code of the card in order to guarantee the booking and customers will be contacted directly regarding this. Failure to provide it will result in the cancellation of your booking.\", \"We offer budget accommodation located in North West London zone 2 (Willesden Green/Kilburn being local underground stations.)     Shared accommodation.     If you are looking to meet and socialise with other friendly travellers, you can choose from 6, 8 or 10 bed dorm rooms, mixed or female only!   We are not a party hostel, but we offer friendly, relaxed 'homely' accommodation. The hostel has a great atmosphere where you can socialise with other travellers to give you that feel for London life. There's no curfew, so you can discover our beautiful city on your own terms!  All bedding is provided. Large, fully equipped shared kitchen, comfortable lounge room with plasma T.V, garden area, night caretaker, daily cleaners, no curfew, FREE INTERNET (basic wifi connection and shared computers provided), coin operated washer and dryer on site.   A simple breakfast of toast, butter, jam, coffee and tea is provided free of charge for any dorm bookings     - Please note our youth hostel unfortunately has an age restriction of 18-45 years old. We offer private accommodation for guests outside of this age bracket.     PRIVATE ACCOMMODATION    Choose from single, double/twin, triple and quad rooms and studios.     studios have :   - Fresh linen  - Wardrobes  - Towels   - Wooden flooring  - Bar fridge  - Heaters  - FREE WiFi (basic connection)   - Access to coin operated washer and dryer on site     Private rooms are completely private, and you have access to our fully equipped kitchens, and communal bathrooms.   Studio apartments are fully equipped with your own private ensuite, and kitchenette, no shared facilities.     - Please note that studio apartments incur an additional £2 GBP per day, on top of the total rent owed.   - Please note that private accommodation is not serviced. We can service rooms/studios upon request at an additional charge. Please contact reception.     CHECKING IN/PAYMENT   Our lovely hostel is based in the trendy North West London Area of Willesden Green and Kilburn..we are only 5mins walk from the tube...     When you arrive at Number 30 Chatsworth Road NW2 4BS please phone the head office phone number and one of our lovely staff members will come to the hostel and check you in.    This service is only between the hours of 11am to 5:30pm Monday to Saturday. and on Sunday from 11am to 3:30pm       If you are delayed, or plan to arrive outside of these hours, please advise, and we will email details on how to do a 'self check in'    We have a minimum spend of £250 to make payment by credit/debit card.   Any payments made by card incur a 5% surcharge.  Payments by cash/bankers draft are accepted.     All Hostel bookings include:  Fresh linen, duvet, pillow, washing powder.    All Private Room bookings include:  Fresh linen, duvet, pillows, towels, washing powder, welcome pack of tea/coffee, biscuits, just to get you started.    All Studio Apartment bookings include:  Fresh linen, duvet, pillows, towels, washing powder, 1 roll of toilet paper, washing up liquid, tea towel, shampoo sachet, welcome pack of tea/coffee, biscuits, just to get you started.\", \"The Britannia Inn Hotel is situated near the ILFORD Town Centre. A brand new Boutique Hotel built to truly international standards. The Britannia Inn Hotel has 'Premier Quality' Rooms all en-suite with power showers and some with baths. Stylish setting with spacious air conditioned reception and lounge.     All rooms with high speed internet access, state of the art Media Hub rooms & multi-media facilities that are very rare in UK. The Britannia Inn Hotel is very close to major attractions, we are 20 mins away from Central London via (Tube/Rail), 10 mins away from Olympic Village.    Cancellation policy: 48 Hours.    Cancellation term to be added to all the 3rd party web-sites cancellation policy:    ***Please Note***  A valid credit card is required to secure the booking and will be preauthorised. Failure to preauthorise your card will result in the booking being cancelled and your deposit will be lost.\", 'Comfortable family run B&B hotel , very centrally located in Central London just opposite Kings Cross St Pancras International stations.     Rooms are available ensuite or economy with sharing bathroom for the budget conscious traveller. All rooms have a complimentary English breakfast, flat screen tvs, high speed internet wifi access and te/coffee making facilities.     The Fairway Hotel is walking distance from the British Library, museum , Camden and the university of London. Tourist attractions are reachable in minutes.    Comfortable family run B&B hotel , very centrally located in Central London just opposite Kings Cross St Pancras International stations. Free high speed wifi .    Please note:  Check-in from 14:00 - 23:00  Check- out by 11am  Cancellation policy is 3 days in advance  We accept payment by cash, debit & credit card. Please note that there is a 3% charge on credit cards but not on uk debit cards . To avoid the charge you may pay in cash in GBP or euro or bank transfer.     Taxes are included  Breakfast is included    Minimum stay of 2 nights on Friday and Saturday.', \"We offer budget accommodation located in North West London zone 2 (Willesden Green/Kilburn being local underground stations.)     Shared accommodation.     If you are looking to meet and socialise with other friendly travellers, you can choose from 6, 8 or 10 bed dorm rooms, mixed or female only!   We are not a party hostel, but we offer friendly, relaxed 'homely' accommodation. The hostel has a great atmosphere where you can socialise with other travellers to give you that feel for London life. There's no curfew, so you can discover our beautiful city on your own terms!  All bedding is provided. Large, fully equipped shared kitchen, comfortable lounge room with plasma T.V, garden area, night caretaker, daily cleaners, no curfew, FREE INTERNET (basic wifi connection and shared computers provided), coin operated washer and dryer on site.   A simple breakfast of toast, butter, jam, coffee and tea is provided free of charge for any dorm bookings     - Please note our youth hostel unfortunately has an age restriction of 18-45 years old. We offer private accommodation for guests outside of this age bracket.     PRIVATE ACCOMMODATION    Choose from single, double/twin, triple and quad rooms and studios.     studios have :   - Fresh linen  - Wardrobes  - Towels   - Wooden flooring  - Bar fridge  - Heaters  - FREE WiFi (basic connection)   - Access to coin operated washer and dryer on site     Private rooms are completely private, and you have access to our fully equipped kitchens, and communal bathrooms.   Studio apartments are fully equipped with your own private ensuite, and kitchenette, no shared facilities.     - Please note that studio apartments incur an additional £2 GBP per day, on top of the total rent owed.   - Please note that private accommodation is not serviced. We can service rooms/studios upon request at an additional charge. Please contact reception.     CHECKING IN/PAYMENT   Our lovely hostel is based in the trendy North West London Area of Willesden Green and Kilburn..we are only 5mins walk from the tube...     When you arrive at Number 30 Chatsworth Road NW2 4BS please phone the head office phone number and one of our lovely staff members will come to the hostel and check you in.    This service is only between the hours of 11am to 5:30pm Monday to Saturday. and on Sunday from 11am to 3:30pm       If you are delayed, or plan to arrive outside of these hours, please advise, and we will email details on how to do a 'self check in'    We have a minimum spend of £250 to make payment by credit/debit card.   Any payments made by card incur a 5% surcharge.  Payments by cash/bankers draft are accepted.     All Hostel bookings include:  Fresh linen, duvet, pillow, washing powder.    All Private Room bookings include:  Fresh linen, duvet, pillows, towels, washing powder, welcome pack of tea/coffee, biscuits, just to get you started.    All Studio Apartment bookings include:  Fresh linen, duvet, pillows, towels, washing powder, 1 roll of toilet paper, washing up liquid, tea towel, shampoo sachet, welcome pack of tea/coffee, biscuits, just to get you started.\", \"The Britannia Inn Hotel is situated near the ILFORD Town Centre. A brand new Boutique Hotel built to truly international standards. The Britannia Inn Hotel has 'Premier Quality' Rooms all en-suite with power showers and some with baths. Stylish setting with spacious air conditioned reception and lounge.     All rooms with high speed internet access, state of the art Media Hub rooms & multi-media facilities that are very rare in UK. The Britannia Inn Hotel is very close to major attractions, we are 20 mins away from Central London via (Tube/Rail), 10 mins away from Olympic Village.    Cancellation policy: 48 Hours.    Cancellation term to be added to all the 3rd party web-sites cancellation policy:    ***Please Note***  A valid credit card is required to secure the booking and will be preauthorised. Failure to preauthorise your card will result in the booking being cancelled and your deposit will be lost.\", \"The Hyde Park Court Hotel is a centrally located, family run hotel in a quiet and pleasant square.     All rooms have an ensuite shower and toilet, tea/coffee making facilities, satellite television, hairdryer and direct dial telephones. Our reception is open 24 hours and a continental breakfast is included in the rates.    Our location allows easy accessibility to all major parts of London whether the purpose of your stay is business or pleasure. Edgware Road tube station offers easy access to London's major tourist attractions. Hyde Park and Oxford St., the heart of London's shopping area are both only a few minutes walking distance away.    Paddington Station is only 2 minutes away. From here, the Heathrow Express takes 15 minutes to get to Heathrow Airport. The underground takes 10 to 20 minutes to get to the West End and most other attractions.     The local Paddington area offers many restaurants, pubs, clubs and cinemas.      Please note this hotel has a 48-hour cancellation policy and your card may be pre-authorised before arrival.     Please be advised that the property requires the CVV code of the card in order to guarantee the booking and customers will be contacted directly regarding this. Failure to provide it will result in the cancellation of your booking.\", 'Our lovely boutique hotel is conveniently located in Central London and is perfect for those looking for a charming and enjoyable stay in the heart of London. We do offer private rooms ranging from singles to triple and quad family rooms, as well as 24-hour reception with in-house security. The 103-room hotel is housed in a charming Victorian Townhouse building and is very close to some of the most popular London attractions like Portobello Road Market, Kensington Palace, Hyde Park, Royal Albert Hall, Notting Hill and many more.    All the rooms have been furnished with a blend of style and functionality in mind. Each of our rooms feature an en-suite bathroom, flat-screen TV, a safe, mini-fridge, free Wi-Fi, free smartphone, dual sockets, clean linen, hair dryers, free toiletries, coffee and tea facilities , air conditioning and central heating    We serve fully continental breakfast buffet (charges apply).    We look forward to welcoming you at London House and make your stay as pleasant as possible!    Check-in: 2pm    Check-out: 11:00am', \"A friendly, family run hotel offering comfortable budget accommodation and breakfast at competitive and moderate prices. The Park Hotel London is situated on Belgrave Road in the heart of central London, close to Victoria Underground, Railway and Coach Stations (3 minutes walk away). Fantastic landmarks such as the British Museum, British Library, University of London, Oxford Street, Regents Park and Madame Tussaud's all within easy reach, guests could not be in a better position to explore the city.      Park Hotel Policies and Conditions:  Cancellation policy: 48h before arrival. In case of a late cancellation or No Show, you will be charged the first night of your stay.  This property may pre-authosrise your card prior to your arrival in order to secure your booking.  24 hour reception.  Check in from 14:00 to 22:00 .  Check out from 07:00 to 10:00 .  Payment upon arrival by credit cards, debit cards.   Taxes included.  Breakfast not included.  No curfew.  Child friendly.  Non smoking.    Free WiFi.  No pets allowed.  Street Parking available.\", \"Set in London, 4.3 miles from London Zoo, Golders Park Hotel offers accommodation with free WiFi and free private parking. The property is located 4.3 miles from Camden Market, 4.3 miles from Lord's Cricket Ground and 5 miles from Alexandra Palace. The accommodation provides a 24-hour front desk, a concierge service and organising tours for guests.    At the hotel, the rooms come with a desk, a flat-screen TV and a private bathroom. All guest rooms will provide guests with a wardrobe and a kettle.    Guests at Golders Park Hotel can enjoy a continental breakfast.    Wembley Stadium is 5 miles from the accommodation, while Madame Tussauds is 5 miles from the property. The nearest airport is London Heathrow Airport, 18 miles from Golders Park Hotel.    We speak your language!    Golders Park Hotel Policies and Conditions:  -Cancellation policy: 72h before arrival. In case of a late cancellation or No Show, you will be charged the first night of your stay.  -Receptions opening hours:7:00am-1:00am  -Check in from 14:00 to 21:00 .  -Check out from 08:00 to 11:00 .  -This property may pre-authorise your card prior to arrival.  -Payment upon arrival by cash, credit cards, debit cards.   -Taxes included.  -Breakfast not included.  -No curfew.  -Non smoking.    -Free WiFi.  -Free Parking.  -24 hour security.\", 'In the Heart of Ilford, Greater London region, Wellesley Hotel is located 1.1 km from Redbridge Central Library and Museum and 5 minutes walk from the nearest Ilford train station .    This 3-star hotel offers luggage storage space. The hotel has Double, Single and Family rooms With a private bathroom. Also has one apartment, rooms at the hotel also have free WiFi. The nearest airport is London City Airport, 10 km from Wellesley Hotel. Plenty of eating spaces available on walking distance.     6.5 Miles from London Stadium and 30mins on the train.    Wellesley Hotel Policies and Conditions:  Cancellation policy: 24h before arrival. In case of a late cancellation or No Show, you will be charged the first night of your stay.  For Non refundable bookings, full amount will be charged in case of cancellation or no show.  Reception opening hours 10am-11pm.  Check in from 14:00 to 23:00 .  Check out from 10:00 to 11:00 .  Payment upon arrival by cash, credit cards, debit cards.   Taxes included.  Breakfast not included.  No curfew.  We do not accept customers younger than 18 years of age for check-in.  Child friendly.  Non smoking.    Free WiFi.  Public parking available.  No pets Allowed.  Family rooms available.', 'With friendly staff, excellent service and an ideal location, Dover Hotel is the perfect place to stay if you need a hotel near Victoria Station on your next visit to London. Please explore our site for more details, suitable for any budget, and feel free to contact us with any questions you may have.   The Dover has a 24 hour Reception, 7 days a week. Check In is from 13:00 and check out time is up until 11:00 each morning. We provide safe boxes free of charge to all guests, in addition to free Wi-Fi throughout the building.Our room price includes a full Continental breakfast which is served in our elegant dining room.    We are conveniently located near Victoria Rail, Underground and Coach Station (just 3 minutes walk), as well as the Gatwick Express for Gatwick Airport and other major transport links to provide easy access to all tourist and business areas. We’re also well located for shopping in Central London. We are within walking distance of Buckingham Palace, the Queen Elizabeth II Conference Centre, Whitehall and Parliament Square, as well as the London Eye, River Thames and Westminster Abbey.    We have 34 rooms, ranging from amazingly well-priced Single Rooms, ideal for solo travellers on a budget, all the way up to 4- and 5-bed rooms ideal for families or groups of friends visiting the capital. All our rooms are modern, comfortable, well-equipped and well-appointed. Each centrally heated room is refurbished to a high standard and most rooms feature: Private Shower & WC, Cots with our Compliments (up to 12 months), Wake up call system, Clock radio, free Wi-Fi Access for our guests – connect up to 4 devices per room, Tea/Coffee facilities, Hair dryer/Shaving Point and Colour TV/Satellite.     The Dover Policies & Conditions:    Cancellation policy: 48 hours before arrival.     Check in from 13:00 to 23:00 .  Check out before 11:00 .    Payment upon arrival by cash, credit cards, debit cards.   This property may pre-authorise your card before arrival.    Taxes included.  Breakfast included.    General:  We have 24 hours Reception.  No curfew.', \"Central London Hotel Accommodation situated in a quiet beautiful garden square in the heart of London. The accommodation has 20 rooms with tea/coffee making facilities, and central heating. Hairdryers, Adaptors and irons available on request. The reception is open 24 hrs, and the staff offer a personalized and friendly service and Free Breakfast!!!    The Hotel provides the ideal location to Oxford street - shoppers paradise or whether you want to visit some of the famous historic sights like Big Ben, Tower Bridge, Westminster Abbey and Buckingham Palace, drink a pint of England's finest ale, see a West End show or take a stroll in Hyde Park, not forgeting the hip international restaurants and the city's vibrant multi cultural population. London's fascination is its variety. Old and new stand side by side. History, pageantry and tradition mix with the modern, eccentric and avant garde, London the city thats in a world of its own offering something for everyone.    Getting here: By Tube: Our nearest underground station is Paddington, which has the Bakerloo Line, Circle Line, District Line and the Hammersmith and City Line. Once you exit from the tube station, please walk on your right until you reach London Street, then turn left into Norfolk Square we are located on the left hand side at number 30.  By Bus: 2 minutes walk from hotel. The London Buses that are nearby are the 36, 15, 23 and 27.  From Heathrow Airport: you can take the Heathrow Express, which will take you directly to Paddington Station, then follow directions as above.     Check-in Time: After 1:30 PM    Check-out Time: 11:00 AM       IMPORTANT INFORMATION:     Bed linen, towels and blankets are included in the price.  All Taxes are included in the price.  No extra charge for guests paying by credit cards.  No Lockout / No curfew  All rooms are equipped with televisions and free satellite channels.  Free Tourist Information Service.  Free Wireless internet access for guests with laptops.  You can leave your luggage with reception if you arrive early or have a late departure.       CANCELLATION POLICY:     48 hours prior to check in, cancallations not with in this time period will be charged the first nights accommadation.\", 'Airways Hotel is a 3 star budget accommodation hotel located in the heart of London, within easy access to all major London Tourist attractions Big Ben, House of Parliament, Tate Gallery, Buckingham Palace are all within a 30 min walking distance.     All the main attractions of the city are within easy reach; a short walk to the Kings Road, the Chelsea Flower Show, and the Hard Rock Caf while access to all of London is a piece of cake through Victoria Rail, Tube and Coach Station and the Gatwick Express Terminal at Victoria. The hotel has 40 en suite bedrooms; all rooms are equipped with TV, direct dial telephone, fridge and free tea- coffee making facilities. We can organize, upon request, airport drop-off service and City Tour of London tickets.     We serve Continental as well as Full English breakfast at the hotel. The Airways Hotel is just a 5 minutes walk to the River Thames with its fantastic views and river-boat restaurants, also nearby you can find the famous traditional English Pubs serving delicious pub hot meals. Airways Hotel can book upon request tickets for the local theatres: Victoria Palace Theatre and The Apollo Theatre, also within walking distance. For those who like shopping, Airways Hotel is near Victoria Street with its new Shopping Centre complex plus Army & Navy Department Stores.     The Airways Hotel also provides Left Luggage service for the same day or for those who wish to go out of London for a day or two or even up to a week. The Airways Hotel Reception is open 24hrs a day, all year around. The rooms are beautifully decorated in keeping with tradition, yet offer the warmth and comfort expected by the modern traveller.', \"An ideal place to stay, The Crystal Lodge Hotel is a good accommodation choice in London. The Crystal Lodge Hotel in London is the perfect choice for anyone travelling with a partner and looking for great value accommodation in the city. Stay here and you'll have access to an area outside and its Wi-Fi. We are a very well presented Bed & Breakfast Hotel that has been welcoming guests for the last 15 years. As a small Bed & Breakfast we offer a warm welcome to all our guests, providing all what you need to feel that you are coming from home to home. We have a very friendly Lounge room, Fully equipped kitchen to use, and well presented Garden. Free Car park , Free Wi-Fi access 24 hours, Fax and Photocopy machine is available.    Crystal Lodge Hotel is e located in Thornton Heath.Our Location makes us very easy to reach, Thornton Heath train station is only 3 minute walk up the road with easy access to Central London means you can reach Victoria Station in less than 15 minutes. Gatwick airport can easily be accessed within 30 minutes.    Crystal Lodge Hotel offers a wide range of services and facilities to make your stay more enjoyable; Tea and Coffee making facilities, Colour Television in all rooms, Continental Breakfast from 7:30am - 8:30am, We have on site car parking secured with 24 hours CCTV surveillence, Free Wi-Fi access, Croydon Town Center only 5 minutes away, Thornton Heath train station only 3 minute walk, Local Mini-Cab services, Home Office 8 minutes away, En-suite rooms available, Housekeeping from 7 am to 2 pm, All types of rooms are available ( single-double-Triple-Family), Rooms on the ground floor with wooden flooring are available for those they can not walk up stairs.    The Crystal Lodge Hotel Policies & Conditions:    Cancellation policy: 48 hours before arrival.     Check in from 13:00.  Check out before 11:00.    Payment upon arrival by cash, credit cards, debit cards.   This property may pre-authorise your card before arrival.    Taxes included.  Breakfast not included.    General:  Reception open 24 hours.  No curfew.  Child friendly.  Non smoking.\", 'Beaconsfield is a basic, budget hotel, situated in Harringey on Green Lanes (A105) within 100 yards of Haringey Green Lanes Mainline Railway Station and five minutes walk from Manor House Tube Station.    Guests at this hotel get to enjoy the benefit of being located above a traditional London pub.     This atmospheric Victorian pub is a great place to soak up a real taste of traditional English life. You can relax with a drink or enjoy a game of pool,darts or maybe watch sports on the big screen.     This comfortable hotel combines a peaceful location with a homely atmosphere, as well as easy access to Central London.     This Hotel also has a fully equipped kitchen and ample shared bathroom facilities.    **PLEASE NOTE there is NO check in after midnight**    Cancellation Policy  If cancelled up to 7 days before date of arrival, no fee will be charged.   If cancelled later or in case of no-show, the total price of the reservation will be charged.', \"To be in tune with what is expected of a hotel in the 21st century, we recently refurbished our property to make it the dream of every visitor. Each of our hotel rooms features a kitchenette and private bathroom. The rooms all feature 40-inch flat screen freeview TVs, USB sockets and free WiFi.   Our property bathrooms are equipped with a makeup mirrors and hairdryers.    Essentially, our rooms are tailor-made to suit your expectations. Our staff are committed to making sure your stay in a hotel in Orpington south London is memorable and one that you’ll enjoy.    TLK Apartments & Hotel Policies and Conditions:  -Cancellation policy: 72h before arrival. In case of a late cancellation or No Show, you will be charged the first night of your stay.  -24 hour reception.  -Check in from 15:00 to 23:00 .  -Check out before 11:00 .  -Payment upon arrival by cash, credit cards, debit cards.   -Taxes included.  -Breakfast not included.  -No curfew.  -We do not accept customers younger than years of age.  -Child friendly.  -Non smoking.    -Free WiFi.  -Free private parking.  -Pets are not allowed.  -Children's extra beds available on request(additional cost)  -Languages:English, Spanish, French and Turkish.\", 'Superbly located hotel only 5 minutes walk from Wembley Park Underground Station, Wembley Stadium, The SSE Arena, Wembley and London Designer Outlet Shopping Centre, cinema and restaurants. Free WIFI throughout the hotel. Free Parking for cars first come basis. 165 en-suite rooms, sports bar, restaurant, meeting rooms and conference and event halls for hire. Central London is only a 15 minutes tube ride away.    Added value offers with your stay   - Free London Designer Outlet Shopping Pass giving an additional 10% discount at most shops  - Free London Westfield Shopping Pass giving additional discounts of between 10%-25%   - Free London guided walking tour  - Free UK Sim Card  - 50% discount off Gym and Swimming Pool day passes located 3 mins walk from the hotel  - 20% discount off Wembley Stadium Tour, Arsenal, Chelsea and Kia Oval Cricket Ground Tour  Please ask at our Reception Desk for full details    We also have disabled rooms available on request', 'We booked 2 rooms but were told by the receptionist that we had booked just one. Despite my confirmation clearly saying 2 rooms. Luckily our party was made up of family so we didn’t mind sharing a room but this is not what we paid for, or what was advertised. Great location!', 'The W14 Hotel London is a 3 star Superior Budget Hotel located in trendy Kensington, Central London and sets a new standard for budget accommodation London.  The W14 Hotel spans four beautiful Victorian town houses with original features, mixed in with clean fresh contemporary deco. Situated in a quiet, leafy, residential hotel location conveniently away from all the excitement London can offer, yet close to the prestigious shops of High Street Kensington, the Earls Court & Kensington Olympia.      We have the following room types.   Single En-suite Rooms ( Single Bed)    Double En-Suite Rooms (1 Double Bed)    Twin En-Suite Rooms (2 Single Beds)    Triple En-Suite Rooms (1 Double Bed & 1 Single Bed)     Facilities:  We offer clean and comfortable rooms and dormitories with great facilities:    @ W14 Hotel  - 24hr reception, no curfew, no lockout  - CCTV & Alarm activated Emergency Exists  - Free Wi-Fi to use on your laptop, phone or pda.  - Free Breakfast (7:30 - 9:30) is served downstairs in the Breakfast Room (Bread/Toasts Butter,    Jam, Marmalade, Cereals, Milk, Coffee, Tea, Hot Chocolate & Juice,Cheese ,ham Bread Rolls, Croissant )  - Free Towels  - Free Bed Linen  - Secure Electronic Key Card Access   -Safety Deposit Box  - Washing / Drying / Ironing facilities   - Direct links to Heathrow Victoria (from Victoria coach station)  -Rain Dance Showers    @ W14 Bar  - Lounge Area with Large screen TV  - Bar with affordable drinks and daily entertainment   - Vending Machine with a variety of Snacks    @ Reception  - Free Travel and Local Information   - Tours and Tickets available  - Free Luggage storage before and after your stay  - Check-out time: 10.30 am (yes you can leave your bags @ Reception upon check-out)    ***PLEASE NOTE***  Guests cards will be pre authorised after booking', '--', 'Combining Victorian charm with Modern Luxury The 4* Best Western The Bolton’s Kensington is a modern oasis of peace in the conservation area of the Royal Borough of Kensington and Chelsea.   Fully Refurbished in 2012 to incorporate modern simplicity and functionality with Victorian charm Best Western The Bolton’s Hotel London Kensington with 56 fully Air conditioned en suite bedrooms, complimentary High Speed WIFI throughout, a welcoming Restaurant serving a decadent breakfast is the place for the discerning traveller looking for great value for money.     Ideally located just around the corner from Earls Court underground station, within easy reach of some of London’s most prestigious shopping areas such as High Street Kensington and Knightsbridge to the many attractions of London such as the Natural History and the Science museum just off our door step making the Best Western The Bolton’s Hotel London Kensington the ideal location for your visit to London  At the Boltons Hotel London Kensington you will find peace and tranquillity in the heart of London. Located in in the leafy conservation area of The Royal Borough of Kensington and Chelsea on a quiet street only a stones throw from the Hustle and Bustle of the big city The Bolton’s Hotel London Kensington is well located for any visit to London.   With Earls Court Station conveniently located only minutes from the front door, you have access to all of London and Heathrow via the Circle, Piccadilly, and District underground lines. If you’re going further afield there are over ground and Main line trains calling at West Brompton station 10 minutes’ walk away.   Surrounded by many excellent local restaurants and pubs that have retained their neighbourhood appeal to make this your home away from home, our hotel will give you an authentic London experience.  Whether you are in London or on a budget or wanting to splash out The Bolton’s Hotel London Kensington is your ideal choice.    All rooms include free Wifi. Our modern rooms also boast air conditioning, flat screen televisions, ipod docking stations, 24 hour room service, as well as contemporary beds and modern fittings. Here at Best Western Boltons London Kensington we know how difficult it can be travelling with the family, which can be made even harder when trying to find family friendly accommodation. That is why we are proud to say that we are a family friendly hotel, and our rooms can comfortably fit a family of three.    Best Western Boltons London Kensington Policies & Conditions:    Cancellation policy: 24 hours before arrival.     Check in from 14:00 to 23:00 .  Check out before 12:00 .    Payment upon arrival by cash, credit cards, debit cards.   This property may pre-authorise your card before arrival.    Taxes included.  Breakfast not included.    General:  Reception is open 24 hours.  No curfew.  Child friendly.  Non smoking.    There is a breakfast room, but this hotel does not serve lunch or dinner - there are plenty of places nearby to try!   Children are welcome when sharing with an adult.  In the unlikely event that you have any reason to complain or experience any problems, you must immediately inform staff in the hotel. Here at The Boltons we put your comfort first and take care of your every need throughout your stay.', 'This Hotel is the right choice for visitors who are searching for a combination of charm, peace and quiet, and a convenient position from which to explore Venice. It is a small, comfortable hotel, situated on the Canale di Cannaregio. The Templatic family and their staff offer an attentive, personalized service and are always available to offer any help to guests.    The hotel is arranged on three floors, without a lift. On the ground floor, apart from the reception, there is a comfortable lounge where you can sit and drink tea, or just read. There is also a splendid terrace, where, you can relax and immerge yourself from morning onwards in the atmosphere of Venetian daily life, watching the city travelling about by water and people gathering together and filling the alleyways and little squares with their chatter.    The rooms are arranged on the first, second and third floors. On the top floor, there is also a delightful terrace or solarium available for the use of guests, from where you can enjoy the wonderful view.    The buffet breakfast is served in the lounge on the ground floor, and also outside on our little patio during the summer months.    The hotel provides an internet point, and a Wi-Fi service is available for an additional fee.    Service and Facilities  24 hour reception service  Internet access  Free Wi-Fi  Flat-screen TV  Radio  Alarm clock  Desk  Electric kettle  Private bathroom  Free toiletries  Towels  Linen  Fan  Heating  Breakfast', 'We are located about twenty minutes by tube from London city centre.    The Cranbrook Hotel is suited close to Valentines Park, which is beautiful and well cared for, covering over 136 acres. There are amenities for tennis, mini-golf, swimming and boating. The park is well known for its old English garden, the Rosary Terrace and its lakes.    The hotel is ideally placed for all public transport a few minutes walk from Ilford Station (twenty minutes to Central London). It is, therefore, an ideal situation for visiting London to see the sights.    Eight bus routes pass the door to Barking, Dagenham, Chigwell and further afield. Park Hotel has been established for over twenty-five years and is run as a family business by the resident proprietors. Free car parking is available in the hotel grounds.    PLEASE NOTE: After booking, the hotel will contact you for your CVC code and address to gaurantee your reservation. This is normal policy, and must be provided to them, otherwise your booking may be cancelled.    We operate a 48 hour cancellation policy', \"The St Athans Hotel is a proudly simple, family-run budget green Bed & Breakfast hotel in Bloomsbury, central London - just walking distance from many famous landmarks, museums, theatres and shops. Based in historic Grade II listed Georgian Townhouses, we offer great value for money and a friendly service - providing a comfortable home from home in a convenient location.    Showers and toilets are cleaned twice daily and are usually shared by three-to-four rooms.     Our rates include VAT, but not breakfast. However, we have a coffee house in our premises, offering both English and continental breakfast, as well as a range of coffees and homemade cakes and snacks.    If you have any special needs please tell us. We have a number of rooms on the ground floor that could be suitable for those with movement disabilities, though not suitable for wheelchair use, as stairs and narrow corridors are an unavoidable feature of our 200-year-old Georgian building. There are at least three steps up from the pavement outside into our building.     The hotel has been with the same family since 1964 and is run by Lucia Geyer together with her three sons, Hans, Stefan, Karl, and daughter Maria-Lisa. We aim to offer a friendly service at great value for money, providing a clean and comfortable home from home; somewhere you can relax and feel welcome, with easy access to some of London's most famous attractions.    Check-in time is from 14:00 till 20.00 Check-out time is 11:00. Our luggage room is available free of charge if you wish to leave bags with us on your arrival or departure day.    We require 48 hours' notice in case of a cancellation; otherwise we reserve the right to charge the amount of the first night.     We pre-authorise the amount of the first night in order to confirm your reservation.    We are pet friendly!     We welcome pets as family members. We accept any type of pet, as long as they're well behaved, and don't make any noise that might upset other guests.   Please ensure your pets are well behaved at all times.   Dogs must never be left unattended in rooms, and if cats are left unattended they must be caged - sorry - this is in case we need to enter the room for some reason.   It would be good if you brought your own pets bedding.   Guests are responsible for any mess, damage or personal injuries resulting from their pet.   (e.g. scratches on carpet or furniture, soiling carpet or bed linen etc)   The Hotel reserves the rights to charge guest for the cost of any damages and extra cleaning etc.   When you book your room please let the receptionist know you'll be bringing your pet.\", 'Aron Guest House provides an excellent base, whether as a tourist looking to explore the various sights and sounds which London has to offer or for business travelers needing a comfortable retreat.     -Clean, comfortable Single and Double en-suite rooms available in a beautiful Guesthouse in South Ealing, West London.  -Two minute walk to South Ealing Tube Station  -Ideally located between Heathrow airport and Central London  -Direct 20 minute train to either Piccadilly Circus or Heathrow Terminals  -Extremely convenient for Business trips and Family holidays alike.  -Breakfast included on request  -Coming soon: Bar and restaurant catering to a wide variety of tastes.  -Free Wireless Internet  -Flat screen TV in every room  -Parking available on request  -Large Garden with patio ideal for summer barbecues    Please note:  Check-in from 13:00-19:00  Check-out by 1:00    Cancellation policy is 7 days in advance  We accept payment by cash, debit & credit card.  Our property is not suitable for children under 18.']\n"
     ]
    }
   ],
   "source": [
    "print(Property_des)"
   ]
  },
  {
   "cell_type": "code",
   "execution_count": 66,
   "metadata": {},
   "outputs": [],
   "source": [
    "df_Hostel = pd.DataFrame({})\n",
    "df_Hostel[\"Hostel Name\"] = Hostel_name[:60]\n",
    "df_Hostel[\"Distance\"] = Distance[:60]\n",
    "df_Hostel[\"Ratings\"] = Ratings[:60]\n",
    "df_Hostel[\"Total Review\"] = Total_review[:60]\n",
    "df_Hostel[\"Overall Review\"] = Review[:60]\n",
    "df_Hostel[\"Private from Price\"] = Private[:60]\n",
    "df_Hostel[\"Dorms from Price\"] = Dorms\n",
    "df_Hostel[\"Property Description\"] = Property_des[:60]\n",
    "df_Hostel[\"URL\"] = url10[:60]\n",
    "\n"
   ]
  },
  {
   "cell_type": "code",
   "execution_count": 67,
   "metadata": {},
   "outputs": [
    {
     "data": {
      "text/html": [
       "<div>\n",
       "<style scoped>\n",
       "    .dataframe tbody tr th:only-of-type {\n",
       "        vertical-align: middle;\n",
       "    }\n",
       "\n",
       "    .dataframe tbody tr th {\n",
       "        vertical-align: top;\n",
       "    }\n",
       "\n",
       "    .dataframe thead th {\n",
       "        text-align: right;\n",
       "    }\n",
       "</style>\n",
       "<table border=\"1\" class=\"dataframe\">\n",
       "  <thead>\n",
       "    <tr style=\"text-align: right;\">\n",
       "      <th></th>\n",
       "      <th>Hostel Name</th>\n",
       "      <th>Distance</th>\n",
       "      <th>Ratings</th>\n",
       "      <th>Total Review</th>\n",
       "      <th>Overall Review</th>\n",
       "      <th>Private from Price</th>\n",
       "      <th>Dorms from Price</th>\n",
       "      <th>Property Description</th>\n",
       "      <th>URL</th>\n",
       "    </tr>\n",
       "  </thead>\n",
       "  <tbody>\n",
       "    <tr>\n",
       "      <th>0</th>\n",
       "      <td>London Waterloo Hostel</td>\n",
       "      <td>Hostel - 5.5km from city centre</td>\n",
       "      <td>7.9</td>\n",
       "      <td>101 Total Reviews</td>\n",
       "      <td>Fabulous</td>\n",
       "      <td>No Privates Available</td>\n",
       "      <td>Dorms   Rs1618</td>\n",
       "      <td>Food &amp; culture lovers, assemble!  The Rose &amp; C...</td>\n",
       "      <td>https://www.hostelworld.com/pwa/hosteldetails....</td>\n",
       "    </tr>\n",
       "    <tr>\n",
       "      <th>1</th>\n",
       "      <td>St Christopher's Inn - London Bridge</td>\n",
       "      <td>Hostel - 3.2km from city centre</td>\n",
       "      <td>10</td>\n",
       "      <td>190 Total Reviews</td>\n",
       "      <td>Superb</td>\n",
       "      <td>No Privates Available</td>\n",
       "      <td>Dorms   Rs2639</td>\n",
       "      <td>At the The Finnish Church in London, we offer ...</td>\n",
       "      <td>https://www.hostelworld.com/pwa/hosteldetails....</td>\n",
       "    </tr>\n",
       "    <tr>\n",
       "      <th>2</th>\n",
       "      <td>Barmy Badger Backpackers</td>\n",
       "      <td>Hostel - 3.6km from city centre</td>\n",
       "      <td>7.4</td>\n",
       "      <td>1763 Total Reviews</td>\n",
       "      <td>Fabulous</td>\n",
       "      <td>Privates   Rs7457</td>\n",
       "      <td>Dorms   Rs2402</td>\n",
       "      <td>We are located in central London - just 5 minu...</td>\n",
       "      <td>https://www.hostelworld.com/pwa/hosteldetails....</td>\n",
       "    </tr>\n",
       "    <tr>\n",
       "      <th>3</th>\n",
       "      <td>Wombat's The City Hostel London</td>\n",
       "      <td>Hostel - 5km from city centre</td>\n",
       "      <td>6.2</td>\n",
       "      <td>394 Total Reviews</td>\n",
       "      <td>Very Good</td>\n",
       "      <td>Privates   Rs14562</td>\n",
       "      <td>Dorms   Rs1685</td>\n",
       "      <td>Where it all began - PubLove was born here in ...</td>\n",
       "      <td>https://www.hostelworld.com/pwa/hosteldetails....</td>\n",
       "    </tr>\n",
       "    <tr>\n",
       "      <th>4</th>\n",
       "      <td>Prime Backpackers Angel</td>\n",
       "      <td>Hostel - 5km from city centre</td>\n",
       "      <td>10</td>\n",
       "      <td>41 Total Reviews</td>\n",
       "      <td>Very Good</td>\n",
       "      <td>No Privates Available</td>\n",
       "      <td>Dorms   Rs3170</td>\n",
       "      <td>Mornington Camden Hostel is a high class spaci...</td>\n",
       "      <td>https://www.hostelworld.com/pwa/hosteldetails....</td>\n",
       "    </tr>\n",
       "    <tr>\n",
       "      <th>5</th>\n",
       "      <td>St Christopher's Village</td>\n",
       "      <td>Hostel - 4.9km from city centre</td>\n",
       "      <td>8.6</td>\n",
       "      <td>10855 Total Reviews</td>\n",
       "      <td>Superb</td>\n",
       "      <td>Privates   Rs5865</td>\n",
       "      <td>Dorms   Rs1254</td>\n",
       "      <td>COVID 19 Policy Update.  In response to Corona...</td>\n",
       "      <td>https://www.hostelworld.com/pwa/hosteldetails....</td>\n",
       "    </tr>\n",
       "    <tr>\n",
       "      <th>6</th>\n",
       "      <td>PubLove @ The Steam Engine, Waterloo</td>\n",
       "      <td>Hostel - 4.3km from city centre</td>\n",
       "      <td>9.4</td>\n",
       "      <td>8731 Total Reviews</td>\n",
       "      <td>Fabulous</td>\n",
       "      <td>No Privates Available</td>\n",
       "      <td>Dorms   Rs1652</td>\n",
       "      <td>With the British Museum literally on its doors...</td>\n",
       "      <td>https://www.hostelworld.com/pwa/hosteldetails....</td>\n",
       "    </tr>\n",
       "    <tr>\n",
       "      <th>7</th>\n",
       "      <td>Smart Camden Inn Hostel</td>\n",
       "      <td>Hostel - 4.1km from city centre</td>\n",
       "      <td>8.9</td>\n",
       "      <td>145 Total Reviews</td>\n",
       "      <td>Superb</td>\n",
       "      <td>No Privates Available</td>\n",
       "      <td>Dorms   Rs1685</td>\n",
       "      <td>Walk to the river, turn left, and just keep wa...</td>\n",
       "      <td>https://www.hostelworld.com/pwa/hosteldetails....</td>\n",
       "    </tr>\n",
       "    <tr>\n",
       "      <th>8</th>\n",
       "      <td>PubLove @ The Crown, Battersea</td>\n",
       "      <td>Hostel - 2.4km from city centre</td>\n",
       "      <td>8.8</td>\n",
       "      <td>13191 Total Reviews</td>\n",
       "      <td>Fabulous</td>\n",
       "      <td>Privates   Rs8894</td>\n",
       "      <td>Dorms   Rs1873</td>\n",
       "      <td>Wombat's The City Hostel London is definitely ...</td>\n",
       "      <td>https://www.hostelworld.com/pwa/hosteldetails....</td>\n",
       "    </tr>\n",
       "    <tr>\n",
       "      <th>9</th>\n",
       "      <td>Safestay London Elephant &amp; Castle</td>\n",
       "      <td>Hostel - 3.6km from city centre</td>\n",
       "      <td>8.3</td>\n",
       "      <td>1410 Total Reviews</td>\n",
       "      <td>Fabulous</td>\n",
       "      <td>No Privates Available</td>\n",
       "      <td>Dorms   Rs1633</td>\n",
       "      <td>Hootananny is a lively hostel with spacious ro...</td>\n",
       "      <td>https://www.hostelworld.com/pwa/hosteldetails....</td>\n",
       "    </tr>\n",
       "    <tr>\n",
       "      <th>10</th>\n",
       "      <td>Urbany Hostel London</td>\n",
       "      <td>Hostel - 6.3km from city centre</td>\n",
       "      <td>7.8</td>\n",
       "      <td>781 Total Reviews</td>\n",
       "      <td>Very Good</td>\n",
       "      <td>Privates   Rs7281</td>\n",
       "      <td>Dorms   Rs2275</td>\n",
       "      <td>Welcome to one of London's cheapest, friendlie...</td>\n",
       "      <td>https://www.hostelworld.com/pwa/hosteldetails....</td>\n",
       "    </tr>\n",
       "    <tr>\n",
       "      <th>11</th>\n",
       "      <td>PubLove @ The Green Man, Paddington</td>\n",
       "      <td>Hostel - 8.2km from city centre</td>\n",
       "      <td>7.0</td>\n",
       "      <td>9511 Total Reviews</td>\n",
       "      <td>Good</td>\n",
       "      <td>No Privates Available</td>\n",
       "      <td>Dorms   Rs1461</td>\n",
       "      <td>Nestled in the heart of London, walking distan...</td>\n",
       "      <td>https://www.hostelworld.com/pwa/hosteldetails....</td>\n",
       "    </tr>\n",
       "    <tr>\n",
       "      <th>12</th>\n",
       "      <td>Mornington Camden</td>\n",
       "      <td>Hostel - 1.8km from city centre</td>\n",
       "      <td>7.8</td>\n",
       "      <td>6330 Total Reviews</td>\n",
       "      <td>Fabulous</td>\n",
       "      <td>No Privates Available</td>\n",
       "      <td>Dorms   Rs1517</td>\n",
       "      <td>Located a short walk from Notting Hill, Hyde P...</td>\n",
       "      <td>https://www.hostelworld.com/pwa/hosteldetails....</td>\n",
       "    </tr>\n",
       "    <tr>\n",
       "      <th>13</th>\n",
       "      <td>St Christopher's Inn - Liverpool Street</td>\n",
       "      <td>Hostel - 5.9km from city centre</td>\n",
       "      <td>9.8</td>\n",
       "      <td>124 Total Reviews</td>\n",
       "      <td>Superb</td>\n",
       "      <td>No Privates Available</td>\n",
       "      <td>Dorms   Rs1820</td>\n",
       "      <td>Welcome to Urbany Hostel London, our first int...</td>\n",
       "      <td>https://www.hostelworld.com/pwa/hosteldetails....</td>\n",
       "    </tr>\n",
       "    <tr>\n",
       "      <th>14</th>\n",
       "      <td>PubLove @ The Rose &amp; Crown</td>\n",
       "      <td>Hostel - 7.1km from city centre</td>\n",
       "      <td>8.1</td>\n",
       "      <td>598 Total Reviews</td>\n",
       "      <td>Good</td>\n",
       "      <td>No Privates Available</td>\n",
       "      <td>Dorms   Rs1422</td>\n",
       "      <td>COVID 19 Policy Update.  In response to Corona...</td>\n",
       "      <td>https://www.hostelworld.com/pwa/hosteldetails....</td>\n",
       "    </tr>\n",
       "    <tr>\n",
       "      <th>15</th>\n",
       "      <td>New Cross Inn Hostel</td>\n",
       "      <td>Hostel - 4.7km from city centre</td>\n",
       "      <td>10</td>\n",
       "      <td>514 Total Reviews</td>\n",
       "      <td>Superb</td>\n",
       "      <td>Privates   Rs7408</td>\n",
       "      <td>Dorms   Rs2393</td>\n",
       "      <td>The hostel is housed in a historic building in...</td>\n",
       "      <td>https://www.hostelworld.com/pwa/hosteldetails....</td>\n",
       "    </tr>\n",
       "    <tr>\n",
       "      <th>16</th>\n",
       "      <td>Strand Continental</td>\n",
       "      <td>Hostel - 2.3km from city centre</td>\n",
       "      <td>7.0</td>\n",
       "      <td>3237 Total Reviews</td>\n",
       "      <td>Superb</td>\n",
       "      <td>No Privates Available</td>\n",
       "      <td>Dorms   Rs1254</td>\n",
       "      <td>COVID 19 Policy Update.  In response to Corona...</td>\n",
       "      <td>https://www.hostelworld.com/pwa/hosteldetails....</td>\n",
       "    </tr>\n",
       "    <tr>\n",
       "      <th>17</th>\n",
       "      <td>St Christopher's Oasis-Female Only</td>\n",
       "      <td>Hostel - 5.4km from city centre</td>\n",
       "      <td>8.6</td>\n",
       "      <td>4583 Total Reviews</td>\n",
       "      <td>Very Good</td>\n",
       "      <td>No Privates Available</td>\n",
       "      <td>Dorms   Rs753</td>\n",
       "      <td>UNFORTUNATELY WE DO NOT HAVE THE FACILITIES TO...</td>\n",
       "      <td>https://www.hostelworld.com/pwa/hosteldetails....</td>\n",
       "    </tr>\n",
       "    <tr>\n",
       "      <th>18</th>\n",
       "      <td>St Christopher's Camden</td>\n",
       "      <td>Hostel - 4.5km from city centre</td>\n",
       "      <td>6.9</td>\n",
       "      <td>1015 Total Reviews</td>\n",
       "      <td>Good</td>\n",
       "      <td>Privates   Rs3113</td>\n",
       "      <td>Dorms   Rs1210</td>\n",
       "      <td>Welcome to New Cross Inn Hostel!    A Friendly...</td>\n",
       "      <td>https://www.hostelworld.com/pwa/hosteldetails....</td>\n",
       "    </tr>\n",
       "    <tr>\n",
       "      <th>19</th>\n",
       "      <td>Astor Museum Inn</td>\n",
       "      <td>Hostel - 6.9km from city centre</td>\n",
       "      <td>8.1</td>\n",
       "      <td>4481 Total Reviews</td>\n",
       "      <td>Very Good</td>\n",
       "      <td>Privates   Rs6345</td>\n",
       "      <td>Dorms   Rs1461</td>\n",
       "      <td>We stayed in one of the private rooms and we l...</td>\n",
       "      <td>https://www.hostelworld.com/pwa/hosteldetails....</td>\n",
       "    </tr>\n",
       "    <tr>\n",
       "      <th>20</th>\n",
       "      <td>Astor Kensington</td>\n",
       "      <td>Hostel - 6.1km from city centre</td>\n",
       "      <td>7.6</td>\n",
       "      <td>6746 Total Reviews</td>\n",
       "      <td>Fabulous</td>\n",
       "      <td>Privates   Rs9000</td>\n",
       "      <td>Dorms   Rs2855</td>\n",
       "      <td>Generator London is a design hotel-hostel loca...</td>\n",
       "      <td>https://www.hostelworld.com/pwa/hosteldetails....</td>\n",
       "    </tr>\n",
       "    <tr>\n",
       "      <th>21</th>\n",
       "      <td>Mapesbury Hostel</td>\n",
       "      <td>Hostel - 4.2km from city centre</td>\n",
       "      <td>7.3</td>\n",
       "      <td>6245 Total Reviews</td>\n",
       "      <td>Superb</td>\n",
       "      <td>Privates   Rs7859</td>\n",
       "      <td>Dorms   Rs1259</td>\n",
       "      <td>--</td>\n",
       "      <td>https://www.hostelworld.com/pwa/hosteldetails....</td>\n",
       "    </tr>\n",
       "    <tr>\n",
       "      <th>22</th>\n",
       "      <td>Hootananny Hostel</td>\n",
       "      <td>Hostel - 4.3km from city centre</td>\n",
       "      <td>7.6</td>\n",
       "      <td>2687 Total Reviews</td>\n",
       "      <td>Superb</td>\n",
       "      <td>No Privates Available</td>\n",
       "      <td>Dorms   Rs1340</td>\n",
       "      <td>Located in the middle of Camden Town, we’re th...</td>\n",
       "      <td>https://www.hostelworld.com/pwa/hosteldetails....</td>\n",
       "    </tr>\n",
       "    <tr>\n",
       "      <th>23</th>\n",
       "      <td>Astor Hyde Park</td>\n",
       "      <td>Hostel - 2.2km from city centre</td>\n",
       "      <td>9.0</td>\n",
       "      <td>3709 Total Reviews</td>\n",
       "      <td>Very Good</td>\n",
       "      <td>Privates   Rs13753</td>\n",
       "      <td>Dorms   Rs1534</td>\n",
       "      <td>COVID 19 Policy Update.  In response to Corona...</td>\n",
       "      <td>https://www.hostelworld.com/pwa/hosteldetails....</td>\n",
       "    </tr>\n",
       "    <tr>\n",
       "      <th>24</th>\n",
       "      <td>Phoenix Hostel</td>\n",
       "      <td>Hostel - 5.5km from city centre</td>\n",
       "      <td>6.3</td>\n",
       "      <td>357 Total Reviews</td>\n",
       "      <td>Good</td>\n",
       "      <td>Privates   Rs4551</td>\n",
       "      <td>No Dorms Available</td>\n",
       "      <td>The Mapesbury Hostel offers budget accommodati...</td>\n",
       "      <td>https://www.hostelworld.com/pwa/hosteldetails....</td>\n",
       "    </tr>\n",
       "    <tr>\n",
       "      <th>25</th>\n",
       "      <td>247london Hostel and Private Rooms</td>\n",
       "      <td>Hostel - 1.6km from city centre</td>\n",
       "      <td>9.1</td>\n",
       "      <td>11341 Total Reviews</td>\n",
       "      <td>Fabulous</td>\n",
       "      <td>No Privates Available</td>\n",
       "      <td>Dorms   Rs1517</td>\n",
       "      <td>Located in the most beautiful and charming nei...</td>\n",
       "      <td>https://www.hostelworld.com/pwa/hosteldetails....</td>\n",
       "    </tr>\n",
       "    <tr>\n",
       "      <th>26</th>\n",
       "      <td>Burlington Residence</td>\n",
       "      <td>Hostel - 9.8km from city centre</td>\n",
       "      <td>7.9</td>\n",
       "      <td>3434 Total Reviews</td>\n",
       "      <td>Superb</td>\n",
       "      <td>No Privates Available</td>\n",
       "      <td>Dorms   Rs1206</td>\n",
       "      <td>*Please note we are operating on LIMITED recep...</td>\n",
       "      <td>https://www.hostelworld.com/pwa/hosteldetails....</td>\n",
       "    </tr>\n",
       "    <tr>\n",
       "      <th>27</th>\n",
       "      <td>SoHostel</td>\n",
       "      <td>Hostel - 10km from city centre</td>\n",
       "      <td>6.6</td>\n",
       "      <td>443 Total Reviews</td>\n",
       "      <td>Very Good</td>\n",
       "      <td>Privates   Rs5157</td>\n",
       "      <td>No Dorms Available</td>\n",
       "      <td>247london Hostel and Private Rooms is a home a...</td>\n",
       "      <td>https://www.hostelworld.com/pwa/hosteldetails....</td>\n",
       "    </tr>\n",
       "    <tr>\n",
       "      <th>28</th>\n",
       "      <td>Clink261</td>\n",
       "      <td>Hostel - 8.2km from city centre</td>\n",
       "      <td>10</td>\n",
       "      <td>357 Total Reviews</td>\n",
       "      <td>Good</td>\n",
       "      <td>No Privates Available</td>\n",
       "      <td>Dorms   Rs1540</td>\n",
       "      <td>COVID 19 Policy Update.  In response to Corona...</td>\n",
       "      <td>https://www.hostelworld.com/pwa/hosteldetails....</td>\n",
       "    </tr>\n",
       "    <tr>\n",
       "      <th>29</th>\n",
       "      <td>Generator London</td>\n",
       "      <td>Hostel - 1.7km from city centre</td>\n",
       "      <td>8.1</td>\n",
       "      <td>8113 Total Reviews</td>\n",
       "      <td>Superb</td>\n",
       "      <td>Privates   Rs12394</td>\n",
       "      <td>No Dorms Available</td>\n",
       "      <td>Keystone House is located in the heart of Lond...</td>\n",
       "      <td>https://www.hostelworld.com/pwa/hosteldetails....</td>\n",
       "    </tr>\n",
       "    <tr>\n",
       "      <th>30</th>\n",
       "      <td>PubLove @ The White Ferry, Victoria</td>\n",
       "      <td>Hostel - 1.3km from city centre</td>\n",
       "      <td>7.8</td>\n",
       "      <td>145 Total Reviews</td>\n",
       "      <td>Fabulous</td>\n",
       "      <td>Privates   Rs7117</td>\n",
       "      <td>Dorms   Rs2063</td>\n",
       "      <td>Walk to the river, turn left, and just keep wa...</td>\n",
       "      <td>https://www.hostelworld.com/pwa/hosteldetails....</td>\n",
       "    </tr>\n",
       "    <tr>\n",
       "      <th>31</th>\n",
       "      <td>Smart Russell Square Hostel</td>\n",
       "      <td>Hostel - 1.8km from city centre</td>\n",
       "      <td>7.0</td>\n",
       "      <td>9511 Total Reviews</td>\n",
       "      <td>Very Good</td>\n",
       "      <td>Privates   Rs3015</td>\n",
       "      <td>Dorms   Rs1381</td>\n",
       "      <td>Nestled in the heart of London, walking distan...</td>\n",
       "      <td>https://www.hostelworld.com/pwa/hosteldetails....</td>\n",
       "    </tr>\n",
       "    <tr>\n",
       "      <th>32</th>\n",
       "      <td>Keystone House Kings Cross</td>\n",
       "      <td>Hostel - 1.8km from city centre</td>\n",
       "      <td>8.1</td>\n",
       "      <td>8113 Total Reviews</td>\n",
       "      <td>Very Good</td>\n",
       "      <td>Privates   Rs3767</td>\n",
       "      <td>Dorms   Rs1092</td>\n",
       "      <td>Keystone House is located in the heart of Lond...</td>\n",
       "      <td>https://www.hostelworld.com/pwa/hosteldetails....</td>\n",
       "    </tr>\n",
       "    <tr>\n",
       "      <th>33</th>\n",
       "      <td>Smart Hyde Park View Hostel</td>\n",
       "      <td>Hostel - 4.4km from city centre</td>\n",
       "      <td>7.6</td>\n",
       "      <td>4481 Total Reviews</td>\n",
       "      <td>Fabulous</td>\n",
       "      <td>No Privates Available</td>\n",
       "      <td>Dorms   Rs1551</td>\n",
       "      <td>We stayed in one of the private rooms and we l...</td>\n",
       "      <td>https://www.hostelworld.com/pwa/hosteldetails....</td>\n",
       "    </tr>\n",
       "    <tr>\n",
       "      <th>34</th>\n",
       "      <td>Saint James Backpackers</td>\n",
       "      <td>Hostel - 8.2km from city centre</td>\n",
       "      <td>6.6</td>\n",
       "      <td>1763 Total Reviews</td>\n",
       "      <td>Very Good</td>\n",
       "      <td>No Privates Available</td>\n",
       "      <td>Dorms   Rs3775</td>\n",
       "      <td>We are located in central London - just 5 minu...</td>\n",
       "      <td>https://www.hostelworld.com/pwa/hosteldetails....</td>\n",
       "    </tr>\n",
       "    <tr>\n",
       "      <th>35</th>\n",
       "      <td>YHA London Central</td>\n",
       "      <td>Hostel - 4.3km from city centre</td>\n",
       "      <td>6.2</td>\n",
       "      <td>4699 Total Reviews</td>\n",
       "      <td>Fabulous</td>\n",
       "      <td>No Privates Available</td>\n",
       "      <td>Dorms   Rs2022</td>\n",
       "      <td>Temporary changes at YHA London Central    Thi...</td>\n",
       "      <td>https://www.hostelworld.com/pwa/hosteldetails....</td>\n",
       "    </tr>\n",
       "    <tr>\n",
       "      <th>36</th>\n",
       "      <td>The Finnish Church in London</td>\n",
       "      <td>Hostel - 8.2km from city centre</td>\n",
       "      <td>7.0</td>\n",
       "      <td>190 Total Reviews</td>\n",
       "      <td>Fabulous</td>\n",
       "      <td>Privates   Rs5964</td>\n",
       "      <td>No Dorms Available</td>\n",
       "      <td>At the The Finnish Church in London, we offer ...</td>\n",
       "      <td>https://www.hostelworld.com/pwa/hosteldetails....</td>\n",
       "    </tr>\n",
       "    <tr>\n",
       "      <th>37</th>\n",
       "      <td>Queen Elizabeth Chelsea</td>\n",
       "      <td>Hostel - 5km from city centre</td>\n",
       "      <td>7.3</td>\n",
       "      <td>3158 Total Reviews</td>\n",
       "      <td>Very Good</td>\n",
       "      <td>Privates   Rs6135</td>\n",
       "      <td>Dorms   Rs2225</td>\n",
       "      <td>PLEASE NOTE WE ONLY ACCEPT GUESTS FROM THE AGE...</td>\n",
       "      <td>https://www.hostelworld.com/pwa/hosteldetails....</td>\n",
       "    </tr>\n",
       "    <tr>\n",
       "      <th>38</th>\n",
       "      <td>Smart Hyde Park Inn Hostel</td>\n",
       "      <td>Hostel - 3km from city centre</td>\n",
       "      <td>7.6</td>\n",
       "      <td>6245 Total Reviews</td>\n",
       "      <td>Fabulous</td>\n",
       "      <td>No Privates Available</td>\n",
       "      <td>Dorms   Rs1426</td>\n",
       "      <td>--</td>\n",
       "      <td>https://www.hostelworld.com/pwa/hosteldetails....</td>\n",
       "    </tr>\n",
       "    <tr>\n",
       "      <th>39</th>\n",
       "      <td>Pickwick Hall</td>\n",
       "      <td>Hostel - 2km from city centre</td>\n",
       "      <td>8.4</td>\n",
       "      <td>2231 Total Reviews</td>\n",
       "      <td>Superb</td>\n",
       "      <td>Privates   Rs6371</td>\n",
       "      <td>Dorms   Rs1820</td>\n",
       "      <td>Pickwick Hall provides accommodation for touri...</td>\n",
       "      <td>https://www.hostelworld.com/pwa/hosteldetails....</td>\n",
       "    </tr>\n",
       "    <tr>\n",
       "      <th>40</th>\n",
       "      <td>No.8 Willesden Hostel London</td>\n",
       "      <td>Hostel - 0.7km from city centre</td>\n",
       "      <td>7.2</td>\n",
       "      <td>4583 Total Reviews</td>\n",
       "      <td>Fabulous</td>\n",
       "      <td>Privates   Rs13652</td>\n",
       "      <td>Dorms   Rs1517</td>\n",
       "      <td>UNFORTUNATELY WE DO NOT HAVE THE FACILITIES TO...</td>\n",
       "      <td>https://www.hostelworld.com/pwa/hosteldetails....</td>\n",
       "    </tr>\n",
       "    <tr>\n",
       "      <th>41</th>\n",
       "      <td>Abercorn House</td>\n",
       "      <td>Hostel - 9km from city centre</td>\n",
       "      <td>7.3</td>\n",
       "      <td>3661 Total Reviews</td>\n",
       "      <td>Very Good</td>\n",
       "      <td>Privates   Rs6984</td>\n",
       "      <td>Dorms   Rs1289</td>\n",
       "      <td>Fantastic location few minutes from Hammersmit...</td>\n",
       "      <td>https://www.hostelworld.com/pwa/hosteldetails....</td>\n",
       "    </tr>\n",
       "    <tr>\n",
       "      <th>42</th>\n",
       "      <td>Best London Hostels</td>\n",
       "      <td>Hostel - 5.7km from city centre</td>\n",
       "      <td>8.2</td>\n",
       "      <td>222 Total Reviews</td>\n",
       "      <td>Superb</td>\n",
       "      <td>Privates   Rs6674</td>\n",
       "      <td>No Dorms Available</td>\n",
       "      <td>If you are looking to meet and socialise with ...</td>\n",
       "      <td>https://www.hostelworld.com/pwa/hosteldetails....</td>\n",
       "    </tr>\n",
       "    <tr>\n",
       "      <th>43</th>\n",
       "      <td>Le Junction Hostel - Pub &amp; Garden</td>\n",
       "      <td>Hostel - 2.6km from city centre</td>\n",
       "      <td>7.0</td>\n",
       "      <td>385 Total Reviews</td>\n",
       "      <td>Fabulous</td>\n",
       "      <td>Privates   Rs3539</td>\n",
       "      <td>Dorms   Rs2528</td>\n",
       "      <td>Set over a pub and restaurant in Willesden Jun...</td>\n",
       "      <td>https://www.hostelworld.com/pwa/hosteldetails....</td>\n",
       "    </tr>\n",
       "    <tr>\n",
       "      <th>44</th>\n",
       "      <td>No.8 Seven Sisters</td>\n",
       "      <td>Hostel - 2.9km from city centre</td>\n",
       "      <td>8.2</td>\n",
       "      <td>3624 Total Reviews</td>\n",
       "      <td>Very Good</td>\n",
       "      <td>Privates   Rs3539</td>\n",
       "      <td>Dorms   Rs1618</td>\n",
       "      <td>UNFORTUNATELY WE DO NOT HAVE THE FACILITIES TO...</td>\n",
       "      <td>https://www.hostelworld.com/pwa/hosteldetails....</td>\n",
       "    </tr>\n",
       "    <tr>\n",
       "      <th>45</th>\n",
       "      <td>Safestay London Kensington Holland Park</td>\n",
       "      <td>Hostel - 3.5km from city centre</td>\n",
       "      <td>8.1</td>\n",
       "      <td>1088 Total Reviews</td>\n",
       "      <td>Rating</td>\n",
       "      <td>No Privates Available</td>\n",
       "      <td>Dorms   Rs1011</td>\n",
       "      <td>Safestay Holland Park    Safestay Holland Park...</td>\n",
       "      <td>https://www.hostelworld.com/pwa/hosteldetails....</td>\n",
       "    </tr>\n",
       "    <tr>\n",
       "      <th>46</th>\n",
       "      <td>Park Villa</td>\n",
       "      <td>Hostel - 7.3km from city centre</td>\n",
       "      <td>7.1</td>\n",
       "      <td>846 Total Reviews</td>\n",
       "      <td>Good</td>\n",
       "      <td>No Privates Available</td>\n",
       "      <td>Dorms   Rs753</td>\n",
       "      <td>Park Villa is a new boutique hostel in the hea...</td>\n",
       "      <td>https://www.hostelworld.com/pwa/hosteldetails....</td>\n",
       "    </tr>\n",
       "    <tr>\n",
       "      <th>47</th>\n",
       "      <td>Selina Camden</td>\n",
       "      <td>Hostel - 3.2km from city centre</td>\n",
       "      <td>7.6</td>\n",
       "      <td>8 Total Reviews</td>\n",
       "      <td>Very Good</td>\n",
       "      <td>Privates   Rs7281</td>\n",
       "      <td>Dorms   Rs2002</td>\n",
       "      <td>Among underground music venues, innovative mus...</td>\n",
       "      <td>https://www.hostelworld.com/pwa/hosteldetails....</td>\n",
       "    </tr>\n",
       "    <tr>\n",
       "      <th>48</th>\n",
       "      <td>The Dictionary Hostel</td>\n",
       "      <td>Hostel - 5.5km from city centre</td>\n",
       "      <td>7.4</td>\n",
       "      <td>13 Total Reviews</td>\n",
       "      <td>Fabulous</td>\n",
       "      <td>No Privates Available</td>\n",
       "      <td>Dorms   Rs1854</td>\n",
       "      <td>A friendly hostel situated in the heart of Sho...</td>\n",
       "      <td>https://www.hostelworld.com/pwa/hosteldetails....</td>\n",
       "    </tr>\n",
       "    <tr>\n",
       "      <th>49</th>\n",
       "      <td>Venture Hostel</td>\n",
       "      <td>Hostel - 4.1km from city centre</td>\n",
       "      <td>7.8</td>\n",
       "      <td>1170 Total Reviews</td>\n",
       "      <td>Superb</td>\n",
       "      <td>Privates   Rs17191</td>\n",
       "      <td>Dorms   Rs2708</td>\n",
       "      <td>Welcome to Venture Hostel.Venture Hostel is a ...</td>\n",
       "      <td>https://www.hostelworld.com/pwa/hosteldetails....</td>\n",
       "    </tr>\n",
       "    <tr>\n",
       "      <th>50</th>\n",
       "      <td>PubLove @ The Exmouth Arms, Euston</td>\n",
       "      <td>Hostel - 0.5km from city centre</td>\n",
       "      <td>8.5</td>\n",
       "      <td>982 Total Reviews</td>\n",
       "      <td>Superb</td>\n",
       "      <td>Privates   Rs18202</td>\n",
       "      <td>Dorms   Rs1719</td>\n",
       "      <td>Do Camden by day and curb side beers by night....</td>\n",
       "      <td>https://www.hostelworld.com/pwa/hosteldetails....</td>\n",
       "    </tr>\n",
       "    <tr>\n",
       "      <th>51</th>\n",
       "      <td>Kensal Green Backpackers</td>\n",
       "      <td>Hostel - 3.4km from city centre</td>\n",
       "      <td>7.7</td>\n",
       "      <td>3601 Total Reviews</td>\n",
       "      <td>Very Good</td>\n",
       "      <td>No Privates Available</td>\n",
       "      <td>Dorms   Rs1247</td>\n",
       "      <td>Kensal Green Backpackers is a legendary hostel...</td>\n",
       "      <td>https://www.hostelworld.com/pwa/hosteldetails....</td>\n",
       "    </tr>\n",
       "    <tr>\n",
       "      <th>52</th>\n",
       "      <td>London Backpackers</td>\n",
       "      <td>Hostel - 11.9km from city centre</td>\n",
       "      <td>8.5</td>\n",
       "      <td>4124 Total Reviews</td>\n",
       "      <td>Rating</td>\n",
       "      <td>Privates   Rs4950</td>\n",
       "      <td>Dorms   Rs1112</td>\n",
       "      <td>IMPORTANT NOTICE: This hostel is for 18 - 35-y...</td>\n",
       "      <td>https://www.hostelworld.com/pwa/hosteldetails....</td>\n",
       "    </tr>\n",
       "    <tr>\n",
       "      <th>53</th>\n",
       "      <td>Belgrave Hotel London</td>\n",
       "      <td>Hotel - 4.3km from city centre</td>\n",
       "      <td>8.1</td>\n",
       "      <td>2 Total Reviews</td>\n",
       "      <td>Very Good</td>\n",
       "      <td>Privates   Rs6978</td>\n",
       "      <td>No Dorms Available</td>\n",
       "      <td>This bright, clean and friendly Belgrave Hotel...</td>\n",
       "      <td>https://www.hostelworld.com/pwa/hosteldetails....</td>\n",
       "    </tr>\n",
       "    <tr>\n",
       "      <th>54</th>\n",
       "      <td>Marble Arch Inn</td>\n",
       "      <td>Hotel - 14.5km from city centre</td>\n",
       "      <td>9.7</td>\n",
       "      <td>214 Total Reviews</td>\n",
       "      <td>Very Good</td>\n",
       "      <td>Privates   Rs13045</td>\n",
       "      <td>No Dorms Available</td>\n",
       "      <td>PLEASE NOTE: The Triple room has one double be...</td>\n",
       "      <td>https://www.hostelworld.com/pwa/hosteldetails....</td>\n",
       "    </tr>\n",
       "    <tr>\n",
       "      <th>55</th>\n",
       "      <td>City Hotel Carlton</td>\n",
       "      <td>Hotel - 2.2km from city centre</td>\n",
       "      <td>9.4</td>\n",
       "      <td>39 Total Reviews</td>\n",
       "      <td>Fabulous</td>\n",
       "      <td>Privates   Rs9270</td>\n",
       "      <td>No Dorms Available</td>\n",
       "      <td>I regret booking this property. The location w...</td>\n",
       "      <td>https://www.hostelworld.com/pwa/hosteldetails....</td>\n",
       "    </tr>\n",
       "    <tr>\n",
       "      <th>56</th>\n",
       "      <td>Hyde Park Court Hotel</td>\n",
       "      <td>Hotel - 6.5km from city centre</td>\n",
       "      <td>9.4</td>\n",
       "      <td>0 Total Reviews</td>\n",
       "      <td>Superb</td>\n",
       "      <td>Privates   Rs6978</td>\n",
       "      <td>No Dorms Available</td>\n",
       "      <td>The Hyde Park Court Hotel is a centrally locat...</td>\n",
       "      <td>https://www.hostelworld.com/pwa/hosteldetails....</td>\n",
       "    </tr>\n",
       "    <tr>\n",
       "      <th>57</th>\n",
       "      <td>All Star Private Studios</td>\n",
       "      <td>Hotel - 3.5km from city centre</td>\n",
       "      <td>8.4</td>\n",
       "      <td>150 Total Reviews</td>\n",
       "      <td>Fabulous</td>\n",
       "      <td>Privates   Rs7416</td>\n",
       "      <td>No Dorms Available</td>\n",
       "      <td>We offer budget accommodation located in North...</td>\n",
       "      <td>https://www.hostelworld.com/pwa/hosteldetails....</td>\n",
       "    </tr>\n",
       "    <tr>\n",
       "      <th>58</th>\n",
       "      <td>Britannia Inn Hotel</td>\n",
       "      <td>Hotel - 4.3km from city centre</td>\n",
       "      <td>6.0</td>\n",
       "      <td>17 Total Reviews</td>\n",
       "      <td>Rating</td>\n",
       "      <td>Privates   Rs7112</td>\n",
       "      <td>No Dorms Available</td>\n",
       "      <td>The Britannia Inn Hotel is situated near the I...</td>\n",
       "      <td>https://www.hostelworld.com/pwa/hosteldetails....</td>\n",
       "    </tr>\n",
       "    <tr>\n",
       "      <th>59</th>\n",
       "      <td>Fairway Hotel</td>\n",
       "      <td>Hotel - 1.8km from city centre</td>\n",
       "      <td>9.7</td>\n",
       "      <td>0 Total Reviews</td>\n",
       "      <td>No Rating</td>\n",
       "      <td>Privates   Rs4520</td>\n",
       "      <td>No Dorms Available</td>\n",
       "      <td>Comfortable family run B&amp;B hotel , very centra...</td>\n",
       "      <td>https://www.hostelworld.com/pwa/hosteldetails....</td>\n",
       "    </tr>\n",
       "  </tbody>\n",
       "</table>\n",
       "</div>"
      ],
      "text/plain": [
       "                                Hostel Name                          Distance  \\\n",
       "0                    London Waterloo Hostel   Hostel - 5.5km from city centre   \n",
       "1      St Christopher's Inn - London Bridge   Hostel - 3.2km from city centre   \n",
       "2                  Barmy Badger Backpackers   Hostel - 3.6km from city centre   \n",
       "3           Wombat's The City Hostel London     Hostel - 5km from city centre   \n",
       "4                   Prime Backpackers Angel     Hostel - 5km from city centre   \n",
       "5                  St Christopher's Village   Hostel - 4.9km from city centre   \n",
       "6      PubLove @ The Steam Engine, Waterloo   Hostel - 4.3km from city centre   \n",
       "7                   Smart Camden Inn Hostel   Hostel - 4.1km from city centre   \n",
       "8            PubLove @ The Crown, Battersea   Hostel - 2.4km from city centre   \n",
       "9         Safestay London Elephant & Castle   Hostel - 3.6km from city centre   \n",
       "10                     Urbany Hostel London   Hostel - 6.3km from city centre   \n",
       "11      PubLove @ The Green Man, Paddington   Hostel - 8.2km from city centre   \n",
       "12                        Mornington Camden   Hostel - 1.8km from city centre   \n",
       "13  St Christopher's Inn - Liverpool Street   Hostel - 5.9km from city centre   \n",
       "14               PubLove @ The Rose & Crown   Hostel - 7.1km from city centre   \n",
       "15                     New Cross Inn Hostel   Hostel - 4.7km from city centre   \n",
       "16                       Strand Continental   Hostel - 2.3km from city centre   \n",
       "17       St Christopher's Oasis-Female Only   Hostel - 5.4km from city centre   \n",
       "18                  St Christopher's Camden   Hostel - 4.5km from city centre   \n",
       "19                         Astor Museum Inn   Hostel - 6.9km from city centre   \n",
       "20                         Astor Kensington   Hostel - 6.1km from city centre   \n",
       "21                         Mapesbury Hostel   Hostel - 4.2km from city centre   \n",
       "22                        Hootananny Hostel   Hostel - 4.3km from city centre   \n",
       "23                          Astor Hyde Park   Hostel - 2.2km from city centre   \n",
       "24                           Phoenix Hostel   Hostel - 5.5km from city centre   \n",
       "25       247london Hostel and Private Rooms   Hostel - 1.6km from city centre   \n",
       "26                     Burlington Residence   Hostel - 9.8km from city centre   \n",
       "27                                 SoHostel    Hostel - 10km from city centre   \n",
       "28                                 Clink261   Hostel - 8.2km from city centre   \n",
       "29                         Generator London   Hostel - 1.7km from city centre   \n",
       "30      PubLove @ The White Ferry, Victoria   Hostel - 1.3km from city centre   \n",
       "31              Smart Russell Square Hostel   Hostel - 1.8km from city centre   \n",
       "32               Keystone House Kings Cross   Hostel - 1.8km from city centre   \n",
       "33              Smart Hyde Park View Hostel   Hostel - 4.4km from city centre   \n",
       "34                  Saint James Backpackers   Hostel - 8.2km from city centre   \n",
       "35                       YHA London Central   Hostel - 4.3km from city centre   \n",
       "36             The Finnish Church in London   Hostel - 8.2km from city centre   \n",
       "37                  Queen Elizabeth Chelsea     Hostel - 5km from city centre   \n",
       "38               Smart Hyde Park Inn Hostel     Hostel - 3km from city centre   \n",
       "39                            Pickwick Hall     Hostel - 2km from city centre   \n",
       "40             No.8 Willesden Hostel London   Hostel - 0.7km from city centre   \n",
       "41                           Abercorn House     Hostel - 9km from city centre   \n",
       "42                      Best London Hostels   Hostel - 5.7km from city centre   \n",
       "43        Le Junction Hostel - Pub & Garden   Hostel - 2.6km from city centre   \n",
       "44                       No.8 Seven Sisters   Hostel - 2.9km from city centre   \n",
       "45  Safestay London Kensington Holland Park   Hostel - 3.5km from city centre   \n",
       "46                               Park Villa   Hostel - 7.3km from city centre   \n",
       "47                            Selina Camden   Hostel - 3.2km from city centre   \n",
       "48                    The Dictionary Hostel   Hostel - 5.5km from city centre   \n",
       "49                           Venture Hostel   Hostel - 4.1km from city centre   \n",
       "50       PubLove @ The Exmouth Arms, Euston   Hostel - 0.5km from city centre   \n",
       "51                 Kensal Green Backpackers   Hostel - 3.4km from city centre   \n",
       "52                       London Backpackers  Hostel - 11.9km from city centre   \n",
       "53                    Belgrave Hotel London    Hotel - 4.3km from city centre   \n",
       "54                          Marble Arch Inn   Hotel - 14.5km from city centre   \n",
       "55                       City Hotel Carlton    Hotel - 2.2km from city centre   \n",
       "56                    Hyde Park Court Hotel    Hotel - 6.5km from city centre   \n",
       "57                 All Star Private Studios    Hotel - 3.5km from city centre   \n",
       "58                      Britannia Inn Hotel    Hotel - 4.3km from city centre   \n",
       "59                            Fairway Hotel    Hotel - 1.8km from city centre   \n",
       "\n",
       "   Ratings         Total Review Overall Review     Private from Price  \\\n",
       "0      7.9    101 Total Reviews       Fabulous  No Privates Available   \n",
       "1       10    190 Total Reviews         Superb  No Privates Available   \n",
       "2      7.4   1763 Total Reviews       Fabulous      Privates   Rs7457   \n",
       "3      6.2    394 Total Reviews      Very Good     Privates   Rs14562   \n",
       "4       10     41 Total Reviews      Very Good  No Privates Available   \n",
       "5      8.6  10855 Total Reviews         Superb      Privates   Rs5865   \n",
       "6      9.4   8731 Total Reviews       Fabulous  No Privates Available   \n",
       "7      8.9    145 Total Reviews         Superb  No Privates Available   \n",
       "8      8.8  13191 Total Reviews       Fabulous      Privates   Rs8894   \n",
       "9      8.3   1410 Total Reviews       Fabulous  No Privates Available   \n",
       "10     7.8    781 Total Reviews      Very Good      Privates   Rs7281   \n",
       "11     7.0   9511 Total Reviews           Good  No Privates Available   \n",
       "12     7.8   6330 Total Reviews       Fabulous  No Privates Available   \n",
       "13     9.8    124 Total Reviews         Superb  No Privates Available   \n",
       "14     8.1    598 Total Reviews           Good  No Privates Available   \n",
       "15      10    514 Total Reviews         Superb      Privates   Rs7408   \n",
       "16     7.0   3237 Total Reviews         Superb  No Privates Available   \n",
       "17     8.6   4583 Total Reviews      Very Good  No Privates Available   \n",
       "18     6.9   1015 Total Reviews           Good      Privates   Rs3113   \n",
       "19     8.1   4481 Total Reviews      Very Good      Privates   Rs6345   \n",
       "20     7.6   6746 Total Reviews       Fabulous      Privates   Rs9000   \n",
       "21     7.3   6245 Total Reviews         Superb      Privates   Rs7859   \n",
       "22     7.6   2687 Total Reviews         Superb  No Privates Available   \n",
       "23     9.0   3709 Total Reviews      Very Good     Privates   Rs13753   \n",
       "24     6.3    357 Total Reviews           Good      Privates   Rs4551   \n",
       "25     9.1  11341 Total Reviews       Fabulous  No Privates Available   \n",
       "26     7.9   3434 Total Reviews         Superb  No Privates Available   \n",
       "27     6.6    443 Total Reviews      Very Good      Privates   Rs5157   \n",
       "28      10    357 Total Reviews           Good  No Privates Available   \n",
       "29     8.1   8113 Total Reviews         Superb     Privates   Rs12394   \n",
       "30     7.8    145 Total Reviews       Fabulous      Privates   Rs7117   \n",
       "31     7.0   9511 Total Reviews      Very Good      Privates   Rs3015   \n",
       "32     8.1   8113 Total Reviews      Very Good      Privates   Rs3767   \n",
       "33     7.6   4481 Total Reviews       Fabulous  No Privates Available   \n",
       "34     6.6   1763 Total Reviews      Very Good  No Privates Available   \n",
       "35     6.2   4699 Total Reviews       Fabulous  No Privates Available   \n",
       "36     7.0    190 Total Reviews       Fabulous      Privates   Rs5964   \n",
       "37     7.3   3158 Total Reviews      Very Good      Privates   Rs6135   \n",
       "38     7.6   6245 Total Reviews       Fabulous  No Privates Available   \n",
       "39     8.4   2231 Total Reviews         Superb      Privates   Rs6371   \n",
       "40     7.2   4583 Total Reviews       Fabulous     Privates   Rs13652   \n",
       "41     7.3   3661 Total Reviews      Very Good      Privates   Rs6984   \n",
       "42     8.2    222 Total Reviews         Superb      Privates   Rs6674   \n",
       "43     7.0    385 Total Reviews       Fabulous      Privates   Rs3539   \n",
       "44     8.2   3624 Total Reviews      Very Good      Privates   Rs3539   \n",
       "45     8.1   1088 Total Reviews         Rating  No Privates Available   \n",
       "46     7.1    846 Total Reviews           Good  No Privates Available   \n",
       "47     7.6      8 Total Reviews      Very Good      Privates   Rs7281   \n",
       "48     7.4     13 Total Reviews       Fabulous  No Privates Available   \n",
       "49     7.8   1170 Total Reviews         Superb     Privates   Rs17191   \n",
       "50     8.5    982 Total Reviews         Superb     Privates   Rs18202   \n",
       "51     7.7   3601 Total Reviews      Very Good  No Privates Available   \n",
       "52     8.5   4124 Total Reviews         Rating      Privates   Rs4950   \n",
       "53     8.1      2 Total Reviews      Very Good      Privates   Rs6978   \n",
       "54     9.7    214 Total Reviews      Very Good     Privates   Rs13045   \n",
       "55     9.4     39 Total Reviews       Fabulous      Privates   Rs9270   \n",
       "56     9.4      0 Total Reviews         Superb      Privates   Rs6978   \n",
       "57     8.4    150 Total Reviews       Fabulous      Privates   Rs7416   \n",
       "58     6.0     17 Total Reviews         Rating      Privates   Rs7112   \n",
       "59     9.7      0 Total Reviews      No Rating      Privates   Rs4520   \n",
       "\n",
       "      Dorms from Price                               Property Description  \\\n",
       "0       Dorms   Rs1618  Food & culture lovers, assemble!  The Rose & C...   \n",
       "1       Dorms   Rs2639  At the The Finnish Church in London, we offer ...   \n",
       "2       Dorms   Rs2402  We are located in central London - just 5 minu...   \n",
       "3       Dorms   Rs1685  Where it all began - PubLove was born here in ...   \n",
       "4       Dorms   Rs3170  Mornington Camden Hostel is a high class spaci...   \n",
       "5       Dorms   Rs1254  COVID 19 Policy Update.  In response to Corona...   \n",
       "6       Dorms   Rs1652  With the British Museum literally on its doors...   \n",
       "7       Dorms   Rs1685  Walk to the river, turn left, and just keep wa...   \n",
       "8       Dorms   Rs1873  Wombat's The City Hostel London is definitely ...   \n",
       "9       Dorms   Rs1633  Hootananny is a lively hostel with spacious ro...   \n",
       "10      Dorms   Rs2275  Welcome to one of London's cheapest, friendlie...   \n",
       "11      Dorms   Rs1461  Nestled in the heart of London, walking distan...   \n",
       "12      Dorms   Rs1517  Located a short walk from Notting Hill, Hyde P...   \n",
       "13      Dorms   Rs1820  Welcome to Urbany Hostel London, our first int...   \n",
       "14      Dorms   Rs1422  COVID 19 Policy Update.  In response to Corona...   \n",
       "15      Dorms   Rs2393  The hostel is housed in a historic building in...   \n",
       "16      Dorms   Rs1254  COVID 19 Policy Update.  In response to Corona...   \n",
       "17       Dorms   Rs753  UNFORTUNATELY WE DO NOT HAVE THE FACILITIES TO...   \n",
       "18      Dorms   Rs1210  Welcome to New Cross Inn Hostel!    A Friendly...   \n",
       "19      Dorms   Rs1461  We stayed in one of the private rooms and we l...   \n",
       "20      Dorms   Rs2855  Generator London is a design hotel-hostel loca...   \n",
       "21      Dorms   Rs1259                                                 --   \n",
       "22      Dorms   Rs1340  Located in the middle of Camden Town, we’re th...   \n",
       "23      Dorms   Rs1534  COVID 19 Policy Update.  In response to Corona...   \n",
       "24  No Dorms Available  The Mapesbury Hostel offers budget accommodati...   \n",
       "25      Dorms   Rs1517  Located in the most beautiful and charming nei...   \n",
       "26      Dorms   Rs1206  *Please note we are operating on LIMITED recep...   \n",
       "27  No Dorms Available  247london Hostel and Private Rooms is a home a...   \n",
       "28      Dorms   Rs1540  COVID 19 Policy Update.  In response to Corona...   \n",
       "29  No Dorms Available  Keystone House is located in the heart of Lond...   \n",
       "30      Dorms   Rs2063  Walk to the river, turn left, and just keep wa...   \n",
       "31      Dorms   Rs1381  Nestled in the heart of London, walking distan...   \n",
       "32      Dorms   Rs1092  Keystone House is located in the heart of Lond...   \n",
       "33      Dorms   Rs1551  We stayed in one of the private rooms and we l...   \n",
       "34      Dorms   Rs3775  We are located in central London - just 5 minu...   \n",
       "35      Dorms   Rs2022  Temporary changes at YHA London Central    Thi...   \n",
       "36  No Dorms Available  At the The Finnish Church in London, we offer ...   \n",
       "37      Dorms   Rs2225  PLEASE NOTE WE ONLY ACCEPT GUESTS FROM THE AGE...   \n",
       "38      Dorms   Rs1426                                                 --   \n",
       "39      Dorms   Rs1820  Pickwick Hall provides accommodation for touri...   \n",
       "40      Dorms   Rs1517  UNFORTUNATELY WE DO NOT HAVE THE FACILITIES TO...   \n",
       "41      Dorms   Rs1289  Fantastic location few minutes from Hammersmit...   \n",
       "42  No Dorms Available  If you are looking to meet and socialise with ...   \n",
       "43      Dorms   Rs2528  Set over a pub and restaurant in Willesden Jun...   \n",
       "44      Dorms   Rs1618  UNFORTUNATELY WE DO NOT HAVE THE FACILITIES TO...   \n",
       "45      Dorms   Rs1011  Safestay Holland Park    Safestay Holland Park...   \n",
       "46       Dorms   Rs753  Park Villa is a new boutique hostel in the hea...   \n",
       "47      Dorms   Rs2002  Among underground music venues, innovative mus...   \n",
       "48      Dorms   Rs1854  A friendly hostel situated in the heart of Sho...   \n",
       "49      Dorms   Rs2708  Welcome to Venture Hostel.Venture Hostel is a ...   \n",
       "50      Dorms   Rs1719  Do Camden by day and curb side beers by night....   \n",
       "51      Dorms   Rs1247  Kensal Green Backpackers is a legendary hostel...   \n",
       "52      Dorms   Rs1112  IMPORTANT NOTICE: This hostel is for 18 - 35-y...   \n",
       "53  No Dorms Available  This bright, clean and friendly Belgrave Hotel...   \n",
       "54  No Dorms Available  PLEASE NOTE: The Triple room has one double be...   \n",
       "55  No Dorms Available  I regret booking this property. The location w...   \n",
       "56  No Dorms Available  The Hyde Park Court Hotel is a centrally locat...   \n",
       "57  No Dorms Available  We offer budget accommodation located in North...   \n",
       "58  No Dorms Available  The Britannia Inn Hotel is situated near the I...   \n",
       "59  No Dorms Available  Comfortable family run B&B hotel , very centra...   \n",
       "\n",
       "                                                  URL  \n",
       "0   https://www.hostelworld.com/pwa/hosteldetails....  \n",
       "1   https://www.hostelworld.com/pwa/hosteldetails....  \n",
       "2   https://www.hostelworld.com/pwa/hosteldetails....  \n",
       "3   https://www.hostelworld.com/pwa/hosteldetails....  \n",
       "4   https://www.hostelworld.com/pwa/hosteldetails....  \n",
       "5   https://www.hostelworld.com/pwa/hosteldetails....  \n",
       "6   https://www.hostelworld.com/pwa/hosteldetails....  \n",
       "7   https://www.hostelworld.com/pwa/hosteldetails....  \n",
       "8   https://www.hostelworld.com/pwa/hosteldetails....  \n",
       "9   https://www.hostelworld.com/pwa/hosteldetails....  \n",
       "10  https://www.hostelworld.com/pwa/hosteldetails....  \n",
       "11  https://www.hostelworld.com/pwa/hosteldetails....  \n",
       "12  https://www.hostelworld.com/pwa/hosteldetails....  \n",
       "13  https://www.hostelworld.com/pwa/hosteldetails....  \n",
       "14  https://www.hostelworld.com/pwa/hosteldetails....  \n",
       "15  https://www.hostelworld.com/pwa/hosteldetails....  \n",
       "16  https://www.hostelworld.com/pwa/hosteldetails....  \n",
       "17  https://www.hostelworld.com/pwa/hosteldetails....  \n",
       "18  https://www.hostelworld.com/pwa/hosteldetails....  \n",
       "19  https://www.hostelworld.com/pwa/hosteldetails....  \n",
       "20  https://www.hostelworld.com/pwa/hosteldetails....  \n",
       "21  https://www.hostelworld.com/pwa/hosteldetails....  \n",
       "22  https://www.hostelworld.com/pwa/hosteldetails....  \n",
       "23  https://www.hostelworld.com/pwa/hosteldetails....  \n",
       "24  https://www.hostelworld.com/pwa/hosteldetails....  \n",
       "25  https://www.hostelworld.com/pwa/hosteldetails....  \n",
       "26  https://www.hostelworld.com/pwa/hosteldetails....  \n",
       "27  https://www.hostelworld.com/pwa/hosteldetails....  \n",
       "28  https://www.hostelworld.com/pwa/hosteldetails....  \n",
       "29  https://www.hostelworld.com/pwa/hosteldetails....  \n",
       "30  https://www.hostelworld.com/pwa/hosteldetails....  \n",
       "31  https://www.hostelworld.com/pwa/hosteldetails....  \n",
       "32  https://www.hostelworld.com/pwa/hosteldetails....  \n",
       "33  https://www.hostelworld.com/pwa/hosteldetails....  \n",
       "34  https://www.hostelworld.com/pwa/hosteldetails....  \n",
       "35  https://www.hostelworld.com/pwa/hosteldetails....  \n",
       "36  https://www.hostelworld.com/pwa/hosteldetails....  \n",
       "37  https://www.hostelworld.com/pwa/hosteldetails....  \n",
       "38  https://www.hostelworld.com/pwa/hosteldetails....  \n",
       "39  https://www.hostelworld.com/pwa/hosteldetails....  \n",
       "40  https://www.hostelworld.com/pwa/hosteldetails....  \n",
       "41  https://www.hostelworld.com/pwa/hosteldetails....  \n",
       "42  https://www.hostelworld.com/pwa/hosteldetails....  \n",
       "43  https://www.hostelworld.com/pwa/hosteldetails....  \n",
       "44  https://www.hostelworld.com/pwa/hosteldetails....  \n",
       "45  https://www.hostelworld.com/pwa/hosteldetails....  \n",
       "46  https://www.hostelworld.com/pwa/hosteldetails....  \n",
       "47  https://www.hostelworld.com/pwa/hosteldetails....  \n",
       "48  https://www.hostelworld.com/pwa/hosteldetails....  \n",
       "49  https://www.hostelworld.com/pwa/hosteldetails....  \n",
       "50  https://www.hostelworld.com/pwa/hosteldetails....  \n",
       "51  https://www.hostelworld.com/pwa/hosteldetails....  \n",
       "52  https://www.hostelworld.com/pwa/hosteldetails....  \n",
       "53  https://www.hostelworld.com/pwa/hosteldetails....  \n",
       "54  https://www.hostelworld.com/pwa/hosteldetails....  \n",
       "55  https://www.hostelworld.com/pwa/hosteldetails....  \n",
       "56  https://www.hostelworld.com/pwa/hosteldetails....  \n",
       "57  https://www.hostelworld.com/pwa/hosteldetails....  \n",
       "58  https://www.hostelworld.com/pwa/hosteldetails....  \n",
       "59  https://www.hostelworld.com/pwa/hosteldetails....  "
      ]
     },
     "execution_count": 67,
     "metadata": {},
     "output_type": "execute_result"
    }
   ],
   "source": [
    "df_Hostel"
   ]
  },
  {
   "cell_type": "code",
   "execution_count": 68,
   "metadata": {},
   "outputs": [],
   "source": [
    "driver.close()"
   ]
  },
  {
   "cell_type": "code",
   "execution_count": null,
   "metadata": {},
   "outputs": [],
   "source": []
  }
 ],
 "metadata": {
  "kernelspec": {
   "display_name": "Python 3",
   "language": "python",
   "name": "python3"
  },
  "language_info": {
   "codemirror_mode": {
    "name": "ipython",
    "version": 3
   },
   "file_extension": ".py",
   "mimetype": "text/x-python",
   "name": "python",
   "nbconvert_exporter": "python",
   "pygments_lexer": "ipython3",
   "version": "3.8.5"
  }
 },
 "nbformat": 4,
 "nbformat_minor": 4
}
