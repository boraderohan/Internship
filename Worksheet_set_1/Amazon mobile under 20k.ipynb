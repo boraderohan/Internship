{
 "cells": [
  {
   "cell_type": "code",
   "execution_count": null,
   "metadata": {},
   "outputs": [],
   "source": [
    "from bs4 import BeautifulSoup\n",
    "import requests\n",
    "import pandas as pd\n"
   ]
  },
  {
   "cell_type": "code",
   "execution_count": null,
   "metadata": {},
   "outputs": [],
   "source": [
    "url = \"https://www.amazon.in/s?k=mobile+under+20000&rh=n%3A976419031%2Cp_36%3A1318506031&dc&qid=1629719698&rnid=1318502031&ref=sr_nr_p_36_4\"\n",
    "HEADERS = ({\n",
    "    'User-Agent':'Mozilla/5.0 (Xll; Linux x86_64) AppleWebKit/537.36 (KHTML,like Gecko) Chrome/44.0.2403.157 Safari/537.36',\n",
    "    'Accepting-Language': 'en-US, en;q=0.5'\n",
    "})"
   ]
  },
  {
   "cell_type": "code",
   "execution_count": null,
   "metadata": {},
   "outputs": [],
   "source": [
    "page = requests.get(url, headers = HEADERS)\n",
    "page"
   ]
  },
  {
   "cell_type": "code",
   "execution_count": null,
   "metadata": {},
   "outputs": [],
   "source": [
    "page.content"
   ]
  },
  {
   "cell_type": "code",
   "execution_count": null,
   "metadata": {},
   "outputs": [],
   "source": [
    "soup = BeautifulSoup(page.content,'html')\n",
    "print(soup.prettify())"
   ]
  },
  {
   "cell_type": "code",
   "execution_count": null,
   "metadata": {},
   "outputs": [],
   "source": [
    "name = soup.find_all('span',class_=\"a-size-medium a-color-base a-text-normal\")\n",
    "name"
   ]
  },
  {
   "cell_type": "code",
   "execution_count": null,
   "metadata": {},
   "outputs": [],
   "source": [
    "Product_name = []\n",
    "for a in name:\n",
    "    a = a.get_text().replace(\"\\n\",\"\")\n",
    "    a = a.strip(\" \")\n",
    "    Product_name.append(a)\n",
    "Product_name"
   ]
  },
  {
   "cell_type": "code",
   "execution_count": null,
   "metadata": {},
   "outputs": [],
   "source": [
    "cost = soup.find_all(\"span\",class_=\"a-price-whole\")\n",
    "cost"
   ]
  },
  {
   "cell_type": "code",
   "execution_count": null,
   "metadata": {},
   "outputs": [],
   "source": [
    "Price = []\n",
    "for b in cost:\n",
    "    b = b.get_text().replace(\"\\n\",\"\")\n",
    "    b = b.strip(\"  \")\n",
    "    Price.append(b)\n",
    "Price\n"
   ]
  },
  {
   "cell_type": "code",
   "execution_count": null,
   "metadata": {},
   "outputs": [],
   "source": [
    "photos = soup.find_all(\"img\",class_=\"s-image\")\n",
    "photos"
   ]
  },
  {
   "cell_type": "code",
   "execution_count": null,
   "metadata": {},
   "outputs": [],
   "source": [
    "Image_links = []\n",
    "for i in photos:    \n",
    "    i['src']\n",
    "    Image_links.append(i.get('src'))\n",
    "print(Image_links)\n"
   ]
  },
  {
   "cell_type": "code",
   "execution_count": null,
   "metadata": {},
   "outputs": [],
   "source": [
    "Rating = soup.find_all(\"span\",class_=\"a-icon-alt\")\n",
    "Rating"
   ]
  },
  {
   "cell_type": "code",
   "execution_count": null,
   "metadata": {},
   "outputs": [],
   "source": [
    "Average_Ratings = []\n",
    "for  x in Rating:\n",
    "    x = x.get_text().replace(\"\\n\",\"\")\n",
    "    x = x.strip(\"  \")\n",
    "    Average_Ratings.append(x)\n",
    "Average_Ratings"
   ]
  },
  {
   "cell_type": "code",
   "execution_count": null,
   "metadata": {},
   "outputs": [],
   "source": [
    "Ratings2 = Average_Ratings[0:-3]\n",
    "Ratings2"
   ]
  },
  {
   "cell_type": "code",
   "execution_count": null,
   "metadata": {},
   "outputs": [],
   "source": [
    "Amazon_df = pd.DataFrame()\n",
    "Amazon_df[\"Product Name\"] = Product_name[:25]\n",
    "Amazon_df[\"Price\"] = Price[:25]\n",
    "Amazon_df[\"Image URL's\"] = Image_links[:25]\n",
    "Amazon_df[\"Average_Ratings\"] = Ratings2[:25]\n",
    "Amazon_df.tail(6)"
   ]
  },
  {
   "cell_type": "code",
   "execution_count": null,
   "metadata": {},
   "outputs": [],
   "source": [
    "Amazon_df.to_csv(\"Amazon mobile phones under 20k\",index = False)"
   ]
  },
  {
   "cell_type": "code",
   "execution_count": null,
   "metadata": {},
   "outputs": [],
   "source": []
  }
 ],
 "metadata": {
  "kernelspec": {
   "display_name": "Python 3",
   "language": "python",
   "name": "python3"
  },
  "language_info": {
   "codemirror_mode": {
    "name": "ipython",
    "version": 3
   },
   "file_extension": ".py",
   "mimetype": "text/x-python",
   "name": "python",
   "nbconvert_exporter": "python",
   "pygments_lexer": "ipython3",
   "version": "3.8.5"
  }
 },
 "nbformat": 4,
 "nbformat_minor": 4
}
