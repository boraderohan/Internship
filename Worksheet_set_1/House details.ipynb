{
 "cells": [
  {
   "cell_type": "code",
   "execution_count": null,
   "metadata": {},
   "outputs": [],
   "source": [
    "from bs4 import BeautifulSoup\n",
    "import requests\n",
    "import pandas as pd"
   ]
  },
  {
   "cell_type": "code",
   "execution_count": null,
   "metadata": {},
   "outputs": [],
   "source": [
    "url = \"https://www.nobroker.in/property/sale/mumbai/multiple?searchParam=W3sibGF0IjoxOS4wMjY4NzQ3LCJsb24iOjcyLjg1NTMzNTIsInBsYWNlSWQiOiJDaElKejBocjZkRE81enNSSkFNdC0ybHVnWG8iLCJwbGFjZU5hbWUiOiJNYXR1bmdhIn0seyJsYXQiOjE5LjAzMjc3NTMsImxvbiI6NzIuODU2MTA3MiwicGxhY2VJZCI6IkNoSUpIM3diOXl2UDV6c1JqUG5PajNmZUJGYyIsInBsYWNlTmFtZSI6IktpbmdzIENpcmNsZSJ9LHsibGF0IjoxOS4wMzUxNDU0LCJsb24iOjcyLjg2NjMxNzI5OTk5OTk5LCJwbGFjZUlkIjoiQ2hJSkgwLWZMYkxJNXpzUnFQTjFtdG1XUG9nIiwicGxhY2VOYW1lIjoiU2lvbiBFYXN0In1d&radius=2.0&propertyAge=0\""
   ]
  },
  {
   "cell_type": "code",
   "execution_count": null,
   "metadata": {},
   "outputs": [],
   "source": [
    "page = requests.get(url)\n",
    "page"
   ]
  },
  {
   "cell_type": "code",
   "execution_count": null,
   "metadata": {},
   "outputs": [],
   "source": [
    "page.content"
   ]
  },
  {
   "cell_type": "code",
   "execution_count": null,
   "metadata": {},
   "outputs": [],
   "source": [
    "soup = BeautifulSoup(page.content,\"html\")\n",
    "print(soup.prettify)"
   ]
  },
  {
   "cell_type": "code",
   "execution_count": null,
   "metadata": {},
   "outputs": [],
   "source": [
    "House = soup.find_all(\"h2\",class_=\"heading-6 font-semi-bold nb__1AShY\")\n",
    "House"
   ]
  },
  {
   "cell_type": "code",
   "execution_count": null,
   "metadata": {},
   "outputs": [],
   "source": [
    "House_title = []\n",
    "for i in House:\n",
    "    i = i.get_text().replace(\"\\n\",\"\")\n",
    "    i = i.strip(\" \")\n",
    "    House_title.append(i)\n",
    "House_title"
   ]
  },
  {
   "cell_type": "code",
   "execution_count": null,
   "metadata": {},
   "outputs": [],
   "source": [
    "sqr_feet = soup.find_all(\"div\",class_=\"nb__3oNyC\")\n",
    "\n",
    "sqr_feet "
   ]
  },
  {
   "cell_type": "code",
   "execution_count": null,
   "metadata": {},
   "outputs": [],
   "source": [
    "area = []\n",
    "for i in sqr_feet:\n",
    "    i = i.get_text().replace(\"\\n\",\"\")\n",
    "    i = i.strip(\" \")\n",
    "    area.append(i)\n",
    "area"
   ]
  },
  {
   "cell_type": "code",
   "execution_count": null,
   "metadata": {},
   "outputs": [],
   "source": [
    "payment = soup.find_all(\"div\",class_=[\"font-semi-bold heading-6\",\"Minimum_deposite\",\"name\"])\n",
    "payment"
   ]
  },
  {
   "cell_type": "code",
   "execution_count": null,
   "metadata": {},
   "outputs": [],
   "source": [
    "EMI= []\n",
    "for a in payment:\n",
    "    a = a.get_text().replace(\"\\n\",\"\")\n",
    "    a = a.strip(\" \")\n",
    "    EMI.append(a)\n",
    "EMI[1:30:3]"
   ]
  },
  {
   "cell_type": "code",
   "execution_count": null,
   "metadata": {},
   "outputs": [],
   "source": [
    "cost = soup.find_all(\"div\",class_=\"font-semi-bold heading-6\")\n",
    "cost"
   ]
  },
  {
   "cell_type": "code",
   "execution_count": null,
   "metadata": {},
   "outputs": [],
   "source": [
    "price = []\n",
    "for i in cost:\n",
    "    i = i.get_text().replace(\"\\n\",\"\")\n",
    "    i = i.strip(\"  \")\n",
    "    price.append(i)\n",
    "price[2:30:3]"
   ]
  },
  {
   "cell_type": "code",
   "execution_count": null,
   "metadata": {},
   "outputs": [],
   "source": [
    "var = soup.find_all(\"div\",class_=\"nb__2CMjv\")\n",
    "var\n"
   ]
  },
  {
   "cell_type": "code",
   "execution_count": null,
   "metadata": {},
   "outputs": [],
   "source": [
    "Location = []\n",
    "for s in var:\n",
    "    s = s.get_text().replace(\"\\n\",\"\")\n",
    "    s = s.strip()\n",
    "    Location.append(s)\n",
    "Location"
   ]
  },
  {
   "cell_type": "code",
   "execution_count": null,
   "metadata": {},
   "outputs": [],
   "source": [
    "House_df = pd.DataFrame()\n",
    "House_df[\"House Title\"] = House_title\n",
    "House_df[\"Location\"] = Location\n",
    "House_df[\"Area\"] = area\n",
    "House_df[\"EMI\"] = EMI[1:30:3]\n",
    "House_df[\"Price\"] = price[2:30:3]\n",
    "House_df.tail(3)"
   ]
  },
  {
   "cell_type": "code",
   "execution_count": null,
   "metadata": {},
   "outputs": [],
   "source": [
    "House_df.to_csv(\"House details\",index = False)"
   ]
  },
  {
   "cell_type": "code",
   "execution_count": null,
   "metadata": {},
   "outputs": [],
   "source": []
  }
 ],
 "metadata": {
  "kernelspec": {
   "display_name": "Python 3",
   "language": "python",
   "name": "python3"
  },
  "language_info": {
   "codemirror_mode": {
    "name": "ipython",
    "version": 3
   },
   "file_extension": ".py",
   "mimetype": "text/x-python",
   "name": "python",
   "nbconvert_exporter": "python",
   "pygments_lexer": "ipython3",
   "version": "3.8.5"
  }
 },
 "nbformat": 4,
 "nbformat_minor": 4
}
