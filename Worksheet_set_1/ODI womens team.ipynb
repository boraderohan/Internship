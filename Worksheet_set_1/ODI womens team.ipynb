{
 "cells": [
  {
   "cell_type": "code",
   "execution_count": null,
   "metadata": {},
   "outputs": [],
   "source": [
    "from bs4 import BeautifulSoup\n",
    "import requests\n",
    "import pandas as pd"
   ]
  },
  {
   "cell_type": "code",
   "execution_count": null,
   "metadata": {},
   "outputs": [],
   "source": [
    "url = \"https://www.icc-cricket.com/rankings/womens/team-rankings/odi\""
   ]
  },
  {
   "cell_type": "code",
   "execution_count": null,
   "metadata": {},
   "outputs": [],
   "source": [
    "page = requests.get(url)\n",
    "page"
   ]
  },
  {
   "cell_type": "code",
   "execution_count": null,
   "metadata": {},
   "outputs": [],
   "source": [
    "page.content"
   ]
  },
  {
   "cell_type": "code",
   "execution_count": null,
   "metadata": {},
   "outputs": [],
   "source": [
    "soup = BeautifulSoup(page.content,'html')\n",
    "print(soup.prettify())"
   ]
  },
  {
   "cell_type": "code",
   "execution_count": null,
   "metadata": {},
   "outputs": [],
   "source": [
    "t = soup.find_all(\"td\",class_=\"table-body__cell rankings-table__team\")\n",
    "team = [i.find(\"span\",class_=\"u-hide-phablet\").text for i in t]\n",
    "team"
   ]
  },
  {
   "cell_type": "code",
   "execution_count": null,
   "metadata": {},
   "outputs": [],
   "source": [
    "m = soup.find_all(\"td\",class_=\"table-body__cell u-center-text\")\n",
    "m[0:18:1]"
   ]
  },
  {
   "cell_type": "code",
   "execution_count": null,
   "metadata": {},
   "outputs": [],
   "source": [
    "Match = []\n",
    "for i in m:\n",
    "    i = i.get_text().replace(\"\\n\",\"\")\n",
    "    i = i.strip(\"  \")\n",
    "    Match.append(i)\n",
    "Match[0:18:2]"
   ]
  },
  {
   "cell_type": "code",
   "execution_count": null,
   "metadata": {},
   "outputs": [],
   "source": [
    "matches = Match[0:18:2]\n",
    "matches"
   ]
  },
  {
   "cell_type": "code",
   "execution_count": null,
   "metadata": {},
   "outputs": [],
   "source": [
    "po = soup.find_all(\"td\",class_=\"table-body__cell u-center-text\")\n",
    "po"
   ]
  },
  {
   "cell_type": "code",
   "execution_count": null,
   "metadata": {},
   "outputs": [],
   "source": [
    "pnt = []\n",
    "for a in po:\n",
    "    a = a.get_text().replace(\"\\n\",\"\")\n",
    "    a = a.strip(\" \")\n",
    "    pnt.append(a)\n",
    "pnt[1:18:2]"
   ]
  },
  {
   "cell_type": "code",
   "execution_count": null,
   "metadata": {},
   "outputs": [],
   "source": [
    "points = pnt[1:18:2]\n",
    "points"
   ]
  },
  {
   "cell_type": "code",
   "execution_count": null,
   "metadata": {},
   "outputs": [],
   "source": [
    "rate = soup.find_all(\"tr\",class_ = \"table-body\")\n",
    "Ratings1 = [i.find(\"td\",class_=\"table-body__cell u-text-right rating\").text for i in rate]\n",
    "Ratings1"
   ]
  },
  {
   "cell_type": "code",
   "execution_count": null,
   "metadata": {},
   "outputs": [],
   "source": [
    "Ratings = []\n",
    "for b in Ratings1:\n",
    "    Ratings.append(b)\n",
    "Ratings"
   ]
  },
  {
   "cell_type": "code",
   "execution_count": null,
   "metadata": {},
   "outputs": [],
   "source": [
    "Women_teams_df = pd.DataFrame()\n",
    "Women_teams_df[\"Team Name\"] = team\n",
    "Women_teams_df[\"Matches\"] = matches\n",
    "Women_teams_df[\"Points\"] = points\n",
    "Women_teams_df[\"Ratings\"] = Ratings\n",
    "Women_teams_df.sample(2)"
   ]
  },
  {
   "cell_type": "code",
   "execution_count": null,
   "metadata": {},
   "outputs": [],
   "source": [
    "Women_teams_df.to_csv(\"womens odi teams\",index = False)"
   ]
  },
  {
   "cell_type": "markdown",
   "metadata": {},
   "source": [
    "# Top ten players"
   ]
  },
  {
   "cell_type": "code",
   "execution_count": null,
   "metadata": {},
   "outputs": [],
   "source": [
    "url = \"https://www.icc-cricket.com/rankings/womens/player-rankings/odi\""
   ]
  },
  {
   "cell_type": "code",
   "execution_count": null,
   "metadata": {},
   "outputs": [],
   "source": [
    "page = requests.get(url)\n",
    "page"
   ]
  },
  {
   "cell_type": "code",
   "execution_count": null,
   "metadata": {},
   "outputs": [],
   "source": [
    "page.content"
   ]
  },
  {
   "cell_type": "code",
   "execution_count": null,
   "metadata": {},
   "outputs": [],
   "source": [
    "soup1 = BeautifulSoup(page.content,\"html\")\n",
    "print(soup1.prettify())"
   ]
  },
  {
   "cell_type": "code",
   "execution_count": null,
   "metadata": {},
   "outputs": [],
   "source": [
    "p = soup1.find_all(\"td\",class_=\"table-body__cell name\")\n",
    "name = [i.find('a').text for i in p]\n",
    "name"
   ]
  },
  {
   "cell_type": "code",
   "execution_count": null,
   "metadata": {},
   "outputs": [],
   "source": [
    "players = name[:9]\n",
    "players"
   ]
  },
  {
   "cell_type": "code",
   "execution_count": null,
   "metadata": {},
   "outputs": [],
   "source": [
    "T1 = soup1.find_all(\"span\",class_=\"table-body__logo-text\")\n",
    "T1[0:9]"
   ]
  },
  {
   "cell_type": "code",
   "execution_count": null,
   "metadata": {},
   "outputs": [],
   "source": [
    "Team1 = []\n",
    "for i in T1[0:9]:\n",
    "    i = i.get_text().replace(\"\\n\",\"\")\n",
    "    i = i.strip(\"  \")\n",
    "    Team1.append(i)\n",
    "Team1"
   ]
  },
  {
   "cell_type": "code",
   "execution_count": null,
   "metadata": {},
   "outputs": [],
   "source": [
    "rate2 = soup1.find_all(\"td\",class_=\"table-body__cell u-text-right rating\")\n",
    "rate2[:9]"
   ]
  },
  {
   "cell_type": "code",
   "execution_count": null,
   "metadata": {},
   "outputs": [],
   "source": [
    "Ratings2 = []\n",
    "for p in rate2[0:9]:\n",
    "    p = p.get_text().replace(\"\\n\",\"\")\n",
    "    p = p.strip(\"  \")\n",
    "    Ratings2.append(p)\n",
    "Ratings2"
   ]
  },
  {
   "cell_type": "code",
   "execution_count": null,
   "metadata": {},
   "outputs": [],
   "source": [
    "Women_player_df = pd.DataFrame()\n",
    "Women_player_df[\"Names\"] = players\n",
    "Women_player_df[\"Teams\"] = Team1\n",
    "Women_player_df[\"Ratings\"]= Ratings2\n",
    "Women_player_df.head(2)"
   ]
  },
  {
   "cell_type": "code",
   "execution_count": null,
   "metadata": {},
   "outputs": [],
   "source": [
    "Women_player_df.to_csv(\"TOP TEN PLAYER OF WOMEN TEAM\",index = False)"
   ]
  },
  {
   "cell_type": "markdown",
   "metadata": {},
   "source": [
    "# TOP TEN ALL ROUNDERS"
   ]
  },
  {
   "cell_type": "code",
   "execution_count": null,
   "metadata": {},
   "outputs": [],
   "source": [
    "url = \"https://www.icc-cricket.com/rankings/womens/player-rankings/odi\"\n"
   ]
  },
  {
   "cell_type": "code",
   "execution_count": null,
   "metadata": {},
   "outputs": [],
   "source": [
    "page = requests.get(url)\n",
    "page"
   ]
  },
  {
   "cell_type": "code",
   "execution_count": null,
   "metadata": {},
   "outputs": [],
   "source": [
    "page.content"
   ]
  },
  {
   "cell_type": "code",
   "execution_count": null,
   "metadata": {},
   "outputs": [],
   "source": [
    "soup2 = BeautifulSoup(page.content,'html')\n",
    "print(soup2.prettify())"
   ]
  },
  {
   "cell_type": "code",
   "execution_count": null,
   "metadata": {},
   "outputs": [],
   "source": [
    "name2 = soup2.find_all('td',class_='table-body__cell name')\n",
    "name2"
   ]
  },
  {
   "cell_type": "code",
   "execution_count": null,
   "metadata": {},
   "outputs": [],
   "source": [
    "player = []\n",
    "for i in name2[18:27]:\n",
    "    i = i.get_text().replace(\"\\n\",\"\")\n",
    "    i = i.strip(\"  \")\n",
    "    player.append(i)\n",
    "player"
   ]
  },
  {
   "cell_type": "code",
   "execution_count": null,
   "metadata": {},
   "outputs": [],
   "source": [
    "var9 = soup2.find_all(\"span\",class_=\"table-body__logo-text\")\n",
    "var9[18:27]"
   ]
  },
  {
   "cell_type": "code",
   "execution_count": null,
   "metadata": {},
   "outputs": [],
   "source": [
    "Team_rounders = []\n",
    "for i in var9[18:27]:\n",
    "    i = i.get_text().replace(\"\\n\",\"\")\n",
    "    i = i.strip(\"   \")\n",
    "    Team_rounders.append(i)\n",
    "Team_rounders\n"
   ]
  },
  {
   "cell_type": "code",
   "execution_count": null,
   "metadata": {},
   "outputs": [],
   "source": [
    "Rate5 = soup2.find_all(\"td\",class_=(\"table-body__cell u-text-right rating\"))\n",
    "Rate5[18:27]"
   ]
  },
  {
   "cell_type": "code",
   "execution_count": null,
   "metadata": {},
   "outputs": [],
   "source": [
    "Rounder_Ratings = []\n",
    "for a in Rate5[18:27]:\n",
    "    a = a.get_text().replace('\\n','')\n",
    "    a = a.strip(\" \")\n",
    "    Rounder_Ratings.append(a)\n",
    "Rounder_Ratings"
   ]
  },
  {
   "cell_type": "code",
   "execution_count": null,
   "metadata": {},
   "outputs": [],
   "source": [
    "All_Rounders_df = pd.DataFrame()\n",
    "All_Rounders_df[\"Player Name\"] = player\n",
    "All_Rounders_df[\"Team Name\"] = Team_rounders\n",
    "All_Rounders_df[\"Ratings\"] = Rounder_Ratings\n",
    "All_Rounders_df.sample(2)"
   ]
  },
  {
   "cell_type": "code",
   "execution_count": null,
   "metadata": {},
   "outputs": [],
   "source": [
    "All_Rounders_df.to_csv(\"All rounders of womens team\",index = False)"
   ]
  },
  {
   "cell_type": "code",
   "execution_count": null,
   "metadata": {},
   "outputs": [],
   "source": []
  }
 ],
 "metadata": {
  "kernelspec": {
   "display_name": "Python 3",
   "language": "python",
   "name": "python3"
  },
  "language_info": {
   "codemirror_mode": {
    "name": "ipython",
    "version": 3
   },
   "file_extension": ".py",
   "mimetype": "text/x-python",
   "name": "python",
   "nbconvert_exporter": "python",
   "pygments_lexer": "ipython3",
   "version": "3.8.5"
  }
 },
 "nbformat": 4,
 "nbformat_minor": 4
}
