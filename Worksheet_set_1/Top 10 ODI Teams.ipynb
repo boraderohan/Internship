{
 "cells": [
  {
   "cell_type": "code",
   "execution_count": null,
   "metadata": {},
   "outputs": [],
   "source": [
    "from bs4 import BeautifulSoup\n",
    "import requests\n",
    "import pandas as pd\n"
   ]
  },
  {
   "cell_type": "code",
   "execution_count": null,
   "metadata": {},
   "outputs": [],
   "source": [
    "url = \"https://www.icc-cricket.com/rankings/mens/team-rankings/odi\""
   ]
  },
  {
   "cell_type": "code",
   "execution_count": null,
   "metadata": {},
   "outputs": [],
   "source": [
    "page = requests.get(url)\n",
    "page"
   ]
  },
  {
   "cell_type": "code",
   "execution_count": null,
   "metadata": {},
   "outputs": [],
   "source": [
    "page.content"
   ]
  },
  {
   "cell_type": "code",
   "execution_count": null,
   "metadata": {},
   "outputs": [],
   "source": [
    "soup = BeautifulSoup(page.content,'html')\n",
    "print(soup.prettify())"
   ]
  },
  {
   "cell_type": "code",
   "execution_count": null,
   "metadata": {},
   "outputs": [],
   "source": [
    "scraped_teams = soup.find_all('span',class_= \"u-hide-phablet\")\n",
    "scraped_teams"
   ]
  },
  {
   "cell_type": "code",
   "execution_count": null,
   "metadata": {},
   "outputs": [],
   "source": [
    "teams = []\n",
    "for team in scraped_teams:\n",
    "    team = team.get_text().replace(\"\\n\",\"\")\n",
    "    team = team.strip(\" \")\n",
    "    teams.append(team)\n",
    "teams"
   ]
  },
  {
   "cell_type": "code",
   "execution_count": null,
   "metadata": {
    "scrolled": true
   },
   "outputs": [],
   "source": [
    "ten_teams= teams[0:10]\n",
    "ten_teams"
   ]
  },
  {
   "cell_type": "code",
   "execution_count": null,
   "metadata": {},
   "outputs": [],
   "source": [
    "match = soup.find_all(\"td\",class_=\"table-body__cell u-center-text\")\n",
    "\n",
    "match\n"
   ]
  },
  {
   "cell_type": "code",
   "execution_count": null,
   "metadata": {},
   "outputs": [],
   "source": [
    "var = []\n",
    "for i in match:\n",
    "    var.append(i.text)\n",
    "var[0:20:2]\n"
   ]
  },
  {
   "cell_type": "code",
   "execution_count": null,
   "metadata": {},
   "outputs": [],
   "source": [
    "matches = []\n",
    "matches = var[0:20:2]\n",
    "matches"
   ]
  },
  {
   "cell_type": "code",
   "execution_count": null,
   "metadata": {},
   "outputs": [],
   "source": [
    "points = soup.find_all('td',class_=\"table-body__cell u-center-text\")\n",
    "points"
   ]
  },
  {
   "cell_type": "code",
   "execution_count": null,
   "metadata": {},
   "outputs": [],
   "source": [
    "var1 = []\n",
    "for i in points:\n",
    "    i = i.get_text().replace(\"\\n\",\"\")\n",
    "    i = i.strip(\" \")\n",
    "    var1.append(i)\n",
    "var1[1:21:2]\n"
   ]
  },
  {
   "cell_type": "code",
   "execution_count": null,
   "metadata": {},
   "outputs": [],
   "source": [
    "points = []\n",
    "points = var1[1:20:2]\n",
    "points"
   ]
  },
  {
   "cell_type": "code",
   "execution_count": null,
   "metadata": {},
   "outputs": [],
   "source": [
    "rate1 = soup.find_all(\"td\",class_=\"table-body__cell u-text-right rating\")\n",
    "rate1"
   ]
  },
  {
   "cell_type": "code",
   "execution_count": null,
   "metadata": {},
   "outputs": [],
   "source": [
    "var3 = []\n",
    "for i in rate1:\n",
    "    i = i.get_text().replace(\"\\n\",\"\")\n",
    "    i = i.strip(\"  \")\n",
    "    var3.append(i)\n",
    "var3[0:10]"
   ]
  },
  {
   "cell_type": "code",
   "execution_count": null,
   "metadata": {},
   "outputs": [],
   "source": [
    "Ratings = var3[:10]\n",
    "Ratings"
   ]
  },
  {
   "cell_type": "code",
   "execution_count": null,
   "metadata": {},
   "outputs": [],
   "source": [
    "Mens_cricket_df= pd.DataFrame()\n",
    "Mens_cricket_df[\"Team Names\"] = ten_teams\n",
    "Mens_cricket_df[\"Matches\"] = matches\n",
    "Mens_cricket_df[\"Points\"] = points\n",
    "Mens_cricket_df[\"Ratings\"] = Ratings\n",
    "Mens_cricket_df.head(5)"
   ]
  },
  {
   "cell_type": "code",
   "execution_count": null,
   "metadata": {},
   "outputs": [],
   "source": [
    "Mens_cricket_df.to_csv(\"Top ten mens cricket teams\",index = False)"
   ]
  },
  {
   "cell_type": "markdown",
   "metadata": {},
   "source": [
    "# Top ten batsmans "
   ]
  },
  {
   "cell_type": "code",
   "execution_count": null,
   "metadata": {},
   "outputs": [],
   "source": [
    "url = \"https://www.icc-cricket.com/rankings/mens/player-rankings/odi\""
   ]
  },
  {
   "cell_type": "code",
   "execution_count": null,
   "metadata": {},
   "outputs": [],
   "source": [
    "page = requests.get(url)\n",
    "page"
   ]
  },
  {
   "cell_type": "code",
   "execution_count": null,
   "metadata": {},
   "outputs": [],
   "source": [
    "page.content"
   ]
  },
  {
   "cell_type": "code",
   "execution_count": null,
   "metadata": {},
   "outputs": [],
   "source": [
    "soup2 = BeautifulSoup(page.content,'html')\n",
    "print(soup2.prettify)"
   ]
  },
  {
   "cell_type": "code",
   "execution_count": null,
   "metadata": {},
   "outputs": [],
   "source": [
    "player = soup2.find_all('td',class_='table-body__cell name')\n",
    "p = [i.find('a').text for i in player]\n",
    "p[:9]"
   ]
  },
  {
   "cell_type": "code",
   "execution_count": null,
   "metadata": {},
   "outputs": [],
   "source": [
    "player_name= []\n",
    "player_name = p[:9]\n",
    "player_name"
   ]
  },
  {
   "cell_type": "code",
   "execution_count": null,
   "metadata": {},
   "outputs": [],
   "source": [
    "rank = soup2.find_all('td',class_=\"table-body__cell table-body__cell--position u-text-right\")\n",
    "rank[0:9]"
   ]
  },
  {
   "cell_type": "code",
   "execution_count": null,
   "metadata": {},
   "outputs": [],
   "source": [
    "var4 = []\n",
    "for i in rank:\n",
    "    i = i.get_text().replace('\\n','')\n",
    "    i = i.strip(\" \")\n",
    "    var4.append(i)\n",
    "var4[:9]"
   ]
  },
  {
   "cell_type": "code",
   "execution_count": null,
   "metadata": {},
   "outputs": [],
   "source": [
    "position = var4[:9]\n",
    "position"
   ]
  },
  {
   "cell_type": "code",
   "execution_count": null,
   "metadata": {},
   "outputs": [],
   "source": [
    "rate = soup2.find_all(\"td\",class_=\"table-body__cell u-text-right rating\")\n",
    "rate[0:9]"
   ]
  },
  {
   "cell_type": "code",
   "execution_count": null,
   "metadata": {},
   "outputs": [],
   "source": [
    "var5 = []\n",
    "for i in rate:\n",
    "    i = i.get_text().replace(\"\\n\",\"\")\n",
    "    i = i.strip(\" \")\n",
    "    var5.append(i)\n",
    "var5[0:9]"
   ]
  },
  {
   "cell_type": "code",
   "execution_count": null,
   "metadata": {},
   "outputs": [],
   "source": [
    "Ratings2 = var5[:9]\n",
    "Ratings2"
   ]
  },
  {
   "cell_type": "code",
   "execution_count": null,
   "metadata": {},
   "outputs": [],
   "source": [
    "team = soup2.find_all('span',class_=\"table-body__logo-text\")\n",
    "team[0:9]"
   ]
  },
  {
   "cell_type": "code",
   "execution_count": null,
   "metadata": {},
   "outputs": [],
   "source": [
    "var6= []\n",
    "for a in team:\n",
    "    a = a.get_text().replace(\"\\n\",\"\")\n",
    "    a = a.strip(\" \")\n",
    "    var6.append(a)\n",
    "var6[0:9]\n",
    "    "
   ]
  },
  {
   "cell_type": "code",
   "execution_count": null,
   "metadata": {},
   "outputs": [],
   "source": [
    "Teams = var6[:9]\n",
    "Teams"
   ]
  },
  {
   "cell_type": "code",
   "execution_count": null,
   "metadata": {},
   "outputs": [],
   "source": [
    "Mens_bowlers_df = pd.DataFrame()\n",
    "Mens_bowlers_df[\"Team Name\"] = Teams\n",
    "Mens_bowlers_df[\"Players \"] = player_name\n",
    "Mens_bowlers_df[\"Rakings\"] = position\n",
    "Mens_bowlers_df[\"Ratings\"] = Ratings2\n",
    "Mens_bowlers_df.head(5)"
   ]
  },
  {
   "cell_type": "code",
   "execution_count": null,
   "metadata": {},
   "outputs": [],
   "source": [
    "Mens_bowlers_df.to_csv(\"Top ten batsmens\",index = False)"
   ]
  },
  {
   "cell_type": "code",
   "execution_count": null,
   "metadata": {},
   "outputs": [],
   "source": []
  },
  {
   "cell_type": "code",
   "execution_count": null,
   "metadata": {},
   "outputs": [],
   "source": []
  },
  {
   "cell_type": "markdown",
   "metadata": {},
   "source": [
    "# Top ten bowlers\n"
   ]
  },
  {
   "cell_type": "code",
   "execution_count": null,
   "metadata": {},
   "outputs": [],
   "source": [
    "url =\"https://www.icc-cricket.com/rankings/mens/player-rankings/odi\""
   ]
  },
  {
   "cell_type": "code",
   "execution_count": null,
   "metadata": {},
   "outputs": [],
   "source": [
    "page = requests.get(url)\n",
    "page"
   ]
  },
  {
   "cell_type": "code",
   "execution_count": null,
   "metadata": {},
   "outputs": [],
   "source": [
    "page.content"
   ]
  },
  {
   "cell_type": "code",
   "execution_count": null,
   "metadata": {},
   "outputs": [],
   "source": [
    "soup3 = BeautifulSoup(page.content,'html')\n",
    "print(soup3.prettify)"
   ]
  },
  {
   "cell_type": "code",
   "execution_count": null,
   "metadata": {},
   "outputs": [],
   "source": [
    "bowler = soup3.find_all(\"td\",class_=\"table-body__cell name\")\n",
    "bow_name = [i.find('a').text for i in bowler]\n",
    "bow_name[9:18]"
   ]
  },
  {
   "cell_type": "code",
   "execution_count": null,
   "metadata": {},
   "outputs": [],
   "source": [
    "bowler_name = bow_name[9:18]\n",
    "bowler_name"
   ]
  },
  {
   "cell_type": "code",
   "execution_count": null,
   "metadata": {},
   "outputs": [],
   "source": [
    "rate5 = soup3.find_all(\"td\",class_=\"table-body__cell u-text-right rating\")\n",
    "rate5[9:18]"
   ]
  },
  {
   "cell_type": "code",
   "execution_count": null,
   "metadata": {},
   "outputs": [],
   "source": [
    "rate9 = []\n",
    "for b in rate5:\n",
    "    b = b.get_text().replace(\"\\n\",\"\")\n",
    "    b = b.strip(\" \")\n",
    "    rate9.append(b)\n",
    "rate9[9:18]\n"
   ]
  },
  {
   "cell_type": "code",
   "execution_count": null,
   "metadata": {},
   "outputs": [],
   "source": [
    "Ratings3 = rate9[9:18]\n",
    "Ratings3"
   ]
  },
  {
   "cell_type": "code",
   "execution_count": null,
   "metadata": {},
   "outputs": [],
   "source": [
    "Ratings3"
   ]
  },
  {
   "cell_type": "code",
   "execution_count": null,
   "metadata": {},
   "outputs": [],
   "source": [
    "team3 = soup3.find_all(\"span\",class_=\"table-body__logo-text\")\n",
    "team3[9:18]"
   ]
  },
  {
   "cell_type": "code",
   "execution_count": null,
   "metadata": {},
   "outputs": [],
   "source": [
    "teamName = []\n",
    "for q in team3:\n",
    "    q = q.get_text().replace(\"\\n\",\"\")\n",
    "    q = q.strip(\"  \")\n",
    "    teamName.append(q)\n",
    "teamName[9:18]"
   ]
  },
  {
   "cell_type": "code",
   "execution_count": null,
   "metadata": {},
   "outputs": [],
   "source": [
    "bowlers_team = teamName[9:18]\n",
    "bowlers_team"
   ]
  },
  {
   "cell_type": "code",
   "execution_count": null,
   "metadata": {},
   "outputs": [],
   "source": [
    "Mens_bowler_df = pd.DataFrame()\n",
    "Mens_bowler_df[\"Teams\"] = bowlers_team\n",
    "Mens_bowler_df[\"Players\"] = bowler_name\n",
    "Mens_bowler_df[\"Ratings\"] = Ratings3\n",
    "Mens_bowler_df.head(5)\n"
   ]
  },
  {
   "cell_type": "code",
   "execution_count": null,
   "metadata": {},
   "outputs": [],
   "source": [
    "Mens_bowler_df.to_csv(\"Top ten bowlers\",index = False)"
   ]
  },
  {
   "cell_type": "code",
   "execution_count": null,
   "metadata": {},
   "outputs": [],
   "source": []
  }
 ],
 "metadata": {
  "kernelspec": {
   "display_name": "Python 3",
   "language": "python",
   "name": "python3"
  },
  "language_info": {
   "codemirror_mode": {
    "name": "ipython",
    "version": 3
   },
   "file_extension": ".py",
   "mimetype": "text/x-python",
   "name": "python",
   "nbconvert_exporter": "python",
   "pygments_lexer": "ipython3",
   "version": "3.8.5"
  }
 },
 "nbformat": 4,
 "nbformat_minor": 4
}
