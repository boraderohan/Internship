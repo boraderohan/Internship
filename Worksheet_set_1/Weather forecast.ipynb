{
 "cells": [
  {
   "cell_type": "code",
   "execution_count": null,
   "metadata": {},
   "outputs": [],
   "source": [
    "from bs4 import BeautifulSoup\n",
    "import requests\n",
    "import pandas as pd"
   ]
  },
  {
   "cell_type": "code",
   "execution_count": null,
   "metadata": {},
   "outputs": [],
   "source": [
    "url  = \"https://forecast.weather.gov/MapClick.php?lat=37.77493000000004&lon=-122.41941999999995#.YSO5xo4zbIU\""
   ]
  },
  {
   "cell_type": "code",
   "execution_count": null,
   "metadata": {},
   "outputs": [],
   "source": [
    "page = requests.get(url)\n",
    "page"
   ]
  },
  {
   "cell_type": "code",
   "execution_count": null,
   "metadata": {},
   "outputs": [],
   "source": [
    "page.content"
   ]
  },
  {
   "cell_type": "code",
   "execution_count": null,
   "metadata": {},
   "outputs": [],
   "source": [
    "soup = BeautifulSoup(page.content,'html')\n",
    "print(soup.prettify())"
   ]
  },
  {
   "cell_type": "code",
   "execution_count": null,
   "metadata": {},
   "outputs": [],
   "source": [
    "intervals = soup.find_all(\"p\",class_=\"period-name\")\n",
    "intervals"
   ]
  },
  {
   "cell_type": "code",
   "execution_count": null,
   "metadata": {},
   "outputs": [],
   "source": [
    "period = []\n",
    "for i in intervals:\n",
    "    i = i.get_text().replace(\"\\n\",\"\")\n",
    "    i = i.strip(\"  \")\n",
    "    period.append(i)\n",
    "period"
   ]
  },
  {
   "cell_type": "code",
   "execution_count": null,
   "metadata": {},
   "outputs": [],
   "source": [
    "var1 = soup.find_all(\"p\",class_=\"short-desc\")\n",
    "var1"
   ]
  },
  {
   "cell_type": "code",
   "execution_count": null,
   "metadata": {},
   "outputs": [],
   "source": [
    "short_description = []\n",
    "for a in var1:\n",
    "    a = a.get_text().replace(\"\\n\",\"\")\n",
    "    a = a.strip(\" \")\n",
    "    short_description.append(a)\n",
    "short_description"
   ]
  },
  {
   "cell_type": "code",
   "execution_count": null,
   "metadata": {},
   "outputs": [],
   "source": [
    "var2 = soup.find_all(\"p\",class_=[\"temp temp-high\",\"temp temp-low\"])\n",
    "var2"
   ]
  },
  {
   "cell_type": "code",
   "execution_count": null,
   "metadata": {},
   "outputs": [],
   "source": [
    "Temperature = []\n",
    "for b in var2:\n",
    "    b = b.get_text().replace(\"\\n\",\"\")\n",
    "    b = b.strip(\"  \")\n",
    "    Temperature.append(b)\n",
    "Temperature"
   ]
  },
  {
   "cell_type": "code",
   "execution_count": null,
   "metadata": {},
   "outputs": [],
   "source": [
    "var3 = soup.find_all(\"div\",class_=\"col-sm-10 forecast-text\")\n",
    "var3"
   ]
  },
  {
   "cell_type": "code",
   "execution_count": null,
   "metadata": {},
   "outputs": [],
   "source": [
    "Description = []\n",
    "for c in var3:\n",
    "    c = c.get_text().replace(\"\\n\",\"\")\n",
    "    c = c.strip(\"  \")\n",
    "    Description.append(c)\n",
    "Description"
   ]
  },
  {
   "cell_type": "code",
   "execution_count": null,
   "metadata": {},
   "outputs": [],
   "source": [
    "Forecast_df = pd.DataFrame()\n",
    "Forecast_df[\"Period\"] = period\n",
    "Forecast_df[\"Short Description\"] = short_description\n",
    "Forecast_df[\"Temperature\"] = Temperature\n",
    "Forecast_df[\"Description\"] = Description[0:9]\n",
    "Forecast_df.sample(2)"
   ]
  },
  {
   "cell_type": "code",
   "execution_count": null,
   "metadata": {},
   "outputs": [],
   "source": [
    "Forecast_df.to_csv(\"Weather forecast of san fransisco\",index = False) "
   ]
  },
  {
   "cell_type": "code",
   "execution_count": null,
   "metadata": {},
   "outputs": [],
   "source": []
  }
 ],
 "metadata": {
  "kernelspec": {
   "display_name": "Python 3",
   "language": "python",
   "name": "python3"
  },
  "language_info": {
   "codemirror_mode": {
    "name": "ipython",
    "version": 3
   },
   "file_extension": ".py",
   "mimetype": "text/x-python",
   "name": "python",
   "nbconvert_exporter": "python",
   "pygments_lexer": "ipython3",
   "version": "3.8.5"
  }
 },
 "nbformat": 4,
 "nbformat_minor": 4
}
