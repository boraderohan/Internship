{
 "cells": [
  {
   "cell_type": "code",
   "execution_count": 4,
   "metadata": {},
   "outputs": [],
   "source": [
    "#!pip install selenium"
   ]
  },
  {
   "cell_type": "markdown",
   "metadata": {},
   "source": [
    "# Q.1 A program to scrape data for \"Data Analyst\" "
   ]
  },
  {
   "cell_type": "code",
   "execution_count": 2,
   "metadata": {},
   "outputs": [],
   "source": [
    "import selenium\n",
    "import pandas as pd \n",
    "from selenium import webdriver\n",
    "import time \n",
    "from selenium.common.exceptions import NoSuchElementException"
   ]
  },
  {
   "cell_type": "code",
   "execution_count": 52,
   "metadata": {},
   "outputs": [],
   "source": [
    "driver = webdriver.Chrome(r'C:\\Users\\rohan\\Downloads\\programs\\chromedriver_win32 (2)\\chromedriver.exe')"
   ]
  },
  {
   "cell_type": "code",
   "execution_count": 53,
   "metadata": {},
   "outputs": [],
   "source": [
    "url = \"https://www.naukri.com/\"\n",
    "driver.get(url)"
   ]
  },
  {
   "cell_type": "code",
   "execution_count": 54,
   "metadata": {},
   "outputs": [
    {
     "data": {
      "text/plain": [
       "<selenium.webdriver.remote.webelement.WebElement (session=\"cb77a2d0dc619a2f13ad588a7994588e\", element=\"2dd54d92-054e-439a-82dc-dedd8a4f2ed6\")>"
      ]
     },
     "execution_count": 54,
     "metadata": {},
     "output_type": "execute_result"
    }
   ],
   "source": [
    "search1 = driver.find_element_by_id('qsb-keyword-sugg')\n",
    "search1"
   ]
  },
  {
   "cell_type": "code",
   "execution_count": 55,
   "metadata": {},
   "outputs": [],
   "source": [
    "search1.send_keys('Data Analyst')"
   ]
  },
  {
   "cell_type": "code",
   "execution_count": 56,
   "metadata": {},
   "outputs": [
    {
     "data": {
      "text/plain": [
       "<selenium.webdriver.remote.webelement.WebElement (session=\"cb77a2d0dc619a2f13ad588a7994588e\", element=\"a41fb343-3091-45e2-b159-39b434cc0506\")>"
      ]
     },
     "execution_count": 56,
     "metadata": {},
     "output_type": "execute_result"
    }
   ],
   "source": [
    "loc1 = driver.find_element_by_id('qsb-location-sugg')\n",
    "loc1"
   ]
  },
  {
   "cell_type": "code",
   "execution_count": 57,
   "metadata": {},
   "outputs": [],
   "source": [
    "loc1.send_keys('Banglore')"
   ]
  },
  {
   "cell_type": "code",
   "execution_count": 58,
   "metadata": {},
   "outputs": [],
   "source": [
    "button = driver.find_element_by_xpath(\"//div[@class='search-btn']\")"
   ]
  },
  {
   "cell_type": "code",
   "execution_count": 59,
   "metadata": {},
   "outputs": [],
   "source": [
    "button.click()"
   ]
  },
  {
   "cell_type": "code",
   "execution_count": 60,
   "metadata": {},
   "outputs": [
    {
     "data": {
      "text/plain": [
       "[<selenium.webdriver.remote.webelement.WebElement (session=\"cb77a2d0dc619a2f13ad588a7994588e\", element=\"114c6036-5109-4f4f-a68f-64c29815eaaa\")>,\n",
       " <selenium.webdriver.remote.webelement.WebElement (session=\"cb77a2d0dc619a2f13ad588a7994588e\", element=\"13f571eb-5fd9-4322-895e-685e387b4a80\")>,\n",
       " <selenium.webdriver.remote.webelement.WebElement (session=\"cb77a2d0dc619a2f13ad588a7994588e\", element=\"2b299131-9d64-4e1e-a3de-8ff1e63e6686\")>,\n",
       " <selenium.webdriver.remote.webelement.WebElement (session=\"cb77a2d0dc619a2f13ad588a7994588e\", element=\"af998552-6874-4a3d-8f0f-3d76cf5729e1\")>,\n",
       " <selenium.webdriver.remote.webelement.WebElement (session=\"cb77a2d0dc619a2f13ad588a7994588e\", element=\"6e80650d-6e4a-44c0-81ce-96fd9af6f476\")>,\n",
       " <selenium.webdriver.remote.webelement.WebElement (session=\"cb77a2d0dc619a2f13ad588a7994588e\", element=\"dd52e035-1ed2-48e9-a238-207aef5a67cb\")>,\n",
       " <selenium.webdriver.remote.webelement.WebElement (session=\"cb77a2d0dc619a2f13ad588a7994588e\", element=\"c2bd60eb-ae02-49fd-81ef-7cba418ffb05\")>,\n",
       " <selenium.webdriver.remote.webelement.WebElement (session=\"cb77a2d0dc619a2f13ad588a7994588e\", element=\"326972e9-7609-49c7-974b-80e898dcacb5\")>,\n",
       " <selenium.webdriver.remote.webelement.WebElement (session=\"cb77a2d0dc619a2f13ad588a7994588e\", element=\"4410718e-128d-4901-a4d6-417bd2dd579a\")>,\n",
       " <selenium.webdriver.remote.webelement.WebElement (session=\"cb77a2d0dc619a2f13ad588a7994588e\", element=\"7fcb5897-b750-4d0e-aab9-a2c945cb72bb\")>,\n",
       " <selenium.webdriver.remote.webelement.WebElement (session=\"cb77a2d0dc619a2f13ad588a7994588e\", element=\"8e5ea9f7-383c-456b-9f2a-d360b0e1f795\")>,\n",
       " <selenium.webdriver.remote.webelement.WebElement (session=\"cb77a2d0dc619a2f13ad588a7994588e\", element=\"f0a69abc-b7df-48eb-8242-d046ae4512d8\")>,\n",
       " <selenium.webdriver.remote.webelement.WebElement (session=\"cb77a2d0dc619a2f13ad588a7994588e\", element=\"3ec97480-2041-466f-b18f-c50ea75d9f5d\")>,\n",
       " <selenium.webdriver.remote.webelement.WebElement (session=\"cb77a2d0dc619a2f13ad588a7994588e\", element=\"70ae7275-7435-4692-b9b6-c3f06e41360a\")>,\n",
       " <selenium.webdriver.remote.webelement.WebElement (session=\"cb77a2d0dc619a2f13ad588a7994588e\", element=\"c00a5067-f454-4a42-b291-c9cd55d098e1\")>,\n",
       " <selenium.webdriver.remote.webelement.WebElement (session=\"cb77a2d0dc619a2f13ad588a7994588e\", element=\"2a04cebb-0585-477a-9bd3-fdd4e662a42c\")>,\n",
       " <selenium.webdriver.remote.webelement.WebElement (session=\"cb77a2d0dc619a2f13ad588a7994588e\", element=\"45122df2-6d0a-4bdf-bdd7-945d3d756811\")>,\n",
       " <selenium.webdriver.remote.webelement.WebElement (session=\"cb77a2d0dc619a2f13ad588a7994588e\", element=\"cbef35fd-b15d-498a-911e-ceb5741f5d48\")>,\n",
       " <selenium.webdriver.remote.webelement.WebElement (session=\"cb77a2d0dc619a2f13ad588a7994588e\", element=\"79b903be-c56b-4a6e-abce-fa06d0b296cd\")>,\n",
       " <selenium.webdriver.remote.webelement.WebElement (session=\"cb77a2d0dc619a2f13ad588a7994588e\", element=\"cd47f6c2-8f9e-4acb-a74d-2b4d70116f85\")>]"
      ]
     },
     "execution_count": 60,
     "metadata": {},
     "output_type": "execute_result"
    }
   ],
   "source": [
    "varjob = driver.find_elements_by_xpath(\"//a[@class='title fw500 ellipsis']\")\n",
    "varjob"
   ]
  },
  {
   "cell_type": "code",
   "execution_count": 61,
   "metadata": {},
   "outputs": [
    {
     "data": {
      "text/plain": [
       "['Senior Data Analyst',\n",
       " 'Executive Data Analyst',\n",
       " 'Business Data Analyst - MIS & Reporting',\n",
       " 'Senior Data Analyst',\n",
       " 'Senior Data Analyst',\n",
       " 'Data Analyst/Sr.Analyst - Bangalore',\n",
       " 'Senior Data Analyst - Supporting Audits',\n",
       " 'SENIOR MARKETING DATA ANALYST',\n",
       " 'Data Analyst - Quantitative Support Team',\n",
       " 'Urgent Openings For Data Analysts.']"
      ]
     },
     "execution_count": 61,
     "metadata": {},
     "output_type": "execute_result"
    }
   ],
   "source": [
    "Job_title1 = []\n",
    "for a in varjob[:10]:\n",
    "    Job_title1.append(a.text)\n",
    "Job_title1"
   ]
  },
  {
   "cell_type": "code",
   "execution_count": 62,
   "metadata": {},
   "outputs": [
    {
     "data": {
      "text/plain": [
       "[<selenium.webdriver.remote.webelement.WebElement (session=\"cb77a2d0dc619a2f13ad588a7994588e\", element=\"11af53a1-362a-4c47-b344-e8fb255bf4ef\")>,\n",
       " <selenium.webdriver.remote.webelement.WebElement (session=\"cb77a2d0dc619a2f13ad588a7994588e\", element=\"351004a1-d6c0-4076-a477-47c908229dc1\")>,\n",
       " <selenium.webdriver.remote.webelement.WebElement (session=\"cb77a2d0dc619a2f13ad588a7994588e\", element=\"5541c50f-4969-4a9e-8b1f-b16361c5a750\")>,\n",
       " <selenium.webdriver.remote.webelement.WebElement (session=\"cb77a2d0dc619a2f13ad588a7994588e\", element=\"6e4deb6d-3f89-4d62-b402-c0b77608dcec\")>,\n",
       " <selenium.webdriver.remote.webelement.WebElement (session=\"cb77a2d0dc619a2f13ad588a7994588e\", element=\"639b0115-12ed-4550-bc79-a3cb6ab387a4\")>,\n",
       " <selenium.webdriver.remote.webelement.WebElement (session=\"cb77a2d0dc619a2f13ad588a7994588e\", element=\"be5549c6-0052-4dcd-901d-427eccf679a5\")>,\n",
       " <selenium.webdriver.remote.webelement.WebElement (session=\"cb77a2d0dc619a2f13ad588a7994588e\", element=\"6b417916-509e-46b3-9bd6-972c69972f86\")>,\n",
       " <selenium.webdriver.remote.webelement.WebElement (session=\"cb77a2d0dc619a2f13ad588a7994588e\", element=\"89c1ac67-eb8d-460d-af52-da057c77ace7\")>,\n",
       " <selenium.webdriver.remote.webelement.WebElement (session=\"cb77a2d0dc619a2f13ad588a7994588e\", element=\"849d5ce7-c5e1-4d9c-9b88-09dd573a5084\")>,\n",
       " <selenium.webdriver.remote.webelement.WebElement (session=\"cb77a2d0dc619a2f13ad588a7994588e\", element=\"547f9635-c386-475d-bcc2-aeb795eb8190\")>,\n",
       " <selenium.webdriver.remote.webelement.WebElement (session=\"cb77a2d0dc619a2f13ad588a7994588e\", element=\"b4ea5caa-0fe5-488c-9fd4-bf38cf8a11d0\")>,\n",
       " <selenium.webdriver.remote.webelement.WebElement (session=\"cb77a2d0dc619a2f13ad588a7994588e\", element=\"8c63c0a9-c42a-42bf-acc9-30aae1fe0eb0\")>,\n",
       " <selenium.webdriver.remote.webelement.WebElement (session=\"cb77a2d0dc619a2f13ad588a7994588e\", element=\"7934623a-2cb8-4d92-a62e-ddf953c5acfe\")>,\n",
       " <selenium.webdriver.remote.webelement.WebElement (session=\"cb77a2d0dc619a2f13ad588a7994588e\", element=\"ace936f2-8163-42d3-a00b-e2a23c62507a\")>,\n",
       " <selenium.webdriver.remote.webelement.WebElement (session=\"cb77a2d0dc619a2f13ad588a7994588e\", element=\"9be6f26e-1dab-4df2-b3f8-52d4b9765932\")>,\n",
       " <selenium.webdriver.remote.webelement.WebElement (session=\"cb77a2d0dc619a2f13ad588a7994588e\", element=\"570b30f5-1a8c-481b-8b7e-dfa25c4497bf\")>,\n",
       " <selenium.webdriver.remote.webelement.WebElement (session=\"cb77a2d0dc619a2f13ad588a7994588e\", element=\"9081c082-5558-44bd-b8af-2d0ac313bd01\")>,\n",
       " <selenium.webdriver.remote.webelement.WebElement (session=\"cb77a2d0dc619a2f13ad588a7994588e\", element=\"f28a6862-924f-4e1b-9005-4cf7538bb3b3\")>,\n",
       " <selenium.webdriver.remote.webelement.WebElement (session=\"cb77a2d0dc619a2f13ad588a7994588e\", element=\"ad35e75a-696e-4659-a542-1ff9db747117\")>,\n",
       " <selenium.webdriver.remote.webelement.WebElement (session=\"cb77a2d0dc619a2f13ad588a7994588e\", element=\"fc7e4c7b-82ee-48a7-85c4-f1a1f6951945\")>]"
      ]
     },
     "execution_count": 62,
     "metadata": {},
     "output_type": "execute_result"
    }
   ],
   "source": [
    "Area = driver.find_elements_by_xpath(\"//li[@class='fleft grey-text br2 placeHolderLi location']\")\n",
    "Area"
   ]
  },
  {
   "cell_type": "code",
   "execution_count": 63,
   "metadata": {},
   "outputs": [
    {
     "data": {
      "text/plain": [
       "['Hyderabad/Secunderabad, Pune, Gurgaon/Gurugram, Chennai, Bangalore/Bengaluru, Mumbai (All Areas)\\n(WFH during Covid)',\n",
       " 'Bangalore/Bengaluru',\n",
       " 'Mumbai, Bangalore/Bengaluru',\n",
       " 'Bangalore/Bengaluru',\n",
       " 'Bangalore/Bengaluru',\n",
       " 'Bangalore/Bengaluru',\n",
       " 'Bangalore/Bengaluru',\n",
       " 'Bangalore/Bengaluru',\n",
       " 'Mumbai, Pune, Bangalore/Bengaluru',\n",
       " 'Bangalore/Bengaluru(Devarabeesana Halli)\\n(WFH during Covid)']"
      ]
     },
     "execution_count": 63,
     "metadata": {},
     "output_type": "execute_result"
    }
   ],
   "source": [
    "Location1 =[]\n",
    "for i in Area[:10]:\n",
    "    Location1.append(i.text)\n",
    "Location1"
   ]
  },
  {
   "cell_type": "code",
   "execution_count": 64,
   "metadata": {},
   "outputs": [
    {
     "data": {
      "text/plain": [
       "[<selenium.webdriver.remote.webelement.WebElement (session=\"cb77a2d0dc619a2f13ad588a7994588e\", element=\"25defac5-c7ed-4202-a0ee-a67795c611fb\")>,\n",
       " <selenium.webdriver.remote.webelement.WebElement (session=\"cb77a2d0dc619a2f13ad588a7994588e\", element=\"97fdd264-7d14-428a-a25a-c8500fb9ee50\")>,\n",
       " <selenium.webdriver.remote.webelement.WebElement (session=\"cb77a2d0dc619a2f13ad588a7994588e\", element=\"7cfc73c7-98b8-4daf-a749-9f4310f282f2\")>,\n",
       " <selenium.webdriver.remote.webelement.WebElement (session=\"cb77a2d0dc619a2f13ad588a7994588e\", element=\"a685377b-c840-42f1-95cf-01fe3a30b50e\")>,\n",
       " <selenium.webdriver.remote.webelement.WebElement (session=\"cb77a2d0dc619a2f13ad588a7994588e\", element=\"ba14145c-588f-432c-bfa1-7e221a485dd1\")>,\n",
       " <selenium.webdriver.remote.webelement.WebElement (session=\"cb77a2d0dc619a2f13ad588a7994588e\", element=\"e04820e4-e6a5-4c45-9413-7f974174cbc0\")>,\n",
       " <selenium.webdriver.remote.webelement.WebElement (session=\"cb77a2d0dc619a2f13ad588a7994588e\", element=\"8bb3edf6-ce8d-44c6-aed1-ef52247f8bc3\")>,\n",
       " <selenium.webdriver.remote.webelement.WebElement (session=\"cb77a2d0dc619a2f13ad588a7994588e\", element=\"98246181-ef23-4e06-892a-d2d02f32e972\")>,\n",
       " <selenium.webdriver.remote.webelement.WebElement (session=\"cb77a2d0dc619a2f13ad588a7994588e\", element=\"73ef7107-27a0-4cb9-bdab-fd72aaf7696a\")>,\n",
       " <selenium.webdriver.remote.webelement.WebElement (session=\"cb77a2d0dc619a2f13ad588a7994588e\", element=\"779177e2-d7aa-4c84-b3aa-5d9882ffd529\")>,\n",
       " <selenium.webdriver.remote.webelement.WebElement (session=\"cb77a2d0dc619a2f13ad588a7994588e\", element=\"be389d4f-b822-42fb-86b8-545d5d6086f5\")>,\n",
       " <selenium.webdriver.remote.webelement.WebElement (session=\"cb77a2d0dc619a2f13ad588a7994588e\", element=\"869997cc-a7de-4b40-9c25-710d05a717dc\")>,\n",
       " <selenium.webdriver.remote.webelement.WebElement (session=\"cb77a2d0dc619a2f13ad588a7994588e\", element=\"e6725152-a751-4d42-b987-f58fee477530\")>,\n",
       " <selenium.webdriver.remote.webelement.WebElement (session=\"cb77a2d0dc619a2f13ad588a7994588e\", element=\"2abdb92f-5cfb-4715-9f8c-bd8477c6b9de\")>,\n",
       " <selenium.webdriver.remote.webelement.WebElement (session=\"cb77a2d0dc619a2f13ad588a7994588e\", element=\"81b6e27c-a6b4-4f04-9a5a-da74adb3b16a\")>,\n",
       " <selenium.webdriver.remote.webelement.WebElement (session=\"cb77a2d0dc619a2f13ad588a7994588e\", element=\"15d65adb-70e1-47c7-bf10-3f819af161a4\")>,\n",
       " <selenium.webdriver.remote.webelement.WebElement (session=\"cb77a2d0dc619a2f13ad588a7994588e\", element=\"b51fed68-d90c-4208-8d43-90fdbd6f6b2f\")>,\n",
       " <selenium.webdriver.remote.webelement.WebElement (session=\"cb77a2d0dc619a2f13ad588a7994588e\", element=\"fd28b2a4-954d-490e-bcc8-dd44f8b538d3\")>,\n",
       " <selenium.webdriver.remote.webelement.WebElement (session=\"cb77a2d0dc619a2f13ad588a7994588e\", element=\"81158043-7899-4785-9b4a-f90101732c91\")>,\n",
       " <selenium.webdriver.remote.webelement.WebElement (session=\"cb77a2d0dc619a2f13ad588a7994588e\", element=\"7922b65f-d30b-4ee8-bbb2-5dcf9a8b83ff\")>]"
      ]
     },
     "execution_count": 64,
     "metadata": {},
     "output_type": "execute_result"
    }
   ],
   "source": [
    "varname = driver.find_elements_by_xpath(\"//a[@class='subTitle ellipsis fleft']\")\n",
    "varname"
   ]
  },
  {
   "cell_type": "code",
   "execution_count": 65,
   "metadata": {},
   "outputs": [
    {
     "data": {
      "text/plain": [
       "['Virtusa Consulting Services Pvt Ltd',\n",
       " 'Gokaldas Exports Ltd',\n",
       " 'INTERTRUST GROUP',\n",
       " 'Flipkart',\n",
       " 'Flipkart',\n",
       " 'Cocentrus',\n",
       " 'Visa Inc.',\n",
       " 'McAfee Software (India) Pvt. Ltd',\n",
       " 'TresVista Financial',\n",
       " 'Flipkart Internet Private Limited']"
      ]
     },
     "execution_count": 65,
     "metadata": {},
     "output_type": "execute_result"
    }
   ],
   "source": [
    "com_name1 = []\n",
    "for b in varname[:10]:\n",
    "    com_name1.append(b.text)\n",
    "com_name1\n",
    "    \n",
    "    "
   ]
  },
  {
   "cell_type": "code",
   "execution_count": 70,
   "metadata": {},
   "outputs": [
    {
     "data": {
      "text/plain": [
       "[<selenium.webdriver.remote.webelement.WebElement (session=\"cb77a2d0dc619a2f13ad588a7994588e\", element=\"60a0aaac-eea8-4cd2-8b86-10895f87518c\")>,\n",
       " <selenium.webdriver.remote.webelement.WebElement (session=\"cb77a2d0dc619a2f13ad588a7994588e\", element=\"834d2412-be5b-4a74-a75f-85d5ae886434\")>,\n",
       " <selenium.webdriver.remote.webelement.WebElement (session=\"cb77a2d0dc619a2f13ad588a7994588e\", element=\"06b64045-0536-432a-82d4-85c2cf73a2f9\")>,\n",
       " <selenium.webdriver.remote.webelement.WebElement (session=\"cb77a2d0dc619a2f13ad588a7994588e\", element=\"0d4dabb4-0144-43ba-9556-8916894423b4\")>,\n",
       " <selenium.webdriver.remote.webelement.WebElement (session=\"cb77a2d0dc619a2f13ad588a7994588e\", element=\"74cf70d0-143a-4a21-8144-2c46e0ac3040\")>,\n",
       " <selenium.webdriver.remote.webelement.WebElement (session=\"cb77a2d0dc619a2f13ad588a7994588e\", element=\"271ab4cc-309f-477a-bde7-a9426cc5270c\")>,\n",
       " <selenium.webdriver.remote.webelement.WebElement (session=\"cb77a2d0dc619a2f13ad588a7994588e\", element=\"06f55ef7-ecd9-41f5-b12a-e1b910e15769\")>,\n",
       " <selenium.webdriver.remote.webelement.WebElement (session=\"cb77a2d0dc619a2f13ad588a7994588e\", element=\"3737e997-d30c-4975-a3d2-e388ba9badff\")>,\n",
       " <selenium.webdriver.remote.webelement.WebElement (session=\"cb77a2d0dc619a2f13ad588a7994588e\", element=\"d4bd1926-f408-49d9-8e6b-59c8be94bd43\")>,\n",
       " <selenium.webdriver.remote.webelement.WebElement (session=\"cb77a2d0dc619a2f13ad588a7994588e\", element=\"30df3698-3a1a-43c6-9a6a-03c7ebdac021\")>,\n",
       " <selenium.webdriver.remote.webelement.WebElement (session=\"cb77a2d0dc619a2f13ad588a7994588e\", element=\"aa48da21-b4e9-4ac0-a9f4-ef3bc474e74e\")>,\n",
       " <selenium.webdriver.remote.webelement.WebElement (session=\"cb77a2d0dc619a2f13ad588a7994588e\", element=\"d4d0d74a-94f0-4150-844a-ba3cc46f5c25\")>,\n",
       " <selenium.webdriver.remote.webelement.WebElement (session=\"cb77a2d0dc619a2f13ad588a7994588e\", element=\"b1a1e907-df0e-4cbc-beca-9047f75c042a\")>,\n",
       " <selenium.webdriver.remote.webelement.WebElement (session=\"cb77a2d0dc619a2f13ad588a7994588e\", element=\"b2f3ce82-a0b7-448e-bbaf-063793f03961\")>,\n",
       " <selenium.webdriver.remote.webelement.WebElement (session=\"cb77a2d0dc619a2f13ad588a7994588e\", element=\"3f8575ee-ba4e-45d3-9ba0-3956c152761d\")>,\n",
       " <selenium.webdriver.remote.webelement.WebElement (session=\"cb77a2d0dc619a2f13ad588a7994588e\", element=\"1ed01b9e-e96d-43fc-b629-0e4c64d16c57\")>,\n",
       " <selenium.webdriver.remote.webelement.WebElement (session=\"cb77a2d0dc619a2f13ad588a7994588e\", element=\"7ad73311-3af7-4bdd-9689-906615c97ef9\")>,\n",
       " <selenium.webdriver.remote.webelement.WebElement (session=\"cb77a2d0dc619a2f13ad588a7994588e\", element=\"8674f1f0-8b80-440d-9688-8e6615541088\")>,\n",
       " <selenium.webdriver.remote.webelement.WebElement (session=\"cb77a2d0dc619a2f13ad588a7994588e\", element=\"c556e19b-fb49-486d-bc65-4e577e24b74d\")>,\n",
       " <selenium.webdriver.remote.webelement.WebElement (session=\"cb77a2d0dc619a2f13ad588a7994588e\", element=\"42c7b6ec-0727-4ebe-9f53-73277ed9c2a5\")>]"
      ]
     },
     "execution_count": 70,
     "metadata": {},
     "output_type": "execute_result"
    }
   ],
   "source": [
    "varexp = driver.find_elements_by_xpath(\"//li[@class='fleft grey-text br2 placeHolderLi experience']\")\n",
    "varexp"
   ]
  },
  {
   "cell_type": "code",
   "execution_count": 71,
   "metadata": {},
   "outputs": [
    {
     "data": {
      "text/plain": [
       "['8-12 Yrs',\n",
       " '0-3 Yrs',\n",
       " '3-8 Yrs',\n",
       " '2-3 Yrs',\n",
       " '3-8 Yrs',\n",
       " '5-10 Yrs',\n",
       " '8-13 Yrs',\n",
       " '3-7 Yrs',\n",
       " '0-1 Yrs',\n",
       " '1-6 Yrs']"
      ]
     },
     "execution_count": 71,
     "metadata": {},
     "output_type": "execute_result"
    }
   ],
   "source": [
    "Experience = []\n",
    "for i in varexp[:10]:\n",
    "    Experience.append(i.text)\n",
    "Experience"
   ]
  },
  {
   "cell_type": "code",
   "execution_count": 72,
   "metadata": {},
   "outputs": [
    {
     "data": {
      "text/html": [
       "<div>\n",
       "<style scoped>\n",
       "    .dataframe tbody tr th:only-of-type {\n",
       "        vertical-align: middle;\n",
       "    }\n",
       "\n",
       "    .dataframe tbody tr th {\n",
       "        vertical-align: top;\n",
       "    }\n",
       "\n",
       "    .dataframe thead th {\n",
       "        text-align: right;\n",
       "    }\n",
       "</style>\n",
       "<table border=\"1\" class=\"dataframe\">\n",
       "  <thead>\n",
       "    <tr style=\"text-align: right;\">\n",
       "      <th></th>\n",
       "      <th>Job Title</th>\n",
       "      <th>Location</th>\n",
       "      <th>Companies Name</th>\n",
       "      <th>Experience</th>\n",
       "    </tr>\n",
       "  </thead>\n",
       "  <tbody>\n",
       "    <tr>\n",
       "      <th>0</th>\n",
       "      <td>Senior Data Analyst</td>\n",
       "      <td>Hyderabad/Secunderabad, Pune, Gurgaon/Gurugram...</td>\n",
       "      <td>Virtusa Consulting Services Pvt Ltd</td>\n",
       "      <td>8-12 Yrs</td>\n",
       "    </tr>\n",
       "    <tr>\n",
       "      <th>1</th>\n",
       "      <td>Executive Data Analyst</td>\n",
       "      <td>Bangalore/Bengaluru</td>\n",
       "      <td>Gokaldas Exports Ltd</td>\n",
       "      <td>0-3 Yrs</td>\n",
       "    </tr>\n",
       "    <tr>\n",
       "      <th>2</th>\n",
       "      <td>Business Data Analyst - MIS &amp; Reporting</td>\n",
       "      <td>Mumbai, Bangalore/Bengaluru</td>\n",
       "      <td>INTERTRUST GROUP</td>\n",
       "      <td>3-8 Yrs</td>\n",
       "    </tr>\n",
       "    <tr>\n",
       "      <th>3</th>\n",
       "      <td>Senior Data Analyst</td>\n",
       "      <td>Bangalore/Bengaluru</td>\n",
       "      <td>Flipkart</td>\n",
       "      <td>2-3 Yrs</td>\n",
       "    </tr>\n",
       "    <tr>\n",
       "      <th>4</th>\n",
       "      <td>Senior Data Analyst</td>\n",
       "      <td>Bangalore/Bengaluru</td>\n",
       "      <td>Flipkart</td>\n",
       "      <td>3-8 Yrs</td>\n",
       "    </tr>\n",
       "    <tr>\n",
       "      <th>5</th>\n",
       "      <td>Data Analyst/Sr.Analyst - Bangalore</td>\n",
       "      <td>Bangalore/Bengaluru</td>\n",
       "      <td>Cocentrus</td>\n",
       "      <td>5-10 Yrs</td>\n",
       "    </tr>\n",
       "    <tr>\n",
       "      <th>6</th>\n",
       "      <td>Senior Data Analyst - Supporting Audits</td>\n",
       "      <td>Bangalore/Bengaluru</td>\n",
       "      <td>Visa Inc.</td>\n",
       "      <td>8-13 Yrs</td>\n",
       "    </tr>\n",
       "    <tr>\n",
       "      <th>7</th>\n",
       "      <td>SENIOR MARKETING DATA ANALYST</td>\n",
       "      <td>Bangalore/Bengaluru</td>\n",
       "      <td>McAfee Software (India) Pvt. Ltd</td>\n",
       "      <td>3-7 Yrs</td>\n",
       "    </tr>\n",
       "    <tr>\n",
       "      <th>8</th>\n",
       "      <td>Data Analyst - Quantitative Support Team</td>\n",
       "      <td>Mumbai, Pune, Bangalore/Bengaluru</td>\n",
       "      <td>TresVista Financial</td>\n",
       "      <td>0-1 Yrs</td>\n",
       "    </tr>\n",
       "    <tr>\n",
       "      <th>9</th>\n",
       "      <td>Urgent Openings For Data Analysts.</td>\n",
       "      <td>Bangalore/Bengaluru(Devarabeesana Halli)\\n(WFH...</td>\n",
       "      <td>Flipkart Internet Private Limited</td>\n",
       "      <td>1-6 Yrs</td>\n",
       "    </tr>\n",
       "  </tbody>\n",
       "</table>\n",
       "</div>"
      ],
      "text/plain": [
       "                                  Job Title  \\\n",
       "0                       Senior Data Analyst   \n",
       "1                    Executive Data Analyst   \n",
       "2   Business Data Analyst - MIS & Reporting   \n",
       "3                       Senior Data Analyst   \n",
       "4                       Senior Data Analyst   \n",
       "5       Data Analyst/Sr.Analyst - Bangalore   \n",
       "6   Senior Data Analyst - Supporting Audits   \n",
       "7             SENIOR MARKETING DATA ANALYST   \n",
       "8  Data Analyst - Quantitative Support Team   \n",
       "9        Urgent Openings For Data Analysts.   \n",
       "\n",
       "                                            Location  \\\n",
       "0  Hyderabad/Secunderabad, Pune, Gurgaon/Gurugram...   \n",
       "1                                Bangalore/Bengaluru   \n",
       "2                        Mumbai, Bangalore/Bengaluru   \n",
       "3                                Bangalore/Bengaluru   \n",
       "4                                Bangalore/Bengaluru   \n",
       "5                                Bangalore/Bengaluru   \n",
       "6                                Bangalore/Bengaluru   \n",
       "7                                Bangalore/Bengaluru   \n",
       "8                  Mumbai, Pune, Bangalore/Bengaluru   \n",
       "9  Bangalore/Bengaluru(Devarabeesana Halli)\\n(WFH...   \n",
       "\n",
       "                        Companies Name Experience  \n",
       "0  Virtusa Consulting Services Pvt Ltd   8-12 Yrs  \n",
       "1                 Gokaldas Exports Ltd    0-3 Yrs  \n",
       "2                     INTERTRUST GROUP    3-8 Yrs  \n",
       "3                             Flipkart    2-3 Yrs  \n",
       "4                             Flipkart    3-8 Yrs  \n",
       "5                            Cocentrus   5-10 Yrs  \n",
       "6                            Visa Inc.   8-13 Yrs  \n",
       "7     McAfee Software (India) Pvt. Ltd    3-7 Yrs  \n",
       "8                  TresVista Financial    0-1 Yrs  \n",
       "9    Flipkart Internet Private Limited    1-6 Yrs  "
      ]
     },
     "execution_count": 72,
     "metadata": {},
     "output_type": "execute_result"
    }
   ],
   "source": [
    "df_Job = pd.DataFrame({})\n",
    "df_Job[\"Job Title\"] = Job_title1\n",
    "df_Job[\"Location\"] = Location1\n",
    "df_Job[\"Companies Name\"] = com_name1\n",
    "df_Job[\"Experience\"] = Experience\n",
    "df_Job"
   ]
  },
  {
   "cell_type": "markdown",
   "metadata": {},
   "source": [
    "# Q.2) A program to scrape data for \"Data Scientist\" Job position in \"Banglore\" location"
   ]
  },
  {
   "cell_type": "code",
   "execution_count": 23,
   "metadata": {},
   "outputs": [],
   "source": [
    "\n",
    "import selenium \n",
    "import pandas as pd\n",
    "from selenium import webdriver"
   ]
  },
  {
   "cell_type": "code",
   "execution_count": 73,
   "metadata": {},
   "outputs": [],
   "source": [
    "driver = webdriver.Chrome(r'C:\\Users\\rohan\\Downloads\\programs\\chromedriver_win32 (2)\\chromedriver.exe')"
   ]
  },
  {
   "cell_type": "code",
   "execution_count": 74,
   "metadata": {},
   "outputs": [],
   "source": [
    "url = 'https://www.naukri.com/'\n",
    "driver.get(url)"
   ]
  },
  {
   "cell_type": "code",
   "execution_count": 75,
   "metadata": {},
   "outputs": [
    {
     "data": {
      "text/plain": [
       "<selenium.webdriver.remote.webelement.WebElement (session=\"e6681aefc40015acd562eeb165d34cc9\", element=\"a42f409d-70e9-40e7-92dc-47254e5355b9\")>"
      ]
     },
     "execution_count": 75,
     "metadata": {},
     "output_type": "execute_result"
    }
   ],
   "source": [
    "search_job = driver.find_element_by_id('qsb-keyword-sugg')\n",
    "search_job"
   ]
  },
  {
   "cell_type": "code",
   "execution_count": 76,
   "metadata": {},
   "outputs": [],
   "source": [
    "search_job.send_keys('Data Scientist')"
   ]
  },
  {
   "cell_type": "code",
   "execution_count": 77,
   "metadata": {},
   "outputs": [],
   "source": [
    "loc = driver.find_element_by_id('qsb-location-sugg')\n",
    "loc.send_keys('Banglore')"
   ]
  },
  {
   "cell_type": "code",
   "execution_count": 78,
   "metadata": {},
   "outputs": [
    {
     "data": {
      "text/plain": [
       "<selenium.webdriver.remote.webelement.WebElement (session=\"e6681aefc40015acd562eeb165d34cc9\", element=\"d163c68e-2391-46c0-a5b2-3fee14bda033\")>"
      ]
     },
     "execution_count": 78,
     "metadata": {},
     "output_type": "execute_result"
    }
   ],
   "source": [
    "bnt = driver.find_element_by_xpath('//button[@class=\"btn\"]')\n",
    "bnt"
   ]
  },
  {
   "cell_type": "code",
   "execution_count": 79,
   "metadata": {},
   "outputs": [],
   "source": [
    "bnt.click()"
   ]
  },
  {
   "cell_type": "code",
   "execution_count": 80,
   "metadata": {},
   "outputs": [
    {
     "data": {
      "text/plain": [
       "[<selenium.webdriver.remote.webelement.WebElement (session=\"e6681aefc40015acd562eeb165d34cc9\", element=\"4dc39786-1287-400b-96e0-45be1db4ed83\")>,\n",
       " <selenium.webdriver.remote.webelement.WebElement (session=\"e6681aefc40015acd562eeb165d34cc9\", element=\"088d7a82-c32c-4feb-96a9-95d31b520666\")>,\n",
       " <selenium.webdriver.remote.webelement.WebElement (session=\"e6681aefc40015acd562eeb165d34cc9\", element=\"2ded1d7a-f924-4659-b78f-ee1b230bc16e\")>,\n",
       " <selenium.webdriver.remote.webelement.WebElement (session=\"e6681aefc40015acd562eeb165d34cc9\", element=\"a3d3c060-23d9-4351-94b0-7ac291035534\")>,\n",
       " <selenium.webdriver.remote.webelement.WebElement (session=\"e6681aefc40015acd562eeb165d34cc9\", element=\"31989bd2-4d20-497d-8e08-d68706404809\")>,\n",
       " <selenium.webdriver.remote.webelement.WebElement (session=\"e6681aefc40015acd562eeb165d34cc9\", element=\"fb52743e-0697-4afa-90e2-9eb00ac0385d\")>,\n",
       " <selenium.webdriver.remote.webelement.WebElement (session=\"e6681aefc40015acd562eeb165d34cc9\", element=\"58f1a243-5217-4d69-ae90-887d60376cb3\")>,\n",
       " <selenium.webdriver.remote.webelement.WebElement (session=\"e6681aefc40015acd562eeb165d34cc9\", element=\"81bf4642-0711-4694-a4de-5e86b5db56cb\")>,\n",
       " <selenium.webdriver.remote.webelement.WebElement (session=\"e6681aefc40015acd562eeb165d34cc9\", element=\"98cc66ec-41a3-4202-bcac-88df4db0e481\")>,\n",
       " <selenium.webdriver.remote.webelement.WebElement (session=\"e6681aefc40015acd562eeb165d34cc9\", element=\"a092b8cd-d6f9-4bec-bbb4-266964f658a9\")>,\n",
       " <selenium.webdriver.remote.webelement.WebElement (session=\"e6681aefc40015acd562eeb165d34cc9\", element=\"b20eb5f2-a5cd-4b2b-a76e-11ea6f7c46db\")>,\n",
       " <selenium.webdriver.remote.webelement.WebElement (session=\"e6681aefc40015acd562eeb165d34cc9\", element=\"1317493f-2829-46b1-bd82-4c3dbf901b4f\")>,\n",
       " <selenium.webdriver.remote.webelement.WebElement (session=\"e6681aefc40015acd562eeb165d34cc9\", element=\"0ff1c9ff-b41a-4230-a695-2fb44e0b8682\")>,\n",
       " <selenium.webdriver.remote.webelement.WebElement (session=\"e6681aefc40015acd562eeb165d34cc9\", element=\"22f94bda-54cf-43b7-9003-9aa2e1f963cc\")>,\n",
       " <selenium.webdriver.remote.webelement.WebElement (session=\"e6681aefc40015acd562eeb165d34cc9\", element=\"fa5c86e1-c52c-4f27-a717-8b2bc4907e7c\")>,\n",
       " <selenium.webdriver.remote.webelement.WebElement (session=\"e6681aefc40015acd562eeb165d34cc9\", element=\"2faa3498-9a9d-4ac3-80e1-36c584e929da\")>,\n",
       " <selenium.webdriver.remote.webelement.WebElement (session=\"e6681aefc40015acd562eeb165d34cc9\", element=\"7f7fcdaf-616d-436b-81f3-e711ae79ec92\")>,\n",
       " <selenium.webdriver.remote.webelement.WebElement (session=\"e6681aefc40015acd562eeb165d34cc9\", element=\"8d812573-79b9-4ca2-8cc0-ffd48bf4a464\")>,\n",
       " <selenium.webdriver.remote.webelement.WebElement (session=\"e6681aefc40015acd562eeb165d34cc9\", element=\"04e4f01b-7d2f-4a64-99ac-9fa6dd85f398\")>,\n",
       " <selenium.webdriver.remote.webelement.WebElement (session=\"e6681aefc40015acd562eeb165d34cc9\", element=\"5daa1dea-3dbe-4848-b5e0-4e298fc7fc71\")>]"
      ]
     },
     "execution_count": 80,
     "metadata": {},
     "output_type": "execute_result"
    }
   ],
   "source": [
    "pos = driver.find_elements_by_xpath(\"//a[@class='title fw500 ellipsis']\")\n",
    "pos"
   ]
  },
  {
   "cell_type": "code",
   "execution_count": 81,
   "metadata": {},
   "outputs": [
    {
     "data": {
      "text/plain": [
       "['Data Scientist',\n",
       " 'Sr Data Scientist',\n",
       " 'Sr Data Scientist',\n",
       " 'Lead Data Scientist - Machine Learning/ Data Mining',\n",
       " 'Data Scientist (Python & SQL)',\n",
       " 'Data Scientist: Advanced Analytics',\n",
       " 'Data Scientist',\n",
       " 'Data Scientist',\n",
       " 'Cognitive Data Scientist',\n",
       " 'Data Scientist + Python + Big DATA',\n",
       " 'Senior Data Scientist, Payments compliance',\n",
       " 'Senior Data Scientist',\n",
       " 'Principal, Applied Math Stats (Senior-Data Scientist)',\n",
       " 'Senior Data Scientist',\n",
       " 'Senior Data Scientist',\n",
       " 'Senior Data Scientist',\n",
       " 'Data Scientist - Python/ MATLAB/ Machine Learning Algorithms',\n",
       " 'Data Scientist',\n",
       " 'Lead Data Scientist',\n",
       " 'Lead Data Scientist']"
      ]
     },
     "execution_count": 81,
     "metadata": {},
     "output_type": "execute_result"
    }
   ],
   "source": [
    "Job_title = []\n",
    "for i in pos:\n",
    "    Job_title.append(i.text)\n",
    "Job_title"
   ]
  },
  {
   "cell_type": "code",
   "execution_count": 82,
   "metadata": {},
   "outputs": [
    {
     "data": {
      "text/plain": [
       "[<selenium.webdriver.remote.webelement.WebElement (session=\"e6681aefc40015acd562eeb165d34cc9\", element=\"540756f4-4cdb-4a56-8ffc-2378d709543a\")>,\n",
       " <selenium.webdriver.remote.webelement.WebElement (session=\"e6681aefc40015acd562eeb165d34cc9\", element=\"daeeb5b0-5a3d-4475-b293-96a22f808647\")>,\n",
       " <selenium.webdriver.remote.webelement.WebElement (session=\"e6681aefc40015acd562eeb165d34cc9\", element=\"dc199569-8178-454c-81a6-8f4db7fe0868\")>,\n",
       " <selenium.webdriver.remote.webelement.WebElement (session=\"e6681aefc40015acd562eeb165d34cc9\", element=\"1d38a000-bcac-4aa2-94ce-056adc2b587c\")>,\n",
       " <selenium.webdriver.remote.webelement.WebElement (session=\"e6681aefc40015acd562eeb165d34cc9\", element=\"dbfaf387-e494-4a62-9ab0-3302f146902f\")>,\n",
       " <selenium.webdriver.remote.webelement.WebElement (session=\"e6681aefc40015acd562eeb165d34cc9\", element=\"65ac86b2-c2d8-42cc-8e6b-8750be93e0e9\")>,\n",
       " <selenium.webdriver.remote.webelement.WebElement (session=\"e6681aefc40015acd562eeb165d34cc9\", element=\"cf4161f7-c2c5-44e4-8824-69c11f9e0a78\")>,\n",
       " <selenium.webdriver.remote.webelement.WebElement (session=\"e6681aefc40015acd562eeb165d34cc9\", element=\"2cb6f385-bed2-49f9-a5be-faee6596b1b9\")>,\n",
       " <selenium.webdriver.remote.webelement.WebElement (session=\"e6681aefc40015acd562eeb165d34cc9\", element=\"5ddaf0d8-d9d3-49a3-ac4d-e8027fe94f85\")>,\n",
       " <selenium.webdriver.remote.webelement.WebElement (session=\"e6681aefc40015acd562eeb165d34cc9\", element=\"e0569b77-83f6-4fa3-a9c7-9ab28f2ed0eb\")>,\n",
       " <selenium.webdriver.remote.webelement.WebElement (session=\"e6681aefc40015acd562eeb165d34cc9\", element=\"a7e5a3a6-b9ac-45f2-ab31-184b271aabfa\")>,\n",
       " <selenium.webdriver.remote.webelement.WebElement (session=\"e6681aefc40015acd562eeb165d34cc9\", element=\"844e2401-2645-4fdd-82dd-ed0190922b03\")>,\n",
       " <selenium.webdriver.remote.webelement.WebElement (session=\"e6681aefc40015acd562eeb165d34cc9\", element=\"ee978cc3-36f3-43c6-9503-ca8c52f18252\")>,\n",
       " <selenium.webdriver.remote.webelement.WebElement (session=\"e6681aefc40015acd562eeb165d34cc9\", element=\"0c9cde00-fb7a-4cd2-856a-9f9d64c3569b\")>,\n",
       " <selenium.webdriver.remote.webelement.WebElement (session=\"e6681aefc40015acd562eeb165d34cc9\", element=\"d76d90e8-4e77-4e48-814c-3597b6319be9\")>,\n",
       " <selenium.webdriver.remote.webelement.WebElement (session=\"e6681aefc40015acd562eeb165d34cc9\", element=\"0e0df32a-06f3-48e5-8522-9a2c98ff7fa6\")>,\n",
       " <selenium.webdriver.remote.webelement.WebElement (session=\"e6681aefc40015acd562eeb165d34cc9\", element=\"c7aa1eef-2027-4350-bb7c-8b46df0a1c63\")>,\n",
       " <selenium.webdriver.remote.webelement.WebElement (session=\"e6681aefc40015acd562eeb165d34cc9\", element=\"dc36dae1-a80f-4296-93a4-b99978c7ef2c\")>,\n",
       " <selenium.webdriver.remote.webelement.WebElement (session=\"e6681aefc40015acd562eeb165d34cc9\", element=\"d762fd5b-e97e-4bdf-b6fe-5e29ba08e5ce\")>,\n",
       " <selenium.webdriver.remote.webelement.WebElement (session=\"e6681aefc40015acd562eeb165d34cc9\", element=\"67868456-9aa5-44d0-9d8c-a311e426e3c5\")>]"
      ]
     },
     "execution_count": 82,
     "metadata": {},
     "output_type": "execute_result"
    }
   ],
   "source": [
    "name = driver.find_elements_by_xpath(\"//a[@class='subTitle ellipsis fleft']\")\n",
    "name"
   ]
  },
  {
   "cell_type": "code",
   "execution_count": 83,
   "metadata": {},
   "outputs": [
    {
     "data": {
      "text/plain": [
       "['Oracle India Pvt. Ltd.',\n",
       " 'IBM India Pvt. Limited',\n",
       " 'IBM India Pvt. Limited',\n",
       " 'Wrackle Technologies Pvt Ltd',\n",
       " 'AVE-Promagne',\n",
       " 'IBM India Pvt. Limited',\n",
       " 'Schneider Electric India Pvt. Ltd.',\n",
       " 'IBM India Pvt. Limited',\n",
       " 'IBM India Pvt. Limited',\n",
       " 'Capgemini Technology Services India Limited',\n",
       " 'AIRBNB GLOBAL CAPABILITY CENTER PRIVATE LIMITED',\n",
       " 'Rakuten, Inc.',\n",
       " 'AT and T Global Business Services India P. Ltd.',\n",
       " 'Kwalee India Pvt Ltd.',\n",
       " 'ANT work',\n",
       " 'Philips India Limited',\n",
       " 'Wrackle Technologies Pvt Ltd',\n",
       " 'Applied Materials',\n",
       " 'Rakuten, Inc.',\n",
       " 'Zycus Infotech Pvt Ltd']"
      ]
     },
     "execution_count": 83,
     "metadata": {},
     "output_type": "execute_result"
    }
   ],
   "source": [
    "com =[]\n",
    "for i in name:\n",
    "    com.append(i.text)\n",
    "com"
   ]
  },
  {
   "cell_type": "code",
   "execution_count": 84,
   "metadata": {},
   "outputs": [
    {
     "data": {
      "text/plain": [
       "[<selenium.webdriver.remote.webelement.WebElement (session=\"e6681aefc40015acd562eeb165d34cc9\", element=\"da6204f4-1c23-48d3-b2d8-52b720cb5f77\")>,\n",
       " <selenium.webdriver.remote.webelement.WebElement (session=\"e6681aefc40015acd562eeb165d34cc9\", element=\"8e2fce2a-f348-4554-914a-bd878e9d3dcc\")>,\n",
       " <selenium.webdriver.remote.webelement.WebElement (session=\"e6681aefc40015acd562eeb165d34cc9\", element=\"54122c1a-6bed-4e61-8d0e-5f16c5cd8132\")>,\n",
       " <selenium.webdriver.remote.webelement.WebElement (session=\"e6681aefc40015acd562eeb165d34cc9\", element=\"1d6e5dd0-04a7-4993-9a87-55097ea41f24\")>,\n",
       " <selenium.webdriver.remote.webelement.WebElement (session=\"e6681aefc40015acd562eeb165d34cc9\", element=\"1ba2e281-e2f9-4911-bf30-2c05d8825753\")>,\n",
       " <selenium.webdriver.remote.webelement.WebElement (session=\"e6681aefc40015acd562eeb165d34cc9\", element=\"42b3bee5-ac6e-4f58-b004-64bf8bb6d3b2\")>,\n",
       " <selenium.webdriver.remote.webelement.WebElement (session=\"e6681aefc40015acd562eeb165d34cc9\", element=\"79701a6e-4a45-48a6-8770-f2aacdc89103\")>,\n",
       " <selenium.webdriver.remote.webelement.WebElement (session=\"e6681aefc40015acd562eeb165d34cc9\", element=\"8bbfce98-9980-4071-8a7d-1d946703b7df\")>,\n",
       " <selenium.webdriver.remote.webelement.WebElement (session=\"e6681aefc40015acd562eeb165d34cc9\", element=\"a7c759b8-e7be-441d-8a98-ac82b86b7ded\")>,\n",
       " <selenium.webdriver.remote.webelement.WebElement (session=\"e6681aefc40015acd562eeb165d34cc9\", element=\"b973be5c-a2ff-493a-b14f-55cbf94c2642\")>,\n",
       " <selenium.webdriver.remote.webelement.WebElement (session=\"e6681aefc40015acd562eeb165d34cc9\", element=\"d2f6fa45-582e-4f61-9ed4-7f6fbc16b3a6\")>,\n",
       " <selenium.webdriver.remote.webelement.WebElement (session=\"e6681aefc40015acd562eeb165d34cc9\", element=\"2c8d0f45-2f1a-457e-8580-e13f8545cc4e\")>,\n",
       " <selenium.webdriver.remote.webelement.WebElement (session=\"e6681aefc40015acd562eeb165d34cc9\", element=\"1def5bdc-5d4e-467c-a701-9e182aa5bacb\")>,\n",
       " <selenium.webdriver.remote.webelement.WebElement (session=\"e6681aefc40015acd562eeb165d34cc9\", element=\"66c4c8ed-280e-47ec-9d4c-edfd0c3c336a\")>,\n",
       " <selenium.webdriver.remote.webelement.WebElement (session=\"e6681aefc40015acd562eeb165d34cc9\", element=\"8a365c37-c303-46d1-a9e7-9fdda76d295e\")>,\n",
       " <selenium.webdriver.remote.webelement.WebElement (session=\"e6681aefc40015acd562eeb165d34cc9\", element=\"5c04ce25-c6ed-45a0-8fa6-d0dcda136a17\")>,\n",
       " <selenium.webdriver.remote.webelement.WebElement (session=\"e6681aefc40015acd562eeb165d34cc9\", element=\"1f082261-f1a1-44d2-a95a-8f89d1942b7c\")>,\n",
       " <selenium.webdriver.remote.webelement.WebElement (session=\"e6681aefc40015acd562eeb165d34cc9\", element=\"65419633-0c3e-4f48-8ada-c30cbe4606da\")>,\n",
       " <selenium.webdriver.remote.webelement.WebElement (session=\"e6681aefc40015acd562eeb165d34cc9\", element=\"6ff7a8b2-948b-48d4-94e0-56333d70c2cd\")>,\n",
       " <selenium.webdriver.remote.webelement.WebElement (session=\"e6681aefc40015acd562eeb165d34cc9\", element=\"7ce2abba-d6b7-4ed9-8465-1aea361d79db\")>]"
      ]
     },
     "execution_count": 84,
     "metadata": {},
     "output_type": "execute_result"
    }
   ],
   "source": [
    "loc = driver.find_elements_by_xpath(\"//li[@class='fleft grey-text br2 placeHolderLi location']\")\n",
    "loc"
   ]
  },
  {
   "cell_type": "code",
   "execution_count": 85,
   "metadata": {},
   "outputs": [
    {
     "data": {
      "text/plain": [
       "['Noida, Bangalore/Bengaluru',\n",
       " 'Bengaluru/Bangalore',\n",
       " 'Bangalore/Bengaluru',\n",
       " 'Bangalore/Bengaluru',\n",
       " 'Hyderabad/Secunderabad, Chennai, Bangalore/Bengaluru',\n",
       " 'Bengaluru/Bangalore',\n",
       " 'Bangalore/Bengaluru',\n",
       " 'Bengaluru/Bangalore',\n",
       " 'Bengaluru/Bangalore',\n",
       " 'Hyderabad/Secunderabad, Chennai, Bangalore/Bengaluru',\n",
       " 'Bangalore/Bengaluru',\n",
       " 'Bangalore/Bengaluru',\n",
       " 'Bangalore/Bengaluru',\n",
       " 'Bangalore/Bengaluru',\n",
       " 'Bangalore/Bengaluru',\n",
       " 'Bangalore/Bengaluru',\n",
       " 'Bangalore/Bengaluru',\n",
       " 'Bangalore/Bengaluru',\n",
       " 'Bangalore/Bengaluru',\n",
       " 'Bangalore/Bengaluru']"
      ]
     },
     "execution_count": 85,
     "metadata": {},
     "output_type": "execute_result"
    }
   ],
   "source": [
    "location = []\n",
    "for  a in loc:\n",
    "    location.append(a.text)\n",
    "location"
   ]
  },
  {
   "cell_type": "code",
   "execution_count": 86,
   "metadata": {},
   "outputs": [
    {
     "data": {
      "text/plain": [
       "[<selenium.webdriver.remote.webelement.WebElement (session=\"e6681aefc40015acd562eeb165d34cc9\", element=\"cb0c277e-94b4-45c7-807e-10f1e8fa4d76\")>,\n",
       " <selenium.webdriver.remote.webelement.WebElement (session=\"e6681aefc40015acd562eeb165d34cc9\", element=\"1f65971a-c7d6-47b0-9d16-6185bc1a9b85\")>,\n",
       " <selenium.webdriver.remote.webelement.WebElement (session=\"e6681aefc40015acd562eeb165d34cc9\", element=\"7ecac590-78e6-483c-ae45-e15bcb67722f\")>,\n",
       " <selenium.webdriver.remote.webelement.WebElement (session=\"e6681aefc40015acd562eeb165d34cc9\", element=\"9f5b6bb2-7ac7-4ed6-ac65-38c227760f5b\")>,\n",
       " <selenium.webdriver.remote.webelement.WebElement (session=\"e6681aefc40015acd562eeb165d34cc9\", element=\"e3eb8327-48c8-4a56-9775-9b4f4226fa48\")>,\n",
       " <selenium.webdriver.remote.webelement.WebElement (session=\"e6681aefc40015acd562eeb165d34cc9\", element=\"a9fe512c-55d8-4d99-88b1-82c6898ce41e\")>,\n",
       " <selenium.webdriver.remote.webelement.WebElement (session=\"e6681aefc40015acd562eeb165d34cc9\", element=\"28f053cd-43fb-4e33-8d37-46187a836284\")>,\n",
       " <selenium.webdriver.remote.webelement.WebElement (session=\"e6681aefc40015acd562eeb165d34cc9\", element=\"7ebf99a0-6a21-45f3-90a1-5da9a3ca3b19\")>,\n",
       " <selenium.webdriver.remote.webelement.WebElement (session=\"e6681aefc40015acd562eeb165d34cc9\", element=\"45b366d8-d794-4b68-a633-7e405d9dceff\")>,\n",
       " <selenium.webdriver.remote.webelement.WebElement (session=\"e6681aefc40015acd562eeb165d34cc9\", element=\"607cae11-1273-4e86-94af-e409cc6adade\")>,\n",
       " <selenium.webdriver.remote.webelement.WebElement (session=\"e6681aefc40015acd562eeb165d34cc9\", element=\"e26910fb-ca2d-4446-bbf0-a304e2ae94a6\")>,\n",
       " <selenium.webdriver.remote.webelement.WebElement (session=\"e6681aefc40015acd562eeb165d34cc9\", element=\"cab3594e-3d47-480f-b5b9-e3e7bd83e2ea\")>,\n",
       " <selenium.webdriver.remote.webelement.WebElement (session=\"e6681aefc40015acd562eeb165d34cc9\", element=\"674fac3f-e6c5-4cf2-96c1-eb75e80e1120\")>,\n",
       " <selenium.webdriver.remote.webelement.WebElement (session=\"e6681aefc40015acd562eeb165d34cc9\", element=\"b6021b9f-1861-47ec-9d72-b97ee07b3d99\")>,\n",
       " <selenium.webdriver.remote.webelement.WebElement (session=\"e6681aefc40015acd562eeb165d34cc9\", element=\"ccfa13f8-db92-461e-ae07-29fd653bf414\")>,\n",
       " <selenium.webdriver.remote.webelement.WebElement (session=\"e6681aefc40015acd562eeb165d34cc9\", element=\"65a4a56c-e560-4689-814b-087e8f94916b\")>,\n",
       " <selenium.webdriver.remote.webelement.WebElement (session=\"e6681aefc40015acd562eeb165d34cc9\", element=\"af3f84f8-6af8-4170-b83d-f92d84e1f3b2\")>,\n",
       " <selenium.webdriver.remote.webelement.WebElement (session=\"e6681aefc40015acd562eeb165d34cc9\", element=\"ab47a4da-58e8-4aeb-a39d-0ecc4c869673\")>,\n",
       " <selenium.webdriver.remote.webelement.WebElement (session=\"e6681aefc40015acd562eeb165d34cc9\", element=\"0b8b0b68-dfef-49ee-8614-990222ff95cb\")>,\n",
       " <selenium.webdriver.remote.webelement.WebElement (session=\"e6681aefc40015acd562eeb165d34cc9\", element=\"5fe2d5c3-6ae0-43f5-913e-9541eb1b9488\")>]"
      ]
     },
     "execution_count": 86,
     "metadata": {},
     "output_type": "execute_result"
    }
   ],
   "source": [
    "des = driver.find_elements_by_xpath(\"//div[@class = 'job-description fs12 grey-text']\")\n",
    "des"
   ]
  },
  {
   "cell_type": "code",
   "execution_count": 87,
   "metadata": {},
   "outputs": [
    {
     "data": {
      "text/plain": [
       "['Experience in delivering data science solutions in multiple tenancies is a plus Have a ...',\n",
       " 'Demonstrated extensive experience in building and deploying production quality models i...',\n",
       " 'Demonstrated extensive experience in building and deploying production quality models i...',\n",
       " 'BS/ MS/ PhD in Computer Science, Statistics, Applied Math, or related areas from Premie...',\n",
       " 'Required Technical and Professional Expertise• 6+ years of industry work experience in ...',\n",
       " 'PhD / Masters in STEM-related fields with knowledge in Quantum ComputingRequired Techni...',\n",
       " 'Experience in creating and using advanced machine learning algorithms and statistics: r...',\n",
       " 'Experience in building and deploying production quality models in a live digital enviro...',\n",
       " 'IntroductionAs a Data Scientist at IBM, you will help transform our clients data into t...',\n",
       " \"Qualification: Bachelor's degree in Computer Science, Information Technology or related...\",\n",
       " '4+ years industry experience in a quantitative analysis roleExperience in Payments a st...',\n",
       " 'Masters/PhD in quantitative field (Computer Science, Mathematics, Machine Learning, AI,...',\n",
       " 'Preferred Bachelors of Science in Computer Science, Statistics, Math or Scientific Comp...',\n",
       " \"Kwalee is one of the world's leading multiplatform game publishers, with well over 600 ...\",\n",
       " 'The ideal candidate should possess programming experience in Python / R (C++ will be a ...',\n",
       " 'A Master s Degree or PhD in Computer Science, Econometrics, Artificial Intelligence, Ap...',\n",
       " 'BS / MS/PhD in Computer Science, Statistics, Applied Math, or related areas from Premie...',\n",
       " 'Education: Bachelors DegreeSkills Certifications: Languages:Years of Experience: 4 - 7 ...',\n",
       " 'We are looking for a Data Scientist for the Customer DNA (CDNA) group. The Data Scienti...',\n",
       " 'The candidate must also have expertise in programming traditional machine learning algo...']"
      ]
     },
     "execution_count": 87,
     "metadata": {},
     "output_type": "execute_result"
    }
   ],
   "source": [
    "description= []\n",
    "for b in des:\n",
    "    description.append(b.text)\n",
    "description\n",
    "    "
   ]
  },
  {
   "cell_type": "code",
   "execution_count": 88,
   "metadata": {},
   "outputs": [
    {
     "name": "stdout",
     "output_type": "stream",
     "text": [
      "20 20 20 20\n"
     ]
    }
   ],
   "source": [
    "print(len(Job_title),len(com),len(location),len(description))"
   ]
  },
  {
   "cell_type": "code",
   "execution_count": 89,
   "metadata": {},
   "outputs": [],
   "source": [
    "jobs = pd.DataFrame({})\n",
    "jobs[\"Job title\"] = Job_title[:10]\n",
    "jobs[\"Job location\"] = location[:10]\n",
    "jobs[\"Company name\"] = com[:10]\n",
    "jobs[\"Job description\"] = description[:10]"
   ]
  },
  {
   "cell_type": "code",
   "execution_count": 90,
   "metadata": {},
   "outputs": [
    {
     "data": {
      "text/html": [
       "<div>\n",
       "<style scoped>\n",
       "    .dataframe tbody tr th:only-of-type {\n",
       "        vertical-align: middle;\n",
       "    }\n",
       "\n",
       "    .dataframe tbody tr th {\n",
       "        vertical-align: top;\n",
       "    }\n",
       "\n",
       "    .dataframe thead th {\n",
       "        text-align: right;\n",
       "    }\n",
       "</style>\n",
       "<table border=\"1\" class=\"dataframe\">\n",
       "  <thead>\n",
       "    <tr style=\"text-align: right;\">\n",
       "      <th></th>\n",
       "      <th>Job title</th>\n",
       "      <th>Job location</th>\n",
       "      <th>Company name</th>\n",
       "      <th>Job description</th>\n",
       "    </tr>\n",
       "  </thead>\n",
       "  <tbody>\n",
       "    <tr>\n",
       "      <th>0</th>\n",
       "      <td>Data Scientist</td>\n",
       "      <td>Noida, Bangalore/Bengaluru</td>\n",
       "      <td>Oracle India Pvt. Ltd.</td>\n",
       "      <td>Experience in delivering data science solution...</td>\n",
       "    </tr>\n",
       "    <tr>\n",
       "      <th>1</th>\n",
       "      <td>Sr Data Scientist</td>\n",
       "      <td>Bengaluru/Bangalore</td>\n",
       "      <td>IBM India Pvt. Limited</td>\n",
       "      <td>Demonstrated extensive experience in building ...</td>\n",
       "    </tr>\n",
       "    <tr>\n",
       "      <th>2</th>\n",
       "      <td>Sr Data Scientist</td>\n",
       "      <td>Bangalore/Bengaluru</td>\n",
       "      <td>IBM India Pvt. Limited</td>\n",
       "      <td>Demonstrated extensive experience in building ...</td>\n",
       "    </tr>\n",
       "    <tr>\n",
       "      <th>3</th>\n",
       "      <td>Lead Data Scientist - Machine Learning/ Data M...</td>\n",
       "      <td>Bangalore/Bengaluru</td>\n",
       "      <td>Wrackle Technologies Pvt Ltd</td>\n",
       "      <td>BS/ MS/ PhD in Computer Science, Statistics, A...</td>\n",
       "    </tr>\n",
       "    <tr>\n",
       "      <th>4</th>\n",
       "      <td>Data Scientist (Python &amp; SQL)</td>\n",
       "      <td>Hyderabad/Secunderabad, Chennai, Bangalore/Ben...</td>\n",
       "      <td>AVE-Promagne</td>\n",
       "      <td>Required Technical and Professional Expertise•...</td>\n",
       "    </tr>\n",
       "    <tr>\n",
       "      <th>5</th>\n",
       "      <td>Data Scientist: Advanced Analytics</td>\n",
       "      <td>Bengaluru/Bangalore</td>\n",
       "      <td>IBM India Pvt. Limited</td>\n",
       "      <td>PhD / Masters in STEM-related fields with know...</td>\n",
       "    </tr>\n",
       "    <tr>\n",
       "      <th>6</th>\n",
       "      <td>Data Scientist</td>\n",
       "      <td>Bangalore/Bengaluru</td>\n",
       "      <td>Schneider Electric India Pvt. Ltd.</td>\n",
       "      <td>Experience in creating and using advanced mach...</td>\n",
       "    </tr>\n",
       "    <tr>\n",
       "      <th>7</th>\n",
       "      <td>Data Scientist</td>\n",
       "      <td>Bengaluru/Bangalore</td>\n",
       "      <td>IBM India Pvt. Limited</td>\n",
       "      <td>Experience in building and deploying productio...</td>\n",
       "    </tr>\n",
       "    <tr>\n",
       "      <th>8</th>\n",
       "      <td>Cognitive Data Scientist</td>\n",
       "      <td>Bengaluru/Bangalore</td>\n",
       "      <td>IBM India Pvt. Limited</td>\n",
       "      <td>IntroductionAs a Data Scientist at IBM, you wi...</td>\n",
       "    </tr>\n",
       "    <tr>\n",
       "      <th>9</th>\n",
       "      <td>Data Scientist + Python + Big DATA</td>\n",
       "      <td>Hyderabad/Secunderabad, Chennai, Bangalore/Ben...</td>\n",
       "      <td>Capgemini Technology Services India Limited</td>\n",
       "      <td>Qualification: Bachelor's degree in Computer S...</td>\n",
       "    </tr>\n",
       "  </tbody>\n",
       "</table>\n",
       "</div>"
      ],
      "text/plain": [
       "                                           Job title  \\\n",
       "0                                     Data Scientist   \n",
       "1                                  Sr Data Scientist   \n",
       "2                                  Sr Data Scientist   \n",
       "3  Lead Data Scientist - Machine Learning/ Data M...   \n",
       "4                      Data Scientist (Python & SQL)   \n",
       "5                 Data Scientist: Advanced Analytics   \n",
       "6                                     Data Scientist   \n",
       "7                                     Data Scientist   \n",
       "8                           Cognitive Data Scientist   \n",
       "9                 Data Scientist + Python + Big DATA   \n",
       "\n",
       "                                        Job location  \\\n",
       "0                         Noida, Bangalore/Bengaluru   \n",
       "1                                Bengaluru/Bangalore   \n",
       "2                                Bangalore/Bengaluru   \n",
       "3                                Bangalore/Bengaluru   \n",
       "4  Hyderabad/Secunderabad, Chennai, Bangalore/Ben...   \n",
       "5                                Bengaluru/Bangalore   \n",
       "6                                Bangalore/Bengaluru   \n",
       "7                                Bengaluru/Bangalore   \n",
       "8                                Bengaluru/Bangalore   \n",
       "9  Hyderabad/Secunderabad, Chennai, Bangalore/Ben...   \n",
       "\n",
       "                                  Company name  \\\n",
       "0                       Oracle India Pvt. Ltd.   \n",
       "1                       IBM India Pvt. Limited   \n",
       "2                       IBM India Pvt. Limited   \n",
       "3                 Wrackle Technologies Pvt Ltd   \n",
       "4                                 AVE-Promagne   \n",
       "5                       IBM India Pvt. Limited   \n",
       "6           Schneider Electric India Pvt. Ltd.   \n",
       "7                       IBM India Pvt. Limited   \n",
       "8                       IBM India Pvt. Limited   \n",
       "9  Capgemini Technology Services India Limited   \n",
       "\n",
       "                                     Job description  \n",
       "0  Experience in delivering data science solution...  \n",
       "1  Demonstrated extensive experience in building ...  \n",
       "2  Demonstrated extensive experience in building ...  \n",
       "3  BS/ MS/ PhD in Computer Science, Statistics, A...  \n",
       "4  Required Technical and Professional Expertise•...  \n",
       "5  PhD / Masters in STEM-related fields with know...  \n",
       "6  Experience in creating and using advanced mach...  \n",
       "7  Experience in building and deploying productio...  \n",
       "8  IntroductionAs a Data Scientist at IBM, you wi...  \n",
       "9  Qualification: Bachelor's degree in Computer S...  "
      ]
     },
     "execution_count": 90,
     "metadata": {},
     "output_type": "execute_result"
    }
   ],
   "source": [
    "jobs"
   ]
  },
  {
   "cell_type": "markdown",
   "metadata": {},
   "source": [
    "# Q.3) A program to scarpe data for Data scientist on web page using the filter boxes"
   ]
  },
  {
   "cell_type": "code",
   "execution_count": 3,
   "metadata": {},
   "outputs": [],
   "source": [
    "driver = webdriver.Chrome('chromedriver.exe')\n",
    "url = \"https://www.naukri.com/\"\n",
    "driver.get(url)"
   ]
  },
  {
   "cell_type": "code",
   "execution_count": 4,
   "metadata": {},
   "outputs": [
    {
     "data": {
      "text/plain": [
       "<selenium.webdriver.remote.webelement.WebElement (session=\"ed188f048aa3b550ab0bb1a9a69e300b\", element=\"803c4966-193c-4dd4-9d8a-8afa7a39521b\")>"
      ]
     },
     "execution_count": 4,
     "metadata": {},
     "output_type": "execute_result"
    }
   ],
   "source": [
    "search2 = driver.find_element_by_id('qsb-keyword-sugg')\n",
    "search2"
   ]
  },
  {
   "cell_type": "code",
   "execution_count": 5,
   "metadata": {},
   "outputs": [
    {
     "data": {
      "text/plain": [
       "<selenium.webdriver.remote.webelement.WebElement (session=\"ed188f048aa3b550ab0bb1a9a69e300b\", element=\"803c4966-193c-4dd4-9d8a-8afa7a39521b\")>"
      ]
     },
     "execution_count": 5,
     "metadata": {},
     "output_type": "execute_result"
    }
   ],
   "source": [
    "search2.send_keys('Data Scientist')\n",
    "search2"
   ]
  },
  {
   "cell_type": "code",
   "execution_count": 6,
   "metadata": {},
   "outputs": [
    {
     "data": {
      "text/plain": [
       "<selenium.webdriver.remote.webelement.WebElement (session=\"ed188f048aa3b550ab0bb1a9a69e300b\", element=\"63b42ee4-41d8-4771-bfed-5f0448879d60\")>"
      ]
     },
     "execution_count": 6,
     "metadata": {},
     "output_type": "execute_result"
    }
   ],
   "source": [
    "loc2 = driver.find_element_by_id('qsb-location-sugg')\n",
    "loc2"
   ]
  },
  {
   "cell_type": "code",
   "execution_count": 7,
   "metadata": {},
   "outputs": [
    {
     "data": {
      "text/plain": [
       "<selenium.webdriver.remote.webelement.WebElement (session=\"ed188f048aa3b550ab0bb1a9a69e300b\", element=\"63b42ee4-41d8-4771-bfed-5f0448879d60\")>"
      ]
     },
     "execution_count": 7,
     "metadata": {},
     "output_type": "execute_result"
    }
   ],
   "source": [
    "loc2.send_keys('Delhi/NCR')\n",
    "loc2"
   ]
  },
  {
   "cell_type": "code",
   "execution_count": 8,
   "metadata": {},
   "outputs": [],
   "source": [
    "button2 = driver.find_element_by_xpath(\"//div[@class='search-btn']\")"
   ]
  },
  {
   "cell_type": "code",
   "execution_count": 9,
   "metadata": {},
   "outputs": [],
   "source": [
    "button2.click()"
   ]
  },
  {
   "cell_type": "code",
   "execution_count": 10,
   "metadata": {},
   "outputs": [],
   "source": [
    "location3 = driver.find_element_by_xpath(\"//span[@title='Delhi / NCR']\")\n",
    "location3.click()"
   ]
  },
  {
   "cell_type": "code",
   "execution_count": 11,
   "metadata": {},
   "outputs": [],
   "source": [
    "income = driver.find_element_by_xpath(\"//span[@title='0-3 Lakhs']\")\n",
    "income.click()"
   ]
  },
  {
   "cell_type": "code",
   "execution_count": 12,
   "metadata": {},
   "outputs": [
    {
     "data": {
      "text/plain": [
       "[<selenium.webdriver.remote.webelement.WebElement (session=\"ed188f048aa3b550ab0bb1a9a69e300b\", element=\"fcb4fe95-5900-4c10-a585-76e4d49dfb65\")>,\n",
       " <selenium.webdriver.remote.webelement.WebElement (session=\"ed188f048aa3b550ab0bb1a9a69e300b\", element=\"bd0b3948-9516-48de-b049-e04e02be0ea6\")>,\n",
       " <selenium.webdriver.remote.webelement.WebElement (session=\"ed188f048aa3b550ab0bb1a9a69e300b\", element=\"3fbfabbe-ad6f-4c95-bf5f-e8814c8307ab\")>,\n",
       " <selenium.webdriver.remote.webelement.WebElement (session=\"ed188f048aa3b550ab0bb1a9a69e300b\", element=\"06e8aed1-ee9d-48ad-88f6-57503715efe6\")>,\n",
       " <selenium.webdriver.remote.webelement.WebElement (session=\"ed188f048aa3b550ab0bb1a9a69e300b\", element=\"68d5a2e2-7066-43bc-b01c-17f33902b99b\")>,\n",
       " <selenium.webdriver.remote.webelement.WebElement (session=\"ed188f048aa3b550ab0bb1a9a69e300b\", element=\"ddd2ec22-3b55-47c3-94bb-e7dc278da871\")>,\n",
       " <selenium.webdriver.remote.webelement.WebElement (session=\"ed188f048aa3b550ab0bb1a9a69e300b\", element=\"174e3b47-09ad-4277-ad13-c68db1dd28a9\")>,\n",
       " <selenium.webdriver.remote.webelement.WebElement (session=\"ed188f048aa3b550ab0bb1a9a69e300b\", element=\"fdc1d707-03b7-478b-aa90-e2b0eebab948\")>,\n",
       " <selenium.webdriver.remote.webelement.WebElement (session=\"ed188f048aa3b550ab0bb1a9a69e300b\", element=\"3ed12306-3028-425f-8ebd-dcb79ef6eba4\")>,\n",
       " <selenium.webdriver.remote.webelement.WebElement (session=\"ed188f048aa3b550ab0bb1a9a69e300b\", element=\"30fa98ec-1d16-4fae-bd44-e7bda3b00d29\")>,\n",
       " <selenium.webdriver.remote.webelement.WebElement (session=\"ed188f048aa3b550ab0bb1a9a69e300b\", element=\"e592b5f3-4119-477c-a4c1-0a68f7ec7e5c\")>,\n",
       " <selenium.webdriver.remote.webelement.WebElement (session=\"ed188f048aa3b550ab0bb1a9a69e300b\", element=\"91bc21e1-2157-4430-9919-5feaa59cff68\")>,\n",
       " <selenium.webdriver.remote.webelement.WebElement (session=\"ed188f048aa3b550ab0bb1a9a69e300b\", element=\"2ce6ad20-ffa7-4295-8fe9-9bdbda6c2096\")>,\n",
       " <selenium.webdriver.remote.webelement.WebElement (session=\"ed188f048aa3b550ab0bb1a9a69e300b\", element=\"34081a5f-6387-4e70-992e-618027b55ef5\")>,\n",
       " <selenium.webdriver.remote.webelement.WebElement (session=\"ed188f048aa3b550ab0bb1a9a69e300b\", element=\"8a4e9c38-d961-4321-bdf5-b4111534f6dd\")>,\n",
       " <selenium.webdriver.remote.webelement.WebElement (session=\"ed188f048aa3b550ab0bb1a9a69e300b\", element=\"534fbefc-f135-47af-b219-051f4962d752\")>,\n",
       " <selenium.webdriver.remote.webelement.WebElement (session=\"ed188f048aa3b550ab0bb1a9a69e300b\", element=\"dfd3659e-0330-4254-8360-880b3c74ddf1\")>,\n",
       " <selenium.webdriver.remote.webelement.WebElement (session=\"ed188f048aa3b550ab0bb1a9a69e300b\", element=\"3bf9354c-ed36-40e1-8651-510c4cf06d6a\")>,\n",
       " <selenium.webdriver.remote.webelement.WebElement (session=\"ed188f048aa3b550ab0bb1a9a69e300b\", element=\"b2660ad0-9ce3-4857-9a65-ebbf2975bf98\")>,\n",
       " <selenium.webdriver.remote.webelement.WebElement (session=\"ed188f048aa3b550ab0bb1a9a69e300b\", element=\"3c309362-4f0b-48a1-90d8-1aa8b0c482bf\")>]"
      ]
     },
     "execution_count": 12,
     "metadata": {},
     "output_type": "execute_result"
    }
   ],
   "source": [
    "varjob1 = driver.find_elements_by_xpath(\"//a[@class='title fw500 ellipsis']\")\n",
    "varjob1"
   ]
  },
  {
   "cell_type": "code",
   "execution_count": 13,
   "metadata": {},
   "outputs": [
    {
     "data": {
      "text/plain": [
       "['Data Scientist / Data Analyst',\n",
       " 'Data Scientist',\n",
       " 'Data Scientist / Data Analyst / Business Analytics - MNC Jobs Freshers',\n",
       " 'Data Scientist - Machine Learning/ NLP',\n",
       " 'Junior Data Scientists & Engineers',\n",
       " 'Data Scientist',\n",
       " 'Ecosystem Data Scientist Manager_MNC',\n",
       " 'Data Scientist',\n",
       " 'Data Scientist Intern',\n",
       " 'Developers, Data Scientists, Web Designers, Android Developers',\n",
       " 'Data Engineer / Quality Analyst / Healthcare Associate Analytics - MNC',\n",
       " 'Data Hygiene Analyst',\n",
       " 'Data Hygiene Analyst',\n",
       " 'Data Research Analyst internships',\n",
       " 'MNC - Data Engineer / Data Quality Intern / Process Analyst Associate',\n",
       " 'Data Analyst- O2C (FMCG/CPG industry Preferred)- Night Shift',\n",
       " 'Data Analyst - Marketing',\n",
       " 'Junior Data Analyst',\n",
       " 'Associate Analyst- Data Privacy',\n",
       " 'MNC - Data Engineer / Data Quality Intern / Process Analyst Associate']"
      ]
     },
     "execution_count": 13,
     "metadata": {},
     "output_type": "execute_result"
    }
   ],
   "source": [
    "Job_title2 = []\n",
    "for a in varjob1:\n",
    "    Job_title2.append(a.text)\n",
    "Job_title2"
   ]
  },
  {
   "cell_type": "code",
   "execution_count": 14,
   "metadata": {},
   "outputs": [
    {
     "data": {
      "text/plain": [
       "[<selenium.webdriver.remote.webelement.WebElement (session=\"ed188f048aa3b550ab0bb1a9a69e300b\", element=\"45af6bd9-7673-4f91-abd1-1bec3b536d11\")>,\n",
       " <selenium.webdriver.remote.webelement.WebElement (session=\"ed188f048aa3b550ab0bb1a9a69e300b\", element=\"62d5e543-9d20-40c5-b511-f432db974c24\")>,\n",
       " <selenium.webdriver.remote.webelement.WebElement (session=\"ed188f048aa3b550ab0bb1a9a69e300b\", element=\"5dbf5f3d-6c09-4d14-be0b-21c6b0d0d361\")>,\n",
       " <selenium.webdriver.remote.webelement.WebElement (session=\"ed188f048aa3b550ab0bb1a9a69e300b\", element=\"660e3dd4-9abf-486a-9bc3-fcf1637b5eaa\")>,\n",
       " <selenium.webdriver.remote.webelement.WebElement (session=\"ed188f048aa3b550ab0bb1a9a69e300b\", element=\"2ca1f6d1-fafa-47c1-872c-781c2db1d5f1\")>,\n",
       " <selenium.webdriver.remote.webelement.WebElement (session=\"ed188f048aa3b550ab0bb1a9a69e300b\", element=\"cb7e2a8e-8b6c-496d-9ac1-1c830c0ee316\")>,\n",
       " <selenium.webdriver.remote.webelement.WebElement (session=\"ed188f048aa3b550ab0bb1a9a69e300b\", element=\"dfa23895-24a5-464d-872c-8b7112272d9e\")>,\n",
       " <selenium.webdriver.remote.webelement.WebElement (session=\"ed188f048aa3b550ab0bb1a9a69e300b\", element=\"2bbb9c21-0d7d-437a-b167-147956fb7518\")>,\n",
       " <selenium.webdriver.remote.webelement.WebElement (session=\"ed188f048aa3b550ab0bb1a9a69e300b\", element=\"ba448e83-5b98-4d84-bcc6-9938f6dd4dc8\")>,\n",
       " <selenium.webdriver.remote.webelement.WebElement (session=\"ed188f048aa3b550ab0bb1a9a69e300b\", element=\"bd009e71-45f6-48ee-ac1b-d448fe920534\")>,\n",
       " <selenium.webdriver.remote.webelement.WebElement (session=\"ed188f048aa3b550ab0bb1a9a69e300b\", element=\"0734a305-ddf0-436c-8b2d-ab30ee5f6a5e\")>,\n",
       " <selenium.webdriver.remote.webelement.WebElement (session=\"ed188f048aa3b550ab0bb1a9a69e300b\", element=\"62f48aa5-6d48-46f4-bbd0-2aa8dcf8fc8a\")>,\n",
       " <selenium.webdriver.remote.webelement.WebElement (session=\"ed188f048aa3b550ab0bb1a9a69e300b\", element=\"0a60096a-c6c0-421e-a2a5-a68d78ecc9b6\")>,\n",
       " <selenium.webdriver.remote.webelement.WebElement (session=\"ed188f048aa3b550ab0bb1a9a69e300b\", element=\"63581bd6-4284-42b8-8004-a3bf6eb4c82f\")>,\n",
       " <selenium.webdriver.remote.webelement.WebElement (session=\"ed188f048aa3b550ab0bb1a9a69e300b\", element=\"24bd0c65-173a-41d1-8e6a-ebba57dd8f1a\")>,\n",
       " <selenium.webdriver.remote.webelement.WebElement (session=\"ed188f048aa3b550ab0bb1a9a69e300b\", element=\"8451b956-ae66-4901-8457-d53d36c8ff15\")>,\n",
       " <selenium.webdriver.remote.webelement.WebElement (session=\"ed188f048aa3b550ab0bb1a9a69e300b\", element=\"2118bde7-067d-41aa-b570-7913321ecaa0\")>,\n",
       " <selenium.webdriver.remote.webelement.WebElement (session=\"ed188f048aa3b550ab0bb1a9a69e300b\", element=\"1234b18c-e0b4-44a1-973a-e169abefa75d\")>,\n",
       " <selenium.webdriver.remote.webelement.WebElement (session=\"ed188f048aa3b550ab0bb1a9a69e300b\", element=\"ef15376a-0dae-4fc0-a26d-192cb2ae829b\")>,\n",
       " <selenium.webdriver.remote.webelement.WebElement (session=\"ed188f048aa3b550ab0bb1a9a69e300b\", element=\"6e31c21a-ad9a-4b06-a1b1-3ba2bcad2240\")>]"
      ]
     },
     "execution_count": 14,
     "metadata": {},
     "output_type": "execute_result"
    }
   ],
   "source": [
    "Area1 = driver.find_elements_by_xpath(\"//li[@class='fleft grey-text br2 placeHolderLi location']\")\n",
    "Area1"
   ]
  },
  {
   "cell_type": "code",
   "execution_count": 15,
   "metadata": {},
   "outputs": [
    {
     "data": {
      "text/plain": [
       "['Gurgaon/Gurugram',\n",
       " 'Noida, Noida',\n",
       " 'Noida, New Delhi, Gurgaon/Gurugram',\n",
       " 'Gurgaon/Gurugram',\n",
       " 'New Delhi, Delhi / NCR',\n",
       " 'Noida',\n",
       " 'Gurgaon/Gurugram, Bangalore/Bengaluru, Mumbai (All Areas)\\n(WFH during Covid)',\n",
       " 'Noida',\n",
       " 'Noida',\n",
       " 'Noida',\n",
       " 'Noida, Gurgaon/Gurugram, Delhi / NCR',\n",
       " 'Noida',\n",
       " 'Noida',\n",
       " 'New Delhi',\n",
       " 'Noida, Ghaziabad, Delhi / NCR',\n",
       " 'Noida',\n",
       " 'New Delhi',\n",
       " 'Delhi',\n",
       " 'Noida, Hyderabad/Secunderabad, Pune, Delhi / NCR, Bangalore/Bengaluru, Mumbai (All Areas)',\n",
       " 'Noida, Gurgaon/Gurugram, Delhi / NCR']"
      ]
     },
     "execution_count": 15,
     "metadata": {},
     "output_type": "execute_result"
    }
   ],
   "source": [
    "Location2 = []\n",
    "for i in Area1:\n",
    "    Location2.append(i.text)\n",
    "Location2"
   ]
  },
  {
   "cell_type": "code",
   "execution_count": 16,
   "metadata": {},
   "outputs": [
    {
     "data": {
      "text/plain": [
       "[<selenium.webdriver.remote.webelement.WebElement (session=\"ed188f048aa3b550ab0bb1a9a69e300b\", element=\"109a61ab-eaca-48e3-9423-14b29bcdace5\")>,\n",
       " <selenium.webdriver.remote.webelement.WebElement (session=\"ed188f048aa3b550ab0bb1a9a69e300b\", element=\"7399bebb-cdb4-4cd8-a2b1-92210861c826\")>,\n",
       " <selenium.webdriver.remote.webelement.WebElement (session=\"ed188f048aa3b550ab0bb1a9a69e300b\", element=\"f62c949b-3700-43c4-a117-2ffea05470bc\")>,\n",
       " <selenium.webdriver.remote.webelement.WebElement (session=\"ed188f048aa3b550ab0bb1a9a69e300b\", element=\"5b803c25-d9c8-47cc-9080-dea7ab9c2749\")>,\n",
       " <selenium.webdriver.remote.webelement.WebElement (session=\"ed188f048aa3b550ab0bb1a9a69e300b\", element=\"a5e13d8a-a1b4-4d0b-802a-507a57463082\")>,\n",
       " <selenium.webdriver.remote.webelement.WebElement (session=\"ed188f048aa3b550ab0bb1a9a69e300b\", element=\"5a58152c-9429-4748-b3bc-858bf7c0c9c0\")>,\n",
       " <selenium.webdriver.remote.webelement.WebElement (session=\"ed188f048aa3b550ab0bb1a9a69e300b\", element=\"7d1a1805-bb93-4bed-b7da-0dead41698c0\")>,\n",
       " <selenium.webdriver.remote.webelement.WebElement (session=\"ed188f048aa3b550ab0bb1a9a69e300b\", element=\"6eb06742-ec10-4a5f-8f08-49352322eebd\")>,\n",
       " <selenium.webdriver.remote.webelement.WebElement (session=\"ed188f048aa3b550ab0bb1a9a69e300b\", element=\"bf505eec-171a-4784-9ad0-ff5eab70841f\")>,\n",
       " <selenium.webdriver.remote.webelement.WebElement (session=\"ed188f048aa3b550ab0bb1a9a69e300b\", element=\"8b7dd6f4-64e5-4119-bc54-f37cec736b8d\")>,\n",
       " <selenium.webdriver.remote.webelement.WebElement (session=\"ed188f048aa3b550ab0bb1a9a69e300b\", element=\"4acf8217-6c59-48b7-a9d0-1d87ec1f9ee6\")>,\n",
       " <selenium.webdriver.remote.webelement.WebElement (session=\"ed188f048aa3b550ab0bb1a9a69e300b\", element=\"5d6da06d-dcf3-480b-8eaf-17a7f6602344\")>,\n",
       " <selenium.webdriver.remote.webelement.WebElement (session=\"ed188f048aa3b550ab0bb1a9a69e300b\", element=\"86b3ffe0-c810-4fb0-bc6e-0cbfe84cab61\")>,\n",
       " <selenium.webdriver.remote.webelement.WebElement (session=\"ed188f048aa3b550ab0bb1a9a69e300b\", element=\"d29043aa-ae73-4e58-9830-497c992319d0\")>,\n",
       " <selenium.webdriver.remote.webelement.WebElement (session=\"ed188f048aa3b550ab0bb1a9a69e300b\", element=\"3c9959e3-6d62-4ee0-930b-841fc2fef918\")>,\n",
       " <selenium.webdriver.remote.webelement.WebElement (session=\"ed188f048aa3b550ab0bb1a9a69e300b\", element=\"e2312165-e10c-490a-85bd-3fc079543388\")>,\n",
       " <selenium.webdriver.remote.webelement.WebElement (session=\"ed188f048aa3b550ab0bb1a9a69e300b\", element=\"d55fa75a-70e1-4621-89aa-27a55f4f7a65\")>,\n",
       " <selenium.webdriver.remote.webelement.WebElement (session=\"ed188f048aa3b550ab0bb1a9a69e300b\", element=\"72b54d8d-315a-499a-b420-ffe15c07db2b\")>,\n",
       " <selenium.webdriver.remote.webelement.WebElement (session=\"ed188f048aa3b550ab0bb1a9a69e300b\", element=\"80196770-9140-47a6-b6e6-e3ea5e3eb4bf\")>,\n",
       " <selenium.webdriver.remote.webelement.WebElement (session=\"ed188f048aa3b550ab0bb1a9a69e300b\", element=\"85bb772d-58a1-4e49-99f8-5d0f98392c84\")>]"
      ]
     },
     "execution_count": 16,
     "metadata": {},
     "output_type": "execute_result"
    }
   ],
   "source": [
    "varname1 = driver.find_elements_by_xpath(\"//a[@class='subTitle ellipsis fleft']\")\n",
    "varname1"
   ]
  },
  {
   "cell_type": "code",
   "execution_count": 17,
   "metadata": {},
   "outputs": [
    {
     "data": {
      "text/plain": [
       "['CARS24',\n",
       " '2coms',\n",
       " 'GABA Consultancy services',\n",
       " 'TalPro',\n",
       " 'PY Consultancy',\n",
       " 'Jubna',\n",
       " 'Gladwin Analytics Private Limited (OPC)',\n",
       " 'Gauge Data Solutions Pvt Ltd',\n",
       " 'Salasar New Age Technologies',\n",
       " 'Cogmac Technologies',\n",
       " 'GABA Consultancy services',\n",
       " 'INNOVACCER ANALYTICS PRIVATE LIMITED',\n",
       " 'INNOVACCER ANALYTICS PRIVATE LIMITED',\n",
       " 'iHackers Inc',\n",
       " 'GABA Consultancy services',\n",
       " 'GENPACT India Private Limited',\n",
       " 'SignCatch Inc',\n",
       " 'SiCureMi Healthcare Technologies',\n",
       " 'EYGBS',\n",
       " 'GABA Consultancy services']"
      ]
     },
     "execution_count": 17,
     "metadata": {},
     "output_type": "execute_result"
    }
   ],
   "source": [
    "com_name1 = []\n",
    "for a in varname1:\n",
    "    com_name1.append(a.text)\n",
    "com_name1"
   ]
  },
  {
   "cell_type": "code",
   "execution_count": 18,
   "metadata": {},
   "outputs": [
    {
     "data": {
      "text/plain": [
       "[<selenium.webdriver.remote.webelement.WebElement (session=\"ed188f048aa3b550ab0bb1a9a69e300b\", element=\"b955f38f-f9d1-4242-aaa3-c8e9cd704d2c\")>,\n",
       " <selenium.webdriver.remote.webelement.WebElement (session=\"ed188f048aa3b550ab0bb1a9a69e300b\", element=\"7860cf22-e85a-42af-aef7-f8b21cc56acf\")>,\n",
       " <selenium.webdriver.remote.webelement.WebElement (session=\"ed188f048aa3b550ab0bb1a9a69e300b\", element=\"6f9dd177-0885-4ef9-ab3c-3b34e074d4af\")>,\n",
       " <selenium.webdriver.remote.webelement.WebElement (session=\"ed188f048aa3b550ab0bb1a9a69e300b\", element=\"c5be7f69-2396-4df4-b352-3d9fc41a25f5\")>,\n",
       " <selenium.webdriver.remote.webelement.WebElement (session=\"ed188f048aa3b550ab0bb1a9a69e300b\", element=\"85df9793-a867-4212-b774-b22ed27e58df\")>,\n",
       " <selenium.webdriver.remote.webelement.WebElement (session=\"ed188f048aa3b550ab0bb1a9a69e300b\", element=\"bcaf6494-373e-4d76-9e7f-002e3b085a82\")>,\n",
       " <selenium.webdriver.remote.webelement.WebElement (session=\"ed188f048aa3b550ab0bb1a9a69e300b\", element=\"66ca72c4-f79b-4b66-b663-350cfbbfb5f6\")>,\n",
       " <selenium.webdriver.remote.webelement.WebElement (session=\"ed188f048aa3b550ab0bb1a9a69e300b\", element=\"4ced76ee-79d9-4333-884b-05530ee580e7\")>,\n",
       " <selenium.webdriver.remote.webelement.WebElement (session=\"ed188f048aa3b550ab0bb1a9a69e300b\", element=\"11fb4e42-36bd-4ca9-a8c1-7a9b0c415784\")>,\n",
       " <selenium.webdriver.remote.webelement.WebElement (session=\"ed188f048aa3b550ab0bb1a9a69e300b\", element=\"6d0bedfb-e44f-4c10-931d-7fd7cfaf58d1\")>,\n",
       " <selenium.webdriver.remote.webelement.WebElement (session=\"ed188f048aa3b550ab0bb1a9a69e300b\", element=\"58c897ae-1ba3-4b99-aa5e-d76dde73b3dc\")>,\n",
       " <selenium.webdriver.remote.webelement.WebElement (session=\"ed188f048aa3b550ab0bb1a9a69e300b\", element=\"7da220c2-04ff-4c15-a88a-be54b4eaa273\")>,\n",
       " <selenium.webdriver.remote.webelement.WebElement (session=\"ed188f048aa3b550ab0bb1a9a69e300b\", element=\"3de48ac6-2dfd-4224-a8e4-6d251938d65f\")>,\n",
       " <selenium.webdriver.remote.webelement.WebElement (session=\"ed188f048aa3b550ab0bb1a9a69e300b\", element=\"c8c05985-5dfd-4a2a-81a5-0484660a7b20\")>,\n",
       " <selenium.webdriver.remote.webelement.WebElement (session=\"ed188f048aa3b550ab0bb1a9a69e300b\", element=\"1972bd4a-1a58-4b02-90ba-f975d237b990\")>,\n",
       " <selenium.webdriver.remote.webelement.WebElement (session=\"ed188f048aa3b550ab0bb1a9a69e300b\", element=\"2c90b35d-caa6-417a-a947-3c969d5bad3c\")>,\n",
       " <selenium.webdriver.remote.webelement.WebElement (session=\"ed188f048aa3b550ab0bb1a9a69e300b\", element=\"336776a4-92ba-4ec7-97fb-f2d88e1bfe4e\")>,\n",
       " <selenium.webdriver.remote.webelement.WebElement (session=\"ed188f048aa3b550ab0bb1a9a69e300b\", element=\"d5c808bb-180f-4000-ad04-4f870c25e085\")>,\n",
       " <selenium.webdriver.remote.webelement.WebElement (session=\"ed188f048aa3b550ab0bb1a9a69e300b\", element=\"b1b25c31-aa23-4192-8d2a-c38ec923f626\")>,\n",
       " <selenium.webdriver.remote.webelement.WebElement (session=\"ed188f048aa3b550ab0bb1a9a69e300b\", element=\"43823787-d338-4e65-a5e1-9c20708025b4\")>]"
      ]
     },
     "execution_count": 18,
     "metadata": {},
     "output_type": "execute_result"
    }
   ],
   "source": [
    "varexp1 = driver.find_elements_by_xpath(\"//li[@class='fleft grey-text br2 placeHolderLi experience']\")\n",
    "varexp1"
   ]
  },
  {
   "cell_type": "code",
   "execution_count": 19,
   "metadata": {},
   "outputs": [
    {
     "data": {
      "text/plain": [
       "['1-5 Yrs',\n",
       " '1-6 Yrs',\n",
       " '0-0 Yrs',\n",
       " '2-6 Yrs',\n",
       " '0-3 Yrs',\n",
       " '3-5 Yrs',\n",
       " '10-15 Yrs',\n",
       " '2-7 Yrs',\n",
       " '0-2 Yrs',\n",
       " '1-5 Yrs',\n",
       " '0-5 Yrs',\n",
       " '0-2 Yrs',\n",
       " '0-2 Yrs',\n",
       " '0-2 Yrs',\n",
       " '0-5 Yrs',\n",
       " '1-2 Yrs',\n",
       " '0-2 Yrs',\n",
       " '0-2 Yrs',\n",
       " '1-3 Yrs',\n",
       " '0-5 Yrs']"
      ]
     },
     "execution_count": 19,
     "metadata": {},
     "output_type": "execute_result"
    }
   ],
   "source": [
    "Experience1 = []\n",
    "for i in varexp1:\n",
    "    Experience1.append(i.text)\n",
    "Experience1"
   ]
  },
  {
   "cell_type": "code",
   "execution_count": 20,
   "metadata": {},
   "outputs": [
    {
     "data": {
      "text/html": [
       "<div>\n",
       "<style scoped>\n",
       "    .dataframe tbody tr th:only-of-type {\n",
       "        vertical-align: middle;\n",
       "    }\n",
       "\n",
       "    .dataframe tbody tr th {\n",
       "        vertical-align: top;\n",
       "    }\n",
       "\n",
       "    .dataframe thead th {\n",
       "        text-align: right;\n",
       "    }\n",
       "</style>\n",
       "<table border=\"1\" class=\"dataframe\">\n",
       "  <thead>\n",
       "    <tr style=\"text-align: right;\">\n",
       "      <th></th>\n",
       "      <th>Job Title</th>\n",
       "      <th>Job Location</th>\n",
       "      <th>Compaines Name</th>\n",
       "      <th>Experience Required</th>\n",
       "    </tr>\n",
       "  </thead>\n",
       "  <tbody>\n",
       "    <tr>\n",
       "      <th>0</th>\n",
       "      <td>Data Scientist / Data Analyst</td>\n",
       "      <td>Gurgaon/Gurugram</td>\n",
       "      <td>CARS24</td>\n",
       "      <td>1-5 Yrs</td>\n",
       "    </tr>\n",
       "    <tr>\n",
       "      <th>1</th>\n",
       "      <td>Data Scientist</td>\n",
       "      <td>Noida, Noida</td>\n",
       "      <td>2coms</td>\n",
       "      <td>1-6 Yrs</td>\n",
       "    </tr>\n",
       "    <tr>\n",
       "      <th>2</th>\n",
       "      <td>Data Scientist / Data Analyst / Business Analy...</td>\n",
       "      <td>Noida, New Delhi, Gurgaon/Gurugram</td>\n",
       "      <td>GABA Consultancy services</td>\n",
       "      <td>0-0 Yrs</td>\n",
       "    </tr>\n",
       "    <tr>\n",
       "      <th>3</th>\n",
       "      <td>Data Scientist - Machine Learning/ NLP</td>\n",
       "      <td>Gurgaon/Gurugram</td>\n",
       "      <td>TalPro</td>\n",
       "      <td>2-6 Yrs</td>\n",
       "    </tr>\n",
       "    <tr>\n",
       "      <th>4</th>\n",
       "      <td>Junior Data Scientists &amp; Engineers</td>\n",
       "      <td>New Delhi, Delhi / NCR</td>\n",
       "      <td>PY Consultancy</td>\n",
       "      <td>0-3 Yrs</td>\n",
       "    </tr>\n",
       "    <tr>\n",
       "      <th>5</th>\n",
       "      <td>Data Scientist</td>\n",
       "      <td>Noida</td>\n",
       "      <td>Jubna</td>\n",
       "      <td>3-5 Yrs</td>\n",
       "    </tr>\n",
       "    <tr>\n",
       "      <th>6</th>\n",
       "      <td>Ecosystem Data Scientist Manager_MNC</td>\n",
       "      <td>Gurgaon/Gurugram, Bangalore/Bengaluru, Mumbai ...</td>\n",
       "      <td>Gladwin Analytics Private Limited (OPC)</td>\n",
       "      <td>10-15 Yrs</td>\n",
       "    </tr>\n",
       "    <tr>\n",
       "      <th>7</th>\n",
       "      <td>Data Scientist</td>\n",
       "      <td>Noida</td>\n",
       "      <td>Gauge Data Solutions Pvt Ltd</td>\n",
       "      <td>2-7 Yrs</td>\n",
       "    </tr>\n",
       "    <tr>\n",
       "      <th>8</th>\n",
       "      <td>Data Scientist Intern</td>\n",
       "      <td>Noida</td>\n",
       "      <td>Salasar New Age Technologies</td>\n",
       "      <td>0-2 Yrs</td>\n",
       "    </tr>\n",
       "    <tr>\n",
       "      <th>9</th>\n",
       "      <td>Developers, Data Scientists, Web Designers, An...</td>\n",
       "      <td>Noida</td>\n",
       "      <td>Cogmac Technologies</td>\n",
       "      <td>1-5 Yrs</td>\n",
       "    </tr>\n",
       "  </tbody>\n",
       "</table>\n",
       "</div>"
      ],
      "text/plain": [
       "                                           Job Title  \\\n",
       "0                      Data Scientist / Data Analyst   \n",
       "1                                     Data Scientist   \n",
       "2  Data Scientist / Data Analyst / Business Analy...   \n",
       "3             Data Scientist - Machine Learning/ NLP   \n",
       "4                 Junior Data Scientists & Engineers   \n",
       "5                                     Data Scientist   \n",
       "6               Ecosystem Data Scientist Manager_MNC   \n",
       "7                                     Data Scientist   \n",
       "8                              Data Scientist Intern   \n",
       "9  Developers, Data Scientists, Web Designers, An...   \n",
       "\n",
       "                                        Job Location  \\\n",
       "0                                   Gurgaon/Gurugram   \n",
       "1                                       Noida, Noida   \n",
       "2                 Noida, New Delhi, Gurgaon/Gurugram   \n",
       "3                                   Gurgaon/Gurugram   \n",
       "4                             New Delhi, Delhi / NCR   \n",
       "5                                              Noida   \n",
       "6  Gurgaon/Gurugram, Bangalore/Bengaluru, Mumbai ...   \n",
       "7                                              Noida   \n",
       "8                                              Noida   \n",
       "9                                              Noida   \n",
       "\n",
       "                            Compaines Name Experience Required  \n",
       "0                                   CARS24             1-5 Yrs  \n",
       "1                                    2coms             1-6 Yrs  \n",
       "2                GABA Consultancy services             0-0 Yrs  \n",
       "3                                   TalPro             2-6 Yrs  \n",
       "4                           PY Consultancy             0-3 Yrs  \n",
       "5                                    Jubna             3-5 Yrs  \n",
       "6  Gladwin Analytics Private Limited (OPC)           10-15 Yrs  \n",
       "7             Gauge Data Solutions Pvt Ltd             2-7 Yrs  \n",
       "8             Salasar New Age Technologies             0-2 Yrs  \n",
       "9                      Cogmac Technologies             1-5 Yrs  "
      ]
     },
     "execution_count": 20,
     "metadata": {},
     "output_type": "execute_result"
    }
   ],
   "source": [
    "df_NJob = pd.DataFrame({})\n",
    "df_NJob[\"Job Title\"] = Job_title2[:10]\n",
    "df_NJob[\"Job Location\"] = Location2[:10]\n",
    "df_NJob[\"Compaines Name\"] = com_name1[:10]\n",
    "df_NJob[\"Experience Required\"] = Experience1[:10]\n",
    "df_NJob"
   ]
  },
  {
   "cell_type": "markdown",
   "metadata": {},
   "source": [
    "# Q.4 A program to scarpe data for Data Scientist on glassdoor web page"
   ]
  },
  {
   "cell_type": "code",
   "execution_count": 22,
   "metadata": {},
   "outputs": [],
   "source": [
    "driver = webdriver.Chrome(\"chromedriver.exe\")\n",
    "url = \"https://www.glassdoor.co.in/member/profile/stepWelcome.htm\"\n",
    "driver.get(url)"
   ]
  },
  {
   "cell_type": "code",
   "execution_count": 23,
   "metadata": {},
   "outputs": [
    {
     "data": {
      "text/plain": [
       "<selenium.webdriver.remote.webelement.WebElement (session=\"d9ed4f7a19ae0e39141b1acc6fc8f463\", element=\"29114f36-7fe1-491b-989a-01d54fb157bf\")>"
      ]
     },
     "execution_count": 23,
     "metadata": {},
     "output_type": "execute_result"
    }
   ],
   "source": [
    "varsearch = driver.find_element_by_id('sc.keyword')\n",
    "varsearch"
   ]
  },
  {
   "cell_type": "code",
   "execution_count": 24,
   "metadata": {},
   "outputs": [
    {
     "data": {
      "text/plain": [
       "<selenium.webdriver.remote.webelement.WebElement (session=\"d9ed4f7a19ae0e39141b1acc6fc8f463\", element=\"29114f36-7fe1-491b-989a-01d54fb157bf\")>"
      ]
     },
     "execution_count": 24,
     "metadata": {},
     "output_type": "execute_result"
    }
   ],
   "source": [
    "varsearch.send_keys(\"Data Scientist\")\n",
    "varsearch"
   ]
  },
  {
   "cell_type": "code",
   "execution_count": 25,
   "metadata": {},
   "outputs": [
    {
     "data": {
      "text/plain": [
       "<selenium.webdriver.remote.webelement.WebElement (session=\"d9ed4f7a19ae0e39141b1acc6fc8f463\", element=\"3c15229c-69cb-439d-9ffa-c9c3179c73f1\")>"
      ]
     },
     "execution_count": 25,
     "metadata": {},
     "output_type": "execute_result"
    }
   ],
   "source": [
    "loc4 = driver.find_element_by_id(\"sc.location\")\n",
    "loc4"
   ]
  },
  {
   "cell_type": "code",
   "execution_count": 26,
   "metadata": {},
   "outputs": [
    {
     "data": {
      "text/plain": [
       "<selenium.webdriver.remote.webelement.WebElement (session=\"d9ed4f7a19ae0e39141b1acc6fc8f463\", element=\"3c15229c-69cb-439d-9ffa-c9c3179c73f1\")>"
      ]
     },
     "execution_count": 26,
     "metadata": {},
     "output_type": "execute_result"
    }
   ],
   "source": [
    "loc4.send_keys(\"Noida\")\n",
    "loc4"
   ]
  },
  {
   "cell_type": "code",
   "execution_count": 28,
   "metadata": {},
   "outputs": [],
   "source": [
    "button3 = driver.find_element_by_xpath(\"//button[@class='gd-ui-button ml-std col-auto SearchStyles__newSearchButton css-iixdfr']\")"
   ]
  },
  {
   "cell_type": "code",
   "execution_count": 29,
   "metadata": {},
   "outputs": [],
   "source": [
    "button3.click()"
   ]
  },
  {
   "cell_type": "code",
   "execution_count": 30,
   "metadata": {},
   "outputs": [
    {
     "data": {
      "text/plain": [
       "[<selenium.webdriver.remote.webelement.WebElement (session=\"d9ed4f7a19ae0e39141b1acc6fc8f463\", element=\"0b35b2b1-3f61-471f-9a9b-8789260feff3\")>,\n",
       " <selenium.webdriver.remote.webelement.WebElement (session=\"d9ed4f7a19ae0e39141b1acc6fc8f463\", element=\"6a043c89-5169-4b01-86e5-49e9bd1d7a91\")>,\n",
       " <selenium.webdriver.remote.webelement.WebElement (session=\"d9ed4f7a19ae0e39141b1acc6fc8f463\", element=\"0d6edb86-7936-4d7a-aa00-e0b7546e9cea\")>,\n",
       " <selenium.webdriver.remote.webelement.WebElement (session=\"d9ed4f7a19ae0e39141b1acc6fc8f463\", element=\"3b3aaece-c9cb-47ff-9765-e198a80c5cb5\")>,\n",
       " <selenium.webdriver.remote.webelement.WebElement (session=\"d9ed4f7a19ae0e39141b1acc6fc8f463\", element=\"98611680-3489-4ab8-91a3-a5fbd0b83f57\")>,\n",
       " <selenium.webdriver.remote.webelement.WebElement (session=\"d9ed4f7a19ae0e39141b1acc6fc8f463\", element=\"4c586a70-a0b1-460b-b0e9-8698dfd3fba9\")>,\n",
       " <selenium.webdriver.remote.webelement.WebElement (session=\"d9ed4f7a19ae0e39141b1acc6fc8f463\", element=\"db947439-bf86-42cf-8693-756dc81dd376\")>,\n",
       " <selenium.webdriver.remote.webelement.WebElement (session=\"d9ed4f7a19ae0e39141b1acc6fc8f463\", element=\"eff9a38d-2912-40e9-ab15-9b997a41930b\")>,\n",
       " <selenium.webdriver.remote.webelement.WebElement (session=\"d9ed4f7a19ae0e39141b1acc6fc8f463\", element=\"c2793e99-8a87-46d3-8304-ca9bfd4e1108\")>,\n",
       " <selenium.webdriver.remote.webelement.WebElement (session=\"d9ed4f7a19ae0e39141b1acc6fc8f463\", element=\"e4a2da1c-ef50-4565-bc71-c9ff4bd1c967\")>,\n",
       " <selenium.webdriver.remote.webelement.WebElement (session=\"d9ed4f7a19ae0e39141b1acc6fc8f463\", element=\"5a08b0fa-e43c-429d-a287-a920d6b7e39c\")>,\n",
       " <selenium.webdriver.remote.webelement.WebElement (session=\"d9ed4f7a19ae0e39141b1acc6fc8f463\", element=\"b0c22f1c-7376-44f2-810c-d447487b3d8c\")>,\n",
       " <selenium.webdriver.remote.webelement.WebElement (session=\"d9ed4f7a19ae0e39141b1acc6fc8f463\", element=\"e29d3738-84bb-463a-a926-381bb4b3450f\")>,\n",
       " <selenium.webdriver.remote.webelement.WebElement (session=\"d9ed4f7a19ae0e39141b1acc6fc8f463\", element=\"fda20e19-a9f0-4533-a8a5-5cce5d0a3423\")>,\n",
       " <selenium.webdriver.remote.webelement.WebElement (session=\"d9ed4f7a19ae0e39141b1acc6fc8f463\", element=\"553dd7d5-ca86-47d7-9812-05323af97ca8\")>,\n",
       " <selenium.webdriver.remote.webelement.WebElement (session=\"d9ed4f7a19ae0e39141b1acc6fc8f463\", element=\"69a6bc9f-2b2d-459d-9a9c-1982337062ce\")>,\n",
       " <selenium.webdriver.remote.webelement.WebElement (session=\"d9ed4f7a19ae0e39141b1acc6fc8f463\", element=\"2f710073-d616-4277-929d-91fadc1bb164\")>,\n",
       " <selenium.webdriver.remote.webelement.WebElement (session=\"d9ed4f7a19ae0e39141b1acc6fc8f463\", element=\"cc1b3201-2256-48ca-8e2c-728e853c4842\")>,\n",
       " <selenium.webdriver.remote.webelement.WebElement (session=\"d9ed4f7a19ae0e39141b1acc6fc8f463\", element=\"5f7f0aac-8e04-4727-b67e-d628b87e8621\")>,\n",
       " <selenium.webdriver.remote.webelement.WebElement (session=\"d9ed4f7a19ae0e39141b1acc6fc8f463\", element=\"fac3cb5e-c52a-4a37-b8ba-65a68c1e6ad5\")>,\n",
       " <selenium.webdriver.remote.webelement.WebElement (session=\"d9ed4f7a19ae0e39141b1acc6fc8f463\", element=\"4fce20b7-a723-4f0a-8cd3-c2907bfb0bcf\")>,\n",
       " <selenium.webdriver.remote.webelement.WebElement (session=\"d9ed4f7a19ae0e39141b1acc6fc8f463\", element=\"725444af-1a5f-45b2-a0d8-af143481b24b\")>,\n",
       " <selenium.webdriver.remote.webelement.WebElement (session=\"d9ed4f7a19ae0e39141b1acc6fc8f463\", element=\"b7d9dde6-1499-4b44-a9cb-84a2d1e0b453\")>,\n",
       " <selenium.webdriver.remote.webelement.WebElement (session=\"d9ed4f7a19ae0e39141b1acc6fc8f463\", element=\"407ad859-e31e-49e3-9206-733f6c372176\")>,\n",
       " <selenium.webdriver.remote.webelement.WebElement (session=\"d9ed4f7a19ae0e39141b1acc6fc8f463\", element=\"41c08985-c3e2-4898-a02e-63eee9630567\")>,\n",
       " <selenium.webdriver.remote.webelement.WebElement (session=\"d9ed4f7a19ae0e39141b1acc6fc8f463\", element=\"61fbba1c-f8ba-47ee-a00c-3141b8cfd85b\")>,\n",
       " <selenium.webdriver.remote.webelement.WebElement (session=\"d9ed4f7a19ae0e39141b1acc6fc8f463\", element=\"47eb5265-f320-43f3-b254-c44a0b421378\")>,\n",
       " <selenium.webdriver.remote.webelement.WebElement (session=\"d9ed4f7a19ae0e39141b1acc6fc8f463\", element=\"62871279-dd3b-4f64-b5d6-037e1a21bd3d\")>,\n",
       " <selenium.webdriver.remote.webelement.WebElement (session=\"d9ed4f7a19ae0e39141b1acc6fc8f463\", element=\"e91066aa-c941-4545-8f55-064228a7d74e\")>,\n",
       " <selenium.webdriver.remote.webelement.WebElement (session=\"d9ed4f7a19ae0e39141b1acc6fc8f463\", element=\"4f0492d9-5c57-48e4-97bc-cbf8d52cb57b\")>]"
      ]
     },
     "execution_count": 30,
     "metadata": {},
     "output_type": "execute_result"
    }
   ],
   "source": [
    "varname2 = driver.find_elements_by_xpath(\"//a[@class=' css-l2wjgv e1n63ojh0 jobLink']\")\n",
    "varname2"
   ]
  },
  {
   "cell_type": "code",
   "execution_count": 31,
   "metadata": {},
   "outputs": [
    {
     "data": {
      "text/plain": [
       "['AlgoScale Technologies Private Limited',\n",
       " 'Liberin Technologies Private Limited',\n",
       " 'limeroad.com',\n",
       " 'Ishatva Management Solutions',\n",
       " 'Saishaa Services',\n",
       " 'Badatya Private Limited',\n",
       " 'Techlive',\n",
       " 'Newgen Software',\n",
       " 'Biz2Credit Inc',\n",
       " 'Salasar New Age Technologies',\n",
       " 'Data Trained Education',\n",
       " 'Verisk',\n",
       " 'Ericsson',\n",
       " 'Salasar New Age Technologies',\n",
       " 'NEC Opportunities',\n",
       " 'ING',\n",
       " 'Innovacer',\n",
       " 'SearchUrCollege',\n",
       " 'IElevate Institute',\n",
       " 'Gauge Data Solutions',\n",
       " 'Airtel India',\n",
       " 'NMG Technologies',\n",
       " 'CRMNEXT',\n",
       " 'Wobot.ai',\n",
       " 'Crowe',\n",
       " 'McKinsey & Company',\n",
       " 'IBM',\n",
       " 'WinZO',\n",
       " 'OneViewHR',\n",
       " 'Algoscale']"
      ]
     },
     "execution_count": 31,
     "metadata": {},
     "output_type": "execute_result"
    }
   ],
   "source": [
    "com_name2=[]\n",
    "for i in varname2:\n",
    "    com_name2.append(i.text)\n",
    "com_name2"
   ]
  },
  {
   "cell_type": "code",
   "execution_count": 32,
   "metadata": {},
   "outputs": [
    {
     "data": {
      "text/plain": [
       "[<selenium.webdriver.remote.webelement.WebElement (session=\"d9ed4f7a19ae0e39141b1acc6fc8f463\", element=\"6a2239de-1ca7-440c-8f79-8a0d30fd483a\")>,\n",
       " <selenium.webdriver.remote.webelement.WebElement (session=\"d9ed4f7a19ae0e39141b1acc6fc8f463\", element=\"4d390e17-8e4c-4fe0-a87a-c62bb234da9d\")>,\n",
       " <selenium.webdriver.remote.webelement.WebElement (session=\"d9ed4f7a19ae0e39141b1acc6fc8f463\", element=\"d518951e-5e72-4073-96e3-5953680e9304\")>,\n",
       " <selenium.webdriver.remote.webelement.WebElement (session=\"d9ed4f7a19ae0e39141b1acc6fc8f463\", element=\"73fc8a62-cbe5-4beb-95d5-07a41e63f3f7\")>,\n",
       " <selenium.webdriver.remote.webelement.WebElement (session=\"d9ed4f7a19ae0e39141b1acc6fc8f463\", element=\"f4fe0517-e250-4e20-b489-d956ed9031d7\")>,\n",
       " <selenium.webdriver.remote.webelement.WebElement (session=\"d9ed4f7a19ae0e39141b1acc6fc8f463\", element=\"d607eda3-b7e3-4635-a0eb-7dfa67244ba9\")>,\n",
       " <selenium.webdriver.remote.webelement.WebElement (session=\"d9ed4f7a19ae0e39141b1acc6fc8f463\", element=\"831b3965-4e6e-4078-b495-b34512bdfd18\")>,\n",
       " <selenium.webdriver.remote.webelement.WebElement (session=\"d9ed4f7a19ae0e39141b1acc6fc8f463\", element=\"afb3a87b-c1db-4d54-b50a-fb26b88ada14\")>,\n",
       " <selenium.webdriver.remote.webelement.WebElement (session=\"d9ed4f7a19ae0e39141b1acc6fc8f463\", element=\"1c0deb9a-d20d-496c-9046-24bd66fae1fe\")>,\n",
       " <selenium.webdriver.remote.webelement.WebElement (session=\"d9ed4f7a19ae0e39141b1acc6fc8f463\", element=\"c6b66ec7-858d-4147-884f-39e82feb1674\")>,\n",
       " <selenium.webdriver.remote.webelement.WebElement (session=\"d9ed4f7a19ae0e39141b1acc6fc8f463\", element=\"8399736a-00a5-472e-8745-a49e61d8eb6d\")>,\n",
       " <selenium.webdriver.remote.webelement.WebElement (session=\"d9ed4f7a19ae0e39141b1acc6fc8f463\", element=\"2d14f966-17d2-4049-8500-c14eca2d4360\")>,\n",
       " <selenium.webdriver.remote.webelement.WebElement (session=\"d9ed4f7a19ae0e39141b1acc6fc8f463\", element=\"cdd10e16-cedb-4be5-b267-d66e02f3d0b6\")>,\n",
       " <selenium.webdriver.remote.webelement.WebElement (session=\"d9ed4f7a19ae0e39141b1acc6fc8f463\", element=\"4798238a-00a6-4a40-8734-d9cfc16922dd\")>,\n",
       " <selenium.webdriver.remote.webelement.WebElement (session=\"d9ed4f7a19ae0e39141b1acc6fc8f463\", element=\"1891c856-ccd8-40ce-aa08-5b05bd4dff5d\")>,\n",
       " <selenium.webdriver.remote.webelement.WebElement (session=\"d9ed4f7a19ae0e39141b1acc6fc8f463\", element=\"6968547a-6450-4990-95db-fec7aa96937e\")>,\n",
       " <selenium.webdriver.remote.webelement.WebElement (session=\"d9ed4f7a19ae0e39141b1acc6fc8f463\", element=\"d28cdbb4-1210-4b42-9764-b2b92e341f97\")>,\n",
       " <selenium.webdriver.remote.webelement.WebElement (session=\"d9ed4f7a19ae0e39141b1acc6fc8f463\", element=\"1cea2f45-9447-48ae-8bee-bddf6351672b\")>,\n",
       " <selenium.webdriver.remote.webelement.WebElement (session=\"d9ed4f7a19ae0e39141b1acc6fc8f463\", element=\"1bce23e6-39d9-4cf3-ab24-11175b312b58\")>,\n",
       " <selenium.webdriver.remote.webelement.WebElement (session=\"d9ed4f7a19ae0e39141b1acc6fc8f463\", element=\"264502c7-6244-4468-a158-c0de9fbb758e\")>,\n",
       " <selenium.webdriver.remote.webelement.WebElement (session=\"d9ed4f7a19ae0e39141b1acc6fc8f463\", element=\"e96005c0-3ea1-4c8f-a0fa-72d86ebf75a9\")>,\n",
       " <selenium.webdriver.remote.webelement.WebElement (session=\"d9ed4f7a19ae0e39141b1acc6fc8f463\", element=\"862983ac-577d-45e7-aa21-903635701400\")>,\n",
       " <selenium.webdriver.remote.webelement.WebElement (session=\"d9ed4f7a19ae0e39141b1acc6fc8f463\", element=\"ceca4a67-efe3-4b70-9350-26a55dccdbed\")>,\n",
       " <selenium.webdriver.remote.webelement.WebElement (session=\"d9ed4f7a19ae0e39141b1acc6fc8f463\", element=\"99eb4ed7-cb55-4283-8c4e-9693da6bdab3\")>,\n",
       " <selenium.webdriver.remote.webelement.WebElement (session=\"d9ed4f7a19ae0e39141b1acc6fc8f463\", element=\"6e498c59-8d49-4f25-9c25-b06b2add746a\")>,\n",
       " <selenium.webdriver.remote.webelement.WebElement (session=\"d9ed4f7a19ae0e39141b1acc6fc8f463\", element=\"05a4be44-7889-4a5a-bee7-dc7fa0c9cd2f\")>,\n",
       " <selenium.webdriver.remote.webelement.WebElement (session=\"d9ed4f7a19ae0e39141b1acc6fc8f463\", element=\"2d7a979d-a68d-40aa-a229-858577608729\")>,\n",
       " <selenium.webdriver.remote.webelement.WebElement (session=\"d9ed4f7a19ae0e39141b1acc6fc8f463\", element=\"899034ce-1daf-4895-b5af-9a59546b10ec\")>,\n",
       " <selenium.webdriver.remote.webelement.WebElement (session=\"d9ed4f7a19ae0e39141b1acc6fc8f463\", element=\"93181074-3202-4d77-9c4f-16bd1dd1c54c\")>,\n",
       " <selenium.webdriver.remote.webelement.WebElement (session=\"d9ed4f7a19ae0e39141b1acc6fc8f463\", element=\"640e0363-d171-4ee8-a111-ccee74fea6ee\")>]"
      ]
     },
     "execution_count": 32,
     "metadata": {},
     "output_type": "execute_result"
    }
   ],
   "source": [
    "vardays = driver.find_elements_by_xpath(\"//div[@class='d-flex align-items-end pl-std css-mi55ob']\")\n",
    "vardays"
   ]
  },
  {
   "cell_type": "code",
   "execution_count": 33,
   "metadata": {},
   "outputs": [
    {
     "data": {
      "text/plain": [
       "['12d',\n",
       " '30d+',\n",
       " '12d',\n",
       " '7d',\n",
       " '14d',\n",
       " '9d',\n",
       " '30d+',\n",
       " '30d+',\n",
       " '30d+',\n",
       " '30d+',\n",
       " '30d+',\n",
       " '2d',\n",
       " '6d',\n",
       " '30d+',\n",
       " '19d',\n",
       " '3d',\n",
       " '30d+',\n",
       " '30d+',\n",
       " '5d',\n",
       " '30d+',\n",
       " '17d',\n",
       " '24d',\n",
       " '26d',\n",
       " '10d',\n",
       " '30d+',\n",
       " '9d',\n",
       " '24h',\n",
       " '30d+',\n",
       " '4d',\n",
       " '30d+']"
      ]
     },
     "execution_count": 33,
     "metadata": {},
     "output_type": "execute_result"
    }
   ],
   "source": [
    "no_days = []\n",
    "for a  in vardays:\n",
    "    no_days.append(a.text)\n",
    "no_days"
   ]
  },
  {
   "cell_type": "code",
   "execution_count": 47,
   "metadata": {},
   "outputs": [
    {
     "data": {
      "text/plain": [
       "[<selenium.webdriver.remote.webelement.WebElement (session=\"d9ed4f7a19ae0e39141b1acc6fc8f463\", element=\"3575dfa1-3cf6-442e-b79f-1cf03dff3cf8\")>,\n",
       " <selenium.webdriver.remote.webelement.WebElement (session=\"d9ed4f7a19ae0e39141b1acc6fc8f463\", element=\"df8d7828-a91c-4b12-a8bd-fe6b0b494812\")>,\n",
       " <selenium.webdriver.remote.webelement.WebElement (session=\"d9ed4f7a19ae0e39141b1acc6fc8f463\", element=\"be292eb1-e9b6-47bd-9b1d-990d2d0bbb16\")>,\n",
       " <selenium.webdriver.remote.webelement.WebElement (session=\"d9ed4f7a19ae0e39141b1acc6fc8f463\", element=\"7d732f43-6708-405d-b586-1c4b54016e43\")>,\n",
       " <selenium.webdriver.remote.webelement.WebElement (session=\"d9ed4f7a19ae0e39141b1acc6fc8f463\", element=\"b98f306e-9aea-4b7e-8565-1894c5ac8cd2\")>,\n",
       " <selenium.webdriver.remote.webelement.WebElement (session=\"d9ed4f7a19ae0e39141b1acc6fc8f463\", element=\"d2ad5be1-b45d-4ee0-8df3-94986a4e5208\")>,\n",
       " <selenium.webdriver.remote.webelement.WebElement (session=\"d9ed4f7a19ae0e39141b1acc6fc8f463\", element=\"cfea3e62-c045-4c2f-a49a-31eeb35638f0\")>,\n",
       " <selenium.webdriver.remote.webelement.WebElement (session=\"d9ed4f7a19ae0e39141b1acc6fc8f463\", element=\"e18fe818-d137-4f5f-b7c0-57261bfbcd25\")>,\n",
       " <selenium.webdriver.remote.webelement.WebElement (session=\"d9ed4f7a19ae0e39141b1acc6fc8f463\", element=\"33f07950-bc0a-4e32-bd80-dc40272cc2a2\")>,\n",
       " <selenium.webdriver.remote.webelement.WebElement (session=\"d9ed4f7a19ae0e39141b1acc6fc8f463\", element=\"c926504f-efea-4322-ae74-0cf162b9e34e\")>,\n",
       " <selenium.webdriver.remote.webelement.WebElement (session=\"d9ed4f7a19ae0e39141b1acc6fc8f463\", element=\"8dddcef2-d988-4f5a-84f8-8c806c0a3884\")>,\n",
       " <selenium.webdriver.remote.webelement.WebElement (session=\"d9ed4f7a19ae0e39141b1acc6fc8f463\", element=\"b1c3c62d-2269-4cc7-9018-2e9a6cbf144e\")>,\n",
       " <selenium.webdriver.remote.webelement.WebElement (session=\"d9ed4f7a19ae0e39141b1acc6fc8f463\", element=\"389744a4-522d-443a-ab9d-50c754c15f49\")>,\n",
       " <selenium.webdriver.remote.webelement.WebElement (session=\"d9ed4f7a19ae0e39141b1acc6fc8f463\", element=\"f40119d2-38b8-433d-a0be-a0b8ca95a126\")>,\n",
       " <selenium.webdriver.remote.webelement.WebElement (session=\"d9ed4f7a19ae0e39141b1acc6fc8f463\", element=\"3608ba43-59a3-425d-a0e2-2c1e1dae50b3\")>]"
      ]
     },
     "execution_count": 47,
     "metadata": {},
     "output_type": "execute_result"
    }
   ],
   "source": [
    "varrate= driver.find_elements_by_xpath(\"//span[@class='css-19pjha7 e1cjmv6j1']\")\n",
    "varrate"
   ]
  },
  {
   "cell_type": "code",
   "execution_count": 48,
   "metadata": {},
   "outputs": [
    {
     "data": {
      "text/plain": [
       "['4.5',\n",
       " '3.3',\n",
       " '4.2',\n",
       " '4.0',\n",
       " '4.1',\n",
       " '4.0',\n",
       " '3.8',\n",
       " '3.8',\n",
       " '3.2',\n",
       " '3.8',\n",
       " '3.8',\n",
       " '4.4',\n",
       " '3.9',\n",
       " '4.0',\n",
       " '3.9']"
      ]
     },
     "execution_count": 48,
     "metadata": {},
     "output_type": "execute_result"
    }
   ],
   "source": [
    "Ratings= []\n",
    "for i in varrate:\n",
    "    Ratings.append(i.text)\n",
    "Ratings\n",
    "    "
   ]
  },
  {
   "cell_type": "code",
   "execution_count": 50,
   "metadata": {},
   "outputs": [
    {
     "data": {
      "text/html": [
       "<div>\n",
       "<style scoped>\n",
       "    .dataframe tbody tr th:only-of-type {\n",
       "        vertical-align: middle;\n",
       "    }\n",
       "\n",
       "    .dataframe tbody tr th {\n",
       "        vertical-align: top;\n",
       "    }\n",
       "\n",
       "    .dataframe thead th {\n",
       "        text-align: right;\n",
       "    }\n",
       "</style>\n",
       "<table border=\"1\" class=\"dataframe\">\n",
       "  <thead>\n",
       "    <tr style=\"text-align: right;\">\n",
       "      <th></th>\n",
       "      <th>Company Name</th>\n",
       "      <th>No of Days</th>\n",
       "      <th>Ratings</th>\n",
       "    </tr>\n",
       "  </thead>\n",
       "  <tbody>\n",
       "    <tr>\n",
       "      <th>0</th>\n",
       "      <td>AlgoScale Technologies Private Limited</td>\n",
       "      <td>12d</td>\n",
       "      <td>4.5</td>\n",
       "    </tr>\n",
       "    <tr>\n",
       "      <th>1</th>\n",
       "      <td>Liberin Technologies Private Limited</td>\n",
       "      <td>30d+</td>\n",
       "      <td>3.3</td>\n",
       "    </tr>\n",
       "    <tr>\n",
       "      <th>2</th>\n",
       "      <td>limeroad.com</td>\n",
       "      <td>12d</td>\n",
       "      <td>4.2</td>\n",
       "    </tr>\n",
       "    <tr>\n",
       "      <th>3</th>\n",
       "      <td>Ishatva Management Solutions</td>\n",
       "      <td>7d</td>\n",
       "      <td>4.0</td>\n",
       "    </tr>\n",
       "    <tr>\n",
       "      <th>4</th>\n",
       "      <td>Saishaa Services</td>\n",
       "      <td>14d</td>\n",
       "      <td>4.1</td>\n",
       "    </tr>\n",
       "    <tr>\n",
       "      <th>5</th>\n",
       "      <td>Badatya Private Limited</td>\n",
       "      <td>9d</td>\n",
       "      <td>4.0</td>\n",
       "    </tr>\n",
       "    <tr>\n",
       "      <th>6</th>\n",
       "      <td>Techlive</td>\n",
       "      <td>30d+</td>\n",
       "      <td>3.8</td>\n",
       "    </tr>\n",
       "    <tr>\n",
       "      <th>7</th>\n",
       "      <td>Newgen Software</td>\n",
       "      <td>30d+</td>\n",
       "      <td>3.8</td>\n",
       "    </tr>\n",
       "    <tr>\n",
       "      <th>8</th>\n",
       "      <td>Biz2Credit Inc</td>\n",
       "      <td>30d+</td>\n",
       "      <td>3.2</td>\n",
       "    </tr>\n",
       "    <tr>\n",
       "      <th>9</th>\n",
       "      <td>Salasar New Age Technologies</td>\n",
       "      <td>30d+</td>\n",
       "      <td>3.8</td>\n",
       "    </tr>\n",
       "  </tbody>\n",
       "</table>\n",
       "</div>"
      ],
      "text/plain": [
       "                             Company Name No of Days Ratings\n",
       "0  AlgoScale Technologies Private Limited        12d     4.5\n",
       "1    Liberin Technologies Private Limited       30d+     3.3\n",
       "2                            limeroad.com        12d     4.2\n",
       "3            Ishatva Management Solutions         7d     4.0\n",
       "4                        Saishaa Services        14d     4.1\n",
       "5                 Badatya Private Limited         9d     4.0\n",
       "6                                Techlive       30d+     3.8\n",
       "7                         Newgen Software       30d+     3.8\n",
       "8                          Biz2Credit Inc       30d+     3.2\n",
       "9            Salasar New Age Technologies       30d+     3.8"
      ]
     },
     "execution_count": 50,
     "metadata": {},
     "output_type": "execute_result"
    }
   ],
   "source": [
    "df_glassdoor = pd.DataFrame({})\n",
    "df_glassdoor[\"Company Name\"] = com_name2[:10]\n",
    "df_glassdoor[\"No of Days\"] = no_days[:10]\n",
    "df_glassdoor[\"Ratings\"] = Ratings[:10]\n",
    "df_glassdoor"
   ]
  },
  {
   "cell_type": "markdown",
   "metadata": {},
   "source": [
    "# Q5: Write a python program to scrape the salary data for Data Scientist designation in Noida location."
   ]
  },
  {
   "cell_type": "code",
   "execution_count": 3,
   "metadata": {},
   "outputs": [],
   "source": [
    "\n",
    "import time \n",
    "from selenium.common.exceptions import NoSuchElementException\n",
    "\n",
    "driver = webdriver.Chrome(\"chromedriver.exe\")\n",
    "url = \"https://www.glassdoor.co.in/Salaries/index.htm\"\n",
    "driver.get(url)"
   ]
  },
  {
   "cell_type": "code",
   "execution_count": 4,
   "metadata": {},
   "outputs": [
    {
     "data": {
      "text/plain": [
       "<selenium.webdriver.remote.webelement.WebElement (session=\"8366e7ea822d81de19aeb3751b8fe562\", element=\"fa81e951-3d30-4ebc-ba61-cd53817df26f\")>"
      ]
     },
     "execution_count": 4,
     "metadata": {},
     "output_type": "execute_result"
    }
   ],
   "source": [
    "varsearch1 = driver.find_element_by_xpath(\"//input[@name='sc.keyword']\")\n",
    "varsearch1"
   ]
  },
  {
   "cell_type": "code",
   "execution_count": 5,
   "metadata": {},
   "outputs": [
    {
     "data": {
      "text/plain": [
       "<selenium.webdriver.remote.webelement.WebElement (session=\"8366e7ea822d81de19aeb3751b8fe562\", element=\"fa81e951-3d30-4ebc-ba61-cd53817df26f\")>"
      ]
     },
     "execution_count": 5,
     "metadata": {},
     "output_type": "execute_result"
    }
   ],
   "source": [
    "varsearch1.send_keys(\"Data Scientist\")\n",
    "varsearch1"
   ]
  },
  {
   "cell_type": "code",
   "execution_count": 6,
   "metadata": {},
   "outputs": [
    {
     "data": {
      "text/plain": [
       "<selenium.webdriver.remote.webelement.WebElement (session=\"8366e7ea822d81de19aeb3751b8fe562\", element=\"529d0b46-13ca-4b83-b8d4-d300d731d077\")>"
      ]
     },
     "execution_count": 6,
     "metadata": {},
     "output_type": "execute_result"
    }
   ],
   "source": [
    "loc5 = driver.find_element_by_xpath(\"//input[@class='loc']\")\n",
    "loc5"
   ]
  },
  {
   "cell_type": "code",
   "execution_count": 7,
   "metadata": {},
   "outputs": [
    {
     "data": {
      "text/plain": [
       "<selenium.webdriver.remote.webelement.WebElement (session=\"8366e7ea822d81de19aeb3751b8fe562\", element=\"529d0b46-13ca-4b83-b8d4-d300d731d077\")>"
      ]
     },
     "execution_count": 7,
     "metadata": {},
     "output_type": "execute_result"
    }
   ],
   "source": [
    "loc5.send_keys(\"Noida\")\n",
    "loc5"
   ]
  },
  {
   "cell_type": "code",
   "execution_count": 8,
   "metadata": {},
   "outputs": [],
   "source": [
    "button4 = driver.find_element_by_xpath(\"//button[@class='gd-btn-mkt']\")"
   ]
  },
  {
   "cell_type": "code",
   "execution_count": 10,
   "metadata": {},
   "outputs": [],
   "source": [
    "button4.click()"
   ]
  },
  {
   "cell_type": "code",
   "execution_count": 11,
   "metadata": {},
   "outputs": [
    {
     "data": {
      "text/plain": [
       "[<selenium.webdriver.remote.webelement.WebElement (session=\"8366e7ea822d81de19aeb3751b8fe562\", element=\"5fa9ebf1-2d0e-4dcd-a9e4-b00e224849ad\")>,\n",
       " <selenium.webdriver.remote.webelement.WebElement (session=\"8366e7ea822d81de19aeb3751b8fe562\", element=\"af52698f-38a4-434b-8542-20d2a68050dd\")>,\n",
       " <selenium.webdriver.remote.webelement.WebElement (session=\"8366e7ea822d81de19aeb3751b8fe562\", element=\"b5c9bfb0-6d27-4c1e-ad29-a37047128c07\")>,\n",
       " <selenium.webdriver.remote.webelement.WebElement (session=\"8366e7ea822d81de19aeb3751b8fe562\", element=\"d6940309-2c8d-43f6-9932-157c95702ac1\")>,\n",
       " <selenium.webdriver.remote.webelement.WebElement (session=\"8366e7ea822d81de19aeb3751b8fe562\", element=\"726e0e11-8725-4964-9e01-3684aa9e75ba\")>,\n",
       " <selenium.webdriver.remote.webelement.WebElement (session=\"8366e7ea822d81de19aeb3751b8fe562\", element=\"ca382a4a-dad6-4b72-86f4-bd95a036cbeb\")>,\n",
       " <selenium.webdriver.remote.webelement.WebElement (session=\"8366e7ea822d81de19aeb3751b8fe562\", element=\"e547e7cd-8578-466f-b5ea-6ce848af7e6a\")>,\n",
       " <selenium.webdriver.remote.webelement.WebElement (session=\"8366e7ea822d81de19aeb3751b8fe562\", element=\"0d1d4f76-98ed-4ef6-89f2-a8a77cd324de\")>,\n",
       " <selenium.webdriver.remote.webelement.WebElement (session=\"8366e7ea822d81de19aeb3751b8fe562\", element=\"83e74784-dae6-40a3-9de8-0b8d7f595c0d\")>,\n",
       " <selenium.webdriver.remote.webelement.WebElement (session=\"8366e7ea822d81de19aeb3751b8fe562\", element=\"0faea66b-80c1-49f1-8a62-c975ed81e14a\")>,\n",
       " <selenium.webdriver.remote.webelement.WebElement (session=\"8366e7ea822d81de19aeb3751b8fe562\", element=\"fb7bc82f-3536-4302-bb06-627636ae53b1\")>,\n",
       " <selenium.webdriver.remote.webelement.WebElement (session=\"8366e7ea822d81de19aeb3751b8fe562\", element=\"22bc8816-1b10-4a92-bb90-d67a951c2bf5\")>,\n",
       " <selenium.webdriver.remote.webelement.WebElement (session=\"8366e7ea822d81de19aeb3751b8fe562\", element=\"cae9d7d6-8564-461b-80df-9856d9410c68\")>,\n",
       " <selenium.webdriver.remote.webelement.WebElement (session=\"8366e7ea822d81de19aeb3751b8fe562\", element=\"bc4a66b2-077e-4aa6-957a-ec6db84e0804\")>,\n",
       " <selenium.webdriver.remote.webelement.WebElement (session=\"8366e7ea822d81de19aeb3751b8fe562\", element=\"5bce208e-2800-4900-8e69-fe2c38667ffc\")>,\n",
       " <selenium.webdriver.remote.webelement.WebElement (session=\"8366e7ea822d81de19aeb3751b8fe562\", element=\"b9613d85-e55d-4656-b463-1069c2b634f3\")>,\n",
       " <selenium.webdriver.remote.webelement.WebElement (session=\"8366e7ea822d81de19aeb3751b8fe562\", element=\"042fec89-c8fc-43f2-8dc1-a905a7550482\")>,\n",
       " <selenium.webdriver.remote.webelement.WebElement (session=\"8366e7ea822d81de19aeb3751b8fe562\", element=\"d7c94a9e-2c7d-43c0-b0e2-73a0f08f154d\")>,\n",
       " <selenium.webdriver.remote.webelement.WebElement (session=\"8366e7ea822d81de19aeb3751b8fe562\", element=\"843ec85f-ff40-41c8-80f1-cb694e982844\")>,\n",
       " <selenium.webdriver.remote.webelement.WebElement (session=\"8366e7ea822d81de19aeb3751b8fe562\", element=\"7db33d33-31a8-4886-a04c-f42dfd2b4021\")>]"
      ]
     },
     "execution_count": 11,
     "metadata": {},
     "output_type": "execute_result"
    }
   ],
   "source": [
    "varname3 = driver.find_elements_by_xpath(\"//a[@class='css-f3vw95 e1aj7ssy3']\")\n",
    "varname3"
   ]
  },
  {
   "cell_type": "code",
   "execution_count": 12,
   "metadata": {},
   "outputs": [
    {
     "data": {
      "text/plain": [
       "['Tata Consultancy Services',\n",
       " 'IBM',\n",
       " 'Accenture',\n",
       " 'Delhivery',\n",
       " 'Ericsson-Worldwide',\n",
       " 'UnitedHealth Group',\n",
       " 'Optum',\n",
       " 'Optum Global Solutions',\n",
       " 'Valiance Solutions',\n",
       " 'EXL Service',\n",
       " 'Cognizant Technology Solutions',\n",
       " 'ZS Associates',\n",
       " 'Nagarro',\n",
       " 'Innovaccer',\n",
       " 'OYO',\n",
       " 'dunnhumby',\n",
       " 'Amazon',\n",
       " 'CARS24.com',\n",
       " 'Vidooly Media Tech',\n",
       " 'ParallelDots']"
      ]
     },
     "execution_count": 12,
     "metadata": {},
     "output_type": "execute_result"
    }
   ],
   "source": [
    "com_name3 = []\n",
    "for a in varname3:\n",
    "    com_name3.append(a.text)\n",
    "com_name3"
   ]
  },
  {
   "cell_type": "code",
   "execution_count": 13,
   "metadata": {},
   "outputs": [
    {
     "data": {
      "text/plain": [
       "[<selenium.webdriver.remote.webelement.WebElement (session=\"8366e7ea822d81de19aeb3751b8fe562\", element=\"24207829-c741-415c-95c3-3baa2477941a\")>,\n",
       " <selenium.webdriver.remote.webelement.WebElement (session=\"8366e7ea822d81de19aeb3751b8fe562\", element=\"9c9ba46d-abed-49f8-8726-21a40390ad55\")>,\n",
       " <selenium.webdriver.remote.webelement.WebElement (session=\"8366e7ea822d81de19aeb3751b8fe562\", element=\"c5c99d51-e4f0-48dc-9a71-7bede3d0dbd4\")>,\n",
       " <selenium.webdriver.remote.webelement.WebElement (session=\"8366e7ea822d81de19aeb3751b8fe562\", element=\"4d0df4ed-33ee-45e7-9f5d-dd17b481e027\")>,\n",
       " <selenium.webdriver.remote.webelement.WebElement (session=\"8366e7ea822d81de19aeb3751b8fe562\", element=\"703c60c3-d563-44a1-af23-257501526309\")>,\n",
       " <selenium.webdriver.remote.webelement.WebElement (session=\"8366e7ea822d81de19aeb3751b8fe562\", element=\"6b5ca12c-f414-49af-bc90-228f683c0bf1\")>,\n",
       " <selenium.webdriver.remote.webelement.WebElement (session=\"8366e7ea822d81de19aeb3751b8fe562\", element=\"70afb54b-d1fe-422c-bc65-8eb40c8945ac\")>,\n",
       " <selenium.webdriver.remote.webelement.WebElement (session=\"8366e7ea822d81de19aeb3751b8fe562\", element=\"eb1057f9-c0a2-4a8f-9662-cb782e0dfb21\")>,\n",
       " <selenium.webdriver.remote.webelement.WebElement (session=\"8366e7ea822d81de19aeb3751b8fe562\", element=\"29543798-de33-4277-8cdf-cdf981a385ac\")>,\n",
       " <selenium.webdriver.remote.webelement.WebElement (session=\"8366e7ea822d81de19aeb3751b8fe562\", element=\"31ef8b9f-af6a-4bb9-856f-02ed8d32bda5\")>,\n",
       " <selenium.webdriver.remote.webelement.WebElement (session=\"8366e7ea822d81de19aeb3751b8fe562\", element=\"1a9f8ae7-2287-4bab-b594-96ce220114ed\")>,\n",
       " <selenium.webdriver.remote.webelement.WebElement (session=\"8366e7ea822d81de19aeb3751b8fe562\", element=\"658029ee-09f3-40d8-bd76-5c5e7e9f589f\")>,\n",
       " <selenium.webdriver.remote.webelement.WebElement (session=\"8366e7ea822d81de19aeb3751b8fe562\", element=\"a7a83a96-7327-46c1-b453-44ecf3b801e0\")>,\n",
       " <selenium.webdriver.remote.webelement.WebElement (session=\"8366e7ea822d81de19aeb3751b8fe562\", element=\"787e128b-c855-4bf6-8df7-8fd3d52a11a9\")>,\n",
       " <selenium.webdriver.remote.webelement.WebElement (session=\"8366e7ea822d81de19aeb3751b8fe562\", element=\"ee37d032-7326-4550-ba33-7c0f8ceefe77\")>,\n",
       " <selenium.webdriver.remote.webelement.WebElement (session=\"8366e7ea822d81de19aeb3751b8fe562\", element=\"84afe2e5-9300-4426-9bc1-9117283af860\")>,\n",
       " <selenium.webdriver.remote.webelement.WebElement (session=\"8366e7ea822d81de19aeb3751b8fe562\", element=\"a12f6fa1-7e3f-4abb-9fd7-7e83b8747ce4\")>,\n",
       " <selenium.webdriver.remote.webelement.WebElement (session=\"8366e7ea822d81de19aeb3751b8fe562\", element=\"81d4fdaa-78cc-4793-ba3d-20fce911e0b4\")>,\n",
       " <selenium.webdriver.remote.webelement.WebElement (session=\"8366e7ea822d81de19aeb3751b8fe562\", element=\"ec9d5c4d-2c97-4cc8-99be-8f48db2c9308\")>,\n",
       " <selenium.webdriver.remote.webelement.WebElement (session=\"8366e7ea822d81de19aeb3751b8fe562\", element=\"2a2a5123-9fd9-44ba-baba-a5a5b1fd217d\")>]"
      ]
     },
     "execution_count": 13,
     "metadata": {},
     "output_type": "execute_result"
    }
   ],
   "source": [
    "no_salary = driver.find_elements_by_xpath(\"//div[@class='col-12 col-lg-auto']\")\n",
    "no_salary"
   ]
  },
  {
   "cell_type": "code",
   "execution_count": 14,
   "metadata": {},
   "outputs": [
    {
     "data": {
      "text/plain": [
       "['21 salaries',\n",
       " '20 salaries',\n",
       " '15 salaries',\n",
       " '15 salaries',\n",
       " '14 salaries',\n",
       " '14 salaries',\n",
       " '10 salaries',\n",
       " '10 salaries',\n",
       " '10 salaries',\n",
       " '9 salaries',\n",
       " '8 salaries',\n",
       " '8 salaries',\n",
       " '8 salaries',\n",
       " '8 salaries',\n",
       " '7 salaries',\n",
       " '7 salaries',\n",
       " '6 salaries',\n",
       " '6 salaries',\n",
       " '6 salaries',\n",
       " '6 salaries']"
      ]
     },
     "execution_count": 14,
     "metadata": {},
     "output_type": "execute_result"
    }
   ],
   "source": [
    "Noofsalary = []\n",
    "for i in no_salary:\n",
    "    Noofsalary.append(i.text)\n",
    "Noofsalary"
   ]
  },
  {
   "cell_type": "code",
   "execution_count": 15,
   "metadata": {},
   "outputs": [
    {
     "data": {
      "text/plain": [
       "[<selenium.webdriver.remote.webelement.WebElement (session=\"8366e7ea822d81de19aeb3751b8fe562\", element=\"eeed4d87-5334-4278-9a91-834f25d1df7b\")>,\n",
       " <selenium.webdriver.remote.webelement.WebElement (session=\"8366e7ea822d81de19aeb3751b8fe562\", element=\"9fc8c0c6-c4e8-466d-a4a3-a69d4621ecc8\")>,\n",
       " <selenium.webdriver.remote.webelement.WebElement (session=\"8366e7ea822d81de19aeb3751b8fe562\", element=\"f7f5d9d9-5825-442f-bec7-9955124cdc52\")>,\n",
       " <selenium.webdriver.remote.webelement.WebElement (session=\"8366e7ea822d81de19aeb3751b8fe562\", element=\"518479ad-30ef-41a5-8934-a09c24504803\")>,\n",
       " <selenium.webdriver.remote.webelement.WebElement (session=\"8366e7ea822d81de19aeb3751b8fe562\", element=\"c69108cf-850d-4396-9291-c9f0b24444d8\")>,\n",
       " <selenium.webdriver.remote.webelement.WebElement (session=\"8366e7ea822d81de19aeb3751b8fe562\", element=\"f66028e2-b06e-4b0e-9e28-141ed7a4091b\")>,\n",
       " <selenium.webdriver.remote.webelement.WebElement (session=\"8366e7ea822d81de19aeb3751b8fe562\", element=\"bf3d7552-bc2b-45d8-a81b-59d479316144\")>,\n",
       " <selenium.webdriver.remote.webelement.WebElement (session=\"8366e7ea822d81de19aeb3751b8fe562\", element=\"aadb4395-08cf-48cc-bee6-b643089835e2\")>,\n",
       " <selenium.webdriver.remote.webelement.WebElement (session=\"8366e7ea822d81de19aeb3751b8fe562\", element=\"d797ee7b-dc05-46af-aabf-fbc0ea85cf8e\")>,\n",
       " <selenium.webdriver.remote.webelement.WebElement (session=\"8366e7ea822d81de19aeb3751b8fe562\", element=\"55866794-0786-480c-bd51-ef6160272d2b\")>,\n",
       " <selenium.webdriver.remote.webelement.WebElement (session=\"8366e7ea822d81de19aeb3751b8fe562\", element=\"0f321377-5b1c-481e-86a5-4f3c88215282\")>,\n",
       " <selenium.webdriver.remote.webelement.WebElement (session=\"8366e7ea822d81de19aeb3751b8fe562\", element=\"d63df330-9b79-4c6e-a204-4be7e68a3dad\")>,\n",
       " <selenium.webdriver.remote.webelement.WebElement (session=\"8366e7ea822d81de19aeb3751b8fe562\", element=\"11b385da-f2fe-40fc-9807-9ce712e0e176\")>,\n",
       " <selenium.webdriver.remote.webelement.WebElement (session=\"8366e7ea822d81de19aeb3751b8fe562\", element=\"a7428053-300d-46fb-b937-fd7759a7b6bc\")>,\n",
       " <selenium.webdriver.remote.webelement.WebElement (session=\"8366e7ea822d81de19aeb3751b8fe562\", element=\"178c8256-5bc5-40ab-8e40-327c6b812cef\")>,\n",
       " <selenium.webdriver.remote.webelement.WebElement (session=\"8366e7ea822d81de19aeb3751b8fe562\", element=\"2b05687c-7066-4ce7-b5e1-b8151d705822\")>,\n",
       " <selenium.webdriver.remote.webelement.WebElement (session=\"8366e7ea822d81de19aeb3751b8fe562\", element=\"48aa5112-5370-47f2-b123-84c9e163b394\")>,\n",
       " <selenium.webdriver.remote.webelement.WebElement (session=\"8366e7ea822d81de19aeb3751b8fe562\", element=\"0b3da5d1-b295-4341-99f2-c9b627df5e51\")>,\n",
       " <selenium.webdriver.remote.webelement.WebElement (session=\"8366e7ea822d81de19aeb3751b8fe562\", element=\"59223c31-6ee1-43b2-9abf-62bb71d00a70\")>,\n",
       " <selenium.webdriver.remote.webelement.WebElement (session=\"8366e7ea822d81de19aeb3751b8fe562\", element=\"a55716d3-ad54-4eb0-a365-8a2366f7ddce\")>]"
      ]
     },
     "execution_count": 15,
     "metadata": {},
     "output_type": "execute_result"
    }
   ],
   "source": [
    "avgsalary = driver.find_elements_by_xpath(\"//div[@class='col-12 col-lg-4 px-lg-0 d-flex align-items-baseline']\")\n",
    "avgsalary"
   ]
  },
  {
   "cell_type": "code",
   "execution_count": 16,
   "metadata": {},
   "outputs": [
    {
     "data": {
      "text/plain": [
       "['₹6,19,349 /yr',\n",
       " '₹9,00,000 /yr',\n",
       " '₹11,71,012 /yr',\n",
       " '₹12,26,283 /yr',\n",
       " '₹7,44,116 /yr',\n",
       " '₹12,80,000 /yr',\n",
       " '₹13,29,677 /yr',\n",
       " '₹14,28,139 /yr',\n",
       " '₹8,69,449 /yr',\n",
       " '₹11,10,000 /yr',\n",
       " '₹9,53,560 /yr',\n",
       " '₹11,49,894 /yr',\n",
       " '₹10,81,155 /yr',\n",
       " '₹12,17,018 /yr',\n",
       " '₹14,24,677 /yr',\n",
       " '₹11,09,179 /yr',\n",
       " '₹20,25,084 /yr',\n",
       " '₹10,60,462 /yr',\n",
       " '₹34,383 /mo',\n",
       " '₹8,32,315 /yr']"
      ]
     },
     "execution_count": 16,
     "metadata": {},
     "output_type": "execute_result"
    }
   ],
   "source": [
    "Avgsalary = []\n",
    "for i in avgsalary:\n",
    "    Avgsalary.append(i.text.replace(\"\\n\",\"\"))\n",
    "Avgsalary"
   ]
  },
  {
   "cell_type": "code",
   "execution_count": 17,
   "metadata": {},
   "outputs": [],
   "source": [
    "urls = []\n",
    "for i in driver.find_elements_by_xpath(\"//a[@class='css-f3vw95 e1aj7ssy3']\"):\n",
    "    urls.append(i.get_attribute(\"href\"))"
   ]
  },
  {
   "cell_type": "code",
   "execution_count": 18,
   "metadata": {},
   "outputs": [
    {
     "data": {
      "text/plain": [
       "20"
      ]
     },
     "execution_count": 18,
     "metadata": {},
     "output_type": "execute_result"
    }
   ],
   "source": [
    "len(urls)"
   ]
  },
  {
   "cell_type": "code",
   "execution_count": 19,
   "metadata": {},
   "outputs": [
    {
     "data": {
      "text/plain": [
       "['https://www.glassdoor.co.in/Salary/Tata-Consultancy-Services-Data-Scientist-New-Delhi-Salaries-EJI_IE13461.0,25_KO26,40_IL.41,50_IM1083.htm',\n",
       " 'https://www.glassdoor.co.in/Salary/IBM-Data-Scientist-New-Delhi-Salaries-EJI_IE354.0,3_KO4,18_IL.19,28_IM1083.htm',\n",
       " 'https://www.glassdoor.co.in/Salary/Accenture-Data-Scientist-New-Delhi-Salaries-EJI_IE4138.0,9_KO10,24_IL.25,34_IM1083.htm',\n",
       " 'https://www.glassdoor.co.in/Salary/Delhivery-Data-Scientist-New-Delhi-Salaries-EJI_IE513409.0,9_KO10,24_IL.25,34_IM1083.htm',\n",
       " 'https://www.glassdoor.co.in/Salary/Ericsson-Worldwide-Data-Scientist-New-Delhi-Salaries-EJI_IE3472.0,18_KO19,33_IL.34,43_IM1083.htm',\n",
       " 'https://www.glassdoor.co.in/Salary/UnitedHealth-Group-Data-Scientist-New-Delhi-Salaries-EJI_IE1991.0,18_KO19,33_IL.34,43_IM1083.htm',\n",
       " 'https://www.glassdoor.co.in/Salary/Optum-Data-Scientist-New-Delhi-Salaries-EJI_IE2409113.0,5_KO6,20_IL.21,30_IM1083.htm',\n",
       " 'https://www.glassdoor.co.in/Salary/Optum-Global-Solutions-Data-Scientist-New-Delhi-Salaries-EJI_IE3725926.0,22_KO23,37_IL.38,47_IM1083.htm',\n",
       " 'https://www.glassdoor.co.in/Salary/Valiance-Solutions-Data-Scientist-New-Delhi-Salaries-EJI_IE895637.0,18_KO19,33_IL.34,43_IM1083.htm',\n",
       " 'https://www.glassdoor.co.in/Salary/EXL-Service-Data-Scientist-New-Delhi-Salaries-EJI_IE37901.0,11_KO12,26_IL.27,36_IM1083.htm',\n",
       " 'https://www.glassdoor.co.in/Salary/Cognizant-Technology-Solutions-Data-Scientist-New-Delhi-Salaries-EJI_IE8014.0,30_KO31,45_IL.46,55_IM1083.htm',\n",
       " 'https://www.glassdoor.co.in/Salary/ZS-Associates-Data-Scientist-New-Delhi-Salaries-EJI_IE115506.0,13_KO14,28_IL.29,38_IM1083.htm',\n",
       " 'https://www.glassdoor.co.in/Salary/Nagarro-Data-Scientist-New-Delhi-Salaries-EJI_IE240077.0,7_KO8,22_IL.23,32_IM1083.htm',\n",
       " 'https://www.glassdoor.co.in/Salary/Innovaccer-Data-Scientist-New-Delhi-Salaries-EJI_IE721552.0,10_KO11,25_IL.26,35_IM1083.htm',\n",
       " 'https://www.glassdoor.co.in/Salary/OYO-Data-Scientist-New-Delhi-Salaries-EJI_IE953789.0,3_KO4,18_IL.19,28_IM1083.htm',\n",
       " 'https://www.glassdoor.co.in/Salary/dunnhumby-Data-Scientist-New-Delhi-Salaries-EJI_IE195922.0,9_KO10,24_IL.25,34_IM1083.htm',\n",
       " 'https://www.glassdoor.co.in/Salary/Amazon-Data-Scientist-New-Delhi-Salaries-EJI_IE6036.0,6_KO7,21_IL.22,31_IM1083.htm',\n",
       " 'https://www.glassdoor.co.in/Salary/CARS24-com-Data-Scientist-New-Delhi-Salaries-EJI_IE1316104.0,10_KO11,25_IL.26,35_IM1083.htm',\n",
       " 'https://www.glassdoor.co.in/Salary/Vidooly-Media-Tech-Data-Scientist-New-Delhi-EJI_IE1483199.0,18_KO19,33_IL.34,43_IM1083.htm?filter.payPeriod=MONTHLY',\n",
       " 'https://www.glassdoor.co.in/Salary/ParallelDots-Data-Scientist-New-Delhi-Salaries-EJI_IE1817397.0,12_KO13,27_IL.28,37_IM1083.htm']"
      ]
     },
     "execution_count": 19,
     "metadata": {},
     "output_type": "execute_result"
    }
   ],
   "source": [
    "urls"
   ]
  },
  {
   "cell_type": "code",
   "execution_count": 20,
   "metadata": {},
   "outputs": [],
   "source": [
    "minsalary=[]\n",
    "maxsalary = []"
   ]
  },
  {
   "cell_type": "code",
   "execution_count": 22,
   "metadata": {},
   "outputs": [],
   "source": [
    "for i in urls:\n",
    "    driver.get(i)\n",
    "    time.sleep(5)\n",
    "    \n",
    "    try:\n",
    "        salary = driver.find_element_by_xpath(\"//div[@class='d-flex flex-column css-12efcmn css-fajoci eb8fmw6']/strong\")\n",
    "        minsalary.append(salary.text)\n",
    "    except:\n",
    "        minsalary.append('-')\n",
    "        \n",
    "    try:\n",
    "        msalary = driver.find_element_by_xpath(\"//div[@class='d-flex flex-column css-12efcmn align-items-end css-p6bucf eb8fmw6']/strong\")\n",
    "        maxsalary.append(msalary.text)\n",
    "    except:\n",
    "        maxsalary.append('-')"
   ]
  },
  {
   "cell_type": "code",
   "execution_count": 23,
   "metadata": {},
   "outputs": [
    {
     "name": "stdout",
     "output_type": "stream",
     "text": [
      "['₹5L', '₹7L', '₹7L', '-', '₹5L', '₹11L', '₹11L', '₹12L', '₹7L', '₹9L', '₹8L', '₹6L', '₹7L', '₹6L', '₹10L', '₹9L', '₹15L', '₹9L', '₹15T', '₹6L']\n",
      "['₹9L', '₹20L', '₹15L', '-', '₹11L', '₹15L', '₹16L', '₹17L', '₹12L', '₹13L', '₹11L', '₹13L', '₹15L', '₹16L', '₹19L', '₹16L', '₹26L', '₹15L', '₹62T', '₹25L']\n"
     ]
    }
   ],
   "source": [
    "print(minsalary)\n",
    "print(maxsalary)"
   ]
  },
  {
   "cell_type": "code",
   "execution_count": 25,
   "metadata": {},
   "outputs": [
    {
     "data": {
      "text/plain": [
       "[<selenium.webdriver.remote.webelement.WebElement (session=\"8366e7ea822d81de19aeb3751b8fe562\", element=\"d761d38d-f776-483d-8888-13801e297b54\")>,\n",
       " <selenium.webdriver.remote.webelement.WebElement (session=\"8366e7ea822d81de19aeb3751b8fe562\", element=\"04e4579c-3b97-4d4b-a974-7517db46b275\")>,\n",
       " <selenium.webdriver.remote.webelement.WebElement (session=\"8366e7ea822d81de19aeb3751b8fe562\", element=\"3aa5d577-47b5-41d8-adbe-90999f23fc93\")>,\n",
       " <selenium.webdriver.remote.webelement.WebElement (session=\"8366e7ea822d81de19aeb3751b8fe562\", element=\"aeb60672-29ba-40bb-83f1-7594316411ba\")>,\n",
       " <selenium.webdriver.remote.webelement.WebElement (session=\"8366e7ea822d81de19aeb3751b8fe562\", element=\"d855b99e-bc4a-4cfa-a5d1-0a664631a05b\")>,\n",
       " <selenium.webdriver.remote.webelement.WebElement (session=\"8366e7ea822d81de19aeb3751b8fe562\", element=\"277fc85c-2848-4ee4-a5fa-edb501d2ba61\")>,\n",
       " <selenium.webdriver.remote.webelement.WebElement (session=\"8366e7ea822d81de19aeb3751b8fe562\", element=\"22265acb-149b-45db-9a3f-1f811067d083\")>,\n",
       " <selenium.webdriver.remote.webelement.WebElement (session=\"8366e7ea822d81de19aeb3751b8fe562\", element=\"967aad98-202d-47b2-886b-58584e618337\")>,\n",
       " <selenium.webdriver.remote.webelement.WebElement (session=\"8366e7ea822d81de19aeb3751b8fe562\", element=\"e24d0d88-1476-4147-9a98-5d072fdd1b10\")>,\n",
       " <selenium.webdriver.remote.webelement.WebElement (session=\"8366e7ea822d81de19aeb3751b8fe562\", element=\"499e160b-639d-426d-b959-000d0ff7cb16\")>,\n",
       " <selenium.webdriver.remote.webelement.WebElement (session=\"8366e7ea822d81de19aeb3751b8fe562\", element=\"2404fb53-dc06-461d-a7fc-f64b219d7949\")>,\n",
       " <selenium.webdriver.remote.webelement.WebElement (session=\"8366e7ea822d81de19aeb3751b8fe562\", element=\"63fbaa35-89e2-472e-9130-40aafaea1b74\")>,\n",
       " <selenium.webdriver.remote.webelement.WebElement (session=\"8366e7ea822d81de19aeb3751b8fe562\", element=\"8bc1d50c-f1c0-436c-80d6-2f9023bff95e\")>,\n",
       " <selenium.webdriver.remote.webelement.WebElement (session=\"8366e7ea822d81de19aeb3751b8fe562\", element=\"44382753-5fd4-4317-92d5-32945ad5fb08\")>,\n",
       " <selenium.webdriver.remote.webelement.WebElement (session=\"8366e7ea822d81de19aeb3751b8fe562\", element=\"ef19b0f1-b068-4a55-8539-9f77d1f1683d\")>,\n",
       " <selenium.webdriver.remote.webelement.WebElement (session=\"8366e7ea822d81de19aeb3751b8fe562\", element=\"de173804-e5c7-404b-95ef-4d1c4c520dfa\")>,\n",
       " <selenium.webdriver.remote.webelement.WebElement (session=\"8366e7ea822d81de19aeb3751b8fe562\", element=\"61d40765-9231-403f-aa20-8db63eff8b9e\")>,\n",
       " <selenium.webdriver.remote.webelement.WebElement (session=\"8366e7ea822d81de19aeb3751b8fe562\", element=\"36aab35f-96c3-4f6f-9ca1-b66cf391edaa\")>,\n",
       " <selenium.webdriver.remote.webelement.WebElement (session=\"8366e7ea822d81de19aeb3751b8fe562\", element=\"0cba140d-46bf-433e-95bb-b978b8ae2246\")>,\n",
       " <selenium.webdriver.remote.webelement.WebElement (session=\"8366e7ea822d81de19aeb3751b8fe562\", element=\"6e89021a-cf7c-4c0e-b4d6-6524c243ee97\")>]"
      ]
     },
     "execution_count": 25,
     "metadata": {},
     "output_type": "execute_result"
    }
   ],
   "source": [
    "varrate3 = driver.find_elements_by_xpath(\"//span[@class='m-0 css-kyx745']\")\n",
    "varrate3"
   ]
  },
  {
   "cell_type": "code",
   "execution_count": 26,
   "metadata": {},
   "outputs": [
    {
     "data": {
      "text/plain": [
       "['3.9',\n",
       " '3.9',\n",
       " '4.1',\n",
       " '3.8',\n",
       " '4',\n",
       " '3.7',\n",
       " '3.7',\n",
       " '3.9',\n",
       " '4.2',\n",
       " '3.6',\n",
       " '3.8',\n",
       " '4',\n",
       " '4',\n",
       " '3.8',\n",
       " '3.3',\n",
       " '4.1',\n",
       " '3.8',\n",
       " '4.1',\n",
       " '3.8',\n",
       " '3.8']"
      ]
     },
     "execution_count": 26,
     "metadata": {},
     "output_type": "execute_result"
    }
   ],
   "source": [
    "Ratings3 = []\n",
    "for a in varrate3:\n",
    "    Ratings3.append(a.text)\n",
    "Ratings3"
   ]
  },
  {
   "cell_type": "code",
   "execution_count": 28,
   "metadata": {},
   "outputs": [
    {
     "data": {
      "text/html": [
       "<div>\n",
       "<style scoped>\n",
       "    .dataframe tbody tr th:only-of-type {\n",
       "        vertical-align: middle;\n",
       "    }\n",
       "\n",
       "    .dataframe tbody tr th {\n",
       "        vertical-align: top;\n",
       "    }\n",
       "\n",
       "    .dataframe thead th {\n",
       "        text-align: right;\n",
       "    }\n",
       "</style>\n",
       "<table border=\"1\" class=\"dataframe\">\n",
       "  <thead>\n",
       "    <tr style=\"text-align: right;\">\n",
       "      <th></th>\n",
       "      <th>Min Salary</th>\n",
       "      <th>Max Salary</th>\n",
       "      <th>Company Name</th>\n",
       "      <th>Average Salary</th>\n",
       "      <th>Ratings</th>\n",
       "    </tr>\n",
       "  </thead>\n",
       "  <tbody>\n",
       "    <tr>\n",
       "      <th>0</th>\n",
       "      <td>₹5L</td>\n",
       "      <td>₹9L</td>\n",
       "      <td>Tata Consultancy Services</td>\n",
       "      <td>₹6,19,349 /yr</td>\n",
       "      <td>3.9</td>\n",
       "    </tr>\n",
       "    <tr>\n",
       "      <th>1</th>\n",
       "      <td>₹7L</td>\n",
       "      <td>₹20L</td>\n",
       "      <td>IBM</td>\n",
       "      <td>₹9,00,000 /yr</td>\n",
       "      <td>3.9</td>\n",
       "    </tr>\n",
       "    <tr>\n",
       "      <th>2</th>\n",
       "      <td>₹7L</td>\n",
       "      <td>₹15L</td>\n",
       "      <td>Accenture</td>\n",
       "      <td>₹11,71,012 /yr</td>\n",
       "      <td>4.1</td>\n",
       "    </tr>\n",
       "    <tr>\n",
       "      <th>3</th>\n",
       "      <td>-</td>\n",
       "      <td>-</td>\n",
       "      <td>Delhivery</td>\n",
       "      <td>₹12,26,283 /yr</td>\n",
       "      <td>3.8</td>\n",
       "    </tr>\n",
       "    <tr>\n",
       "      <th>4</th>\n",
       "      <td>₹5L</td>\n",
       "      <td>₹11L</td>\n",
       "      <td>Ericsson-Worldwide</td>\n",
       "      <td>₹7,44,116 /yr</td>\n",
       "      <td>4</td>\n",
       "    </tr>\n",
       "    <tr>\n",
       "      <th>5</th>\n",
       "      <td>₹11L</td>\n",
       "      <td>₹15L</td>\n",
       "      <td>UnitedHealth Group</td>\n",
       "      <td>₹12,80,000 /yr</td>\n",
       "      <td>3.7</td>\n",
       "    </tr>\n",
       "    <tr>\n",
       "      <th>6</th>\n",
       "      <td>₹11L</td>\n",
       "      <td>₹16L</td>\n",
       "      <td>Optum</td>\n",
       "      <td>₹13,29,677 /yr</td>\n",
       "      <td>3.7</td>\n",
       "    </tr>\n",
       "    <tr>\n",
       "      <th>7</th>\n",
       "      <td>₹12L</td>\n",
       "      <td>₹17L</td>\n",
       "      <td>Optum Global Solutions</td>\n",
       "      <td>₹14,28,139 /yr</td>\n",
       "      <td>3.9</td>\n",
       "    </tr>\n",
       "    <tr>\n",
       "      <th>8</th>\n",
       "      <td>₹7L</td>\n",
       "      <td>₹12L</td>\n",
       "      <td>Valiance Solutions</td>\n",
       "      <td>₹8,69,449 /yr</td>\n",
       "      <td>4.2</td>\n",
       "    </tr>\n",
       "    <tr>\n",
       "      <th>9</th>\n",
       "      <td>₹9L</td>\n",
       "      <td>₹13L</td>\n",
       "      <td>EXL Service</td>\n",
       "      <td>₹11,10,000 /yr</td>\n",
       "      <td>3.6</td>\n",
       "    </tr>\n",
       "  </tbody>\n",
       "</table>\n",
       "</div>"
      ],
      "text/plain": [
       "  Min Salary Max Salary               Company Name  Average Salary Ratings\n",
       "0        ₹5L        ₹9L  Tata Consultancy Services   ₹6,19,349 /yr     3.9\n",
       "1        ₹7L       ₹20L                        IBM   ₹9,00,000 /yr     3.9\n",
       "2        ₹7L       ₹15L                  Accenture  ₹11,71,012 /yr     4.1\n",
       "3          -          -                  Delhivery  ₹12,26,283 /yr     3.8\n",
       "4        ₹5L       ₹11L         Ericsson-Worldwide   ₹7,44,116 /yr       4\n",
       "5       ₹11L       ₹15L         UnitedHealth Group  ₹12,80,000 /yr     3.7\n",
       "6       ₹11L       ₹16L                      Optum  ₹13,29,677 /yr     3.7\n",
       "7       ₹12L       ₹17L     Optum Global Solutions  ₹14,28,139 /yr     3.9\n",
       "8        ₹7L       ₹12L         Valiance Solutions   ₹8,69,449 /yr     4.2\n",
       "9        ₹9L       ₹13L                EXL Service  ₹11,10,000 /yr     3.6"
      ]
     },
     "execution_count": 28,
     "metadata": {},
     "output_type": "execute_result"
    }
   ],
   "source": [
    "df_Glassdoor = pd.DataFrame({})\n",
    "df_Glassdoor[\"Min Salary\"] = minsalary[:10]\n",
    "df_Glassdoor[\"Max Salary\"] = maxsalary[:10]\n",
    "df_Glassdoor[\"Company Name\"] = com_name3[:10]\n",
    "df_Glassdoor[\"Average Salary\"] = Avgsalary[:10]\n",
    "df_Glassdoor[\"Ratings\"] = Ratings3[:10]\n",
    "df_Glassdoor"
   ]
  },
  {
   "cell_type": "markdown",
   "metadata": {},
   "source": [
    "# Q6 : Scrape data of first 100 sunglasses listings on flipkart.com. You have to scrape four attributes:"
   ]
  },
  {
   "cell_type": "code",
   "execution_count": 52,
   "metadata": {},
   "outputs": [],
   "source": [
    "import time \n",
    "from selenium.common.exceptions import NoSuchElementException"
   ]
  },
  {
   "cell_type": "code",
   "execution_count": 53,
   "metadata": {},
   "outputs": [],
   "source": [
    "driver = webdriver.Chrome(\"chromedriver.exe\")\n",
    "url= \"https://www.flipkart.com/\"\n",
    "driver.get(url)"
   ]
  },
  {
   "cell_type": "code",
   "execution_count": 54,
   "metadata": {},
   "outputs": [
    {
     "data": {
      "text/plain": [
       "<selenium.webdriver.remote.webelement.WebElement (session=\"affc1aef83f5444099a29472513d1ba9\", element=\"3046e4c2-c9f5-4731-abfa-7c2b7c7facb8\")>"
      ]
     },
     "execution_count": 54,
     "metadata": {},
     "output_type": "execute_result"
    }
   ],
   "source": [
    "varsearch4 = driver.find_element_by_xpath(\"//input[@class='_3704LK']\")\n",
    "varsearch4"
   ]
  },
  {
   "cell_type": "code",
   "execution_count": 55,
   "metadata": {},
   "outputs": [
    {
     "data": {
      "text/plain": [
       "<selenium.webdriver.remote.webelement.WebElement (session=\"affc1aef83f5444099a29472513d1ba9\", element=\"3046e4c2-c9f5-4731-abfa-7c2b7c7facb8\")>"
      ]
     },
     "execution_count": 55,
     "metadata": {},
     "output_type": "execute_result"
    }
   ],
   "source": [
    "varsearch4.send_keys(\"Sunglasses\")\n",
    "varsearch4"
   ]
  },
  {
   "cell_type": "code",
   "execution_count": 56,
   "metadata": {},
   "outputs": [
    {
     "data": {
      "text/plain": [
       "<selenium.webdriver.remote.webelement.WebElement (session=\"affc1aef83f5444099a29472513d1ba9\", element=\"a2d8f33d-75d4-4cb9-8aef-1219f54a9f03\")>"
      ]
     },
     "execution_count": 56,
     "metadata": {},
     "output_type": "execute_result"
    }
   ],
   "source": [
    "button5 = driver.find_element_by_xpath(\"//button[@class='L0Z3Pu']\")\n",
    "button5"
   ]
  },
  {
   "cell_type": "code",
   "execution_count": 57,
   "metadata": {},
   "outputs": [],
   "source": [
    "button5.click()"
   ]
  },
  {
   "cell_type": "code",
   "execution_count": 58,
   "metadata": {},
   "outputs": [],
   "source": [
    "urls1 = []\n",
    "for i in driver.find_elements_by_xpath(\"//a[@class='IRpwTa']\"):\n",
    "    urls1.append(i.get_attribute(\"href\"))"
   ]
  },
  {
   "cell_type": "code",
   "execution_count": 59,
   "metadata": {},
   "outputs": [],
   "source": [
    "for a in driver.find_elements_by_xpath(\"//a[@class='IRpwTa']\"):\n",
    "    urls1.append(a.get_attribute(\"href\"))"
   ]
  },
  {
   "cell_type": "code",
   "execution_count": 60,
   "metadata": {},
   "outputs": [],
   "source": [
    "for b in driver.find_elements_by_xpath(\"//a[@class='IRpwTa']\"):\n",
    "    urls1.append(b.get_attribute(\"href\"))\n"
   ]
  },
  {
   "cell_type": "code",
   "execution_count": 61,
   "metadata": {},
   "outputs": [
    {
     "data": {
      "text/plain": [
       "111"
      ]
     },
     "execution_count": 61,
     "metadata": {},
     "output_type": "execute_result"
    }
   ],
   "source": [
    "len(urls1)"
   ]
  },
  {
   "cell_type": "code",
   "execution_count": 62,
   "metadata": {},
   "outputs": [
    {
     "data": {
      "text/plain": [
       "['https://www.flipkart.com/royal-son-round-sunglasses/p/itm08ee366f541f9?pid=SGLFZJV9XTPRHAZQ&lid=LSTSGLFZJV9XTPRHAZQ48MYNV&marketplace=FLIPKART&q=Sunglasses&store=26x&srno=s_1_2&otracker=search&otracker1=search&fm=SEARCH&iid=en_J9voIV%2Bu28XoXRt9ekMuHhndeDfcsN8ti5hrWivdgXcZ4lvPLQzpU7t1nDSsDIz9JJTRm%2BSXT4PgGd6YeGpiuQ%3D%3D&ppt=hp&ppn=homepage&ssid=zw2zfuwng00000001631098639348&qH=0ff7a11a5902c9f7',\n",
       " 'https://www.flipkart.com/elligator-round-sunglasses/p/itm3c981fc444358?pid=SGLFPHP5BVBJTCDB&lid=LSTSGLFPHP5BVBJTCDB7P4T6G&marketplace=FLIPKART&q=Sunglasses&store=26x&spotlightTagId=BestsellerId_26x&srno=s_1_3&otracker=search&otracker1=search&fm=SEARCH&iid=beff398b-3811-4003-8cc1-bd84b1959e7f.SGLFPHP5BVBJTCDB.SEARCH&ppt=sp&ppn=sp&ssid=zw2zfuwng00000001631098639348&qH=0ff7a11a5902c9f7',\n",
       " 'https://www.flipkart.com/shaah-collections-rectangular-sunglasses/p/itm201340b1c3e13?pid=SGLFXWGV5TGFFSPX&lid=LSTSGLFXWGV5TGFFSPXSORUG9&marketplace=FLIPKART&q=Sunglasses&store=26x&srno=s_1_4&otracker=search&otracker1=search&fm=SEARCH&iid=beff398b-3811-4003-8cc1-bd84b1959e7f.SGLFXWGV5TGFFSPX.SEARCH&ppt=hp&ppn=homepage&ssid=zw2zfuwng00000001631098639348&qH=0ff7a11a5902c9f7',\n",
       " 'https://www.flipkart.com/piraso-aviator-sunglasses/p/itm70504d13b7992?pid=SGLFV8YYCEA8RWAC&lid=LSTSGLFV8YYCEA8RWACIACICJ&marketplace=FLIPKART&q=Sunglasses&store=26x&srno=s_1_5&otracker=search&otracker1=search&fm=SEARCH&iid=beff398b-3811-4003-8cc1-bd84b1959e7f.SGLFV8YYCEA8RWAC.SEARCH&ppt=hp&ppn=homepage&ssid=zw2zfuwng00000001631098639348&qH=0ff7a11a5902c9f7',\n",
       " 'https://www.flipkart.com/piraso-aviator-sunglasses/p/itm4210bb67b2728?pid=SGLFPFD7WRNASWSV&lid=LSTSGLFPFD7WRNASWSVJLGDDX&marketplace=FLIPKART&q=Sunglasses&store=26x&srno=s_1_6&otracker=search&otracker1=search&fm=SEARCH&iid=beff398b-3811-4003-8cc1-bd84b1959e7f.SGLFPFD7WRNASWSV.SEARCH&ppt=hp&ppn=homepage&ssid=zw2zfuwng00000001631098639348&qH=0ff7a11a5902c9f7',\n",
       " 'https://www.flipkart.com/kingsunglasses-wayfarer-sunglasses/p/itm9c7287be7c247?pid=SGLG2ZY9UERPGCZX&lid=LSTSGLG2ZY9UERPGCZXOWQRMA&marketplace=FLIPKART&q=Sunglasses&store=26x&srno=s_1_7&otracker=search&otracker1=search&fm=SEARCH&iid=beff398b-3811-4003-8cc1-bd84b1959e7f.SGLG2ZY9UERPGCZX.SEARCH&ppt=hp&ppn=homepage&ssid=zw2zfuwng00000001631098639348&qH=0ff7a11a5902c9f7',\n",
       " 'https://www.flipkart.com/gansta-aviator-sunglasses/p/itmf7hmfp5r8hcdb?pid=SGLF7HGZKHHSTQ8H&lid=LSTSGLF7HGZKHHSTQ8H5VK4WX&marketplace=FLIPKART&q=Sunglasses&store=26x&srno=s_1_8&otracker=search&otracker1=search&fm=SEARCH&iid=en_J9voIV%2Bu28XoXRt9ekMuHhndeDfcsN8ti5hrWivdgXdFJDuAB%2FZp97RDELBDaQBPwYKnW9zRAyuBNT8PUbEbqw%3D%3D&ppt=hp&ppn=homepage&ssid=zw2zfuwng00000001631098639348&qH=0ff7a11a5902c9f7',\n",
       " 'https://www.flipkart.com/fastrack-wayfarer-sunglasses/p/itmf79dqjqucq9f3?pid=SGLF79DQR8NQAT2W&lid=LSTSGLF79DQR8NQAT2W0MLSHN&marketplace=FLIPKART&q=Sunglasses&store=26x&srno=s_1_9&otracker=search&otracker1=search&fm=SEARCH&iid=beff398b-3811-4003-8cc1-bd84b1959e7f.SGLF79DQR8NQAT2W.SEARCH&ppt=hp&ppn=homepage&ssid=zw2zfuwng00000001631098639348&qH=0ff7a11a5902c9f7',\n",
       " 'https://www.flipkart.com/fastrack-wayfarer-sunglasses/p/itm04d9621b98c78?pid=SGLFG94C8PAHZ3SH&lid=LSTSGLFG94C8PAHZ3SHAFCJXO&marketplace=FLIPKART&q=Sunglasses&store=26x&srno=s_1_10&otracker=search&otracker1=search&fm=SEARCH&iid=beff398b-3811-4003-8cc1-bd84b1959e7f.SGLFG94C8PAHZ3SH.SEARCH&ppt=hp&ppn=homepage&ssid=zw2zfuwng00000001631098639348&qH=0ff7a11a5902c9f7',\n",
       " 'https://www.flipkart.com/kingsunglasses-round-sunglasses/p/itmfb9juuhzg79rv?pid=SGLFB9GQVKJZGNDG&lid=LSTSGLFB9GQVKJZGNDGMUY598&marketplace=FLIPKART&q=Sunglasses&store=26x&srno=s_1_11&otracker=search&otracker1=search&fm=SEARCH&iid=beff398b-3811-4003-8cc1-bd84b1959e7f.SGLFB9GQVKJZGNDG.SEARCH&ppt=hp&ppn=homepage&ssid=zw2zfuwng00000001631098639348&qH=0ff7a11a5902c9f7',\n",
       " 'https://www.flipkart.com/aislin-wayfarer-clubmaster-sunglasses/p/itmbf02576eec46d?pid=SGLFRGT7ZXNA6TKS&lid=LSTSGLFRGT7ZXNA6TKSRFMFYA&marketplace=FLIPKART&q=Sunglasses&store=26x&srno=s_1_12&otracker=search&otracker1=search&fm=SEARCH&iid=en_J9voIV%2Bu28XoXRt9ekMuHhndeDfcsN8ti5hrWivdgXfuW1J6CCk%2FCLRMmX0ovoAlnq8%2BoA0GvFKZ41ssWlFm4w%3D%3D&ppt=hp&ppn=homepage&ssid=zw2zfuwng00000001631098639348&qH=0ff7a11a5902c9f7',\n",
       " 'https://www.flipkart.com/shaah-collections-rectangular-sunglasses/p/itm98878a113520c?pid=SGLFXXKC3RYXQWFG&lid=LSTSGLFXXKC3RYXQWFGB3OAUU&marketplace=FLIPKART&q=Sunglasses&store=26x&srno=s_1_13&otracker=search&otracker1=search&fm=SEARCH&iid=beff398b-3811-4003-8cc1-bd84b1959e7f.SGLFXXKC3RYXQWFG.SEARCH&ppt=hp&ppn=homepage&ssid=zw2zfuwng00000001631098639348&qH=0ff7a11a5902c9f7',\n",
       " 'https://www.flipkart.com/piraso-aviator-sunglasses/p/itma9ed6fe9b3b86?pid=SGLFZJQUNAHYUCAS&lid=LSTSGLFZJQUNAHYUCASKDXKTE&marketplace=FLIPKART&q=Sunglasses&store=26x&srno=s_1_14&otracker=search&otracker1=search&fm=SEARCH&iid=beff398b-3811-4003-8cc1-bd84b1959e7f.SGLFZJQUNAHYUCAS.SEARCH&ppt=hp&ppn=homepage&ssid=zw2zfuwng00000001631098639348&qH=0ff7a11a5902c9f7',\n",
       " 'https://www.flipkart.com/fastrack-aviator-sunglasses/p/itmfcynnapsxpzxv?pid=SGLES2WMN7PCAERZ&lid=LSTSGLES2WMN7PCAERZZTPY54&marketplace=FLIPKART&q=Sunglasses&store=26x&srno=s_1_15&otracker=search&otracker1=search&fm=SEARCH&iid=beff398b-3811-4003-8cc1-bd84b1959e7f.SGLES2WMN7PCAERZ.SEARCH&ppt=hp&ppn=homepage&ssid=zw2zfuwng00000001631098639348&qH=0ff7a11a5902c9f7',\n",
       " 'https://www.flipkart.com/royal-son-over-sized-sunglasses/p/itmc7b1876b4b36d?pid=SGLFNFU98QFFTR2C&lid=LSTSGLFNFU98QFFTR2CJNNUEV&marketplace=FLIPKART&q=Sunglasses&store=26x&srno=s_1_16&otracker=search&otracker1=search&fm=SEARCH&iid=en_J9voIV%2Bu28XoXRt9ekMuHhndeDfcsN8ti5hrWivdgXcpajnCvESEBXyuJT8a21hDuhNt6Zc2i8nSwJt731ciwA%3D%3D&ppt=hp&ppn=homepage&ssid=zw2zfuwng00000001631098639348&qH=0ff7a11a5902c9f7',\n",
       " 'https://www.flipkart.com/shaah-collections-round-sunglasses/p/itmff9749a242cb7?pid=SGLFSHGW3ZF7QTJZ&lid=LSTSGLFSHGW3ZF7QTJZNP12XI&marketplace=FLIPKART&q=Sunglasses&store=26x&srno=s_1_17&otracker=search&otracker1=search&fm=SEARCH&iid=beff398b-3811-4003-8cc1-bd84b1959e7f.SGLFSHGW3ZF7QTJZ.SEARCH&ppt=hp&ppn=homepage&ssid=zw2zfuwng00000001631098639348&qH=0ff7a11a5902c9f7',\n",
       " 'https://www.flipkart.com/rozzetta-craft-rectangular-sunglasses/p/itmc07cb7e8aec50?pid=SGLFSZV6PXGZGZGX&lid=LSTSGLFSZV6PXGZGZGXNWELSX&marketplace=FLIPKART&q=Sunglasses&store=26x&srno=s_1_18&otracker=search&otracker1=search&fm=SEARCH&iid=beff398b-3811-4003-8cc1-bd84b1959e7f.SGLFSZV6PXGZGZGX.SEARCH&ppt=hp&ppn=homepage&ssid=zw2zfuwng00000001631098639348&qH=0ff7a11a5902c9f7',\n",
       " 'https://www.flipkart.com/phenomenal-retro-square-sunglasses/p/itm05605e75ed801?pid=SGLFUXYAXFHYQAK4&lid=LSTSGLFUXYAXFHYQAK4VF4MKG&marketplace=FLIPKART&q=Sunglasses&store=26x&srno=s_1_19&otracker=search&otracker1=search&fm=SEARCH&iid=beff398b-3811-4003-8cc1-bd84b1959e7f.SGLFUXYAXFHYQAK4.SEARCH&ppt=hp&ppn=homepage&ssid=zw2zfuwng00000001631098639348&qH=0ff7a11a5902c9f7',\n",
       " 'https://www.flipkart.com/silver-kartz-wayfarer-sunglasses/p/itmf3ykz37jypbdd?pid=SGLEXSP4CY6G2ZTY&lid=LSTSGLEXSP4CY6G2ZTYGHVAAN&marketplace=FLIPKART&q=Sunglasses&store=26x&srno=s_1_21&otracker=search&otracker1=search&fm=SEARCH&iid=beff398b-3811-4003-8cc1-bd84b1959e7f.SGLEXSP4CY6G2ZTY.SEARCH&ppt=hp&ppn=homepage&ssid=zw2zfuwng00000001631098639348&qH=0ff7a11a5902c9f7',\n",
       " 'https://www.flipkart.com/sunbee-wayfarer-sunglasses/p/itm3a7d521aaa12c?pid=SGLGFY5SSCRS6CFN&lid=LSTSGLGFY5SSCRS6CFNOKXU5T&marketplace=FLIPKART&q=Sunglasses&store=26x&srno=s_1_22&otracker=search&otracker1=search&fm=SEARCH&iid=beff398b-3811-4003-8cc1-bd84b1959e7f.SGLGFY5SSCRS6CFN.SEARCH&ppt=hp&ppn=homepage&ssid=zw2zfuwng00000001631098639348&qH=0ff7a11a5902c9f7',\n",
       " 'https://www.flipkart.com/rozzetta-craft-retro-square-sunglasses/p/itmf248ba5b3a895?pid=SGLFZFZNAQNZHYB7&lid=LSTSGLFZFZNAQNZHYB7GZ3YO5&marketplace=FLIPKART&q=Sunglasses&store=26x&srno=s_1_23&otracker=search&otracker1=search&fm=SEARCH&iid=beff398b-3811-4003-8cc1-bd84b1959e7f.SGLFZFZNAQNZHYB7.SEARCH&ppt=hp&ppn=homepage&ssid=zw2zfuwng00000001631098639348&qH=0ff7a11a5902c9f7',\n",
       " 'https://www.flipkart.com/royal-son-aviator-sunglasses/p/itm4d6aae13a0d95?pid=SGLFT7RYYMQPNHZM&lid=LSTSGLFT7RYYMQPNHZMEXDMCZ&marketplace=FLIPKART&q=Sunglasses&store=26x&srno=s_1_24&otracker=search&otracker1=search&fm=SEARCH&iid=en_J9voIV%2Bu28XoXRt9ekMuHhndeDfcsN8ti5hrWivdgXc%2BerBgSZm3wTxylLOjYprQvYuOocC%2BqbvKgYG2sZWA9g%3D%3D&ppt=hp&ppn=homepage&ssid=zw2zfuwng00000001631098639348&qH=0ff7a11a5902c9f7',\n",
       " 'https://www.flipkart.com/royal-son-rectangular-sunglasses/p/itmefc71f75555a7?pid=SGLF6GYMZHQMQX3H&lid=LSTSGLF6GYMZHQMQX3HKFFAUL&marketplace=FLIPKART&q=Sunglasses&store=26x&srno=s_1_25&otracker=search&otracker1=search&fm=SEARCH&iid=beff398b-3811-4003-8cc1-bd84b1959e7f.SGLF6GYMZHQMQX3H.SEARCH&ppt=hp&ppn=homepage&ssid=zw2zfuwng00000001631098639348&qH=0ff7a11a5902c9f7',\n",
       " 'https://www.flipkart.com/sunbee-wayfarer-sunglasses/p/itm36995681f63fb?pid=SGLG3HS7KUH3MSBH&lid=LSTSGLG3HS7KUH3MSBHTMUWXH&marketplace=FLIPKART&q=Sunglasses&store=26x&srno=s_1_26&otracker=search&otracker1=search&fm=SEARCH&iid=beff398b-3811-4003-8cc1-bd84b1959e7f.SGLG3HS7KUH3MSBH.SEARCH&ppt=hp&ppn=homepage&ssid=zw2zfuwng00000001631098639348&qH=0ff7a11a5902c9f7',\n",
       " 'https://www.flipkart.com/piraso-butterfly-sunglasses/p/itmcfb5620c8ffa0?pid=SGLFTXRFGAHRZEYG&lid=LSTSGLFTXRFGAHRZEYG1LNFS5&marketplace=FLIPKART&q=Sunglasses&store=26x&srno=s_1_27&otracker=search&otracker1=search&fm=SEARCH&iid=beff398b-3811-4003-8cc1-bd84b1959e7f.SGLFTXRFGAHRZEYG.SEARCH&ppt=hp&ppn=homepage&ssid=zw2zfuwng00000001631098639348&qH=0ff7a11a5902c9f7',\n",
       " 'https://www.flipkart.com/royal-son-wayfarer-sunglasses/p/itmfgaf93tm9amaa?pid=SGLFGAYYCQWCN5FH&lid=LSTSGLFGAYYCQWCN5FHJBRXON&marketplace=FLIPKART&q=Sunglasses&store=26x&srno=s_1_28&otracker=search&otracker1=search&fm=SEARCH&iid=en_J9voIV%2Bu28XoXRt9ekMuHhndeDfcsN8ti5hrWivdgXeROhAc9dz84yh1m66fGSVF6Qkr3R%2BbARywFPumYVIirg%3D%3D&ppt=hp&ppn=homepage&ssid=zw2zfuwng00000001631098639348&qH=0ff7a11a5902c9f7',\n",
       " 'https://www.flipkart.com/nuvew-aviator-sunglasses/p/itmc4bf4b6a80fed?pid=SGLFKGRAV5YG5YKZ&lid=LSTSGLFKGRAV5YG5YKZ68LPSR&marketplace=FLIPKART&q=Sunglasses&store=26x&srno=s_1_29&otracker=search&otracker1=search&fm=SEARCH&iid=beff398b-3811-4003-8cc1-bd84b1959e7f.SGLFKGRAV5YG5YKZ.SEARCH&ppt=hp&ppn=homepage&ssid=zw2zfuwng00000001631098639348&qH=0ff7a11a5902c9f7',\n",
       " 'https://www.flipkart.com/elligator-round-sunglasses/p/itm88859d649c827?pid=SGLFBB8BVXGUHYEY&lid=LSTSGLFBB8BVXGUHYEYK1NPCL&marketplace=FLIPKART&q=Sunglasses&store=26x&srno=s_1_30&otracker=search&otracker1=search&fm=SEARCH&iid=beff398b-3811-4003-8cc1-bd84b1959e7f.SGLFBB8BVXGUHYEY.SEARCH&ppt=hp&ppn=homepage&ssid=zw2zfuwng00000001631098639348&qH=0ff7a11a5902c9f7',\n",
       " 'https://www.flipkart.com/deixels-aviator-wayfarer-sunglasses/p/itmf3yke7n2axuym?pid=SGLF2YZXCDM6QACV&lid=LSTSGLF2YZXCDM6QACV8HRV24&marketplace=FLIPKART&q=Sunglasses&store=26x&srno=s_1_31&otracker=search&otracker1=search&fm=SEARCH&iid=beff398b-3811-4003-8cc1-bd84b1959e7f.SGLF2YZXCDM6QACV.SEARCH&ppt=hp&ppn=homepage&ssid=zw2zfuwng00000001631098639348&qH=0ff7a11a5902c9f7',\n",
       " 'https://www.flipkart.com/royal-son-butterfly-sunglasses/p/itm581171cd4ab64?pid=SGLG3PHCGQTTFHYA&lid=LSTSGLG3PHCGQTTFHYAAXR3S6&marketplace=FLIPKART&q=Sunglasses&store=26x&srno=s_1_32&otracker=search&otracker1=search&fm=SEARCH&iid=en_J9voIV%2Bu28XoXRt9ekMuHhndeDfcsN8ti5hrWivdgXehLVtN2%2BtwLx56h4HRbicNMudM%2BMGz%2BhUHrzg%2BnH9BmQ%3D%3D&ppt=hp&ppn=homepage&ssid=zw2zfuwng00000001631098639348&qH=0ff7a11a5902c9f7',\n",
       " 'https://www.flipkart.com/royal-son-aviator-sunglasses/p/itme479614d796cc?pid=SGLED3YH6AQQFTJT&lid=LSTSGLED3YH6AQQFTJTD9JARU&marketplace=FLIPKART&q=Sunglasses&store=26x&srno=s_1_33&otracker=search&otracker1=search&fm=SEARCH&iid=beff398b-3811-4003-8cc1-bd84b1959e7f.SGLED3YH6AQQFTJT.SEARCH&ppt=hp&ppn=homepage&ssid=zw2zfuwng00000001631098639348&qH=0ff7a11a5902c9f7',\n",
       " 'https://www.flipkart.com/fastrack-aviator-sunglasses/p/itmf3yh8gkcgztpg?pid=SGLF4QP8YSS9EUBC&lid=LSTSGLF4QP8YSS9EUBC8GULCJ&marketplace=FLIPKART&q=Sunglasses&store=26x&srno=s_1_34&otracker=search&otracker1=search&fm=SEARCH&iid=beff398b-3811-4003-8cc1-bd84b1959e7f.SGLF4QP8YSS9EUBC.SEARCH&ppt=hp&ppn=homepage&ssid=zw2zfuwng00000001631098639348&qH=0ff7a11a5902c9f7',\n",
       " 'https://www.flipkart.com/fastrack-wayfarer-sunglasses/p/itma3f884efb246c?pid=SGLFG94CJAP7TYFY&lid=LSTSGLFG94CJAP7TYFYMAF3H2&marketplace=FLIPKART&q=Sunglasses&store=26x&srno=s_1_35&otracker=search&otracker1=search&fm=SEARCH&iid=beff398b-3811-4003-8cc1-bd84b1959e7f.SGLFG94CJAP7TYFY.SEARCH&ppt=hp&ppn=homepage&ssid=zw2zfuwng00000001631098639348&qH=0ff7a11a5902c9f7',\n",
       " 'https://www.flipkart.com/gansta-aviator-sunglasses/p/itma841cb28ba5b2?pid=SGLFSFVG8R3XZAMN&lid=LSTSGLFSFVG8R3XZAMNIB8HEQ&marketplace=FLIPKART&q=Sunglasses&store=26x&srno=s_1_37&otracker=search&otracker1=search&fm=SEARCH&iid=beff398b-3811-4003-8cc1-bd84b1959e7f.SGLFSFVG8R3XZAMN.SEARCH&ppt=hp&ppn=homepage&ssid=zw2zfuwng00000001631098639348&qH=0ff7a11a5902c9f7',\n",
       " 'https://www.flipkart.com/rich-club-round-sunglasses/p/itm07f4fb1885fd4?pid=SGLFZGR9GSPMZFGU&lid=LSTSGLFZGR9GSPMZFGUCPHP8S&marketplace=FLIPKART&q=Sunglasses&store=26x&srno=s_1_38&otracker=search&otracker1=search&fm=SEARCH&iid=beff398b-3811-4003-8cc1-bd84b1959e7f.SGLFZGR9GSPMZFGU.SEARCH&ppt=hp&ppn=homepage&ssid=zw2zfuwng00000001631098639348&qH=0ff7a11a5902c9f7',\n",
       " 'https://www.flipkart.com/kingsunglasses-wayfarer-sunglasses/p/itm59aef661362cd?pid=SGLG2ZY2RFEUSYZS&lid=LSTSGLG2ZY2RFEUSYZSBUS16I&marketplace=FLIPKART&q=Sunglasses&store=26x&srno=s_1_39&otracker=search&otracker1=search&fm=SEARCH&iid=beff398b-3811-4003-8cc1-bd84b1959e7f.SGLG2ZY2RFEUSYZS.SEARCH&ppt=hp&ppn=homepage&ssid=zw2zfuwng00000001631098639348&qH=0ff7a11a5902c9f7',\n",
       " 'https://www.flipkart.com/royal-son-aviator-sunglasses/p/itm8185c0d78d117?pid=SGLFZJV9ZVA6HCMQ&lid=LSTSGLFZJV9ZVA6HCMQOJXEPY&marketplace=FLIPKART&q=Sunglasses&store=26x&srno=s_1_40&otracker=search&otracker1=search&fm=SEARCH&iid=en_J9voIV%2Bu28XoXRt9ekMuHhndeDfcsN8ti5hrWivdgXcHHdCU1uEugafVzFY9FRQ0Jt7ucX%2BD4%2B%2B%2BLlVUGZGHRw%3D%3D&ppt=hp&ppn=homepage&ssid=zw2zfuwng00000001631098639348&qH=0ff7a11a5902c9f7',\n",
       " 'https://www.flipkart.com/royal-son-round-sunglasses/p/itm08ee366f541f9?pid=SGLFZJV9XTPRHAZQ&lid=LSTSGLFZJV9XTPRHAZQ48MYNV&marketplace=FLIPKART&q=Sunglasses&store=26x&srno=s_1_2&otracker=search&otracker1=search&fm=SEARCH&iid=en_J9voIV%2Bu28XoXRt9ekMuHhndeDfcsN8ti5hrWivdgXcZ4lvPLQzpU7t1nDSsDIz9JJTRm%2BSXT4PgGd6YeGpiuQ%3D%3D&ppt=hp&ppn=homepage&ssid=zw2zfuwng00000001631098639348&qH=0ff7a11a5902c9f7',\n",
       " 'https://www.flipkart.com/elligator-round-sunglasses/p/itm3c981fc444358?pid=SGLFPHP5BVBJTCDB&lid=LSTSGLFPHP5BVBJTCDB7P4T6G&marketplace=FLIPKART&q=Sunglasses&store=26x&spotlightTagId=BestsellerId_26x&srno=s_1_3&otracker=search&otracker1=search&fm=SEARCH&iid=beff398b-3811-4003-8cc1-bd84b1959e7f.SGLFPHP5BVBJTCDB.SEARCH&ppt=sp&ppn=sp&ssid=zw2zfuwng00000001631098639348&qH=0ff7a11a5902c9f7',\n",
       " 'https://www.flipkart.com/shaah-collections-rectangular-sunglasses/p/itm201340b1c3e13?pid=SGLFXWGV5TGFFSPX&lid=LSTSGLFXWGV5TGFFSPXSORUG9&marketplace=FLIPKART&q=Sunglasses&store=26x&srno=s_1_4&otracker=search&otracker1=search&fm=SEARCH&iid=beff398b-3811-4003-8cc1-bd84b1959e7f.SGLFXWGV5TGFFSPX.SEARCH&ppt=hp&ppn=homepage&ssid=zw2zfuwng00000001631098639348&qH=0ff7a11a5902c9f7',\n",
       " 'https://www.flipkart.com/piraso-aviator-sunglasses/p/itm70504d13b7992?pid=SGLFV8YYCEA8RWAC&lid=LSTSGLFV8YYCEA8RWACIACICJ&marketplace=FLIPKART&q=Sunglasses&store=26x&srno=s_1_5&otracker=search&otracker1=search&fm=SEARCH&iid=beff398b-3811-4003-8cc1-bd84b1959e7f.SGLFV8YYCEA8RWAC.SEARCH&ppt=hp&ppn=homepage&ssid=zw2zfuwng00000001631098639348&qH=0ff7a11a5902c9f7',\n",
       " 'https://www.flipkart.com/piraso-aviator-sunglasses/p/itm4210bb67b2728?pid=SGLFPFD7WRNASWSV&lid=LSTSGLFPFD7WRNASWSVJLGDDX&marketplace=FLIPKART&q=Sunglasses&store=26x&srno=s_1_6&otracker=search&otracker1=search&fm=SEARCH&iid=beff398b-3811-4003-8cc1-bd84b1959e7f.SGLFPFD7WRNASWSV.SEARCH&ppt=hp&ppn=homepage&ssid=zw2zfuwng00000001631098639348&qH=0ff7a11a5902c9f7',\n",
       " 'https://www.flipkart.com/kingsunglasses-wayfarer-sunglasses/p/itm9c7287be7c247?pid=SGLG2ZY9UERPGCZX&lid=LSTSGLG2ZY9UERPGCZXOWQRMA&marketplace=FLIPKART&q=Sunglasses&store=26x&srno=s_1_7&otracker=search&otracker1=search&fm=SEARCH&iid=beff398b-3811-4003-8cc1-bd84b1959e7f.SGLG2ZY9UERPGCZX.SEARCH&ppt=hp&ppn=homepage&ssid=zw2zfuwng00000001631098639348&qH=0ff7a11a5902c9f7',\n",
       " 'https://www.flipkart.com/gansta-aviator-sunglasses/p/itmf7hmfp5r8hcdb?pid=SGLF7HGZKHHSTQ8H&lid=LSTSGLF7HGZKHHSTQ8H5VK4WX&marketplace=FLIPKART&q=Sunglasses&store=26x&srno=s_1_8&otracker=search&otracker1=search&fm=SEARCH&iid=en_J9voIV%2Bu28XoXRt9ekMuHhndeDfcsN8ti5hrWivdgXdFJDuAB%2FZp97RDELBDaQBPwYKnW9zRAyuBNT8PUbEbqw%3D%3D&ppt=hp&ppn=homepage&ssid=zw2zfuwng00000001631098639348&qH=0ff7a11a5902c9f7',\n",
       " 'https://www.flipkart.com/fastrack-wayfarer-sunglasses/p/itmf79dqjqucq9f3?pid=SGLF79DQR8NQAT2W&lid=LSTSGLF79DQR8NQAT2W0MLSHN&marketplace=FLIPKART&q=Sunglasses&store=26x&srno=s_1_9&otracker=search&otracker1=search&fm=SEARCH&iid=beff398b-3811-4003-8cc1-bd84b1959e7f.SGLF79DQR8NQAT2W.SEARCH&ppt=hp&ppn=homepage&ssid=zw2zfuwng00000001631098639348&qH=0ff7a11a5902c9f7',\n",
       " 'https://www.flipkart.com/fastrack-wayfarer-sunglasses/p/itm04d9621b98c78?pid=SGLFG94C8PAHZ3SH&lid=LSTSGLFG94C8PAHZ3SHAFCJXO&marketplace=FLIPKART&q=Sunglasses&store=26x&srno=s_1_10&otracker=search&otracker1=search&fm=SEARCH&iid=beff398b-3811-4003-8cc1-bd84b1959e7f.SGLFG94C8PAHZ3SH.SEARCH&ppt=hp&ppn=homepage&ssid=zw2zfuwng00000001631098639348&qH=0ff7a11a5902c9f7',\n",
       " 'https://www.flipkart.com/kingsunglasses-round-sunglasses/p/itmfb9juuhzg79rv?pid=SGLFB9GQVKJZGNDG&lid=LSTSGLFB9GQVKJZGNDGMUY598&marketplace=FLIPKART&q=Sunglasses&store=26x&srno=s_1_11&otracker=search&otracker1=search&fm=SEARCH&iid=beff398b-3811-4003-8cc1-bd84b1959e7f.SGLFB9GQVKJZGNDG.SEARCH&ppt=hp&ppn=homepage&ssid=zw2zfuwng00000001631098639348&qH=0ff7a11a5902c9f7',\n",
       " 'https://www.flipkart.com/aislin-wayfarer-clubmaster-sunglasses/p/itmbf02576eec46d?pid=SGLFRGT7ZXNA6TKS&lid=LSTSGLFRGT7ZXNA6TKSRFMFYA&marketplace=FLIPKART&q=Sunglasses&store=26x&srno=s_1_12&otracker=search&otracker1=search&fm=SEARCH&iid=en_J9voIV%2Bu28XoXRt9ekMuHhndeDfcsN8ti5hrWivdgXfuW1J6CCk%2FCLRMmX0ovoAlnq8%2BoA0GvFKZ41ssWlFm4w%3D%3D&ppt=hp&ppn=homepage&ssid=zw2zfuwng00000001631098639348&qH=0ff7a11a5902c9f7',\n",
       " 'https://www.flipkart.com/shaah-collections-rectangular-sunglasses/p/itm98878a113520c?pid=SGLFXXKC3RYXQWFG&lid=LSTSGLFXXKC3RYXQWFGB3OAUU&marketplace=FLIPKART&q=Sunglasses&store=26x&srno=s_1_13&otracker=search&otracker1=search&fm=SEARCH&iid=beff398b-3811-4003-8cc1-bd84b1959e7f.SGLFXXKC3RYXQWFG.SEARCH&ppt=hp&ppn=homepage&ssid=zw2zfuwng00000001631098639348&qH=0ff7a11a5902c9f7',\n",
       " 'https://www.flipkart.com/piraso-aviator-sunglasses/p/itma9ed6fe9b3b86?pid=SGLFZJQUNAHYUCAS&lid=LSTSGLFZJQUNAHYUCASKDXKTE&marketplace=FLIPKART&q=Sunglasses&store=26x&srno=s_1_14&otracker=search&otracker1=search&fm=SEARCH&iid=beff398b-3811-4003-8cc1-bd84b1959e7f.SGLFZJQUNAHYUCAS.SEARCH&ppt=hp&ppn=homepage&ssid=zw2zfuwng00000001631098639348&qH=0ff7a11a5902c9f7',\n",
       " 'https://www.flipkart.com/fastrack-aviator-sunglasses/p/itmfcynnapsxpzxv?pid=SGLES2WMN7PCAERZ&lid=LSTSGLES2WMN7PCAERZZTPY54&marketplace=FLIPKART&q=Sunglasses&store=26x&srno=s_1_15&otracker=search&otracker1=search&fm=SEARCH&iid=beff398b-3811-4003-8cc1-bd84b1959e7f.SGLES2WMN7PCAERZ.SEARCH&ppt=hp&ppn=homepage&ssid=zw2zfuwng00000001631098639348&qH=0ff7a11a5902c9f7',\n",
       " 'https://www.flipkart.com/royal-son-over-sized-sunglasses/p/itmc7b1876b4b36d?pid=SGLFNFU98QFFTR2C&lid=LSTSGLFNFU98QFFTR2CJNNUEV&marketplace=FLIPKART&q=Sunglasses&store=26x&srno=s_1_16&otracker=search&otracker1=search&fm=SEARCH&iid=en_J9voIV%2Bu28XoXRt9ekMuHhndeDfcsN8ti5hrWivdgXcpajnCvESEBXyuJT8a21hDuhNt6Zc2i8nSwJt731ciwA%3D%3D&ppt=hp&ppn=homepage&ssid=zw2zfuwng00000001631098639348&qH=0ff7a11a5902c9f7',\n",
       " 'https://www.flipkart.com/shaah-collections-round-sunglasses/p/itmff9749a242cb7?pid=SGLFSHGW3ZF7QTJZ&lid=LSTSGLFSHGW3ZF7QTJZNP12XI&marketplace=FLIPKART&q=Sunglasses&store=26x&srno=s_1_17&otracker=search&otracker1=search&fm=SEARCH&iid=beff398b-3811-4003-8cc1-bd84b1959e7f.SGLFSHGW3ZF7QTJZ.SEARCH&ppt=hp&ppn=homepage&ssid=zw2zfuwng00000001631098639348&qH=0ff7a11a5902c9f7',\n",
       " 'https://www.flipkart.com/rozzetta-craft-rectangular-sunglasses/p/itmc07cb7e8aec50?pid=SGLFSZV6PXGZGZGX&lid=LSTSGLFSZV6PXGZGZGXNWELSX&marketplace=FLIPKART&q=Sunglasses&store=26x&srno=s_1_18&otracker=search&otracker1=search&fm=SEARCH&iid=beff398b-3811-4003-8cc1-bd84b1959e7f.SGLFSZV6PXGZGZGX.SEARCH&ppt=hp&ppn=homepage&ssid=zw2zfuwng00000001631098639348&qH=0ff7a11a5902c9f7',\n",
       " 'https://www.flipkart.com/phenomenal-retro-square-sunglasses/p/itm05605e75ed801?pid=SGLFUXYAXFHYQAK4&lid=LSTSGLFUXYAXFHYQAK4VF4MKG&marketplace=FLIPKART&q=Sunglasses&store=26x&srno=s_1_19&otracker=search&otracker1=search&fm=SEARCH&iid=beff398b-3811-4003-8cc1-bd84b1959e7f.SGLFUXYAXFHYQAK4.SEARCH&ppt=hp&ppn=homepage&ssid=zw2zfuwng00000001631098639348&qH=0ff7a11a5902c9f7',\n",
       " 'https://www.flipkart.com/silver-kartz-wayfarer-sunglasses/p/itmf3ykz37jypbdd?pid=SGLEXSP4CY6G2ZTY&lid=LSTSGLEXSP4CY6G2ZTYGHVAAN&marketplace=FLIPKART&q=Sunglasses&store=26x&srno=s_1_21&otracker=search&otracker1=search&fm=SEARCH&iid=beff398b-3811-4003-8cc1-bd84b1959e7f.SGLEXSP4CY6G2ZTY.SEARCH&ppt=hp&ppn=homepage&ssid=zw2zfuwng00000001631098639348&qH=0ff7a11a5902c9f7',\n",
       " 'https://www.flipkart.com/sunbee-wayfarer-sunglasses/p/itm3a7d521aaa12c?pid=SGLGFY5SSCRS6CFN&lid=LSTSGLGFY5SSCRS6CFNOKXU5T&marketplace=FLIPKART&q=Sunglasses&store=26x&srno=s_1_22&otracker=search&otracker1=search&fm=SEARCH&iid=beff398b-3811-4003-8cc1-bd84b1959e7f.SGLGFY5SSCRS6CFN.SEARCH&ppt=hp&ppn=homepage&ssid=zw2zfuwng00000001631098639348&qH=0ff7a11a5902c9f7',\n",
       " 'https://www.flipkart.com/rozzetta-craft-retro-square-sunglasses/p/itmf248ba5b3a895?pid=SGLFZFZNAQNZHYB7&lid=LSTSGLFZFZNAQNZHYB7GZ3YO5&marketplace=FLIPKART&q=Sunglasses&store=26x&srno=s_1_23&otracker=search&otracker1=search&fm=SEARCH&iid=beff398b-3811-4003-8cc1-bd84b1959e7f.SGLFZFZNAQNZHYB7.SEARCH&ppt=hp&ppn=homepage&ssid=zw2zfuwng00000001631098639348&qH=0ff7a11a5902c9f7',\n",
       " 'https://www.flipkart.com/royal-son-aviator-sunglasses/p/itm4d6aae13a0d95?pid=SGLFT7RYYMQPNHZM&lid=LSTSGLFT7RYYMQPNHZMEXDMCZ&marketplace=FLIPKART&q=Sunglasses&store=26x&srno=s_1_24&otracker=search&otracker1=search&fm=SEARCH&iid=en_J9voIV%2Bu28XoXRt9ekMuHhndeDfcsN8ti5hrWivdgXc%2BerBgSZm3wTxylLOjYprQvYuOocC%2BqbvKgYG2sZWA9g%3D%3D&ppt=hp&ppn=homepage&ssid=zw2zfuwng00000001631098639348&qH=0ff7a11a5902c9f7',\n",
       " 'https://www.flipkart.com/royal-son-rectangular-sunglasses/p/itmefc71f75555a7?pid=SGLF6GYMZHQMQX3H&lid=LSTSGLF6GYMZHQMQX3HKFFAUL&marketplace=FLIPKART&q=Sunglasses&store=26x&srno=s_1_25&otracker=search&otracker1=search&fm=SEARCH&iid=beff398b-3811-4003-8cc1-bd84b1959e7f.SGLF6GYMZHQMQX3H.SEARCH&ppt=hp&ppn=homepage&ssid=zw2zfuwng00000001631098639348&qH=0ff7a11a5902c9f7',\n",
       " 'https://www.flipkart.com/sunbee-wayfarer-sunglasses/p/itm36995681f63fb?pid=SGLG3HS7KUH3MSBH&lid=LSTSGLG3HS7KUH3MSBHTMUWXH&marketplace=FLIPKART&q=Sunglasses&store=26x&srno=s_1_26&otracker=search&otracker1=search&fm=SEARCH&iid=beff398b-3811-4003-8cc1-bd84b1959e7f.SGLG3HS7KUH3MSBH.SEARCH&ppt=hp&ppn=homepage&ssid=zw2zfuwng00000001631098639348&qH=0ff7a11a5902c9f7',\n",
       " 'https://www.flipkart.com/piraso-butterfly-sunglasses/p/itmcfb5620c8ffa0?pid=SGLFTXRFGAHRZEYG&lid=LSTSGLFTXRFGAHRZEYG1LNFS5&marketplace=FLIPKART&q=Sunglasses&store=26x&srno=s_1_27&otracker=search&otracker1=search&fm=SEARCH&iid=beff398b-3811-4003-8cc1-bd84b1959e7f.SGLFTXRFGAHRZEYG.SEARCH&ppt=hp&ppn=homepage&ssid=zw2zfuwng00000001631098639348&qH=0ff7a11a5902c9f7',\n",
       " 'https://www.flipkart.com/royal-son-wayfarer-sunglasses/p/itmfgaf93tm9amaa?pid=SGLFGAYYCQWCN5FH&lid=LSTSGLFGAYYCQWCN5FHJBRXON&marketplace=FLIPKART&q=Sunglasses&store=26x&srno=s_1_28&otracker=search&otracker1=search&fm=SEARCH&iid=en_J9voIV%2Bu28XoXRt9ekMuHhndeDfcsN8ti5hrWivdgXeROhAc9dz84yh1m66fGSVF6Qkr3R%2BbARywFPumYVIirg%3D%3D&ppt=hp&ppn=homepage&ssid=zw2zfuwng00000001631098639348&qH=0ff7a11a5902c9f7',\n",
       " 'https://www.flipkart.com/nuvew-aviator-sunglasses/p/itmc4bf4b6a80fed?pid=SGLFKGRAV5YG5YKZ&lid=LSTSGLFKGRAV5YG5YKZ68LPSR&marketplace=FLIPKART&q=Sunglasses&store=26x&srno=s_1_29&otracker=search&otracker1=search&fm=SEARCH&iid=beff398b-3811-4003-8cc1-bd84b1959e7f.SGLFKGRAV5YG5YKZ.SEARCH&ppt=hp&ppn=homepage&ssid=zw2zfuwng00000001631098639348&qH=0ff7a11a5902c9f7',\n",
       " 'https://www.flipkart.com/elligator-round-sunglasses/p/itm88859d649c827?pid=SGLFBB8BVXGUHYEY&lid=LSTSGLFBB8BVXGUHYEYK1NPCL&marketplace=FLIPKART&q=Sunglasses&store=26x&srno=s_1_30&otracker=search&otracker1=search&fm=SEARCH&iid=beff398b-3811-4003-8cc1-bd84b1959e7f.SGLFBB8BVXGUHYEY.SEARCH&ppt=hp&ppn=homepage&ssid=zw2zfuwng00000001631098639348&qH=0ff7a11a5902c9f7',\n",
       " 'https://www.flipkart.com/deixels-aviator-wayfarer-sunglasses/p/itmf3yke7n2axuym?pid=SGLF2YZXCDM6QACV&lid=LSTSGLF2YZXCDM6QACV8HRV24&marketplace=FLIPKART&q=Sunglasses&store=26x&srno=s_1_31&otracker=search&otracker1=search&fm=SEARCH&iid=beff398b-3811-4003-8cc1-bd84b1959e7f.SGLF2YZXCDM6QACV.SEARCH&ppt=hp&ppn=homepage&ssid=zw2zfuwng00000001631098639348&qH=0ff7a11a5902c9f7',\n",
       " 'https://www.flipkart.com/royal-son-butterfly-sunglasses/p/itm581171cd4ab64?pid=SGLG3PHCGQTTFHYA&lid=LSTSGLG3PHCGQTTFHYAAXR3S6&marketplace=FLIPKART&q=Sunglasses&store=26x&srno=s_1_32&otracker=search&otracker1=search&fm=SEARCH&iid=en_J9voIV%2Bu28XoXRt9ekMuHhndeDfcsN8ti5hrWivdgXehLVtN2%2BtwLx56h4HRbicNMudM%2BMGz%2BhUHrzg%2BnH9BmQ%3D%3D&ppt=hp&ppn=homepage&ssid=zw2zfuwng00000001631098639348&qH=0ff7a11a5902c9f7',\n",
       " 'https://www.flipkart.com/royal-son-aviator-sunglasses/p/itme479614d796cc?pid=SGLED3YH6AQQFTJT&lid=LSTSGLED3YH6AQQFTJTD9JARU&marketplace=FLIPKART&q=Sunglasses&store=26x&srno=s_1_33&otracker=search&otracker1=search&fm=SEARCH&iid=beff398b-3811-4003-8cc1-bd84b1959e7f.SGLED3YH6AQQFTJT.SEARCH&ppt=hp&ppn=homepage&ssid=zw2zfuwng00000001631098639348&qH=0ff7a11a5902c9f7',\n",
       " 'https://www.flipkart.com/fastrack-aviator-sunglasses/p/itmf3yh8gkcgztpg?pid=SGLF4QP8YSS9EUBC&lid=LSTSGLF4QP8YSS9EUBC8GULCJ&marketplace=FLIPKART&q=Sunglasses&store=26x&srno=s_1_34&otracker=search&otracker1=search&fm=SEARCH&iid=beff398b-3811-4003-8cc1-bd84b1959e7f.SGLF4QP8YSS9EUBC.SEARCH&ppt=hp&ppn=homepage&ssid=zw2zfuwng00000001631098639348&qH=0ff7a11a5902c9f7',\n",
       " 'https://www.flipkart.com/fastrack-wayfarer-sunglasses/p/itma3f884efb246c?pid=SGLFG94CJAP7TYFY&lid=LSTSGLFG94CJAP7TYFYMAF3H2&marketplace=FLIPKART&q=Sunglasses&store=26x&srno=s_1_35&otracker=search&otracker1=search&fm=SEARCH&iid=beff398b-3811-4003-8cc1-bd84b1959e7f.SGLFG94CJAP7TYFY.SEARCH&ppt=hp&ppn=homepage&ssid=zw2zfuwng00000001631098639348&qH=0ff7a11a5902c9f7',\n",
       " 'https://www.flipkart.com/gansta-aviator-sunglasses/p/itma841cb28ba5b2?pid=SGLFSFVG8R3XZAMN&lid=LSTSGLFSFVG8R3XZAMNIB8HEQ&marketplace=FLIPKART&q=Sunglasses&store=26x&srno=s_1_37&otracker=search&otracker1=search&fm=SEARCH&iid=beff398b-3811-4003-8cc1-bd84b1959e7f.SGLFSFVG8R3XZAMN.SEARCH&ppt=hp&ppn=homepage&ssid=zw2zfuwng00000001631098639348&qH=0ff7a11a5902c9f7',\n",
       " 'https://www.flipkart.com/rich-club-round-sunglasses/p/itm07f4fb1885fd4?pid=SGLFZGR9GSPMZFGU&lid=LSTSGLFZGR9GSPMZFGUCPHP8S&marketplace=FLIPKART&q=Sunglasses&store=26x&srno=s_1_38&otracker=search&otracker1=search&fm=SEARCH&iid=beff398b-3811-4003-8cc1-bd84b1959e7f.SGLFZGR9GSPMZFGU.SEARCH&ppt=hp&ppn=homepage&ssid=zw2zfuwng00000001631098639348&qH=0ff7a11a5902c9f7',\n",
       " 'https://www.flipkart.com/kingsunglasses-wayfarer-sunglasses/p/itm59aef661362cd?pid=SGLG2ZY2RFEUSYZS&lid=LSTSGLG2ZY2RFEUSYZSBUS16I&marketplace=FLIPKART&q=Sunglasses&store=26x&srno=s_1_39&otracker=search&otracker1=search&fm=SEARCH&iid=beff398b-3811-4003-8cc1-bd84b1959e7f.SGLG2ZY2RFEUSYZS.SEARCH&ppt=hp&ppn=homepage&ssid=zw2zfuwng00000001631098639348&qH=0ff7a11a5902c9f7',\n",
       " 'https://www.flipkart.com/royal-son-aviator-sunglasses/p/itm8185c0d78d117?pid=SGLFZJV9ZVA6HCMQ&lid=LSTSGLFZJV9ZVA6HCMQOJXEPY&marketplace=FLIPKART&q=Sunglasses&store=26x&srno=s_1_40&otracker=search&otracker1=search&fm=SEARCH&iid=en_J9voIV%2Bu28XoXRt9ekMuHhndeDfcsN8ti5hrWivdgXcHHdCU1uEugafVzFY9FRQ0Jt7ucX%2BD4%2B%2B%2BLlVUGZGHRw%3D%3D&ppt=hp&ppn=homepage&ssid=zw2zfuwng00000001631098639348&qH=0ff7a11a5902c9f7',\n",
       " 'https://www.flipkart.com/royal-son-round-sunglasses/p/itm08ee366f541f9?pid=SGLFZJV9XTPRHAZQ&lid=LSTSGLFZJV9XTPRHAZQ48MYNV&marketplace=FLIPKART&q=Sunglasses&store=26x&srno=s_1_2&otracker=search&otracker1=search&fm=SEARCH&iid=en_J9voIV%2Bu28XoXRt9ekMuHhndeDfcsN8ti5hrWivdgXcZ4lvPLQzpU7t1nDSsDIz9JJTRm%2BSXT4PgGd6YeGpiuQ%3D%3D&ppt=hp&ppn=homepage&ssid=zw2zfuwng00000001631098639348&qH=0ff7a11a5902c9f7',\n",
       " 'https://www.flipkart.com/elligator-round-sunglasses/p/itm3c981fc444358?pid=SGLFPHP5BVBJTCDB&lid=LSTSGLFPHP5BVBJTCDB7P4T6G&marketplace=FLIPKART&q=Sunglasses&store=26x&spotlightTagId=BestsellerId_26x&srno=s_1_3&otracker=search&otracker1=search&fm=SEARCH&iid=beff398b-3811-4003-8cc1-bd84b1959e7f.SGLFPHP5BVBJTCDB.SEARCH&ppt=sp&ppn=sp&ssid=zw2zfuwng00000001631098639348&qH=0ff7a11a5902c9f7',\n",
       " 'https://www.flipkart.com/shaah-collections-rectangular-sunglasses/p/itm201340b1c3e13?pid=SGLFXWGV5TGFFSPX&lid=LSTSGLFXWGV5TGFFSPXSORUG9&marketplace=FLIPKART&q=Sunglasses&store=26x&srno=s_1_4&otracker=search&otracker1=search&fm=SEARCH&iid=beff398b-3811-4003-8cc1-bd84b1959e7f.SGLFXWGV5TGFFSPX.SEARCH&ppt=hp&ppn=homepage&ssid=zw2zfuwng00000001631098639348&qH=0ff7a11a5902c9f7',\n",
       " 'https://www.flipkart.com/piraso-aviator-sunglasses/p/itm70504d13b7992?pid=SGLFV8YYCEA8RWAC&lid=LSTSGLFV8YYCEA8RWACIACICJ&marketplace=FLIPKART&q=Sunglasses&store=26x&srno=s_1_5&otracker=search&otracker1=search&fm=SEARCH&iid=beff398b-3811-4003-8cc1-bd84b1959e7f.SGLFV8YYCEA8RWAC.SEARCH&ppt=hp&ppn=homepage&ssid=zw2zfuwng00000001631098639348&qH=0ff7a11a5902c9f7',\n",
       " 'https://www.flipkart.com/piraso-aviator-sunglasses/p/itm4210bb67b2728?pid=SGLFPFD7WRNASWSV&lid=LSTSGLFPFD7WRNASWSVJLGDDX&marketplace=FLIPKART&q=Sunglasses&store=26x&srno=s_1_6&otracker=search&otracker1=search&fm=SEARCH&iid=beff398b-3811-4003-8cc1-bd84b1959e7f.SGLFPFD7WRNASWSV.SEARCH&ppt=hp&ppn=homepage&ssid=zw2zfuwng00000001631098639348&qH=0ff7a11a5902c9f7',\n",
       " 'https://www.flipkart.com/kingsunglasses-wayfarer-sunglasses/p/itm9c7287be7c247?pid=SGLG2ZY9UERPGCZX&lid=LSTSGLG2ZY9UERPGCZXOWQRMA&marketplace=FLIPKART&q=Sunglasses&store=26x&srno=s_1_7&otracker=search&otracker1=search&fm=SEARCH&iid=beff398b-3811-4003-8cc1-bd84b1959e7f.SGLG2ZY9UERPGCZX.SEARCH&ppt=hp&ppn=homepage&ssid=zw2zfuwng00000001631098639348&qH=0ff7a11a5902c9f7',\n",
       " 'https://www.flipkart.com/gansta-aviator-sunglasses/p/itmf7hmfp5r8hcdb?pid=SGLF7HGZKHHSTQ8H&lid=LSTSGLF7HGZKHHSTQ8H5VK4WX&marketplace=FLIPKART&q=Sunglasses&store=26x&srno=s_1_8&otracker=search&otracker1=search&fm=SEARCH&iid=en_J9voIV%2Bu28XoXRt9ekMuHhndeDfcsN8ti5hrWivdgXdFJDuAB%2FZp97RDELBDaQBPwYKnW9zRAyuBNT8PUbEbqw%3D%3D&ppt=hp&ppn=homepage&ssid=zw2zfuwng00000001631098639348&qH=0ff7a11a5902c9f7',\n",
       " 'https://www.flipkart.com/fastrack-wayfarer-sunglasses/p/itmf79dqjqucq9f3?pid=SGLF79DQR8NQAT2W&lid=LSTSGLF79DQR8NQAT2W0MLSHN&marketplace=FLIPKART&q=Sunglasses&store=26x&srno=s_1_9&otracker=search&otracker1=search&fm=SEARCH&iid=beff398b-3811-4003-8cc1-bd84b1959e7f.SGLF79DQR8NQAT2W.SEARCH&ppt=hp&ppn=homepage&ssid=zw2zfuwng00000001631098639348&qH=0ff7a11a5902c9f7',\n",
       " 'https://www.flipkart.com/fastrack-wayfarer-sunglasses/p/itm04d9621b98c78?pid=SGLFG94C8PAHZ3SH&lid=LSTSGLFG94C8PAHZ3SHAFCJXO&marketplace=FLIPKART&q=Sunglasses&store=26x&srno=s_1_10&otracker=search&otracker1=search&fm=SEARCH&iid=beff398b-3811-4003-8cc1-bd84b1959e7f.SGLFG94C8PAHZ3SH.SEARCH&ppt=hp&ppn=homepage&ssid=zw2zfuwng00000001631098639348&qH=0ff7a11a5902c9f7',\n",
       " 'https://www.flipkart.com/kingsunglasses-round-sunglasses/p/itmfb9juuhzg79rv?pid=SGLFB9GQVKJZGNDG&lid=LSTSGLFB9GQVKJZGNDGMUY598&marketplace=FLIPKART&q=Sunglasses&store=26x&srno=s_1_11&otracker=search&otracker1=search&fm=SEARCH&iid=beff398b-3811-4003-8cc1-bd84b1959e7f.SGLFB9GQVKJZGNDG.SEARCH&ppt=hp&ppn=homepage&ssid=zw2zfuwng00000001631098639348&qH=0ff7a11a5902c9f7',\n",
       " 'https://www.flipkart.com/aislin-wayfarer-clubmaster-sunglasses/p/itmbf02576eec46d?pid=SGLFRGT7ZXNA6TKS&lid=LSTSGLFRGT7ZXNA6TKSRFMFYA&marketplace=FLIPKART&q=Sunglasses&store=26x&srno=s_1_12&otracker=search&otracker1=search&fm=SEARCH&iid=en_J9voIV%2Bu28XoXRt9ekMuHhndeDfcsN8ti5hrWivdgXfuW1J6CCk%2FCLRMmX0ovoAlnq8%2BoA0GvFKZ41ssWlFm4w%3D%3D&ppt=hp&ppn=homepage&ssid=zw2zfuwng00000001631098639348&qH=0ff7a11a5902c9f7',\n",
       " 'https://www.flipkart.com/shaah-collections-rectangular-sunglasses/p/itm98878a113520c?pid=SGLFXXKC3RYXQWFG&lid=LSTSGLFXXKC3RYXQWFGB3OAUU&marketplace=FLIPKART&q=Sunglasses&store=26x&srno=s_1_13&otracker=search&otracker1=search&fm=SEARCH&iid=beff398b-3811-4003-8cc1-bd84b1959e7f.SGLFXXKC3RYXQWFG.SEARCH&ppt=hp&ppn=homepage&ssid=zw2zfuwng00000001631098639348&qH=0ff7a11a5902c9f7',\n",
       " 'https://www.flipkart.com/piraso-aviator-sunglasses/p/itma9ed6fe9b3b86?pid=SGLFZJQUNAHYUCAS&lid=LSTSGLFZJQUNAHYUCASKDXKTE&marketplace=FLIPKART&q=Sunglasses&store=26x&srno=s_1_14&otracker=search&otracker1=search&fm=SEARCH&iid=beff398b-3811-4003-8cc1-bd84b1959e7f.SGLFZJQUNAHYUCAS.SEARCH&ppt=hp&ppn=homepage&ssid=zw2zfuwng00000001631098639348&qH=0ff7a11a5902c9f7',\n",
       " 'https://www.flipkart.com/fastrack-aviator-sunglasses/p/itmfcynnapsxpzxv?pid=SGLES2WMN7PCAERZ&lid=LSTSGLES2WMN7PCAERZZTPY54&marketplace=FLIPKART&q=Sunglasses&store=26x&srno=s_1_15&otracker=search&otracker1=search&fm=SEARCH&iid=beff398b-3811-4003-8cc1-bd84b1959e7f.SGLES2WMN7PCAERZ.SEARCH&ppt=hp&ppn=homepage&ssid=zw2zfuwng00000001631098639348&qH=0ff7a11a5902c9f7',\n",
       " 'https://www.flipkart.com/royal-son-over-sized-sunglasses/p/itmc7b1876b4b36d?pid=SGLFNFU98QFFTR2C&lid=LSTSGLFNFU98QFFTR2CJNNUEV&marketplace=FLIPKART&q=Sunglasses&store=26x&srno=s_1_16&otracker=search&otracker1=search&fm=SEARCH&iid=en_J9voIV%2Bu28XoXRt9ekMuHhndeDfcsN8ti5hrWivdgXcpajnCvESEBXyuJT8a21hDuhNt6Zc2i8nSwJt731ciwA%3D%3D&ppt=hp&ppn=homepage&ssid=zw2zfuwng00000001631098639348&qH=0ff7a11a5902c9f7',\n",
       " 'https://www.flipkart.com/shaah-collections-round-sunglasses/p/itmff9749a242cb7?pid=SGLFSHGW3ZF7QTJZ&lid=LSTSGLFSHGW3ZF7QTJZNP12XI&marketplace=FLIPKART&q=Sunglasses&store=26x&srno=s_1_17&otracker=search&otracker1=search&fm=SEARCH&iid=beff398b-3811-4003-8cc1-bd84b1959e7f.SGLFSHGW3ZF7QTJZ.SEARCH&ppt=hp&ppn=homepage&ssid=zw2zfuwng00000001631098639348&qH=0ff7a11a5902c9f7',\n",
       " 'https://www.flipkart.com/rozzetta-craft-rectangular-sunglasses/p/itmc07cb7e8aec50?pid=SGLFSZV6PXGZGZGX&lid=LSTSGLFSZV6PXGZGZGXNWELSX&marketplace=FLIPKART&q=Sunglasses&store=26x&srno=s_1_18&otracker=search&otracker1=search&fm=SEARCH&iid=beff398b-3811-4003-8cc1-bd84b1959e7f.SGLFSZV6PXGZGZGX.SEARCH&ppt=hp&ppn=homepage&ssid=zw2zfuwng00000001631098639348&qH=0ff7a11a5902c9f7',\n",
       " 'https://www.flipkart.com/phenomenal-retro-square-sunglasses/p/itm05605e75ed801?pid=SGLFUXYAXFHYQAK4&lid=LSTSGLFUXYAXFHYQAK4VF4MKG&marketplace=FLIPKART&q=Sunglasses&store=26x&srno=s_1_19&otracker=search&otracker1=search&fm=SEARCH&iid=beff398b-3811-4003-8cc1-bd84b1959e7f.SGLFUXYAXFHYQAK4.SEARCH&ppt=hp&ppn=homepage&ssid=zw2zfuwng00000001631098639348&qH=0ff7a11a5902c9f7',\n",
       " 'https://www.flipkart.com/silver-kartz-wayfarer-sunglasses/p/itmf3ykz37jypbdd?pid=SGLEXSP4CY6G2ZTY&lid=LSTSGLEXSP4CY6G2ZTYGHVAAN&marketplace=FLIPKART&q=Sunglasses&store=26x&srno=s_1_21&otracker=search&otracker1=search&fm=SEARCH&iid=beff398b-3811-4003-8cc1-bd84b1959e7f.SGLEXSP4CY6G2ZTY.SEARCH&ppt=hp&ppn=homepage&ssid=zw2zfuwng00000001631098639348&qH=0ff7a11a5902c9f7',\n",
       " 'https://www.flipkart.com/sunbee-wayfarer-sunglasses/p/itm3a7d521aaa12c?pid=SGLGFY5SSCRS6CFN&lid=LSTSGLGFY5SSCRS6CFNOKXU5T&marketplace=FLIPKART&q=Sunglasses&store=26x&srno=s_1_22&otracker=search&otracker1=search&fm=SEARCH&iid=beff398b-3811-4003-8cc1-bd84b1959e7f.SGLGFY5SSCRS6CFN.SEARCH&ppt=hp&ppn=homepage&ssid=zw2zfuwng00000001631098639348&qH=0ff7a11a5902c9f7',\n",
       " 'https://www.flipkart.com/rozzetta-craft-retro-square-sunglasses/p/itmf248ba5b3a895?pid=SGLFZFZNAQNZHYB7&lid=LSTSGLFZFZNAQNZHYB7GZ3YO5&marketplace=FLIPKART&q=Sunglasses&store=26x&srno=s_1_23&otracker=search&otracker1=search&fm=SEARCH&iid=beff398b-3811-4003-8cc1-bd84b1959e7f.SGLFZFZNAQNZHYB7.SEARCH&ppt=hp&ppn=homepage&ssid=zw2zfuwng00000001631098639348&qH=0ff7a11a5902c9f7',\n",
       " 'https://www.flipkart.com/royal-son-aviator-sunglasses/p/itm4d6aae13a0d95?pid=SGLFT7RYYMQPNHZM&lid=LSTSGLFT7RYYMQPNHZMEXDMCZ&marketplace=FLIPKART&q=Sunglasses&store=26x&srno=s_1_24&otracker=search&otracker1=search&fm=SEARCH&iid=en_J9voIV%2Bu28XoXRt9ekMuHhndeDfcsN8ti5hrWivdgXc%2BerBgSZm3wTxylLOjYprQvYuOocC%2BqbvKgYG2sZWA9g%3D%3D&ppt=hp&ppn=homepage&ssid=zw2zfuwng00000001631098639348&qH=0ff7a11a5902c9f7',\n",
       " 'https://www.flipkart.com/royal-son-rectangular-sunglasses/p/itmefc71f75555a7?pid=SGLF6GYMZHQMQX3H&lid=LSTSGLF6GYMZHQMQX3HKFFAUL&marketplace=FLIPKART&q=Sunglasses&store=26x&srno=s_1_25&otracker=search&otracker1=search&fm=SEARCH&iid=beff398b-3811-4003-8cc1-bd84b1959e7f.SGLF6GYMZHQMQX3H.SEARCH&ppt=hp&ppn=homepage&ssid=zw2zfuwng00000001631098639348&qH=0ff7a11a5902c9f7',\n",
       " 'https://www.flipkart.com/sunbee-wayfarer-sunglasses/p/itm36995681f63fb?pid=SGLG3HS7KUH3MSBH&lid=LSTSGLG3HS7KUH3MSBHTMUWXH&marketplace=FLIPKART&q=Sunglasses&store=26x&srno=s_1_26&otracker=search&otracker1=search&fm=SEARCH&iid=beff398b-3811-4003-8cc1-bd84b1959e7f.SGLG3HS7KUH3MSBH.SEARCH&ppt=hp&ppn=homepage&ssid=zw2zfuwng00000001631098639348&qH=0ff7a11a5902c9f7',\n",
       " 'https://www.flipkart.com/piraso-butterfly-sunglasses/p/itmcfb5620c8ffa0?pid=SGLFTXRFGAHRZEYG&lid=LSTSGLFTXRFGAHRZEYG1LNFS5&marketplace=FLIPKART&q=Sunglasses&store=26x&srno=s_1_27&otracker=search&otracker1=search&fm=SEARCH&iid=beff398b-3811-4003-8cc1-bd84b1959e7f.SGLFTXRFGAHRZEYG.SEARCH&ppt=hp&ppn=homepage&ssid=zw2zfuwng00000001631098639348&qH=0ff7a11a5902c9f7',\n",
       " 'https://www.flipkart.com/royal-son-wayfarer-sunglasses/p/itmfgaf93tm9amaa?pid=SGLFGAYYCQWCN5FH&lid=LSTSGLFGAYYCQWCN5FHJBRXON&marketplace=FLIPKART&q=Sunglasses&store=26x&srno=s_1_28&otracker=search&otracker1=search&fm=SEARCH&iid=en_J9voIV%2Bu28XoXRt9ekMuHhndeDfcsN8ti5hrWivdgXeROhAc9dz84yh1m66fGSVF6Qkr3R%2BbARywFPumYVIirg%3D%3D&ppt=hp&ppn=homepage&ssid=zw2zfuwng00000001631098639348&qH=0ff7a11a5902c9f7',\n",
       " 'https://www.flipkart.com/nuvew-aviator-sunglasses/p/itmc4bf4b6a80fed?pid=SGLFKGRAV5YG5YKZ&lid=LSTSGLFKGRAV5YG5YKZ68LPSR&marketplace=FLIPKART&q=Sunglasses&store=26x&srno=s_1_29&otracker=search&otracker1=search&fm=SEARCH&iid=beff398b-3811-4003-8cc1-bd84b1959e7f.SGLFKGRAV5YG5YKZ.SEARCH&ppt=hp&ppn=homepage&ssid=zw2zfuwng00000001631098639348&qH=0ff7a11a5902c9f7',\n",
       " 'https://www.flipkart.com/elligator-round-sunglasses/p/itm88859d649c827?pid=SGLFBB8BVXGUHYEY&lid=LSTSGLFBB8BVXGUHYEYK1NPCL&marketplace=FLIPKART&q=Sunglasses&store=26x&srno=s_1_30&otracker=search&otracker1=search&fm=SEARCH&iid=beff398b-3811-4003-8cc1-bd84b1959e7f.SGLFBB8BVXGUHYEY.SEARCH&ppt=hp&ppn=homepage&ssid=zw2zfuwng00000001631098639348&qH=0ff7a11a5902c9f7',\n",
       " 'https://www.flipkart.com/deixels-aviator-wayfarer-sunglasses/p/itmf3yke7n2axuym?pid=SGLF2YZXCDM6QACV&lid=LSTSGLF2YZXCDM6QACV8HRV24&marketplace=FLIPKART&q=Sunglasses&store=26x&srno=s_1_31&otracker=search&otracker1=search&fm=SEARCH&iid=beff398b-3811-4003-8cc1-bd84b1959e7f.SGLF2YZXCDM6QACV.SEARCH&ppt=hp&ppn=homepage&ssid=zw2zfuwng00000001631098639348&qH=0ff7a11a5902c9f7',\n",
       " 'https://www.flipkart.com/royal-son-butterfly-sunglasses/p/itm581171cd4ab64?pid=SGLG3PHCGQTTFHYA&lid=LSTSGLG3PHCGQTTFHYAAXR3S6&marketplace=FLIPKART&q=Sunglasses&store=26x&srno=s_1_32&otracker=search&otracker1=search&fm=SEARCH&iid=en_J9voIV%2Bu28XoXRt9ekMuHhndeDfcsN8ti5hrWivdgXehLVtN2%2BtwLx56h4HRbicNMudM%2BMGz%2BhUHrzg%2BnH9BmQ%3D%3D&ppt=hp&ppn=homepage&ssid=zw2zfuwng00000001631098639348&qH=0ff7a11a5902c9f7',\n",
       " 'https://www.flipkart.com/royal-son-aviator-sunglasses/p/itme479614d796cc?pid=SGLED3YH6AQQFTJT&lid=LSTSGLED3YH6AQQFTJTD9JARU&marketplace=FLIPKART&q=Sunglasses&store=26x&srno=s_1_33&otracker=search&otracker1=search&fm=SEARCH&iid=beff398b-3811-4003-8cc1-bd84b1959e7f.SGLED3YH6AQQFTJT.SEARCH&ppt=hp&ppn=homepage&ssid=zw2zfuwng00000001631098639348&qH=0ff7a11a5902c9f7',\n",
       " 'https://www.flipkart.com/fastrack-aviator-sunglasses/p/itmf3yh8gkcgztpg?pid=SGLF4QP8YSS9EUBC&lid=LSTSGLF4QP8YSS9EUBC8GULCJ&marketplace=FLIPKART&q=Sunglasses&store=26x&srno=s_1_34&otracker=search&otracker1=search&fm=SEARCH&iid=beff398b-3811-4003-8cc1-bd84b1959e7f.SGLF4QP8YSS9EUBC.SEARCH&ppt=hp&ppn=homepage&ssid=zw2zfuwng00000001631098639348&qH=0ff7a11a5902c9f7',\n",
       " 'https://www.flipkart.com/fastrack-wayfarer-sunglasses/p/itma3f884efb246c?pid=SGLFG94CJAP7TYFY&lid=LSTSGLFG94CJAP7TYFYMAF3H2&marketplace=FLIPKART&q=Sunglasses&store=26x&srno=s_1_35&otracker=search&otracker1=search&fm=SEARCH&iid=beff398b-3811-4003-8cc1-bd84b1959e7f.SGLFG94CJAP7TYFY.SEARCH&ppt=hp&ppn=homepage&ssid=zw2zfuwng00000001631098639348&qH=0ff7a11a5902c9f7',\n",
       " 'https://www.flipkart.com/gansta-aviator-sunglasses/p/itma841cb28ba5b2?pid=SGLFSFVG8R3XZAMN&lid=LSTSGLFSFVG8R3XZAMNIB8HEQ&marketplace=FLIPKART&q=Sunglasses&store=26x&srno=s_1_37&otracker=search&otracker1=search&fm=SEARCH&iid=beff398b-3811-4003-8cc1-bd84b1959e7f.SGLFSFVG8R3XZAMN.SEARCH&ppt=hp&ppn=homepage&ssid=zw2zfuwng00000001631098639348&qH=0ff7a11a5902c9f7',\n",
       " 'https://www.flipkart.com/rich-club-round-sunglasses/p/itm07f4fb1885fd4?pid=SGLFZGR9GSPMZFGU&lid=LSTSGLFZGR9GSPMZFGUCPHP8S&marketplace=FLIPKART&q=Sunglasses&store=26x&srno=s_1_38&otracker=search&otracker1=search&fm=SEARCH&iid=beff398b-3811-4003-8cc1-bd84b1959e7f.SGLFZGR9GSPMZFGU.SEARCH&ppt=hp&ppn=homepage&ssid=zw2zfuwng00000001631098639348&qH=0ff7a11a5902c9f7',\n",
       " 'https://www.flipkart.com/kingsunglasses-wayfarer-sunglasses/p/itm59aef661362cd?pid=SGLG2ZY2RFEUSYZS&lid=LSTSGLG2ZY2RFEUSYZSBUS16I&marketplace=FLIPKART&q=Sunglasses&store=26x&srno=s_1_39&otracker=search&otracker1=search&fm=SEARCH&iid=beff398b-3811-4003-8cc1-bd84b1959e7f.SGLG2ZY2RFEUSYZS.SEARCH&ppt=hp&ppn=homepage&ssid=zw2zfuwng00000001631098639348&qH=0ff7a11a5902c9f7',\n",
       " 'https://www.flipkart.com/royal-son-aviator-sunglasses/p/itm8185c0d78d117?pid=SGLFZJV9ZVA6HCMQ&lid=LSTSGLFZJV9ZVA6HCMQOJXEPY&marketplace=FLIPKART&q=Sunglasses&store=26x&srno=s_1_40&otracker=search&otracker1=search&fm=SEARCH&iid=en_J9voIV%2Bu28XoXRt9ekMuHhndeDfcsN8ti5hrWivdgXcHHdCU1uEugafVzFY9FRQ0Jt7ucX%2BD4%2B%2B%2BLlVUGZGHRw%3D%3D&ppt=hp&ppn=homepage&ssid=zw2zfuwng00000001631098639348&qH=0ff7a11a5902c9f7']"
      ]
     },
     "execution_count": 62,
     "metadata": {},
     "output_type": "execute_result"
    }
   ],
   "source": [
    "urls1"
   ]
  },
  {
   "cell_type": "code",
   "execution_count": 63,
   "metadata": {},
   "outputs": [],
   "source": [
    "Brands = []\n",
    "Product_des = []\n",
    "Price = []\n",
    "Discount = []"
   ]
  },
  {
   "cell_type": "code",
   "execution_count": 64,
   "metadata": {},
   "outputs": [],
   "source": [
    "for i in urls1:\n",
    "    driver.get(i)\n",
    "    time.sleep(5)\n",
    "    try:\n",
    "        brand = driver.find_element_by_xpath(\"//span[@class='G6XhRU']\")\n",
    "        Brands.append(brand.text)\n",
    "    except:\n",
    "        Brands.append('--')     \n",
    "    try:\n",
    "        discount = driver.find_element_by_xpath(\"//div[@class='_3Ay6Sb _31Dcoz pZkvcx']\")\n",
    "        Discount.append(discount.text)\n",
    "    except:\n",
    "        Discount.append(\"--\")\n",
    "        "
   ]
  },
  {
   "cell_type": "code",
   "execution_count": 65,
   "metadata": {
    "scrolled": true
   },
   "outputs": [],
   "source": [
    "for b in urls1:\n",
    "    driver.get(b)\n",
    "    product =  driver.find_element_by_xpath(\"//span[@class='B_NuCI']\")\n",
    "    Product_des.append(product.text)"
   ]
  },
  {
   "cell_type": "code",
   "execution_count": 66,
   "metadata": {},
   "outputs": [
    {
     "data": {
      "text/plain": [
       "111"
      ]
     },
     "execution_count": 66,
     "metadata": {},
     "output_type": "execute_result"
    }
   ],
   "source": [
    "len(Product_des)"
   ]
  },
  {
   "cell_type": "code",
   "execution_count": 67,
   "metadata": {},
   "outputs": [
    {
     "name": "stdout",
     "output_type": "stream",
     "text": [
      "['Polarized, UV Protection Round Sunglasses (49)  (For Men & Women, Black)', 'UV Protection Round Sunglasses (54)  (For Men & Women, Multicolor)', 'UV Protection, Polarized, Mirrored Rectangular Sunglasses (Free Size)  (For Men & Women, Black)', 'UV Protection Aviator Sunglasses (54)  (For Men & Women, Black)', 'UV Protection Aviator Sunglasses (54)  (For Men & Women, Green)', 'Mirrored, UV Protection Wayfarer Sunglasses (Free Size)  (For Men & Women, Blue, Green, Brown, Black, Clear)', 'UV Protection Aviator Sunglasses (57)  (For Men & Women, Black, Blue)', 'UV Protection Wayfarer Sunglasses (Free Size)  (For Men, Green)', 'Gradient, UV Protection Wayfarer Sunglasses (Free Size)  (For Men, Green)', 'UV Protection Round Sunglasses (54)  (For Men & Women, Clear)', 'UV Protection, Gradient Wayfarer, Clubmaster Sunglasses (57)  (For Women, Pink)', 'UV Protection, Polarized, Mirrored Rectangular Sunglasses (Free Size)  (For Men & Women, Black)', 'UV Protection Aviator Sunglasses (54)  (For Men & Women, Black, Golden)', 'UV Protection Aviator Sunglasses (Free Size)  (For Men, Green)', 'UV Protection Over-sized Sunglasses (65)  (For Women, Brown)', 'UV Protection Round Sunglasses (Free Size)  (For Men & Women, Red, Yellow, Blue, Pink, Blue, Green)', 'UV Protection, Gradient Rectangular Sunglasses (Free Size)  (For Men & Women, Blue)', 'UV Protection Retro Square Sunglasses (Free Size)  (For Men & Women, Yellow, Red)', 'UV Protection Wayfarer Sunglasses (Free Size)  (For Men & Women, Black)', 'UV Protection, Polarized, Mirrored Wayfarer Sunglasses (Free Size)  (For Men & Women, Brown, Clear, Green, Black, Blue)', 'UV Protection Retro Square Sunglasses (Free Size)  (For Men & Women, Blue)', 'Polarized, UV Protection Aviator Sunglasses (52)  (For Men & Women, Black)', 'UV Protection Rectangular Sunglasses (58)  (For Men & Women, Black, Silver)', 'UV Protection, Polarized, Mirrored Wayfarer Sunglasses (Free Size)  (For Men & Women, Blue, Black, Red, Yellow)', 'UV Protection Butterfly Sunglasses (65)  (For Women, Black, Blue)', 'UV Protection, Gradient Wayfarer Sunglasses (55)  (For Men & Women, Black, Brown)', 'UV Protection, Mirrored Aviator Sunglasses (58)  (For Men & Women, Clear, Red)', 'Mirrored Round Sunglasses (53)  (For Men & Women, Silver, Green, Blue, Yellow, Black)', 'UV Protection Aviator, Wayfarer Sunglasses (Free Size)  (For Men & Women, Black)', 'UV Protection, Gradient Butterfly Sunglasses (55)  (For Women, Brown)', 'Mirrored Aviator Sunglasses (55)  (For Men, Black, Brown)', 'UV Protection Aviator Sunglasses (Free Size)  (For Men & Women, Black)', 'UV Protection Wayfarer Sunglasses (57)  (For Men, Grey)', 'UV Protection, Night Vision, Riding Glasses Aviator Sunglasses (57)  (For Men & Women, Yellow, Clear)', 'UV Protection, Mirrored, Gradient Round Sunglasses (51)  (For Men & Women, Black)', 'Mirrored, UV Protection Wayfarer Sunglasses (Free Size)  (For Men & Women, Yellow, Blue, Green, Brown, Black)', 'UV Protection, Polarized Aviator Sunglasses (60)  (For Men & Women, Black)', 'Polarized, UV Protection Round Sunglasses (49)  (For Men & Women, Black)', 'UV Protection Round Sunglasses (54)  (For Men & Women, Multicolor)', 'UV Protection, Polarized, Mirrored Rectangular Sunglasses (Free Size)  (For Men & Women, Black)', 'UV Protection Aviator Sunglasses (54)  (For Men & Women, Black)', 'UV Protection Aviator Sunglasses (54)  (For Men & Women, Green)', 'Mirrored, UV Protection Wayfarer Sunglasses (Free Size)  (For Men & Women, Blue, Green, Brown, Black, Clear)', 'UV Protection Aviator Sunglasses (57)  (For Men & Women, Black, Blue)', 'UV Protection Wayfarer Sunglasses (Free Size)  (For Men, Green)', 'Gradient, UV Protection Wayfarer Sunglasses (Free Size)  (For Men, Green)', 'UV Protection Round Sunglasses (54)  (For Men & Women, Clear)', 'UV Protection, Gradient Wayfarer, Clubmaster Sunglasses (57)  (For Women, Pink)', 'UV Protection, Polarized, Mirrored Rectangular Sunglasses (Free Size)  (For Men & Women, Black)', 'UV Protection Aviator Sunglasses (54)  (For Men & Women, Black, Golden)', 'UV Protection Aviator Sunglasses (Free Size)  (For Men, Green)', 'UV Protection Over-sized Sunglasses (65)  (For Women, Brown)', 'UV Protection Round Sunglasses (Free Size)  (For Men & Women, Red, Yellow, Blue, Pink, Blue, Green)', 'UV Protection, Gradient Rectangular Sunglasses (Free Size)  (For Men & Women, Blue)', 'UV Protection Retro Square Sunglasses (Free Size)  (For Men & Women, Yellow, Red)', 'UV Protection Wayfarer Sunglasses (Free Size)  (For Men & Women, Black)', 'UV Protection, Polarized, Mirrored Wayfarer Sunglasses (Free Size)  (For Men & Women, Brown, Clear, Green, Black, Blue)', 'UV Protection Retro Square Sunglasses (Free Size)  (For Men & Women, Blue)', 'Polarized, UV Protection Aviator Sunglasses (52)  (For Men & Women, Black)', 'UV Protection Rectangular Sunglasses (58)  (For Men & Women, Black, Silver)', 'UV Protection, Polarized, Mirrored Wayfarer Sunglasses (Free Size)  (For Men & Women, Blue, Black, Red, Yellow)', 'UV Protection Butterfly Sunglasses (65)  (For Women, Black, Blue)', 'UV Protection, Gradient Wayfarer Sunglasses (55)  (For Men & Women, Black, Brown)', 'UV Protection, Mirrored Aviator Sunglasses (58)  (For Men & Women, Clear, Red)', 'Mirrored Round Sunglasses (53)  (For Men & Women, Silver, Green, Blue, Yellow, Black)', 'UV Protection Aviator, Wayfarer Sunglasses (Free Size)  (For Men & Women, Black)', 'UV Protection, Gradient Butterfly Sunglasses (55)  (For Women, Brown)', 'Mirrored Aviator Sunglasses (55)  (For Men, Black, Brown)', 'UV Protection Aviator Sunglasses (Free Size)  (For Men & Women, Black)', 'UV Protection Wayfarer Sunglasses (57)  (For Men, Grey)', 'UV Protection, Night Vision, Riding Glasses Aviator Sunglasses (57)  (For Men & Women, Yellow, Clear)', 'UV Protection, Mirrored, Gradient Round Sunglasses (51)  (For Men & Women, Black)', 'Mirrored, UV Protection Wayfarer Sunglasses (Free Size)  (For Men & Women, Yellow, Blue, Green, Brown, Black)', 'UV Protection, Polarized Aviator Sunglasses (60)  (For Men & Women, Black)', 'Polarized, UV Protection Round Sunglasses (49)  (For Men & Women, Black)', 'UV Protection Round Sunglasses (54)  (For Men & Women, Multicolor)', 'UV Protection, Polarized, Mirrored Rectangular Sunglasses (Free Size)  (For Men & Women, Black)', 'UV Protection Aviator Sunglasses (54)  (For Men & Women, Black)', 'UV Protection Aviator Sunglasses (54)  (For Men & Women, Green)', 'Mirrored, UV Protection Wayfarer Sunglasses (Free Size)  (For Men & Women, Blue, Green, Brown, Black, Clear)', 'UV Protection Aviator Sunglasses (57)  (For Men & Women, Black, Blue)', 'UV Protection Wayfarer Sunglasses (Free Size)  (For Men, Green)', 'Gradient, UV Protection Wayfarer Sunglasses (Free Size)  (For Men, Green)', 'UV Protection Round Sunglasses (54)  (For Men & Women, Clear)', 'UV Protection, Gradient Wayfarer, Clubmaster Sunglasses (57)  (For Women, Pink)', 'UV Protection, Polarized, Mirrored Rectangular Sunglasses (Free Size)  (For Men & Women, Black)', 'UV Protection Aviator Sunglasses (54)  (For Men & Women, Black, Golden)', 'UV Protection Aviator Sunglasses (Free Size)  (For Men, Green)', 'UV Protection Over-sized Sunglasses (65)  (For Women, Brown)', 'UV Protection Round Sunglasses (Free Size)  (For Men & Women, Red, Yellow, Blue, Pink, Blue, Green)', 'UV Protection, Gradient Rectangular Sunglasses (Free Size)  (For Men & Women, Blue)', 'UV Protection Retro Square Sunglasses (Free Size)  (For Men & Women, Yellow, Red)', 'UV Protection Wayfarer Sunglasses (Free Size)  (For Men & Women, Black)', 'UV Protection, Polarized, Mirrored Wayfarer Sunglasses (Free Size)  (For Men & Women, Brown, Clear, Green, Black, Blue)', 'UV Protection Retro Square Sunglasses (Free Size)  (For Men & Women, Blue)', 'Polarized, UV Protection Aviator Sunglasses (52)  (For Men & Women, Black)', 'UV Protection Rectangular Sunglasses (58)  (For Men & Women, Black, Silver)', 'UV Protection, Polarized, Mirrored Wayfarer Sunglasses (Free Size)  (For Men & Women, Blue, Black, Red, Yellow)', 'UV Protection Butterfly Sunglasses (65)  (For Women, Black, Blue)', 'UV Protection, Gradient Wayfarer Sunglasses (55)  (For Men & Women, Black, Brown)', 'UV Protection, Mirrored Aviator Sunglasses (58)  (For Men & Women, Clear, Red)', 'Mirrored Round Sunglasses (53)  (For Men & Women, Silver, Green, Blue, Yellow, Black)', 'UV Protection Aviator, Wayfarer Sunglasses (Free Size)  (For Men & Women, Black)', 'UV Protection, Gradient Butterfly Sunglasses (55)  (For Women, Brown)', 'Mirrored Aviator Sunglasses (55)  (For Men, Black, Brown)', 'UV Protection Aviator Sunglasses (Free Size)  (For Men & Women, Black)', 'UV Protection Wayfarer Sunglasses (57)  (For Men, Grey)', 'UV Protection, Night Vision, Riding Glasses Aviator Sunglasses (57)  (For Men & Women, Yellow, Clear)', 'UV Protection, Mirrored, Gradient Round Sunglasses (51)  (For Men & Women, Black)', 'Mirrored, UV Protection Wayfarer Sunglasses (Free Size)  (For Men & Women, Yellow, Blue, Green, Brown, Black)', 'UV Protection, Polarized Aviator Sunglasses (60)  (For Men & Women, Black)']\n"
     ]
    }
   ],
   "source": [
    "print(Product_des)"
   ]
  },
  {
   "cell_type": "code",
   "execution_count": 68,
   "metadata": {},
   "outputs": [],
   "source": [
    "for c in urls1:\n",
    "    driver.get(c)\n",
    "    price = driver.find_element_by_xpath(\"//div[@class='_30jeq3 _16Jk6d']\")\n",
    "    Price.append(price.text)\n"
   ]
  },
  {
   "cell_type": "code",
   "execution_count": 69,
   "metadata": {},
   "outputs": [
    {
     "name": "stdout",
     "output_type": "stream",
     "text": [
      "['₹664', '₹329', '₹198', '₹237', '₹237', '₹284', '₹284', '₹758', '₹509', '₹213', '₹525', '₹215', '₹237', '₹546', '₹664', '₹331', '₹404', '₹379', '₹259', '₹284', '₹499', '₹759', '₹474', '₹265', '₹449', '₹203', '₹186', '₹355', '₹229', '₹664', '₹379', '₹695', '₹503', '₹295', '₹215', '₹284', '₹711', '₹664', '₹329', '₹198', '₹237', '₹237', '₹284', '₹284', '₹758', '₹509', '₹213', '₹525', '₹215', '₹237', '₹546', '₹664', '₹331', '₹404', '₹379', '₹259', '₹284', '₹499', '₹759', '₹474', '₹265', '₹449', '₹203', '₹186', '₹355', '₹229', '₹664', '₹379', '₹695', '₹503', '₹295', '₹215', '₹284', '₹711', '₹664', '₹329', '₹198', '₹237', '₹237', '₹284', '₹284', '₹758', '₹509', '₹213', '₹525', '₹215', '₹237', '₹546', '₹664', '₹331', '₹404', '₹379', '₹259', '₹284', '₹499', '₹759', '₹474', '₹265', '₹449', '₹203', '₹186', '₹355', '₹229', '₹664', '₹379', '₹695', '₹503', '₹295', '₹215', '₹284', '₹711']\n"
     ]
    }
   ],
   "source": [
    "print(Price)"
   ]
  },
  {
   "cell_type": "code",
   "execution_count": 70,
   "metadata": {},
   "outputs": [
    {
     "name": "stdout",
     "output_type": "stream",
     "text": [
      "['ROYAL SON ', 'Elligator ', 'SHAAH COLLECTIONS ', 'PIRASO ', 'PIRASO ', 'kingsunglasses ', 'GANSTA ', 'Fastrack ', 'Fastrack ', 'kingsunglasses ', 'AISLIN ', 'SHAAH COLLECTIONS ', 'PIRASO ', 'Fastrack ', 'ROYAL SON ', 'SHAAH COLLECTIONS ', 'ROZZETTA CRAFT ', 'PHENOMENAL ', 'Silver Kartz ', 'SUNBEE ', 'ROZZETTA CRAFT ', 'ROYAL SON ', 'ROYAL SON ', 'SUNBEE ', 'PIRASO ', 'ROYAL SON ', 'NuVew ', 'Elligator ', 'DEIXELS ', 'ROYAL SON ', 'ROYAL SON ', 'Fastrack ', 'Fastrack ', 'GANSTA ', 'Rich Club ', 'kingsunglasses ', 'ROYAL SON ', 'ROYAL SON ', 'Elligator ', 'SHAAH COLLECTIONS ', 'PIRASO ', 'PIRASO ', 'kingsunglasses ', 'GANSTA ', 'Fastrack ', 'Fastrack ', 'kingsunglasses ', 'AISLIN ', 'SHAAH COLLECTIONS ', 'PIRASO ', 'Fastrack ', 'ROYAL SON ', 'SHAAH COLLECTIONS ', 'ROZZETTA CRAFT ', 'PHENOMENAL ', 'Silver Kartz ', 'SUNBEE ', 'ROZZETTA CRAFT ', 'ROYAL SON ', 'ROYAL SON ', 'SUNBEE ', 'PIRASO ', 'ROYAL SON ', 'NuVew ', 'Elligator ', 'DEIXELS ', 'ROYAL SON ', 'ROYAL SON ', 'Fastrack ', 'Fastrack ', 'GANSTA ', 'Rich Club ', 'kingsunglasses ', 'ROYAL SON ', 'ROYAL SON ', 'Elligator ', 'SHAAH COLLECTIONS ', 'PIRASO ', 'PIRASO ', 'kingsunglasses ', 'GANSTA ', 'Fastrack ', 'Fastrack ', 'kingsunglasses ', 'AISLIN ', 'SHAAH COLLECTIONS ', 'PIRASO ', 'Fastrack ', 'ROYAL SON ', 'SHAAH COLLECTIONS ', 'ROZZETTA CRAFT ', 'PHENOMENAL ', 'Silver Kartz ', 'SUNBEE ', 'ROZZETTA CRAFT ', 'ROYAL SON ', 'ROYAL SON ', 'SUNBEE ', 'PIRASO ', 'ROYAL SON ', 'NuVew ', 'Elligator ', 'DEIXELS ', 'ROYAL SON ', 'ROYAL SON ', 'Fastrack ', 'Fastrack ', 'GANSTA ', 'Rich Club ', 'kingsunglasses ', 'ROYAL SON ']\n",
      "['66% off', '86% off', '88% off', '85% off', '85% off', '89% off', '85% off', '15% off', '36% off', '80% off', '65% off', '78% off', '85% off', '31% off', '55% off', '80% off', '79% off', '81% off', '82% off', '71% off', '77% off', '62% off', '68% off', '73% off', '82% off', '79% off', '78% off', '85% off', '80% off', '66% off', '74% off', '13% off', '37% off', '85% off', '73% off', '89% off', '64% off', '66% off', '86% off', '88% off', '85% off', '85% off', '89% off', '85% off', '15% off', '36% off', '80% off', '65% off', '78% off', '85% off', '31% off', '55% off', '80% off', '79% off', '81% off', '82% off', '71% off', '77% off', '62% off', '68% off', '73% off', '82% off', '79% off', '78% off', '85% off', '80% off', '66% off', '74% off', '13% off', '37% off', '85% off', '73% off', '89% off', '64% off', '66% off', '86% off', '88% off', '85% off', '85% off', '89% off', '85% off', '15% off', '36% off', '80% off', '65% off', '78% off', '85% off', '31% off', '55% off', '80% off', '79% off', '81% off', '82% off', '71% off', '77% off', '62% off', '68% off', '73% off', '82% off', '79% off', '78% off', '85% off', '80% off', '66% off', '74% off', '13% off', '37% off', '85% off', '73% off', '89% off', '64% off']\n"
     ]
    }
   ],
   "source": [
    "print(Brands)\n",
    "print(Discount)"
   ]
  },
  {
   "cell_type": "code",
   "execution_count": 71,
   "metadata": {},
   "outputs": [
    {
     "data": {
      "text/html": [
       "<div>\n",
       "<style scoped>\n",
       "    .dataframe tbody tr th:only-of-type {\n",
       "        vertical-align: middle;\n",
       "    }\n",
       "\n",
       "    .dataframe tbody tr th {\n",
       "        vertical-align: top;\n",
       "    }\n",
       "\n",
       "    .dataframe thead th {\n",
       "        text-align: right;\n",
       "    }\n",
       "</style>\n",
       "<table border=\"1\" class=\"dataframe\">\n",
       "  <thead>\n",
       "    <tr style=\"text-align: right;\">\n",
       "      <th></th>\n",
       "      <th>Brands</th>\n",
       "      <th>Product_description</th>\n",
       "      <th>Price</th>\n",
       "      <th>Discount</th>\n",
       "    </tr>\n",
       "  </thead>\n",
       "  <tbody>\n",
       "    <tr>\n",
       "      <th>0</th>\n",
       "      <td>ROYAL SON</td>\n",
       "      <td>Polarized, UV Protection Round Sunglasses (49)...</td>\n",
       "      <td>₹664</td>\n",
       "      <td>66% off</td>\n",
       "    </tr>\n",
       "    <tr>\n",
       "      <th>1</th>\n",
       "      <td>Elligator</td>\n",
       "      <td>UV Protection Round Sunglasses (54)  (For Men ...</td>\n",
       "      <td>₹329</td>\n",
       "      <td>86% off</td>\n",
       "    </tr>\n",
       "    <tr>\n",
       "      <th>2</th>\n",
       "      <td>SHAAH COLLECTIONS</td>\n",
       "      <td>UV Protection, Polarized, Mirrored Rectangular...</td>\n",
       "      <td>₹198</td>\n",
       "      <td>88% off</td>\n",
       "    </tr>\n",
       "    <tr>\n",
       "      <th>3</th>\n",
       "      <td>PIRASO</td>\n",
       "      <td>UV Protection Aviator Sunglasses (54)  (For Me...</td>\n",
       "      <td>₹237</td>\n",
       "      <td>85% off</td>\n",
       "    </tr>\n",
       "    <tr>\n",
       "      <th>4</th>\n",
       "      <td>PIRASO</td>\n",
       "      <td>UV Protection Aviator Sunglasses (54)  (For Me...</td>\n",
       "      <td>₹237</td>\n",
       "      <td>85% off</td>\n",
       "    </tr>\n",
       "    <tr>\n",
       "      <th>...</th>\n",
       "      <td>...</td>\n",
       "      <td>...</td>\n",
       "      <td>...</td>\n",
       "      <td>...</td>\n",
       "    </tr>\n",
       "    <tr>\n",
       "      <th>95</th>\n",
       "      <td>ROYAL SON</td>\n",
       "      <td>Polarized, UV Protection Aviator Sunglasses (5...</td>\n",
       "      <td>₹759</td>\n",
       "      <td>62% off</td>\n",
       "    </tr>\n",
       "    <tr>\n",
       "      <th>96</th>\n",
       "      <td>ROYAL SON</td>\n",
       "      <td>UV Protection Rectangular Sunglasses (58)  (Fo...</td>\n",
       "      <td>₹474</td>\n",
       "      <td>68% off</td>\n",
       "    </tr>\n",
       "    <tr>\n",
       "      <th>97</th>\n",
       "      <td>SUNBEE</td>\n",
       "      <td>UV Protection, Polarized, Mirrored Wayfarer Su...</td>\n",
       "      <td>₹265</td>\n",
       "      <td>73% off</td>\n",
       "    </tr>\n",
       "    <tr>\n",
       "      <th>98</th>\n",
       "      <td>PIRASO</td>\n",
       "      <td>UV Protection Butterfly Sunglasses (65)  (For ...</td>\n",
       "      <td>₹449</td>\n",
       "      <td>82% off</td>\n",
       "    </tr>\n",
       "    <tr>\n",
       "      <th>99</th>\n",
       "      <td>ROYAL SON</td>\n",
       "      <td>UV Protection, Gradient Wayfarer Sunglasses (5...</td>\n",
       "      <td>₹203</td>\n",
       "      <td>79% off</td>\n",
       "    </tr>\n",
       "  </tbody>\n",
       "</table>\n",
       "<p>100 rows × 4 columns</p>\n",
       "</div>"
      ],
      "text/plain": [
       "                Brands                                Product_description  \\\n",
       "0           ROYAL SON   Polarized, UV Protection Round Sunglasses (49)...   \n",
       "1           Elligator   UV Protection Round Sunglasses (54)  (For Men ...   \n",
       "2   SHAAH COLLECTIONS   UV Protection, Polarized, Mirrored Rectangular...   \n",
       "3              PIRASO   UV Protection Aviator Sunglasses (54)  (For Me...   \n",
       "4              PIRASO   UV Protection Aviator Sunglasses (54)  (For Me...   \n",
       "..                 ...                                                ...   \n",
       "95          ROYAL SON   Polarized, UV Protection Aviator Sunglasses (5...   \n",
       "96          ROYAL SON   UV Protection Rectangular Sunglasses (58)  (Fo...   \n",
       "97             SUNBEE   UV Protection, Polarized, Mirrored Wayfarer Su...   \n",
       "98             PIRASO   UV Protection Butterfly Sunglasses (65)  (For ...   \n",
       "99          ROYAL SON   UV Protection, Gradient Wayfarer Sunglasses (5...   \n",
       "\n",
       "   Price Discount  \n",
       "0   ₹664  66% off  \n",
       "1   ₹329  86% off  \n",
       "2   ₹198  88% off  \n",
       "3   ₹237  85% off  \n",
       "4   ₹237  85% off  \n",
       "..   ...      ...  \n",
       "95  ₹759  62% off  \n",
       "96  ₹474  68% off  \n",
       "97  ₹265  73% off  \n",
       "98  ₹449  82% off  \n",
       "99  ₹203  79% off  \n",
       "\n",
       "[100 rows x 4 columns]"
      ]
     },
     "execution_count": 71,
     "metadata": {},
     "output_type": "execute_result"
    }
   ],
   "source": [
    "df_flipkart = pd.DataFrame({})\n",
    "df_flipkart[\"Brands\"] = Brands[:100]\n",
    "df_flipkart[\"Product_description\"] = Product_des[:100]\n",
    "df_flipkart[\"Price\"] = Price[:100]\n",
    "df_flipkart[\"Discount\"] = Discount[:100]\n",
    "df_flipkart"
   ]
  },
  {
   "cell_type": "markdown",
   "metadata": {},
   "source": [
    "# Q7: Scrape 100 reviews data from flipkart.com for iphone11 phone. You have to go the link:"
   ]
  },
  {
   "cell_type": "code",
   "execution_count": 3,
   "metadata": {},
   "outputs": [],
   "source": [
    "import selenium\n",
    "import pandas as pd \n",
    "from selenium import webdriver\n",
    "import time \n",
    "from selenium.common.exceptions import NoSuchElementException"
   ]
  },
  {
   "cell_type": "code",
   "execution_count": 60,
   "metadata": {},
   "outputs": [],
   "source": [
    "driver = webdriver.Chrome(\"chromedriver.exe\")\n",
    "url=\"https://www.flipkart.com/apple-iphone-11-black-64-gb-includes-earpods-power-adapter/p/itm0f37c2240b217?pid=MOBFKCTSVZAXUHGR&lid=LSTMOBFKCTSVZAXUHGREPBFGI&marketplace.\"\n",
    "driver.get(url)\n"
   ]
  },
  {
   "cell_type": "code",
   "execution_count": 64,
   "metadata": {},
   "outputs": [],
   "source": [
    "link = []\n",
    "for i in driver.find_elements_by_xpath(\"//a[@class='ge-49M']\"):\n",
    "    link.append(i.get_attribute(\"href\"))\n"
   ]
  },
  {
   "cell_type": "code",
   "execution_count": 65,
   "metadata": {},
   "outputs": [],
   "source": [
    "for a in driver.find_elements_by_xpath(\"//a[@class='ge-49M']\"):\n",
    "    link.append(i.get_attribute(\"href\"))"
   ]
  },
  {
   "cell_type": "code",
   "execution_count": 68,
   "metadata": {},
   "outputs": [
    {
     "data": {
      "text/plain": [
       "['https://www.flipkart.com/apple-iphone-11-black-64-gb-includes-earpods-power-adapter/product-reviews/itm0f37c2240b217?pid=MOBFKCTSVZAXUHGR&lid=LSTMOBFKCTSVZAXUHGREPBFGI&marketplace=FLIPKART&page=11',\n",
       " 'https://www.flipkart.com/apple-iphone-11-black-64-gb-includes-earpods-power-adapter/product-reviews/itm0f37c2240b217?pid=MOBFKCTSVZAXUHGR&lid=LSTMOBFKCTSVZAXUHGREPBFGI&marketplace=FLIPKART&page=12',\n",
       " 'https://www.flipkart.com/apple-iphone-11-black-64-gb-includes-earpods-power-adapter/product-reviews/itm0f37c2240b217?pid=MOBFKCTSVZAXUHGR&lid=LSTMOBFKCTSVZAXUHGREPBFGI&marketplace=FLIPKART&page=13',\n",
       " 'https://www.flipkart.com/apple-iphone-11-black-64-gb-includes-earpods-power-adapter/product-reviews/itm0f37c2240b217?pid=MOBFKCTSVZAXUHGR&lid=LSTMOBFKCTSVZAXUHGREPBFGI&marketplace=FLIPKART&page=14',\n",
       " 'https://www.flipkart.com/apple-iphone-11-black-64-gb-includes-earpods-power-adapter/product-reviews/itm0f37c2240b217?pid=MOBFKCTSVZAXUHGR&lid=LSTMOBFKCTSVZAXUHGREPBFGI&marketplace=FLIPKART&page=16',\n",
       " 'https://www.flipkart.com/apple-iphone-11-black-64-gb-includes-earpods-power-adapter/product-reviews/itm0f37c2240b217?pid=MOBFKCTSVZAXUHGR&lid=LSTMOBFKCTSVZAXUHGREPBFGI&marketplace=FLIPKART&page=17',\n",
       " 'https://www.flipkart.com/apple-iphone-11-black-64-gb-includes-earpods-power-adapter/product-reviews/itm0f37c2240b217?pid=MOBFKCTSVZAXUHGR&lid=LSTMOBFKCTSVZAXUHGREPBFGI&marketplace=FLIPKART&page=18',\n",
       " 'https://www.flipkart.com/apple-iphone-11-black-64-gb-includes-earpods-power-adapter/product-reviews/itm0f37c2240b217?pid=MOBFKCTSVZAXUHGR&lid=LSTMOBFKCTSVZAXUHGREPBFGI&marketplace=FLIPKART&page=19',\n",
       " 'https://www.flipkart.com/apple-iphone-11-black-64-gb-includes-earpods-power-adapter/product-reviews/itm0f37c2240b217?pid=MOBFKCTSVZAXUHGR&lid=LSTMOBFKCTSVZAXUHGREPBFGI&marketplace=FLIPKART&page=20',\n",
       " 'https://www.flipkart.com/apple-iphone-11-black-64-gb-includes-earpods-power-adapter/product-reviews/itm0f37c2240b217?pid=MOBFKCTSVZAXUHGR&lid=LSTMOBFKCTSVZAXUHGREPBFGI&marketplace=FLIPKART&page=20',\n",
       " 'https://www.flipkart.com/apple-iphone-11-black-64-gb-includes-earpods-power-adapter/product-reviews/itm0f37c2240b217?pid=MOBFKCTSVZAXUHGR&lid=LSTMOBFKCTSVZAXUHGREPBFGI&marketplace=FLIPKART&page=20',\n",
       " 'https://www.flipkart.com/apple-iphone-11-black-64-gb-includes-earpods-power-adapter/product-reviews/itm0f37c2240b217?pid=MOBFKCTSVZAXUHGR&lid=LSTMOBFKCTSVZAXUHGREPBFGI&marketplace=FLIPKART&page=20',\n",
       " 'https://www.flipkart.com/apple-iphone-11-black-64-gb-includes-earpods-power-adapter/product-reviews/itm0f37c2240b217?pid=MOBFKCTSVZAXUHGR&lid=LSTMOBFKCTSVZAXUHGREPBFGI&marketplace=FLIPKART&page=20',\n",
       " 'https://www.flipkart.com/apple-iphone-11-black-64-gb-includes-earpods-power-adapter/product-reviews/itm0f37c2240b217?pid=MOBFKCTSVZAXUHGR&lid=LSTMOBFKCTSVZAXUHGREPBFGI&marketplace=FLIPKART&page=20',\n",
       " 'https://www.flipkart.com/apple-iphone-11-black-64-gb-includes-earpods-power-adapter/product-reviews/itm0f37c2240b217?pid=MOBFKCTSVZAXUHGR&lid=LSTMOBFKCTSVZAXUHGREPBFGI&marketplace=FLIPKART&page=20',\n",
       " 'https://www.flipkart.com/apple-iphone-11-black-64-gb-includes-earpods-power-adapter/product-reviews/itm0f37c2240b217?pid=MOBFKCTSVZAXUHGR&lid=LSTMOBFKCTSVZAXUHGREPBFGI&marketplace=FLIPKART&page=20',\n",
       " 'https://www.flipkart.com/apple-iphone-11-black-64-gb-includes-earpods-power-adapter/product-reviews/itm0f37c2240b217?pid=MOBFKCTSVZAXUHGR&lid=LSTMOBFKCTSVZAXUHGREPBFGI&marketplace=FLIPKART&page=20',\n",
       " 'https://www.flipkart.com/apple-iphone-11-black-64-gb-includes-earpods-power-adapter/product-reviews/itm0f37c2240b217?pid=MOBFKCTSVZAXUHGR&lid=LSTMOBFKCTSVZAXUHGREPBFGI&marketplace=FLIPKART&page=20']"
      ]
     },
     "execution_count": 68,
     "metadata": {},
     "output_type": "execute_result"
    }
   ],
   "source": [
    "link"
   ]
  },
  {
   "cell_type": "code",
   "execution_count": 69,
   "metadata": {},
   "outputs": [],
   "source": [
    "Rating7=[]\n",
    "for i in link:\n",
    "    driver.get(i)\n",
    "    try:\n",
    "        pro_rating=driver.find_elements_by_xpath(\"//div[@class='_3LWZlK _1BLPMq']\")\n",
    "        for i in pro_rating:\n",
    "             Rating7.append(i.text)\n",
    "    except:\n",
    "        \n",
    "        Rating7.append(\"--\")"
   ]
  },
  {
   "cell_type": "code",
   "execution_count": 70,
   "metadata": {},
   "outputs": [],
   "source": [
    "Review_summary = []\n",
    "for i in link:\n",
    "    driver.get(i)\n",
    "    try:\n",
    "        review7 = driver.find_elements_by_xpath(\"//p[@class='_2-N8zT']\")\n",
    "        for i in review7:\n",
    "            Review_summary.append(i.text)\n",
    "    except:\n",
    "        Review_summary.append(\"--\")\n"
   ]
  },
  {
   "cell_type": "code",
   "execution_count": 71,
   "metadata": {},
   "outputs": [],
   "source": [
    "Full_review = []\n",
    "for i in link:\n",
    "    driver.get(i)\n",
    "    try:\n",
    "        full = driver.find_elements_by_xpath(\"//div[@class='t-ZTKy']\")\n",
    "        for i in full:\n",
    "            Full_review.append(i.text)\n",
    "    except:\n",
    "        Full_review.append(\"--\")\n"
   ]
  },
  {
   "cell_type": "code",
   "execution_count": 72,
   "metadata": {},
   "outputs": [
    {
     "name": "stdout",
     "output_type": "stream",
     "text": [
      "['5', '5', '5', '4', '5', '4', '5', '4', '3', '5', '5', '5', '5', '5', '5', '5', '5', '5', '5', '5', '5', '4', '5', '5', '4', '5', '5', '5', '5', '5', '5', '5', '5', '5', '5', '5', '5', '4', '5', '4', '5', '5', '3', '5', '5', '3', '5', '4', '5', '5', '5', '5', '5', '5', '5', '5', '5', '5', '5', '5', '4', '5', '5', '3', '5', '5', '5', '5', '5', '4', '3', '5', '5', '5', '5', '3', '4', '5', '5', '4', '5', '5', '5', '5', '5', '5', '5', '5', '4', '5', '5', '5', '5', '5', '5', '5', '5', '4', '5', '5', '5', '5', '5', '5', '5', '5', '4', '5', '5', '5', '5', '5', '5', '5', '5', '4', '5', '5', '5', '5', '5', '5', '5', '5', '4', '5', '5', '5', '5', '5', '5', '5', '5', '4', '5', '5', '5', '5', '5', '5', '5', '5', '4', '5', '5', '5', '5', '5', '5', '5', '5', '4', '5', '5', '5', '5', '5', '5', '5', '5', '4', '5', '5', '5', '5', '5', '5', '5', '5']\n"
     ]
    }
   ],
   "source": [
    "print(Rating7)"
   ]
  },
  {
   "cell_type": "code",
   "execution_count": 73,
   "metadata": {},
   "outputs": [
    {
     "name": "stdout",
     "output_type": "stream",
     "text": [
      "['Excellent', 'Classy product', 'Must buy!', 'Wonderful', 'Mind-blowing purchase', 'Good quality product', 'Fabulous!', 'Good quality product', 'Does the job', 'Excellent', 'Mind-blowing purchase', 'Worth every penny', 'Super!', 'Mind-blowing purchase', 'Classy product', 'Brilliant', 'Most Price worthy Iphone', 'Terrific purchase', 'Worth every penny', 'Brilliant', 'Fabulous!', 'Value-for-money', 'Absolute rubbish!', 'Just wow!', 'Excellent', 'Really Nice', 'Great product', 'Mind-blowing purchase', 'Terrific purchase', 'Great product', 'excellent', 'Perfect product!', 'Simply awesome', 'Great product', 'Wonderful', 'Fabulous!', 'Perfect product!', 'Mind-blowing purchase', 'Good choice', 'Best in the market!', 'Delightful', 'Best in the market!', 'Awesome', 'Just okay', 'Fabulous!', 'Fabulous!', 'Just okay', 'Just wow!', 'Delightful', 'Terrific purchase', 'Perfect product!', 'Classy product', 'Terrific', 'Terrific', 'Just wow!', 'Fabulous!', 'Mind-blowing purchase', 'Just wow!', 'Worth every penny', 'Just wow!', 'Super!', 'Good choice', 'Simply awesome', 'Great product', 'Nice', 'Mind-blowing purchase', 'Worth every penny', 'Mind-blowing purchase', 'Awesome', 'Awesome', 'Wonderful', 'Does the job', 'Fabulous!', 'Super!', 'Terrific', 'Fabulous!', 'Just okay', 'Value-for-money', 'Mind-blowing purchase', 'Terrific', 'Good quality product', 'Classy product', 'Excellent', 'Perfect product!', 'Super!', 'Brilliant', 'Mind-blowing purchase', 'Terrific purchase', 'Excellent', 'Good quality product', 'Classy product', 'Excellent', 'Perfect product!', 'Super!', 'Brilliant', 'Mind-blowing purchase', 'Terrific purchase', 'Excellent', 'Good quality product', 'Classy product', 'Excellent', 'Perfect product!', 'Super!', 'Brilliant', 'Mind-blowing purchase', 'Terrific purchase', 'Excellent', 'Good quality product', 'Classy product', 'Excellent', 'Perfect product!', 'Super!', 'Brilliant', 'Mind-blowing purchase', 'Terrific purchase', 'Excellent', 'Good quality product', 'Classy product', 'Excellent', 'Perfect product!', 'Super!', 'Brilliant', 'Mind-blowing purchase', 'Terrific purchase', 'Excellent', 'Good quality product', 'Classy product', 'Excellent', 'Perfect product!', 'Super!', 'Brilliant', 'Mind-blowing purchase', 'Terrific purchase', 'Excellent', 'Good quality product', 'Classy product', 'Excellent', 'Perfect product!', 'Super!', 'Brilliant', 'Mind-blowing purchase', 'Terrific purchase', 'Excellent', 'Good quality product', 'Classy product', 'Excellent', 'Perfect product!', 'Super!', 'Brilliant', 'Mind-blowing purchase', 'Terrific purchase', 'Excellent', 'Good quality product', 'Classy product', 'Excellent', 'Perfect product!', 'Super!', 'Brilliant', 'Mind-blowing purchase', 'Terrific purchase', 'Excellent', 'Good quality product', 'Classy product', 'Excellent', 'Perfect product!', 'Super!', 'Brilliant', 'Mind-blowing purchase', 'Terrific purchase', 'Excellent']\n"
     ]
    }
   ],
   "source": [
    "print(Review_summary)"
   ]
  },
  {
   "cell_type": "code",
   "execution_count": 74,
   "metadata": {
    "scrolled": false
   },
   "outputs": [
    {
     "name": "stdout",
     "output_type": "stream",
     "text": [
      "['Value for money product. This iphone 11 is really amazing. Again nice release by apple. Great camera, battery backup is excellent. I just love this phone', 'I got this phone for good price hence 5 star for it , and over quality is good because the price to buy iphone was worth at 41000', \"Camera is excellent just lack of telephoto mode frankly dose not needed either night mode is just 🙏🙏 12 12 12 mp (2back 1 front) camera lover just don't miss the deal\\nDisplay lcd but feel like super amoled\\nAt46999 with no cost EMI just a best deal\", \"I genuinely liked it. One of the best mobile phones I have used. It's sho smooth and it's security is very astonishing. Plus it has a very good camera quality. so overall it's a win win.\", 'Flipkart honoured on time delivery, I have used 6s , now I have upgraded apple 11 . Really great experience for new iPhone. Thank you apple and flipkart.', 'Awesome camera, smooth and fast UI, display is great (though not LED) but the black area at the top could have been reduced. Battery remains a day even if used heavily. Charger in the box is ok, but 12 or 18W could have been nothing like anything. Overall an excellent product and comfortable to use. I have got it almost a month back and so far so good.', 'Good product nice experience with Flipkart but I am unhappy with the packaging part because such a valuable product comes under normal cover without any additional wrapping and that too for Plus customers. Expecting good Packaging in future from Sellers.', 'I was torn between the oneplus 8 pro and the iphone 11. I had to shell out extra money for this, but I say if you can afford it, this truely is the best package.\\nMind blowing camera, battery and overall performance. Face Id works like magic even in complete darkness without firing up the screen brightness. The phones with in display fingerprint scanners do this at night time and it really burns your eyes.\\nI wanted the oneplus for its display but tbh the OLEDs on oneplus is really bad. Flick...\\nREAD MORE', \"phone is good but in display is 720p lcd in this price range we can get full hd OLED displays with higher refresh rate processor is very good camera is nice but looks kind of oldish in front of todays phone also there's no charging in box had to buy it seperately\", 'Seller - SuperComNet ( my trust in you has grown deeper. Thanks for the genuine product )\\nThe package came packed perfectly. The box was sealed which gave me a big relief.\\n\\nApple needs no introduction since its the dominant market player. I just love the way how IPhone 11 stands out so boldly. The moment I took it out from the box, I could feel the premium intensity. The body is remarkable and crafted for giving you a elite vibe.\\n\\nCamera is to die for. There is no other phone that can beat...\\nREAD MORE', \"i was confused between 11 and 11 pro. i was going towards 11 pro, but the screen size was not enough for me.\\nAnd i saw 11 in the showroom. i didn't find much difference in screen quality.And cameras seems to be ok with me. And i saw offer's in flipkart and made the purchase.\\nthe device is fabulous. The hardware and software quality is excellent. The new iOS is something you need to experience yourself. The drawback i found was absence of fast charger, but the pricing can compensate that. Am...\\nREAD MORE\", 'iPhone is delivered on time. Display is great u won’t feel that it’s a hd panel. Quality is excellent. Sounds is great it has stereo setup. Camera is good. iOS 14.2 comes in the box. U roughly get 113 gb free if u buy 128 gb. This is my second iPhone and i love it. Value for money.', \"It's a great phone. From camera to display everything is best for the price.\\nBest camera , best performance. I think everyone should buy it . This phone has best battery life so far in iphone series which I had used earlier. Happy to have it. Thanks Flipkart\", 'Released in 2019\\nIn 2021 still the best in segment\\nPros:\\nCamera 4/5 night photograph takes -1\\nPerformance 5/5\\nBattery backup normal usage 5/5 should last more than a day\\nHeavy usage battery backup 4/5 as compared have a smaller battery but should give around 5-6h of heavy usage like game play\\nBattery charging from 18w charger 3.5/5 not as fast as compared to dash charger but does the job well 0-50% in somewhat takes 40 mins which is ok\\n\\nCons:\\nNo earpod\\nNo 3.5mm jack connector I remember gett...\\nREAD MORE', 'Got my iPhone 11 today! It’s totally worth it even in 2021. Takes wonderful images and the stabilisation of video on this phone is just awesome although it is a 2019 model. Performance wise it’s ultra fast as expected to be. The only drawback per paper is the screen it has, but in usage I noticed nothing bad and the screen was totally fine for me!\\nI upgraded from Nokia 6.1 Plus and it’s great 🤩', 'Wow wow and wow, in 48k you will not get anything better than this, processor is awsome, camera is a beast, display is superb, this is my first iphone, and I am already in love with these', 'Reviewing within 1st Month\\n\\n\\n1st Month Review\\nThis is my first Iphone. So been new to the Ios Environment i faced some basic issues. Whatever issues i am facing is because of change in environment.\\nVideo Output is amazing.\\nBattery - Typical One Day Battery. 20 W fast charger is amazing which charges the iphone within 40-60 Mins ( purchased separately)\\nCamera - Good and Natural Colours. ( I have Samsung S21+ and not at par with its camera) but the output is same all the time which is good.\\n...\\nREAD MORE', 'Well , as we all know if its not an Iphone , its not an iphone . The iphones are always beast . The camera game has been level up . The A13 Bionic is just fabulous . The update this year are certainly the camera which is damn good with d addition of wide angle lens as well as ultra wide . If anyones purchasing an iphone for the first time , do opt for the black color . Its just feels more than premium . Battery life is damn good with lasting fully a day . Overall a nice package . Well managed...\\nREAD MORE', 'Here is the thing\\n\\nThe only reason why you should buy this phone is for the camera, iOS, and if you have headaches looking at AMOLED display.\\n\\nI’m not an avid gamer but watch a lot of movies on smartphone. However, my migraine attacks increased considerably after using AMOLED Smartphone. That’s why I made a calculated decision to buy iPhone 11. It has the best LCD display and the blacks, though not as natural as an AMOLED, is better than some of the other smartphones.\\n\\nAdding to this the ste...\\nREAD MORE', 'A wort full value for money decision it’s . Simply go for it in 2021 its still a good decision . Awesome camera , Super smothered performance, Heck of build quality. And Most important it protects your privacy.', \"Just an awesome phone...upgraded from 6s to 11 and trust me guys it's super cool with amazing features..loved it ♥️ and a big thank you to Flipkart for delivering it in just 2 days ?\", 'As usual a great product from Apple. but the look wise there were some scope to make it more attractive. from the back it looks nice. picture quality is awesome . face id is blazing fast. The lightning fast bionic processor makes the phone butter smooth.Battery back up is unbeatable and best of the released iPhone.full display is still missing. however, a iPhone is a iPhone. The iPhone lovers know the value of an iPhone 🙂', 'Worst product delivered by Flipkart\\nAfter 10days of delivery mobile will not work properly\\nVolume and silent buttons are not working.\\nNo worth to buy in Flipkart.\\nPlease don’t buy apple products in Flipkart', 'Really very nice... my dad gifted me really I am soo happy with this phone love it 😇', '🤩🤩🤩🤩🤩🤩I loved the Phone.. Every time I pick up the phone it makes me happy... The phone is beast💪💪 and the camera is fabulous 🥰🥰🥰.. I think one of my great purchase from Flipkart.. Thank you Filpkart..', \"Great phone and camera and timely delivery by Flipkart!\\nYou wouldn't love the display if you're coming from a one plus or Samsung, go for iPhone 12. If display isn't your priority, this is a great choice.\", \"Great quality at not so great price, But worth it. Don't go for specs, better performance than so called spec master Chinese phones. The display could have been atleast an smiled one with atleast 90hz at this price point.\", 'After using more than a year of using iPhone11 here is my complete review:\\n1. Camera is almost perfect 8/10 except for some advantages you’ll see in Samsung S20. (Zoom, Better Image stabilisation etc)\\n2. Battery performance is 10/10\\n3. OS performance is 10/10\\n4. Build Quality 9/10 as you need to buy good quality back cover with tampered\\n5. Face Lock feature is awesome 10/10\\n6. You need to buy new charger but don’t buy more than 18 watt charger optimum is 15 / 18 watt charger. For fast chargin...\\nREAD MORE', 'Fkng awesome phone, you won’t regret spending money on it.\\nBattery is 3110mah, sufficient amount if you’re not continuously using it. Performance is up-to to the point.\\nFace ID is extremely fast and smooth, you wont even realize you’ve unlocked your phone.\\nFYI I’m reviewing this product after 3 months of usage because I wanted to know how the battery and other things are in this phone. So if you are thinking of buying it, Just go for it.', 'This iphone 11 by apple is simply amazing . Ios is so crisp and smooth that you will love .\\nI will definitely recommend it , earlier i was confused between iphone 11 and oneplus 9r. But i have made a correct choice.\\nGo with this beast without any hasitation.', 'I liked it very much, super performance , giving best battery life around one day. fast charging is super. camera quality is excellent no words.', 'At time of writing this review this phone processor definitely beat any flagship android phone !\\n\\nUpgraded from 7 Plus which is also quite good\\n\\nBut this phone performance is huge ! Fast and always to roll 😅\\nLow light Camera is great\\nBut i think portrait mode is not good as iPhone 7 plus\\nIn this phone portrait mode is looks like artificial but on my previous phone it looks like dslr photo maybe i am missing setting on this !\\n\\nOtherwise everything is good !', \"Incredible phone with a excellent battery and a better experience.\\nThose who are concerned about its screen quality.Trust me this is one of the best IPS panal.\\nPreviously I used OnePlus 5t which had a full hd AMOLED display,but I didn't notice a huge difference.\\nIf a get a fabulous deal then just go for it.\", \"I was using android phone earlier..I was thinking apple phones are much more costy than other phones with less specifications..so why to waste money in this??..But trust me guys once if you start using ios then you won't go back to android...beleive me this phone is the best than all other...There is no other phone which can beat iphones in terms of camera..iphones gives the best real image..its very faster and smoother than android phones...if you think to switch to ios iphone 11 is the best...\\nREAD MORE\", 'Dont think too much guys. perfect phone for day today use. If you are familiar with apple then go for it. camera is good which can match up with next 3 years, battery is good than all other iPhones. Definitely morning to evening-8 it can do. Display is not that bad, you will be satisfied. Best mobile worth for the money. Best for one handed issue. Very less overheating than other mobiles in market. Go for 128 gb or 256. This iphone can live upto next 3-4 years for sure. Enjoy Apple👌🏾', \"This is my first I phone and I'm very happy to have it but it's battery life is not good as Android have that's all. All over phone is Awesome\", 'Excellent service by Flipkart. The phone is true value for money, the camera is great especially the low light night photography.\\nThe processor is fast making gaming a lot of fun.\\nI read a lot of negative reviews about the display but I was using a OnePlus before and somehow the iphone 11 display is more easy on the eyes and the adaptive brightness is more effective than any of the other phones that I have used.\\nCharging is a bit slow owing to the smaller charger included in the box inste...\\nREAD MORE', 'It’s a quiet good for new users. And I’m happy with it. Thanks apple and Flipkart too. 😊♥️', 'I have my first iPhone\\nI love it\\nusing 15 day very good performance\\n\\nMobile- 5/4\\nCharging- 5/5\\nCamera- 5/5\\nBattery backup -5/5\\nDisplay- 5/4\\nCourier facility- 5/0 Very bad\\nCourier facility is poor. I have not happy in courier facility..', 'The only thing i didnt like about the phone is its display as its only an non full hd display means its not 1080p one and not an amoled one of course but still better than all the lcds out there in the market but at this price point android alternatives provide 144hz samoled like the rog phone 5, Aside from that the performance is top notch as you would expect from an Iphone and will last you for many years unlike androids who stop getting updates in less than 2 years', 'Nice camera for front and back.. The display is not as good because it makes sound when we tap on it! But overall it’s a good phone.', 'Don’t expect much from front camera… especially who loves beauty mode and filters.. back cameras are good…video department is always plus point in iPhones… battery capacity is really surprising lasts for one day at least… performance always good and smooth… speaker’s quality is good…built quality best and haptic feedback is enjoyable…\\nNote : images are good after you edit', 'Best iphone ever.. best value for money phone.. easy to hold and face unlock is very fast and works even in dark.. looks very cool.. delivered in one day.. best flipkart experience and get also the original product. Red one is the .best color and most selling color so I love red one.', \"Genuine review after few weeks.\\nDecent camera quality.\\nDon't expect to meet the quality and features of the upcoming brands with cheaper prices and better megapixels. Overall smooth experience and everything seems so good. If you have used iOS before, you know the ease of using it.\\nLooks so secure and fast.\\nDefinately it beats my 6GB phones in performance.\\nIf you play games don't bother about RAM, the processor kills it.\\nOverall a good choice to switch from Android to iOS.\\nDon't expect that V...\\nREAD MORE\", 'I really liked the budget iPhone. First I thought display would be issue as it is a LCD with less pixels, then after using my perception changed and I never felt like I am using an outdated display. Though I also use S 10+ with Amoled display.\\n\\nSo this is perfect iPhone and a real value for money.', 'Awesome mobile… Battery Backup is really impressive, getting a solid battery life of 1.5 days with a normal usage. Even if u are a heavy user, u will get a day of backup for sure. Excellent audio quality. Overall I’m very much satisfied with the device :)', 'I have been using iphone 11 model since its launch. Here is my review\\nPros:\\nPerformance\\nPrivacy\\nOS Updates\\nBuild quality\\nSound\\n\\nCons:\\nDisplay issue: After using for nearly a year a small line popped up at left notch and slowly it spread to right notch. Well it could an exceptional case\\n\\nAt this price range \\uf8ff could have given OLED screen.\\n\\nPrice: I strongly believe this product has been overpriced.\\nSignal Issue: I see this issue across the \\uf8ff devices.\\nCharging: I takes around 4hrs for 100% wit...\\nREAD MORE', 'Not mere a phone , Its more than that for fun and enjoy life. Just grab it. Best luck', 'Received product before the delivery date performance is very good value for money no problem till now camera is also good but the screen is lcd which is not good and irritate some time so you have to compromise the screen Flipkart services is good and nice', 'Very good phone. All the apps are running smoothly. Sleek and sturdy design. No more words for apple as it has its own class.', \"Awesome Product. Initially I was looking for green color but wasn't available and then I went for white one and believe me it's really awesome color.\", 'Finally switched to iOS from android\\nThere is some things which u can’t do like using android but it’s worth to iOS. Battery backup is good holds for a day in average. Cam quality is okay. Good night mode visibility.', 'Very good smartphone and value for smoother and speedy response and work', 'This is very nice phone with great camera, performance, battery but their display is not good as their price overall best iphone to purchase right now', 'Got delivered by good packing from Flipkart with a agreed time line. Apple always stood good and great products towards their customers and this is my 2nd Iphone overall experience with phone is great, Especially when it comes battery gives long-standing performance for applications and gaming purposes, Camera is one of the great features includes in this mobile\\n\\nI will strongly suggest this !', 'Iphone is best ever but Flipkart delivered is quality on the product is so promising i really satisfied and trust with it by Flipkart assured\\nTq..🥰', 'Quite osm more then expected . Purple color truly recommended its lookin so beautiful then others .Someone suggest me and have selected the same color its beautiful.\\n\\n\\nPerformance is far better then my last i phone', 'My first iPhone. Still wondering where was I lost all this while. Always thought that an iPhone is just to pricey and not worth its cost. Trust me, I didn’t regret once for this mighty purchase. It is a different ecosystem all together and I have become an Apple fan instantly. Now all my gadgets ought to be Apple. Just seamless, timeless, super smooth, flamboyant, style statement, and the list is endless. The back camera is worth the hype not the selfie camera. Sound quality is surround sound...\\nREAD MORE', 'PROS:\\n1. Ballistic performance\\n2. Amazing image quality from the camera setup\\n3. Superb battery performance,\\n4. Design\\n5. Fit and finish.\\n6. iOS 13 integration with the hardware.\\nCONS:\\n1. Display quality leaves a lot to be desired. The non-1080p display is hardly noticeable during regular usage and is more than a pass. But if you are someone who use their phone for a majority of video playback, you’re in for a disappointment. Otherwise, it’s perfect for every other need.\\n2. The overall s...\\nREAD MORE', 'iPhone 11 is good but if someone want Superior phone then go for 11 pro because screen display is too good from iPhone 11 and as well as camera quality', 'Everything good as expected from Apple, but only thing thing missing is the 18w power adapter, because if the phone is compatible for fast charging and it takes more than 3 hours for full charge on a normal charger then it should come bundled with the 18w adapter.', 'Great product as usual. Handy phone with best processor and camera quality in the market. Recommended 128GB storage 👍', 'excellent mobile phone with amazing feautures. 100% value for money.The greatest attribute was its battery(all day long usage). dont hesitate to buy. Only difference between 11pro and 11 is display and its telescope lens remaining all are same', 'Terrific!!! Lucky to get this phone in first lot. First switch over for me from android. awesome camera.. One of the best in class.. go for iphone 11 if you are the first time user.', 'Iphone 11 black 64gb is really a cool phone\\n\\n1. Camera is superb using it long time heats the phone a bit\\n2. iOS 13 is elegant and nice\\n3. Video yet to test\\n4. Charger : Phone has the capability to fast charge but charger is not capable of doing it which frustrates being a top brand and providing and charger like this is worst from Apple\\n5. Sound quality especially in headphones is wonderful', 'This is phone is super duper sexy.\\nYou will get in love with this phone the moment you will unbox it.\\nPerformance is awesome.\\nSo smooth, easy to handle.\\nSometimes, if working continuously, you will feel that the phone is heavy otherwise you won’t if worked for shorter period of time.\\nI would personally suggest you to go for 128GB version because it will be a true value for money.\\nTalking about colour, I find white colour as a royal one.', \"no complaint against the display it's very crisp , though it is not the OLED but if you put side by side and compare with iPhone xs you hardly notice any difference , i noticed the brightness because 11 has 600 nits compare to 1200 nits on xs . other wise you never feel that its a 720 p display. very very good quality LCD screen you can't compare with any other LCD screen it's far better than any other LCD screen available in market. battery is very impressive , and Love the sound of stereo s...\\nREAD MORE\", 'Wow!! What a beauty.. i was a hardcore fan of android and i always felt iphone is overrated. Features are far inferior to android and costs 4 times. I am a heavy user and for me battery life is one of the more important feature and everyone knows apple lacked in it. This is my 1st iphone and I am loving the change. RAM concept was totally misunderstood.. it is the most fluidic set I ever used. In hand feel is premium. Display is good but I loved the one plus more in this. Battery life is a sh...\\nREAD MORE', 'Features and design is good bt not satisfied with display i lyk apple bcz of their display quality bt in dis ph they give same diplay like other brands give us i hv 6s too frankly speaking both 6s and 11 have lcd display bt lots of diff between them\\nApple previous lcd display was awsm bt nw jst making money like other brands vary disappointing it feels like m playing ios in samsung screen', 'So good look comfortable iPhone 11 I am so very happy my life first time iPhone used camera is 👌 sound quality is clear sounds', \"If I consider it just as a smartphone, it's pretty expensive. Have to admit that I payed a lot of money just for the brand. I understand people use apple products for years and if we consider the time span the phone is also worth for the money. But, there are also phones available under 10k and runs for years. Yes, it is true.\\nBuy, this phone only if you want to show others how much you earn, otherwise it's nothing but just a smartphone like others are.\", 'The phone is awesome undoubtedly and worth the purchase .\\n\\nI had preordered it from Flipkart, but this time I am little disappointed with the packaging from Flipkart . I had preordered iPhone 7 Plus too but that time the packaging was excellent but didn’t get the same experience this time .... hence rating it a little low. Flipkart should have packed it better as it’s worth is much more .... Expecting betterment next time ...', 'Best phone in this price segment people say that it is a IPS display but don’t judge a book with the specs sheet only I have not seen any LCD Display like this in any smartphone industry leading IPS display . Everything is awesome in this phone but sometime but apple should have been giving OLED in this price segment', 'brilliant design I personally liked red colour\\nprocessing speed\\ncamera\\nbattery\\ndisplay\\neverything is gorgeous in iphone 11\\nthis is super smooth', 'Switched from Android to Iphone. great experience till now. Night photography feature is Awesome. Scope of improvement in front camera. Fantastic & seamless gaming experience.', 'Just love it... I rated battery 1 star because, when I turned it on it was only 3% 🥺🥺😭. Now I need to wait until the charger comes. But ye, overall I just love this phone♥️♥️♥️♥️♥️♥️♥️♥️♥️♥️♥️♥️♥️♥️ My first ever iPhone😄 My daddy gifted me as a birthday gift, so it will be my mark to return something special more than this♥️ I only want to thank is to my dad.... Thank you Apple for your wonderful product😘🍎❤️😇', \"iPhone 11 is not better than Samsung s20 at the same price\\nIf you need to buy a phone under 65000/ pls go for Samsung S20, this is better choice for you. I'm not satisfied\", 'Reviewing after 10 days\\nCamera:- In this price segment best camera phone for Video as well as photo. This mobile not for the selfie lover due lack of beautification option.\\nDisplay :- LCD display not justify its price. Quality not upto the mark. Light yellowish tint observed on display even after colour correction.\\nBattery :- Battery back up good, It last full day.\\nProfessor :- No doubt about Iphone processor. It is best A13 bionic chip better than SD 865.\\nOS:- Little bit difficult to unders...\\nREAD MORE', 'The best phone I have ever owned!\\n\\nCamera: Rear camera is one of the best in the industry. The front camera is7/10. My Poco f1 with Google Camera mod took better selfies.\\n\\nPerformance: If you are moving from an android device, the performance is unreal. The sync between hardware and software is unreal! There is virtually no lag at all. All games run on it smooth AF! Bluetooth, WiFi performance is superb as well.\\n\\nBattery Life: Getting close to 7-7.5 of screen on time. Very good in comparison...\\nREAD MORE', \"Excellent phone. Got it for 29k after exchange and bank offer. Totally value for money at that price. Loved the product red colour.\\niOS is smooth and no lags at all. Shifted from android though I have used iOS earlier and totally loving iOS.\\nGot an original sealed box piece so go ahead and order without worrying. Also received the iOS 14.5.1 after turning on the phone immediately.\\nFor people who are worried that there is no 5G in this phone don't hesitate to buy it. 5G is going to take tim...\\nREAD MORE\", 'It is a very good phone but price is very high. May be in case of exchange we may get more. But need to bare this much amount initially.\\n\\nRegarding phone, it is okay. Not upto the mark. We can get good android phones under this price. And really painful to buy charger and earphones, this is really con in iphones. Some bluetooth earphones won’t be supported fully like same Bluetooth earphones working fine with android and working with IOS but less sounds compare to android.\\n\\nPros:\\nPhone look...\\nREAD MORE', 'Amazing delivery. Got my phone a day before expected delivery date. The phone was in an excellent condition and the delivery guy was also very humble. Love my new phone. Switched from android to ios and im already loving it!', \"It is iPhone. There isn't much I could say about the phone that isn't out there already.\\nIf you get a good deal including discount or offer on any card, just go for it.\\nOnly one major drawback, it comes with 5V basic charging which is a big let down.\\n\\nFrom Flipkart POV, the delivery was on time, the product was in proper condition so there is no reason for anything less than 5 star.\", 'Good phone over all but if you want to buy it from pubg then you have to compromise with battery it charge very slow too but pubg performance is top notch l. I am impressed with tha performance i was using oneplus 7 pro but performance was not good as this iphone 11 has its very nice and smooth', 'The only issue is the unavailability of fast charging adapter in the box. It really takes a hell lotta time to get 100%.\\nApart from that.. it really is a premium smart phone.\\nOne can easily fall in love with the fast and efficient performance.', 'Loved everything about it - the camera, the display, the overall built of the phone. But just not sure if this phone or any phone for that matter is worth this crazy price. Nonetheless a good phone that I intend on using for atleast 4-5 years. I would pick RED or YELLOW.', 'Upgraded from iPhone SE. The device is bulky. The design is not ergonomic . However , the performance , display, camera are really good. If you are a frequent mobile user then this is not the right device as it is tough to type in one hand.', 'It’s being awesome to buy an apple product simply awesome first time use so don’t know that much about device still apple clearly wins from android.🤓', 'Most powerful phone you can buy in 2019, Best Camera, Great Battery life, Decent Display, close your eyes and buy this ultimate phone, you’ll never regret it’s a complete package.', 'It is a very good phone but price is very high. May be in case of exchange we may get more. But need to bare this much amount initially.\\n\\nRegarding phone, it is okay. Not upto the mark. We can get good android phones under this price. And really painful to buy charger and earphones, this is really con in iphones. Some bluetooth earphones won’t be supported fully like same Bluetooth earphones working fine with android and working with IOS but less sounds compare to android.\\n\\nPros:\\nPhone look...\\nREAD MORE', 'Amazing delivery. Got my phone a day before expected delivery date. The phone was in an excellent condition and the delivery guy was also very humble. Love my new phone. Switched from android to ios and im already loving it!', \"It is iPhone. There isn't much I could say about the phone that isn't out there already.\\nIf you get a good deal including discount or offer on any card, just go for it.\\nOnly one major drawback, it comes with 5V basic charging which is a big let down.\\n\\nFrom Flipkart POV, the delivery was on time, the product was in proper condition so there is no reason for anything less than 5 star.\", 'Good phone over all but if you want to buy it from pubg then you have to compromise with battery it charge very slow too but pubg performance is top notch l. I am impressed with tha performance i was using oneplus 7 pro but performance was not good as this iphone 11 has its very nice and smooth', 'The only issue is the unavailability of fast charging adapter in the box. It really takes a hell lotta time to get 100%.\\nApart from that.. it really is a premium smart phone.\\nOne can easily fall in love with the fast and efficient performance.', 'Loved everything about it - the camera, the display, the overall built of the phone. But just not sure if this phone or any phone for that matter is worth this crazy price. Nonetheless a good phone that I intend on using for atleast 4-5 years. I would pick RED or YELLOW.', 'Upgraded from iPhone SE. The device is bulky. The design is not ergonomic . However , the performance , display, camera are really good. If you are a frequent mobile user then this is not the right device as it is tough to type in one hand.', 'It’s being awesome to buy an apple product simply awesome first time use so don’t know that much about device still apple clearly wins from android.🤓', 'Most powerful phone you can buy in 2019, Best Camera, Great Battery life, Decent Display, close your eyes and buy this ultimate phone, you’ll never regret it’s a complete package.', 'It is a very good phone but price is very high. May be in case of exchange we may get more. But need to bare this much amount initially.\\n\\nRegarding phone, it is okay. Not upto the mark. We can get good android phones under this price. And really painful to buy charger and earphones, this is really con in iphones. Some bluetooth earphones won’t be supported fully like same Bluetooth earphones working fine with android and working with IOS but less sounds compare to android.\\n\\nPros:\\nPhone look...\\nREAD MORE', 'Amazing delivery. Got my phone a day before expected delivery date. The phone was in an excellent condition and the delivery guy was also very humble. Love my new phone. Switched from android to ios and im already loving it!', \"It is iPhone. There isn't much I could say about the phone that isn't out there already.\\nIf you get a good deal including discount or offer on any card, just go for it.\\nOnly one major drawback, it comes with 5V basic charging which is a big let down.\\n\\nFrom Flipkart POV, the delivery was on time, the product was in proper condition so there is no reason for anything less than 5 star.\", 'Good phone over all but if you want to buy it from pubg then you have to compromise with battery it charge very slow too but pubg performance is top notch l. I am impressed with tha performance i was using oneplus 7 pro but performance was not good as this iphone 11 has its very nice and smooth', 'The only issue is the unavailability of fast charging adapter in the box. It really takes a hell lotta time to get 100%.\\nApart from that.. it really is a premium smart phone.\\nOne can easily fall in love with the fast and efficient performance.', 'Loved everything about it - the camera, the display, the overall built of the phone. But just not sure if this phone or any phone for that matter is worth this crazy price. Nonetheless a good phone that I intend on using for atleast 4-5 years. I would pick RED or YELLOW.', 'Upgraded from iPhone SE. The device is bulky. The design is not ergonomic . However , the performance , display, camera are really good. If you are a frequent mobile user then this is not the right device as it is tough to type in one hand.', 'It’s being awesome to buy an apple product simply awesome first time use so don’t know that much about device still apple clearly wins from android.🤓', 'Most powerful phone you can buy in 2019, Best Camera, Great Battery life, Decent Display, close your eyes and buy this ultimate phone, you’ll never regret it’s a complete package.', 'It is a very good phone but price is very high. May be in case of exchange we may get more. But need to bare this much amount initially.\\n\\nRegarding phone, it is okay. Not upto the mark. We can get good android phones under this price. And really painful to buy charger and earphones, this is really con in iphones. Some bluetooth earphones won’t be supported fully like same Bluetooth earphones working fine with android and working with IOS but less sounds compare to android.\\n\\nPros:\\nPhone look...\\nREAD MORE', 'Amazing delivery. Got my phone a day before expected delivery date. The phone was in an excellent condition and the delivery guy was also very humble. Love my new phone. Switched from android to ios and im already loving it!', \"It is iPhone. There isn't much I could say about the phone that isn't out there already.\\nIf you get a good deal including discount or offer on any card, just go for it.\\nOnly one major drawback, it comes with 5V basic charging which is a big let down.\\n\\nFrom Flipkart POV, the delivery was on time, the product was in proper condition so there is no reason for anything less than 5 star.\", 'Good phone over all but if you want to buy it from pubg then you have to compromise with battery it charge very slow too but pubg performance is top notch l. I am impressed with tha performance i was using oneplus 7 pro but performance was not good as this iphone 11 has its very nice and smooth', 'The only issue is the unavailability of fast charging adapter in the box. It really takes a hell lotta time to get 100%.\\nApart from that.. it really is a premium smart phone.\\nOne can easily fall in love with the fast and efficient performance.', 'Loved everything about it - the camera, the display, the overall built of the phone. But just not sure if this phone or any phone for that matter is worth this crazy price. Nonetheless a good phone that I intend on using for atleast 4-5 years. I would pick RED or YELLOW.', 'Upgraded from iPhone SE. The device is bulky. The design is not ergonomic . However , the performance , display, camera are really good. If you are a frequent mobile user then this is not the right device as it is tough to type in one hand.', 'It’s being awesome to buy an apple product simply awesome first time use so don’t know that much about device still apple clearly wins from android.🤓', 'Most powerful phone you can buy in 2019, Best Camera, Great Battery life, Decent Display, close your eyes and buy this ultimate phone, you’ll never regret it’s a complete package.', 'It is a very good phone but price is very high. May be in case of exchange we may get more. But need to bare this much amount initially.\\n\\nRegarding phone, it is okay. Not upto the mark. We can get good android phones under this price. And really painful to buy charger and earphones, this is really con in iphones. Some bluetooth earphones won’t be supported fully like same Bluetooth earphones working fine with android and working with IOS but less sounds compare to android.\\n\\nPros:\\nPhone look...\\nREAD MORE', 'Amazing delivery. Got my phone a day before expected delivery date. The phone was in an excellent condition and the delivery guy was also very humble. Love my new phone. Switched from android to ios and im already loving it!', \"It is iPhone. There isn't much I could say about the phone that isn't out there already.\\nIf you get a good deal including discount or offer on any card, just go for it.\\nOnly one major drawback, it comes with 5V basic charging which is a big let down.\\n\\nFrom Flipkart POV, the delivery was on time, the product was in proper condition so there is no reason for anything less than 5 star.\", 'Good phone over all but if you want to buy it from pubg then you have to compromise with battery it charge very slow too but pubg performance is top notch l. I am impressed with tha performance i was using oneplus 7 pro but performance was not good as this iphone 11 has its very nice and smooth', 'The only issue is the unavailability of fast charging adapter in the box. It really takes a hell lotta time to get 100%.\\nApart from that.. it really is a premium smart phone.\\nOne can easily fall in love with the fast and efficient performance.', 'Loved everything about it - the camera, the display, the overall built of the phone. But just not sure if this phone or any phone for that matter is worth this crazy price. Nonetheless a good phone that I intend on using for atleast 4-5 years. I would pick RED or YELLOW.', 'Upgraded from iPhone SE. The device is bulky. The design is not ergonomic . However , the performance , display, camera are really good. If you are a frequent mobile user then this is not the right device as it is tough to type in one hand.', 'It’s being awesome to buy an apple product simply awesome first time use so don’t know that much about device still apple clearly wins from android.🤓', 'Most powerful phone you can buy in 2019, Best Camera, Great Battery life, Decent Display, close your eyes and buy this ultimate phone, you’ll never regret it’s a complete package.', 'It is a very good phone but price is very high. May be in case of exchange we may get more. But need to bare this much amount initially.\\n\\nRegarding phone, it is okay. Not upto the mark. We can get good android phones under this price. And really painful to buy charger and earphones, this is really con in iphones. Some bluetooth earphones won’t be supported fully like same Bluetooth earphones working fine with android and working with IOS but less sounds compare to android.\\n\\nPros:\\nPhone look...\\nREAD MORE', 'Amazing delivery. Got my phone a day before expected delivery date. The phone was in an excellent condition and the delivery guy was also very humble. Love my new phone. Switched from android to ios and im already loving it!', \"It is iPhone. There isn't much I could say about the phone that isn't out there already.\\nIf you get a good deal including discount or offer on any card, just go for it.\\nOnly one major drawback, it comes with 5V basic charging which is a big let down.\\n\\nFrom Flipkart POV, the delivery was on time, the product was in proper condition so there is no reason for anything less than 5 star.\", 'Good phone over all but if you want to buy it from pubg then you have to compromise with battery it charge very slow too but pubg performance is top notch l. I am impressed with tha performance i was using oneplus 7 pro but performance was not good as this iphone 11 has its very nice and smooth', 'The only issue is the unavailability of fast charging adapter in the box. It really takes a hell lotta time to get 100%.\\nApart from that.. it really is a premium smart phone.\\nOne can easily fall in love with the fast and efficient performance.', 'Loved everything about it - the camera, the display, the overall built of the phone. But just not sure if this phone or any phone for that matter is worth this crazy price. Nonetheless a good phone that I intend on using for atleast 4-5 years. I would pick RED or YELLOW.', 'Upgraded from iPhone SE. The device is bulky. The design is not ergonomic . However , the performance , display, camera are really good. If you are a frequent mobile user then this is not the right device as it is tough to type in one hand.', 'It’s being awesome to buy an apple product simply awesome first time use so don’t know that much about device still apple clearly wins from android.🤓', 'Most powerful phone you can buy in 2019, Best Camera, Great Battery life, Decent Display, close your eyes and buy this ultimate phone, you’ll never regret it’s a complete package.', 'It is a very good phone but price is very high. May be in case of exchange we may get more. But need to bare this much amount initially.\\n\\nRegarding phone, it is okay. Not upto the mark. We can get good android phones under this price. And really painful to buy charger and earphones, this is really con in iphones. Some bluetooth earphones won’t be supported fully like same Bluetooth earphones working fine with android and working with IOS but less sounds compare to android.\\n\\nPros:\\nPhone look...\\nREAD MORE', 'Amazing delivery. Got my phone a day before expected delivery date. The phone was in an excellent condition and the delivery guy was also very humble. Love my new phone. Switched from android to ios and im already loving it!', \"It is iPhone. There isn't much I could say about the phone that isn't out there already.\\nIf you get a good deal including discount or offer on any card, just go for it.\\nOnly one major drawback, it comes with 5V basic charging which is a big let down.\\n\\nFrom Flipkart POV, the delivery was on time, the product was in proper condition so there is no reason for anything less than 5 star.\", 'Good phone over all but if you want to buy it from pubg then you have to compromise with battery it charge very slow too but pubg performance is top notch l. I am impressed with tha performance i was using oneplus 7 pro but performance was not good as this iphone 11 has its very nice and smooth', 'The only issue is the unavailability of fast charging adapter in the box. It really takes a hell lotta time to get 100%.\\nApart from that.. it really is a premium smart phone.\\nOne can easily fall in love with the fast and efficient performance.', 'Loved everything about it - the camera, the display, the overall built of the phone. But just not sure if this phone or any phone for that matter is worth this crazy price. Nonetheless a good phone that I intend on using for atleast 4-5 years. I would pick RED or YELLOW.', 'Upgraded from iPhone SE. The device is bulky. The design is not ergonomic . However , the performance , display, camera are really good. If you are a frequent mobile user then this is not the right device as it is tough to type in one hand.', 'It’s being awesome to buy an apple product simply awesome first time use so don’t know that much about device still apple clearly wins from android.🤓', 'Most powerful phone you can buy in 2019, Best Camera, Great Battery life, Decent Display, close your eyes and buy this ultimate phone, you’ll never regret it’s a complete package.', 'It is a very good phone but price is very high. May be in case of exchange we may get more. But need to bare this much amount initially.\\n\\nRegarding phone, it is okay. Not upto the mark. We can get good android phones under this price. And really painful to buy charger and earphones, this is really con in iphones. Some bluetooth earphones won’t be supported fully like same Bluetooth earphones working fine with android and working with IOS but less sounds compare to android.\\n\\nPros:\\nPhone look...\\nREAD MORE', 'Amazing delivery. Got my phone a day before expected delivery date. The phone was in an excellent condition and the delivery guy was also very humble. Love my new phone. Switched from android to ios and im already loving it!', \"It is iPhone. There isn't much I could say about the phone that isn't out there already.\\nIf you get a good deal including discount or offer on any card, just go for it.\\nOnly one major drawback, it comes with 5V basic charging which is a big let down.\\n\\nFrom Flipkart POV, the delivery was on time, the product was in proper condition so there is no reason for anything less than 5 star.\", 'Good phone over all but if you want to buy it from pubg then you have to compromise with battery it charge very slow too but pubg performance is top notch l. I am impressed with tha performance i was using oneplus 7 pro but performance was not good as this iphone 11 has its very nice and smooth', 'The only issue is the unavailability of fast charging adapter in the box. It really takes a hell lotta time to get 100%.\\nApart from that.. it really is a premium smart phone.\\nOne can easily fall in love with the fast and efficient performance.', 'Loved everything about it - the camera, the display, the overall built of the phone. But just not sure if this phone or any phone for that matter is worth this crazy price. Nonetheless a good phone that I intend on using for atleast 4-5 years. I would pick RED or YELLOW.', 'Upgraded from iPhone SE. The device is bulky. The design is not ergonomic . However , the performance , display, camera are really good. If you are a frequent mobile user then this is not the right device as it is tough to type in one hand.', 'It’s being awesome to buy an apple product simply awesome first time use so don’t know that much about device still apple clearly wins from android.🤓', 'Most powerful phone you can buy in 2019, Best Camera, Great Battery life, Decent Display, close your eyes and buy this ultimate phone, you’ll never regret it’s a complete package.', 'It is a very good phone but price is very high. May be in case of exchange we may get more. But need to bare this much amount initially.\\n\\nRegarding phone, it is okay. Not upto the mark. We can get good android phones under this price. And really painful to buy charger and earphones, this is really con in iphones. Some bluetooth earphones won’t be supported fully like same Bluetooth earphones working fine with android and working with IOS but less sounds compare to android.\\n\\nPros:\\nPhone look...\\nREAD MORE', 'Amazing delivery. Got my phone a day before expected delivery date. The phone was in an excellent condition and the delivery guy was also very humble. Love my new phone. Switched from android to ios and im already loving it!', \"It is iPhone. There isn't much I could say about the phone that isn't out there already.\\nIf you get a good deal including discount or offer on any card, just go for it.\\nOnly one major drawback, it comes with 5V basic charging which is a big let down.\\n\\nFrom Flipkart POV, the delivery was on time, the product was in proper condition so there is no reason for anything less than 5 star.\", 'Good phone over all but if you want to buy it from pubg then you have to compromise with battery it charge very slow too but pubg performance is top notch l. I am impressed with tha performance i was using oneplus 7 pro but performance was not good as this iphone 11 has its very nice and smooth', 'The only issue is the unavailability of fast charging adapter in the box. It really takes a hell lotta time to get 100%.\\nApart from that.. it really is a premium smart phone.\\nOne can easily fall in love with the fast and efficient performance.', 'Loved everything about it - the camera, the display, the overall built of the phone. But just not sure if this phone or any phone for that matter is worth this crazy price. Nonetheless a good phone that I intend on using for atleast 4-5 years. I would pick RED or YELLOW.', 'Upgraded from iPhone SE. The device is bulky. The design is not ergonomic . However , the performance , display, camera are really good. If you are a frequent mobile user then this is not the right device as it is tough to type in one hand.', 'It’s being awesome to buy an apple product simply awesome first time use so don’t know that much about device still apple clearly wins from android.🤓', 'Most powerful phone you can buy in 2019, Best Camera, Great Battery life, Decent Display, close your eyes and buy this ultimate phone, you’ll never regret it’s a complete package.', 'It is a very good phone but price is very high. May be in case of exchange we may get more. But need to bare this much amount initially.\\n\\nRegarding phone, it is okay. Not upto the mark. We can get good android phones under this price. And really painful to buy charger and earphones, this is really con in iphones. Some bluetooth earphones won’t be supported fully like same Bluetooth earphones working fine with android and working with IOS but less sounds compare to android.\\n\\nPros:\\nPhone look...\\nREAD MORE', 'Amazing delivery. Got my phone a day before expected delivery date. The phone was in an excellent condition and the delivery guy was also very humble. Love my new phone. Switched from android to ios and im already loving it!', \"It is iPhone. There isn't much I could say about the phone that isn't out there already.\\nIf you get a good deal including discount or offer on any card, just go for it.\\nOnly one major drawback, it comes with 5V basic charging which is a big let down.\\n\\nFrom Flipkart POV, the delivery was on time, the product was in proper condition so there is no reason for anything less than 5 star.\", 'Good phone over all but if you want to buy it from pubg then you have to compromise with battery it charge very slow too but pubg performance is top notch l. I am impressed with tha performance i was using oneplus 7 pro but performance was not good as this iphone 11 has its very nice and smooth', 'The only issue is the unavailability of fast charging adapter in the box. It really takes a hell lotta time to get 100%.\\nApart from that.. it really is a premium smart phone.\\nOne can easily fall in love with the fast and efficient performance.', 'Loved everything about it - the camera, the display, the overall built of the phone. But just not sure if this phone or any phone for that matter is worth this crazy price. Nonetheless a good phone that I intend on using for atleast 4-5 years. I would pick RED or YELLOW.', 'Upgraded from iPhone SE. The device is bulky. The design is not ergonomic . However , the performance , display, camera are really good. If you are a frequent mobile user then this is not the right device as it is tough to type in one hand.', 'It’s being awesome to buy an apple product simply awesome first time use so don’t know that much about device still apple clearly wins from android.🤓', 'Most powerful phone you can buy in 2019, Best Camera, Great Battery life, Decent Display, close your eyes and buy this ultimate phone, you’ll never regret it’s a complete package.']\n"
     ]
    }
   ],
   "source": [
    "print(Full_review)"
   ]
  },
  {
   "cell_type": "code",
   "execution_count": 75,
   "metadata": {},
   "outputs": [
    {
     "data": {
      "text/plain": [
       "169"
      ]
     },
     "execution_count": 75,
     "metadata": {},
     "output_type": "execute_result"
    }
   ],
   "source": [
    "len(Rating7)    "
   ]
  },
  {
   "cell_type": "code",
   "execution_count": 76,
   "metadata": {},
   "outputs": [
    {
     "data": {
      "text/plain": [
       "170"
      ]
     },
     "execution_count": 76,
     "metadata": {},
     "output_type": "execute_result"
    }
   ],
   "source": [
    "len(Review_summary)"
   ]
  },
  {
   "cell_type": "code",
   "execution_count": 77,
   "metadata": {},
   "outputs": [
    {
     "data": {
      "text/plain": [
       "170"
      ]
     },
     "execution_count": 77,
     "metadata": {},
     "output_type": "execute_result"
    }
   ],
   "source": [
    "len(Full_review)"
   ]
  },
  {
   "cell_type": "code",
   "execution_count": 78,
   "metadata": {},
   "outputs": [
    {
     "data": {
      "text/html": [
       "<div>\n",
       "<style scoped>\n",
       "    .dataframe tbody tr th:only-of-type {\n",
       "        vertical-align: middle;\n",
       "    }\n",
       "\n",
       "    .dataframe tbody tr th {\n",
       "        vertical-align: top;\n",
       "    }\n",
       "\n",
       "    .dataframe thead th {\n",
       "        text-align: right;\n",
       "    }\n",
       "</style>\n",
       "<table border=\"1\" class=\"dataframe\">\n",
       "  <thead>\n",
       "    <tr style=\"text-align: right;\">\n",
       "      <th></th>\n",
       "      <th>Ratings</th>\n",
       "      <th>Short Review</th>\n",
       "      <th>Full review</th>\n",
       "    </tr>\n",
       "  </thead>\n",
       "  <tbody>\n",
       "    <tr>\n",
       "      <th>0</th>\n",
       "      <td>5</td>\n",
       "      <td>Excellent</td>\n",
       "      <td>Value for money product. This iphone 11 is rea...</td>\n",
       "    </tr>\n",
       "    <tr>\n",
       "      <th>1</th>\n",
       "      <td>5</td>\n",
       "      <td>Classy product</td>\n",
       "      <td>I got this phone for good price hence 5 star f...</td>\n",
       "    </tr>\n",
       "    <tr>\n",
       "      <th>2</th>\n",
       "      <td>5</td>\n",
       "      <td>Must buy!</td>\n",
       "      <td>Camera is excellent just lack of telephoto mod...</td>\n",
       "    </tr>\n",
       "    <tr>\n",
       "      <th>3</th>\n",
       "      <td>4</td>\n",
       "      <td>Wonderful</td>\n",
       "      <td>I genuinely liked it. One of the best mobile p...</td>\n",
       "    </tr>\n",
       "    <tr>\n",
       "      <th>4</th>\n",
       "      <td>5</td>\n",
       "      <td>Mind-blowing purchase</td>\n",
       "      <td>Flipkart honoured on time delivery, I have use...</td>\n",
       "    </tr>\n",
       "    <tr>\n",
       "      <th>...</th>\n",
       "      <td>...</td>\n",
       "      <td>...</td>\n",
       "      <td>...</td>\n",
       "    </tr>\n",
       "    <tr>\n",
       "      <th>95</th>\n",
       "      <td>5</td>\n",
       "      <td>Mind-blowing purchase</td>\n",
       "      <td>Upgraded from iPhone SE. The device is bulky. ...</td>\n",
       "    </tr>\n",
       "    <tr>\n",
       "      <th>96</th>\n",
       "      <td>5</td>\n",
       "      <td>Terrific purchase</td>\n",
       "      <td>It’s being awesome to buy an apple product sim...</td>\n",
       "    </tr>\n",
       "    <tr>\n",
       "      <th>97</th>\n",
       "      <td>4</td>\n",
       "      <td>Excellent</td>\n",
       "      <td>Most powerful phone you can buy in 2019, Best ...</td>\n",
       "    </tr>\n",
       "    <tr>\n",
       "      <th>98</th>\n",
       "      <td>5</td>\n",
       "      <td>Good quality product</td>\n",
       "      <td>It is a very good phone but price is very high...</td>\n",
       "    </tr>\n",
       "    <tr>\n",
       "      <th>99</th>\n",
       "      <td>5</td>\n",
       "      <td>Classy product</td>\n",
       "      <td>Amazing delivery. Got my phone a day before ex...</td>\n",
       "    </tr>\n",
       "  </tbody>\n",
       "</table>\n",
       "<p>100 rows × 3 columns</p>\n",
       "</div>"
      ],
      "text/plain": [
       "   Ratings           Short Review  \\\n",
       "0        5              Excellent   \n",
       "1        5         Classy product   \n",
       "2        5              Must buy!   \n",
       "3        4              Wonderful   \n",
       "4        5  Mind-blowing purchase   \n",
       "..     ...                    ...   \n",
       "95       5  Mind-blowing purchase   \n",
       "96       5      Terrific purchase   \n",
       "97       4              Excellent   \n",
       "98       5   Good quality product   \n",
       "99       5         Classy product   \n",
       "\n",
       "                                          Full review  \n",
       "0   Value for money product. This iphone 11 is rea...  \n",
       "1   I got this phone for good price hence 5 star f...  \n",
       "2   Camera is excellent just lack of telephoto mod...  \n",
       "3   I genuinely liked it. One of the best mobile p...  \n",
       "4   Flipkart honoured on time delivery, I have use...  \n",
       "..                                                ...  \n",
       "95  Upgraded from iPhone SE. The device is bulky. ...  \n",
       "96  It’s being awesome to buy an apple product sim...  \n",
       "97  Most powerful phone you can buy in 2019, Best ...  \n",
       "98  It is a very good phone but price is very high...  \n",
       "99  Amazing delivery. Got my phone a day before ex...  \n",
       "\n",
       "[100 rows x 3 columns]"
      ]
     },
     "execution_count": 78,
     "metadata": {},
     "output_type": "execute_result"
    }
   ],
   "source": [
    "df_reviews = pd.DataFrame({})\n",
    "df_reviews[\"Ratings\"] = Rating7[:100]\n",
    "df_reviews[\"Short Review\"] = Review_summary[:100]\n",
    "df_reviews[\"Full review\"] = Full_review[:100]\n",
    "df_reviews\n"
   ]
  },
  {
   "cell_type": "code",
   "execution_count": null,
   "metadata": {},
   "outputs": [],
   "source": []
  },
  {
   "cell_type": "code",
   "execution_count": null,
   "metadata": {},
   "outputs": [],
   "source": []
  },
  {
   "cell_type": "code",
   "execution_count": null,
   "metadata": {},
   "outputs": [],
   "source": []
  },
  {
   "cell_type": "markdown",
   "metadata": {},
   "source": [
    "# Q8: Scrape data for first 100 sneakers you find when you visit flipkart.com and search for “sneakers” in the search field."
   ]
  },
  {
   "cell_type": "code",
   "execution_count": 8,
   "metadata": {},
   "outputs": [],
   "source": [
    "driver = webdriver.Chrome(\"chromedriver.exe\")\n",
    "url = \"https://www.flipkart.com/\"\n",
    "driver.get(url)"
   ]
  },
  {
   "cell_type": "code",
   "execution_count": 9,
   "metadata": {},
   "outputs": [
    {
     "data": {
      "text/plain": [
       "<selenium.webdriver.remote.webelement.WebElement (session=\"3322a3d052a4533f399f671f8eb65e3e\", element=\"ba5bee3f-be1d-4a86-9a90-b32d92b25db4\")>"
      ]
     },
     "execution_count": 9,
     "metadata": {},
     "output_type": "execute_result"
    }
   ],
   "source": [
    "varsearch8 = driver.find_element_by_xpath(\"//input[@class='_3704LK']\")\n",
    "varsearch8"
   ]
  },
  {
   "cell_type": "code",
   "execution_count": 10,
   "metadata": {},
   "outputs": [
    {
     "data": {
      "text/plain": [
       "<selenium.webdriver.remote.webelement.WebElement (session=\"3322a3d052a4533f399f671f8eb65e3e\", element=\"ba5bee3f-be1d-4a86-9a90-b32d92b25db4\")>"
      ]
     },
     "execution_count": 10,
     "metadata": {},
     "output_type": "execute_result"
    }
   ],
   "source": [
    "varsearch8.send_keys(\"Sneakers\")\n",
    "varsearch8"
   ]
  },
  {
   "cell_type": "code",
   "execution_count": 14,
   "metadata": {},
   "outputs": [
    {
     "data": {
      "text/plain": [
       "<selenium.webdriver.remote.webelement.WebElement (session=\"3322a3d052a4533f399f671f8eb65e3e\", element=\"330dd737-2481-440b-b01e-68e1660de529\")>"
      ]
     },
     "execution_count": 14,
     "metadata": {},
     "output_type": "execute_result"
    }
   ],
   "source": [
    "button8 = driver.find_element_by_xpath(\"//button[@class='L0Z3Pu']\")\n",
    "button8"
   ]
  },
  {
   "cell_type": "code",
   "execution_count": 15,
   "metadata": {},
   "outputs": [],
   "source": [
    "button8.click()"
   ]
  },
  {
   "cell_type": "code",
   "execution_count": 16,
   "metadata": {},
   "outputs": [],
   "source": [
    "urls2 = []\n",
    "for i in driver.find_elements_by_xpath(\"//a[@class='IRpwTa']\"):\n",
    "    urls2.append(i.get_attribute(\"href\"))"
   ]
  },
  {
   "cell_type": "code",
   "execution_count": 17,
   "metadata": {},
   "outputs": [
    {
     "data": {
      "text/plain": [
       "<selenium.webdriver.remote.webelement.WebElement (session=\"3322a3d052a4533f399f671f8eb65e3e\", element=\"bf7b327e-be05-443e-8ac9-f0f165209ebb\")>"
      ]
     },
     "execution_count": 17,
     "metadata": {},
     "output_type": "execute_result"
    }
   ],
   "source": [
    "nxtpg = driver.find_element_by_xpath(\"//a[@class='ge-49M']\")\n",
    "nxtpg"
   ]
  },
  {
   "cell_type": "code",
   "execution_count": 18,
   "metadata": {},
   "outputs": [],
   "source": [
    "nxtpg.click()"
   ]
  },
  {
   "cell_type": "code",
   "execution_count": 19,
   "metadata": {},
   "outputs": [],
   "source": [
    "for a in driver.find_elements_by_xpath(\"//a[@class='IRpwTa']\"):\n",
    "    urls2.append(a.get_attribute(\"href\"))"
   ]
  },
  {
   "cell_type": "code",
   "execution_count": 20,
   "metadata": {},
   "outputs": [
    {
     "data": {
      "text/plain": [
       "63"
      ]
     },
     "execution_count": 20,
     "metadata": {},
     "output_type": "execute_result"
    }
   ],
   "source": [
    "len(urls2)"
   ]
  },
  {
   "cell_type": "code",
   "execution_count": 21,
   "metadata": {},
   "outputs": [],
   "source": [
    "nxtpg0 = driver.find_element_by_xpath(\"//a[@class='ge-49M'][2]\")"
   ]
  },
  {
   "cell_type": "code",
   "execution_count": 22,
   "metadata": {},
   "outputs": [],
   "source": [
    "nxtpg0.click()"
   ]
  },
  {
   "cell_type": "code",
   "execution_count": 23,
   "metadata": {},
   "outputs": [],
   "source": [
    "for b in driver.find_elements_by_xpath(\"//a[@class='IRpwTa']\"):\n",
    "    urls2.append(b.get_attribute(\"href\"))"
   ]
  },
  {
   "cell_type": "code",
   "execution_count": 24,
   "metadata": {},
   "outputs": [],
   "source": [
    "nxtpg1 = driver.find_element_by_xpath(\"//a[@class='ge-49M'][3]\")"
   ]
  },
  {
   "cell_type": "code",
   "execution_count": 25,
   "metadata": {},
   "outputs": [],
   "source": [
    "nxtpg1.click()"
   ]
  },
  {
   "cell_type": "code",
   "execution_count": 26,
   "metadata": {},
   "outputs": [],
   "source": [
    "for z in driver.find_elements_by_xpath(\"//a[@class='IRpwTa']\"):\n",
    "    urls2.append(z.get_attribute(\"href\"))"
   ]
  },
  {
   "cell_type": "code",
   "execution_count": 27,
   "metadata": {},
   "outputs": [],
   "source": [
    "Brand1 = []\n",
    "Product_des1 = []\n",
    "Price1 = []\n",
    "Discount1 = []\n",
    "\n"
   ]
  },
  {
   "cell_type": "code",
   "execution_count": 28,
   "metadata": {},
   "outputs": [],
   "source": [
    "for i in urls2:\n",
    "    driver.get(i)\n",
    "    time.sleep(5)\n",
    "    try:\n",
    "        brand1 = driver.find_element_by_xpath(\"//span[@class='G6XhRU']\")\n",
    "        Brand1.append(brand1.text)\n",
    "    except:\n",
    "        Brand1.append(\"--\")\n",
    "        \n",
    "    try:\n",
    "        discount1 = driver.find_element_by_xpath(\"//div[@class='_3Ay6Sb _31Dcoz pZkvcx']\")\n",
    "        Discount1.append(discount1.text)\n",
    "    except:\n",
    "        Discount1.append(\"__\")"
   ]
  },
  {
   "cell_type": "code",
   "execution_count": 29,
   "metadata": {},
   "outputs": [
    {
     "data": {
      "text/plain": [
       "127"
      ]
     },
     "execution_count": 29,
     "metadata": {},
     "output_type": "execute_result"
    }
   ],
   "source": [
    "len(Brand1)"
   ]
  },
  {
   "cell_type": "code",
   "execution_count": 30,
   "metadata": {},
   "outputs": [
    {
     "data": {
      "text/plain": [
       "127"
      ]
     },
     "execution_count": 30,
     "metadata": {},
     "output_type": "execute_result"
    }
   ],
   "source": [
    "len(Discount1)"
   ]
  },
  {
   "cell_type": "code",
   "execution_count": 30,
   "metadata": {},
   "outputs": [
    {
     "name": "stdout",
     "output_type": "stream",
     "text": [
      "['asics ', 'WELDONE ', 'Chevit ', 'luxury fashion ', 'Longwalk ', 'BRUTON ', 'ASTEROID ', 'BAUCHHAAR ', 'Chevit ', 'Numenzo ', 'Stinson ', 'BIRDE ', 'PEHANOSA ', 'Shoes Bank ', 'SHURAB ', 'SCATCHITE ', 'Numenzo ', 'ASTEROID ', 'Absolutee shoes ', 'World Wear Footwear ', 'Kreverse ', 'believe ', 'Chevit ', 'Magnolia ', 'D-SNEAKERZ ', 'U.S. POLO ASSN. ', 'Arohi ', 'restinfoot ', 'Extoes ', 'Robbie jones ', 'India hub ', 'BRUTON ', 'bluemaker ', 'Kraasa ', 'SPARX ', 'India hub ', 'bluemaker ', 'asics ', 'Kraasa ', 'SPARX ', 'Zorth ', 'SPARX ', 'Rising Wolf ', 'Airland ', 'HOTSTYLE ', 'SPARX ', 'Chevit ', 'Wakefield ', 'TR ', 'SPARX ', 'Zorth ', 'BIRDE ', 'Chevit ', 'ROCKFIELD ', 'Edoeviv ', 'SHOEFLY ', 'WELDONE ', 'HOC ', 'World Wear Footwear ', 'HOC ', 'ROCKFIELD ', 'T-ROCK ', 'SPARX ', 'Chevit ', 'Chevit ', 'Chevit ', 'SPARX ', 'Ardeo ', 'asics ', 'T-ROCK ', 'BIRDE ', 'India hub ', 'Chevit ', 'Axter ', 'SPARX ', 'BIRDE ', 'Labbin ', 'Chevit ', 'SHOEFLY ', 'BIRDE ', 'bluemaker ', 'SPARX ', 'ROCKFIELD ', 'BRUTON ', 'BIRDE ', 'World Wear Footwear ', 'ROCKFIELD ', 'D-SNEAKERZ ', 'Magnolia ', 'SHOEFLY ', 'Chevit ', 'Numenzo ', 'Kraasa ', 'Red Rose ', 'U.S. POLO ASSN. ', 'Red Rose ', 'Kraasa ', 'WELDONE ', 'U.S. POLO ASSN. ', 'KANEGGYE ', 'PUMA ', 'Bonexy ', 'D-SNEAKERZ ', 'bacca bucci ', 'SPARX ', 'BRUTON ', 'Numenzo ', 'PUMA ', 'asics ', 'BRUTON ', 'STRANGER BROTHERS ', 'PUMA ', 'HOTSTYLE ', 'Axter ', 'Ktiz ', 'Mr ShoesWala ', 'SPARX ', 'Extoes ', 'HOTSTYLE ', 'Edoeviv ', 'Chevit ', 'SPARX ', 'HOTSTYLE ', 'Tying ', 'TORRY ', 'otoos ', 'U.S. POLO ASSN. ']\n",
      "['46% off', '44% off', '62% off', '70% off', '46% off', '86% off', '75% off', '55% off', '72% off', '66% off', '65% off', '24% off', '63% off', '65% off', '61% off', '60% off', '77% off', '50% off', '51% off', '51% off', '73% off', '50% off', '69% off', '58% off', '47% off', '54% off', '53% off', '65% off', '59% off', '50% off', '80% off', '75% off', '50% off', '50% off', '20% off', '80% off', '50% off', '46% off', '50% off', '20% off', '56% off', '16% off', '62% off', '49% off', '56% off', '11% off', '76% off', '63% off', '75% off', '25% off', '56% off', '40% off', '68% off', '55% off', '37% off', '72% off', '44% off', '80% off', '51% off', '78% off', '55% off', '62% off', '23% off', '63% off', '69% off', '63% off', '23% off', '71% off', '46% off', '62% off', '24% off', '81% off', '52% off', '39% off', '16% off', '50% off', '60% off', '76% off', '63% off', '40% off', '50% off', '16% off', '55% off', '74% off', '40% off', '51% off', '55% off', '61% off', '63% off', '70% off', '69% off', '77% off', '50% off', '60% off', '54% off', '60% off', '50% off', '44% off', '54% off', '22% off', '56% off', '50% off', '65% off', '57% off', '16% off', '77% off', '77% off', '42% off', '43% off', '75% off', '55% off', '54% off', '55% off', '57% off', '58% off', '55% off', '15% off', '47% off', '40% off', '75% off', '74% off', '11% off', '52% off', '55% off', '60% off', '52% off', '33% off']\n"
     ]
    }
   ],
   "source": [
    "print(Brand1)\n",
    "print(Discount1)"
   ]
  },
  {
   "cell_type": "code",
   "execution_count": 31,
   "metadata": {},
   "outputs": [],
   "source": [
    "for a in urls2:\n",
    "    driver.get(a)\n",
    "    time.sleep(5)\n",
    "    price1 = driver.find_element_by_xpath(\"//div[@class='_30jeq3 _16Jk6d']\")\n",
    "    Price1.append(price1.text)\n"
   ]
  },
  {
   "cell_type": "code",
   "execution_count": 32,
   "metadata": {},
   "outputs": [
    {
     "name": "stdout",
     "output_type": "stream",
     "text": [
      "['₹379', '₹599', '₹266', '₹379', '₹499', '₹474', '₹498', '₹398', '₹474', '₹372', '₹429', '₹449', '₹378', '₹379', '₹449', '₹240', '₹398', '₹398', '₹499', '₹474', '₹499', '₹468', '₹266', '₹460', '₹499', '₹408', '₹348', '₹349', '₹487', '₹399', '₹250', '₹830', '₹499', '₹399', '₹389', '₹474', '₹389', '₹599', '₹6,999', '₹499', '₹240', '₹378', '₹759', '₹470', '₹348', '₹499', '₹379', '₹498', '₹499', '₹468', '₹785', '₹799', '₹647', '₹399', '₹398', '₹362', '₹599', '₹499', '₹499', '₹499', '₹725', '₹623', '₹449', '₹449', '₹449', '₹474', '₹379', '₹499', '₹435', '₹473', '₹995', '₹240', '₹699', '₹360', '₹257', '₹474', '₹629', '₹789', '₹499', '₹391', '₹499', '₹299', '₹384', '₹599', '₹499', '₹240', '₹379', '₹399', '₹435', '₹449', '₹299', '₹985', '₹499', '₹625', '₹625', '₹499', '₹346', '₹379', '₹780', '₹499', '₹499', '₹379', '₹2,006', '₹998', '₹379', '₹277', '₹479', '₹880', '₹499', '₹399', '₹362', '₹949', '₹499', '₹1,812', '₹362', '₹448', '₹473', '₹1,535', '₹494', '₹362', '₹498', '₹360', '₹1,040', '₹399', '₹624', '₹1,723', '₹499']\n"
     ]
    }
   ],
   "source": [
    "print(Price1)"
   ]
  },
  {
   "cell_type": "code",
   "execution_count": 33,
   "metadata": {},
   "outputs": [],
   "source": [
    "for n in urls2:\n",
    "    driver.get(n)\n",
    "    time.sleep(5)\n",
    "    product1 = driver.find_element_by_xpath(\"//span[@class='B_NuCI']\")\n",
    "    Product_des1.append(product1.text)"
   ]
  },
  {
   "cell_type": "code",
   "execution_count": 34,
   "metadata": {},
   "outputs": [
    {
     "name": "stdout",
     "output_type": "stream",
     "text": [
      "['Sneakers For Men  (White)', 'Super Stylish & Trendy Combo Pack of 02 Pairs Sneakers Outdoor Loafer Sports for Running Rock Climbing Gym Shoes Sneakers For Men Sneakers For Men  (Grey, Navy)', 'Men Boxer Sneakers For Men  (Black)', 'Luxury Fashionable casual sneaker shoes Sneakers For Men  (White)', \"Original Luxury Branded Fashionable Men's Casual Walking Partywear Sneakers Running White Shoes Sneakers For Men  (White)\", 'Combo Pack Of 4 Casual Shoes Loafer Shoes Sneakers For Men  (Multicolor)', 'Perfect & Affordable Combo Pack of 02 Pairs Sneakers Outdoor Loafer Sports for Running Rock Climbing Gym Shoes Sneakers For Men  (Black, Grey)', 'Sneakers Sneakers For Men  (White)', 'Combo Pack of 4 Casual Sneakers With Sneakers For Men  (Multicolor)', 'Sneakers For Men  (Multicolor)', 'Sneakers For Men  (White)', 'Sneakers For Men  (Black)', \"White Sneaker For Men's/Boy's Sneakers For Men  (White)\", 'Birde Trendy Casual Shoes Sneakers For Men  (Blue)', 'Sneakers For Men  (White)', '5011-Latest Collection Stylish Casual Loafer Sneakers Shoes For Men Sneakers For Men  (Red)', 'Sneakers For Men  (White)', 'Sneakers For Men  (White)', 'Casual Sneakers Green Shoes For Men And Boys Sneakers For Men  (White)', 'Fashion Outdoor Canvas Casual Light Weight Lace-up Evening Walk Running Shoes For Men Sneakers For Men  (White, Green)', \"Original Luxury Branded Fashionable Men's Casual Walking Partywear Sneakers Running White & Black Shoes Sneakers For Men (White&Black) Sneakers For Men  (White)\", 'Casual Sneaker for Men Sneakers For Men  (Grey)', 'Sneakers For Men  (Black)', 'Sneakers For Men  (White)', 'Sneakers for men(black_6) Sneakers For Men  (Black)', 'Fashionable casual sneakers shoes Sneakers For Men  (White)', \"Casual , Partywear Sneakers Shoes For Men's And Boys White Color Sneakers For Men  (White)\", \"Casual shoes,Sneakers for men's,shoes for men's Sneakers For Men  (Grey)\", 'Sneakers For Men  (Blue)', 'Casual Sneakers Shoes For Men Sneakers For Men  (White)', 'shoe Sneakers For Men  (Red)', 'SM-322 Sneakers For Men  (Black, Grey)', 'Series 7 Sneakers For Men  (White)', 'Fashionable sneaker casual shoes Sneakers For Men  (White)', 'Sneakers For Men  (Navy)', 'Fashion Outdoor Canvas Casual Light Weight Lace-up Evening Walk Running Shoes For Men Sneakers For Men  (Multicolor)', 'Latest Stylish Casual sneakers for men | Lace up lightweight shoes for running, walking, gym, trekking | Running Shoes For Men (Black) Sneakers For Men (Black) Sneakers For Men  (Black)', 'Sneakers For Men  (Black)', 'X-Future Sneakers For Men  (White, Blue)', 'casual for men (blue 10) Sneakers For Men  (Blue)', 'Men 5014 Latest Collection Stylish Casual Sports Loafers Shoes Sneakers Shoes Sneakers For Men  (Brown, Blue)', 'Luxury Fashionable Breathable Casual Sneakers Shoes For Men And Boy Sneakers For Men  (Black)', 'Speed Set of 5 Pairs Sneakers Outdoors Casuals for Men Sneakers For Men  (Multicolor)', 'Unique & Perfect Collection Combo Pack of 02 Shoes for Men Casual Sneakers & Outdoor Walking Shoes for Men Sport Shoes for Men Running Gym Cycling & Trekking Rock Climbing Shoes for Men Sneakers For Men  (Black)', 'White Sneakers Sneakers For Men  (White)', 'Sneakers For Men  (White)', 'Synthetic Leather Casual Partywear Wedding Sneakers Shoes For Men Sneakers For Men  (Grey)', 'Combo Pack of 2 Casual Shoes Sneakers For Men  (Black, Grey)', 'Sneakers For Men  (Multicolor)', 'Sneakers For Men  (Red)', 'SM-162 Sneakers For Men  (Black)', 'Combo Pack of 5 Casual Shoes Sneakers For Men  (Multicolor)', '3 Pair Combo Sneakers For Men  (Multicolor)', 'Casual Sneakers White Shoes For Men And Boys Sneakers For Men  (White)', 'Luxury Fashionable Breathable White shoes for men Sneakers For Men  (Black)', 'Combo Men Pack of 2 Loafers Shoes Sneakers For Men  (Black, Red)', 'New Collection of Combo Pack of 2 Stylish Shoes Sneakers For Men  (Multicolor)', \"Luxury Branded Fashionable Men's Casual Walking Partywear Sneakers Running White Shoes Sneakers For Men Sneakers For Men  (White)\", 'Sneakers For Men  (White)', 'Sneakers For Men  (Navy)', 'SM-675 Sneakers For Men  (Blue, Yellow)', 'Men White Sneakers Sneakers For Men  (White)', 'Relaxed Attractive Combo pack of 4 Sneakers For Men  (Multicolor)', 'Sneakers For Men  (Black)', 'RAMBOW FUNKY SHOE FOR GYM OUTDOOR WALKING Sneakers For Men  (White)', 'Fashion Outdoor Canvas Casual Light Weight Lace-up Evening Walk Running Shoes For Men Sneakers For Men  (White, Orange)', 'Sneakers For Men  (White)', 'Sneakers For Men  (White)', 'New Fashion Outdoor Trendy Lightweight Casual,Canvas Stylish Partywear Sneakers Shoes Boys Sneakers For Men  (Black)', 'Combo Pack of 2 trendy Shoes for men Sneakers For Men  (Multicolor)', 'Casual Sneakers Sneakers For Men  (Black)', 'Sneakers For Men  (Grey)', 'Combo of 5 Multicolor Casual Sneakers Shoes For Men Sneakers For Men  (Multicolor)', 'Smart Casuals Canvas Shoes Combo pack of 2 Sneakers For Men  (Multicolor)', 'Sneakers For Men  (Black)', 'casual shoes Sneakers For Men  (Multicolor)', 'Canvas Casual Partywear Outdoor Sneakers Shoes For Mens And Boys Sneakers For Men  (White)', 'Modern Trendy Shoes Combo pack of 4 Sneakers For Men  (Multicolor)', 'casual for men Sneakers For Men  (Black)', 'Sneakers For Men  (Blue)', 'casual for men (black 08) Sneakers For Men  (Black)', 'Birde Trendy Casual Shoes Sneakers For Men  (Maroon)', \"Casual , Partywear Sneakers Shoes For Men's And Boys White Color Sneakers For Men  (White)\", 'Relaxed Attractive Combo pack of 3 Sneakers For Men  (Green, Yellow, Orange)', 'casual for men (beige 06) Sneakers For Men  (Beige)', 'Latest Collection-1227 Stylish Casual Sports Sneakers For Men  (Blue, Black)', 'Sneakers For Men  (White)', \"White Sneaker For Men's/Boy's Sneakers For Men  (White)\", 'Sneakers For Men  (Maroon)', 'Sneakers For Men  (Green)', 'Birde Trendy Casual Shoes Sneakers For Men  (Grey)', 'SM-482 Sneakers For Men  (Black, Red)', 'Shark-41 Sneakers For Men  (White)', 'SD-323 Sneakers For Men  (Black)', 'SD-323 Sneakers For Men  (Black)', 'Shark-41 Sneakers For Men  (White)', \"Casual , Partywear Sneakers Shoes For Men's And Boys Red Color Sneakers For Men  (Red)\", 'Sneakers For Men  (Black)', 'SM-162 Sneakers For Men  (Navy)', 'casual shoe for men Sneakers For Men  (Black)', 'casual shoe for men Sneakers For Men  (Black)', \"Men's Stylish Casual Shoes Sneakers For Men  (Yellow)\", 'Hip Hop Mid Perf IDP Sneakers For Men  (Black)', \"Men's Ultraforce Mid-top Athletic-Inspired Retro Fashion Casual/outdoor Sneakers for Men-Tan Sneakers For Men  (Brown)\", 'Latest Stylish Casual sneakers for men | Lace up lightweight shoes for running, walking, gym, trekking | Running Shoes For Men | Sneakers For Men (Black) Sneakers For Men Sneakers For Men  (Black)', 'Fashion Sneakers For Men  (Black)', 'Sneakers For Men  (White)', 'SM-322 Sneakers For Men  (Navy, Yellow)', 'Luxury Fashionable casual sneaker shoes and shoes Sneakers For Men  (White)', 'Sneakers For Men  (Blue)', 'Combo Men Pack of 2 Loafers Shoes Sneakers For Men  (Black, Red)', 'Mens Ultraforce Mid-top Athletic-Inspired Retro Fashion Casual/outdoor Sneakers Sneakers For Men  (White)', 'casual for men Sneakers For Men  (Black)', 'Puma Kor IDP Sneakers For Men  (Black, Orange)', 'Combo Men Pack of 2 Loafers Shoes Sneakers For Men  (Black, Red)', 'Sneakers For Men (White) Sneakers For Men  (White)', \"Men's Combo Pack of 02 Shoes for Men Casual Sneakers Outdoor Shoes for Men Sports Shoe for Running Gym Cycling & Trekking Sneakers For Men Sneakers For Men  (Black, Grey)\", 'Hip Hop Mid Perf IDP Sneakers For Men  (Blue)', 'Combo Pack Of 3 Sneakers For Men  (Black, Yellow)', 'Combo Men Pack of 2 Loafers Shoes Sneakers For Men  (Black, Red)', 'Combo Pack of 4 Casual Shoes For Men Sneakers For Men  (Multicolor)', 'Sneakers For Men  (White)', 'Casual Sneakers Sneakers For Men  (Grey)', 'Men Combo Pack of 2 Sports Shoes & Casual Sneakers For Men  (Multicolor)', 'SPARX SD0323G Sneakers For Men  (White, Black)', 'Puma Smash Vulc Sneakers For Men  (White)', 'Sneakers For Men  (Blue)']\n"
     ]
    }
   ],
   "source": [
    "print(Product_des1)"
   ]
  },
  {
   "cell_type": "code",
   "execution_count": 35,
   "metadata": {},
   "outputs": [
    {
     "data": {
      "text/html": [
       "<div>\n",
       "<style scoped>\n",
       "    .dataframe tbody tr th:only-of-type {\n",
       "        vertical-align: middle;\n",
       "    }\n",
       "\n",
       "    .dataframe tbody tr th {\n",
       "        vertical-align: top;\n",
       "    }\n",
       "\n",
       "    .dataframe thead th {\n",
       "        text-align: right;\n",
       "    }\n",
       "</style>\n",
       "<table border=\"1\" class=\"dataframe\">\n",
       "  <thead>\n",
       "    <tr style=\"text-align: right;\">\n",
       "      <th></th>\n",
       "      <th>Brand</th>\n",
       "      <th>Product Description</th>\n",
       "      <th>Price</th>\n",
       "      <th>Discount</th>\n",
       "    </tr>\n",
       "  </thead>\n",
       "  <tbody>\n",
       "    <tr>\n",
       "      <th>0</th>\n",
       "      <td>India hub</td>\n",
       "      <td>Sneakers For Men  (White)</td>\n",
       "      <td>₹379</td>\n",
       "      <td>81% off</td>\n",
       "    </tr>\n",
       "    <tr>\n",
       "      <th>1</th>\n",
       "      <td>Chevit</td>\n",
       "      <td>Super Stylish &amp; Trendy Combo Pack of 02 Pairs ...</td>\n",
       "      <td>₹599</td>\n",
       "      <td>62% off</td>\n",
       "    </tr>\n",
       "    <tr>\n",
       "      <th>2</th>\n",
       "      <td>Longwalk</td>\n",
       "      <td>Men Boxer Sneakers For Men  (Black)</td>\n",
       "      <td>₹266</td>\n",
       "      <td>46% off</td>\n",
       "    </tr>\n",
       "    <tr>\n",
       "      <th>3</th>\n",
       "      <td>luxury fashion</td>\n",
       "      <td>Luxury Fashionable casual sneaker shoes Sneake...</td>\n",
       "      <td>₹379</td>\n",
       "      <td>70% off</td>\n",
       "    </tr>\n",
       "    <tr>\n",
       "      <th>4</th>\n",
       "      <td>ASTEROID</td>\n",
       "      <td>Original Luxury Branded Fashionable Men's Casu...</td>\n",
       "      <td>₹499</td>\n",
       "      <td>75% off</td>\n",
       "    </tr>\n",
       "    <tr>\n",
       "      <th>...</th>\n",
       "      <td>...</td>\n",
       "      <td>...</td>\n",
       "      <td>...</td>\n",
       "      <td>...</td>\n",
       "    </tr>\n",
       "    <tr>\n",
       "      <th>95</th>\n",
       "      <td>Kraasa</td>\n",
       "      <td>Shark-41 Sneakers For Men  (White)</td>\n",
       "      <td>₹499</td>\n",
       "      <td>50% off</td>\n",
       "    </tr>\n",
       "    <tr>\n",
       "      <th>96</th>\n",
       "      <td>D-SNEAKERZ</td>\n",
       "      <td>Casual , Partywear Sneakers Shoes For Men's An...</td>\n",
       "      <td>₹346</td>\n",
       "      <td>65% off</td>\n",
       "    </tr>\n",
       "    <tr>\n",
       "      <th>97</th>\n",
       "      <td>BIRDE</td>\n",
       "      <td>Sneakers For Men  (Black)</td>\n",
       "      <td>₹379</td>\n",
       "      <td>24% off</td>\n",
       "    </tr>\n",
       "    <tr>\n",
       "      <th>98</th>\n",
       "      <td>SPARX</td>\n",
       "      <td>SM-162 Sneakers For Men  (Navy)</td>\n",
       "      <td>₹780</td>\n",
       "      <td>17% off</td>\n",
       "    </tr>\n",
       "    <tr>\n",
       "      <th>99</th>\n",
       "      <td>bluemaker</td>\n",
       "      <td>casual shoe for men Sneakers For Men  (Black)</td>\n",
       "      <td>₹499</td>\n",
       "      <td>50% off</td>\n",
       "    </tr>\n",
       "  </tbody>\n",
       "</table>\n",
       "<p>100 rows × 4 columns</p>\n",
       "</div>"
      ],
      "text/plain": [
       "              Brand                                Product Description Price  \\\n",
       "0        India hub                           Sneakers For Men  (White)  ₹379   \n",
       "1           Chevit   Super Stylish & Trendy Combo Pack of 02 Pairs ...  ₹599   \n",
       "2         Longwalk                 Men Boxer Sneakers For Men  (Black)  ₹266   \n",
       "3   luxury fashion   Luxury Fashionable casual sneaker shoes Sneake...  ₹379   \n",
       "4         ASTEROID   Original Luxury Branded Fashionable Men's Casu...  ₹499   \n",
       "..              ...                                                ...   ...   \n",
       "95          Kraasa                  Shark-41 Sneakers For Men  (White)  ₹499   \n",
       "96      D-SNEAKERZ   Casual , Partywear Sneakers Shoes For Men's An...  ₹346   \n",
       "97           BIRDE                           Sneakers For Men  (Black)  ₹379   \n",
       "98           SPARX                     SM-162 Sneakers For Men  (Navy)  ₹780   \n",
       "99       bluemaker       casual shoe for men Sneakers For Men  (Black)  ₹499   \n",
       "\n",
       "   Discount  \n",
       "0   81% off  \n",
       "1   62% off  \n",
       "2   46% off  \n",
       "3   70% off  \n",
       "4   75% off  \n",
       "..      ...  \n",
       "95  50% off  \n",
       "96  65% off  \n",
       "97  24% off  \n",
       "98  17% off  \n",
       "99  50% off  \n",
       "\n",
       "[100 rows x 4 columns]"
      ]
     },
     "execution_count": 35,
     "metadata": {},
     "output_type": "execute_result"
    }
   ],
   "source": [
    "df_Sneakers = pd.DataFrame({})\n",
    "df_Sneakers[\"Brand\"] = Brand1[:100]\n",
    "df_Sneakers[\"Product Description\"] = Product_des1[:100]\n",
    "df_Sneakers[\"Price\"] = Price1[:100]\n",
    "df_Sneakers[\"Discount\"] = Discount1[:100]\n",
    "df_Sneakers"
   ]
  },
  {
   "cell_type": "markdown",
   "metadata": {},
   "source": [
    "# Q9: Go to the link - https://www.myntra.com/shoes\n",
    "Set Price filter to “Rs. 6649 to Rs. 13099” , Color filter to “Black”, as shown in the below image"
   ]
  },
  {
   "cell_type": "code",
   "execution_count": 1,
   "metadata": {},
   "outputs": [],
   "source": [
    "import selenium\n",
    "import pandas as pd \n",
    "from selenium import webdriver\n",
    "import time \n",
    "from selenium.common.exceptions import NoSuchElementException"
   ]
  },
  {
   "cell_type": "code",
   "execution_count": 2,
   "metadata": {},
   "outputs": [],
   "source": [
    "driver = webdriver.Chrome(\"chromedriver.exe\")\n",
    "url =\"https://www.myntra.com/shoes\"\n",
    "driver.get(url)"
   ]
  },
  {
   "cell_type": "code",
   "execution_count": 3,
   "metadata": {},
   "outputs": [
    {
     "data": {
      "text/plain": [
       "<selenium.webdriver.remote.webelement.WebElement (session=\"72a8cece569000b489cc6e4ff9b33073\", element=\"59c43688-ff89-47ca-8914-8f3639857e2a\")>"
      ]
     },
     "execution_count": 3,
     "metadata": {},
     "output_type": "execute_result"
    }
   ],
   "source": [
    "price_filter = driver.find_element_by_xpath(\"//ul[@class='price-list']//li[2]//label\")\n",
    "price_filter"
   ]
  },
  {
   "cell_type": "code",
   "execution_count": 7,
   "metadata": {},
   "outputs": [],
   "source": [
    "price_filter.click()"
   ]
  },
  {
   "cell_type": "code",
   "execution_count": 5,
   "metadata": {},
   "outputs": [
    {
     "data": {
      "text/plain": [
       "<selenium.webdriver.remote.webelement.WebElement (session=\"72a8cece569000b489cc6e4ff9b33073\", element=\"39d76645-3806-4a2d-b61c-7072d11cd4a5\")>"
      ]
     },
     "execution_count": 5,
     "metadata": {},
     "output_type": "execute_result"
    }
   ],
   "source": [
    "color = driver.find_element_by_xpath(\"//div[@class='vertical-filters-filters'][3]//li[1]\")\n",
    "color"
   ]
  },
  {
   "cell_type": "code",
   "execution_count": 6,
   "metadata": {},
   "outputs": [],
   "source": [
    "color.click()"
   ]
  },
  {
   "cell_type": "code",
   "execution_count": 8,
   "metadata": {},
   "outputs": [],
   "source": [
    "urls3 = []\n",
    "for i in driver.find_elements_by_xpath(\"//a[@target='_blank']\"):\n",
    "    urls3.append(i.get_attribute(\"href\"))"
   ]
  },
  {
   "cell_type": "code",
   "execution_count": 9,
   "metadata": {},
   "outputs": [
    {
     "data": {
      "text/plain": [
       "50"
      ]
     },
     "execution_count": 9,
     "metadata": {},
     "output_type": "execute_result"
    }
   ],
   "source": [
    "len(urls3)"
   ]
  },
  {
   "cell_type": "code",
   "execution_count": 10,
   "metadata": {},
   "outputs": [
    {
     "data": {
      "text/plain": [
       "<selenium.webdriver.remote.webelement.WebElement (session=\"72a8cece569000b489cc6e4ff9b33073\", element=\"e8670cc8-9427-4bcd-bcb7-0df1e593485e\")>"
      ]
     },
     "execution_count": 10,
     "metadata": {},
     "output_type": "execute_result"
    }
   ],
   "source": [
    "pg = driver.find_element_by_xpath(\"//li[@class='pagination-number'][1]\")\n",
    "pg"
   ]
  },
  {
   "cell_type": "code",
   "execution_count": 11,
   "metadata": {},
   "outputs": [],
   "source": [
    "pg.click()"
   ]
  },
  {
   "cell_type": "code",
   "execution_count": 12,
   "metadata": {},
   "outputs": [],
   "source": [
    "for b in driver.find_elements_by_xpath(\"//a[@target='_blank']\"):\n",
    "    urls3.append(b.get_attribute(\"href\"))"
   ]
  },
  {
   "cell_type": "code",
   "execution_count": 13,
   "metadata": {},
   "outputs": [
    {
     "data": {
      "text/plain": [
       "100"
      ]
     },
     "execution_count": 13,
     "metadata": {},
     "output_type": "execute_result"
    }
   ],
   "source": [
    "len(urls3)"
   ]
  },
  {
   "cell_type": "code",
   "execution_count": 14,
   "metadata": {},
   "outputs": [
    {
     "name": "stdout",
     "output_type": "stream",
     "text": [
      "['https://www.myntra.com/sports-shoes/nike/nike-men-black-solid-air-zoom-structure-24-running-shoes/14528368/buy', 'https://www.myntra.com/casual-shoes/aldo/aldo-men-black-driving-shoes/14200520/buy', 'https://www.myntra.com/sports-shoes/puma/puma-men-black-cell-fraction-fade-running-shoes/13484274/buy', 'https://www.myntra.com/formal-shoes/hush-puppies/hush-puppies-men-black-solid-leather-formal-slip-ons/12452162/buy', 'https://www.myntra.com/sports-shoes/puma/puma-men-black-velocity-nitro-running-shoes/13484306/buy', 'https://www.myntra.com/sports-shoes/puma/puma-men-black-hybrid-fuego-running-shoes/10253451/buy', 'https://www.myntra.com/sports-shoes/puma/puma-men-black-mesh-training-or-gym-shoes/15226528/buy', 'https://www.myntra.com/sports-shoes/under-armour/under-armour-men-black-charged-rogue-25-reflect-running-shoes/14649122/buy', 'https://www.myntra.com/sports-shoes/puma/puma-men-black-mesh-fuse-training-shoes/14824720/buy', 'https://www.myntra.com/sports-shoes/under-armour/under-armour-men-black-hovr-infinite-woven-design-bluetooth-running-shoes/10692686/buy', 'https://www.myntra.com/sports-shoes/under-armour/under-armour-women-black-woven-design-hovr-sonic-4-running-shoes-with-bluetooth/14649172/buy', 'https://www.myntra.com/sports-shoes/under-armour/under-armour-women-black--purple-hovr-sonic-4-fnrn-running-shoes/14649220/buy', 'https://www.myntra.com/sports-shoes/asics/asics-men-black-tennis-non-marking-shoes-solution-speed-ff-2/15053664/buy', 'https://www.myntra.com/casual-shoes/nike/nike-men-black--white-blazer-low-77-vintage-leather-sneakers/14528040/buy', 'https://www.myntra.com/sports-shoes/puma/puma-men-black-king-platinum-leather-football-shoes/13483944/buy', 'https://www.myntra.com/sports-shoes/puma/puma-men-black-jamming-20-running-shoes/14824822/buy', 'https://www.myntra.com/sports-shoes/puma/puma-men-black-lqdcell-method-20-mens-shoes/15226416/buy', 'https://www.myntra.com/sports-shoes/puma/puma-women-black-eternity-nitro-running-shoes/13484354/buy', 'https://www.myntra.com/casual-shoes/hush-puppies/hush-puppies-men-black-leather-slip-on-sneakers/12698534/buy', 'https://www.myntra.com/formal-shoes/rosso-brunello/rosso-brunello-men-black-leather-formal-loafers/15190862/buy', 'https://www.myntra.com/sports-shoes/under-armour/under-armour-women-black-charged-assert-8-running-shoes/14649216/buy', 'https://www.myntra.com/sports-shoes/under-armour/under-armour-women-black-woven-design-charged-impulse-shft-running-shoes/14649022/buy', 'https://www.myntra.com/casual-shoes/calvin-klein/calvin-klein-men-black-loafers/14961330/buy', 'https://www.myntra.com/sports-shoes/under-armour/under-armour-women-black-woven-design-charged-vantage-colorshift-running-shoes/14649018/buy', 'https://www.myntra.com/sports-shoes/forclaz-by-decathlon/forclaz-by-decathlon-men-grey-trekking-100-waterproof-mid-top-trekking-boots/14321736/buy', 'https://www.myntra.com/formal-shoes/clarks/clarks-men-black-solid-formal-leather-derbys/14866788/buy', 'https://www.myntra.com/sports-shoes/under-armour/under-armour-unisex-black--grey-colourblocked-gs-sc-3-zero-iv-basketball-shoes/12247208/buy', 'https://www.myntra.com/formal-shoes/hush-puppies/hush-puppies-men-black-solid-leather-formal-slip-ons/12435690/buy', 'https://www.myntra.com/formal-shoes/hush-puppies/hush-puppies-men-black-solid-formal-derbys-/13123142/buy', 'https://www.myntra.com/sports-shoes/asics/asics-women-black--charcoal-grey-glideride-running-shoes/12368740/buy', 'https://www.myntra.com/sports-shoes/puma/puma-men-black-liberate-nitro-running-shoes/14824816/buy', 'https://www.myntra.com/casual-shoes/jfontini/j-fontini-men-black-solid-leather-loafers/15172434/buy', 'https://www.myntra.com/casual-shoes/under-armour/under-armour-men-black-hovr-sonic-strt-tech-woven-design-sneakers/14648434/buy', 'https://www.myntra.com/sports-shoes/asics/asics-women-black-gel-lyte-iii-og-running-shoes/14389578/buy', 'https://www.myntra.com/sports-shoes/puma-hoops/puma-hoops-unisex-black-clyde-all-pro-team-mid-top-basketball-shoes/14773426/buy', 'https://www.myntra.com/casual-shoes/geox/geox-men-black-leather-mid-top-flat-boots/14533166/buy', 'https://www.myntra.com/formal-shoes/hush-puppies/hush-puppies-men-black-solid-leather-formal-derbys/12435696/buy', 'https://www.myntra.com/sports-shoes/under-armour/under-armour-women-black-woven-design-charged-bandit-6-running-shoes/14649110/buy', 'https://www.myntra.com/casual-shoes/puma-motorsport/puma-motorsport-unisex-black-ferrari-rs-fast-textured-sneakers/14825958/buy', 'https://www.myntra.com/formal-shoes/rosso-brunello/rosso-brunello-men-black-textured-leather-formal-loafers/14955600/buy', 'https://www.myntra.com/casual-shoes/jfontini/jfontini-men-black-loafers/13343594/buy', 'https://www.myntra.com/sports-shoes/under-armour/under-armour-women-black-woven-charged-rogue-25-colorshift-running-shoes/14649130/buy', 'https://www.myntra.com/casual-shoes/puma-motorsport/puma-motorsport-unisex-black-ferrari-drift-cat-8-perforations-sneakers/13554492/buy', 'https://www.myntra.com/casual-shoes/geox/geox-men-black--yellow-printed-slip-on-sneakers/14533240/buy', 'https://www.myntra.com/casual-shoes/puma-motorsport/puma-motorsport-unisex-black--green-colourblocked-mercedes-f1-x-ray-2-sneakers/14826052/buy', 'https://www.myntra.com/casual-shoes/puma/puma-x-ray-lite-millenium-unisex-shoes/15226476/buy', 'https://www.myntra.com/casual-shoes/puma-motorsport/puma-motorsport-unisex-black-scuderia-ferrari-a3rocat-sneakers/14826054/buy', 'https://www.myntra.com/formal-shoes/rosso-brunello/rosso-brunello-men-black-solid-leather-formal-monks-shoes/15074096/buy', 'https://www.myntra.com/casual-shoes/geox/geox-men-black-solid-sneakers/14533162/buy', 'https://www.myntra.com/casual-shoes/geox/geox-men-black-sneakers/14533234/buy', 'https://www.myntra.com/casual-shoes/puma-motorsport/puma-motorsport-unisex-black-scuderia-ferrari-a3rocat-sneakers/14826054/buy', 'https://www.myntra.com/casual-shoes/rare-rabbit/rare-rabbit-men-black-leather-flat-boots/14937472/buy', 'https://www.myntra.com/casual-shoes/puma-motorsport/puma-motorsport-women-black--orange-solid-bmw-m-motorsport-ridge-cat-sneakers/14850124/buy', 'https://www.myntra.com/formal-shoes/rare-rabbit/rare-rabbit-men-black-leather-formal-slip-ons/14618150/buy', 'https://www.myntra.com/casual-shoes/aldo/aldo-women-black-woven-design-sneakers/14086062/buy', 'https://www.myntra.com/heels/saint-g/saint-g-black-leather-block-sandals/14500492/buy', 'https://www.myntra.com/sports-shoes/asics/asics-women-black--charcoal-grey-glideride-running-shoes/12368692/buy', 'https://www.myntra.com/formal-shoes/jfontini/jfontini-men-black-solid-leather-formal-derbys/12682188/buy', 'https://www.myntra.com/formal-shoes/rosso-brunello/rosso-brunello-men-black-solid-leather-formal-monk-shoes/15017440/buy', 'https://www.myntra.com/heels/saint-g/saint-g-women-black-solid-leather-heeled-boots/11464054/buy', 'https://www.myntra.com/casual-shoes/under-armour/under-armour-women-black-woven-design-charged-breathe-color-shift-sneakers/14648204/buy', 'https://www.myntra.com/heels/heel--buckle-london/heel--buckle-london-women-black-embellished-peep-toe-heels/11818354/buy', 'https://www.myntra.com/heels/heel--buckle-london/heel--buckle-london-women-black-solid-leather-gladiators/10877590/buy', 'https://www.myntra.com/sports-shoes/kiprun-by-decathlon/kiprun-by-decathlon-women-black-kiprun-long-2-running-shoes/13982182/buy', 'https://www.myntra.com/sports-shoes/puma/puma-women-black-liberate-nitro-running-shoes/14849988/buy', 'https://www.myntra.com/sports-shoes/quechua-by-decathlon/quechua-by-decathlon-men-black-leather-warm-snow-hiking-boots/12983992/buy', 'https://www.myntra.com/casual-shoes/cole-haan/cole-haan-men-black-originalgrand-stitchlite-wingtip-oxford-sneakers/11052208/buy', 'https://www.myntra.com/casual-shoes/cole-haan/cole-haan-men-black-generation-zerogrand-stitchlite-sneakers/11052214/buy', 'https://www.myntra.com/casual-shoes/cole-haan/cole-haan-men-black-leather-grandpro-tennis-sneakers/11578284/buy', 'https://www.myntra.com/casual-shoes/vionic/vionic-men-black--grey-textured-sneakers/12459116/buy', 'https://www.myntra.com/sports-shoes/nike/nike-women-black-air-zoom-structure-24-road-running-shoes/14528378/buy', 'https://www.myntra.com/casual-shoes/jfontini/jfontini-men-black-solid-leather-loafers/12681344/buy', 'https://www.myntra.com/casual-shoes/jfontini/jfontini-men-black-leather-loafers/12681352/buy', 'https://www.myntra.com/casual-shoes/jfontini/jfontini-men-black-leather-loafers/12681364/buy', 'https://www.myntra.com/sports-shoes/kalenji-by-decathlon/kalenji-by-decathlon-men-black-long-distance-kd500-running-shoe/14464026/buy', 'https://www.myntra.com/formal-shoes/geox/geox-men-black-leather-formal-slip-ons/10029315/buy', 'https://www.myntra.com/casual-shoes/puma-motorsport/puma-motorsport-unisex-black-bmw-mms-rs-fast-sneakers/13554524/buy', 'https://www.myntra.com/sports-shoes/puma/puma-men-black-mesh-running-shoes/14521968/buy', 'https://www.myntra.com/sports-shoes/asics/asics-hyper-speed-men-black--white-printed-running-sports-shoes/15053674/buy', 'https://www.myntra.com/sports-shoes/bugatti/bugatti-men-black-textile-walking-non-marking-shoes/15327560/buy', 'https://www.myntra.com/formal-shoes/geox/geox-men-black-solid-leather-formal-slip-ons/11708718/buy', 'https://www.myntra.com/sports-shoes/bugatti/bugatti-men-black-textile-walking-non-marking-shoes/15327568/buy', 'https://www.myntra.com/sports-shoes/bugatti/bugatti-men-black-textile-running-non-marking-shoes/15327566/buy', 'https://www.myntra.com/heels/saint-g/saint-g-women-black-woven-design-leather-heeled-boots/11216720/buy', 'https://www.myntra.com/heels/saint-g/saint-g-women-black-solid-leather-heeled-boots/11218116/buy', 'https://www.myntra.com/heels/heel--buckle-london/heel--buckle-london-women-black--transparent-solid-leather-block-heels/10877608/buy', 'https://www.myntra.com/heels/saint-g/saint-g-women-black-solid-heeled-boots/11218120/buy', 'https://www.myntra.com/casual-shoes/jfontini/j-fontini-men-black-textured-leather-loafers/14458668/buy', 'https://www.myntra.com/heels/kenneth-cole/kenneth-cole-women-black-solid-leather-pumps/11682400/buy', 'https://www.myntra.com/casual-shoes/geox/geox-men-black-solid-sneakers/14533190/buy', 'https://www.myntra.com/casual-shoes/geox/geox-men-black-leather-driving-shoes/14533216/buy', 'https://www.myntra.com/casual-shoes/aldo/aldo-women-black-solid-sneakers/10549544/buy', 'https://www.myntra.com/flats/cole-haan/cole-haan-women-black-solid-leather-open-toe-flats/10612998/buy', 'https://www.myntra.com/formal-shoes/florsheim/florsheim-men-black-solid-leather-formal-derbys/11977936/buy', 'https://www.myntra.com/formal-shoes/ruosh/ruosh-men-black-solid-leather-formal-monks/11930218/buy', 'https://www.myntra.com/casual-shoes/puma/puma-unisex-black-pacer-future-sneakers/14824758/buy', 'https://www.myntra.com/heels/heel--buckle-london/heel--buckle-london-women-black-embellished-leather-pumps/12942670/buy', 'https://www.myntra.com/sports-shoes/nike/nike-men-black-air-zoom-vomero-16-running-shoes/14824562/buy', 'https://www.myntra.com/formal-shoes/jfontini/jfontini-men-black-solid-leather-formal-slip-ons/12463850/buy', 'https://www.myntra.com/sports-shoes/nike/nike-men-black-zoom-span-3-running-shoes/14528392/buy']\n"
     ]
    }
   ],
   "source": [
    "print(urls3)"
   ]
  },
  {
   "cell_type": "code",
   "execution_count": 15,
   "metadata": {},
   "outputs": [],
   "source": [
    "Brand2 = []\n",
    "Description = []\n",
    "Price3 = []"
   ]
  },
  {
   "cell_type": "code",
   "execution_count": 16,
   "metadata": {},
   "outputs": [],
   "source": [
    "for x in urls3:\n",
    "    driver.get(x)\n",
    "    time.sleep(5)\n",
    "    try:\n",
    "        brand3 = driver.find_element_by_xpath(\"//h1[@class='pdp-title']\")\n",
    "        Brand2.append(brand3.text)\n",
    "    except:\n",
    "        Brand2.append(\"--\")\n",
    "    try:\n",
    "        des3 = driver.find_element_by_xpath(\"//h1[@class='pdp-name']\")\n",
    "        Description.append(des3.text)\n",
    "    except:\n",
    "        Description.append(\"--\")\n",
    "    try:\n",
    "        price3 = driver.find_element_by_xpath(\"//span[@class='pdp-price']\")\n",
    "        Price3.append(price3.text)\n",
    "    except:\n",
    "        Price3.append(\"--\")"
   ]
  },
  {
   "cell_type": "code",
   "execution_count": 17,
   "metadata": {},
   "outputs": [
    {
     "data": {
      "text/plain": [
       "100"
      ]
     },
     "execution_count": 17,
     "metadata": {},
     "output_type": "execute_result"
    }
   ],
   "source": [
    "len(Brand2)"
   ]
  },
  {
   "cell_type": "code",
   "execution_count": 18,
   "metadata": {},
   "outputs": [
    {
     "data": {
      "text/plain": [
       "100"
      ]
     },
     "execution_count": 18,
     "metadata": {},
     "output_type": "execute_result"
    }
   ],
   "source": [
    "len(Description)"
   ]
  },
  {
   "cell_type": "code",
   "execution_count": 19,
   "metadata": {},
   "outputs": [
    {
     "data": {
      "text/plain": [
       "100"
      ]
     },
     "execution_count": 19,
     "metadata": {},
     "output_type": "execute_result"
    }
   ],
   "source": [
    "len(Price3)"
   ]
  },
  {
   "cell_type": "code",
   "execution_count": 20,
   "metadata": {},
   "outputs": [
    {
     "name": "stdout",
     "output_type": "stream",
     "text": [
      "['Men Black Solid Air Zoom Structure 24 Running Shoes', 'Men Black Driving Shoes', 'Men Black Cell Fraction Fade Running Shoes', 'Men Black Solid Leather Formal Slip-Ons', 'Men Black Velocity Nitro Running Shoes', 'Men Black Hybrid Fuego Running Shoes', 'Men Black Mesh Training or Gym Shoes', 'Men Black Charged Rogue 2.5 Reflect Running Shoes', 'Men Black Mesh FUSE Training Shoes', 'Men Black HOVR Infinite Woven Design Bluetooth Running Shoes', 'Women Black Woven Design HOVR Sonic 4 Running Shoes with Bluetooth', 'Women Black & Purple HOVR Sonic 4 FnRn Running Shoes', 'Men Black Tennis Non-Marking Shoes SOLUTION SPEED FF 2', \"Men Black & White Blazer Low '77 Vintage Leather Sneakers\", 'Men Black KING Platinum Leather Football Shoes', 'Men Black Jamming 2.0 Running Shoes', \"Men Black LQDCell Method 2.0 Men's Shoes\", 'Women Black Eternity Nitro Running Shoes', 'Men Black Leather Slip-On Sneakers', 'Men Black Leather Formal Loafers', 'Women Black Charged Assert 8 Running Shoes', 'Women Black Woven Design Charged Impulse Shft Running Shoes', 'Men Black Loafers', 'Women Black Woven Design Charged Vantage Colorshift Running Shoes', 'Men Grey TREKKING 100 Waterproof Mid-Top Trekking Boots', 'Men Black Solid Formal Leather Derbys', 'Unisex Black & Grey Colourblocked GS SC 3 Zero IV Basketball Shoes', 'Men Black Solid Leather Formal Slip-Ons', 'Men Black Solid Formal Derbys', 'Women Black & Charcoal Grey GlideRide Running Shoes', 'Men Black Liberate NITRO Running Shoes', 'J FONTINI Men Black Solid Leather Loafers', 'Men Black HOVR Sonic STRT Tech Woven Design Sneakers', 'Women Black GEL-Lyte III OG Running Shoes', 'Unisex Black Clyde All-Pro Team Mid-Top Basketball Shoes', 'Men Black Leather Mid-Top Flat Boots', 'Men Black Solid Leather Formal Derbys', 'Women Black Woven Design Charged Bandit 6 Running Shoes', 'Unisex Black Ferrari RS-Fast Textured Sneakers', 'Men Black Textured Leather Formal Loafers', 'Men Black Loafers', 'Women Black Woven Charged Rogue 2.5 Colorshift Running Shoes', 'Unisex Black Ferrari Drift Cat 8 Perforations Sneakers', 'Men Black & Yellow Printed Slip-On Sneakers', 'Unisex Black & Green Colourblocked Mercedes F1 X-Ray 2 Sneakers', 'X-Ray Lite Millenium Unisex Shoes', 'Unisex Black Scuderia Ferrari A3ROCAT Sneakers', 'Men Black Solid Leather Formal Monks Shoes', 'Men Black Solid Sneakers', 'Men Black Sneakers', 'Unisex Black Scuderia Ferrari A3ROCAT Sneakers', 'Men Black Leather Flat Boots', 'Puma Motorsport Women Black & Orange Solid BMW M Motorsport Ridge Cat Sneakers', 'Men Black Leather Formal Slip-Ons', 'Women Black Woven Design Sneakers', 'Black Leather Block Sandals', 'Women Black & Charcoal Grey GlideRide Running Shoes', 'Men Black Solid Leather Formal Derbys', 'Men Black Solid Leather Formal Monk Shoes', 'Women Black Solid Leather Heeled Boots', 'Women Black Woven Design Charged Breathe Color Shift Sneakers', 'Women Black Embellished Peep Toe Heels', 'Women Black Solid Leather Gladiators', 'Women Black Kiprun Long 2 Running Shoes', 'Women Black Liberate NITRO Running Shoes', 'Men Black Leather Warm Snow Hiking Boots', 'Men Black Originalgrand Stitchlite Wingtip Oxford Sneakers', 'Men Black Generation ZeroGrand Stitchlite Sneakers', 'Men Black Leather GrandPro Tennis Sneakers', 'Men Black & Grey Textured Sneakers', 'Women Black AIR ZOOM STRUCTURE 24 Road Running Shoes', 'Men Black Solid Leather Loafers', 'Men Black Leather Loafers', 'Men Black Leather Loafers', 'Men Black Long Distance KD500 Running Shoe', 'Men Black Leather Formal Slip-Ons', 'Unisex Black BMW MMS RS-Fast Sneakers', 'Men Black Mesh Running Shoes', 'Hyper Speed Men Black & White Printed Running Sports Shoes', 'Men Black Textile Walking Non-Marking Shoes', 'Men Black Solid Leather Formal Slip-Ons', 'Men Black Textile Walking Non-Marking Shoes', 'Men Black Textile Running Non-Marking Shoes', 'Women Black Woven Design Leather Heeled Boots', 'Women Black Solid Leather Heeled Boots', 'Women Black & Transparent Solid Leather Block Heels', 'Women Black Solid Heeled Boots', 'J FONTINI Men Black Textured Leather Loafers', 'Women Black Solid Leather Pumps', 'Men Black Solid Sneakers', 'Men Black Leather Driving Shoes', 'Women Black Solid Sneakers', 'Women Black Solid Leather Open Toe Flats', 'Men Black Solid Leather Formal Derbys', 'Men Black Solid Leather Formal Monks', 'Unisex Black Pacer Future Sneakers', 'Women Black Embellished Leather Pumps', 'Men Black Air Zoom Vomero 16 Running Shoes', 'Men Black Solid Leather Formal Slip-Ons', 'Men Black ZOOM SPAN 3 Running Shoes']\n"
     ]
    }
   ],
   "source": [
    "print(Description)"
   ]
  },
  {
   "cell_type": "code",
   "execution_count": 21,
   "metadata": {},
   "outputs": [
    {
     "name": "stdout",
     "output_type": "stream",
     "text": [
      "['Nike', 'ALDO', 'Puma', 'Hush Puppies', 'Puma', 'Puma', 'Puma', 'UNDER ARMOUR', 'Puma', 'UNDER ARMOUR', 'UNDER ARMOUR', 'UNDER ARMOUR', 'ASICS', 'Nike', 'Puma', 'Puma', 'Puma', 'Puma', 'Hush Puppies', 'ROSSO BRUNELLO', 'UNDER ARMOUR', 'UNDER ARMOUR', 'Calvin Klein', 'UNDER ARMOUR', 'FORCLAZ By Decathlon', 'Clarks', 'UNDER ARMOUR', 'Hush Puppies', 'Hush Puppies', 'ASICS', 'Puma', 'J.FONTINI', 'UNDER ARMOUR', 'ASICS', 'PUMA Hoops', 'Geox', 'Hush Puppies', 'UNDER ARMOUR', 'PUMA Motorsport', 'ROSSO BRUNELLO', 'J.FONTINI', 'UNDER ARMOUR', 'PUMA Motorsport', 'Geox', 'PUMA Motorsport', 'Puma', 'PUMA Motorsport', 'ROSSO BRUNELLO', 'Geox', 'Geox', 'PUMA Motorsport', 'RARE RABBIT', 'PUMA Motorsport', 'RARE RABBIT', 'ALDO', 'Saint G', 'ASICS', 'J.FONTINI', 'ROSSO BRUNELLO', 'Saint G', 'UNDER ARMOUR', 'Heel & Buckle London', 'Heel & Buckle London', 'KIPRUN By Decathlon', 'Puma', 'Quechua By Decathlon', 'Cole Haan', 'Cole Haan', 'Cole Haan', 'VIONIC', 'Nike', 'J.FONTINI', 'J.FONTINI', 'J.FONTINI', 'Kalenji By Decathlon', 'Geox', 'PUMA Motorsport', 'Puma', 'ASICS', 'Bugatti', 'Geox', 'Bugatti', 'Bugatti', 'Saint G', 'Saint G', 'Heel & Buckle London', 'Saint G', 'J.FONTINI', 'Kenneth Cole', 'Geox', 'Geox', 'ALDO', 'Cole Haan', 'Florsheim', 'Ruosh', 'Puma', 'Heel & Buckle London', 'Nike', 'J.FONTINI', 'Nike']\n"
     ]
    }
   ],
   "source": [
    "print(Brand2)"
   ]
  },
  {
   "cell_type": "code",
   "execution_count": 22,
   "metadata": {},
   "outputs": [
    {
     "name": "stdout",
     "output_type": "stream",
     "text": [
      "['Rs. 10295', 'Rs. 11999', 'Rs. 6999', 'Rs. 8099', 'Rs. 10999', 'Rs. 6999', 'Rs. 6999', 'Rs. 7999', 'Rs. 7999', 'Rs. 11999', 'Rs. 10999', 'Rs. 10999', 'Rs. 9999', 'Rs. 7195', 'Rs. 12749', 'Rs. 12999', 'Rs. 6999', 'Rs. 7149', 'Rs. 6999', 'Rs. 11999', 'Rs. 6999', 'Rs. 7499', 'Rs. 7649', 'Rs. 7999', 'Rs. 6999', 'Rs. 9999', 'Rs. 7499', 'Rs. 8999', 'Rs. 8999', 'Rs. 11199', 'Rs. 9999', 'Rs. 8490', 'Rs. 9999', 'Rs. 8999', 'Rs. 8999', 'Rs. 11999', 'Rs. 8999', 'Rs. 8999', 'Rs. 9999', 'Rs. 12999', 'Rs. 8990', 'Rs. 7999', 'Rs. 7999', 'Rs. 10999', 'Rs. 7999', 'Rs. 6999', 'Rs. 7999', 'Rs. 12999', 'Rs. 9999', 'Rs. 9999', 'Rs. 7999', 'Rs. 10999', 'Rs. 6999', 'Rs. 9999', 'Rs. 11999', 'Rs. 10355', 'Rs. 11199', 'Rs. 6990', 'Rs. 12999', 'Rs. 7600', 'Rs. 7999', 'Rs. 7192', 'Rs. 6993', 'Rs. 7006', 'Rs. 9999', 'Rs. 9999', 'Rs. 12999', 'Rs. 11999', 'Rs. 10999', 'Rs. 7039', 'Rs. 10295', 'Rs. 7990', 'Rs. 7990', 'Rs. 7990', 'Rs. 7773', 'Rs. 8999', 'Rs. 7999', 'Rs. 12999', 'Rs. 7999', 'Rs. 8999', 'Rs. 11242', 'Rs. 8999', 'Rs. 9999', 'Rs. 8900', 'Rs. 8500', 'Rs. 6993', 'Rs. 8000', 'Rs. 6990', 'Rs. 10493', 'Rs. 10999', 'Rs. 9999', 'Rs. 7999', 'Rs. 11999', 'Rs. 6995', 'Rs. 8990', 'Rs. 6999', 'Rs. 7192', 'Rs. 13495', 'Rs. 7990', 'Rs. 7195']\n"
     ]
    }
   ],
   "source": [
    "print(Price3)"
   ]
  },
  {
   "cell_type": "code",
   "execution_count": 23,
   "metadata": {},
   "outputs": [
    {
     "data": {
      "text/html": [
       "<div>\n",
       "<style scoped>\n",
       "    .dataframe tbody tr th:only-of-type {\n",
       "        vertical-align: middle;\n",
       "    }\n",
       "\n",
       "    .dataframe tbody tr th {\n",
       "        vertical-align: top;\n",
       "    }\n",
       "\n",
       "    .dataframe thead th {\n",
       "        text-align: right;\n",
       "    }\n",
       "</style>\n",
       "<table border=\"1\" class=\"dataframe\">\n",
       "  <thead>\n",
       "    <tr style=\"text-align: right;\">\n",
       "      <th></th>\n",
       "      <th>Brand</th>\n",
       "      <th>Description</th>\n",
       "      <th>Price</th>\n",
       "    </tr>\n",
       "  </thead>\n",
       "  <tbody>\n",
       "    <tr>\n",
       "      <th>0</th>\n",
       "      <td>Nike</td>\n",
       "      <td>Men Black Solid Air Zoom Structure 24 Running ...</td>\n",
       "      <td>Rs. 10295</td>\n",
       "    </tr>\n",
       "    <tr>\n",
       "      <th>1</th>\n",
       "      <td>ALDO</td>\n",
       "      <td>Men Black Driving Shoes</td>\n",
       "      <td>Rs. 11999</td>\n",
       "    </tr>\n",
       "    <tr>\n",
       "      <th>2</th>\n",
       "      <td>Puma</td>\n",
       "      <td>Men Black Cell Fraction Fade Running Shoes</td>\n",
       "      <td>Rs. 6999</td>\n",
       "    </tr>\n",
       "    <tr>\n",
       "      <th>3</th>\n",
       "      <td>Hush Puppies</td>\n",
       "      <td>Men Black Solid Leather Formal Slip-Ons</td>\n",
       "      <td>Rs. 8099</td>\n",
       "    </tr>\n",
       "    <tr>\n",
       "      <th>4</th>\n",
       "      <td>Puma</td>\n",
       "      <td>Men Black Velocity Nitro Running Shoes</td>\n",
       "      <td>Rs. 10999</td>\n",
       "    </tr>\n",
       "    <tr>\n",
       "      <th>...</th>\n",
       "      <td>...</td>\n",
       "      <td>...</td>\n",
       "      <td>...</td>\n",
       "    </tr>\n",
       "    <tr>\n",
       "      <th>95</th>\n",
       "      <td>Puma</td>\n",
       "      <td>Unisex Black Pacer Future Sneakers</td>\n",
       "      <td>Rs. 6999</td>\n",
       "    </tr>\n",
       "    <tr>\n",
       "      <th>96</th>\n",
       "      <td>Heel &amp; Buckle London</td>\n",
       "      <td>Women Black Embellished Leather Pumps</td>\n",
       "      <td>Rs. 7192</td>\n",
       "    </tr>\n",
       "    <tr>\n",
       "      <th>97</th>\n",
       "      <td>Nike</td>\n",
       "      <td>Men Black Air Zoom Vomero 16 Running Shoes</td>\n",
       "      <td>Rs. 13495</td>\n",
       "    </tr>\n",
       "    <tr>\n",
       "      <th>98</th>\n",
       "      <td>J.FONTINI</td>\n",
       "      <td>Men Black Solid Leather Formal Slip-Ons</td>\n",
       "      <td>Rs. 7990</td>\n",
       "    </tr>\n",
       "    <tr>\n",
       "      <th>99</th>\n",
       "      <td>Nike</td>\n",
       "      <td>Men Black ZOOM SPAN 3 Running Shoes</td>\n",
       "      <td>Rs. 7195</td>\n",
       "    </tr>\n",
       "  </tbody>\n",
       "</table>\n",
       "<p>100 rows × 3 columns</p>\n",
       "</div>"
      ],
      "text/plain": [
       "                   Brand                                        Description  \\\n",
       "0                   Nike  Men Black Solid Air Zoom Structure 24 Running ...   \n",
       "1                   ALDO                            Men Black Driving Shoes   \n",
       "2                   Puma         Men Black Cell Fraction Fade Running Shoes   \n",
       "3           Hush Puppies            Men Black Solid Leather Formal Slip-Ons   \n",
       "4                   Puma             Men Black Velocity Nitro Running Shoes   \n",
       "..                   ...                                                ...   \n",
       "95                  Puma                 Unisex Black Pacer Future Sneakers   \n",
       "96  Heel & Buckle London              Women Black Embellished Leather Pumps   \n",
       "97                  Nike         Men Black Air Zoom Vomero 16 Running Shoes   \n",
       "98             J.FONTINI            Men Black Solid Leather Formal Slip-Ons   \n",
       "99                  Nike                Men Black ZOOM SPAN 3 Running Shoes   \n",
       "\n",
       "        Price  \n",
       "0   Rs. 10295  \n",
       "1   Rs. 11999  \n",
       "2    Rs. 6999  \n",
       "3    Rs. 8099  \n",
       "4   Rs. 10999  \n",
       "..        ...  \n",
       "95   Rs. 6999  \n",
       "96   Rs. 7192  \n",
       "97  Rs. 13495  \n",
       "98   Rs. 7990  \n",
       "99   Rs. 7195  \n",
       "\n",
       "[100 rows x 3 columns]"
      ]
     },
     "execution_count": 23,
     "metadata": {},
     "output_type": "execute_result"
    }
   ],
   "source": [
    "df_myntra= pd.DataFrame({})\n",
    "df_myntra[\"Brand\"] = Brand2[:100]\n",
    "df_myntra[\"Description\"] = Description[:100]\n",
    "df_myntra[\"Price\"] = Price3[:100]\n",
    "df_myntra"
   ]
  },
  {
   "cell_type": "code",
   "execution_count": null,
   "metadata": {},
   "outputs": [],
   "source": []
  },
  {
   "cell_type": "code",
   "execution_count": null,
   "metadata": {},
   "outputs": [],
   "source": []
  },
  {
   "cell_type": "markdown",
   "metadata": {},
   "source": [
    "# Q10: Go to webpage https://www.amazon.in/\n",
    "Enter “Laptop” in the search field and then click the search icon.\n",
    "Then set CPU Type filter to “Intel Core i7” and “Intel Core i9” as shown in the below image:"
   ]
  },
  {
   "cell_type": "code",
   "execution_count": 24,
   "metadata": {},
   "outputs": [],
   "source": [
    "driver = webdriver.Chrome(\"chromedriver.exe\")\n",
    "url = \"https://www.amazon.in/\"\n",
    "driver.get(url)"
   ]
  },
  {
   "cell_type": "code",
   "execution_count": 25,
   "metadata": {},
   "outputs": [
    {
     "data": {
      "text/plain": [
       "<selenium.webdriver.remote.webelement.WebElement (session=\"00f30fc3867949be042d8c5b756d1594\", element=\"39220e3c-7078-43fd-83dd-a10c0a561d8f\")>"
      ]
     },
     "execution_count": 25,
     "metadata": {},
     "output_type": "execute_result"
    }
   ],
   "source": [
    "varsearch9 = driver.find_element_by_id(\"twotabsearchtextbox\")\n",
    "varsearch9"
   ]
  },
  {
   "cell_type": "code",
   "execution_count": 26,
   "metadata": {},
   "outputs": [
    {
     "data": {
      "text/plain": [
       "<selenium.webdriver.remote.webelement.WebElement (session=\"00f30fc3867949be042d8c5b756d1594\", element=\"39220e3c-7078-43fd-83dd-a10c0a561d8f\")>"
      ]
     },
     "execution_count": 26,
     "metadata": {},
     "output_type": "execute_result"
    }
   ],
   "source": [
    "varsearch9.send_keys(\"Laptop\")\n",
    "varsearch9"
   ]
  },
  {
   "cell_type": "code",
   "execution_count": 27,
   "metadata": {},
   "outputs": [
    {
     "data": {
      "text/plain": [
       "<selenium.webdriver.remote.webelement.WebElement (session=\"00f30fc3867949be042d8c5b756d1594\", element=\"7543040a-81fb-46ab-8600-aa8c295fd293\")>"
      ]
     },
     "execution_count": 27,
     "metadata": {},
     "output_type": "execute_result"
    }
   ],
   "source": [
    "button10 = driver.find_element_by_id(\"nav-search-submit-button\")\n",
    "button10"
   ]
  },
  {
   "cell_type": "code",
   "execution_count": 28,
   "metadata": {},
   "outputs": [],
   "source": [
    "button10.click()\n"
   ]
  },
  {
   "cell_type": "code",
   "execution_count": 29,
   "metadata": {},
   "outputs": [],
   "source": [
    "filter3 = driver.find_elements_by_xpath(\"//a[@class='a-link-normal s-navigation-item']/span\")\n",
    "for i in filter3:\n",
    "    if i.text == \"Intel Core i7\":\n",
    "        i.click()\n",
    "        break"
   ]
  },
  {
   "cell_type": "code",
   "execution_count": 30,
   "metadata": {},
   "outputs": [],
   "source": [
    "filter3 = driver.find_elements_by_xpath(\"//a[@class='a-link-normal s-navigation-item']/span\")\n",
    "for a in filter3:\n",
    "    if a.text == \"Intel Core i9\":\n",
    "        a.click()\n",
    "        break"
   ]
  },
  {
   "cell_type": "code",
   "execution_count": 31,
   "metadata": {},
   "outputs": [],
   "source": [
    "urls4 = []\n",
    "for b in driver.find_elements_by_xpath(\"//a[@class='a-link-normal a-text-normal']\"):\n",
    "    urls4.append(b.get_attribute(\"href\"))"
   ]
  },
  {
   "cell_type": "code",
   "execution_count": 32,
   "metadata": {},
   "outputs": [
    {
     "data": {
      "text/plain": [
       "27"
      ]
     },
     "execution_count": 32,
     "metadata": {},
     "output_type": "execute_result"
    }
   ],
   "source": [
    "len(urls4)"
   ]
  },
  {
   "cell_type": "code",
   "execution_count": 33,
   "metadata": {},
   "outputs": [],
   "source": [
    "Title10 = []\n",
    "Ratings10 = []\n",
    "Price10 = []"
   ]
  },
  {
   "cell_type": "code",
   "execution_count": 34,
   "metadata": {},
   "outputs": [],
   "source": [
    "for i in urls4:\n",
    "    driver.get(i)\n",
    "    time.sleep(5)\n",
    "    '''\n",
    "    try:\n",
    "        title10 = driver.find_element_by_xpath(\"//span[@class='a-size-large product-title-word-break']\")\n",
    "        Tiltle10.append(title10.text)\n",
    "    except:\n",
    "        Title10.append(\"--\")\n",
    "    '''   \n",
    "    try:\n",
    "        rate10 = driver.find_element_by_xpath(\"//span[@class='a-size-base a-nowrap']\")\n",
    "        Ratings10.append(rate10.text)\n",
    "    except:\n",
    "        Ratings10.append(\"--\")\n",
    "    try:\n",
    "        price10 = driver.find_element_by_xpath(\"//span[@class='a-size-medium a-color-price priceBlockBuyingPriceString']\")\n",
    "        Price10.append(price10.text)\n",
    "    except:\n",
    "        Price10.append(\"--\")"
   ]
  },
  {
   "cell_type": "code",
   "execution_count": 35,
   "metadata": {},
   "outputs": [],
   "source": [
    "for i in urls4:\n",
    "    driver.get(i)\n",
    "    time.sleep(5)\n",
    "    title10 = driver.find_element_by_xpath(\"//span[@class='a-size-large product-title-word-break']\")\n",
    "    Title10.append(title10.text)"
   ]
  },
  {
   "cell_type": "code",
   "execution_count": 36,
   "metadata": {
    "scrolled": true
   },
   "outputs": [
    {
     "name": "stdout",
     "output_type": "stream",
     "text": [
      "['Dell XPS 9370 13.3-inch FHD Display Thin & Light Laptop (8th Gen i7-8550U/16GB/512GB SSD/Win 10 + MS Office/Integrated Graphics), Gold', 'HP Envy 11th Gen Core i7 Processor 13.3-inch (33.78 cms) FHD Touchscreen Laptop (16GB/1TB SSD/Win 10/NVIDIA MX450 2GB/Natural Silver/1.3 kg), 13-ba1018TX', 'Mi Notebook Ultra 3K Resolution Display Intel Core i7-11370H 11th Gen 15.6-inch(39.62 cms) Thin and Light Laptop (16GB/512GB SSD/Iris Xe Graphics/Win 10/MS Office/Backlit KB/Fingerprint Sensor/1.7Kg)', 'Lenovo IdeaPad S540 11th Gen Intel Core i7 13.3\" QHD IPS Thin & Light Laptop (16GB/512GB SSD/Windows 10/MS Office 2019/Intel Iris Xe Graphics/Iron Grey/1.28Kg), 82H1002CIN', 'ASUS TUF Dash F15 (2021), 15.6-inch (39.62 cms) FHD 144Hz, Intel Core i7-11370H 11th Gen, RTX 3050 4GB Graphics Gaming Laptop (16GB RAM/512GB SSD/Windows 10/Gray/2 kg), FX516PC-HN063T', 'ASUS ROG G703GI-E5148T 17.3\" (43.94 cms) FHD 144Hz/3ms Gaming Laptop (8th Gen Intel Core i9-8950HK/64GB/2TB SSHD + 1.5TB NVMe SSD/Windows 10/GTX 1080 8GB Graphics/4.70 Kg), Aluminum', 'Mi Notebook Horizon Edition 14 Intel Core i7-10510U 10th Gen Thin and Light Laptop(8GB/512GB SSD/Windows 10/Nvidia MX350 2GB Graphics/Grey/1.35Kg)(Without Webcam) XMA1904-AF', 'Lenovo IdeaPad Gaming 3 Intel Core i7 10th Gen 15.6\" FHD IPS 250Nits Gaming Laptop (8GB/512GB SSD/Win10/NVIDIA GTX 1650 4GB GDDR6 Graphics/120Hz/Onyx Black/2.2Kg), 81Y4019EIN', 'MSI GF75 Thin, Intel i7-10750H, 17.3\" (43.9 cm) FHD IPS-Level 144Hz Panel Laptop (8GB/512GB NVMe SSD/Windows 10 Home/Nvidia GTX1650 4GB GDDR6/Black/2.2Kg), 10SCXR-654IN', 'Acer Nitro 5 Core i7 11th Gen 15.6\" (39.62cms) Full HD IPS Gaming Laptop (16 GB/256GB SSD/1 TB HDD/Win 10/4 GB Graphics/NVIDIA GeForce RTX 3050 Ti/144 Hz, Black, 2.4 kg) AN515-57', 'ASUS TUF Gaming F17 (2021), 17.3-inch (43.94 cms) FHD 144Hz, Intel Core i7-11800H 11th Gen, GeForce RTX 3050 Ti 4GB Graphics, Gaming Laptop (16GB/1TB SSD/Windows 10/Eclipse Gray/2.6 Kg) FX766HE-HX022T', 'HP Pavilion 13(2021) 11th Gen Intel Core i7 Laptop, 16GB RAM, 1TB SSD, 13.3-inch(33.8 cm) FHD Screen, Win 10, MS Office, Ceramic White, 1.24 Kg (13-bb0078TU)', 'HP Pavilion Gaming 11th Gen Intel Core i7 15.6-inch(39.6 cm) FHD Gaming Laptop (16GB RAM/512GB SSD/144Hz/GTX 1650 4GB Graphics/Win 10/MS Office/Shadow Black/2.28 Kg), 15-dk2075tx', 'Fujitsu UH-X 11th Gen Intel Core i7 13.3” (33.78cm) FHD IPS 400Nits 2-in1 Touch Convertible Laptop (16GB/1TB SSD/Win10/Office/Iris Xe Graphics/Backlit Kb/Black/997gms), 4ZR1D71993', 'Acer Swift 5 14\" (35.56cms) Full HD IPS Display with Touchscreen Ultra Thin and Light Notebook (Intel i7 - 11th Gen/16GB RAM/1TB SSD/Win10/Intel Iris Xe Graphics/1.05 Kg/Mist Green), SF514-55TA', 'Fujitsu UH-X 11th Gen Intel i7 Core 13.3” (33.78cm) FHD IPS 400Nits Thin and Light Laptop (16GB/512GB SSD/Win10/Office/Iris Xe Graphics/Backlit Kb/ Fingerprint Reader/Black/878gms), 4ZR1D67596', 'Lenovo IdeaPad Gaming 3 11th Gen Intel Core i7-11370H 15.6\" (39.63cm) FHD IPS Gaming Laptop (8GB/512GB SSD/Windows 10/NVIDIA RTX 3050 4GB/120Hz Refresh Display/Shadow Black/2.25Kg), 82K1004EIN', 'ASUS ZenBook 14 (2020) Intel Core i7-1165G7 11th Gen 14\" (35.56cms) FHD T&L Laptop (16GB RAM/512GB NVMe SSD/Windows 10/MS Office 2019/Intel Iris Xáµ‰ Graphics/Pine Grey/1.17 kg), UX425EA-BM701TS', 'Lenovo Yoga 7 11th Gen Intel Core i7 14\" Full HD IPS 2-in-1 Touchscreen Laptop (16GB/512GB SSD/Windows 10/MS Office 2019/Lenovo Digital Pen/Slate Grey/Aluminium Surface/1.43Kg), 82BH00E0IN', 'HP Omen X 2S Core i9 9th Gen 15.6-inch Dual Screen Gaming Laptop (16GB/2TB SSD/Windows 10/8GB NVIDIA RTX 2080 Graphics/Shadow Black), 15-dg0019TX', 'ASUS ZenBook 14 (2020) Intel Core i7-1165G7 11th Gen 14-inch (35.56 cms) FHD Thin & Light Laptop (16GB/512GB SSD/Office 2019/Windows 10/Intel Iris Xᵉ Graphics/Pine Grey/1.17 kg), UX425EA-KI701TS', 'ASUS TUF Gaming F15 (2021), 15.6-inch (39.62 cms) FHD 144Hz, Intel Core i7-11800H 11th Gen, GeForce RTX 3050 4GB Graphics, Gaming Laptop (8GB/512GB SSD/Windows 10/Eclipse Gray/2.3 Kg), FX566HC-HN093T', '(Renewed) Hp Intel 4th Gen Core i7 15.6-inch (39.56 Cms) 1920 x 1080 Laptop (16GB RAM /1TB SSD/Windows 10 Pro/MS Office/NVIDIA Graphics/ Gray/2.5kg) HP ZBook 15 Mobile Workstation', 'Lenovo Legion 5 11th Gen Intel Core i7 15.6\"(39.62cm) FHD IPS Gaming Laptop (16GB/512GB SSD/NVIDIA RTX 3050 4GB/120Hz Refresh Rate/Windows 10/MS Office/Backlit Keyboard/Phantom Blue/2.4Kg), 82JK007WIN', 'Acer Nitro 5 Core i5 11th Gen 15.6\" (39.62cms) Full HD IPS Gaming Laptop (8 GB/512GB SSD/Win 10/4 GB Graphics/NVIDIA GeForce GTX 1650/144 Hz, Shale Black, 2.2 kg) AN515-57', 'MSI GF65 Thin 10SDR 15.6\" FHD Gaming Laptop - Black I Core i7-10750H+HM470 I DDR4 16GB I 512GB NVMe PCIe Gen3x4 SSD (New) I NVIDIA GPU GTX1660 Ti, GDDR6 6GB I Windows 10 Home', '(Renewed) Hp Intel 4th Gen Core i7 15.6-inch (39.56 Cms) 1920 x 1080 Laptop (32GB RAM/512GB SSD/Windows 10 Pro/MS Office/NVIDIA Graphics/ Gray/2.5kg) HP ZBook 15 Mobile Workstation']\n"
     ]
    }
   ],
   "source": [
    "print(Title10)"
   ]
  },
  {
   "cell_type": "code",
   "execution_count": 37,
   "metadata": {},
   "outputs": [
    {
     "name": "stdout",
     "output_type": "stream",
     "text": [
      "['2.8 out of 5', '4.1 out of 5', '4.3 out of 5', '4.3 out of 5', '3.8 out of 5', '3.9 out of 5', '4.2 out of 5', '4.4 out of 5', '4 out of 5', '5 out of 5', '--', '5 out of 5', '3.7 out of 5', '4 out of 5', '3.7 out of 5', '4.2 out of 5', '4.5 out of 5', '4.4 out of 5', '2.4 out of 5', '4.5 out of 5', '5 out of 5', '3.3 out of 5', '--', '--', '--', '3.5 out of 5', '--']\n"
     ]
    }
   ],
   "source": [
    "print(Ratings10)"
   ]
  },
  {
   "cell_type": "code",
   "execution_count": 38,
   "metadata": {},
   "outputs": [
    {
     "name": "stdout",
     "output_type": "stream",
     "text": [
      "['₹1,14,990.00', '₹1,23,550.00', '₹76,999.00', '₹77,990.00', '₹87,990.00', '₹5,56,524.00', '₹57,990.00', '₹73,990.00', '₹74,990.00', '₹1,05,227.00', '₹1,13,990.00', '₹92,990.00', '₹93,190.00', '₹1,07,990.00', '₹94,999.00', '₹92,990.00', '₹84,990.00', '₹99,990.00', '₹97,989.00', '₹3,45,000.00', '₹96,900.00', '₹96,990.00', '₹47,999.00', '₹1,25,380.00', '₹71,990.00', '₹92,890.00', '₹50,999.00']\n"
     ]
    }
   ],
   "source": [
    "print(Price10)"
   ]
  },
  {
   "cell_type": "code",
   "execution_count": 39,
   "metadata": {},
   "outputs": [
    {
     "data": {
      "text/html": [
       "<div>\n",
       "<style scoped>\n",
       "    .dataframe tbody tr th:only-of-type {\n",
       "        vertical-align: middle;\n",
       "    }\n",
       "\n",
       "    .dataframe tbody tr th {\n",
       "        vertical-align: top;\n",
       "    }\n",
       "\n",
       "    .dataframe thead th {\n",
       "        text-align: right;\n",
       "    }\n",
       "</style>\n",
       "<table border=\"1\" class=\"dataframe\">\n",
       "  <thead>\n",
       "    <tr style=\"text-align: right;\">\n",
       "      <th></th>\n",
       "      <th>Title</th>\n",
       "      <th>Ratings</th>\n",
       "      <th>Price</th>\n",
       "    </tr>\n",
       "  </thead>\n",
       "  <tbody>\n",
       "    <tr>\n",
       "      <th>0</th>\n",
       "      <td>Dell XPS 9370 13.3-inch FHD Display Thin &amp; Lig...</td>\n",
       "      <td>2.8 out of 5</td>\n",
       "      <td>₹1,14,990.00</td>\n",
       "    </tr>\n",
       "    <tr>\n",
       "      <th>1</th>\n",
       "      <td>HP Envy 11th Gen Core i7 Processor 13.3-inch (...</td>\n",
       "      <td>4.1 out of 5</td>\n",
       "      <td>₹1,23,550.00</td>\n",
       "    </tr>\n",
       "    <tr>\n",
       "      <th>2</th>\n",
       "      <td>Mi Notebook Ultra 3K Resolution Display Intel ...</td>\n",
       "      <td>4.3 out of 5</td>\n",
       "      <td>₹76,999.00</td>\n",
       "    </tr>\n",
       "    <tr>\n",
       "      <th>3</th>\n",
       "      <td>Lenovo IdeaPad S540 11th Gen Intel Core i7 13....</td>\n",
       "      <td>4.3 out of 5</td>\n",
       "      <td>₹77,990.00</td>\n",
       "    </tr>\n",
       "    <tr>\n",
       "      <th>4</th>\n",
       "      <td>ASUS TUF Dash F15 (2021), 15.6-inch (39.62 cms...</td>\n",
       "      <td>3.8 out of 5</td>\n",
       "      <td>₹87,990.00</td>\n",
       "    </tr>\n",
       "    <tr>\n",
       "      <th>5</th>\n",
       "      <td>ASUS ROG G703GI-E5148T 17.3\" (43.94 cms) FHD 1...</td>\n",
       "      <td>3.9 out of 5</td>\n",
       "      <td>₹5,56,524.00</td>\n",
       "    </tr>\n",
       "    <tr>\n",
       "      <th>6</th>\n",
       "      <td>Mi Notebook Horizon Edition 14 Intel Core i7-1...</td>\n",
       "      <td>4.2 out of 5</td>\n",
       "      <td>₹57,990.00</td>\n",
       "    </tr>\n",
       "    <tr>\n",
       "      <th>7</th>\n",
       "      <td>Lenovo IdeaPad Gaming 3 Intel Core i7 10th Gen...</td>\n",
       "      <td>4.4 out of 5</td>\n",
       "      <td>₹73,990.00</td>\n",
       "    </tr>\n",
       "    <tr>\n",
       "      <th>8</th>\n",
       "      <td>MSI GF75 Thin, Intel i7-10750H, 17.3\" (43.9 cm...</td>\n",
       "      <td>4 out of 5</td>\n",
       "      <td>₹74,990.00</td>\n",
       "    </tr>\n",
       "    <tr>\n",
       "      <th>9</th>\n",
       "      <td>Acer Nitro 5 Core i7 11th Gen 15.6\" (39.62cms)...</td>\n",
       "      <td>5 out of 5</td>\n",
       "      <td>₹1,05,227.00</td>\n",
       "    </tr>\n",
       "    <tr>\n",
       "      <th>10</th>\n",
       "      <td>ASUS TUF Gaming F17 (2021), 17.3-inch (43.94 c...</td>\n",
       "      <td>--</td>\n",
       "      <td>₹1,13,990.00</td>\n",
       "    </tr>\n",
       "    <tr>\n",
       "      <th>11</th>\n",
       "      <td>HP Pavilion 13(2021) 11th Gen Intel Core i7 La...</td>\n",
       "      <td>5 out of 5</td>\n",
       "      <td>₹92,990.00</td>\n",
       "    </tr>\n",
       "    <tr>\n",
       "      <th>12</th>\n",
       "      <td>HP Pavilion Gaming 11th Gen Intel Core i7 15.6...</td>\n",
       "      <td>3.7 out of 5</td>\n",
       "      <td>₹93,190.00</td>\n",
       "    </tr>\n",
       "    <tr>\n",
       "      <th>13</th>\n",
       "      <td>Fujitsu UH-X 11th Gen Intel Core i7 13.3” (33....</td>\n",
       "      <td>4 out of 5</td>\n",
       "      <td>₹1,07,990.00</td>\n",
       "    </tr>\n",
       "    <tr>\n",
       "      <th>14</th>\n",
       "      <td>Acer Swift 5 14\" (35.56cms) Full HD IPS Displa...</td>\n",
       "      <td>3.7 out of 5</td>\n",
       "      <td>₹94,999.00</td>\n",
       "    </tr>\n",
       "    <tr>\n",
       "      <th>15</th>\n",
       "      <td>Fujitsu UH-X 11th Gen Intel i7 Core 13.3” (33....</td>\n",
       "      <td>4.2 out of 5</td>\n",
       "      <td>₹92,990.00</td>\n",
       "    </tr>\n",
       "    <tr>\n",
       "      <th>16</th>\n",
       "      <td>Lenovo IdeaPad Gaming 3 11th Gen Intel Core i7...</td>\n",
       "      <td>4.5 out of 5</td>\n",
       "      <td>₹84,990.00</td>\n",
       "    </tr>\n",
       "    <tr>\n",
       "      <th>17</th>\n",
       "      <td>ASUS ZenBook 14 (2020) Intel Core i7-1165G7 11...</td>\n",
       "      <td>4.4 out of 5</td>\n",
       "      <td>₹99,990.00</td>\n",
       "    </tr>\n",
       "    <tr>\n",
       "      <th>18</th>\n",
       "      <td>Lenovo Yoga 7 11th Gen Intel Core i7 14\" Full ...</td>\n",
       "      <td>2.4 out of 5</td>\n",
       "      <td>₹97,989.00</td>\n",
       "    </tr>\n",
       "    <tr>\n",
       "      <th>19</th>\n",
       "      <td>HP Omen X 2S Core i9 9th Gen 15.6-inch Dual Sc...</td>\n",
       "      <td>4.5 out of 5</td>\n",
       "      <td>₹3,45,000.00</td>\n",
       "    </tr>\n",
       "    <tr>\n",
       "      <th>20</th>\n",
       "      <td>ASUS ZenBook 14 (2020) Intel Core i7-1165G7 11...</td>\n",
       "      <td>5 out of 5</td>\n",
       "      <td>₹96,900.00</td>\n",
       "    </tr>\n",
       "    <tr>\n",
       "      <th>21</th>\n",
       "      <td>ASUS TUF Gaming F15 (2021), 15.6-inch (39.62 c...</td>\n",
       "      <td>3.3 out of 5</td>\n",
       "      <td>₹96,990.00</td>\n",
       "    </tr>\n",
       "    <tr>\n",
       "      <th>22</th>\n",
       "      <td>(Renewed) Hp Intel 4th Gen Core i7 15.6-inch (...</td>\n",
       "      <td>--</td>\n",
       "      <td>₹47,999.00</td>\n",
       "    </tr>\n",
       "    <tr>\n",
       "      <th>23</th>\n",
       "      <td>Lenovo Legion 5 11th Gen Intel Core i7 15.6\"(3...</td>\n",
       "      <td>--</td>\n",
       "      <td>₹1,25,380.00</td>\n",
       "    </tr>\n",
       "    <tr>\n",
       "      <th>24</th>\n",
       "      <td>Acer Nitro 5 Core i5 11th Gen 15.6\" (39.62cms)...</td>\n",
       "      <td>--</td>\n",
       "      <td>₹71,990.00</td>\n",
       "    </tr>\n",
       "    <tr>\n",
       "      <th>25</th>\n",
       "      <td>MSI GF65 Thin 10SDR 15.6\" FHD Gaming Laptop - ...</td>\n",
       "      <td>3.5 out of 5</td>\n",
       "      <td>₹92,890.00</td>\n",
       "    </tr>\n",
       "    <tr>\n",
       "      <th>26</th>\n",
       "      <td>(Renewed) Hp Intel 4th Gen Core i7 15.6-inch (...</td>\n",
       "      <td>--</td>\n",
       "      <td>₹50,999.00</td>\n",
       "    </tr>\n",
       "  </tbody>\n",
       "</table>\n",
       "</div>"
      ],
      "text/plain": [
       "                                                Title       Ratings  \\\n",
       "0   Dell XPS 9370 13.3-inch FHD Display Thin & Lig...  2.8 out of 5   \n",
       "1   HP Envy 11th Gen Core i7 Processor 13.3-inch (...  4.1 out of 5   \n",
       "2   Mi Notebook Ultra 3K Resolution Display Intel ...  4.3 out of 5   \n",
       "3   Lenovo IdeaPad S540 11th Gen Intel Core i7 13....  4.3 out of 5   \n",
       "4   ASUS TUF Dash F15 (2021), 15.6-inch (39.62 cms...  3.8 out of 5   \n",
       "5   ASUS ROG G703GI-E5148T 17.3\" (43.94 cms) FHD 1...  3.9 out of 5   \n",
       "6   Mi Notebook Horizon Edition 14 Intel Core i7-1...  4.2 out of 5   \n",
       "7   Lenovo IdeaPad Gaming 3 Intel Core i7 10th Gen...  4.4 out of 5   \n",
       "8   MSI GF75 Thin, Intel i7-10750H, 17.3\" (43.9 cm...    4 out of 5   \n",
       "9   Acer Nitro 5 Core i7 11th Gen 15.6\" (39.62cms)...    5 out of 5   \n",
       "10  ASUS TUF Gaming F17 (2021), 17.3-inch (43.94 c...            --   \n",
       "11  HP Pavilion 13(2021) 11th Gen Intel Core i7 La...    5 out of 5   \n",
       "12  HP Pavilion Gaming 11th Gen Intel Core i7 15.6...  3.7 out of 5   \n",
       "13  Fujitsu UH-X 11th Gen Intel Core i7 13.3” (33....    4 out of 5   \n",
       "14  Acer Swift 5 14\" (35.56cms) Full HD IPS Displa...  3.7 out of 5   \n",
       "15  Fujitsu UH-X 11th Gen Intel i7 Core 13.3” (33....  4.2 out of 5   \n",
       "16  Lenovo IdeaPad Gaming 3 11th Gen Intel Core i7...  4.5 out of 5   \n",
       "17  ASUS ZenBook 14 (2020) Intel Core i7-1165G7 11...  4.4 out of 5   \n",
       "18  Lenovo Yoga 7 11th Gen Intel Core i7 14\" Full ...  2.4 out of 5   \n",
       "19  HP Omen X 2S Core i9 9th Gen 15.6-inch Dual Sc...  4.5 out of 5   \n",
       "20  ASUS ZenBook 14 (2020) Intel Core i7-1165G7 11...    5 out of 5   \n",
       "21  ASUS TUF Gaming F15 (2021), 15.6-inch (39.62 c...  3.3 out of 5   \n",
       "22  (Renewed) Hp Intel 4th Gen Core i7 15.6-inch (...            --   \n",
       "23  Lenovo Legion 5 11th Gen Intel Core i7 15.6\"(3...            --   \n",
       "24  Acer Nitro 5 Core i5 11th Gen 15.6\" (39.62cms)...            --   \n",
       "25  MSI GF65 Thin 10SDR 15.6\" FHD Gaming Laptop - ...  3.5 out of 5   \n",
       "26  (Renewed) Hp Intel 4th Gen Core i7 15.6-inch (...            --   \n",
       "\n",
       "           Price  \n",
       "0   ₹1,14,990.00  \n",
       "1   ₹1,23,550.00  \n",
       "2     ₹76,999.00  \n",
       "3     ₹77,990.00  \n",
       "4     ₹87,990.00  \n",
       "5   ₹5,56,524.00  \n",
       "6     ₹57,990.00  \n",
       "7     ₹73,990.00  \n",
       "8     ₹74,990.00  \n",
       "9   ₹1,05,227.00  \n",
       "10  ₹1,13,990.00  \n",
       "11    ₹92,990.00  \n",
       "12    ₹93,190.00  \n",
       "13  ₹1,07,990.00  \n",
       "14    ₹94,999.00  \n",
       "15    ₹92,990.00  \n",
       "16    ₹84,990.00  \n",
       "17    ₹99,990.00  \n",
       "18    ₹97,989.00  \n",
       "19  ₹3,45,000.00  \n",
       "20    ₹96,900.00  \n",
       "21    ₹96,990.00  \n",
       "22    ₹47,999.00  \n",
       "23  ₹1,25,380.00  \n",
       "24    ₹71,990.00  \n",
       "25    ₹92,890.00  \n",
       "26    ₹50,999.00  "
      ]
     },
     "execution_count": 39,
     "metadata": {},
     "output_type": "execute_result"
    }
   ],
   "source": [
    "df_amazon = pd.DataFrame({})\n",
    "df_amazon[\"Title\"] = Title10\n",
    "df_amazon[\"Ratings\"] = Ratings10\n",
    "df_amazon[\"Price\"] = Price10\n",
    "df_amazon"
   ]
  },
  {
   "cell_type": "code",
   "execution_count": null,
   "metadata": {},
   "outputs": [],
   "source": []
  }
 ],
 "metadata": {
  "kernelspec": {
   "display_name": "Python 3",
   "language": "python",
   "name": "python3"
  },
  "language_info": {
   "codemirror_mode": {
    "name": "ipython",
    "version": 3
   },
   "file_extension": ".py",
   "mimetype": "text/x-python",
   "name": "python",
   "nbconvert_exporter": "python",
   "pygments_lexer": "ipython3",
   "version": "3.8.5"
  }
 },
 "nbformat": 4,
 "nbformat_minor": 4
}
